{
 "cells": [
  {
   "cell_type": "code",
   "execution_count": 1,
   "id": "050ec390",
   "metadata": {},
   "outputs": [],
   "source": [
    "#!/usr/bin/env python3\n",
    "\n",
    "# author: Michael A. Perlin (github.com/perlinm)\n",
    "\n",
    "import itertools, numpy, qiskit\n",
    "import circuit_cutter\n",
    "import mlrecon_methods as ml\n",
    "\n",
    "import numpy as np\n",
    "import qiskit\n",
    "from qiskit import *\n",
    "from qiskit import QuantumCircuit, QuantumRegister, ClassicalRegister, Aer, execute, transpile\n",
    "\n",
    "from qiskit.transpiler import PassManager\n",
    "\n",
    "from qiskit.converters import circuit_to_dag\n",
    "from qiskit.visualization import dag_drawer, plot_histogram\n",
    "from qiskit.compiler import assemble\n",
    "from qiskit.tools.monitor import job_monitor\n",
    "\n",
    "# The pulse simulator\n",
    "from qiskit.providers.aer import PulseSimulator\n",
    "\n",
    "from qiskit.tools.monitor import job_monitor, backend_monitor, backend_overview\n",
    "\n",
    "import qiskit.providers.aer.noise as noise\n",
    "from qiskit.providers.aer.noise import NoiseModel"
   ]
  },
  {
   "cell_type": "code",
   "execution_count": 2,
   "id": "da4a5c76",
   "metadata": {},
   "outputs": [],
   "source": [
    "numpy.set_printoptions(linewidth = 200)\n",
    "\n",
    "shots = 8192 * 24\n",
    "\n",
    "qubits = 6\n",
    "\n",
    "# # should be \"GHZ\", \"cascade\", \"dense\", or \"clustered\"\n",
    "# circuit_type = \"GHZ\"\n",
    "# layers = 1 # number of gate layers\n",
    "\n",
    "# qubits = 6 # number of qubits\n",
    "# frag_num = 2 # number of fragments\n",
    "\n",
    "simulation_backend = \"qasm_simulator\"\n",
    "\n",
    "seed = 0\n",
    "print_circuits = True"
   ]
  },
  {
   "cell_type": "code",
   "execution_count": 3,
   "id": "cc3edfd5",
   "metadata": {},
   "outputs": [
    {
     "name": "stderr",
     "output_type": "stream",
     "text": [
      "/Users/revilooliver/Documents/quantum_computing/anaconda/anaconda3/envs/quantum/lib/python3.7/site-packages/qiskit/providers/ibmq/ibmqfactory.py:192: UserWarning: Timestamps in IBMQ backend properties, jobs, and job results are all now in local time instead of UTC.\n",
      "  warnings.warn('Timestamps in IBMQ backend properties, jobs, and job results '\n"
     ]
    },
    {
     "data": {
      "text/plain": [
       "[<IBMQSimulator('ibmq_qasm_simulator') from IBMQ(hub='ibm-q-ornl', group='ornl', project='chm185')>,\n",
       " <IBMQBackend('ibmq_montreal') from IBMQ(hub='ibm-q-ornl', group='ornl', project='chm185')>,\n",
       " <IBMQBackend('ibmq_toronto') from IBMQ(hub='ibm-q-ornl', group='ornl', project='chm185')>,\n",
       " <IBMQBackend('ibmq_kolkata') from IBMQ(hub='ibm-q-ornl', group='ornl', project='chm185')>,\n",
       " <IBMQBackend('ibmq_mumbai') from IBMQ(hub='ibm-q-ornl', group='ornl', project='chm185')>,\n",
       " <IBMQBackend('ibmq_lima') from IBMQ(hub='ibm-q-ornl', group='ornl', project='chm185')>,\n",
       " <IBMQBackend('ibmq_belem') from IBMQ(hub='ibm-q-ornl', group='ornl', project='chm185')>,\n",
       " <IBMQBackend('ibmq_quito') from IBMQ(hub='ibm-q-ornl', group='ornl', project='chm185')>,\n",
       " <IBMQBackend('ibmq_guadalupe') from IBMQ(hub='ibm-q-ornl', group='ornl', project='chm185')>,\n",
       " <IBMQSimulator('simulator_statevector') from IBMQ(hub='ibm-q-ornl', group='ornl', project='chm185')>,\n",
       " <IBMQSimulator('simulator_mps') from IBMQ(hub='ibm-q-ornl', group='ornl', project='chm185')>,\n",
       " <IBMQSimulator('simulator_extended_stabilizer') from IBMQ(hub='ibm-q-ornl', group='ornl', project='chm185')>,\n",
       " <IBMQSimulator('simulator_stabilizer') from IBMQ(hub='ibm-q-ornl', group='ornl', project='chm185')>,\n",
       " <IBMQBackend('ibmq_jakarta') from IBMQ(hub='ibm-q-ornl', group='ornl', project='chm185')>,\n",
       " <IBMQBackend('ibmq_manila') from IBMQ(hub='ibm-q-ornl', group='ornl', project='chm185')>,\n",
       " <IBMQBackend('ibm_hanoi') from IBMQ(hub='ibm-q-ornl', group='ornl', project='chm185')>,\n",
       " <IBMQBackend('ibm_cairo') from IBMQ(hub='ibm-q-ornl', group='ornl', project='chm185')>,\n",
       " <IBMQBackend('ibm_auckland') from IBMQ(hub='ibm-q-ornl', group='ornl', project='chm185')>,\n",
       " <IBMQBackend('ibm_washington') from IBMQ(hub='ibm-q-ornl', group='ornl', project='chm185')>,\n",
       " <IBMQBackend('ibm_geneva') from IBMQ(hub='ibm-q-ornl', group='ornl', project='chm185')>]"
      ]
     },
     "execution_count": 3,
     "metadata": {},
     "output_type": "execute_result"
    }
   ],
   "source": [
    "IBMQ.load_account()\n",
    "provider = IBMQ.get_provider(hub='ibm-q-ornl', group='ornl', project='chm185')\n",
    "provider.backends()"
   ]
  },
  {
   "cell_type": "code",
   "execution_count": 4,
   "id": "97f1be7e",
   "metadata": {},
   "outputs": [
    {
     "data": {
      "text/plain": [
       "<IBMQBackend('ibmq_manila') from IBMQ(hub='ibm-q-ornl', group='ornl', project='chm185')>"
      ]
     },
     "execution_count": 4,
     "metadata": {},
     "output_type": "execute_result"
    }
   ],
   "source": [
    "device = provider.get_backend('ibmq_manila')\n",
    "device"
   ]
  },
  {
   "cell_type": "code",
   "execution_count": 5,
   "id": "b6f2eb58",
   "metadata": {},
   "outputs": [],
   "source": [
    "noisy_simulator = provider.get_backend('ibmq_qasm_simulator')"
   ]
  },
  {
   "cell_type": "code",
   "execution_count": 6,
   "id": "e6aa46cb",
   "metadata": {},
   "outputs": [],
   "source": [
    "circuit = QuantumCircuit.from_qasm_file(\"qaoa5q_pauli.qasm\")"
   ]
  },
  {
   "cell_type": "code",
   "execution_count": 7,
   "id": "95e1ee63",
   "metadata": {},
   "outputs": [
    {
     "name": "stdout",
     "output_type": "stream",
     "text": [
      "NoiseModel:\n",
      "  Basis gates: ['cx', 'id', 'sx', 'u3', 'x']\n",
      "  Instructions with noise: ['cx', 'sx', 'reset', 'measure', 'x', 'id']\n",
      "  Qubits with noise: [0, 1, 2, 3, 4]\n",
      "  Specific qubit errors: [('id', [0]), ('id', [1]), ('id', [2]), ('id', [3]), ('id', [4]), ('sx', [0]), ('sx', [1]), ('sx', [2]), ('sx', [3]), ('sx', [4]), ('x', [0]), ('x', [1]), ('x', [2]), ('x', [3]), ('x', [4]), ('cx', [4, 3]), ('cx', [3, 4]), ('cx', [2, 3]), ('cx', [3, 2]), ('cx', [1, 2]), ('cx', [2, 1]), ('cx', [0, 1]), ('cx', [1, 0]), ('reset', [0]), ('reset', [1]), ('reset', [2]), ('reset', [3]), ('reset', [4]), ('measure', [0]), ('measure', [1]), ('measure', [2]), ('measure', [3]), ('measure', [4])]\n"
     ]
    }
   ],
   "source": [
    "from qiskit import IBMQ, Aer\n",
    "from qiskit.providers.aer.noise import NoiseModel\n",
    "noise_model = NoiseModel.from_backend(device)\n",
    "print(noise_model)"
   ]
  },
  {
   "cell_type": "code",
   "execution_count": 8,
   "id": "d498b921",
   "metadata": {},
   "outputs": [
    {
     "name": "stdout",
     "output_type": "stream",
     "text": [
      "Help on IBMQSimulator in module qiskit.providers.ibmq.ibmqbackend object:\n",
      "\n",
      "class IBMQSimulator(IBMQBackend)\n",
      " |  IBMQSimulator(configuration: Union[qiskit.providers.models.backendconfiguration.QasmBackendConfiguration, qiskit.providers.models.backendconfiguration.PulseBackendConfiguration], provider: 'accountprovider.AccountProvider', credentials: qiskit.providers.ibmq.credentials.credentials.Credentials, api_client: qiskit.providers.ibmq.api.clients.account.AccountClient) -> None\n",
      " |  \n",
      " |  Backend class interfacing with an IBM Quantum Experience simulator.\n",
      " |  \n",
      " |  Method resolution order:\n",
      " |      IBMQSimulator\n",
      " |      IBMQBackend\n",
      " |      qiskit.providers.basebackend.BaseBackend\n",
      " |      abc.ABC\n",
      " |      builtins.object\n",
      " |  \n",
      " |  Methods defined here:\n",
      " |  \n",
      " |  properties(self, refresh: bool = False, datetime: Union[datetime.datetime, NoneType] = None) -> None\n",
      " |      Return ``None``, simulators do not have backend properties.\n",
      " |  \n",
      " |  run(self, qobj: Union[qiskit.qobj.qasm_qobj.QasmQobj, qiskit.qobj.pulse_qobj.PulseQobj], job_name: Union[str, NoneType] = None, job_share_level: Union[str, NoneType] = None, job_tags: Union[List[str], NoneType] = None, validate_qobj: bool = False, backend_options: Union[Dict, NoneType] = None, noise_model: Any = None) -> qiskit.providers.ibmq.job.ibmqjob.IBMQJob\n",
      " |      Run a Qobj asynchronously.\n",
      " |      \n",
      " |      Args:\n",
      " |          qobj: The Qobj to be executed.\n",
      " |          backend_options: Backend options.\n",
      " |          noise_model: Noise model.\n",
      " |          job_name: Custom name to be assigned to the job. This job\n",
      " |              name can subsequently be used as a filter in the\n",
      " |              :meth:`jobs` method. Job names do not need to be unique.\n",
      " |          job_share_level: Allows sharing a job at the hub, group, project and\n",
      " |              global level (see :meth:`IBMQBackend.run()<IBMQBackend.run>` for more details).\n",
      " |          job_tags: Tags to be assigned to the jobs. The tags can subsequently be used\n",
      " |              as a filter in the :meth:`IBMQBackend.jobs()<IBMQBackend.jobs>` method.\n",
      " |          validate_qobj: If ``True``, run JSON schema validation against the\n",
      " |              submitted payload\n",
      " |      \n",
      " |      Returns:\n",
      " |          The job to be executed, an instance derived from ``BaseJob``.\n",
      " |  \n",
      " |  ----------------------------------------------------------------------\n",
      " |  Data and other attributes defined here:\n",
      " |  \n",
      " |  __abstractmethods__ = frozenset()\n",
      " |  \n",
      " |  ----------------------------------------------------------------------\n",
      " |  Methods inherited from IBMQBackend:\n",
      " |  \n",
      " |  __init__(self, configuration: Union[qiskit.providers.models.backendconfiguration.QasmBackendConfiguration, qiskit.providers.models.backendconfiguration.PulseBackendConfiguration], provider: 'accountprovider.AccountProvider', credentials: qiskit.providers.ibmq.credentials.credentials.Credentials, api_client: qiskit.providers.ibmq.api.clients.account.AccountClient) -> None\n",
      " |      IBMQBackend constructor.\n",
      " |      \n",
      " |      Args:\n",
      " |          configuration: Backend configuration.\n",
      " |          provider: IBM Quantum Experience account provider\n",
      " |          credentials: IBM Quantum Experience credentials.\n",
      " |          api_client: IBM Quantum Experience client used to communicate with the server.\n",
      " |  \n",
      " |  __repr__(self) -> str\n",
      " |      Official string representation of a Backend.\n",
      " |      \n",
      " |      Note that, by Qiskit convention, it is consciously *not* a fully valid\n",
      " |      Python expression. Subclasses should provide 'a string of the form\n",
      " |      <...some useful description...>'. [0]\n",
      " |      \n",
      " |      [0] https://docs.python.org/3/reference/datamodel.html#object.__repr__\n",
      " |  \n",
      " |  active_jobs(self, limit: int = 10) -> List[qiskit.providers.ibmq.job.ibmqjob.IBMQJob]\n",
      " |      Return the unfinished jobs submitted to this backend.\n",
      " |      \n",
      " |      Return the jobs submitted to this backend, with this provider, that are\n",
      " |      currently in an unfinished job status state. The unfinished\n",
      " |      :class:`JobStatus<qiskit.providers.jobstatus.JobStatus>` states\n",
      " |      include: ``INITIALIZING``, ``VALIDATING``, ``QUEUED``, and ``RUNNING``.\n",
      " |      \n",
      " |      Args:\n",
      " |          limit: Number of jobs to retrieve.\n",
      " |      \n",
      " |      Returns:\n",
      " |          A list of the unfinished jobs for this backend on this provider.\n",
      " |  \n",
      " |  defaults(self, refresh: bool = False) -> Union[qiskit.providers.models.pulsedefaults.PulseDefaults, NoneType]\n",
      " |      Return the pulse defaults for the backend.\n",
      " |      \n",
      " |      Args:\n",
      " |          refresh: If ``True``, re-query the server for the backend pulse defaults.\n",
      " |              Otherwise, return a cached version.\n",
      " |      \n",
      " |      Returns:\n",
      " |          The backend pulse defaults or ``None`` if the backend does not support pulse.\n",
      " |  \n",
      " |  job_limit(self) -> qiskit.providers.ibmq.backendjoblimit.BackendJobLimit\n",
      " |      Return the job limit for the backend.\n",
      " |      \n",
      " |      The job limit information includes the current number of active jobs\n",
      " |      you have on the backend and the maximum number of active jobs you can have\n",
      " |      on it.\n",
      " |      \n",
      " |      Note:\n",
      " |          Job limit information for a backend is provider specific.\n",
      " |          For example, if you have access to the same backend via\n",
      " |          different providers, the job limit information might be\n",
      " |          different for each provider.\n",
      " |      \n",
      " |      If the method call was successful, you can inspect the job limit for\n",
      " |      the backend by accessing the ``maximum_jobs`` and ``active_jobs`` attributes\n",
      " |      of the :class:`BackendJobLimit<BackendJobLimit>` instance returned. For example::\n",
      " |      \n",
      " |          backend_job_limit = backend.job_limit()\n",
      " |          maximum_jobs = backend_job_limit.maximum_jobs\n",
      " |          active_jobs = backend_job_limit.active_jobs\n",
      " |      \n",
      " |      If ``maximum_jobs`` is equal to ``None``, then there is\n",
      " |      no limit to the maximum number of active jobs you could\n",
      " |      have on the backend.\n",
      " |      \n",
      " |      Returns:\n",
      " |          The job limit for the backend, with this provider.\n",
      " |      \n",
      " |      Raises:\n",
      " |          IBMQBackendApiProtocolError: If an unexpected value is received from the server.\n",
      " |  \n",
      " |  jobs(self, limit: int = 10, skip: int = 0, status: Union[qiskit.providers.jobstatus.JobStatus, str, List[Union[qiskit.providers.jobstatus.JobStatus, str]], NoneType] = None, job_name: Union[str, NoneType] = None, start_datetime: Union[datetime.datetime, NoneType] = None, end_datetime: Union[datetime.datetime, NoneType] = None, job_tags: Union[List[str], NoneType] = None, job_tags_operator: Union[str, NoneType] = 'OR', descending: bool = True, db_filter: Union[Dict[str, Any], NoneType] = None) -> List[qiskit.providers.ibmq.job.ibmqjob.IBMQJob]\n",
      " |      Return the jobs submitted to this backend, subject to optional filtering.\n",
      " |      \n",
      " |      Retrieve jobs submitted to this backend that match the given filters\n",
      " |      and paginate the results if desired. Note that the server has a limit for the\n",
      " |      number of jobs returned in a single call. As a result, this function might involve\n",
      " |      making several calls to the server. See also the `skip` parameter for more control\n",
      " |      over pagination.\n",
      " |      \n",
      " |      Args:\n",
      " |          limit: Number of jobs to retrieve.\n",
      " |          skip: Starting index for the job retrieval.\n",
      " |          status: Only get jobs with this status or one of the statuses.\n",
      " |              For example, you can specify `status=JobStatus.RUNNING` or `status=\"RUNNING\"`\n",
      " |              or `status=[\"RUNNING\", \"ERROR\"]`\n",
      " |          job_name: Filter by job name. The `job_name` is matched partially\n",
      " |              and `regular expressions\n",
      " |              <https://developer.mozilla.org/en-US/docs/Web/JavaScript/Guide/Regular_Expressions>`_\n",
      " |              can be used.\n",
      " |          start_datetime: Filter by the given start date, in local time. This is used to\n",
      " |              find jobs whose creation dates are after (greater than or equal to) this\n",
      " |              local date/time.\n",
      " |          end_datetime: Filter by the given end date, in local time. This is used to\n",
      " |              find jobs whose creation dates are before (less than or equal to) this\n",
      " |              local date/time.\n",
      " |          job_tags: Filter by tags assigned to jobs.\n",
      " |          job_tags_operator: Logical operator to use when filtering by job tags. Valid\n",
      " |              values are \"AND\" and \"OR\":\n",
      " |      \n",
      " |                  * If \"AND\" is specified, then a job must have all of the tags\n",
      " |                    specified in ``job_tags`` to be included.\n",
      " |                  * If \"OR\" is specified, then a job only needs to have any\n",
      " |                    of the tags specified in ``job_tags`` to be included.\n",
      " |          descending: If ``True``, return the jobs in descending order of the job\n",
      " |              creation date (newest first). If ``False``, return in ascending order.\n",
      " |          db_filter: A `loopback-based filter\n",
      " |              <https://loopback.io/doc/en/lb2/Querying-data.html>`_.\n",
      " |              This is an interface to a database ``where`` filter. Some\n",
      " |              examples of its usage are:\n",
      " |      \n",
      " |              Filter last five jobs with errors::\n",
      " |      \n",
      " |                 job_list = backend.jobs(limit=5, status=JobStatus.ERROR)\n",
      " |      \n",
      " |              Filter last five jobs with hub name ``ibm-q``::\n",
      " |      \n",
      " |                filter = {'hubInfo.hub.name': 'ibm-q'}\n",
      " |                job_list = backend.jobs(limit=5, db_filter=filter)\n",
      " |      \n",
      " |      Returns:\n",
      " |          A list of jobs that match the criteria.\n",
      " |      \n",
      " |      Raises:\n",
      " |          IBMQBackendValueError: If a keyword value is not recognized.\n",
      " |  \n",
      " |  remaining_jobs_count(self) -> Union[int, NoneType]\n",
      " |      Return the number of remaining jobs that could be submitted to the backend.\n",
      " |      \n",
      " |      Note:\n",
      " |          The number of remaining jobs for a backend is provider\n",
      " |          specific. For example, if you have access to the same backend\n",
      " |          via different providers, the number of remaining jobs might\n",
      " |          be different for each. See :class:`BackendJobLimit<BackendJobLimit>`\n",
      " |          for the job limit information of a backend.\n",
      " |      \n",
      " |      If ``None`` is returned, there are no limits to the maximum\n",
      " |      number of active jobs you could have on the backend.\n",
      " |      \n",
      " |      Returns:\n",
      " |          The remaining number of jobs a user could submit to the backend, with\n",
      " |          this provider, before the maximum limit on active jobs is reached.\n",
      " |      \n",
      " |      Raises:\n",
      " |          IBMQBackendApiProtocolError: If an unexpected value is received from the server.\n",
      " |  \n",
      " |  reservations(self, start_datetime: Union[datetime.datetime, NoneType] = None, end_datetime: Union[datetime.datetime, NoneType] = None) -> List[qiskit.providers.ibmq.backendreservation.BackendReservation]\n",
      " |      Return backend reservations.\n",
      " |      \n",
      " |      If start_datetime and/or end_datetime is specified, reservations with\n",
      " |      time slots that overlap with the specified time window will be returned.\n",
      " |      \n",
      " |      Some of the reservation information, such as scheduling mode, is only\n",
      " |      available if you are the owner of the reservation.\n",
      " |      \n",
      " |      Args:\n",
      " |          start_datetime: Filter by the given start date/time, in local timezone.\n",
      " |          end_datetime: Filter by the given end date/time, in local timezone.\n",
      " |      \n",
      " |      Returns:\n",
      " |          A list of reservations that match the criteria.\n",
      " |  \n",
      " |  retrieve_job(self, job_id: str) -> qiskit.providers.ibmq.job.ibmqjob.IBMQJob\n",
      " |      Return a single job submitted to this backend.\n",
      " |      \n",
      " |      Args:\n",
      " |          job_id: The ID of the job to retrieve.\n",
      " |      \n",
      " |      Returns:\n",
      " |          The job with the given ID.\n",
      " |      \n",
      " |      Raises:\n",
      " |          IBMQBackendError: If job retrieval failed.\n",
      " |  \n",
      " |  status(self) -> qiskit.providers.models.backendstatus.BackendStatus\n",
      " |      Return the backend status.\n",
      " |      \n",
      " |      Returns:\n",
      " |          The status of the backend.\n",
      " |      \n",
      " |      Raises:\n",
      " |          IBMQBackendApiProtocolError: If the status for the backend cannot be formatted properly.\n",
      " |  \n",
      " |  ----------------------------------------------------------------------\n",
      " |  Methods inherited from qiskit.providers.basebackend.BaseBackend:\n",
      " |  \n",
      " |  __str__(self)\n",
      " |      Return str(self).\n",
      " |  \n",
      " |  configuration(self)\n",
      " |      Return the backend configuration.\n",
      " |      \n",
      " |      Returns:\n",
      " |          BackendConfiguration: the configuration for the backend.\n",
      " |  \n",
      " |  name(self)\n",
      " |      Return the backend name.\n",
      " |      \n",
      " |      Returns:\n",
      " |          str: the name of the backend.\n",
      " |  \n",
      " |  provider(self)\n",
      " |      Return the backend Provider.\n",
      " |      \n",
      " |      Returns:\n",
      " |          BaseProvider: the Provider responsible for the backend.\n",
      " |  \n",
      " |  version(self)\n",
      " |      Return the backend version.\n",
      " |      \n",
      " |      Returns:\n",
      " |          str: the X.X.X version of the backend.\n",
      " |  \n",
      " |  ----------------------------------------------------------------------\n",
      " |  Data descriptors inherited from qiskit.providers.basebackend.BaseBackend:\n",
      " |  \n",
      " |  __dict__\n",
      " |      dictionary for instance variables (if defined)\n",
      " |  \n",
      " |  __weakref__\n",
      " |      list of weak references to the object (if defined)\n",
      "\n"
     ]
    }
   ],
   "source": [
    "help(noisy_simulator)"
   ]
  },
  {
   "cell_type": "code",
   "execution_count": 9,
   "id": "a1bc88dd",
   "metadata": {},
   "outputs": [],
   "source": [
    "##########################################################################################\n",
    "# build and cut a circuit\n",
    "##########################################################################################\n",
    "\n",
    "#circuit, cuts = ml.build_circuit_with_cuts(circuit_type, layers, qubits, frag_num, seed)"
   ]
  },
  {
   "cell_type": "code",
   "execution_count": 10,
   "id": "50dd27e9",
   "metadata": {},
   "outputs": [
    {
     "data": {
      "image/png": "[encoded data removed]",
      "text/plain": [
       "<Figure size 989.597x385.28 with 1 Axes>"
      ]
     },
     "execution_count": 10,
     "metadata": {},
     "output_type": "execute_result"
    },
    {
     "data": {
      "image/png": "[encoded data removed]",
      "text/plain": [
       "<Figure size 989.597x385.28 with 1 Axes>"
      ]
     },
     "metadata": {},
     "output_type": "display_data"
    }
   ],
   "source": [
    "circuit.draw(output = 'mpl')"
   ]
  },
  {
   "cell_type": "code",
   "execution_count": 11,
   "id": "98a302a0",
   "metadata": {},
   "outputs": [
    {
     "data": {
      "text/plain": [
       "OrderedDict([('h', 7), ('rzz', 5), ('rx', 5), ('cz', 2)])"
      ]
     },
     "execution_count": 11,
     "metadata": {},
     "output_type": "execute_result"
    }
   ],
   "source": [
    "circuit.count_ops()"
   ]
  },
  {
   "cell_type": "code",
   "execution_count": 12,
   "id": "d5c57033",
   "metadata": {},
   "outputs": [
    {
     "data": {
      "text/plain": [
       "Qubit(QuantumRegister(6, 'q'), 3)"
      ]
     },
     "execution_count": 12,
     "metadata": {},
     "output_type": "execute_result"
    }
   ],
   "source": [
    "circuit.qubits[3]"
   ]
  },
  {
   "cell_type": "code",
   "execution_count": 13,
   "id": "f893040d",
   "metadata": {},
   "outputs": [],
   "source": [
    "cuts = [ (circuit.qubits[3], 2), (circuit.qubits[3], 5)]"
   ]
  },
  {
   "cell_type": "code",
   "execution_count": 14,
   "id": "4b4ef070",
   "metadata": {},
   "outputs": [
    {
     "name": "stdout",
     "output_type": "stream",
     "text": [
      "[(Qubit(QuantumRegister(6, 'q'), 3), 2), (Qubit(QuantumRegister(6, 'q'), 3), 5)]\n"
     ]
    }
   ],
   "source": [
    "print(cuts)"
   ]
  },
  {
   "cell_type": "code",
   "execution_count": 15,
   "id": "7aa1870b",
   "metadata": {},
   "outputs": [],
   "source": [
    "fragments, wire_path_map = circuit_cutter.cut_circuit(circuit, cuts)"
   ]
  },
  {
   "cell_type": "code",
   "execution_count": 16,
   "id": "6872220e",
   "metadata": {},
   "outputs": [
    {
     "name": "stdout",
     "output_type": "stream",
     "text": [
      "{Qubit(QuantumRegister(6, 'q'), 0): ((0, Qubit(QuantumRegister(5, 'q'), 3)),), Qubit(QuantumRegister(6, 'q'), 1): ((0, Qubit(QuantumRegister(5, 'q'), 1)),), Qubit(QuantumRegister(6, 'q'), 2): ((0, Qubit(QuantumRegister(5, 'q'), 4)),), Qubit(QuantumRegister(6, 'q'), 3): ((1, Qubit(QuantumRegister(3, 'q'), 2)), (0, Qubit(QuantumRegister(5, 'q'), 2)), (1, Qubit(QuantumRegister(3, 'q'), 0))), Qubit(QuantumRegister(6, 'q'), 4): ((0, Qubit(QuantumRegister(5, 'q'), 0)),), Qubit(QuantumRegister(6, 'q'), 5): ((1, Qubit(QuantumRegister(3, 'q'), 1)),)}\n"
     ]
    }
   ],
   "source": [
    "print(wire_path_map)"
   ]
  },
  {
   "cell_type": "code",
   "execution_count": 17,
   "id": "dd8a5b10",
   "metadata": {},
   "outputs": [],
   "source": [
    "total_variants = ml.fragment_variants(wire_path_map)"
   ]
  },
  {
   "cell_type": "code",
   "execution_count": 18,
   "id": "8600221e",
   "metadata": {},
   "outputs": [
    {
     "name": "stdout",
     "output_type": "stream",
     "text": [
      "total circuit:\n",
      "     ┌───┐                                  ┌────────────┐               »\n",
      "q_0: ┤ H ├────■──────────────■──────────────┤ RX(7.1054) ├───────────────»\n",
      "     ├───┤    │              │zz(-0.76459)  └────────────┘ ┌────────────┐»\n",
      "q_1: ┤ H ├────┼──────────────■──────────────■──────────────┤ RX(7.1054) ├»\n",
      "     ├───┤    │                             │zz(-0.76459)  └────────────┘»\n",
      "q_2: ┤ H ├────┼─────────────────────────────■──────────────■─────────────»\n",
      "     ├───┤    │zz(-0.76459)                                │zz(-0.76459) »\n",
      "q_3: ┤ H ├─■──■────────────────────────────────────────────■─────────────»\n",
      "     ├───┤ │                                                             »\n",
      "q_4: ┤ H ├─┼─────────────────────────────────────────────────────────────»\n",
      "     ├───┤ │                                                             »\n",
      "q_5: ┤ H ├─■─────────────────────────────────────────────────────────────»\n",
      "     └───┘                                                               »\n",
      "«                                                   \n",
      "«q_0: ──────────────────────────────────────────────\n",
      "«                                                   \n",
      "«q_1: ──────────────────────────────────────────────\n",
      "«      ┌────────────┐                               \n",
      "«q_2: ─┤ RX(7.1054) ├───────────────────────────────\n",
      "«      └────────────┘                 ┌────────────┐\n",
      "«q_3: ─■────────────────────────────■─┤ RX(7.1054) ├\n",
      "«      │zz(-0.76459) ┌────────────┐ │ └────────────┘\n",
      "«q_4: ─■─────────────┤ RX(7.1054) ├─┼───────────────\n",
      "«                    └────────────┘ │     ┌───┐     \n",
      "«q_5: ──────────────────────────────■─────┤ H ├─────\n",
      "«                                         └───┘     \n",
      "cuts:\n",
      " (Qubit(QuantumRegister(6, 'q'), 3), 2)\n",
      " (Qubit(QuantumRegister(6, 'q'), 3), 5)\n",
      "\n",
      "fragment 0:\n",
      "     ┌───┐                                                           »\n",
      "q_0: ┤ H ├───────────────────────────────────────────────────────────»\n",
      "     ├───┤                                                           »\n",
      "q_1: ┤ H ├────────────────■────────────────────────────■─────────────»\n",
      "     └───┘                │                            │             »\n",
      "q_2: ──────■──────────────┼────────────────────────────┼─────────────»\n",
      "     ┌───┐ │zz(-0.76459)  │zz(-0.76459) ┌────────────┐ │             »\n",
      "q_3: ┤ H ├─■──────────────■─────────────┤ RX(7.1054) ├─┼─────────────»\n",
      "     ├───┤                              └────────────┘ │zz(-0.76459) »\n",
      "q_4: ┤ H ├─────────────────────────────────────────────■─────────────»\n",
      "     └───┘                                                           »\n",
      "«                                   ┌────────────┐\n",
      "«q_0: ────────────────■─────────────┤ RX(7.1054) ├\n",
      "«      ┌────────────┐ │             └────────────┘\n",
      "«q_1: ─┤ RX(7.1054) ├─┼───────────────────────────\n",
      "«      └────────────┘ │zz(-0.76459)               \n",
      "«q_2: ─■──────────────■───────────────────────────\n",
      "«      │                                          \n",
      "«q_3: ─┼──────────────────────────────────────────\n",
      "«      │zz(-0.76459)  ┌────────────┐              \n",
      "«q_4: ─■──────────────┤ RX(7.1054) ├──────────────\n",
      "«                     └────────────┘              \n",
      "\n",
      "fragment 1:\n",
      "                ┌────────────┐\n",
      "q_0: ─────────■─┤ RX(7.1054) ├\n",
      "     ┌───┐    │ └───┬───┬────┘\n",
      "q_1: ┤ H ├─■──■─────┤ H ├─────\n",
      "     ├───┤ │        └───┘     \n",
      "q_2: ┤ H ├─■──────────────────\n",
      "     └───┘                    \n",
      "\n",
      "fragment_index, prep_cuts, meas_cuts:\n",
      "0 1 1\n",
      "1 1 1\n",
      "\n",
      "total number of fragment variants: 24\n",
      "total number of shots: 196608\n",
      "\n"
     ]
    }
   ],
   "source": [
    "if print_circuits:\n",
    "    print(\"total circuit:\")\n",
    "    print(circuit)\n",
    "    print(\"cuts:\")\n",
    "    for cut in cuts:\n",
    "        print(\"\",cut)\n",
    "    print()\n",
    "    for idx, fragment in enumerate(fragments):\n",
    "        print(f\"fragment {idx}:\")\n",
    "        print(fragment)\n",
    "        print()\n",
    "    fragment_cuts = ml.fragment_cuts(wire_path_map)\n",
    "    print(\"fragment_index, prep_cuts, meas_cuts:\")\n",
    "    for frag_idx, frag_cuts in enumerate(fragment_cuts):\n",
    "        print(frag_idx, frag_cuts[\"prep\"], frag_cuts[\"meas\"])\n",
    "    print()\n",
    "    print(\"total number of fragment variants:\", total_variants)\n",
    "    print(\"total number of shots:\", ( shots // total_variants ) * total_variants)\n",
    "    print()"
   ]
  },
  {
   "cell_type": "code",
   "execution_count": 19,
   "id": "956041cd",
   "metadata": {},
   "outputs": [
    {
     "name": "stdout",
     "output_type": "stream",
     "text": [
      "[{'prep': 1, 'meas': 1}, {'prep': 1, 'meas': 1}]\n"
     ]
    }
   ],
   "source": [
    "print(fragment_cuts)"
   ]
  },
  {
   "cell_type": "code",
   "execution_count": 20,
   "id": "398d7b33",
   "metadata": {},
   "outputs": [],
   "source": [
    "# list of all possible measurement outcomes (bitstrings)\n",
    "all_bits = [ \"\".join(bits) for bits in itertools.product([\"0\",\"1\"], repeat = qubits) ]"
   ]
  },
  {
   "cell_type": "code",
   "execution_count": 21,
   "id": "05e2a6c7",
   "metadata": {},
   "outputs": [
    {
     "name": "stdout",
     "output_type": "stream",
     "text": [
      "['000000', '000001', '000010', '000011', '000100', '000101', '000110', '000111', '001000', '001001', '001010', '001011', '001100', '001101', '001110', '001111', '010000', '010001', '010010', '010011', '010100', '010101', '010110', '010111', '011000', '011001', '011010', '011011', '011100', '011101', '011110', '011111', '100000', '100001', '100010', '100011', '100100', '100101', '100110', '100111', '101000', '101001', '101010', '101011', '101100', '101101', '101110', '101111', '110000', '110001', '110010', '110011', '110100', '110101', '110110', '110111', '111000', '111001', '111010', '111011', '111100', '111101', '111110', '111111']\n"
     ]
    }
   ],
   "source": [
    "print(all_bits)"
   ]
  },
  {
   "cell_type": "code",
   "execution_count": 22,
   "id": "991f5ee3",
   "metadata": {},
   "outputs": [],
   "source": [
    "# get the actual state / probability distribution for the full circuit\n",
    "actual_state = ml.get_statevector(circuit)\n",
    "actual_dist = { \"\".join(bits) : abs(amp)**2\n",
    "                for bits, amp in zip(all_bits, actual_state)\n",
    "                if amp != 0 }\n",
    "\n",
    "# get a simulated probability distribution for the full circuit\n",
    "circuit.measure_all()\n",
    "full_circuit_result = ml.run_circuits(circuit, shots, backend = simulation_backend)\n",
    "full_circuit_dist = {}\n",
    "for part in full_circuit_result:\n",
    "    for bits, counts in part.get_counts(circuit).items():\n",
    "        if bits not in full_circuit_dist:\n",
    "            full_circuit_dist[bits] = 0\n",
    "        full_circuit_dist[bits] += counts / shots"
   ]
  },
  {
   "cell_type": "code",
   "execution_count": 23,
   "id": "fa3f14dd",
   "metadata": {},
   "outputs": [
    {
     "data": {
      "text/html": [
       "<pre style=\"word-wrap: normal;white-space: pre;background: #fff0;line-height: 1.1;font-family: &quot;Courier New&quot;,Courier,monospace\">        ┌───┐                                  ┌────────────┐               »\n",
       "   q_0: ┤ H ├────■──────────────■──────────────┤ RX(7.1054) ├───────────────»\n",
       "        ├───┤    │              │zz(-0.76459)  └────────────┘ ┌────────────┐»\n",
       "   q_1: ┤ H ├────┼──────────────■──────────────■──────────────┤ RX(7.1054) ├»\n",
       "        ├───┤    │                             │zz(-0.76459)  └────────────┘»\n",
       "   q_2: ┤ H ├────┼─────────────────────────────■──────────────■─────────────»\n",
       "        ├───┤    │zz(-0.76459)                                │zz(-0.76459) »\n",
       "   q_3: ┤ H ├─■──■────────────────────────────────────────────■─────────────»\n",
       "        ├───┤ │                                                             »\n",
       "   q_4: ┤ H ├─┼─────────────────────────────────────────────────────────────»\n",
       "        ├───┤ │                                                             »\n",
       "   q_5: ┤ H ├─■─────────────────────────────────────────────────────────────»\n",
       "        └───┘                                                               »\n",
       "meas: 6/════════════════════════════════════════════════════════════════════»\n",
       "                                                                            »\n",
       "«                                                       ░ ┌─┐               \n",
       "«   q_0: ───────────────────────────────────────────────░─┤M├───────────────\n",
       "«                                                       ░ └╥┘┌─┐            \n",
       "«   q_1: ───────────────────────────────────────────────░──╫─┤M├────────────\n",
       "«         ┌────────────┐                                ░  ║ └╥┘┌─┐         \n",
       "«   q_2: ─┤ RX(7.1054) ├────────────────────────────────░──╫──╫─┤M├─────────\n",
       "«         └────────────┘                 ┌────────────┐ ░  ║  ║ └╥┘┌─┐      \n",
       "«   q_3: ─■────────────────────────────■─┤ RX(7.1054) ├─░──╫──╫──╫─┤M├──────\n",
       "«         │zz(-0.76459) ┌────────────┐ │ └────────────┘ ░  ║  ║  ║ └╥┘┌─┐   \n",
       "«   q_4: ─■─────────────┤ RX(7.1054) ├─┼────────────────░──╫──╫──╫──╫─┤M├───\n",
       "«                       └────────────┘ │     ┌───┐      ░  ║  ║  ║  ║ └╥┘┌─┐\n",
       "«   q_5: ──────────────────────────────■─────┤ H ├──────░──╫──╫──╫──╫──╫─┤M├\n",
       "«                                            └───┘      ░  ║  ║  ║  ║  ║ └╥┘\n",
       "«meas: 6/══════════════════════════════════════════════════╩══╩══╩══╩══╩══╩═\n",
       "«                                                          0  1  2  3  4  5 </pre>"
      ],
      "text/plain": [
       "        ┌───┐                                  ┌────────────┐               »\n",
       "   q_0: ┤ H ├────■──────────────■──────────────┤ RX(7.1054) ├───────────────»\n",
       "        ├───┤    │              │zz(-0.76459)  └────────────┘ ┌────────────┐»\n",
       "   q_1: ┤ H ├────┼──────────────■──────────────■──────────────┤ RX(7.1054) ├»\n",
       "        ├───┤    │                             │zz(-0.76459)  └────────────┘»\n",
       "   q_2: ┤ H ├────┼─────────────────────────────■──────────────■─────────────»\n",
       "        ├───┤    │zz(-0.76459)                                │zz(-0.76459) »\n",
       "   q_3: ┤ H ├─■──■────────────────────────────────────────────■─────────────»\n",
       "        ├───┤ │                                                             »\n",
       "   q_4: ┤ H ├─┼─────────────────────────────────────────────────────────────»\n",
       "        ├───┤ │                                                             »\n",
       "   q_5: ┤ H ├─■─────────────────────────────────────────────────────────────»\n",
       "        └───┘                                                               »\n",
       "meas: 6/════════════════════════════════════════════════════════════════════»\n",
       "                                                                            »\n",
       "«                                                       ░ ┌─┐               \n",
       "«   q_0: ───────────────────────────────────────────────░─┤M├───────────────\n",
       "«                                                       ░ └╥┘┌─┐            \n",
       "«   q_1: ───────────────────────────────────────────────░──╫─┤M├────────────\n",
       "«         ┌────────────┐                                ░  ║ └╥┘┌─┐         \n",
       "«   q_2: ─┤ RX(7.1054) ├────────────────────────────────░──╫──╫─┤M├─────────\n",
       "«         └────────────┘                 ┌────────────┐ ░  ║  ║ └╥┘┌─┐      \n",
       "«   q_3: ─■────────────────────────────■─┤ RX(7.1054) ├─░──╫──╫──╫─┤M├──────\n",
       "«         │zz(-0.76459) ┌────────────┐ │ └────────────┘ ░  ║  ║  ║ └╥┘┌─┐   \n",
       "«   q_4: ─■─────────────┤ RX(7.1054) ├─┼────────────────░──╫──╫──╫──╫─┤M├───\n",
       "«                       └────────────┘ │     ┌───┐      ░  ║  ║  ║  ║ └╥┘┌─┐\n",
       "«   q_5: ──────────────────────────────■─────┤ H ├──────░──╫──╫──╫──╫──╫─┤M├\n",
       "«                                            └───┘      ░  ║  ║  ║  ║  ║ └╥┘\n",
       "«meas: 6/══════════════════════════════════════════════════╩══╩══╩══╩══╩══╩═\n",
       "«                                                          0  1  2  3  4  5 "
      ]
     },
     "execution_count": 23,
     "metadata": {},
     "output_type": "execute_result"
    }
   ],
   "source": [
    "circuit.draw()"
   ]
  },
  {
   "cell_type": "code",
   "execution_count": 24,
   "id": "7e93e1dc",
   "metadata": {},
   "outputs": [
    {
     "data": {
      "text/plain": [
       "{Qubit(QuantumRegister(6, 'q'), 0): ((0, Qubit(QuantumRegister(5, 'q'), 3)),),\n",
       " Qubit(QuantumRegister(6, 'q'), 1): ((0, Qubit(QuantumRegister(5, 'q'), 1)),),\n",
       " Qubit(QuantumRegister(6, 'q'), 2): ((0, Qubit(QuantumRegister(5, 'q'), 4)),),\n",
       " Qubit(QuantumRegister(6, 'q'), 3): ((1, Qubit(QuantumRegister(3, 'q'), 2)),\n",
       "  (0, Qubit(QuantumRegister(5, 'q'), 2)),\n",
       "  (1, Qubit(QuantumRegister(3, 'q'), 0))),\n",
       " Qubit(QuantumRegister(6, 'q'), 4): ((0, Qubit(QuantumRegister(5, 'q'), 0)),),\n",
       " Qubit(QuantumRegister(6, 'q'), 5): ((1, Qubit(QuantumRegister(3, 'q'), 1)),)}"
      ]
     },
     "execution_count": 24,
     "metadata": {},
     "output_type": "execute_result"
    }
   ],
   "source": [
    "wire_path_map"
   ]
  },
  {
   "cell_type": "code",
   "execution_count": 25,
   "id": "c0b3debe",
   "metadata": {},
   "outputs": [],
   "source": [
    "orign_qc = QuantumCircuit.from_qasm_file(\"QAOA5q.qasm\")"
   ]
  },
  {
   "cell_type": "code",
   "execution_count": 26,
   "id": "855666b1",
   "metadata": {},
   "outputs": [
    {
     "data": {
      "text/html": [
       "<pre style=\"word-wrap: normal;white-space: pre;background: #fff0;line-height: 1.1;font-family: &quot;Courier New&quot;,Courier,monospace\">        ┌───┐                               ┌────────────┐               »\n",
       "   q_0: ┤ H ├─■──────────────■──────────────┤ RX(7.1054) ├───────────────»\n",
       "        ├───┤ │              │zz(-0.76459)  └────────────┘ ┌────────────┐»\n",
       "   q_1: ┤ H ├─┼──────────────■──────────────■──────────────┤ RX(7.1054) ├»\n",
       "        ├───┤ │                             │zz(-0.76459)  └────────────┘»\n",
       "   q_2: ┤ H ├─┼─────────────────────────────■──────────────■─────────────»\n",
       "        ├───┤ │zz(-0.76459)                                │zz(-0.76459) »\n",
       "   q_3: ┤ H ├─■────────────────────────────────────────────■─────────────»\n",
       "        ├───┤                                                            »\n",
       "   q_4: ┤ H ├────────────────────────────────────────────────────────────»\n",
       "        └───┘                                                            »\n",
       "meas: 5/═════════════════════════════════════════════════════════════════»\n",
       "                                                                         »\n",
       "«                                      ░ ┌─┐            \n",
       "«   q_0: ──────────────────────────────░─┤M├────────────\n",
       "«                                      ░ └╥┘┌─┐         \n",
       "«   q_1: ──────────────────────────────░──╫─┤M├─────────\n",
       "«         ┌────────────┐               ░  ║ └╥┘┌─┐      \n",
       "«   q_2: ─┤ RX(7.1054) ├───────────────░──╫──╫─┤M├──────\n",
       "«         └────────────┘┌────────────┐ ░  ║  ║ └╥┘┌─┐   \n",
       "«   q_3: ─■─────────────┤ RX(7.1054) ├─░──╫──╫──╫─┤M├───\n",
       "«         │zz(-0.76459) ├────────────┤ ░  ║  ║  ║ └╥┘┌─┐\n",
       "«   q_4: ─■─────────────┤ RX(7.1054) ├─░──╫──╫──╫──╫─┤M├\n",
       "«                       └────────────┘ ░  ║  ║  ║  ║ └╥┘\n",
       "«meas: 5/═════════════════════════════════╩══╩══╩══╩══╩═\n",
       "«                                         0  1  2  3  4 </pre>"
      ],
      "text/plain": [
       "        ┌───┐                               ┌────────────┐               »\n",
       "   q_0: ┤ H ├─■──────────────■──────────────┤ RX(7.1054) ├───────────────»\n",
       "        ├───┤ │              │zz(-0.76459)  └────────────┘ ┌────────────┐»\n",
       "   q_1: ┤ H ├─┼──────────────■──────────────■──────────────┤ RX(7.1054) ├»\n",
       "        ├───┤ │                             │zz(-0.76459)  └────────────┘»\n",
       "   q_2: ┤ H ├─┼─────────────────────────────■──────────────■─────────────»\n",
       "        ├───┤ │zz(-0.76459)                                │zz(-0.76459) »\n",
       "   q_3: ┤ H ├─■────────────────────────────────────────────■─────────────»\n",
       "        ├───┤                                                            »\n",
       "   q_4: ┤ H ├────────────────────────────────────────────────────────────»\n",
       "        └───┘                                                            »\n",
       "meas: 5/═════════════════════════════════════════════════════════════════»\n",
       "                                                                         »\n",
       "«                                      ░ ┌─┐            \n",
       "«   q_0: ──────────────────────────────░─┤M├────────────\n",
       "«                                      ░ └╥┘┌─┐         \n",
       "«   q_1: ──────────────────────────────░──╫─┤M├─────────\n",
       "«         ┌────────────┐               ░  ║ └╥┘┌─┐      \n",
       "«   q_2: ─┤ RX(7.1054) ├───────────────░──╫──╫─┤M├──────\n",
       "«         └────────────┘┌────────────┐ ░  ║  ║ └╥┘┌─┐   \n",
       "«   q_3: ─■─────────────┤ RX(7.1054) ├─░──╫──╫──╫─┤M├───\n",
       "«         │zz(-0.76459) ├────────────┤ ░  ║  ║  ║ └╥┘┌─┐\n",
       "«   q_4: ─■─────────────┤ RX(7.1054) ├─░──╫──╫──╫──╫─┤M├\n",
       "«                       └────────────┘ ░  ║  ║  ║  ║ └╥┘\n",
       "«meas: 5/═════════════════════════════════╩══╩══╩══╩══╩═\n",
       "«                                         0  1  2  3  4 "
      ]
     },
     "execution_count": 26,
     "metadata": {},
     "output_type": "execute_result"
    }
   ],
   "source": [
    "orign_qc.draw()"
   ]
  },
  {
   "cell_type": "code",
   "execution_count": null,
   "id": "d362ad42",
   "metadata": {},
   "outputs": [
    {
     "name": "stderr",
     "output_type": "stream",
     "text": [
      "/Users/revilooliver/Documents/quantum_computing/anaconda/anaconda3/envs/quantum/lib/python3.7/site-packages/qiskit/ignis/verification/tomography/basis/sicbasis.py:48: DeprecationWarning: The QuantumCircuit.u3 method is deprecated as of 0.16.0. It will be removed no earlier than 3 months after the release date. You should use QuantumCircuit.u instead, which acts identically. Alternatively, you can decompose u3 in terms of QuantumCircuit.p and QuantumCircuit.sx: u3(ϴ,φ,λ) = p(φ+π) sx p(ϴ+π) sx p(λ) (2 pulses on hardware).\n",
      "  circ.u3(theta, np.pi, 0.0, qubit)\n"
     ]
    },
    {
     "name": "stdout",
     "output_type": "stream",
     "text": [
      "Job Status: job is queued (104)   "
     ]
    }
   ],
   "source": [
    "##########################################################################################\n",
    "# simulate fragments and recombine results to reconstruct the outputs of the full circuit\n",
    "##########################################################################################\n",
    "\n",
    "# simulate fragments, build fragment models, and recombine fragment models\n",
    "frag_data0 = ml.collect_fragment_raw_data(fragments[0], 0, wire_path_map,\n",
    "                                     shots = shots // total_variants,\n",
    "                                     tomography_backend = device, opt_lvl = 3, extra_qc = [orign_qc])"
   ]
  },
  {
   "cell_type": "code",
   "execution_count": null,
   "id": "6bbeed13",
   "metadata": {},
   "outputs": [],
   "source": [
    "print(frag_data0)"
   ]
  },
  {
   "cell_type": "code",
   "execution_count": null,
   "id": "ce843694",
   "metadata": {},
   "outputs": [],
   "source": [
    "frag_data1 = ml.collect_fragment_raw_data(fragments[1], 1, wire_path_map,\n",
    "                                     shots = shots // total_variants,\n",
    "                                     tomography_backend = simulation_backend)"
   ]
  },
  {
   "cell_type": "code",
   "execution_count": null,
   "id": "77ce4f90",
   "metadata": {},
   "outputs": [],
   "source": [
    "frag_targets = ml.identify_frag_targets(wire_path_map)"
   ]
  },
  {
   "cell_type": "code",
   "execution_count": null,
   "id": "3cdf3511",
   "metadata": {},
   "outputs": [],
   "source": [
    "frag_data = [ ml.organize_tomography_data(frag_data0[0],\n",
    "                                      frag_targets[0].get(\"prep\"),\n",
    "                                      frag_targets[0].get(\"meas\"),\n",
    "                                      prep_basis = \"SIC\"),\n",
    "             ml.organize_tomography_data(frag_data1[0],\n",
    "                                      frag_targets[1].get(\"prep\"),\n",
    "                                      frag_targets[1].get(\"meas\"),\n",
    "                                      prep_basis = \"SIC\")]"
   ]
  },
  {
   "cell_type": "code",
   "execution_count": null,
   "id": "8e4ada58",
   "metadata": {},
   "outputs": [],
   "source": [
    "frag_data"
   ]
  },
  {
   "cell_type": "code",
   "execution_count": null,
   "id": "99930b5d",
   "metadata": {},
   "outputs": [],
   "source": [
    "direct_models = ml.direct_fragment_model(frag_data)\n",
    "likely_models = ml.maximum_likelihood_model(direct_models)\n",
    "\n",
    "direct_recombined_dist = ml.recombine_fragment_models(direct_models, wire_path_map)\n",
    "likely_recombined_dist = ml.recombine_fragment_models(likely_models, wire_path_map)"
   ]
  },
  {
   "cell_type": "code",
   "execution_count": null,
   "id": "b689bf9b",
   "metadata": {},
   "outputs": [],
   "source": [
    "direct_recombined_dist"
   ]
  },
  {
   "cell_type": "code",
   "execution_count": null,
   "id": "ce360090",
   "metadata": {},
   "outputs": [],
   "source": [
    "actual_dist"
   ]
  },
  {
   "cell_type": "code",
   "execution_count": null,
   "id": "2655b1f3",
   "metadata": {},
   "outputs": [],
   "source": [
    "# if qubits <= 5:\n",
    "#     print()\n",
    "#     print(\"actual probability distribution:\")\n",
    "#     for bits in all_bits:\n",
    "#         try: print(bits, actual_dist[bits])\n",
    "#         except: None\n",
    "\n",
    "#     print()\n",
    "#     print(\"'direct' recombined probability distribution:\")\n",
    "#     for bits in all_bits:\n",
    "#         try: print(bits, direct_recombined_dist[bits])\n",
    "#         except: None\n",
    "\n",
    "#     print()\n",
    "#     print(\"'likely' recombined probability distribution:\")\n",
    "#     for bits in all_bits:\n",
    "#         try: print(bits, likely_recombined_dist[bits])\n",
    "#         except: None\n",
    "\n",
    "#     print()\n",
    "#     print(\"full circuit probability distribution:\")\n",
    "#     for bits in all_bits:\n",
    "#         try: print(bits, full_circuit_dist[bits])\n",
    "#         except: None\n",
    "\n",
    "# print()\n",
    "\n",
    "def naive_fix(dist):\n",
    "    norm = sum( value for value in dist.values() if value >= 0 )\n",
    "    return { bits : value / norm for bits, value in dist.items() if value >= 0 }\n",
    "\n",
    "direct_recombined_dist = naive_fix(direct_recombined_dist)\n",
    "\n",
    "def fidelity(dist):\n",
    "    fidelity = sum( numpy.sqrt(actual_dist[bits] * dist[bits], dtype = complex)\n",
    "                    for bits in all_bits\n",
    "                    if actual_dist.get(bits) and dist.get(bits) )**2\n",
    "    return fidelity.real if fidelity.imag == 0 else fidelity\n",
    "\n",
    "direct_fidelity = fidelity(direct_recombined_dist)\n",
    "likely_fidelity = fidelity(likely_recombined_dist)\n",
    "full_circuit_fidelity = fidelity(full_circuit_dist)\n",
    "print(\"'direct' distribution fidelity:\", direct_fidelity)\n",
    "print(\"'likely' distribution fidelity:\", likely_fidelity)\n",
    "print(\"full circuit fidelity:\", full_circuit_fidelity)\n",
    "\n",
    "\n"
   ]
  },
  {
   "cell_type": "code",
   "execution_count": null,
   "id": "573a14c1",
   "metadata": {},
   "outputs": [],
   "source": []
  },
  {
   "cell_type": "code",
   "execution_count": null,
   "id": "db65d8c4",
   "metadata": {},
   "outputs": [],
   "source": []
  },
  {
   "cell_type": "code",
   "execution_count": null,
   "id": "29dbbc7a",
   "metadata": {},
   "outputs": [],
   "source": []
  },
  {
   "cell_type": "code",
   "execution_count": null,
   "id": "885a8632",
   "metadata": {},
   "outputs": [],
   "source": []
  }
 ],
 "metadata": {
  "kernelspec": {
   "display_name": "Python 3 (ipykernel)",
   "language": "python",
   "name": "python3"
  },
  "language_info": {
   "codemirror_mode": {
    "name": "ipython",
    "version": 3
   },
   "file_extension": ".py",
   "mimetype": "text/x-python",
   "name": "python",
   "nbconvert_exporter": "python",
   "pygments_lexer": "ipython3",
   "version": "3.7.11"
  }
 },
 "nbformat": 4,
 "nbformat_minor": 5
}
