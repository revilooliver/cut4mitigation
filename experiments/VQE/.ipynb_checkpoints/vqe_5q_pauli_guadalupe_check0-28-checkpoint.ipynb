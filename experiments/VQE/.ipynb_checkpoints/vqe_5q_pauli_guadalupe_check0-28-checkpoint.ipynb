{
 "cells": [
  {
   "cell_type": "code",
   "execution_count": 1,
   "id": "050ec390",
   "metadata": {},
   "outputs": [],
   "source": [
    "#!/usr/bin/env python3\n",
    "\n",
    "# author: Michael A. Perlin (github.com/perlinm)\n",
    "\n",
    "import itertools, numpy, qiskit\n",
    "import circuit_cutter\n",
    "import mlrecon_methods as ml\n",
    "\n",
    "import numpy as np\n",
    "import qiskit\n",
    "from qiskit import *\n",
    "from qiskit import QuantumCircuit, QuantumRegister, ClassicalRegister, Aer, execute, transpile\n",
    "\n",
    "from qiskit.transpiler import PassManager\n",
    "\n",
    "from qiskit.converters import circuit_to_dag\n",
    "from qiskit.visualization import dag_drawer, plot_histogram\n",
    "from qiskit.compiler import assemble\n",
    "from qiskit.tools.monitor import job_monitor\n",
    "\n",
    "# The pulse simulator\n",
    "from qiskit.providers.aer import PulseSimulator\n",
    "\n",
    "from qiskit.tools.monitor import job_monitor, backend_monitor, backend_overview\n",
    "\n",
    "import qiskit.providers.aer.noise as noise\n",
    "from qiskit.providers.aer.noise import NoiseModel\n",
    "\n",
    "from utils.utils import filter_results, dict_to_list, H_distance, total_counts"
   ]
  },
  {
   "cell_type": "code",
   "execution_count": 2,
   "id": "0ab21beb",
   "metadata": {},
   "outputs": [
    {
     "data": {
      "text/plain": [
       "{'qiskit-terra': '0.16.1',\n",
       " 'qiskit-aer': '0.7.2',\n",
       " 'qiskit-ignis': '0.5.1',\n",
       " 'qiskit-ibmq-provider': '0.11.1',\n",
       " 'qiskit-aqua': '0.8.1',\n",
       " 'qiskit': '0.23.2'}"
      ]
     },
     "execution_count": 2,
     "metadata": {},
     "output_type": "execute_result"
    }
   ],
   "source": [
    "qiskit.__qiskit_version__"
   ]
  },
  {
   "cell_type": "code",
   "execution_count": 3,
   "id": "da4a5c76",
   "metadata": {},
   "outputs": [],
   "source": [
    "numpy.set_printoptions(linewidth = 200)\n",
    "\n",
    "qubits = 5\n",
    "\n",
    "# # should be \"GHZ\", \"cascade\", \"dense\", or \"clustered\"\n",
    "# circuit_type = \"GHZ\"\n",
    "# layers = 1 # number of gate layers\n",
    "\n",
    "# qubits = 6 # number of qubits\n",
    "# frag_num = 2 # number of fragments\n",
    "\n",
    "simulation_backend = \"qasm_simulator\"\n",
    "\n",
    "seed = 0\n",
    "print_circuits = True"
   ]
  },
  {
   "cell_type": "code",
   "execution_count": 4,
   "id": "cc3edfd5",
   "metadata": {},
   "outputs": [
    {
     "name": "stderr",
     "output_type": "stream",
     "text": [
      "/Users/revilooliver/Documents/quantum_computing/anaconda/anaconda3/envs/circ_cutting/lib/python3.8/site-packages/qiskit/providers/ibmq/ibmqfactory.py:192: UserWarning: Timestamps in IBMQ backend properties, jobs, and job results are all now in local time instead of UTC.\n",
      "  warnings.warn('Timestamps in IBMQ backend properties, jobs, and job results '\n"
     ]
    },
    {
     "data": {
      "text/plain": [
       "[<IBMQSimulator('ibmq_qasm_simulator') from IBMQ(hub='ibm-q-ornl', group='ornl', project='chm185')>,\n",
       " <IBMQBackend('ibmq_montreal') from IBMQ(hub='ibm-q-ornl', group='ornl', project='chm185')>,\n",
       " <IBMQBackend('ibmq_toronto') from IBMQ(hub='ibm-q-ornl', group='ornl', project='chm185')>,\n",
       " <IBMQBackend('ibmq_kolkata') from IBMQ(hub='ibm-q-ornl', group='ornl', project='chm185')>,\n",
       " <IBMQBackend('ibmq_mumbai') from IBMQ(hub='ibm-q-ornl', group='ornl', project='chm185')>,\n",
       " <IBMQBackend('ibmq_lima') from IBMQ(hub='ibm-q-ornl', group='ornl', project='chm185')>,\n",
       " <IBMQBackend('ibmq_belem') from IBMQ(hub='ibm-q-ornl', group='ornl', project='chm185')>,\n",
       " <IBMQBackend('ibmq_quito') from IBMQ(hub='ibm-q-ornl', group='ornl', project='chm185')>,\n",
       " <IBMQBackend('ibmq_guadalupe') from IBMQ(hub='ibm-q-ornl', group='ornl', project='chm185')>,\n",
       " <IBMQSimulator('simulator_statevector') from IBMQ(hub='ibm-q-ornl', group='ornl', project='chm185')>,\n",
       " <IBMQSimulator('simulator_mps') from IBMQ(hub='ibm-q-ornl', group='ornl', project='chm185')>,\n",
       " <IBMQSimulator('simulator_extended_stabilizer') from IBMQ(hub='ibm-q-ornl', group='ornl', project='chm185')>,\n",
       " <IBMQSimulator('simulator_stabilizer') from IBMQ(hub='ibm-q-ornl', group='ornl', project='chm185')>,\n",
       " <IBMQBackend('ibmq_jakarta') from IBMQ(hub='ibm-q-ornl', group='ornl', project='chm185')>,\n",
       " <IBMQBackend('ibmq_manila') from IBMQ(hub='ibm-q-ornl', group='ornl', project='chm185')>,\n",
       " <IBMQBackend('ibm_hanoi') from IBMQ(hub='ibm-q-ornl', group='ornl', project='chm185')>,\n",
       " <IBMQBackend('ibm_cairo') from IBMQ(hub='ibm-q-ornl', group='ornl', project='chm185')>,\n",
       " <IBMQBackend('ibm_auckland') from IBMQ(hub='ibm-q-ornl', group='ornl', project='chm185')>,\n",
       " <IBMQBackend('ibm_washington') from IBMQ(hub='ibm-q-ornl', group='ornl', project='chm185')>,\n",
       " <IBMQBackend('ibm_geneva') from IBMQ(hub='ibm-q-ornl', group='ornl', project='chm185')>]"
      ]
     },
     "execution_count": 4,
     "metadata": {},
     "output_type": "execute_result"
    }
   ],
   "source": [
    "IBMQ.load_account()\n",
    "provider = IBMQ.get_provider(hub='ibm-q-ornl', group='ornl', project='chm185')\n",
    "provider.backends()"
   ]
  },
  {
   "cell_type": "code",
   "execution_count": 5,
   "id": "97f1be7e",
   "metadata": {},
   "outputs": [
    {
     "data": {
      "text/plain": [
       "<IBMQBackend('ibmq_guadalupe') from IBMQ(hub='ibm-q-ornl', group='ornl', project='chm185')>"
      ]
     },
     "execution_count": 5,
     "metadata": {},
     "output_type": "execute_result"
    }
   ],
   "source": [
    "device = provider.get_backend('ibmq_guadalupe')\n",
    "device"
   ]
  },
  {
   "cell_type": "code",
   "execution_count": 6,
   "id": "5861b771",
   "metadata": {},
   "outputs": [
    {
     "name": "stdout",
     "output_type": "stream",
     "text": [
      "ibmq_guadalupe\n",
      "==============\n",
      "Configuration\n",
      "-------------\n",
      "    n_qubits: 16\n",
      "    operational: True\n",
      "    status_msg: active\n",
      "    pending_jobs: 10\n",
      "    backend_version: 1.3.29\n",
      "    basis_gates: ['id', 'rz', 'sx', 'x', 'cx', 'reset']\n",
      "    local: False\n",
      "    simulator: False\n",
      "    max_experiments: 300\n",
      "    dynamic_reprate_enabled: True\n",
      "    clops: 2351\n",
      "    dt: 0.2222222222222222\n",
      "    n_uchannels: 32\n",
      "    allow_object_storage: True\n",
      "    rep_delay_range: [0.0, 500.0]\n",
      "    uchannels_enabled: True\n",
      "    discriminators: ['linear_discriminator', 'hw_centroid', 'quadratic_discriminator']\n",
      "    backend_name: ibmq_guadalupe\n",
      "    live_data: False\n",
      "    multi_meas_enabled: True\n",
      "    qubit_channel_mapping: [['m0', 'u0', 'd0', 'u1'], ['u1', 'u3', 'm1', 'd1', 'u2', 'u8', 'u4', 'u0'], ['m2', 'u2', 'u6', 'u5', 'u4', 'd2'], ['u6', 'u5', 'u10', 'm3', 'd3', 'u7'], ['u3', 'd4', 'u13', 'u8', 'u9', 'm4'], ['u16', 'u11', 'u10', 'm5', 'u7', 'd5'], ['u14', 'd6', 'm6', 'u12'], ['u13', 'm7', 'u15', 'u9', 'u14', 'u20', 'u12', 'd7'], ['u16', 'u17', 'u19', 'm8', 'u11', 'd8', 'u18', 'u22'], ['u19', 'u17', 'm9', 'd9'], ['d10', 'u15', 'm10', 'u24', 'u20', 'u21'], ['u29', 'm11', 'd11', 'u18', 'u22', 'u23'], ['d12', 'u31', 'u25', 'u24', 'u27', 'm12', 'u26', 'u21'], ['u28', 'm13', 'd13', 'u25', 'u27', 'u30'], ['u28', 'u29', 'm14', 'u30', 'd14', 'u23'], ['m15', 'd15', 'u31', 'u26']]\n",
      "    url: None\n",
      "    coupling_map: [[0, 1], [1, 0], [1, 2], [1, 4], [2, 1], [2, 3], [3, 2], [3, 5], [4, 1], [4, 7], [5, 3], [5, 8], [6, 7], [7, 4], [7, 6], [7, 10], [8, 5], [8, 9], [8, 11], [9, 8], [10, 7], [10, 12], [11, 8], [11, 14], [12, 10], [12, 13], [12, 15], [13, 12], [13, 14], [14, 11], [14, 13], [15, 12]]\n",
      "    parametric_pulses: ['gaussian', 'gaussian_square', 'drag', 'constant']\n",
      "    measure_esp_enabled: False\n",
      "    timing_constraints: {'acquire_alignment': 16, 'granularity': 16, 'min_length': 64, 'pulse_alignment': 1}\n",
      "    supported_instructions: ['u1', 'u3', 'u2', 'shiftf', 'setf', 'x', 'acquire', 'reset', 'rz', 'id', 'play', 'cx', 'sx', 'measure', 'delay']\n",
      "    processor_type: {'family': 'Falcon', 'revision': 4, 'segment': 'P'}\n",
      "    n_registers: 1\n",
      "    pulse_num_qubits: 3\n",
      "    max_shots: 32000\n",
      "    meas_lo_range: [[6.820434764000001, 7.820434764000001], [6.920156487000001, 7.920156487000001], [6.806879783, 7.806879783], [6.931633498, 7.931633498], [6.871094372000001, 7.871094372000001], [6.867124325000001, 7.867124325000001], [6.988623947000001, 7.988623947000001], [6.744138759, 7.744138759], [6.739828772, 7.739828772], [6.986574026, 7.986574026], [6.830501917, 7.830501917], [6.874447476, 7.874447476], [6.977190940000001, 7.977190940000001], [6.8715744, 7.8715744], [6.914894627000001, 7.914894627000001], [6.931057753, 7.931057753]]\n",
      "    dtm: 0.2222222222222222\n",
      "    meas_levels: [1, 2]\n",
      "    default_rep_delay: 250.0\n",
      "    memory: True\n",
      "    description: 16 qubit device\n",
      "    input_allowed: ['job', 'runtime']\n",
      "    meas_map: [[0, 1, 2, 3, 4, 5, 6, 7, 8, 9, 10, 11, 12, 13, 14, 15]]\n",
      "    rep_times: [1000.0]\n",
      "    conditional: False\n",
      "    meas_kernels: ['hw_boxcar']\n",
      "    allow_q_object: True\n",
      "    parallel_compilation: False\n",
      "    hamiltonian: {'description': 'Qubits are modeled as Duffing oscillators. In this case, the system includes higher energy states, i.e. not just |0> and |1>. The Pauli operators are generalized via the following set of transformations:\\n\\n$(\\\\mathbb{I}-\\\\sigma_{i}^z)/2 \\\\rightarrow O_i \\\\equiv b^\\\\dagger_{i} b_{i}$,\\n\\n$\\\\sigma_{+} \\\\rightarrow b^\\\\dagger$,\\n\\n$\\\\sigma_{-} \\\\rightarrow b$,\\n\\n$\\\\sigma_{i}^X \\\\rightarrow b^\\\\dagger_{i} + b_{i}$.\\n\\nQubits are coupled through resonator buses. The provided Hamiltonian has been projected into the zero excitation subspace of the resonator buses leading to an effective qubit-qubit flip-flop interaction. The qubit resonance frequencies in the Hamiltonian are the cavity dressed frequencies and not exactly what is returned by the backend defaults, which also includes the dressing due to the qubit-qubit interactions.\\n\\nQuantities are returned in angular frequencies, with units 2*pi*GHz.\\n\\nWARNING: Currently not all system Hamiltonian information is available to the public, missing values have been replaced with 0.\\n', 'h_latex': '\\\\begin{align} \\\\mathcal{H}/\\\\hbar = & \\\\sum_{i=0}^{15}\\\\left(\\\\frac{\\\\omega_{q,i}}{2}(\\\\mathbb{I}-\\\\sigma_i^{z})+\\\\frac{\\\\Delta_{i}}{2}(O_i^2-O_i)+\\\\Omega_{d,i}D_i(t)\\\\sigma_i^{X}\\\\right) \\\\\\\\ & + J_{0,1}(\\\\sigma_{0}^{+}\\\\sigma_{1}^{-}+\\\\sigma_{0}^{-}\\\\sigma_{1}^{+}) + J_{13,14}(\\\\sigma_{13}^{+}\\\\sigma_{14}^{-}+\\\\sigma_{13}^{-}\\\\sigma_{14}^{+}) + J_{1,2}(\\\\sigma_{1}^{+}\\\\sigma_{2}^{-}+\\\\sigma_{1}^{-}\\\\sigma_{2}^{+}) + J_{5,8}(\\\\sigma_{5}^{+}\\\\sigma_{8}^{-}+\\\\sigma_{5}^{-}\\\\sigma_{8}^{+}) \\\\\\\\ & + J_{7,10}(\\\\sigma_{7}^{+}\\\\sigma_{10}^{-}+\\\\sigma_{7}^{-}\\\\sigma_{10}^{+}) + J_{12,13}(\\\\sigma_{12}^{+}\\\\sigma_{13}^{-}+\\\\sigma_{12}^{-}\\\\sigma_{13}^{+}) + J_{1,4}(\\\\sigma_{1}^{+}\\\\sigma_{4}^{-}+\\\\sigma_{1}^{-}\\\\sigma_{4}^{+}) + J_{2,3}(\\\\sigma_{2}^{+}\\\\sigma_{3}^{-}+\\\\sigma_{2}^{-}\\\\sigma_{3}^{+}) \\\\\\\\ & + J_{6,7}(\\\\sigma_{6}^{+}\\\\sigma_{7}^{-}+\\\\sigma_{6}^{-}\\\\sigma_{7}^{+}) + J_{3,5}(\\\\sigma_{3}^{+}\\\\sigma_{5}^{-}+\\\\sigma_{3}^{-}\\\\sigma_{5}^{+}) + J_{8,9}(\\\\sigma_{8}^{+}\\\\sigma_{9}^{-}+\\\\sigma_{8}^{-}\\\\sigma_{9}^{+}) + J_{12,15}(\\\\sigma_{12}^{+}\\\\sigma_{15}^{-}+\\\\sigma_{12}^{-}\\\\sigma_{15}^{+}) \\\\\\\\ & + J_{11,14}(\\\\sigma_{11}^{+}\\\\sigma_{14}^{-}+\\\\sigma_{11}^{-}\\\\sigma_{14}^{+}) + J_{10,12}(\\\\sigma_{10}^{+}\\\\sigma_{12}^{-}+\\\\sigma_{10}^{-}\\\\sigma_{12}^{+}) + J_{4,7}(\\\\sigma_{4}^{+}\\\\sigma_{7}^{-}+\\\\sigma_{4}^{-}\\\\sigma_{7}^{+}) + J_{8,11}(\\\\sigma_{8}^{+}\\\\sigma_{11}^{-}+\\\\sigma_{8}^{-}\\\\sigma_{11}^{+}) \\\\\\\\ & + \\\\Omega_{d,0}(U_{0}^{(0,1)}(t))\\\\sigma_{0}^{X} + \\\\Omega_{d,1}(U_{1}^{(1,0)}(t)+U_{3}^{(1,4)}(t)+U_{2}^{(1,2)}(t))\\\\sigma_{1}^{X} \\\\\\\\ & + \\\\Omega_{d,2}(U_{5}^{(2,3)}(t)+U_{4}^{(2,1)}(t))\\\\sigma_{2}^{X} + \\\\Omega_{d,3}(U_{6}^{(3,2)}(t)+U_{7}^{(3,5)}(t))\\\\sigma_{3}^{X} \\\\\\\\ & + \\\\Omega_{d,4}(U_{9}^{(4,7)}(t)+U_{8}^{(4,1)}(t))\\\\sigma_{4}^{X} + \\\\Omega_{d,5}(U_{11}^{(5,8)}(t)+U_{10}^{(5,3)}(t))\\\\sigma_{5}^{X} \\\\\\\\ & + \\\\Omega_{d,6}(U_{12}^{(6,7)}(t))\\\\sigma_{6}^{X} + \\\\Omega_{d,7}(U_{14}^{(7,6)}(t)+U_{13}^{(7,4)}(t)+U_{15}^{(7,10)}(t))\\\\sigma_{7}^{X} \\\\\\\\ & + \\\\Omega_{d,8}(U_{18}^{(8,11)}(t)+U_{16}^{(8,5)}(t)+U_{17}^{(8,9)}(t))\\\\sigma_{8}^{X} + \\\\Omega_{d,9}(U_{19}^{(9,8)}(t))\\\\sigma_{9}^{X} \\\\\\\\ & + \\\\Omega_{d,10}(U_{20}^{(10,7)}(t)+U_{21}^{(10,12)}(t))\\\\sigma_{10}^{X} + \\\\Omega_{d,11}(U_{22}^{(11,8)}(t)+U_{23}^{(11,14)}(t))\\\\sigma_{11}^{X} \\\\\\\\ & + \\\\Omega_{d,12}(U_{24}^{(12,10)}(t)+U_{25}^{(12,13)}(t)+U_{26}^{(12,15)}(t))\\\\sigma_{12}^{X} + \\\\Omega_{d,13}(U_{28}^{(13,14)}(t)+U_{27}^{(13,12)}(t))\\\\sigma_{13}^{X} \\\\\\\\ & + \\\\Omega_{d,14}(U_{30}^{(14,13)}(t)+U_{29}^{(14,11)}(t))\\\\sigma_{14}^{X} + \\\\Omega_{d,15}(U_{31}^{(15,12)}(t))\\\\sigma_{15}^{X} \\\\\\\\ \\\\end{align}', 'h_str': ['_SUM[i,0,15,wq{i}/2*(I{i}-Z{i})]', '_SUM[i,0,15,delta{i}/2*O{i}*O{i}]', '_SUM[i,0,15,-delta{i}/2*O{i}]', '_SUM[i,0,15,omegad{i}*X{i}||D{i}]', 'jq0q1*Sp0*Sm1', 'jq0q1*Sm0*Sp1', 'jq13q14*Sp13*Sm14', 'jq13q14*Sm13*Sp14', 'jq1q2*Sp1*Sm2', 'jq1q2*Sm1*Sp2', 'jq5q8*Sp5*Sm8', 'jq5q8*Sm5*Sp8', 'jq7q10*Sp7*Sm10', 'jq7q10*Sm7*Sp10', 'jq12q13*Sp12*Sm13', 'jq12q13*Sm12*Sp13', 'jq1q4*Sp1*Sm4', 'jq1q4*Sm1*Sp4', 'jq2q3*Sp2*Sm3', 'jq2q3*Sm2*Sp3', 'jq6q7*Sp6*Sm7', 'jq6q7*Sm6*Sp7', 'jq3q5*Sp3*Sm5', 'jq3q5*Sm3*Sp5', 'jq8q9*Sp8*Sm9', 'jq8q9*Sm8*Sp9', 'jq12q15*Sp12*Sm15', 'jq12q15*Sm12*Sp15', 'jq11q14*Sp11*Sm14', 'jq11q14*Sm11*Sp14', 'jq10q12*Sp10*Sm12', 'jq10q12*Sm10*Sp12', 'jq4q7*Sp4*Sm7', 'jq4q7*Sm4*Sp7', 'jq8q11*Sp8*Sm11', 'jq8q11*Sm8*Sp11', 'omegad1*X0||U0', 'omegad0*X1||U1', 'omegad4*X1||U3', 'omegad2*X1||U2', 'omegad3*X2||U5', 'omegad1*X2||U4', 'omegad2*X3||U6', 'omegad5*X3||U7', 'omegad7*X4||U9', 'omegad1*X4||U8', 'omegad8*X5||U11', 'omegad3*X5||U10', 'omegad7*X6||U12', 'omegad6*X7||U14', 'omegad4*X7||U13', 'omegad10*X7||U15', 'omegad11*X8||U18', 'omegad5*X8||U16', 'omegad9*X8||U17', 'omegad8*X9||U19', 'omegad7*X10||U20', 'omegad12*X10||U21', 'omegad8*X11||U22', 'omegad14*X11||U23', 'omegad10*X12||U24', 'omegad13*X12||U25', 'omegad15*X12||U26', 'omegad14*X13||U28', 'omegad12*X13||U27', 'omegad13*X14||U30', 'omegad11*X14||U29', 'omegad12*X15||U31'], 'osc': {}, 'qub': {'0': 3, '1': 3, '2': 3, '3': 3, '4': 3, '5': 3, '6': 3, '7': 3, '8': 3, '9': 3, '10': 3, '11': 3, '12': 3, '13': 3, '14': 3, '15': 3}, 'vars': {'delta0': -2.1063275673282793, 'delta1': -1.9997457995481482, 'delta10': -2.0723591213397214, 'delta11': -2.077299463459474, 'delta12': -1.9882861833207344, 'delta13': -2.1195886405011586, 'delta14': -1.9938216985026165, 'delta15': -2.100360336460335, 'delta2': -2.0850063745061163, 'delta3': -1.9841850364728746, 'delta4': -2.0816663449106074, 'delta5': -2.087247252161857, 'delta6': -2.1118540185370227, 'delta7': -1.9938361951339494, 'delta8': -1.9946873220639585, 'delta9': -2.0977196521924837, 'jq0q1': 0.011035706380861009, 'jq10q12': 0.014090719920513348, 'jq11q14': 0.012403331538732508, 'jq12q13': 0.011412587588970341, 'jq12q15': 0.01215583700723528, 'jq13q14': 0.011412484059140323, 'jq1q2': 0.012748863472878359, 'jq1q4': 0.011763703935975567, 'jq2q3': 0.012883066723545332, 'jq3q5': 0.013345490439462725, 'jq4q7': 0.013062130151937424, 'jq5q8': 0.011633341546437841, 'jq6q7': 0.011199743290710286, 'jq7q10': 0.012452487603790153, 'jq8q11': 0.013192726475902064, 'jq8q9': 0.011879100541186129, 'omegad0': 0.9838512878288396, 'omegad1': 1.0384316293579254, 'omegad10': 0.932120819070406, 'omegad11': 0.9934806695780269, 'omegad12': 1.0411864358289518, 'omegad13': 0.9536226251087064, 'omegad14': 0.5955366715050043, 'omegad15': 0.9453740885220324, 'omegad2': 0.984511169671763, 'omegad3': 1.0532209304068187, 'omegad4': 0.9413913616492534, 'omegad5': 1.036849982072353, 'omegad6': 0.8362380909675807, 'omegad7': 1.0286680085213769, 'omegad8': 0.9959294493746959, 'omegad9': 1.0171249247811778, 'wq0': 32.12933851405225, 'wq1': 32.42594044531324, 'wq10': 34.09766682530567, 'wq11': 33.86536722572145, 'wq12': 33.07287632229171, 'wq13': 31.653916343473725, 'wq14': 32.70391415029076, 'wq15': 32.20937365014814, 'wq2': 33.367000611030036, 'wq3': 34.366075595174834, 'wq4': 33.6363451402684, 'wq5': 33.32189201065971, 'wq6': 32.273535942081395, 'wq7': 32.6901136860757, 'wq8': 32.51261875781794, 'wq9': 33.01009938457124}}\n",
      "    acquisition_latency: []\n",
      "    pulse_num_channels: 9\n",
      "    supported_features: ['qobj']\n",
      "    credits_required: True\n",
      "    open_pulse: True\n",
      "    sample_name: family: Falcon, revision: 4, segment: P\n",
      "    quantum_volume: 32\n",
      "    u_channel_lo: [[{'q': 1, 'scale': (1+0j)}], [{'q': 0, 'scale': (1+0j)}], [{'q': 2, 'scale': (1+0j)}], [{'q': 4, 'scale': (1+0j)}], [{'q': 1, 'scale': (1+0j)}], [{'q': 3, 'scale': (1+0j)}], [{'q': 2, 'scale': (1+0j)}], [{'q': 5, 'scale': (1+0j)}], [{'q': 1, 'scale': (1+0j)}], [{'q': 7, 'scale': (1+0j)}], [{'q': 3, 'scale': (1+0j)}], [{'q': 8, 'scale': (1+0j)}], [{'q': 7, 'scale': (1+0j)}], [{'q': 4, 'scale': (1+0j)}], [{'q': 6, 'scale': (1+0j)}], [{'q': 10, 'scale': (1+0j)}], [{'q': 5, 'scale': (1+0j)}], [{'q': 9, 'scale': (1+0j)}], [{'q': 11, 'scale': (1+0j)}], [{'q': 8, 'scale': (1+0j)}], [{'q': 7, 'scale': (1+0j)}], [{'q': 12, 'scale': (1+0j)}], [{'q': 8, 'scale': (1+0j)}], [{'q': 14, 'scale': (1+0j)}], [{'q': 10, 'scale': (1+0j)}], [{'q': 13, 'scale': (1+0j)}], [{'q': 15, 'scale': (1+0j)}], [{'q': 12, 'scale': (1+0j)}], [{'q': 14, 'scale': (1+0j)}], [{'q': 11, 'scale': (1+0j)}], [{'q': 13, 'scale': (1+0j)}], [{'q': 12, 'scale': (1+0j)}]]\n",
      "    conditional_latency: []\n",
      "    online_date: 2021-01-08 05:00:00+00:00\n",
      "    qubit_lo_range: [[4.613543042784228, 5.613543042784228], [4.660748706275015, 5.660748706275015], [4.810523083395723, 5.810523083395723], [4.969530805641825, 5.969530805641825], [4.853390596618768, 5.853390596618768], [4.803343826670829, 5.803343826670829], [4.636492776236204, 5.636492776236204], [4.7027931833749665, 5.7027931833749665], [4.6745439881690025, 5.6745439881690025], [4.753720489009245, 5.753720489009245], [4.926812223147932, 5.926812223147932], [4.889840593595835, 5.889840593595835], [4.76371174895963, 5.76371174895963], [4.5378772542811765, 5.5378772542811765], [4.704989595471757, 5.704989595471757], [4.62628103031492, 5.62628103031492]]\n",
      "\n",
      "Qubits [Name / Freq / T1 / T2 / U1 err / U2 err / U3 err / Readout err]\n",
      "-----------------------------------------------------------------------\n"
     ]
    },
    {
     "ename": "UnboundLocalError",
     "evalue": "local variable 'U1' referenced before assignment",
     "output_type": "error",
     "traceback": [
      "\u001b[0;31m---------------------------------------------------------------------------\u001b[0m",
      "\u001b[0;31mUnboundLocalError\u001b[0m                         Traceback (most recent call last)",
      "Cell \u001b[0;32mIn [6], line 1\u001b[0m\n\u001b[0;32m----> 1\u001b[0m \u001b[43mbackend_monitor\u001b[49m\u001b[43m(\u001b[49m\u001b[43mdevice\u001b[49m\u001b[43m)\u001b[49m\n",
      "File \u001b[0;32m~/Documents/quantum_computing/anaconda/anaconda3/envs/circ_cutting/lib/python3.8/site-packages/qiskit/tools/monitor/overview.py:134\u001b[0m, in \u001b[0;36mbackend_monitor\u001b[0;34m(backend)\u001b[0m\n\u001b[1;32m    130\u001b[0m             \u001b[38;5;28;01mbreak\u001b[39;00m\n\u001b[1;32m    132\u001b[0m     readout_error \u001b[38;5;241m=\u001b[39m \u001b[38;5;28mstr\u001b[39m(\u001b[38;5;28mround\u001b[39m(readout_info[\u001b[38;5;124m'\u001b[39m\u001b[38;5;124mvalue\u001b[39m\u001b[38;5;124m'\u001b[39m], \u001b[38;5;241m5\u001b[39m))\n\u001b[0;32m--> 134\u001b[0m     qstr \u001b[38;5;241m=\u001b[39m sep\u001b[38;5;241m.\u001b[39mjoin([name, freq, T1, T2, \u001b[43mU1\u001b[49m, U2, U3, readout_error])\n\u001b[1;32m    135\u001b[0m     \u001b[38;5;28mprint\u001b[39m(offset\u001b[38;5;241m+\u001b[39mqstr)\n\u001b[1;32m    137\u001b[0m \u001b[38;5;28mprint\u001b[39m()\n",
      "\u001b[0;31mUnboundLocalError\u001b[0m: local variable 'U1' referenced before assignment"
     ]
    }
   ],
   "source": [
    "backend_monitor(device)"
   ]
  },
  {
   "cell_type": "code",
   "execution_count": 7,
   "id": "b6f2eb58",
   "metadata": {},
   "outputs": [],
   "source": [
    "noisy_simulator = provider.get_backend('ibmq_qasm_simulator')"
   ]
  },
  {
   "cell_type": "code",
   "execution_count": 8,
   "id": "61848cfb",
   "metadata": {},
   "outputs": [],
   "source": [
    "front_layer = QuantumCircuit.from_qasm_file(\"qasm/vqe_5q_front.qasm\")"
   ]
  },
  {
   "cell_type": "code",
   "execution_count": 9,
   "id": "4101ca8c",
   "metadata": {},
   "outputs": [],
   "source": [
    "mid_layer = QuantumCircuit.from_qasm_file(\"qasm/vqe_5q_mid.qasm\")"
   ]
  },
  {
   "cell_type": "code",
   "execution_count": 10,
   "id": "1721959d",
   "metadata": {},
   "outputs": [],
   "source": [
    "end_layer = QuantumCircuit.from_qasm_file(\"qasm/vqe_5q_end.qasm\")"
   ]
  },
  {
   "cell_type": "code",
   "execution_count": 11,
   "id": "e6aa46cb",
   "metadata": {},
   "outputs": [],
   "source": [
    "orign_circuit = front_layer + mid_layer + end_layer"
   ]
  },
  {
   "cell_type": "code",
   "execution_count": 12,
   "id": "93020df1",
   "metadata": {},
   "outputs": [
    {
     "data": {
      "text/html": [
       "<pre style=\"word-wrap: normal;white-space: pre;background: #fff0;line-height: 1.1;font-family: &quot;Courier New&quot;,Courier,monospace\">      ┌────────────┐   ┌────────────┐                             »\n",
       "q_0: ─┤ RY(-4.751) ├─■─┤ RY(4.6739) ├─────────────────────────────»\n",
       "      ├────────────┤ │ └────────────┘┌─────────────┐              »\n",
       "q_1: ─┤ RY(3.1415) ├─■───────■───────┤ RY(-3.1415) ├──────────────»\n",
       "     ┌┴────────────┤         │       └─────────────┘┌────────────┐»\n",
       "q_2: ┤ RY(-3.8492) ├─────────■──────────────■───────┤ RY(0.7076) ├»\n",
       "     ├─────────────┤                        │       └────────────┘»\n",
       "q_3: ┤ RY(-3.1416) ├────────────────────────■─────────────■───────»\n",
       "     ├─────────────┤                                      │       »\n",
       "q_4: ┤ RY(-6.8335) ├──────────────────────────────────────■───────»\n",
       "     └─────────────┘                                              »\n",
       "q_5: ─────────────────────────────────────────────────────────────»\n",
       "                                                                  »\n",
       "q_6: ─────────────────────────────────────────────────────────────»\n",
       "                                                                  »\n",
       "q_7: ─────────────────────────────────────────────────────────────»\n",
       "                                                                  »\n",
       "q_8: ─────────────────────────────────────────────────────────────»\n",
       "                                                                  »\n",
       "q_9: ─────────────────────────────────────────────────────────────»\n",
       "                                                                  »\n",
       "«                    \n",
       "«q_0: ───────────────\n",
       "«                    \n",
       "«q_1: ───────────────\n",
       "«                    \n",
       "«q_2: ───────────────\n",
       "«      ┌────────────┐\n",
       "«q_3: ─┤ RY(3.1415) ├\n",
       "«     ┌┴────────────┤\n",
       "«q_4: ┤ RY(-3.6921) ├\n",
       "«     └─────────────┘\n",
       "«q_5: ───────────────\n",
       "«                    \n",
       "«q_6: ───────────────\n",
       "«                    \n",
       "«q_7: ───────────────\n",
       "«                    \n",
       "«q_8: ───────────────\n",
       "«                    \n",
       "«q_9: ───────────────\n",
       "«                    </pre>"
      ],
      "text/plain": [
       "      ┌────────────┐   ┌────────────┐                             »\n",
       "q_0: ─┤ RY(-4.751) ├─■─┤ RY(4.6739) ├─────────────────────────────»\n",
       "      ├────────────┤ │ └────────────┘┌─────────────┐              »\n",
       "q_1: ─┤ RY(3.1415) ├─■───────■───────┤ RY(-3.1415) ├──────────────»\n",
       "     ┌┴────────────┤         │       └─────────────┘┌────────────┐»\n",
       "q_2: ┤ RY(-3.8492) ├─────────■──────────────■───────┤ RY(0.7076) ├»\n",
       "     ├─────────────┤                        │       └────────────┘»\n",
       "q_3: ┤ RY(-3.1416) ├────────────────────────■─────────────■───────»\n",
       "     ├─────────────┤                                      │       »\n",
       "q_4: ┤ RY(-6.8335) ├──────────────────────────────────────■───────»\n",
       "     └─────────────┘                                              »\n",
       "q_5: ─────────────────────────────────────────────────────────────»\n",
       "                                                                  »\n",
       "q_6: ─────────────────────────────────────────────────────────────»\n",
       "                                                                  »\n",
       "q_7: ─────────────────────────────────────────────────────────────»\n",
       "                                                                  »\n",
       "q_8: ─────────────────────────────────────────────────────────────»\n",
       "                                                                  »\n",
       "q_9: ─────────────────────────────────────────────────────────────»\n",
       "                                                                  »\n",
       "«                    \n",
       "«q_0: ───────────────\n",
       "«                    \n",
       "«q_1: ───────────────\n",
       "«                    \n",
       "«q_2: ───────────────\n",
       "«      ┌────────────┐\n",
       "«q_3: ─┤ RY(3.1415) ├\n",
       "«     ┌┴────────────┤\n",
       "«q_4: ┤ RY(-3.6921) ├\n",
       "«     └─────────────┘\n",
       "«q_5: ───────────────\n",
       "«                    \n",
       "«q_6: ───────────────\n",
       "«                    \n",
       "«q_7: ───────────────\n",
       "«                    \n",
       "«q_8: ───────────────\n",
       "«                    \n",
       "«q_9: ───────────────\n",
       "«                    "
      ]
     },
     "execution_count": 12,
     "metadata": {},
     "output_type": "execute_result"
    }
   ],
   "source": [
    "orign_circuit.draw()"
   ]
  },
  {
   "cell_type": "code",
   "execution_count": 13,
   "id": "d4a1d3a6",
   "metadata": {},
   "outputs": [],
   "source": [
    "#checking circuit"
   ]
  },
  {
   "cell_type": "code",
   "execution_count": 14,
   "id": "6937b806",
   "metadata": {},
   "outputs": [],
   "source": [
    "def apply_checking_circuit(qc, ctrl_bits, ancilla_bits, side = None):\n",
    "    if len(ctrl_bits) != len(ancilla_bits):\n",
    "        print(\"Size mismatch\")\n",
    "        return None\n",
    "    if side == 'front':\n",
    "        for i in ancilla_bits:\n",
    "            qc.h(i)\n",
    "        for j,k in zip(ctrl_bits, ancilla_bits):\n",
    "            qc.cz(j, k)\n",
    "    elif side == 'end':\n",
    "        for j,k in zip(ctrl_bits, ancilla_bits):\n",
    "            qc.cz(j, k)\n",
    "        for i in ancilla_bits:\n",
    "            qc.h(i)\n",
    "    else:\n",
    "        print(\"Side undefined\")"
   ]
  },
  {
   "cell_type": "code",
   "execution_count": 15,
   "id": "f7f99e4b",
   "metadata": {},
   "outputs": [],
   "source": [
    "circuit = front_layer.copy()"
   ]
  },
  {
   "cell_type": "code",
   "execution_count": 16,
   "id": "4f530b86",
   "metadata": {},
   "outputs": [],
   "source": [
    "apply_checking_circuit(circuit, [0], [5], side = 'front')\n",
    "circuit += mid_layer\n",
    "apply_checking_circuit(circuit, [0], [5], side = 'end')\n",
    "circuit += end_layer"
   ]
  },
  {
   "cell_type": "code",
   "execution_count": 17,
   "id": "3d751a26",
   "metadata": {},
   "outputs": [
    {
     "data": {
      "text/html": [
       "<pre style=\"word-wrap: normal;white-space: pre;background: #fff0;line-height: 1.1;font-family: &quot;Courier New&quot;,Courier,monospace\">      ┌────────────┐             ┌────────────┐                             \n",
       "q_0: ─┤ RY(-4.751) ├─■──■─────■──┤ RY(4.6739) ├─────────────────────────────\n",
       "      ├────────────┤ │  │     │ ┌┴────────────┤                             \n",
       "q_1: ─┤ RY(3.1415) ├─┼──■──■──┼─┤ RY(-3.1415) ├─────────────────────────────\n",
       "     ┌┴────────────┤ │     │  │ └─────────────┘┌────────────┐               \n",
       "q_2: ┤ RY(-3.8492) ├─┼─────■──┼────────■───────┤ RY(0.7076) ├───────────────\n",
       "     ├─────────────┤ │        │        │       └────────────┘ ┌────────────┐\n",
       "q_3: ┤ RY(-3.1416) ├─┼────────┼────────■─────────────■────────┤ RY(3.1415) ├\n",
       "     ├─────────────┤ │        │                      │       ┌┴────────────┤\n",
       "q_4: ┤ RY(-6.8335) ├─┼────────┼──────────────────────■───────┤ RY(-3.6921) ├\n",
       "     └────┬───┬────┘ │        │      ┌───┐                   └─────────────┘\n",
       "q_5: ─────┤ H ├──────■────────■──────┤ H ├──────────────────────────────────\n",
       "          └───┘                      └───┘                                  \n",
       "q_6: ───────────────────────────────────────────────────────────────────────\n",
       "                                                                            \n",
       "q_7: ───────────────────────────────────────────────────────────────────────\n",
       "                                                                            \n",
       "q_8: ───────────────────────────────────────────────────────────────────────\n",
       "                                                                            \n",
       "q_9: ───────────────────────────────────────────────────────────────────────\n",
       "                                                                            </pre>"
      ],
      "text/plain": [
       "      ┌────────────┐             ┌────────────┐                             \n",
       "q_0: ─┤ RY(-4.751) ├─■──■─────■──┤ RY(4.6739) ├─────────────────────────────\n",
       "      ├────────────┤ │  │     │ ┌┴────────────┤                             \n",
       "q_1: ─┤ RY(3.1415) ├─┼──■──■──┼─┤ RY(-3.1415) ├─────────────────────────────\n",
       "     ┌┴────────────┤ │     │  │ └─────────────┘┌────────────┐               \n",
       "q_2: ┤ RY(-3.8492) ├─┼─────■──┼────────■───────┤ RY(0.7076) ├───────────────\n",
       "     ├─────────────┤ │        │        │       └────────────┘ ┌────────────┐\n",
       "q_3: ┤ RY(-3.1416) ├─┼────────┼────────■─────────────■────────┤ RY(3.1415) ├\n",
       "     ├─────────────┤ │        │                      │       ┌┴────────────┤\n",
       "q_4: ┤ RY(-6.8335) ├─┼────────┼──────────────────────■───────┤ RY(-3.6921) ├\n",
       "     └────┬───┬────┘ │        │      ┌───┐                   └─────────────┘\n",
       "q_5: ─────┤ H ├──────■────────■──────┤ H ├──────────────────────────────────\n",
       "          └───┘                      └───┘                                  \n",
       "q_6: ───────────────────────────────────────────────────────────────────────\n",
       "                                                                            \n",
       "q_7: ───────────────────────────────────────────────────────────────────────\n",
       "                                                                            \n",
       "q_8: ───────────────────────────────────────────────────────────────────────\n",
       "                                                                            \n",
       "q_9: ───────────────────────────────────────────────────────────────────────\n",
       "                                                                            "
      ]
     },
     "execution_count": 17,
     "metadata": {},
     "output_type": "execute_result"
    }
   ],
   "source": [
    "circuit.draw()"
   ]
  },
  {
   "cell_type": "code",
   "execution_count": 18,
   "id": "7a0bb967",
   "metadata": {},
   "outputs": [],
   "source": [
    "trans_qc = transpile(circuit, basis_gates = ['sx', 'cx', 'reset', 'id', 'x', 'rz'])"
   ]
  },
  {
   "cell_type": "code",
   "execution_count": 19,
   "id": "c89ec38f",
   "metadata": {},
   "outputs": [
    {
     "name": "stderr",
     "output_type": "stream",
     "text": [
      "/Users/revilooliver/Documents/quantum_computing/anaconda/anaconda3/envs/circ_cutting/lib/python3.8/site-packages/qiskit/circuit/tools/pi_check.py:49: SymPyDeprecationWarning: \n",
      "\n",
      "The expr_free_symbols property is deprecated. Use free_symbols to get\n",
      "the free symbols of an expression.\n",
      "\n",
      "See https://docs.sympy.org/latest/explanation/active-deprecations.html#deprecated-expr-free-symbols\n",
      "for details.\n",
      "\n",
      "This has been deprecated since SymPy version 1.9. It\n",
      "will be removed in a future version of SymPy.\n",
      "\n",
      "  syms = inpt._symbol_expr.expr_free_symbols\n"
     ]
    },
    {
     "data": {
      "image/png": "[encoded data removed]",
      "text/plain": [
       "<Figure size 2126.94x869.556 with 1 Axes>"
      ]
     },
     "execution_count": 19,
     "metadata": {},
     "output_type": "execute_result"
    },
    {
     "data": {
      "image/png": "[encoded data removed]",
      "text/plain": [
       "<Figure size 2126.94x869.556 with 1 Axes>"
      ]
     },
     "metadata": {},
     "output_type": "display_data"
    }
   ],
   "source": [
    "trans_qc.draw(output = 'mpl')"
   ]
  },
  {
   "cell_type": "code",
   "execution_count": 20,
   "id": "95e1ee63",
   "metadata": {},
   "outputs": [
    {
     "name": "stdout",
     "output_type": "stream",
     "text": [
      "NoiseModel:\n",
      "  Basis gates: ['cx', 'id', 'u3']\n",
      "  Instructions with noise: ['measure']\n",
      "  Qubits with noise: [0, 1, 2, 3, 4, 5, 6, 7, 8, 9, 10, 11, 12, 13, 14, 15]\n",
      "  Specific qubit errors: [('measure', [0]), ('measure', [1]), ('measure', [2]), ('measure', [3]), ('measure', [4]), ('measure', [5]), ('measure', [6]), ('measure', [7]), ('measure', [8]), ('measure', [9]), ('measure', [10]), ('measure', [11]), ('measure', [12]), ('measure', [13]), ('measure', [14]), ('measure', [15])]\n"
     ]
    }
   ],
   "source": [
    "from qiskit import IBMQ, Aer\n",
    "from qiskit.providers.aer.noise import NoiseModel\n",
    "noise_model = NoiseModel.from_backend(device, gate_error = False, thermal_relaxation= False)\n",
    "print(noise_model)"
   ]
  },
  {
   "cell_type": "code",
   "execution_count": 21,
   "id": "df5afe2c",
   "metadata": {},
   "outputs": [],
   "source": [
    "from qiskit.providers.aer.noise import NoiseModel\n",
    "from qiskit.providers.aer.noise import QuantumError, ReadoutError\n",
    "from qiskit.providers.aer.noise import pauli_error\n",
    "from qiskit.providers.aer.noise import depolarizing_error\n",
    "from qiskit.providers.aer.noise import thermal_relaxation_error"
   ]
  },
  {
   "cell_type": "code",
   "execution_count": 22,
   "id": "b6222b29",
   "metadata": {},
   "outputs": [],
   "source": [
    "# p_gate1 = 0.4\n",
    "# error_gate1 = pauli_error([('X',p_gate1), ('I', 1 - p_gate1)])\n",
    "# error_gate2 = error_gate1.tensor(error_gate1)"
   ]
  },
  {
   "cell_type": "code",
   "execution_count": 23,
   "id": "380a8cb5",
   "metadata": {},
   "outputs": [],
   "source": [
    "# noise_model.add_all_qubit_quantum_error(error_gate2, [\"cx\"])"
   ]
  },
  {
   "cell_type": "code",
   "execution_count": 24,
   "id": "e6fa3737",
   "metadata": {},
   "outputs": [],
   "source": [
    "circuit = trans_qc"
   ]
  },
  {
   "cell_type": "code",
   "execution_count": 25,
   "id": "0b2c17cd",
   "metadata": {},
   "outputs": [],
   "source": [
    "cuts = []\n",
    "for i in range(0, 1):\n",
    "    if i == 0 or i == qubits - 1:\n",
    "        cut = [(circuit.qubits[i], 5),(circuit.qubits[i], 6)]\n",
    "    else:\n",
    "        cut = [(circuit.qubits[i], 5),(circuit.qubits[i], 4)]\n",
    "    cuts += cut"
   ]
  },
  {
   "cell_type": "code",
   "execution_count": 26,
   "id": "4993ee93",
   "metadata": {},
   "outputs": [
    {
     "name": "stdout",
     "output_type": "stream",
     "text": [
      "[(Qubit(QuantumRegister(10, 'q'), 0), 5), (Qubit(QuantumRegister(10, 'q'), 0), 6)]\n"
     ]
    }
   ],
   "source": [
    "print(cuts)"
   ]
  },
  {
   "cell_type": "code",
   "execution_count": 27,
   "id": "7aa1870b",
   "metadata": {},
   "outputs": [
    {
     "name": "stdout",
     "output_type": "stream",
     "text": [
      "WARNING: some qubits are entirely unused\n",
      "unused qubits: [Qubit(QuantumRegister(10, 'q'), 6), Qubit(QuantumRegister(10, 'q'), 7), Qubit(QuantumRegister(10, 'q'), 8), Qubit(QuantumRegister(10, 'q'), 9)]\n"
     ]
    }
   ],
   "source": [
    "fragments, wire_path_map = circuit_cutter.cut_circuit(circuit, cuts)"
   ]
  },
  {
   "cell_type": "code",
   "execution_count": 28,
   "id": "6872220e",
   "metadata": {},
   "outputs": [
    {
     "name": "stdout",
     "output_type": "stream",
     "text": [
      "{Qubit(QuantumRegister(10, 'q'), 0): ((0, Qubit(QuantumRegister(3, 'q'), 2)), (1, Qubit(QuantumRegister(5, 'q'), 1)), (0, Qubit(QuantumRegister(3, 'q'), 0))), Qubit(QuantumRegister(10, 'q'), 1): ((1, Qubit(QuantumRegister(5, 'q'), 2)),), Qubit(QuantumRegister(10, 'q'), 2): ((1, Qubit(QuantumRegister(5, 'q'), 3)),), Qubit(QuantumRegister(10, 'q'), 3): ((1, Qubit(QuantumRegister(5, 'q'), 0)),), Qubit(QuantumRegister(10, 'q'), 4): ((1, Qubit(QuantumRegister(5, 'q'), 4)),), Qubit(QuantumRegister(10, 'q'), 5): ((0, Qubit(QuantumRegister(3, 'q'), 1)),), Qubit(QuantumRegister(10, 'q'), 6): ((2, Qubit(QuantumRegister(4, 'q'), 0)),), Qubit(QuantumRegister(10, 'q'), 7): ((2, Qubit(QuantumRegister(4, 'q'), 1)),), Qubit(QuantumRegister(10, 'q'), 8): ((2, Qubit(QuantumRegister(4, 'q'), 2)),), Qubit(QuantumRegister(10, 'q'), 9): ((2, Qubit(QuantumRegister(4, 'q'), 3)),)}\n"
     ]
    }
   ],
   "source": [
    "print(wire_path_map)"
   ]
  },
  {
   "cell_type": "code",
   "execution_count": 29,
   "id": "dd8a5b10",
   "metadata": {},
   "outputs": [],
   "source": [
    "total_variants = ml.fragment_variants(wire_path_map)"
   ]
  },
  {
   "cell_type": "code",
   "execution_count": 30,
   "id": "d79b8e01",
   "metadata": {},
   "outputs": [
    {
     "data": {
      "text/plain": [
       "25"
      ]
     },
     "execution_count": 30,
     "metadata": {},
     "output_type": "execute_result"
    }
   ],
   "source": [
    "total_variants"
   ]
  },
  {
   "cell_type": "code",
   "execution_count": 31,
   "id": "45286087",
   "metadata": {},
   "outputs": [],
   "source": [
    "shots = 32000 * total_variants"
   ]
  },
  {
   "cell_type": "code",
   "execution_count": 32,
   "id": "8600221e",
   "metadata": {},
   "outputs": [
    {
     "name": "stdout",
     "output_type": "stream",
     "text": [
      "total circuit:\n",
      "global phase: -143.022205342739\n",
      "         ┌────┐    ┌────────────┐    ┌────┐    ┌───────┐                   »\n",
      "q_0: ────┤ √X ├────┤ RZ(4.6738) ├────┤ √X ├────┤ RZ(π) ├───────────■────■──»\n",
      "         ├────┤    ├────────────┤    ├────┤    └───────┘           │  ┌─┴─┐»\n",
      "q_1: ────┤ √X ├────┤ RZ(4.7123) ├────┤ √X ├────────────────────────┼──┤ X ├»\n",
      "         ├────┤    ├────────────┤    ├────┤                        │  └───┘»\n",
      "q_2: ────┤ √X ├────┤ RZ(4.0048) ├────┤ √X ├────────────────────────┼───────»\n",
      "     ┌───┴────┴───┐└───┬────┬───┘┌───┴────┴───┐                    │       »\n",
      "q_3: ┤ RZ(4.7124) ├────┤ √X ├────┤ RZ(4.7124) ├────────────────────┼───────»\n",
      "     └─┬───────┬──┘    ├────┤    ├────────────┤  ┌────┐ ┌───────┐  │       »\n",
      "q_4: ──┤ RZ(π) ├───────┤ √X ├────┤ RZ(5.2627) ├──┤ √X ├─┤ RZ(π) ├──┼───────»\n",
      "       └───────┘       └────┘    └────────────┘  └────┘ └───────┘┌─┴─┐     »\n",
      "q_5: ────────────────────────────────────────────────────────────┤ X ├─────»\n",
      "                                                                 └───┘     »\n",
      "q_6: ──────────────────────────────────────────────────────────────────────»\n",
      "                                                                           »\n",
      "q_7: ──────────────────────────────────────────────────────────────────────»\n",
      "                                                                           »\n",
      "q_8: ──────────────────────────────────────────────────────────────────────»\n",
      "                                                                           »\n",
      "q_9: ──────────────────────────────────────────────────────────────────────»\n",
      "                                                                           »\n",
      "«           ┌────────┐┌────┐┌────────────┐┌────┐                               »\n",
      "«q_0: ──■───┤ RZ(-π) ├┤ √X ├┤ RZ(4.7509) ├┤ √X ├───────────────────────────────»\n",
      "«       │  ┌┴────────┤├────┤└┬─────────┬─┘└────┘ ┌───────┐ ┌────┐┌────────────┐»\n",
      "«q_1: ──┼──┤ RZ(π/2) ├┤ √X ├─┤ RZ(π/2) ├────■────┤ RZ(π) ├─┤ √X ├┤ RZ(6.2831) ├»\n",
      "«       │  └─────────┘└────┘ └─────────┘  ┌─┴─┐ ┌┴───────┴┐├────┤└┬─────────┬─┘»\n",
      "«q_2: ──┼─────────────────────────────────┤ X ├─┤ RZ(π/2) ├┤ √X ├─┤ RZ(π/2) ├──»\n",
      "«       │                                 └───┘ └─────────┘└────┘ └─────────┘  »\n",
      "«q_3: ──┼──────────────────────────────────────────────────────────────────────»\n",
      "«       │                                                                      »\n",
      "«q_4: ──┼──────────────────────────────────────────────────────────────────────»\n",
      "«     ┌─┴─┐                                                                    »\n",
      "«q_5: ┤ X ├────────────────────────────────────────────────────────────────────»\n",
      "«     └───┘                                                                    »\n",
      "«q_6: ─────────────────────────────────────────────────────────────────────────»\n",
      "«                                                                              »\n",
      "«q_7: ─────────────────────────────────────────────────────────────────────────»\n",
      "«                                                                              »\n",
      "«q_8: ─────────────────────────────────────────────────────────────────────────»\n",
      "«                                                                              »\n",
      "«q_9: ─────────────────────────────────────────────────────────────────────────»\n",
      "«                                                                              »\n",
      "«                                                                            »\n",
      "«q_0: ───────────────────────────────────────────────────────────────────────»\n",
      "«     ┌────┐                                                                 »\n",
      "«q_1: ┤ √X ├─────────────────────────────────────────────────────────────────»\n",
      "«     └────┘   ┌────┐  ┌────────────┐   ┌────┐  ┌───────┐                    »\n",
      "«q_2: ──■──────┤ √X ├──┤ RZ(3.8492) ├───┤ √X ├──┤ RZ(π) ├────────────────────»\n",
      "«     ┌─┴─┐ ┌──┴────┴─┐└───┬────┬───┘┌──┴────┴─┐└───────┘┌────┐┌────────────┐»\n",
      "«q_3: ┤ X ├─┤ RZ(π/2) ├────┤ √X ├────┤ RZ(π/2) ├────■────┤ √X ├┤ RZ(6.2831) ├»\n",
      "«     └───┘ └─────────┘    └────┘    └─────────┘  ┌─┴─┐  ├────┤├────────────┤»\n",
      "«q_4: ────────────────────────────────────────────┤ X ├──┤ √X ├┤ RZ(5.2629) ├»\n",
      "«                                                 └───┘  └────┘└────────────┘»\n",
      "«q_5: ───────────────────────────────────────────────────────────────────────»\n",
      "«                                                                            »\n",
      "«q_6: ───────────────────────────────────────────────────────────────────────»\n",
      "«                                                                            »\n",
      "«q_7: ───────────────────────────────────────────────────────────────────────»\n",
      "«                                                                            »\n",
      "«q_8: ───────────────────────────────────────────────────────────────────────»\n",
      "«                                                                            »\n",
      "«q_9: ───────────────────────────────────────────────────────────────────────»\n",
      "«                                                                            »\n",
      "«                    \n",
      "«q_0: ───────────────\n",
      "«                    \n",
      "«q_1: ───────────────\n",
      "«                    \n",
      "«q_2: ───────────────\n",
      "«     ┌────┐┌───────┐\n",
      "«q_3: ┤ √X ├┤ RZ(π) ├\n",
      "«     ├────┤└───────┘\n",
      "«q_4: ┤ √X ├─────────\n",
      "«     └────┘         \n",
      "«q_5: ───────────────\n",
      "«                    \n",
      "«q_6: ───────────────\n",
      "«                    \n",
      "«q_7: ───────────────\n",
      "«                    \n",
      "«q_8: ───────────────\n",
      "«                    \n",
      "«q_9: ───────────────\n",
      "«                    \n",
      "cuts:\n",
      " (Qubit(QuantumRegister(10, 'q'), 0), 5)\n",
      " (Qubit(QuantumRegister(10, 'q'), 0), 6)\n",
      "\n",
      "fragment 0:\n",
      "                                                  ┌────────┐┌────┐»\n",
      "q_0: ──────────────────────────────────────────■──┤ RZ(-π) ├┤ √X ├»\n",
      "                                        ┌───┐┌─┴─┐└────────┘└────┘»\n",
      "q_1: ───────────────────────────────────┤ X ├┤ X ├────────────────»\n",
      "     ┌────┐┌────────────┐┌────┐┌───────┐└─┬─┘└───┘                »\n",
      "q_2: ┤ √X ├┤ RZ(4.6738) ├┤ √X ├┤ RZ(π) ├──■───────────────────────»\n",
      "     └────┘└────────────┘└────┘└───────┘                          »\n",
      "«     ┌────────────┐┌────┐\n",
      "«q_0: ┤ RZ(4.7509) ├┤ √X ├\n",
      "«     └────────────┘└────┘\n",
      "«q_1: ────────────────────\n",
      "«                         \n",
      "«q_2: ────────────────────\n",
      "«                         \n",
      "\n",
      "fragment 1:\n",
      "     ┌────────────┐    ┌────┐    ┌────────────┐                       »\n",
      "q_0: ┤ RZ(4.7124) ├────┤ √X ├────┤ RZ(4.7124) ├───────────────────────»\n",
      "     └────────────┘    └────┘    └────────────┘                       »\n",
      "q_1: ────────────────────────────────────────────■────────────────────»\n",
      "         ┌────┐    ┌────────────┐    ┌────┐    ┌─┴─┐ ┌─────────┐┌────┐»\n",
      "q_2: ────┤ √X ├────┤ RZ(4.7123) ├────┤ √X ├────┤ X ├─┤ RZ(π/2) ├┤ √X ├»\n",
      "         ├────┤    ├────────────┤    ├────┤    └───┘ └─────────┘└────┘»\n",
      "q_3: ────┤ √X ├────┤ RZ(4.0048) ├────┤ √X ├───────────────────────────»\n",
      "       ┌─┴────┴┐   └───┬────┬───┘┌───┴────┴───┐┌────┐ ┌───────┐       »\n",
      "q_4: ──┤ RZ(π) ├───────┤ √X ├────┤ RZ(5.2627) ├┤ √X ├─┤ RZ(π) ├───────»\n",
      "       └───────┘       └────┘    └────────────┘└────┘ └───────┘       »\n",
      "«                                                          ┌───┐┌─────────┐»\n",
      "«q_0: ─────────────────────────────────────────────────────┤ X ├┤ RZ(π/2) ├»\n",
      "«                                                          └─┬─┘└─────────┘»\n",
      "«q_1: ───────────────────────────────────────────────────────┼─────────────»\n",
      "«     ┌─────────┐      ┌───────┐ ┌────┐┌────────────┐┌────┐  │             »\n",
      "«q_2: ┤ RZ(π/2) ├──■───┤ RZ(π) ├─┤ √X ├┤ RZ(6.2831) ├┤ √X ├──┼─────────────»\n",
      "«     └─────────┘┌─┴─┐┌┴───────┴┐├────┤└┬─────────┬─┘└────┘  │     ┌────┐  »\n",
      "«q_3: ───────────┤ X ├┤ RZ(π/2) ├┤ √X ├─┤ RZ(π/2) ├──────────■─────┤ √X ├──»\n",
      "«                └───┘└─────────┘└────┘ └─────────┘                └────┘  »\n",
      "«q_4: ─────────────────────────────────────────────────────────────────────»\n",
      "«                                                                          »\n",
      "«         ┌────┐    ┌─────────┐              ┌────┐┌────────────┐┌────┐»\n",
      "«q_0: ────┤ √X ├────┤ RZ(π/2) ├───────────■──┤ √X ├┤ RZ(6.2831) ├┤ √X ├»\n",
      "«         └────┘    └─────────┘           │  └────┘└────────────┘└────┘»\n",
      "«q_1: ────────────────────────────────────┼────────────────────────────»\n",
      "«                                         │                            »\n",
      "«q_2: ────────────────────────────────────┼────────────────────────────»\n",
      "«     ┌────────────┐   ┌────┐  ┌───────┐  │                            »\n",
      "«q_3: ┤ RZ(3.8492) ├───┤ √X ├──┤ RZ(π) ├──┼────────────────────────────»\n",
      "«     └────────────┘   └────┘  └───────┘┌─┴─┐┌────┐┌────────────┐┌────┐»\n",
      "«q_4: ──────────────────────────────────┤ X ├┤ √X ├┤ RZ(5.2629) ├┤ √X ├»\n",
      "«                                       └───┘└────┘└────────────┘└────┘»\n",
      "«     ┌───────┐\n",
      "«q_0: ┤ RZ(π) ├\n",
      "«     └───────┘\n",
      "«q_1: ─────────\n",
      "«              \n",
      "«q_2: ─────────\n",
      "«              \n",
      "«q_3: ─────────\n",
      "«              \n",
      "«q_4: ─────────\n",
      "«              \n",
      "\n",
      "fragment 2:\n",
      "     \n",
      "q_0: \n",
      "     \n",
      "q_1: \n",
      "     \n",
      "q_2: \n",
      "     \n",
      "q_3: \n",
      "     \n",
      "\n",
      "fragment_index, prep_cuts, meas_cuts:\n",
      "0 1 1\n",
      "1 1 1\n",
      "2 0 0\n",
      "\n",
      "total number of fragment variants: 25\n",
      "total number of shots: 800000\n",
      "\n"
     ]
    }
   ],
   "source": [
    "if print_circuits:\n",
    "    print(\"total circuit:\")\n",
    "    print(circuit)\n",
    "    print(\"cuts:\")\n",
    "    for cut in cuts:\n",
    "        print(\"\",cut)\n",
    "    print()\n",
    "    for idx, fragment in enumerate(fragments):\n",
    "        print(f\"fragment {idx}:\")\n",
    "        print(fragment)\n",
    "        print()\n",
    "    fragment_cuts = ml.fragment_cuts(wire_path_map)\n",
    "    print(\"fragment_index, prep_cuts, meas_cuts:\")\n",
    "    for frag_idx, frag_cuts in enumerate(fragment_cuts):\n",
    "        print(frag_idx, frag_cuts[\"prep\"], frag_cuts[\"meas\"])\n",
    "    print()\n",
    "    print(\"total number of fragment variants:\", total_variants)\n",
    "    print(\"total number of shots:\", ( shots // total_variants ) * total_variants)\n",
    "    print()"
   ]
  },
  {
   "cell_type": "code",
   "execution_count": 33,
   "id": "956041cd",
   "metadata": {},
   "outputs": [
    {
     "name": "stdout",
     "output_type": "stream",
     "text": [
      "[{'prep': 1, 'meas': 1}, {'prep': 1, 'meas': 1}, {'prep': 0, 'meas': 0}]\n"
     ]
    }
   ],
   "source": [
    "print(fragment_cuts)"
   ]
  },
  {
   "cell_type": "code",
   "execution_count": 34,
   "id": "398d7b33",
   "metadata": {},
   "outputs": [],
   "source": [
    "# list of all possible measurement outcomes (bitstrings)\n",
    "all_bits = [ \"\".join(bits) for bits in itertools.product([\"0\",\"1\"], repeat = qubits) ]"
   ]
  },
  {
   "cell_type": "code",
   "execution_count": 35,
   "id": "05e2a6c7",
   "metadata": {},
   "outputs": [
    {
     "name": "stdout",
     "output_type": "stream",
     "text": [
      "['00000', '00001', '00010', '00011', '00100', '00101', '00110', '00111', '01000', '01001', '01010', '01011', '01100', '01101', '01110', '01111', '10000', '10001', '10010', '10011', '10100', '10101', '10110', '10111', '11000', '11001', '11010', '11011', '11100', '11101', '11110', '11111']\n"
     ]
    }
   ],
   "source": [
    "print(all_bits)"
   ]
  },
  {
   "cell_type": "code",
   "execution_count": 36,
   "id": "991f5ee3",
   "metadata": {},
   "outputs": [
    {
     "name": "stdout",
     "output_type": "stream",
     "text": [
      "job_id:  82c05df2-1f4e-4c84-bc6d-a5afac3e4960\n"
     ]
    }
   ],
   "source": [
    "# get the actual state / probability distribution for the full circuit\n",
    "actual_state = ml.get_statevector(circuit)\n",
    "actual_dist = { \"\".join(bits) : abs(amp)**2\n",
    "                for bits, amp in zip(all_bits, actual_state)\n",
    "                if amp != 0 }\n",
    "\n",
    "# get a simulated probability distribution for the full circuit\n",
    "circuit.measure_active()\n",
    "full_circuit_result = ml.run_circuits(circuit, shots, backend = simulation_backend)\n",
    "full_circuit_dist = {}\n",
    "for part in full_circuit_result:\n",
    "    for bits, counts in part.get_counts(circuit).items():\n",
    "        if bits not in full_circuit_dist:\n",
    "            full_circuit_dist[bits] = 0\n",
    "        full_circuit_dist[bits] += counts / shots"
   ]
  },
  {
   "cell_type": "code",
   "execution_count": 37,
   "id": "7e93e1dc",
   "metadata": {},
   "outputs": [
    {
     "data": {
      "text/plain": [
       "{Qubit(QuantumRegister(10, 'q'), 0): ((0, Qubit(QuantumRegister(3, 'q'), 2)),\n",
       "  (1, Qubit(QuantumRegister(5, 'q'), 1)),\n",
       "  (0, Qubit(QuantumRegister(3, 'q'), 0))),\n",
       " Qubit(QuantumRegister(10, 'q'), 1): ((1, Qubit(QuantumRegister(5, 'q'), 2)),),\n",
       " Qubit(QuantumRegister(10, 'q'), 2): ((1, Qubit(QuantumRegister(5, 'q'), 3)),),\n",
       " Qubit(QuantumRegister(10, 'q'), 3): ((1, Qubit(QuantumRegister(5, 'q'), 0)),),\n",
       " Qubit(QuantumRegister(10, 'q'), 4): ((1, Qubit(QuantumRegister(5, 'q'), 4)),),\n",
       " Qubit(QuantumRegister(10, 'q'), 5): ((0, Qubit(QuantumRegister(3, 'q'), 1)),),\n",
       " Qubit(QuantumRegister(10, 'q'), 6): ((2, Qubit(QuantumRegister(4, 'q'), 0)),),\n",
       " Qubit(QuantumRegister(10, 'q'), 7): ((2, Qubit(QuantumRegister(4, 'q'), 1)),),\n",
       " Qubit(QuantumRegister(10, 'q'), 8): ((2, Qubit(QuantumRegister(4, 'q'), 2)),),\n",
       " Qubit(QuantumRegister(10, 'q'), 9): ((2, Qubit(QuantumRegister(4, 'q'), 3)),)}"
      ]
     },
     "execution_count": 37,
     "metadata": {},
     "output_type": "execute_result"
    }
   ],
   "source": [
    "wire_path_map"
   ]
  },
  {
   "cell_type": "code",
   "execution_count": 38,
   "id": "6a5762e7",
   "metadata": {},
   "outputs": [],
   "source": [
    "orign_qc = QuantumCircuit.from_qasm_file(\"qasm/vqe_5q.qasm\")\n",
    "orign_qc.measure_all()"
   ]
  },
  {
   "cell_type": "code",
   "execution_count": 39,
   "id": "168341f6",
   "metadata": {},
   "outputs": [],
   "source": [
    "orign_qc = transpile(orign_qc, basis_gates = ['sx', 'cx', 'reset', 'id', 'x', 'rz'])"
   ]
  },
  {
   "cell_type": "code",
   "execution_count": 40,
   "id": "c3eb407d",
   "metadata": {},
   "outputs": [
    {
     "data": {
      "text/html": [
       "<pre style=\"word-wrap: normal;white-space: pre;background: #fff0;line-height: 1.1;font-family: &quot;Courier New&quot;,Courier,monospace\">global phase: -110.035482480046\n",
       "            ┌────┐    ┌────────────┐    ┌────┐    ┌───────┐          ┌────────┐»\n",
       "   q_0: ────┤ √X ├────┤ RZ(4.6738) ├────┤ √X ├────┤ RZ(π) ├────■─────┤ RZ(-π) ├»\n",
       "            ├────┤    ├────────────┤    ├────┤    └───────┘  ┌─┴─┐  ┌┴────────┤»\n",
       "   q_1: ────┤ √X ├────┤ RZ(4.7123) ├────┤ √X ├───────────────┤ X ├──┤ RZ(π/2) ├»\n",
       "            ├────┤    ├────────────┤    ├────┤               └───┘  └─────────┘»\n",
       "   q_2: ────┤ √X ├────┤ RZ(4.0048) ├────┤ √X ├─────────────────────────────────»\n",
       "        ┌───┴────┴───┐└───┬────┬───┘┌───┴────┴───┐                             »\n",
       "   q_3: ┤ RZ(4.7124) ├────┤ √X ├────┤ RZ(4.7124) ├─────────────────────────────»\n",
       "        └─┬───────┬──┘    ├────┤    ├────────────┤  ┌────┐ ┌───────┐           »\n",
       "   q_4: ──┤ RZ(π) ├───────┤ √X ├────┤ RZ(5.2627) ├──┤ √X ├─┤ RZ(π) ├───────────»\n",
       "          └───────┘       └────┘    └────────────┘  └────┘ └───────┘           »\n",
       "meas: 5/═══════════════════════════════════════════════════════════════════════»\n",
       "                                                                               »\n",
       "«        ┌────┐┌────────────┐┌────┐                                     »\n",
       "«   q_0: ┤ √X ├┤ RZ(4.7509) ├┤ √X ├─────────────────────────────────────»\n",
       "«        ├────┤└┬─────────┬─┘└────┘ ┌───────┐ ┌────┐┌────────────┐┌────┐»\n",
       "«   q_1: ┤ √X ├─┤ RZ(π/2) ├────■────┤ RZ(π) ├─┤ √X ├┤ RZ(6.2831) ├┤ √X ├»\n",
       "«        └────┘ └─────────┘  ┌─┴─┐ ┌┴───────┴┐├────┤└┬─────────┬─┘└────┘»\n",
       "«   q_2: ────────────────────┤ X ├─┤ RZ(π/2) ├┤ √X ├─┤ RZ(π/2) ├────■───»\n",
       "«                            └───┘ └─────────┘└────┘ └─────────┘  ┌─┴─┐ »\n",
       "«   q_3: ─────────────────────────────────────────────────────────┤ X ├─»\n",
       "«                                                                 └───┘ »\n",
       "«   q_4: ───────────────────────────────────────────────────────────────»\n",
       "«                                                                       »\n",
       "«meas: 5/═══════════════════════════════════════════════════════════════»\n",
       "«                                                                       »\n",
       "«                                                                         »\n",
       "«   q_0: ─────────────────────────────────────────────────────────────────»\n",
       "«                                                                         »\n",
       "«   q_1: ─────────────────────────────────────────────────────────────────»\n",
       "«           ┌────┐  ┌────────────┐   ┌────┐  ┌───────┐                    »\n",
       "«   q_2: ───┤ √X ├──┤ RZ(3.8492) ├───┤ √X ├──┤ RZ(π) ├────────────────────»\n",
       "«        ┌──┴────┴─┐└───┬────┬───┘┌──┴────┴─┐└───────┘┌────┐┌────────────┐»\n",
       "«   q_3: ┤ RZ(π/2) ├────┤ √X ├────┤ RZ(π/2) ├────■────┤ √X ├┤ RZ(6.2831) ├»\n",
       "«        └─────────┘    └────┘    └─────────┘  ┌─┴─┐  ├────┤├────────────┤»\n",
       "«   q_4: ──────────────────────────────────────┤ X ├──┤ √X ├┤ RZ(5.2629) ├»\n",
       "«                                              └───┘  └────┘└────────────┘»\n",
       "«meas: 5/═════════════════════════════════════════════════════════════════»\n",
       "«                                                                         »\n",
       "«                        ░ ┌─┐            \n",
       "«   q_0: ────────────────░─┤M├────────────\n",
       "«                        ░ └╥┘┌─┐         \n",
       "«   q_1: ────────────────░──╫─┤M├─────────\n",
       "«                        ░  ║ └╥┘┌─┐      \n",
       "«   q_2: ────────────────░──╫──╫─┤M├──────\n",
       "«        ┌────┐┌───────┐ ░  ║  ║ └╥┘┌─┐   \n",
       "«   q_3: ┤ √X ├┤ RZ(π) ├─░──╫──╫──╫─┤M├───\n",
       "«        ├────┤└───────┘ ░  ║  ║  ║ └╥┘┌─┐\n",
       "«   q_4: ┤ √X ├──────────░──╫──╫──╫──╫─┤M├\n",
       "«        └────┘          ░  ║  ║  ║  ║ └╥┘\n",
       "«meas: 5/═══════════════════╩══╩══╩══╩══╩═\n",
       "«                           0  1  2  3  4 </pre>"
      ],
      "text/plain": [
       "global phase: -110.035482480046\n",
       "            ┌────┐    ┌────────────┐    ┌────┐    ┌───────┐          ┌────────┐»\n",
       "   q_0: ────┤ √X ├────┤ RZ(4.6738) ├────┤ √X ├────┤ RZ(π) ├────■─────┤ RZ(-π) ├»\n",
       "            ├────┤    ├────────────┤    ├────┤    └───────┘  ┌─┴─┐  ┌┴────────┤»\n",
       "   q_1: ────┤ √X ├────┤ RZ(4.7123) ├────┤ √X ├───────────────┤ X ├──┤ RZ(π/2) ├»\n",
       "            ├────┤    ├────────────┤    ├────┤               └───┘  └─────────┘»\n",
       "   q_2: ────┤ √X ├────┤ RZ(4.0048) ├────┤ √X ├─────────────────────────────────»\n",
       "        ┌───┴────┴───┐└───┬────┬───┘┌───┴────┴───┐                             »\n",
       "   q_3: ┤ RZ(4.7124) ├────┤ √X ├────┤ RZ(4.7124) ├─────────────────────────────»\n",
       "        └─┬───────┬──┘    ├────┤    ├────────────┤  ┌────┐ ┌───────┐           »\n",
       "   q_4: ──┤ RZ(π) ├───────┤ √X ├────┤ RZ(5.2627) ├──┤ √X ├─┤ RZ(π) ├───────────»\n",
       "          └───────┘       └────┘    └────────────┘  └────┘ └───────┘           »\n",
       "meas: 5/═══════════════════════════════════════════════════════════════════════»\n",
       "                                                                               »\n",
       "«        ┌────┐┌────────────┐┌────┐                                     »\n",
       "«   q_0: ┤ √X ├┤ RZ(4.7509) ├┤ √X ├─────────────────────────────────────»\n",
       "«        ├────┤└┬─────────┬─┘└────┘ ┌───────┐ ┌────┐┌────────────┐┌────┐»\n",
       "«   q_1: ┤ √X ├─┤ RZ(π/2) ├────■────┤ RZ(π) ├─┤ √X ├┤ RZ(6.2831) ├┤ √X ├»\n",
       "«        └────┘ └─────────┘  ┌─┴─┐ ┌┴───────┴┐├────┤└┬─────────┬─┘└────┘»\n",
       "«   q_2: ────────────────────┤ X ├─┤ RZ(π/2) ├┤ √X ├─┤ RZ(π/2) ├────■───»\n",
       "«                            └───┘ └─────────┘└────┘ └─────────┘  ┌─┴─┐ »\n",
       "«   q_3: ─────────────────────────────────────────────────────────┤ X ├─»\n",
       "«                                                                 └───┘ »\n",
       "«   q_4: ───────────────────────────────────────────────────────────────»\n",
       "«                                                                       »\n",
       "«meas: 5/═══════════════════════════════════════════════════════════════»\n",
       "«                                                                       »\n",
       "«                                                                         »\n",
       "«   q_0: ─────────────────────────────────────────────────────────────────»\n",
       "«                                                                         »\n",
       "«   q_1: ─────────────────────────────────────────────────────────────────»\n",
       "«           ┌────┐  ┌────────────┐   ┌────┐  ┌───────┐                    »\n",
       "«   q_2: ───┤ √X ├──┤ RZ(3.8492) ├───┤ √X ├──┤ RZ(π) ├────────────────────»\n",
       "«        ┌──┴────┴─┐└───┬────┬───┘┌──┴────┴─┐└───────┘┌────┐┌────────────┐»\n",
       "«   q_3: ┤ RZ(π/2) ├────┤ √X ├────┤ RZ(π/2) ├────■────┤ √X ├┤ RZ(6.2831) ├»\n",
       "«        └─────────┘    └────┘    └─────────┘  ┌─┴─┐  ├────┤├────────────┤»\n",
       "«   q_4: ──────────────────────────────────────┤ X ├──┤ √X ├┤ RZ(5.2629) ├»\n",
       "«                                              └───┘  └────┘└────────────┘»\n",
       "«meas: 5/═════════════════════════════════════════════════════════════════»\n",
       "«                                                                         »\n",
       "«                        ░ ┌─┐            \n",
       "«   q_0: ────────────────░─┤M├────────────\n",
       "«                        ░ └╥┘┌─┐         \n",
       "«   q_1: ────────────────░──╫─┤M├─────────\n",
       "«                        ░  ║ └╥┘┌─┐      \n",
       "«   q_2: ────────────────░──╫──╫─┤M├──────\n",
       "«        ┌────┐┌───────┐ ░  ║  ║ └╥┘┌─┐   \n",
       "«   q_3: ┤ √X ├┤ RZ(π) ├─░──╫──╫──╫─┤M├───\n",
       "«        ├────┤└───────┘ ░  ║  ║  ║ └╥┘┌─┐\n",
       "«   q_4: ┤ √X ├──────────░──╫──╫──╫──╫─┤M├\n",
       "«        └────┘          ░  ║  ║  ║  ║ └╥┘\n",
       "«meas: 5/═══════════════════╩══╩══╩══╩══╩═\n",
       "«                           0  1  2  3  4 "
      ]
     },
     "execution_count": 40,
     "metadata": {},
     "output_type": "execute_result"
    }
   ],
   "source": [
    "orign_qc.draw()"
   ]
  },
  {
   "cell_type": "code",
   "execution_count": 41,
   "id": "1d356082",
   "metadata": {},
   "outputs": [
    {
     "data": {
      "text/plain": [
       "3"
      ]
     },
     "execution_count": 41,
     "metadata": {},
     "output_type": "execute_result"
    }
   ],
   "source": [
    "len(fragments)"
   ]
  },
  {
   "cell_type": "code",
   "execution_count": 42,
   "id": "3854951e",
   "metadata": {},
   "outputs": [],
   "source": [
    "temp_frag_data = [0] * len(fragments)"
   ]
  },
  {
   "cell_type": "code",
   "execution_count": 43,
   "id": "b018e1fa",
   "metadata": {},
   "outputs": [
    {
     "data": {
      "text/html": [
       "<pre style=\"word-wrap: normal;white-space: pre;background: #fff0;line-height: 1.1;font-family: &quot;Courier New&quot;,Courier,monospace\">                                                  ┌────────┐┌────┐»\n",
       "q_0: ──────────────────────────────────────────■──┤ RZ(-π) ├┤ √X ├»\n",
       "                                        ┌───┐┌─┴─┐└────────┘└────┘»\n",
       "q_1: ───────────────────────────────────┤ X ├┤ X ├────────────────»\n",
       "     ┌────┐┌────────────┐┌────┐┌───────┐└─┬─┘└───┘                »\n",
       "q_2: ┤ √X ├┤ RZ(4.6738) ├┤ √X ├┤ RZ(π) ├──■───────────────────────»\n",
       "     └────┘└────────────┘└────┘└───────┘                          »\n",
       "«     ┌────────────┐┌────┐\n",
       "«q_0: ┤ RZ(4.7509) ├┤ √X ├\n",
       "«     └────────────┘└────┘\n",
       "«q_1: ────────────────────\n",
       "«                         \n",
       "«q_2: ────────────────────\n",
       "«                         </pre>"
      ],
      "text/plain": [
       "                                                  ┌────────┐┌────┐»\n",
       "q_0: ──────────────────────────────────────────■──┤ RZ(-π) ├┤ √X ├»\n",
       "                                        ┌───┐┌─┴─┐└────────┘└────┘»\n",
       "q_1: ───────────────────────────────────┤ X ├┤ X ├────────────────»\n",
       "     ┌────┐┌────────────┐┌────┐┌───────┐└─┬─┘└───┘                »\n",
       "q_2: ┤ √X ├┤ RZ(4.6738) ├┤ √X ├┤ RZ(π) ├──■───────────────────────»\n",
       "     └────┘└────────────┘└────┘└───────┘                          »\n",
       "«     ┌────────────┐┌────┐\n",
       "«q_0: ┤ RZ(4.7509) ├┤ √X ├\n",
       "«     └────────────┘└────┘\n",
       "«q_1: ────────────────────\n",
       "«                         \n",
       "«q_2: ────────────────────\n",
       "«                         "
      ]
     },
     "execution_count": 43,
     "metadata": {},
     "output_type": "execute_result"
    }
   ],
   "source": [
    "fragments[0].draw()"
   ]
  },
  {
   "cell_type": "code",
   "execution_count": 44,
   "id": "5095adab",
   "metadata": {},
   "outputs": [
    {
     "name": "stderr",
     "output_type": "stream",
     "text": [
      "/Users/revilooliver/Documents/quantum_computing/anaconda/anaconda3/envs/circ_cutting/lib/python3.8/site-packages/qiskit/ignis/verification/tomography/basis/sicbasis.py:48: DeprecationWarning: The QuantumCircuit.u3 method is deprecated as of 0.16.0. It will be removed no earlier than 3 months after the release date. You should use QuantumCircuit.u instead, which acts identically. Alternatively, you can decompose u3 in terms of QuantumCircuit.p and QuantumCircuit.sx: u3(ϴ,φ,λ) = p(φ+π) sx p(ϴ+π) sx p(λ) (2 pulses on hardware).\n",
      "  circ.u3(theta, np.pi, 0.0, qubit)\n"
     ]
    },
    {
     "name": "stdout",
     "output_type": "stream",
     "text": [
      "Job Status: job has successfully run\n",
      "job_id:  6d03ff05-761e-4b78-9e8f-5fd098834001\n"
     ]
    }
   ],
   "source": [
    "temp_frag_data[0] = ml.collect_fragment_raw_data(fragments[0], 0, wire_path_map,\n",
    "                                 shots = shots // total_variants,\n",
    "                                 tomography_backend = simulation_backend)"
   ]
  },
  {
   "cell_type": "code",
   "execution_count": 45,
   "id": "d362ad42",
   "metadata": {},
   "outputs": [
    {
     "name": "stdout",
     "output_type": "stream",
     "text": [
      "Job Status: job has successfully run\n",
      "job_id:  635bf63a0b130e18bb7f1af3\n"
     ]
    }
   ],
   "source": [
    "##########################################################################################\n",
    "# simulate fragments and recombine results to reconstruct the outputs of the full circuit\n",
    "##########################################################################################\n",
    "\n",
    "# simulate fragments, build fragment models, and recombine fragment models\n",
    "temp_frag_data[1] = ml.collect_fragment_raw_data(fragments[1], 1, wire_path_map,\n",
    "                                     shots = shots // total_variants,\n",
    "                                     tomography_backend = device, opt_lvl = 3, extra_qc = [orign_qc])"
   ]
  },
  {
   "cell_type": "code",
   "execution_count": 46,
   "id": "7bb6c1cf",
   "metadata": {},
   "outputs": [
    {
     "name": "stdout",
     "output_type": "stream",
     "text": [
      "Job Status: job has successfully run\n",
      "job_id:  9042295f-ff35-4842-9946-79659a4b2c7a\n"
     ]
    }
   ],
   "source": [
    "temp_frag_data[2] = ml.collect_fragment_raw_data(fragments[2], 2, wire_path_map,\n",
    "                                 shots = shots // total_variants,\n",
    "                                 tomography_backend = simulation_backend)"
   ]
  },
  {
   "cell_type": "code",
   "execution_count": 47,
   "id": "5d10224b",
   "metadata": {},
   "outputs": [
    {
     "data": {
      "text/plain": [
       "{'0000': 32000}"
      ]
     },
     "execution_count": 47,
     "metadata": {},
     "output_type": "execute_result"
    }
   ],
   "source": [
    "temp_frag_data[2][0][0].get_counts()"
   ]
  },
  {
   "cell_type": "code",
   "execution_count": 48,
   "id": "c43f47f5",
   "metadata": {},
   "outputs": [
    {
     "data": {
      "text/plain": [
       "{'0000': 32000}"
      ]
     },
     "execution_count": 48,
     "metadata": {},
     "output_type": "execute_result"
    }
   ],
   "source": [
    "temp_frag_data[2][0][0].get_counts()"
   ]
  },
  {
   "cell_type": "code",
   "execution_count": 49,
   "id": "dbbe9e44",
   "metadata": {},
   "outputs": [],
   "source": [
    "#     temp_frag_data[i] = ml.collect_fragment_raw_data(fragments[i], i, wire_path_map,\n",
    "#                                      shots = shots // total_variants,\n",
    "#                                      tomography_backend = simulation_backend)"
   ]
  },
  {
   "cell_type": "code",
   "execution_count": 50,
   "id": "9988b61c",
   "metadata": {},
   "outputs": [],
   "source": [
    "# for i in range(1, len(fragments)):\n",
    "#     temp_frag_data[i] = ml.collect_fragment_raw_data(fragments[i], i, wire_path_map,\n",
    "#                                      shots = shots // total_variants,\n",
    "#                                      tomography_backend = simulation_backend)"
   ]
  },
  {
   "cell_type": "code",
   "execution_count": 51,
   "id": "77ce4f90",
   "metadata": {},
   "outputs": [],
   "source": [
    "frag_targets = ml.identify_frag_targets(wire_path_map)"
   ]
  },
  {
   "cell_type": "code",
   "execution_count": 52,
   "id": "dc46027a",
   "metadata": {},
   "outputs": [],
   "source": [
    "frag_data = []\n",
    "for i in range(0, len(fragments)):\n",
    "    extra_list = []\n",
    "    if i == 1:\n",
    "        extra_list = [orign_qc]\n",
    "    frag_data.append(ml.organize_tomography_data(temp_frag_data[i][0],\n",
    "                                      frag_targets[i].get(\"prep\"),\n",
    "                                      frag_targets[i].get(\"meas\"),\n",
    "                                      prep_basis = \"SIC\", extra_qc = extra_list))"
   ]
  },
  {
   "cell_type": "code",
   "execution_count": 53,
   "id": "76b00b81",
   "metadata": {},
   "outputs": [
    {
     "data": {
      "text/plain": [
       "3"
      ]
     },
     "execution_count": 53,
     "metadata": {},
     "output_type": "execute_result"
    }
   ],
   "source": [
    "len(frag_data)"
   ]
  },
  {
   "cell_type": "code",
   "execution_count": 54,
   "id": "029b42f7",
   "metadata": {},
   "outputs": [
    {
     "data": {
      "text/plain": [
       "{'0000': {(('S0',), ('Zp',)): 548,\n",
       "  (('S0',), ('Zm',)): 17,\n",
       "  (('S0',), ('Xp',)): 338,\n",
       "  (('S0',), ('Xm',)): 368,\n",
       "  (('S0',), ('Yp',)): 415,\n",
       "  (('S0',), ('Ym',)): 295,\n",
       "  (('S1',), ('Zp',)): 238,\n",
       "  (('S1',), ('Zm',)): 424,\n",
       "  (('S1',), ('Xp',)): 77,\n",
       "  (('S1',), ('Xm',)): 645,\n",
       "  (('S1',), ('Yp',)): 269,\n",
       "  (('S1',), ('Ym',)): 438,\n",
       "  (('S2',), ('Zp',)): 243,\n",
       "  (('S2',), ('Zm',)): 401,\n",
       "  (('S2',), ('Xp',)): 425,\n",
       "  (('S2',), ('Xm',)): 292,\n",
       "  (('S2',), ('Yp',)): 638,\n",
       "  (('S2',), ('Ym',)): 69,\n",
       "  (('S3',), ('Zp',)): 254,\n",
       "  (('S3',), ('Zm',)): 435,\n",
       "  (('S3',), ('Xp',)): 610,\n",
       "  (('S3',), ('Xm',)): 121,\n",
       "  (('S3',), ('Yp',)): 191,\n",
       "  (('S3',), ('Ym',)): 536},\n",
       " '0001': {(('S0',), ('Zp',)): 210,\n",
       "  (('S0',), ('Zm',)): 4,\n",
       "  (('S0',), ('Xp',)): 140,\n",
       "  (('S0',), ('Xm',)): 93,\n",
       "  (('S0',), ('Yp',)): 141,\n",
       "  (('S0',), ('Ym',)): 120,\n",
       "  (('S1',), ('Zp',)): 82,\n",
       "  (('S1',), ('Zm',)): 117,\n",
       "  (('S1',), ('Xp',)): 27,\n",
       "  (('S1',), ('Xm',)): 181,\n",
       "  (('S1',), ('Yp',)): 83,\n",
       "  (('S1',), ('Ym',)): 110,\n",
       "  (('S2',), ('Zp',)): 97,\n",
       "  (('S2',), ('Zm',)): 123,\n",
       "  (('S2',), ('Xp',)): 141,\n",
       "  (('S2',), ('Xm',)): 60,\n",
       "  (('S2',), ('Yp',)): 166,\n",
       "  (('S2',), ('Ym',)): 26,\n",
       "  (('S3',), ('Zp',)): 85,\n",
       "  (('S3',), ('Zm',)): 120,\n",
       "  (('S3',), ('Xp',)): 172,\n",
       "  (('S3',), ('Xm',)): 69,\n",
       "  (('S3',), ('Yp',)): 47,\n",
       "  (('S3',), ('Ym',)): 172},\n",
       " '1000': {(('S0',), ('Zp',)): 2116,\n",
       "  (('S0',), ('Zm',)): 54,\n",
       "  (('S0',), ('Xp',)): 1075,\n",
       "  (('S0',), ('Xm',)): 1223,\n",
       "  (('S0',), ('Yp',)): 1270,\n",
       "  (('S0',), ('Ym',)): 951,\n",
       "  (('S1',), ('Zp',)): 905,\n",
       "  (('S1',), ('Zm',)): 1555,\n",
       "  (('S1',), ('Xp',)): 291,\n",
       "  (('S1',), ('Xm',)): 1930,\n",
       "  (('S1',), ('Yp',)): 764,\n",
       "  (('S1',), ('Ym',)): 1441,\n",
       "  (('S2',), ('Zp',)): 920,\n",
       "  (('S2',), ('Zm',)): 1483,\n",
       "  (('S2',), ('Xp',)): 1233,\n",
       "  (('S2',), ('Xm',)): 973,\n",
       "  (('S2',), ('Yp',)): 2090,\n",
       "  (('S2',), ('Ym',)): 210,\n",
       "  (('S3',), ('Zp',)): 934,\n",
       "  (('S3',), ('Zm',)): 1498,\n",
       "  (('S3',), ('Xp',)): 1762,\n",
       "  (('S3',), ('Xm',)): 419,\n",
       "  (('S3',), ('Yp',)): 538,\n",
       "  (('S3',), ('Ym',)): 1676},\n",
       " '1001': {(('S0',), ('Zp',)): 416,\n",
       "  (('S0',), ('Zm',)): 8,\n",
       "  (('S0',), ('Xp',)): 225,\n",
       "  (('S0',), ('Xm',)): 220,\n",
       "  (('S0',), ('Yp',)): 232,\n",
       "  (('S0',), ('Ym',)): 182,\n",
       "  (('S1',), ('Zp',)): 209,\n",
       "  (('S1',), ('Zm',)): 232,\n",
       "  (('S1',), ('Xp',)): 48,\n",
       "  (('S1',), ('Xm',)): 336,\n",
       "  (('S1',), ('Yp',)): 170,\n",
       "  (('S1',), ('Ym',)): 220,\n",
       "  (('S2',), ('Zp',)): 158,\n",
       "  (('S2',), ('Zm',)): 229,\n",
       "  (('S2',), ('Xp',)): 280,\n",
       "  (('S2',), ('Xm',)): 131,\n",
       "  (('S2',), ('Yp',)): 327,\n",
       "  (('S2',), ('Ym',)): 54,\n",
       "  (('S3',), ('Zp',)): 147,\n",
       "  (('S3',), ('Zm',)): 239,\n",
       "  (('S3',), ('Xp',)): 266,\n",
       "  (('S3',), ('Xm',)): 102,\n",
       "  (('S3',), ('Yp',)): 72,\n",
       "  (('S3',), ('Ym',)): 314},\n",
       " '1010': {(('S0',), ('Zp',)): 417,\n",
       "  (('S0',), ('Zm',)): 91,\n",
       "  (('S0',), ('Xp',)): 516,\n",
       "  (('S0',), ('Xm',)): 247,\n",
       "  (('S0',), ('Yp',)): 485,\n",
       "  (('S0',), ('Ym',)): 232,\n",
       "  (('S1',), ('Zp',)): 637,\n",
       "  (('S1',), ('Zm',)): 273,\n",
       "  (('S1',), ('Xp',)): 765,\n",
       "  (('S1',), ('Xm',)): 283,\n",
       "  (('S1',), ('Yp',)): 656,\n",
       "  (('S1',), ('Ym',)): 279,\n",
       "  (('S2',), ('Zp',)): 622,\n",
       "  (('S2',), ('Zm',)): 271,\n",
       "  (('S2',), ('Xp',)): 510,\n",
       "  (('S2',), ('Xm',)): 272,\n",
       "  (('S2',), ('Yp',)): 237,\n",
       "  (('S2',), ('Ym',)): 192,\n",
       "  (('S3',), ('Zp',)): 638,\n",
       "  (('S3',), ('Zm',)): 259,\n",
       "  (('S3',), ('Xp',)): 285,\n",
       "  (('S3',), ('Xm',)): 211,\n",
       "  (('S3',), ('Yp',)): 656,\n",
       "  (('S3',), ('Ym',)): 256},\n",
       " '1011': {(('S0',), ('Zp',)): 36,\n",
       "  (('S0',), ('Zm',)): 7,\n",
       "  (('S0',), ('Xp',)): 25,\n",
       "  (('S0',), ('Xm',)): 30,\n",
       "  (('S0',), ('Yp',)): 27,\n",
       "  (('S0',), ('Ym',)): 39,\n",
       "  (('S1',), ('Zp',)): 29,\n",
       "  (('S1',), ('Zm',)): 19,\n",
       "  (('S1',), ('Xp',)): 18,\n",
       "  (('S1',), ('Xm',)): 23,\n",
       "  (('S1',), ('Yp',)): 26,\n",
       "  (('S1',), ('Ym',)): 15,\n",
       "  (('S2',), ('Zp',)): 38,\n",
       "  (('S2',), ('Zm',)): 19,\n",
       "  (('S2',), ('Xp',)): 19,\n",
       "  (('S2',), ('Xm',)): 16,\n",
       "  (('S2',), ('Yp',)): 32,\n",
       "  (('S2',), ('Ym',)): 13,\n",
       "  (('S3',), ('Zp',)): 25,\n",
       "  (('S3',), ('Zm',)): 26,\n",
       "  (('S3',), ('Xp',)): 30,\n",
       "  (('S3',), ('Xm',)): 18,\n",
       "  (('S3',), ('Yp',)): 22,\n",
       "  (('S3',), ('Ym',)): 22},\n",
       " '1100': {(('S0',), ('Zp',)): 20078,\n",
       "  (('S0',), ('Zm',)): 266,\n",
       "  (('S0',), ('Xp',)): 9280,\n",
       "  (('S0',), ('Xm',)): 9416,\n",
       "  (('S0',), ('Yp',)): 10568,\n",
       "  (('S0',), ('Ym',)): 8424,\n",
       "  (('S1',), ('Zp',)): 6816,\n",
       "  (('S1',), ('Zm',)): 12546,\n",
       "  (('S1',), ('Xp',)): 2453,\n",
       "  (('S1',), ('Xm',)): 16185,\n",
       "  (('S1',), ('Yp',)): 5615,\n",
       "  (('S1',), ('Ym',)): 13015,\n",
       "  (('S2',), ('Zp',)): 6830,\n",
       "  (('S2',), ('Zm',)): 12770,\n",
       "  (('S2',), ('Xp',)): 9990,\n",
       "  (('S2',), ('Xm',)): 8913,\n",
       "  (('S2',), ('Yp',)): 18273,\n",
       "  (('S2',), ('Ym',)): 961,\n",
       "  (('S3',), ('Zp',)): 7163,\n",
       "  (('S3',), ('Zm',)): 12415,\n",
       "  (('S3',), ('Xp',)): 16970,\n",
       "  (('S3',), ('Xm',)): 2137,\n",
       "  (('S3',), ('Yp',)): 5390,\n",
       "  (('S3',), ('Ym',)): 13235},\n",
       " '1101': {(('S0',), ('Zp',)): 715,\n",
       "  (('S0',), ('Zm',)): 6,\n",
       "  (('S0',), ('Xp',)): 294,\n",
       "  (('S0',), ('Xm',)): 308,\n",
       "  (('S0',), ('Yp',)): 310,\n",
       "  (('S0',), ('Ym',)): 256,\n",
       "  (('S1',), ('Zp',)): 263,\n",
       "  (('S1',), ('Zm',)): 386,\n",
       "  (('S1',), ('Xp',)): 142,\n",
       "  (('S1',), ('Xm',)): 428,\n",
       "  (('S1',), ('Yp',)): 297,\n",
       "  (('S1',), ('Ym',)): 263,\n",
       "  (('S2',), ('Zp',)): 239,\n",
       "  (('S2',), ('Zm',)): 371,\n",
       "  (('S2',), ('Xp',)): 402,\n",
       "  (('S2',), ('Xm',)): 207,\n",
       "  (('S2',), ('Yp',)): 490,\n",
       "  (('S2',), ('Ym',)): 138,\n",
       "  (('S3',), ('Zp',)): 257,\n",
       "  (('S3',), ('Zm',)): 383,\n",
       "  (('S3',), ('Xp',)): 457,\n",
       "  (('S3',), ('Xm',)): 204,\n",
       "  (('S3',), ('Yp',)): 167,\n",
       "  (('S3',), ('Ym',)): 425},\n",
       " '1110': {(('S0',), ('Zp',)): 975,\n",
       "  (('S0',), ('Zm',)): 60,\n",
       "  (('S0',), ('Xp',)): 493,\n",
       "  (('S0',), ('Xm',)): 496,\n",
       "  (('S0',), ('Yp',)): 556,\n",
       "  (('S0',), ('Ym',)): 449,\n",
       "  (('S1',), ('Zp',)): 463,\n",
       "  (('S1',), ('Zm',)): 763,\n",
       "  (('S1',), ('Xp',)): 378,\n",
       "  (('S1',), ('Xm',)): 782,\n",
       "  (('S1',), ('Yp',)): 425,\n",
       "  (('S1',), ('Ym',)): 680,\n",
       "  (('S2',), ('Zp',)): 428,\n",
       "  (('S2',), ('Zm',)): 805,\n",
       "  (('S2',), ('Xp',)): 538,\n",
       "  (('S2',), ('Xm',)): 541,\n",
       "  (('S2',), ('Yp',)): 738,\n",
       "  (('S2',), ('Ym',)): 285,\n",
       "  (('S3',), ('Zp',)): 455,\n",
       "  (('S3',), ('Zm',)): 745,\n",
       "  (('S3',), ('Xp',)): 749,\n",
       "  (('S3',), ('Xm',)): 347,\n",
       "  (('S3',), ('Yp',)): 469,\n",
       "  (('S3',), ('Ym',)): 645},\n",
       " '1111': {(('S0',), ('Zp',)): 74,\n",
       "  (('S0',), ('Zm',)): 2,\n",
       "  (('S0',), ('Xp',)): 50,\n",
       "  (('S0',), ('Xm',)): 35,\n",
       "  (('S0',), ('Yp',)): 38,\n",
       "  (('S0',), ('Ym',)): 49,\n",
       "  (('S1',), ('Zp',)): 30,\n",
       "  (('S1',), ('Zm',)): 39,\n",
       "  (('S1',), ('Xp',)): 25,\n",
       "  (('S1',), ('Xm',)): 42,\n",
       "  (('S1',), ('Yp',)): 27,\n",
       "  (('S1',), ('Ym',)): 41,\n",
       "  (('S2',), ('Zp',)): 34,\n",
       "  (('S2',), ('Zm',)): 35,\n",
       "  (('S2',), ('Xp',)): 37,\n",
       "  (('S2',), ('Xm',)): 33,\n",
       "  (('S2',), ('Yp',)): 41,\n",
       "  (('S2',), ('Ym',)): 24,\n",
       "  (('S3',), ('Zp',)): 36,\n",
       "  (('S3',), ('Zm',)): 45,\n",
       "  (('S3',), ('Xp',)): 43,\n",
       "  (('S3',), ('Xm',)): 32,\n",
       "  (('S3',), ('Yp',)): 26,\n",
       "  (('S3',), ('Ym',)): 40},\n",
       " '0010': {(('S0',), ('Zp',)): 100,\n",
       "  (('S0',), ('Zm',)): 24,\n",
       "  (('S0',), ('Xp',)): 177,\n",
       "  (('S0',), ('Xm',)): 85,\n",
       "  (('S0',), ('Yp',)): 156,\n",
       "  (('S0',), ('Ym',)): 88,\n",
       "  (('S1',), ('Zp',)): 153,\n",
       "  (('S1',), ('Zm',)): 62,\n",
       "  (('S1',), ('Xp',)): 275,\n",
       "  (('S1',), ('Xm',)): 74,\n",
       "  (('S1',), ('Yp',)): 207,\n",
       "  (('S1',), ('Ym',)): 81,\n",
       "  (('S2',), ('Zp',)): 140,\n",
       "  (('S2',), ('Zm',)): 61,\n",
       "  (('S2',), ('Xp',)): 148,\n",
       "  (('S2',), ('Xm',)): 70,\n",
       "  (('S2',), ('Yp',)): 88,\n",
       "  (('S2',), ('Ym',)): 68,\n",
       "  (('S3',), ('Zp',)): 156,\n",
       "  (('S3',), ('Zm',)): 57,\n",
       "  (('S3',), ('Xp',)): 83,\n",
       "  (('S3',), ('Xm',)): 71,\n",
       "  (('S3',), ('Yp',)): 239,\n",
       "  (('S3',), ('Ym',)): 93},\n",
       " '0011': {(('S0',), ('Zp',)): 20,\n",
       "  (('S0',), ('Zm',)): 4,\n",
       "  (('S0',), ('Xp',)): 19,\n",
       "  (('S0',), ('Xm',)): 15,\n",
       "  (('S0',), ('Yp',)): 21,\n",
       "  (('S0',), ('Ym',)): 22,\n",
       "  (('S1',), ('Zp',)): 20,\n",
       "  (('S1',), ('Zm',)): 9,\n",
       "  (('S1',), ('Xp',)): 14,\n",
       "  (('S1',), ('Xm',)): 14,\n",
       "  (('S1',), ('Yp',)): 15,\n",
       "  (('S1',), ('Ym',)): 9,\n",
       "  (('S2',), ('Zp',)): 10,\n",
       "  (('S2',), ('Zm',)): 18,\n",
       "  (('S2',), ('Xp',)): 16,\n",
       "  (('S2',), ('Xm',)): 10,\n",
       "  (('S2',), ('Yp',)): 21,\n",
       "  (('S2',), ('Ym',)): 6,\n",
       "  (('S3',), ('Zp',)): 18,\n",
       "  (('S3',), ('Zm',)): 14,\n",
       "  (('S3',), ('Xp',)): 18,\n",
       "  (('S3',), ('Xm',)): 9,\n",
       "  (('S3',), ('Yp',)): 16,\n",
       "  (('S3',), ('Ym',)): 8},\n",
       " '0100': {(('S0',), ('Zp',)): 5051,\n",
       "  (('S0',), ('Zm',)): 77,\n",
       "  (('S0',), ('Xp',)): 3076,\n",
       "  (('S0',), ('Xm',)): 3026,\n",
       "  (('S0',), ('Yp',)): 3304,\n",
       "  (('S0',), ('Ym',)): 2664,\n",
       "  (('S1',), ('Zp',)): 1746,\n",
       "  (('S1',), ('Zm',)): 3367,\n",
       "  (('S1',), ('Xp',)): 807,\n",
       "  (('S1',), ('Xm',)): 5026,\n",
       "  (('S1',), ('Yp',)): 1905,\n",
       "  (('S1',), ('Ym',)): 4232,\n",
       "  (('S2',), ('Zp',)): 1681,\n",
       "  (('S2',), ('Zm',)): 3321,\n",
       "  (('S2',), ('Xp',)): 3179,\n",
       "  (('S2',), ('Xm',)): 2807,\n",
       "  (('S2',), ('Yp',)): 5791,\n",
       "  (('S2',), ('Ym',)): 320,\n",
       "  (('S3',), ('Zp',)): 1789,\n",
       "  (('S3',), ('Zm',)): 3139,\n",
       "  (('S3',), ('Xp',)): 5330,\n",
       "  (('S3',), ('Xm',)): 793,\n",
       "  (('S3',), ('Yp',)): 1783,\n",
       "  (('S3',), ('Ym',)): 4273},\n",
       " '0101': {(('S0',), ('Zp',)): 309,\n",
       "  (('S0',), ('Zm',)): 2,\n",
       "  (('S0',), ('Xp',)): 161,\n",
       "  (('S0',), ('Xm',)): 160,\n",
       "  (('S0',), ('Yp',)): 180,\n",
       "  (('S0',), ('Ym',)): 154,\n",
       "  (('S1',), ('Zp',)): 114,\n",
       "  (('S1',), ('Zm',)): 164,\n",
       "  (('S1',), ('Xp',)): 81,\n",
       "  (('S1',), ('Xm',)): 230,\n",
       "  (('S1',), ('Yp',)): 171,\n",
       "  (('S1',), ('Ym',)): 142,\n",
       "  (('S2',), ('Zp',)): 137,\n",
       "  (('S2',), ('Zm',)): 163,\n",
       "  (('S2',), ('Xp',)): 251,\n",
       "  (('S2',), ('Xm',)): 97,\n",
       "  (('S2',), ('Yp',)): 248,\n",
       "  (('S2',), ('Ym',)): 88,\n",
       "  (('S3',), ('Zp',)): 118,\n",
       "  (('S3',), ('Zm',)): 176,\n",
       "  (('S3',), ('Xp',)): 196,\n",
       "  (('S3',), ('Xm',)): 124,\n",
       "  (('S3',), ('Yp',)): 79,\n",
       "  (('S3',), ('Ym',)): 219},\n",
       " '0110': {(('S0',), ('Zp',)): 253,\n",
       "  (('S0',), ('Zm',)): 20,\n",
       "  (('S0',), ('Xp',)): 182,\n",
       "  (('S0',), ('Xm',)): 186,\n",
       "  (('S0',), ('Yp',)): 181,\n",
       "  (('S0',), ('Ym',)): 163,\n",
       "  (('S1',), ('Zp',)): 125,\n",
       "  (('S1',), ('Zm',)): 183,\n",
       "  (('S1',), ('Xp',)): 145,\n",
       "  (('S1',), ('Xm',)): 243,\n",
       "  (('S1',), ('Yp',)): 142,\n",
       "  (('S1',), ('Ym',)): 224,\n",
       "  (('S2',), ('Zp',)): 135,\n",
       "  (('S2',), ('Zm',)): 195,\n",
       "  (('S2',), ('Xp',)): 167,\n",
       "  (('S2',), ('Xm',)): 215,\n",
       "  (('S2',), ('Yp',)): 231,\n",
       "  (('S2',), ('Ym',)): 106,\n",
       "  (('S3',), ('Zp',)): 130,\n",
       "  (('S3',), ('Zm',)): 213,\n",
       "  (('S3',), ('Xp',)): 229,\n",
       "  (('S3',), ('Xm',)): 111,\n",
       "  (('S3',), ('Yp',)): 156,\n",
       "  (('S3',), ('Ym',)): 204},\n",
       " '0111': {(('S0',), ('Zp',)): 40,\n",
       "  (('S0',), ('Xp',)): 22,\n",
       "  (('S0',), ('Xm',)): 19,\n",
       "  (('S0',), ('Yp',)): 17,\n",
       "  (('S0',), ('Ym',)): 11,\n",
       "  (('S1',), ('Zp',)): 13,\n",
       "  (('S1',), ('Zm',)): 18,\n",
       "  (('S1',), ('Xp',)): 15,\n",
       "  (('S1',), ('Xm',)): 17,\n",
       "  (('S1',), ('Yp',)): 15,\n",
       "  (('S1',), ('Ym',)): 23,\n",
       "  (('S2',), ('Zp',)): 12,\n",
       "  (('S2',), ('Zm',)): 11,\n",
       "  (('S2',), ('Xp',)): 19,\n",
       "  (('S2',), ('Xm',)): 8,\n",
       "  (('S2',), ('Yp',)): 16,\n",
       "  (('S2',), ('Ym',)): 13,\n",
       "  (('S3',), ('Zp',)): 16,\n",
       "  (('S3',), ('Zm',)): 15,\n",
       "  (('S3',), ('Xp',)): 18,\n",
       "  (('S3',), ('Xm',)): 14,\n",
       "  (('S3',), ('Yp',)): 16,\n",
       "  (('S3',), ('Ym',)): 15,\n",
       "  (('S0',), ('Zm',)): 0}}"
      ]
     },
     "execution_count": 54,
     "metadata": {},
     "output_type": "execute_result"
    }
   ],
   "source": [
    "frag_data[1]"
   ]
  },
  {
   "cell_type": "code",
   "execution_count": 55,
   "id": "6d6c25ac",
   "metadata": {},
   "outputs": [],
   "source": [
    "# frag_data = [ml.organize_tomography_data(temp_frag_data[0][0],\n",
    "#                                       frag_targets[0].get(\"prep\"),\n",
    "#                                       frag_targets[0].get(\"meas\"),\n",
    "#                                       prep_basis = \"SIC\", extra_qc = [orign_qc])]\n",
    "# for i in range(1, len(fragments)):\n",
    "#     frag_data.append(ml.organize_tomography_data(temp_frag_data[i][0],\n",
    "#                                       frag_targets[i].get(\"prep\"),\n",
    "#                                       frag_targets[i].get(\"meas\"),\n",
    "#                                       prep_basis = \"SIC\", extra_qc = []))"
   ]
  },
  {
   "cell_type": "code",
   "execution_count": 56,
   "id": "f2ea4460",
   "metadata": {},
   "outputs": [
    {
     "name": "stdout",
     "output_type": "stream",
     "text": [
      "1\n",
      "1\n",
      "1\n",
      "1\n"
     ]
    }
   ],
   "source": [
    "for final_bits, fixed_bit_data in frag_data[0].items():\n",
    "    prep_meas_states, state_counts = zip(*fixed_bit_data.items())\n",
    "    prep_labels, meas_labels = zip(*prep_meas_states)\n",
    "    prep_qubit_num = len(prep_labels[0])\n",
    "    meas_qubit_num = len(meas_labels[0])\n",
    "    print(prep_qubit_num)"
   ]
  },
  {
   "cell_type": "code",
   "execution_count": 57,
   "id": "99930b5d",
   "metadata": {},
   "outputs": [],
   "source": [
    "direct_models = ml.direct_fragment_model(frag_data)\n",
    "likely_models = ml.maximum_likelihood_model(direct_models)\n",
    "\n",
    "direct_recombined_dist = ml.recombine_fragment_models(direct_models, wire_path_map)\n",
    "likely_recombined_dist = ml.recombine_fragment_models(likely_models, wire_path_map)"
   ]
  },
  {
   "cell_type": "code",
   "execution_count": null,
   "id": "352352e2",
   "metadata": {},
   "outputs": [],
   "source": []
  },
  {
   "cell_type": "code",
   "execution_count": 58,
   "id": "b689bf9b",
   "metadata": {},
   "outputs": [
    {
     "data": {
      "text/plain": [
       "{'0000000000': 0.0002684463696394322,\n",
       " '0000001000': 0.0004487780247265202,\n",
       " '0000010000': 0.00534804410898299,\n",
       " '0000011000': 0.00096864558220294,\n",
       " '0000010010': 0.009328690644229946,\n",
       " '0000011010': 0.0003299693515337989,\n",
       " '0000010100': 0.05778712705481673,\n",
       " '0000011100': 0.003983158850647021,\n",
       " '0000010110': 0.009537493262088763,\n",
       " '0000011110': 0.0007496101659503924,\n",
       " '0000000010': 0.003183523864806926,\n",
       " '0000001010': 0.000230740109100506,\n",
       " '0000000100': 0.007535108672958824,\n",
       " '0000001100': 0.0016290487413187986,\n",
       " '0000000110': 0.002893982952330196,\n",
       " '0000001110': 0.0004271570786442409,\n",
       " '0000000001': 0.01871859398885368,\n",
       " '0000001001': 0.005733630253807504,\n",
       " '0000010001': 0.06118880128920559,\n",
       " '0000011001': 0.010862643200720704,\n",
       " '0000010011': 0.00252445530475913,\n",
       " '0000011011': 0.0006649119701456261,\n",
       " '0000010101': 0.5383693508481706,\n",
       " '0000011101': 0.015517428661423993,\n",
       " '0000010111': 0.02215250999788158,\n",
       " '0000011111': 0.0013295986434897118,\n",
       " '0000000011': 0.00030819491157711937,\n",
       " '0000001011': 0.00038890060406948423,\n",
       " '0000000101': 0.15745533805804918,\n",
       " '0000001101': 0.0074347645032161605,\n",
       " '0000000111': 0.006008915956625989,\n",
       " '0000001111': 0.000559148928234709,\n",
       " '0000100000': 0.0008015383817744102,\n",
       " '0000101000': 0.00020921076682060296,\n",
       " '0000110000': 0.0032185301352782012,\n",
       " '0000111000': 0.00039901433949687104,\n",
       " '0000110010': 0.0061377836009288474,\n",
       " '0000111010': 0.0002779038604248543,\n",
       " '0000110100': 0.0012899254368792402,\n",
       " '0000111100': 1.813285818521806e-05,\n",
       " '0000110110': 0.0010405181965618022,\n",
       " '0000111110': 0.0001248009235392904,\n",
       " '0000100010': 0.002078132225465122,\n",
       " '0000101010': 0.00013700770536169234,\n",
       " '0000100100': 0.007829378000689646,\n",
       " '0000101100': 0.00037865200762836365,\n",
       " '0000100110': 0.0010239436923805583,\n",
       " '0000101110': -3.6461480115834576e-05,\n",
       " '0000100001': 0.0017815425831097294,\n",
       " '0000101001': 0.00038475854727758845,\n",
       " '0000110001': 0.001329288020813264,\n",
       " '0000111001': 0.0003725446726443197,\n",
       " '0000110011': 0.006240188425251181,\n",
       " '0000111011': 0.00024099586187055103,\n",
       " '0000110101': 0.0005959055771272021,\n",
       " '0000111101': -0.00018619749562022496,\n",
       " '0000110111': 0.0017393532328472214,\n",
       " '0000111111': 0.00010127958797058062,\n",
       " '0000100011': 0.00162989104897314,\n",
       " '0000101011': 0.0001540459946734223,\n",
       " '0000100101': 0.00550915924978822,\n",
       " '0000101101': 0.0003986241588935352,\n",
       " '0000100111': 0.0008621508264900663,\n",
       " '0000101111': 5.1747102382886116e-05}"
      ]
     },
     "execution_count": 58,
     "metadata": {},
     "output_type": "execute_result"
    }
   ],
   "source": [
    "direct_recombined_dist"
   ]
  },
  {
   "cell_type": "code",
   "execution_count": 59,
   "id": "13b192fc",
   "metadata": {},
   "outputs": [
    {
     "data": {
      "text/plain": [
       "{'0000000000': 0.000801481474353258,\n",
       " '0000001000': 0.0002786784094674083,\n",
       " '0000010000': 0.005248659794853051,\n",
       " '0000011000': 0.0008081569862527718,\n",
       " '0000010010': 0.009091782471354922,\n",
       " '0000011010': 0.00011395729917584639,\n",
       " '0000010100': 0.059041799486570595,\n",
       " '0000011100': 0.0037548096795572273,\n",
       " '0000010110': 0.009308265577873657,\n",
       " '0000011110': 0.000495964084540994,\n",
       " '0000000010': 0.0029576261705756245,\n",
       " '0000001010': 7.118856183476496e-05,\n",
       " '0000000100': 0.011040147712530838,\n",
       " '0000001100': 0.0013895863486073164,\n",
       " '0000000110': 0.0026417875961808855,\n",
       " '0000001110': 0.00018113600317021567,\n",
       " '0000000001': 0.018446862127415614,\n",
       " '0000001001': 0.005464213031539496,\n",
       " '0000010001': 0.06079949072449869,\n",
       " '0000011001': 0.010580619257433326,\n",
       " '0000010011': 0.002261934827058003,\n",
       " '0000011011': 0.00043404671898802786,\n",
       " '0000010101': 0.5370428613550053,\n",
       " '0000011101': 0.01522927251590728,\n",
       " '0000010111': 0.021852372443576008,\n",
       " '0000011111': 0.0010707685401639619,\n",
       " '0000000011': 0.0003731772389511549,\n",
       " '0000001011': 0.00015275068191221775,\n",
       " '0000000101': 0.15709766027293984,\n",
       " '0000001101': 0.007160759828454763,\n",
       " '0000000111': 0.005738330899664258,\n",
       " '0000001111': 0.00030549276051203825,\n",
       " '0000100000': 0.0007547812154868334,\n",
       " '0000101000': 7.244691507206022e-05,\n",
       " '0000110000': 0.0030172603041706703,\n",
       " '0000111000': 0.00034929141379584514,\n",
       " '0000110010': 0.005867032988683475,\n",
       " '0000111010': 3.3600356674666876e-05,\n",
       " '0000110100': 0.004588099410175376,\n",
       " '0000111100': 0.0001522109960415993,\n",
       " '0000110110': 0.0007906209730042728,\n",
       " '0000111110': 9.518124214844915e-06,\n",
       " '0000100010': 0.00181999052513829,\n",
       " '0000101010': 2.8276312574469954e-05,\n",
       " '0000100100': 0.007795138450207183,\n",
       " '0000101100': 0.0002723448939745558,\n",
       " '0000100110': 0.0007677611806555479,\n",
       " '0000101110': 6.591012841117932e-06,\n",
       " '0000100001': 0.0015590322587575912,\n",
       " '0000101001': 0.0001803831347691512,\n",
       " '0000110001': 0.0011992500264397996,\n",
       " '0000111001': 0.0003093190825143478,\n",
       " '0000110011': 0.006002744042245244,\n",
       " '0000111011': 0.0001002068856505216,\n",
       " '0000110101': 0.003635940160849203,\n",
       " '0000111101': 0.00017663218213240364,\n",
       " '0000110111': 0.001490725821562214,\n",
       " '0000111111': 2.077654909212065e-05,\n",
       " '0000100011': 0.0014110110790602286,\n",
       " '0000101011': 1.851817453308029e-05,\n",
       " '0000100101': 0.0054367051347089124,\n",
       " '0000101101': 0.0002903693587070034,\n",
       " '0000100111': 0.0006031029362355616,\n",
       " '0000101111': 4.677219112786255e-06}"
      ]
     },
     "execution_count": 59,
     "metadata": {},
     "output_type": "execute_result"
    }
   ],
   "source": [
    "likely_recombined_dist"
   ]
  },
  {
   "cell_type": "code",
   "execution_count": null,
   "id": "5dbabd0b",
   "metadata": {},
   "outputs": [],
   "source": []
  },
  {
   "cell_type": "code",
   "execution_count": 60,
   "id": "04be761c",
   "metadata": {},
   "outputs": [],
   "source": [
    "from utils.utils import filter_results"
   ]
  },
  {
   "cell_type": "code",
   "execution_count": 61,
   "id": "9df8b215",
   "metadata": {},
   "outputs": [],
   "source": [
    "filter_direct_recombined = filter_results(direct_recombined_dist, [0,1,2,3,4])"
   ]
  },
  {
   "cell_type": "code",
   "execution_count": 62,
   "id": "ef48375a",
   "metadata": {},
   "outputs": [
    {
     "data": {
      "text/plain": [
       "{'00000': 0.0002684463696394322,\n",
       " '01000': 0.0004487780247265202,\n",
       " '10000': 0.00534804410898299,\n",
       " '11000': 0.00096864558220294,\n",
       " '10010': 0.009328690644229946,\n",
       " '11010': 0.0003299693515337989,\n",
       " '10100': 0.05778712705481673,\n",
       " '11100': 0.003983158850647021,\n",
       " '10110': 0.009537493262088763,\n",
       " '11110': 0.0007496101659503924,\n",
       " '00010': 0.003183523864806926,\n",
       " '01010': 0.000230740109100506,\n",
       " '00100': 0.007535108672958824,\n",
       " '01100': 0.0016290487413187986,\n",
       " '00110': 0.002893982952330196,\n",
       " '01110': 0.0004271570786442409,\n",
       " '00001': 0.01871859398885368,\n",
       " '01001': 0.005733630253807504,\n",
       " '10001': 0.06118880128920559,\n",
       " '11001': 0.010862643200720704,\n",
       " '10011': 0.00252445530475913,\n",
       " '11011': 0.0006649119701456261,\n",
       " '10101': 0.5383693508481706,\n",
       " '11101': 0.015517428661423993,\n",
       " '10111': 0.02215250999788158,\n",
       " '11111': 0.0013295986434897118,\n",
       " '00011': 0.00030819491157711937,\n",
       " '01011': 0.00038890060406948423,\n",
       " '00101': 0.15745533805804918,\n",
       " '01101': 0.0074347645032161605,\n",
       " '00111': 0.006008915956625989,\n",
       " '01111': 0.000559148928234709}"
      ]
     },
     "execution_count": 62,
     "metadata": {},
     "output_type": "execute_result"
    }
   ],
   "source": [
    "filter_direct_recombined"
   ]
  },
  {
   "cell_type": "code",
   "execution_count": 63,
   "id": "246437c1",
   "metadata": {},
   "outputs": [],
   "source": [
    "filter_likely_recombined = filter_results(likely_recombined_dist, [0,1,2,3,4])"
   ]
  },
  {
   "cell_type": "code",
   "execution_count": 64,
   "id": "a8fe450d",
   "metadata": {},
   "outputs": [
    {
     "data": {
      "text/plain": [
       "{'00000': 0.000801481474353258,\n",
       " '01000': 0.0002786784094674083,\n",
       " '10000': 0.005248659794853051,\n",
       " '11000': 0.0008081569862527718,\n",
       " '10010': 0.009091782471354922,\n",
       " '11010': 0.00011395729917584639,\n",
       " '10100': 0.059041799486570595,\n",
       " '11100': 0.0037548096795572273,\n",
       " '10110': 0.009308265577873657,\n",
       " '11110': 0.000495964084540994,\n",
       " '00010': 0.0029576261705756245,\n",
       " '01010': 7.118856183476496e-05,\n",
       " '00100': 0.011040147712530838,\n",
       " '01100': 0.0013895863486073164,\n",
       " '00110': 0.0026417875961808855,\n",
       " '01110': 0.00018113600317021567,\n",
       " '00001': 0.018446862127415614,\n",
       " '01001': 0.005464213031539496,\n",
       " '10001': 0.06079949072449869,\n",
       " '11001': 0.010580619257433326,\n",
       " '10011': 0.002261934827058003,\n",
       " '11011': 0.00043404671898802786,\n",
       " '10101': 0.5370428613550053,\n",
       " '11101': 0.01522927251590728,\n",
       " '10111': 0.021852372443576008,\n",
       " '11111': 0.0010707685401639619,\n",
       " '00011': 0.0003731772389511549,\n",
       " '01011': 0.00015275068191221775,\n",
       " '00101': 0.15709766027293984,\n",
       " '01101': 0.007160759828454763,\n",
       " '00111': 0.005738330899664258,\n",
       " '01111': 0.00030549276051203825}"
      ]
     },
     "execution_count": 64,
     "metadata": {},
     "output_type": "execute_result"
    }
   ],
   "source": [
    "filter_likely_recombined"
   ]
  },
  {
   "cell_type": "code",
   "execution_count": 65,
   "id": "5fab80f3",
   "metadata": {},
   "outputs": [],
   "source": [
    "def norm_dict(dictionary):\n",
    "    total = total_counts(dictionary)\n",
    "    norm_dist = {}\n",
    "    for i in dictionary.keys():\n",
    "        norm_dist[i] = dictionary[i]/total\n",
    "    return norm_dist"
   ]
  },
  {
   "cell_type": "code",
   "execution_count": 66,
   "id": "f05e0129",
   "metadata": {},
   "outputs": [
    {
     "data": {
      "text/plain": [
       "{'00000': 117,\n",
       " '00001': 71,\n",
       " '10000': 1999,\n",
       " '10001': 1266,\n",
       " '10010': 273,\n",
       " '10011': 298,\n",
       " '10100': 13484,\n",
       " '10101': 9088,\n",
       " '10110': 610,\n",
       " '10111': 471,\n",
       " '11000': 457,\n",
       " '11001': 276,\n",
       " '11010': 42,\n",
       " '11011': 57,\n",
       " '11100': 593,\n",
       " '11101': 368,\n",
       " '11110': 82,\n",
       " '11111': 44,\n",
       " '00010': 16,\n",
       " '00011': 13,\n",
       " '00100': 659,\n",
       " '00101': 453,\n",
       " '00110': 38,\n",
       " '00111': 27,\n",
       " '01000': 526,\n",
       " '01001': 356,\n",
       " '01010': 31,\n",
       " '01011': 25,\n",
       " '01100': 127,\n",
       " '01101': 94,\n",
       " '01110': 19,\n",
       " '01111': 20}"
      ]
     },
     "execution_count": 66,
     "metadata": {},
     "output_type": "execute_result"
    }
   ],
   "source": [
    "unmiti_dist = temp_frag_data[1][0][0].get_counts()[-1]\n",
    "unmiti_dist"
   ]
  },
  {
   "cell_type": "code",
   "execution_count": 67,
   "id": "1e8284f8",
   "metadata": {},
   "outputs": [],
   "source": [
    "unmiti_norm_dist = norm_dict(unmiti_dist)"
   ]
  },
  {
   "cell_type": "code",
   "execution_count": 68,
   "id": "a724f3dd",
   "metadata": {},
   "outputs": [],
   "source": [
    "norm_filter_dist = norm_dict(filter_likely_recombined)"
   ]
  },
  {
   "cell_type": "code",
   "execution_count": 69,
   "id": "c2138c6d",
   "metadata": {},
   "outputs": [
    {
     "data": {
      "text/plain": [
       "0.284"
      ]
     },
     "execution_count": 69,
     "metadata": {},
     "output_type": "execute_result"
    }
   ],
   "source": [
    "unmiti_norm_dist['10101']"
   ]
  },
  {
   "cell_type": "code",
   "execution_count": 70,
   "id": "81d6bc37",
   "metadata": {},
   "outputs": [
    {
     "data": {
      "text/plain": [
       "0.5370428613550053"
      ]
     },
     "execution_count": 70,
     "metadata": {},
     "output_type": "execute_result"
    }
   ],
   "source": [
    "likely_recombined_dist['0000010101']"
   ]
  },
  {
   "cell_type": "code",
   "execution_count": 71,
   "id": "3287adab",
   "metadata": {},
   "outputs": [
    {
     "data": {
      "text/plain": [
       "0.5645739481099143"
      ]
     },
     "execution_count": 71,
     "metadata": {},
     "output_type": "execute_result"
    }
   ],
   "source": [
    "norm_filter_dist['10101']"
   ]
  },
  {
   "cell_type": "code",
   "execution_count": 72,
   "id": "9b10b83e",
   "metadata": {},
   "outputs": [
    {
     "data": {
      "text/plain": [
       "{'00000': 0.0008425688019963411,\n",
       " '01000': 0.00029296464250364935,\n",
       " '10000': 0.005517728278129252,\n",
       " '11000': 0.0008495865288482616,\n",
       " '10010': 0.009557865665057726,\n",
       " '11010': 0.00011979923194458203,\n",
       " '10100': 0.06206853165414746,\n",
       " '11100': 0.003947297092526912,\n",
       " '10110': 0.009785446610530138,\n",
       " '11110': 0.0005213892995868953,\n",
       " '00010': 0.0031092465877714894,\n",
       " '01010': 7.483798837566549e-05,\n",
       " '00100': 0.011606112342791098,\n",
       " '01100': 0.00146082241758777,\n",
       " '00110': 0.002777216793237879,\n",
       " '01110': 0.00019042180022025817,\n",
       " '00001': 0.019392526241271156,\n",
       " '01001': 0.0057443316847119,\n",
       " '10001': 0.06391632957338894,\n",
       " '11001': 0.011123026516999339,\n",
       " '10011': 0.0023778911658138384,\n",
       " '11011': 0.00045629778819690383,\n",
       " '10101': 0.5645739481099143,\n",
       " '11101': 0.016009989387912097,\n",
       " '10111': 0.02297261740880418,\n",
       " '11111': 0.0011256606608771992,\n",
       " '00011': 0.0003923078813631954,\n",
       " '01011': 0.00016058132743087563,\n",
       " '00101': 0.16515115027382174,\n",
       " '01101': 0.00752785064048203,\n",
       " '00111': 0.0060325019932496535,\n",
       " '01111': 0.00032115361050720075}"
      ]
     },
     "execution_count": 72,
     "metadata": {},
     "output_type": "execute_result"
    }
   ],
   "source": [
    "norm_filter_dist"
   ]
  },
  {
   "cell_type": "code",
   "execution_count": 73,
   "id": "7e67de89",
   "metadata": {},
   "outputs": [
    {
     "data": {
      "text/plain": [
       "32000"
      ]
     },
     "execution_count": 73,
     "metadata": {},
     "output_type": "execute_result"
    }
   ],
   "source": [
    "total_counts(unmiti_dist)"
   ]
  },
  {
   "cell_type": "code",
   "execution_count": 74,
   "id": "95574397",
   "metadata": {},
   "outputs": [],
   "source": [
    "unmiti_norm_dist = {}\n",
    "for i in unmiti_dist.keys():\n",
    "    unmiti_norm_dist[i] = unmiti_dist[i]/total_counts(unmiti_dist)"
   ]
  },
  {
   "cell_type": "code",
   "execution_count": 75,
   "id": "abb7b782",
   "metadata": {},
   "outputs": [
    {
     "data": {
      "text/plain": [
       "{'00000': 0.00365625,\n",
       " '00001': 0.00221875,\n",
       " '10000': 0.06246875,\n",
       " '10001': 0.0395625,\n",
       " '10010': 0.00853125,\n",
       " '10011': 0.0093125,\n",
       " '10100': 0.421375,\n",
       " '10101': 0.284,\n",
       " '10110': 0.0190625,\n",
       " '10111': 0.01471875,\n",
       " '11000': 0.01428125,\n",
       " '11001': 0.008625,\n",
       " '11010': 0.0013125,\n",
       " '11011': 0.00178125,\n",
       " '11100': 0.01853125,\n",
       " '11101': 0.0115,\n",
       " '11110': 0.0025625,\n",
       " '11111': 0.001375,\n",
       " '00010': 0.0005,\n",
       " '00011': 0.00040625,\n",
       " '00100': 0.02059375,\n",
       " '00101': 0.01415625,\n",
       " '00110': 0.0011875,\n",
       " '00111': 0.00084375,\n",
       " '01000': 0.0164375,\n",
       " '01001': 0.011125,\n",
       " '01010': 0.00096875,\n",
       " '01011': 0.00078125,\n",
       " '01100': 0.00396875,\n",
       " '01101': 0.0029375,\n",
       " '01110': 0.00059375,\n",
       " '01111': 0.000625}"
      ]
     },
     "execution_count": 75,
     "metadata": {},
     "output_type": "execute_result"
    }
   ],
   "source": [
    "unmiti_norm_dist"
   ]
  },
  {
   "cell_type": "code",
   "execution_count": null,
   "id": "29dbbc7a",
   "metadata": {},
   "outputs": [],
   "source": []
  },
  {
   "cell_type": "code",
   "execution_count": null,
   "id": "885a8632",
   "metadata": {},
   "outputs": [],
   "source": []
  },
  {
   "cell_type": "code",
   "execution_count": null,
   "id": "9519a9a1",
   "metadata": {},
   "outputs": [],
   "source": []
  },
  {
   "cell_type": "code",
   "execution_count": null,
   "id": "0b70a6cd",
   "metadata": {},
   "outputs": [],
   "source": []
  },
  {
   "cell_type": "code",
   "execution_count": null,
   "id": "94ee70ae",
   "metadata": {},
   "outputs": [],
   "source": []
  },
  {
   "cell_type": "code",
   "execution_count": null,
   "id": "f13268e0",
   "metadata": {},
   "outputs": [],
   "source": []
  }
 ],
 "metadata": {
  "kernelspec": {
   "display_name": "Python 3 (ipykernel)",
   "language": "python",
   "name": "python3"
  },
  "language_info": {
   "codemirror_mode": {
    "name": "ipython",
    "version": 3
   },
   "file_extension": ".py",
   "mimetype": "text/x-python",
   "name": "python",
   "nbconvert_exporter": "python",
   "pygments_lexer": "ipython3",
   "version": "3.7.11"
  }
 },
 "nbformat": 4,
 "nbformat_minor": 5
}
