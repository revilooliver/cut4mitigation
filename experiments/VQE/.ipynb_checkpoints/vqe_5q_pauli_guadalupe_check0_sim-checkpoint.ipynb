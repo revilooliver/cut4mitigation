{
 "cells": [
  {
   "cell_type": "code",
   "execution_count": 1,
   "id": "4b4d55ee",
   "metadata": {},
   "outputs": [],
   "source": [
    "import os\n",
    "import sys\n",
    "module_path = os.path.abspath(os.path.join('../..'))\n",
    "if module_path not in sys.path:\n",
    "    sys.path.append(module_path)"
   ]
  },
  {
   "cell_type": "code",
   "execution_count": 2,
   "id": "050ec390",
   "metadata": {},
   "outputs": [],
   "source": [
    "# author: Ji Liu email: ji.liu@anl.gov\n",
    "\n",
    "import itertools, numpy\n",
    "import circuit_cutter\n",
    "import mlrecon_methods as ml\n",
    "import numpy as np\n",
    "\n",
    "import qiskit\n",
    "from qiskit import *\n",
    "from qiskit import QuantumCircuit, QuantumRegister, ClassicalRegister, Aer, execute, transpile\n",
    "\n",
    "from qiskit.transpiler import PassManager\n",
    "\n",
    "from qiskit.converters import circuit_to_dag\n",
    "from qiskit.visualization import dag_drawer, plot_histogram\n",
    "from qiskit.compiler import assemble\n",
    "\n",
    "from qiskit.tools.monitor import job_monitor, backend_monitor, backend_overview\n",
    "\n",
    "import qiskit.providers.aer.noise as noise\n",
    "from qiskit.providers.aer.noise import NoiseModel\n",
    "\n",
    "from utils.utils import filter_results, dict_to_list, H_distance, total_counts"
   ]
  },
  {
   "cell_type": "code",
   "execution_count": 3,
   "id": "0ab21beb",
   "metadata": {},
   "outputs": [
    {
     "data": {
      "text/plain": [
       "{'qiskit-terra': '0.22.0', 'qiskit-aer': '0.11.0', 'qiskit-ignis': '0.7.1', 'qiskit-ibmq-provider': '0.19.2', 'qiskit': '0.39.0', 'qiskit-nature': None, 'qiskit-finance': None, 'qiskit-optimization': None, 'qiskit-machine-learning': None}"
      ]
     },
     "execution_count": 3,
     "metadata": {},
     "output_type": "execute_result"
    }
   ],
   "source": [
    "qiskit.__qiskit_version__"
   ]
  },
  {
   "cell_type": "code",
   "execution_count": 4,
   "id": "da4a5c76",
   "metadata": {},
   "outputs": [],
   "source": [
    "numpy.set_printoptions(linewidth = 200)\n",
    "\n",
    "qubits = 5\n",
    "\n",
    "simulation_backend = \"qasm_simulator\"\n",
    "\n",
    "seed = 0\n",
    "print_circuits = True"
   ]
  },
  {
   "cell_type": "code",
   "execution_count": 5,
   "id": "cc3edfd5",
   "metadata": {},
   "outputs": [
    {
     "data": {
      "text/plain": [
       "[<IBMQSimulator('ibmq_qasm_simulator') from IBMQ(hub='ibm-q-ornl', group='ornl', project='chm185')>,\n",
       " <IBMQBackend('ibmq_montreal') from IBMQ(hub='ibm-q-ornl', group='ornl', project='chm185')>,\n",
       " <IBMQBackend('ibmq_toronto') from IBMQ(hub='ibm-q-ornl', group='ornl', project='chm185')>,\n",
       " <IBMQBackend('ibmq_kolkata') from IBMQ(hub='ibm-q-ornl', group='ornl', project='chm185')>,\n",
       " <IBMQBackend('ibmq_mumbai') from IBMQ(hub='ibm-q-ornl', group='ornl', project='chm185')>,\n",
       " <IBMQBackend('ibmq_lima') from IBMQ(hub='ibm-q-ornl', group='ornl', project='chm185')>,\n",
       " <IBMQBackend('ibmq_belem') from IBMQ(hub='ibm-q-ornl', group='ornl', project='chm185')>,\n",
       " <IBMQBackend('ibmq_quito') from IBMQ(hub='ibm-q-ornl', group='ornl', project='chm185')>,\n",
       " <IBMQBackend('ibmq_guadalupe') from IBMQ(hub='ibm-q-ornl', group='ornl', project='chm185')>,\n",
       " <IBMQSimulator('simulator_statevector') from IBMQ(hub='ibm-q-ornl', group='ornl', project='chm185')>,\n",
       " <IBMQSimulator('simulator_mps') from IBMQ(hub='ibm-q-ornl', group='ornl', project='chm185')>,\n",
       " <IBMQSimulator('simulator_extended_stabilizer') from IBMQ(hub='ibm-q-ornl', group='ornl', project='chm185')>,\n",
       " <IBMQSimulator('simulator_stabilizer') from IBMQ(hub='ibm-q-ornl', group='ornl', project='chm185')>,\n",
       " <IBMQBackend('ibmq_jakarta') from IBMQ(hub='ibm-q-ornl', group='ornl', project='chm185')>,\n",
       " <IBMQBackend('ibmq_manila') from IBMQ(hub='ibm-q-ornl', group='ornl', project='chm185')>,\n",
       " <IBMQBackend('ibm_hanoi') from IBMQ(hub='ibm-q-ornl', group='ornl', project='chm185')>,\n",
       " <IBMQBackend('ibm_cairo') from IBMQ(hub='ibm-q-ornl', group='ornl', project='chm185')>,\n",
       " <IBMQBackend('ibm_auckland') from IBMQ(hub='ibm-q-ornl', group='ornl', project='chm185')>,\n",
       " <IBMQBackend('ibm_washington') from IBMQ(hub='ibm-q-ornl', group='ornl', project='chm185')>,\n",
       " <IBMQBackend('ibm_geneva') from IBMQ(hub='ibm-q-ornl', group='ornl', project='chm185')>]"
      ]
     },
     "execution_count": 5,
     "metadata": {},
     "output_type": "execute_result"
    }
   ],
   "source": [
    "IBMQ.load_account()\n",
    "provider = IBMQ.get_provider(hub='ibm-q-ornl', group='ornl', project='chm185')\n",
    "provider.backends()"
   ]
  },
  {
   "cell_type": "code",
   "execution_count": 6,
   "id": "97f1be7e",
   "metadata": {},
   "outputs": [
    {
     "data": {
      "text/plain": [
       "<IBMQBackend('ibmq_guadalupe') from IBMQ(hub='ibm-q-ornl', group='ornl', project='chm185')>"
      ]
     },
     "execution_count": 6,
     "metadata": {},
     "output_type": "execute_result"
    }
   ],
   "source": [
    "device = provider.get_backend('ibmq_guadalupe')\n",
    "device"
   ]
  },
  {
   "cell_type": "code",
   "execution_count": 7,
   "id": "5861b771",
   "metadata": {},
   "outputs": [
    {
     "name": "stdout",
     "output_type": "stream",
     "text": [
      "ibmq_guadalupe\n",
      "==============\n",
      "Configuration\n",
      "-------------\n",
      "    n_qubits: 16\n",
      "    operational: True\n",
      "    status_msg: active\n",
      "    pending_jobs: 335\n",
      "    backend_version: 1.3.29\n",
      "    basis_gates: ['id', 'rz', 'sx', 'x', 'cx', 'reset']\n",
      "    local: False\n",
      "    simulator: False\n",
      "    input_allowed: ['job', 'runtime']\n",
      "    dt: 0.2222222222222222\n",
      "    memory: True\n",
      "    pulse_num_qubits: 3\n",
      "    meas_levels: [1, 2]\n",
      "    measure_esp_enabled: False\n",
      "    rep_delay_range: [0.0, 500.0]\n",
      "    conditional_latency: []\n",
      "    clops: 2351\n",
      "    meas_kernels: ['hw_boxcar']\n",
      "    n_registers: 1\n",
      "    parametric_pulses: ['gaussian', 'gaussian_square', 'drag', 'constant']\n",
      "    online_date: 2021-01-08 05:00:00+00:00\n",
      "    discriminators: ['quadratic_discriminator', 'linear_discriminator', 'hw_centroid']\n",
      "    allow_q_object: True\n",
      "    n_uchannels: 32\n",
      "    u_channel_lo: [[{'q': 1, 'scale': (1+0j)}], [{'q': 0, 'scale': (1+0j)}], [{'q': 2, 'scale': (1+0j)}], [{'q': 4, 'scale': (1+0j)}], [{'q': 1, 'scale': (1+0j)}], [{'q': 3, 'scale': (1+0j)}], [{'q': 2, 'scale': (1+0j)}], [{'q': 5, 'scale': (1+0j)}], [{'q': 1, 'scale': (1+0j)}], [{'q': 7, 'scale': (1+0j)}], [{'q': 3, 'scale': (1+0j)}], [{'q': 8, 'scale': (1+0j)}], [{'q': 7, 'scale': (1+0j)}], [{'q': 4, 'scale': (1+0j)}], [{'q': 6, 'scale': (1+0j)}], [{'q': 10, 'scale': (1+0j)}], [{'q': 5, 'scale': (1+0j)}], [{'q': 9, 'scale': (1+0j)}], [{'q': 11, 'scale': (1+0j)}], [{'q': 8, 'scale': (1+0j)}], [{'q': 7, 'scale': (1+0j)}], [{'q': 12, 'scale': (1+0j)}], [{'q': 8, 'scale': (1+0j)}], [{'q': 14, 'scale': (1+0j)}], [{'q': 10, 'scale': (1+0j)}], [{'q': 13, 'scale': (1+0j)}], [{'q': 15, 'scale': (1+0j)}], [{'q': 12, 'scale': (1+0j)}], [{'q': 14, 'scale': (1+0j)}], [{'q': 11, 'scale': (1+0j)}], [{'q': 13, 'scale': (1+0j)}], [{'q': 12, 'scale': (1+0j)}]]\n",
      "    live_data: False\n",
      "    acquisition_latency: []\n",
      "    uchannels_enabled: True\n",
      "    default_rep_delay: 250.0\n",
      "    dtm: 0.2222222222222222\n",
      "    description: 16 qubit device\n",
      "    dynamic_reprate_enabled: True\n",
      "    rep_times: [1000.0]\n",
      "    qubit_lo_range: [[4.61354550016331, 5.61354550016331], [4.660750088479803, 5.660750088479803], [4.810529575540687, 5.810529575540687], [4.969531111841549, 5.969531111841549], [4.8534395676908115, 5.8534395676908115], [4.803343269754136, 5.803343269754136], [4.6364916362876, 5.6364916362876], [4.702793015037453, 5.702793015037453], [4.6745384704834425, 5.6745384704834425], [4.753723029207533, 5.753723029207533], [4.9268119699055735, 5.9268119699055735], [4.889844196822874, 5.889844196822874], [4.7637107449148255, 5.7637107449148255], [4.537872694020893, 5.537872694020893], [4.70499086494293, 5.70499086494293], [4.626275120250747, 5.626275120250747]]\n",
      "    hamiltonian: {'description': 'Qubits are modeled as Duffing oscillators. In this case, the system includes higher energy states, i.e. not just |0> and |1>. The Pauli operators are generalized via the following set of transformations:\\n\\n$(\\\\mathbb{I}-\\\\sigma_{i}^z)/2 \\\\rightarrow O_i \\\\equiv b^\\\\dagger_{i} b_{i}$,\\n\\n$\\\\sigma_{+} \\\\rightarrow b^\\\\dagger$,\\n\\n$\\\\sigma_{-} \\\\rightarrow b$,\\n\\n$\\\\sigma_{i}^X \\\\rightarrow b^\\\\dagger_{i} + b_{i}$.\\n\\nQubits are coupled through resonator buses. The provided Hamiltonian has been projected into the zero excitation subspace of the resonator buses leading to an effective qubit-qubit flip-flop interaction. The qubit resonance frequencies in the Hamiltonian are the cavity dressed frequencies and not exactly what is returned by the backend defaults, which also includes the dressing due to the qubit-qubit interactions.\\n\\nQuantities are returned in angular frequencies, with units 2*pi*GHz.\\n\\nWARNING: Currently not all system Hamiltonian information is available to the public, missing values have been replaced with 0.\\n', 'h_latex': '\\\\begin{align} \\\\mathcal{H}/\\\\hbar = & \\\\sum_{i=0}^{15}\\\\left(\\\\frac{\\\\omega_{q,i}}{2}(\\\\mathbb{I}-\\\\sigma_i^{z})+\\\\frac{\\\\Delta_{i}}{2}(O_i^2-O_i)+\\\\Omega_{d,i}D_i(t)\\\\sigma_i^{X}\\\\right) \\\\\\\\ & + J_{0,1}(\\\\sigma_{0}^{+}\\\\sigma_{1}^{-}+\\\\sigma_{0}^{-}\\\\sigma_{1}^{+}) + J_{13,14}(\\\\sigma_{13}^{+}\\\\sigma_{14}^{-}+\\\\sigma_{13}^{-}\\\\sigma_{14}^{+}) + J_{1,2}(\\\\sigma_{1}^{+}\\\\sigma_{2}^{-}+\\\\sigma_{1}^{-}\\\\sigma_{2}^{+}) + J_{5,8}(\\\\sigma_{5}^{+}\\\\sigma_{8}^{-}+\\\\sigma_{5}^{-}\\\\sigma_{8}^{+}) \\\\\\\\ & + J_{7,10}(\\\\sigma_{7}^{+}\\\\sigma_{10}^{-}+\\\\sigma_{7}^{-}\\\\sigma_{10}^{+}) + J_{12,13}(\\\\sigma_{12}^{+}\\\\sigma_{13}^{-}+\\\\sigma_{12}^{-}\\\\sigma_{13}^{+}) + J_{1,4}(\\\\sigma_{1}^{+}\\\\sigma_{4}^{-}+\\\\sigma_{1}^{-}\\\\sigma_{4}^{+}) + J_{2,3}(\\\\sigma_{2}^{+}\\\\sigma_{3}^{-}+\\\\sigma_{2}^{-}\\\\sigma_{3}^{+}) \\\\\\\\ & + J_{6,7}(\\\\sigma_{6}^{+}\\\\sigma_{7}^{-}+\\\\sigma_{6}^{-}\\\\sigma_{7}^{+}) + J_{3,5}(\\\\sigma_{3}^{+}\\\\sigma_{5}^{-}+\\\\sigma_{3}^{-}\\\\sigma_{5}^{+}) + J_{8,9}(\\\\sigma_{8}^{+}\\\\sigma_{9}^{-}+\\\\sigma_{8}^{-}\\\\sigma_{9}^{+}) + J_{12,15}(\\\\sigma_{12}^{+}\\\\sigma_{15}^{-}+\\\\sigma_{12}^{-}\\\\sigma_{15}^{+}) \\\\\\\\ & + J_{11,14}(\\\\sigma_{11}^{+}\\\\sigma_{14}^{-}+\\\\sigma_{11}^{-}\\\\sigma_{14}^{+}) + J_{10,12}(\\\\sigma_{10}^{+}\\\\sigma_{12}^{-}+\\\\sigma_{10}^{-}\\\\sigma_{12}^{+}) + J_{4,7}(\\\\sigma_{4}^{+}\\\\sigma_{7}^{-}+\\\\sigma_{4}^{-}\\\\sigma_{7}^{+}) + J_{8,11}(\\\\sigma_{8}^{+}\\\\sigma_{11}^{-}+\\\\sigma_{8}^{-}\\\\sigma_{11}^{+}) \\\\\\\\ & + \\\\Omega_{d,0}(U_{0}^{(0,1)}(t))\\\\sigma_{0}^{X} + \\\\Omega_{d,1}(U_{1}^{(1,0)}(t)+U_{3}^{(1,4)}(t)+U_{2}^{(1,2)}(t))\\\\sigma_{1}^{X} \\\\\\\\ & + \\\\Omega_{d,2}(U_{5}^{(2,3)}(t)+U_{4}^{(2,1)}(t))\\\\sigma_{2}^{X} + \\\\Omega_{d,3}(U_{6}^{(3,2)}(t)+U_{7}^{(3,5)}(t))\\\\sigma_{3}^{X} \\\\\\\\ & + \\\\Omega_{d,4}(U_{9}^{(4,7)}(t)+U_{8}^{(4,1)}(t))\\\\sigma_{4}^{X} + \\\\Omega_{d,5}(U_{11}^{(5,8)}(t)+U_{10}^{(5,3)}(t))\\\\sigma_{5}^{X} \\\\\\\\ & + \\\\Omega_{d,6}(U_{12}^{(6,7)}(t))\\\\sigma_{6}^{X} + \\\\Omega_{d,7}(U_{14}^{(7,6)}(t)+U_{13}^{(7,4)}(t)+U_{15}^{(7,10)}(t))\\\\sigma_{7}^{X} \\\\\\\\ & + \\\\Omega_{d,8}(U_{18}^{(8,11)}(t)+U_{16}^{(8,5)}(t)+U_{17}^{(8,9)}(t))\\\\sigma_{8}^{X} + \\\\Omega_{d,9}(U_{19}^{(9,8)}(t))\\\\sigma_{9}^{X} \\\\\\\\ & + \\\\Omega_{d,10}(U_{20}^{(10,7)}(t)+U_{21}^{(10,12)}(t))\\\\sigma_{10}^{X} + \\\\Omega_{d,11}(U_{22}^{(11,8)}(t)+U_{23}^{(11,14)}(t))\\\\sigma_{11}^{X} \\\\\\\\ & + \\\\Omega_{d,12}(U_{24}^{(12,10)}(t)+U_{25}^{(12,13)}(t)+U_{26}^{(12,15)}(t))\\\\sigma_{12}^{X} + \\\\Omega_{d,13}(U_{28}^{(13,14)}(t)+U_{27}^{(13,12)}(t))\\\\sigma_{13}^{X} \\\\\\\\ & + \\\\Omega_{d,14}(U_{30}^{(14,13)}(t)+U_{29}^{(14,11)}(t))\\\\sigma_{14}^{X} + \\\\Omega_{d,15}(U_{31}^{(15,12)}(t))\\\\sigma_{15}^{X} \\\\\\\\ \\\\end{align}', 'h_str': ['_SUM[i,0,15,wq{i}/2*(I{i}-Z{i})]', '_SUM[i,0,15,delta{i}/2*O{i}*O{i}]', '_SUM[i,0,15,-delta{i}/2*O{i}]', '_SUM[i,0,15,omegad{i}*X{i}||D{i}]', 'jq0q1*Sp0*Sm1', 'jq0q1*Sm0*Sp1', 'jq13q14*Sp13*Sm14', 'jq13q14*Sm13*Sp14', 'jq1q2*Sp1*Sm2', 'jq1q2*Sm1*Sp2', 'jq5q8*Sp5*Sm8', 'jq5q8*Sm5*Sp8', 'jq7q10*Sp7*Sm10', 'jq7q10*Sm7*Sp10', 'jq12q13*Sp12*Sm13', 'jq12q13*Sm12*Sp13', 'jq1q4*Sp1*Sm4', 'jq1q4*Sm1*Sp4', 'jq2q3*Sp2*Sm3', 'jq2q3*Sm2*Sp3', 'jq6q7*Sp6*Sm7', 'jq6q7*Sm6*Sp7', 'jq3q5*Sp3*Sm5', 'jq3q5*Sm3*Sp5', 'jq8q9*Sp8*Sm9', 'jq8q9*Sm8*Sp9', 'jq12q15*Sp12*Sm15', 'jq12q15*Sm12*Sp15', 'jq11q14*Sp11*Sm14', 'jq11q14*Sm11*Sp14', 'jq10q12*Sp10*Sm12', 'jq10q12*Sm10*Sp12', 'jq4q7*Sp4*Sm7', 'jq4q7*Sm4*Sp7', 'jq8q11*Sp8*Sm11', 'jq8q11*Sm8*Sp11', 'omegad1*X0||U0', 'omegad0*X1||U1', 'omegad4*X1||U3', 'omegad2*X1||U2', 'omegad3*X2||U5', 'omegad1*X2||U4', 'omegad2*X3||U6', 'omegad5*X3||U7', 'omegad7*X4||U9', 'omegad1*X4||U8', 'omegad8*X5||U11', 'omegad3*X5||U10', 'omegad7*X6||U12', 'omegad6*X7||U14', 'omegad4*X7||U13', 'omegad10*X7||U15', 'omegad11*X8||U18', 'omegad5*X8||U16', 'omegad9*X8||U17', 'omegad8*X9||U19', 'omegad7*X10||U20', 'omegad12*X10||U21', 'omegad8*X11||U22', 'omegad14*X11||U23', 'omegad10*X12||U24', 'omegad13*X12||U25', 'omegad15*X12||U26', 'omegad14*X13||U28', 'omegad12*X13||U27', 'omegad13*X14||U30', 'omegad11*X14||U29', 'omegad12*X15||U31'], 'osc': {}, 'qub': {'0': 3, '1': 3, '2': 3, '3': 3, '4': 3, '5': 3, '6': 3, '7': 3, '8': 3, '9': 3, '10': 3, '11': 3, '12': 3, '13': 3, '14': 3, '15': 3}, 'vars': {'delta0': -2.1063275673282793, 'delta1': -1.9997457995481482, 'delta10': -2.0723591213397214, 'delta11': -2.077299463459474, 'delta12': -1.9882861833207344, 'delta13': -2.1195886405011586, 'delta14': -1.9938216985026165, 'delta15': -2.100360336460335, 'delta2': -2.0850063745061163, 'delta3': -1.9841850364728746, 'delta4': -2.0816663449106074, 'delta5': -2.087247252161857, 'delta6': -2.1118540185370227, 'delta7': -1.9938361951339494, 'delta8': -1.9946873220639585, 'delta9': -2.0977196521924837, 'jq0q1': 0.011035706380861009, 'jq10q12': 0.014090719920513348, 'jq11q14': 0.012403331538732508, 'jq12q13': 0.011412587588970341, 'jq12q15': 0.01215583700723528, 'jq13q14': 0.011412484059140323, 'jq1q2': 0.012748863472878359, 'jq1q4': 0.011763703935975567, 'jq2q3': 0.012883066723545332, 'jq3q5': 0.013345490439462725, 'jq4q7': 0.013062130151937424, 'jq5q8': 0.011633341546437841, 'jq6q7': 0.011199743290710286, 'jq7q10': 0.012452487603790153, 'jq8q11': 0.013192726475902064, 'jq8q9': 0.011879100541186129, 'omegad0': 0.9812423410215897, 'omegad1': 1.037509335655258, 'omegad10': 0.9285932702620118, 'omegad11': 0.9914884125643008, 'omegad12': 1.038508015532305, 'omegad13': 0.9545389192774952, 'omegad14': 0.595016705963615, 'omegad15': 0.9440020140098169, 'omegad2': 0.9809913021427554, 'omegad3': 1.0518008502227125, 'omegad4': 0.9373987770910324, 'omegad5': 1.0334891476579995, 'omegad6': 0.8349685083543396, 'omegad7': 1.0275906288171475, 'omegad8': 0.9941282680415097, 'omegad9': 1.0129848006425344, 'wq0': 32.1293539542204, 'wq1': 32.42594912996205, 'wq10': 34.097665234137004, 'wq11': 33.865389865464635, 'wq12': 33.072870013692146, 'wq13': 31.653887690513315, 'wq14': 32.703922126613385, 'wq15': 32.20933651611976, 'wq2': 33.36704140237989, 'wq3': 34.36607751908445, 'wq4': 33.636652834588745, 'wq5': 33.32188851144893, 'wq6': 32.27352877957308, 'wq7': 32.69011262837991, 'wq8': 32.512584089177096, 'wq9': 33.0101153451078}}\n",
      "    open_pulse: True\n",
      "    sample_name: family: Falcon, revision: 4, segment: P\n",
      "    channels: {'acquire0': {'operates': {'qubits': [0]}, 'purpose': 'acquire', 'type': 'acquire'}, 'acquire1': {'operates': {'qubits': [1]}, 'purpose': 'acquire', 'type': 'acquire'}, 'acquire10': {'operates': {'qubits': [10]}, 'purpose': 'acquire', 'type': 'acquire'}, 'acquire11': {'operates': {'qubits': [11]}, 'purpose': 'acquire', 'type': 'acquire'}, 'acquire12': {'operates': {'qubits': [12]}, 'purpose': 'acquire', 'type': 'acquire'}, 'acquire13': {'operates': {'qubits': [13]}, 'purpose': 'acquire', 'type': 'acquire'}, 'acquire14': {'operates': {'qubits': [14]}, 'purpose': 'acquire', 'type': 'acquire'}, 'acquire15': {'operates': {'qubits': [15]}, 'purpose': 'acquire', 'type': 'acquire'}, 'acquire2': {'operates': {'qubits': [2]}, 'purpose': 'acquire', 'type': 'acquire'}, 'acquire3': {'operates': {'qubits': [3]}, 'purpose': 'acquire', 'type': 'acquire'}, 'acquire4': {'operates': {'qubits': [4]}, 'purpose': 'acquire', 'type': 'acquire'}, 'acquire5': {'operates': {'qubits': [5]}, 'purpose': 'acquire', 'type': 'acquire'}, 'acquire6': {'operates': {'qubits': [6]}, 'purpose': 'acquire', 'type': 'acquire'}, 'acquire7': {'operates': {'qubits': [7]}, 'purpose': 'acquire', 'type': 'acquire'}, 'acquire8': {'operates': {'qubits': [8]}, 'purpose': 'acquire', 'type': 'acquire'}, 'acquire9': {'operates': {'qubits': [9]}, 'purpose': 'acquire', 'type': 'acquire'}, 'd0': {'operates': {'qubits': [0]}, 'purpose': 'drive', 'type': 'drive'}, 'd1': {'operates': {'qubits': [1]}, 'purpose': 'drive', 'type': 'drive'}, 'd10': {'operates': {'qubits': [10]}, 'purpose': 'drive', 'type': 'drive'}, 'd11': {'operates': {'qubits': [11]}, 'purpose': 'drive', 'type': 'drive'}, 'd12': {'operates': {'qubits': [12]}, 'purpose': 'drive', 'type': 'drive'}, 'd13': {'operates': {'qubits': [13]}, 'purpose': 'drive', 'type': 'drive'}, 'd14': {'operates': {'qubits': [14]}, 'purpose': 'drive', 'type': 'drive'}, 'd15': {'operates': {'qubits': [15]}, 'purpose': 'drive', 'type': 'drive'}, 'd2': {'operates': {'qubits': [2]}, 'purpose': 'drive', 'type': 'drive'}, 'd3': {'operates': {'qubits': [3]}, 'purpose': 'drive', 'type': 'drive'}, 'd4': {'operates': {'qubits': [4]}, 'purpose': 'drive', 'type': 'drive'}, 'd5': {'operates': {'qubits': [5]}, 'purpose': 'drive', 'type': 'drive'}, 'd6': {'operates': {'qubits': [6]}, 'purpose': 'drive', 'type': 'drive'}, 'd7': {'operates': {'qubits': [7]}, 'purpose': 'drive', 'type': 'drive'}, 'd8': {'operates': {'qubits': [8]}, 'purpose': 'drive', 'type': 'drive'}, 'd9': {'operates': {'qubits': [9]}, 'purpose': 'drive', 'type': 'drive'}, 'm0': {'operates': {'qubits': [0]}, 'purpose': 'measure', 'type': 'measure'}, 'm1': {'operates': {'qubits': [1]}, 'purpose': 'measure', 'type': 'measure'}, 'm10': {'operates': {'qubits': [10]}, 'purpose': 'measure', 'type': 'measure'}, 'm11': {'operates': {'qubits': [11]}, 'purpose': 'measure', 'type': 'measure'}, 'm12': {'operates': {'qubits': [12]}, 'purpose': 'measure', 'type': 'measure'}, 'm13': {'operates': {'qubits': [13]}, 'purpose': 'measure', 'type': 'measure'}, 'm14': {'operates': {'qubits': [14]}, 'purpose': 'measure', 'type': 'measure'}, 'm15': {'operates': {'qubits': [15]}, 'purpose': 'measure', 'type': 'measure'}, 'm2': {'operates': {'qubits': [2]}, 'purpose': 'measure', 'type': 'measure'}, 'm3': {'operates': {'qubits': [3]}, 'purpose': 'measure', 'type': 'measure'}, 'm4': {'operates': {'qubits': [4]}, 'purpose': 'measure', 'type': 'measure'}, 'm5': {'operates': {'qubits': [5]}, 'purpose': 'measure', 'type': 'measure'}, 'm6': {'operates': {'qubits': [6]}, 'purpose': 'measure', 'type': 'measure'}, 'm7': {'operates': {'qubits': [7]}, 'purpose': 'measure', 'type': 'measure'}, 'm8': {'operates': {'qubits': [8]}, 'purpose': 'measure', 'type': 'measure'}, 'm9': {'operates': {'qubits': [9]}, 'purpose': 'measure', 'type': 'measure'}, 'u0': {'operates': {'qubits': [0, 1]}, 'purpose': 'cross-resonance', 'type': 'control'}, 'u1': {'operates': {'qubits': [1, 0]}, 'purpose': 'cross-resonance', 'type': 'control'}, 'u10': {'operates': {'qubits': [5, 3]}, 'purpose': 'cross-resonance', 'type': 'control'}, 'u11': {'operates': {'qubits': [5, 8]}, 'purpose': 'cross-resonance', 'type': 'control'}, 'u12': {'operates': {'qubits': [6, 7]}, 'purpose': 'cross-resonance', 'type': 'control'}, 'u13': {'operates': {'qubits': [7, 4]}, 'purpose': 'cross-resonance', 'type': 'control'}, 'u14': {'operates': {'qubits': [7, 6]}, 'purpose': 'cross-resonance', 'type': 'control'}, 'u15': {'operates': {'qubits': [7, 10]}, 'purpose': 'cross-resonance', 'type': 'control'}, 'u16': {'operates': {'qubits': [8, 5]}, 'purpose': 'cross-resonance', 'type': 'control'}, 'u17': {'operates': {'qubits': [8, 9]}, 'purpose': 'cross-resonance', 'type': 'control'}, 'u18': {'operates': {'qubits': [8, 11]}, 'purpose': 'cross-resonance', 'type': 'control'}, 'u19': {'operates': {'qubits': [9, 8]}, 'purpose': 'cross-resonance', 'type': 'control'}, 'u2': {'operates': {'qubits': [1, 2]}, 'purpose': 'cross-resonance', 'type': 'control'}, 'u20': {'operates': {'qubits': [10, 7]}, 'purpose': 'cross-resonance', 'type': 'control'}, 'u21': {'operates': {'qubits': [10, 12]}, 'purpose': 'cross-resonance', 'type': 'control'}, 'u22': {'operates': {'qubits': [11, 8]}, 'purpose': 'cross-resonance', 'type': 'control'}, 'u23': {'operates': {'qubits': [11, 14]}, 'purpose': 'cross-resonance', 'type': 'control'}, 'u24': {'operates': {'qubits': [12, 10]}, 'purpose': 'cross-resonance', 'type': 'control'}, 'u25': {'operates': {'qubits': [12, 13]}, 'purpose': 'cross-resonance', 'type': 'control'}, 'u26': {'operates': {'qubits': [12, 15]}, 'purpose': 'cross-resonance', 'type': 'control'}, 'u27': {'operates': {'qubits': [13, 12]}, 'purpose': 'cross-resonance', 'type': 'control'}, 'u28': {'operates': {'qubits': [13, 14]}, 'purpose': 'cross-resonance', 'type': 'control'}, 'u29': {'operates': {'qubits': [14, 11]}, 'purpose': 'cross-resonance', 'type': 'control'}, 'u3': {'operates': {'qubits': [1, 4]}, 'purpose': 'cross-resonance', 'type': 'control'}, 'u30': {'operates': {'qubits': [14, 13]}, 'purpose': 'cross-resonance', 'type': 'control'}, 'u31': {'operates': {'qubits': [15, 12]}, 'purpose': 'cross-resonance', 'type': 'control'}, 'u4': {'operates': {'qubits': [2, 1]}, 'purpose': 'cross-resonance', 'type': 'control'}, 'u5': {'operates': {'qubits': [2, 3]}, 'purpose': 'cross-resonance', 'type': 'control'}, 'u6': {'operates': {'qubits': [3, 2]}, 'purpose': 'cross-resonance', 'type': 'control'}, 'u7': {'operates': {'qubits': [3, 5]}, 'purpose': 'cross-resonance', 'type': 'control'}, 'u8': {'operates': {'qubits': [4, 1]}, 'purpose': 'cross-resonance', 'type': 'control'}, 'u9': {'operates': {'qubits': [4, 7]}, 'purpose': 'cross-resonance', 'type': 'control'}}\n",
      "    backend_name: ibmq_guadalupe\n",
      "    max_shots: 32000\n",
      "    coupling_map: [[0, 1], [1, 0], [1, 2], [1, 4], [2, 1], [2, 3], [3, 2], [3, 5], [4, 1], [4, 7], [5, 3], [5, 8], [6, 7], [7, 4], [7, 6], [7, 10], [8, 5], [8, 9], [8, 11], [9, 8], [10, 7], [10, 12], [11, 8], [11, 14], [12, 10], [12, 13], [12, 15], [13, 12], [13, 14], [14, 11], [14, 13], [15, 12]]\n",
      "    timing_constraints: {'acquire_alignment': 16, 'granularity': 16, 'min_length': 64, 'pulse_alignment': 1}\n",
      "    supported_features: ['qobj']\n",
      "    meas_lo_range: [[6.820434764000001, 7.820434764000001], [6.920156487000001, 7.920156487000001], [6.806879783, 7.806879783], [6.931633498, 7.931633498], [6.871094372000001, 7.871094372000001], [6.867124325000001, 7.867124325000001], [6.988623947000001, 7.988623947000001], [6.744138759, 7.744138759], [6.739828772, 7.739828772], [6.986574026, 7.986574026], [6.830501917, 7.830501917], [6.874447476, 7.874447476], [6.977190940000001, 7.977190940000001], [6.8715744, 7.8715744], [6.914894627000001, 7.914894627000001], [6.931057753, 7.931057753]]\n",
      "    credits_required: True\n",
      "    supported_instructions: ['u3', 'measure', 'u2', 'acquire', 'x', 'play', 'id', 'delay', 'reset', 'cx', 'u1', 'setf', 'rz', 'shiftf', 'sx']\n",
      "    processor_type: {'family': 'Falcon', 'revision': 4, 'segment': 'P'}\n",
      "    parallel_compilation: False\n",
      "    url: None\n",
      "    pulse_num_channels: 9\n",
      "    quantum_volume: 32\n",
      "    qubit_channel_mapping: [['d0', 'm0', 'u1', 'u0'], ['u3', 'd1', 'u4', 'u8', 'u2', 'm1', 'u1', 'u0'], ['u4', 'u2', 'u5', 'u6', 'm2', 'd2'], ['u7', 'u5', 'd3', 'm3', 'u6', 'u10'], ['u3', 'd4', 'u8', 'm4', 'u13', 'u9'], ['u16', 'u11', 'u7', 'd5', 'u10', 'm5'], ['m6', 'd6', 'u12', 'u14'], ['u12', 'u15', 'u20', 'm7', 'd7', 'u13', 'u14', 'u9'], ['u16', 'u11', 'u19', 'u22', 'u17', 'd8', 'm8', 'u18'], ['d9', 'm9', 'u19', 'u17'], ['u21', 'u15', 'u20', 'u24', 'd10', 'm10'], ['u23', 'u22', 'd11', 'm11', 'u18', 'u29'], ['u21', 'u27', 'd12', 'm12', 'u25', 'u24', 'u31', 'u26'], ['u27', 'u30', 'u25', 'm13', 'u28', 'd13'], ['u23', 'd14', 'u30', 'm14', 'u28', 'u29'], ['m15', 'u31', 'd15', 'u26']]\n",
      "    conditional: False\n",
      "    max_experiments: 300\n",
      "    meas_map: [[0, 1, 2, 3, 4, 5, 6, 7, 8, 9, 10, 11, 12, 13, 14, 15]]\n",
      "    multi_meas_enabled: True\n",
      "    allow_object_storage: True\n",
      "\n"
     ]
    },
    {
     "name": "stdout",
     "output_type": "stream",
     "text": [
      "Qubits [Name / Freq / T1 / T2 / RZ err / SX err / X err / Readout err]\n",
      "----------------------------------------------------------------------\n",
      "    Q0 / 5.11355 GHz / 111.09713 us / 114.87235 us / 0.00000 / 0.00032 / 0.00032 / 0.01400 \n",
      "    Q1 / 5.16075 GHz / 149.29555 us / 105.59665 us / 0.00000 / 0.00036 / 0.00036 / 0.01430 \n",
      "    Q2 / 5.31053 GHz / 54.82972 us / 87.72143 us / 0.00000 / 0.00049 / 0.00049 / 0.02140 \n",
      "    Q3 / 5.46953 GHz / 93.10448 us / 146.75420 us / 0.00000 / 0.00028 / 0.00028 / 0.01200 \n",
      "    Q4 / 5.35344 GHz / 92.18576 us / 110.30093 us / 0.00000 / 0.00036 / 0.00036 / 0.02210 \n",
      "    Q5 / 5.30334 GHz / 68.54399 us / 85.63251 us / 0.00000 / 0.00038 / 0.00038 / 0.01210 \n",
      "    Q6 / 5.13649 GHz / 82.49422 us / 13.89104 us / 0.00000 / 0.00034 / 0.00034 / 0.02530 \n",
      "    Q7 / 5.20279 GHz / 124.83336 us / 133.04766 us / 0.00000 / 0.00025 / 0.00025 / 0.01620 \n",
      "    Q8 / 5.17454 GHz / 124.96192 us / 120.24312 us / 0.00000 / 0.00026 / 0.00026 / 0.01700 \n",
      "    Q9 / 5.25372 GHz / 135.44384 us / 101.17709 us / 0.00000 / 0.00023 / 0.00023 / 0.00890 \n",
      "    Q10 / 5.42681 GHz / 82.63693 us / 114.32593 us / 0.00000 / 0.00027 / 0.00027 / 0.01150 \n",
      "    Q11 / 5.38984 GHz / 108.57570 us / 101.91479 us / 0.00000 / 0.00042 / 0.00042 / 0.02120 \n",
      "    Q12 / 5.26371 GHz / 74.97082 us / 115.56140 us / 0.00000 / 0.00020 / 0.00020 / 0.01470 \n",
      "    Q13 / 5.03787 GHz / 77.84064 us / 78.36294 us / 0.00000 / 0.00046 / 0.00046 / 0.01400 \n",
      "    Q14 / 5.20499 GHz / 132.76098 us / 70.37955 us / 0.00000 / 0.00024 / 0.00024 / 0.01390 \n",
      "    Q15 / 5.12628 GHz / 128.22019 us / 159.77333 us / 0.00000 / 0.00024 / 0.00024 / 0.01570 \n",
      "\n",
      "Multi-Qubit Gates [Name / Type / Gate Error]\n",
      "--------------------------------------------\n",
      "    cx12_15 / cx / 0.00544\n",
      "    cx15_12 / cx / 0.00544\n",
      "    cx12_10 / cx / 0.01457\n",
      "    cx10_12 / cx / 0.01457\n",
      "    cx14_13 / cx / 0.01172\n",
      "    cx13_14 / cx / 0.01172\n",
      "    cx2_3 / cx / 0.01381\n",
      "    cx3_2 / cx / 0.01381\n",
      "    cx5_3 / cx / 0.01010\n",
      "    cx3_5 / cx / 0.01010\n",
      "    cx7_4 / cx / 0.01183\n",
      "    cx4_7 / cx / 0.01183\n",
      "    cx12_13 / cx / 0.00777\n",
      "    cx13_12 / cx / 0.00777\n",
      "    cx0_1 / cx / 0.00960\n",
      "    cx1_0 / cx / 0.00960\n",
      "    cx11_8 / cx / 0.01579\n",
      "    cx8_11 / cx / 0.01579\n",
      "    cx10_7 / cx / 0.00672\n",
      "    cx7_10 / cx / 0.00672\n",
      "    cx7_6 / cx / 0.00975\n",
      "    cx6_7 / cx / 0.00975\n",
      "    cx11_14 / cx / 0.01602\n",
      "    cx14_11 / cx / 0.01602\n",
      "    cx4_1 / cx / 0.00738\n",
      "    cx1_4 / cx / 0.00738\n",
      "    cx5_8 / cx / 0.00800\n",
      "    cx8_5 / cx / 0.00800\n",
      "    cx2_1 / cx / 0.01243\n",
      "    cx1_2 / cx / 0.01243\n",
      "    cx8_9 / cx / 0.00730\n",
      "    cx9_8 / cx / 0.00730\n"
     ]
    }
   ],
   "source": [
    "backend_monitor(device)"
   ]
  },
  {
   "cell_type": "code",
   "execution_count": 8,
   "id": "b6f2eb58",
   "metadata": {},
   "outputs": [],
   "source": [
    "noisy_simulator = provider.get_backend('ibmq_qasm_simulator')"
   ]
  },
  {
   "cell_type": "code",
   "execution_count": 9,
   "id": "61848cfb",
   "metadata": {},
   "outputs": [],
   "source": [
    "front_layer = QuantumCircuit.from_qasm_file(\"qasm/vqe_5q_front.qasm\")"
   ]
  },
  {
   "cell_type": "code",
   "execution_count": 10,
   "id": "4101ca8c",
   "metadata": {},
   "outputs": [],
   "source": [
    "mid_layer = QuantumCircuit.from_qasm_file(\"qasm/vqe_5q_mid.qasm\")"
   ]
  },
  {
   "cell_type": "code",
   "execution_count": 11,
   "id": "1721959d",
   "metadata": {},
   "outputs": [],
   "source": [
    "end_layer = QuantumCircuit.from_qasm_file(\"qasm/vqe_5q_end.qasm\")"
   ]
  },
  {
   "cell_type": "code",
   "execution_count": 12,
   "id": "e6aa46cb",
   "metadata": {},
   "outputs": [
    {
     "name": "stderr",
     "output_type": "stream",
     "text": [
      "/Users/revilooliver/Documents/quantum_computing/anaconda/anaconda3/envs/quantum/lib/python3.7/site-packages/ipykernel_launcher.py:1: DeprecationWarning: The QuantumCircuit.__add__() method is being deprecated.Use the compose() method which is more flexible w.r.t circuit register compatibility.\n",
      "  \"\"\"Entry point for launching an IPython kernel.\n"
     ]
    }
   ],
   "source": [
    "orign_circuit = front_layer + mid_layer + end_layer"
   ]
  },
  {
   "cell_type": "code",
   "execution_count": 13,
   "id": "93020df1",
   "metadata": {},
   "outputs": [
    {
     "data": {
      "text/html": [
       "<pre style=\"word-wrap: normal;white-space: pre;background: #fff0;line-height: 1.1;font-family: &quot;Courier New&quot;,Courier,monospace\">      ┌────────────┐   ┌────────────┐                             »\n",
       "q_0: ─┤ Ry(-4.751) ├─■─┤ Ry(4.6739) ├─────────────────────────────»\n",
       "      ├────────────┤ │ └────────────┘┌─────────────┐              »\n",
       "q_1: ─┤ Ry(3.1415) ├─■───────■───────┤ Ry(-3.1415) ├──────────────»\n",
       "     ┌┴────────────┤         │       └─────────────┘┌────────────┐»\n",
       "q_2: ┤ Ry(-3.8492) ├─────────■──────────────■───────┤ Ry(0.7076) ├»\n",
       "     ├─────────────┤                        │       └────────────┘»\n",
       "q_3: ┤ Ry(-3.1416) ├────────────────────────■─────────────■───────»\n",
       "     ├─────────────┤                                      │       »\n",
       "q_4: ┤ Ry(-6.8335) ├──────────────────────────────────────■───────»\n",
       "     └─────────────┘                                              »\n",
       "q_5: ─────────────────────────────────────────────────────────────»\n",
       "                                                                  »\n",
       "q_6: ─────────────────────────────────────────────────────────────»\n",
       "                                                                  »\n",
       "q_7: ─────────────────────────────────────────────────────────────»\n",
       "                                                                  »\n",
       "q_8: ─────────────────────────────────────────────────────────────»\n",
       "                                                                  »\n",
       "q_9: ─────────────────────────────────────────────────────────────»\n",
       "                                                                  »\n",
       "«                    \n",
       "«q_0: ───────────────\n",
       "«                    \n",
       "«q_1: ───────────────\n",
       "«                    \n",
       "«q_2: ───────────────\n",
       "«      ┌────────────┐\n",
       "«q_3: ─┤ Ry(3.1415) ├\n",
       "«     ┌┴────────────┤\n",
       "«q_4: ┤ Ry(-3.6921) ├\n",
       "«     └─────────────┘\n",
       "«q_5: ───────────────\n",
       "«                    \n",
       "«q_6: ───────────────\n",
       "«                    \n",
       "«q_7: ───────────────\n",
       "«                    \n",
       "«q_8: ───────────────\n",
       "«                    \n",
       "«q_9: ───────────────\n",
       "«                    </pre>"
      ],
      "text/plain": [
       "      ┌────────────┐   ┌────────────┐                             »\n",
       "q_0: ─┤ Ry(-4.751) ├─■─┤ Ry(4.6739) ├─────────────────────────────»\n",
       "      ├────────────┤ │ └────────────┘┌─────────────┐              »\n",
       "q_1: ─┤ Ry(3.1415) ├─■───────■───────┤ Ry(-3.1415) ├──────────────»\n",
       "     ┌┴────────────┤         │       └─────────────┘┌────────────┐»\n",
       "q_2: ┤ Ry(-3.8492) ├─────────■──────────────■───────┤ Ry(0.7076) ├»\n",
       "     ├─────────────┤                        │       └────────────┘»\n",
       "q_3: ┤ Ry(-3.1416) ├────────────────────────■─────────────■───────»\n",
       "     ├─────────────┤                                      │       »\n",
       "q_4: ┤ Ry(-6.8335) ├──────────────────────────────────────■───────»\n",
       "     └─────────────┘                                              »\n",
       "q_5: ─────────────────────────────────────────────────────────────»\n",
       "                                                                  »\n",
       "q_6: ─────────────────────────────────────────────────────────────»\n",
       "                                                                  »\n",
       "q_7: ─────────────────────────────────────────────────────────────»\n",
       "                                                                  »\n",
       "q_8: ─────────────────────────────────────────────────────────────»\n",
       "                                                                  »\n",
       "q_9: ─────────────────────────────────────────────────────────────»\n",
       "                                                                  »\n",
       "«                    \n",
       "«q_0: ───────────────\n",
       "«                    \n",
       "«q_1: ───────────────\n",
       "«                    \n",
       "«q_2: ───────────────\n",
       "«      ┌────────────┐\n",
       "«q_3: ─┤ Ry(3.1415) ├\n",
       "«     ┌┴────────────┤\n",
       "«q_4: ┤ Ry(-3.6921) ├\n",
       "«     └─────────────┘\n",
       "«q_5: ───────────────\n",
       "«                    \n",
       "«q_6: ───────────────\n",
       "«                    \n",
       "«q_7: ───────────────\n",
       "«                    \n",
       "«q_8: ───────────────\n",
       "«                    \n",
       "«q_9: ───────────────\n",
       "«                    "
      ]
     },
     "execution_count": 13,
     "metadata": {},
     "output_type": "execute_result"
    }
   ],
   "source": [
    "orign_circuit.draw()"
   ]
  },
  {
   "cell_type": "code",
   "execution_count": 14,
   "id": "d4a1d3a6",
   "metadata": {},
   "outputs": [],
   "source": [
    "#checking circuit"
   ]
  },
  {
   "cell_type": "code",
   "execution_count": 15,
   "id": "6937b806",
   "metadata": {},
   "outputs": [],
   "source": [
    "def apply_checking_circuit(qc, ctrl_bits, ancilla_bits, side = None):\n",
    "    if len(ctrl_bits) != len(ancilla_bits):\n",
    "        print(\"Size mismatch\")\n",
    "        return None\n",
    "    if side == 'front':\n",
    "        for i in ancilla_bits:\n",
    "            qc.h(i)\n",
    "        for j,k in zip(ctrl_bits, ancilla_bits):\n",
    "            qc.cz(j, k)\n",
    "    elif side == 'end':\n",
    "        for j,k in zip(ctrl_bits, ancilla_bits):\n",
    "            qc.cz(j, k)\n",
    "        for i in ancilla_bits:\n",
    "            qc.h(i)\n",
    "    else:\n",
    "        print(\"Side undefined\")"
   ]
  },
  {
   "cell_type": "code",
   "execution_count": 16,
   "id": "f7f99e4b",
   "metadata": {},
   "outputs": [],
   "source": [
    "circuit = front_layer.copy()"
   ]
  },
  {
   "cell_type": "code",
   "execution_count": 17,
   "id": "4f530b86",
   "metadata": {},
   "outputs": [
    {
     "name": "stderr",
     "output_type": "stream",
     "text": [
      "/Users/revilooliver/Documents/quantum_computing/anaconda/anaconda3/envs/quantum/lib/python3.7/site-packages/ipykernel_launcher.py:2: DeprecationWarning: The QuantumCircuit.__iadd__() method is being deprecated. Use the compose() (potentially with the inplace=True argument) and tensor() methods which are more flexible w.r.t circuit register compatibility.\n",
      "  \n",
      "/Users/revilooliver/Documents/quantum_computing/anaconda/anaconda3/envs/quantum/lib/python3.7/site-packages/ipykernel_launcher.py:4: DeprecationWarning: The QuantumCircuit.__iadd__() method is being deprecated. Use the compose() (potentially with the inplace=True argument) and tensor() methods which are more flexible w.r.t circuit register compatibility.\n",
      "  after removing the cwd from sys.path.\n"
     ]
    }
   ],
   "source": [
    "apply_checking_circuit(circuit, [0], [5], side = 'front')\n",
    "circuit += mid_layer\n",
    "apply_checking_circuit(circuit, [0], [5], side = 'end')\n",
    "circuit += end_layer"
   ]
  },
  {
   "cell_type": "code",
   "execution_count": 18,
   "id": "3d751a26",
   "metadata": {},
   "outputs": [
    {
     "data": {
      "text/html": [
       "<pre style=\"word-wrap: normal;white-space: pre;background: #fff0;line-height: 1.1;font-family: &quot;Courier New&quot;,Courier,monospace\">      ┌────────────┐             ┌────────────┐                             \n",
       "q_0: ─┤ Ry(-4.751) ├─■──■─────■──┤ Ry(4.6739) ├─────────────────────────────\n",
       "      ├────────────┤ │  │     │ ┌┴────────────┤                             \n",
       "q_1: ─┤ Ry(3.1415) ├─┼──■──■──┼─┤ Ry(-3.1415) ├─────────────────────────────\n",
       "     ┌┴────────────┤ │     │  │ └─────────────┘┌────────────┐               \n",
       "q_2: ┤ Ry(-3.8492) ├─┼─────■──┼────────■───────┤ Ry(0.7076) ├───────────────\n",
       "     ├─────────────┤ │        │        │       └────────────┘ ┌────────────┐\n",
       "q_3: ┤ Ry(-3.1416) ├─┼────────┼────────■─────────────■────────┤ Ry(3.1415) ├\n",
       "     ├─────────────┤ │        │                      │       ┌┴────────────┤\n",
       "q_4: ┤ Ry(-6.8335) ├─┼────────┼──────────────────────■───────┤ Ry(-3.6921) ├\n",
       "     └────┬───┬────┘ │        │      ┌───┐                   └─────────────┘\n",
       "q_5: ─────┤ H ├──────■────────■──────┤ H ├──────────────────────────────────\n",
       "          └───┘                      └───┘                                  \n",
       "q_6: ───────────────────────────────────────────────────────────────────────\n",
       "                                                                            \n",
       "q_7: ───────────────────────────────────────────────────────────────────────\n",
       "                                                                            \n",
       "q_8: ───────────────────────────────────────────────────────────────────────\n",
       "                                                                            \n",
       "q_9: ───────────────────────────────────────────────────────────────────────\n",
       "                                                                            </pre>"
      ],
      "text/plain": [
       "      ┌────────────┐             ┌────────────┐                             \n",
       "q_0: ─┤ Ry(-4.751) ├─■──■─────■──┤ Ry(4.6739) ├─────────────────────────────\n",
       "      ├────────────┤ │  │     │ ┌┴────────────┤                             \n",
       "q_1: ─┤ Ry(3.1415) ├─┼──■──■──┼─┤ Ry(-3.1415) ├─────────────────────────────\n",
       "     ┌┴────────────┤ │     │  │ └─────────────┘┌────────────┐               \n",
       "q_2: ┤ Ry(-3.8492) ├─┼─────■──┼────────■───────┤ Ry(0.7076) ├───────────────\n",
       "     ├─────────────┤ │        │        │       └────────────┘ ┌────────────┐\n",
       "q_3: ┤ Ry(-3.1416) ├─┼────────┼────────■─────────────■────────┤ Ry(3.1415) ├\n",
       "     ├─────────────┤ │        │                      │       ┌┴────────────┤\n",
       "q_4: ┤ Ry(-6.8335) ├─┼────────┼──────────────────────■───────┤ Ry(-3.6921) ├\n",
       "     └────┬───┬────┘ │        │      ┌───┐                   └─────────────┘\n",
       "q_5: ─────┤ H ├──────■────────■──────┤ H ├──────────────────────────────────\n",
       "          └───┘                      └───┘                                  \n",
       "q_6: ───────────────────────────────────────────────────────────────────────\n",
       "                                                                            \n",
       "q_7: ───────────────────────────────────────────────────────────────────────\n",
       "                                                                            \n",
       "q_8: ───────────────────────────────────────────────────────────────────────\n",
       "                                                                            \n",
       "q_9: ───────────────────────────────────────────────────────────────────────\n",
       "                                                                            "
      ]
     },
     "execution_count": 18,
     "metadata": {},
     "output_type": "execute_result"
    }
   ],
   "source": [
    "circuit.draw()"
   ]
  },
  {
   "cell_type": "code",
   "execution_count": 19,
   "id": "7a0bb967",
   "metadata": {},
   "outputs": [],
   "source": [
    "trans_qc = transpile(circuit, basis_gates = ['sx', 'cx', 'reset', 'id', 'x', 'rz'])"
   ]
  },
  {
   "cell_type": "code",
   "execution_count": 20,
   "id": "c89ec38f",
   "metadata": {},
   "outputs": [
    {
     "data": {
      "image/png": "[encoded data removed]",
      "text/plain": [
       "<Figure size 1471.2x626.08 with 1 Axes>"
      ]
     },
     "execution_count": 20,
     "metadata": {},
     "output_type": "execute_result"
    }
   ],
   "source": [
    "trans_qc.draw(output = 'mpl')"
   ]
  },
  {
   "cell_type": "code",
   "execution_count": 21,
   "id": "95e1ee63",
   "metadata": {},
   "outputs": [
    {
     "name": "stdout",
     "output_type": "stream",
     "text": [
      "NoiseModel:\n",
      "  Basis gates: ['cx', 'id', 'reset', 'rz', 'sx', 'x']\n",
      "  Instructions with noise: ['measure']\n",
      "  Qubits with noise: [0, 1, 2, 3, 4, 5, 6, 7, 8, 9, 10, 11, 12, 13, 14, 15]\n",
      "  Specific qubit errors: [('measure', (0,)), ('measure', (1,)), ('measure', (2,)), ('measure', (3,)), ('measure', (4,)), ('measure', (5,)), ('measure', (6,)), ('measure', (7,)), ('measure', (8,)), ('measure', (9,)), ('measure', (10,)), ('measure', (11,)), ('measure', (12,)), ('measure', (13,)), ('measure', (14,)), ('measure', (15,))]\n"
     ]
    }
   ],
   "source": [
    "from qiskit import IBMQ, Aer\n",
    "from qiskit.providers.aer.noise import NoiseModel\n",
    "noise_model = NoiseModel.from_backend(device, gate_error = False, thermal_relaxation= False)\n",
    "print(noise_model)"
   ]
  },
  {
   "cell_type": "code",
   "execution_count": 22,
   "id": "e6fa3737",
   "metadata": {},
   "outputs": [],
   "source": [
    "circuit = trans_qc"
   ]
  },
  {
   "cell_type": "code",
   "execution_count": 23,
   "id": "0b2c17cd",
   "metadata": {},
   "outputs": [],
   "source": [
    "cuts = []\n",
    "for i in range(0, 1):\n",
    "    if i == 0 or i == qubits - 1:\n",
    "        cut = [(circuit.qubits[i], 5),(circuit.qubits[i], 6)]\n",
    "    else:\n",
    "        cut = [(circuit.qubits[i], 5),(circuit.qubits[i], 4)]\n",
    "    cuts += cut"
   ]
  },
  {
   "cell_type": "code",
   "execution_count": 24,
   "id": "4993ee93",
   "metadata": {},
   "outputs": [
    {
     "name": "stdout",
     "output_type": "stream",
     "text": [
      "[(Qubit(QuantumRegister(10, 'q'), 0), 5), (Qubit(QuantumRegister(10, 'q'), 0), 6)]\n"
     ]
    }
   ],
   "source": [
    "print(cuts)"
   ]
  },
  {
   "cell_type": "code",
   "execution_count": 25,
   "id": "7aa1870b",
   "metadata": {},
   "outputs": [
    {
     "name": "stdout",
     "output_type": "stream",
     "text": [
      "WARNING: some qubits are entirely unused\n",
      "unused qubits: [Qubit(QuantumRegister(10, 'q'), 6), Qubit(QuantumRegister(10, 'q'), 7), Qubit(QuantumRegister(10, 'q'), 8), Qubit(QuantumRegister(10, 'q'), 9)]\n"
     ]
    }
   ],
   "source": [
    "fragments, wire_path_map = circuit_cutter.cut_circuit(circuit, cuts)"
   ]
  },
  {
   "cell_type": "code",
   "execution_count": 26,
   "id": "6872220e",
   "metadata": {},
   "outputs": [
    {
     "name": "stdout",
     "output_type": "stream",
     "text": [
      "{Qubit(QuantumRegister(10, 'q'), 0): ((0, Qubit(QuantumRegister(3, 'q'), 2)), (1, Qubit(QuantumRegister(5, 'q'), 1)), (0, Qubit(QuantumRegister(3, 'q'), 1))), Qubit(QuantumRegister(10, 'q'), 1): ((1, Qubit(QuantumRegister(5, 'q'), 4)),), Qubit(QuantumRegister(10, 'q'), 2): ((1, Qubit(QuantumRegister(5, 'q'), 2)),), Qubit(QuantumRegister(10, 'q'), 3): ((1, Qubit(QuantumRegister(5, 'q'), 0)),), Qubit(QuantumRegister(10, 'q'), 4): ((1, Qubit(QuantumRegister(5, 'q'), 3)),), Qubit(QuantumRegister(10, 'q'), 5): ((0, Qubit(QuantumRegister(3, 'q'), 0)),), Qubit(QuantumRegister(10, 'q'), 6): ((2, Qubit(QuantumRegister(4, 'q'), 0)),), Qubit(QuantumRegister(10, 'q'), 7): ((2, Qubit(QuantumRegister(4, 'q'), 1)),), Qubit(QuantumRegister(10, 'q'), 8): ((2, Qubit(QuantumRegister(4, 'q'), 2)),), Qubit(QuantumRegister(10, 'q'), 9): ((2, Qubit(QuantumRegister(4, 'q'), 3)),)}\n"
     ]
    }
   ],
   "source": [
    "print(wire_path_map)"
   ]
  },
  {
   "cell_type": "code",
   "execution_count": 27,
   "id": "dd8a5b10",
   "metadata": {},
   "outputs": [],
   "source": [
    "total_variants = ml.fragment_variants(wire_path_map)"
   ]
  },
  {
   "cell_type": "code",
   "execution_count": 28,
   "id": "d79b8e01",
   "metadata": {},
   "outputs": [
    {
     "data": {
      "text/plain": [
       "25"
      ]
     },
     "execution_count": 28,
     "metadata": {},
     "output_type": "execute_result"
    }
   ],
   "source": [
    "total_variants"
   ]
  },
  {
   "cell_type": "code",
   "execution_count": 29,
   "id": "45286087",
   "metadata": {},
   "outputs": [],
   "source": [
    "shots = 32000 * total_variants"
   ]
  },
  {
   "cell_type": "code",
   "execution_count": 30,
   "id": "8600221e",
   "metadata": {},
   "outputs": [
    {
     "name": "stdout",
     "output_type": "stream",
     "text": [
      "total circuit:\n",
      "global phase: 5π/4\n",
      "     ┌────────┐     ┌────┐    ┌────────────┐┌────┐                  ┌────┐  »\n",
      "q_0: ┤ Rz(-π) ├─────┤ √X ├────┤ Rz(1.6094) ├┤ √X ├──■────■────■─────┤ √X ├──»\n",
      "     └─┬────┬─┘┌────┴────┴───┐└───┬────┬───┘└────┘  │  ┌─┴─┐  │  ┌──┴────┴─┐»\n",
      "q_1: ──┤ √X ├──┤ Rz(-1.5709) ├────┤ √X ├────────────┼──┤ X ├──┼──┤ Rz(π/2) ├»\n",
      "       ├────┤  ├─────────────┤    ├────┤            │  └───┘  │  └─────────┘»\n",
      "q_2: ──┤ √X ├──┤ Rz(-2.2784) ├────┤ √X ├────────────┼─────────┼─────────────»\n",
      "       ├────┤  ├─────────────┤    ├────┤            │         │             »\n",
      "q_3: ──┤ √X ├──┤ Rz(-1.5708) ├────┤ √X ├────────────┼─────────┼─────────────»\n",
      "       ├────┤  └┬────────────┤    ├────┤            │         │             »\n",
      "q_4: ──┤ √X ├───┤ Rz(1.0205) ├────┤ √X ├────────────┼─────────┼─────────────»\n",
      "       └────┘   └────────────┘    └────┘          ┌─┴─┐     ┌─┴─┐           »\n",
      "q_5: ─────────────────────────────────────────────┤ X ├─────┤ X ├───────────»\n",
      "                                                  └───┘     └───┘           »\n",
      "q_6: ───────────────────────────────────────────────────────────────────────»\n",
      "                                                                            »\n",
      "q_7: ───────────────────────────────────────────────────────────────────────»\n",
      "                                                                            »\n",
      "q_8: ───────────────────────────────────────────────────────────────────────»\n",
      "                                                                            »\n",
      "q_9: ───────────────────────────────────────────────────────────────────────»\n",
      "                                                                            »\n",
      "«     ┌────────────┐   ┌────┐  ┌────────┐                             »\n",
      "«q_0: ┤ Rz(1.5323) ├───┤ √X ├──┤ Rz(-π) ├─────────────────────────────»\n",
      "«     └───┬────┬───┘┌──┴────┴─┐└────────┘   ┌────┐  ┌────────────────┐»\n",
      "«q_1: ────┤ √X ├────┤ Rz(π/2) ├────■────────┤ √X ├──┤ Rz(6.5854e-05) ├»\n",
      "«         └────┘    └─────────┘  ┌─┴─┐   ┌──┴────┴─┐└─────┬────┬─────┘»\n",
      "«q_2: ───────────────────────────┤ X ├───┤ Rz(π/2) ├──────┤ √X ├──────»\n",
      "«                                └───┘   └─────────┘      └────┘      »\n",
      "«q_3: ────────────────────────────────────────────────────────────────»\n",
      "«                                                                     »\n",
      "«q_4: ────────────────────────────────────────────────────────────────»\n",
      "«                                                                     »\n",
      "«q_5: ────────────────────────────────────────────────────────────────»\n",
      "«                                                                     »\n",
      "«q_6: ────────────────────────────────────────────────────────────────»\n",
      "«                                                                     »\n",
      "«q_7: ────────────────────────────────────────────────────────────────»\n",
      "«                                                                     »\n",
      "«q_8: ────────────────────────────────────────────────────────────────»\n",
      "«                                                                     »\n",
      "«q_9: ────────────────────────────────────────────────────────────────»\n",
      "«                                                                     »\n",
      "«                                                                        »\n",
      "«q_0: ───────────────────────────────────────────────────────────────────»\n",
      "«        ┌────┐  ┌────────┐                                              »\n",
      "«q_1: ───┤ √X ├──┤ Rz(-π) ├──────────────────────────────────────────────»\n",
      "«     ┌──┴────┴─┐└────────┘ ┌────────┐┌────┐┌───────────┐┌────┐          »\n",
      "«q_2: ┤ Rz(π/2) ├────■──────┤ Rz(-π) ├┤ √X ├┤ Rz(2.434) ├┤ √X ├──────────»\n",
      "«     └─────────┘  ┌─┴─┐   ┌┴────────┤├────┤└┬─────────┬┘└────┘┌────────┐»\n",
      "«q_3: ─────────────┤ X ├───┤ Rz(π/2) ├┤ √X ├─┤ Rz(π/2) ├───■───┤ Rz(-π) ├»\n",
      "«                  └───┘   └─────────┘└────┘ └─────────┘ ┌─┴─┐ └─┬────┬─┘»\n",
      "«q_4: ───────────────────────────────────────────────────┤ X ├───┤ √X ├──»\n",
      "«                                                        └───┘   └────┘  »\n",
      "«q_5: ───────────────────────────────────────────────────────────────────»\n",
      "«                                                                        »\n",
      "«q_6: ───────────────────────────────────────────────────────────────────»\n",
      "«                                                                        »\n",
      "«q_7: ───────────────────────────────────────────────────────────────────»\n",
      "«                                                                        »\n",
      "«q_8: ───────────────────────────────────────────────────────────────────»\n",
      "«                                                                        »\n",
      "«q_9: ───────────────────────────────────────────────────────────────────»\n",
      "«                                                                        »\n",
      "«                                           \n",
      "«q_0: ──────────────────────────────────────\n",
      "«                                           \n",
      "«q_1: ──────────────────────────────────────\n",
      "«                                           \n",
      "«q_2: ──────────────────────────────────────\n",
      "«          ┌────┐    ┌───────────────┐┌────┐\n",
      "«q_3: ─────┤ √X ├────┤ Rz(0.0001055) ├┤ √X ├\n",
      "«     ┌────┴────┴───┐└─────┬────┬────┘└────┘\n",
      "«q_4: ┤ Rz(-1.0203) ├──────┤ √X ├───────────\n",
      "«     └─────────────┘      └────┘           \n",
      "«q_5: ──────────────────────────────────────\n",
      "«                                           \n",
      "«q_6: ──────────────────────────────────────\n",
      "«                                           \n",
      "«q_7: ──────────────────────────────────────\n",
      "«                                           \n",
      "«q_8: ──────────────────────────────────────\n",
      "«                                           \n",
      "«q_9: ──────────────────────────────────────\n",
      "«                                           \n",
      "cuts:\n",
      " (Qubit(QuantumRegister(10, 'q'), 0), 5)\n",
      " (Qubit(QuantumRegister(10, 'q'), 0), 6)\n",
      "\n",
      "fragment 0:\n",
      "                                         ┌───┐┌───┐                          »\n",
      "q_0: ────────────────────────────────────┤ X ├┤ X ├──────────────────────────»\n",
      "                                         └─┬─┘└─┬─┘┌────┐┌────────────┐┌────┐»\n",
      "q_1: ──────────────────────────────────────┼────■──┤ √X ├┤ Rz(1.5323) ├┤ √X ├»\n",
      "     ┌────────┐┌────┐┌────────────┐┌────┐  │       └────┘└────────────┘└────┘»\n",
      "q_2: ┤ Rz(-π) ├┤ √X ├┤ Rz(1.6094) ├┤ √X ├──■─────────────────────────────────»\n",
      "     └────────┘└────┘└────────────┘└────┘                                    »\n",
      "«               \n",
      "«q_0: ──────────\n",
      "«     ┌────────┐\n",
      "«q_1: ┤ Rz(-π) ├\n",
      "«     └────────┘\n",
      "«q_2: ──────────\n",
      "«               \n",
      "\n",
      "fragment 1:\n",
      "     ┌────┐┌─────────────┐┌────┐                                      »\n",
      "q_0: ┤ √X ├┤ Rz(-1.5708) ├┤ √X ├──────────────────────────────────────»\n",
      "     └────┘└─────────────┘└────┘                                      »\n",
      "q_1: ─────────────────────────────■───────────────────────────────────»\n",
      "     ┌────┐┌─────────────┐┌────┐  │                              ┌───┐»\n",
      "q_2: ┤ √X ├┤ Rz(-2.2784) ├┤ √X ├──┼──────────────────────────────┤ X ├»\n",
      "     ├────┤└┬────────────┤├────┤  │                              └─┬─┘»\n",
      "q_3: ┤ √X ├─┤ Rz(1.0205) ├┤ √X ├──┼────────────────────────────────┼──»\n",
      "     ├────┤┌┴────────────┤├────┤┌─┴─┐┌─────────┐┌────┐┌─────────┐  │  »\n",
      "q_4: ┤ √X ├┤ Rz(-1.5709) ├┤ √X ├┤ X ├┤ Rz(π/2) ├┤ √X ├┤ Rz(π/2) ├──■──»\n",
      "     └────┘└─────────────┘└────┘└───┘└─────────┘└────┘└─────────┘     »\n",
      "«                                               ┌───┐   ┌─────────┐┌────┐»\n",
      "«q_0: ──────────────────────────────────────────┤ X ├───┤ Rz(π/2) ├┤ √X ├»\n",
      "«                                               └─┬─┘   └─────────┘└────┘»\n",
      "«q_1: ────────────────────────────────────────────┼──────────────────────»\n",
      "«     ┌─────────┐      ┌────┐      ┌─────────┐    │      ┌────────┐┌────┐»\n",
      "«q_2: ┤ Rz(π/2) ├──────┤ √X ├──────┤ Rz(π/2) ├────■──────┤ Rz(-π) ├┤ √X ├»\n",
      "«     └─────────┘      └────┘      └─────────┘           └────────┘└────┘»\n",
      "«q_3: ───────────────────────────────────────────────────────────────────»\n",
      "«        ┌────┐  ┌────────────────┐   ┌────┐  ┌────────┐                 »\n",
      "«q_4: ───┤ √X ├──┤ Rz(6.5854e-05) ├───┤ √X ├──┤ Rz(-π) ├─────────────────»\n",
      "«        └────┘  └────────────────┘   └────┘  └────────┘                 »\n",
      "«      ┌─────────┐      ┌────────┐     ┌────┐    ┌───────────────┐┌────┐\n",
      "«q_0: ─┤ Rz(π/2) ├───■──┤ Rz(-π) ├─────┤ √X ├────┤ Rz(0.0001055) ├┤ √X ├\n",
      "«      └─────────┘   │  └────────┘     └────┘    └───────────────┘└────┘\n",
      "«q_1: ───────────────┼──────────────────────────────────────────────────\n",
      "«     ┌───────────┐  │    ┌────┐                                        \n",
      "«q_2: ┤ Rz(2.434) ├──┼────┤ √X ├────────────────────────────────────────\n",
      "«     └───────────┘┌─┴─┐  ├────┤  ┌─────────────┐      ┌────┐           \n",
      "«q_3: ─────────────┤ X ├──┤ √X ├──┤ Rz(-1.0203) ├──────┤ √X ├───────────\n",
      "«                  └───┘  └────┘  └─────────────┘      └────┘           \n",
      "«q_4: ──────────────────────────────────────────────────────────────────\n",
      "«                                                                       \n",
      "\n",
      "fragment 2:\n",
      "     \n",
      "q_0: \n",
      "     \n",
      "q_1: \n",
      "     \n",
      "q_2: \n",
      "     \n",
      "q_3: \n",
      "     \n",
      "\n",
      "fragment_index, prep_cuts, meas_cuts:\n",
      "0 1 1\n",
      "1 1 1\n",
      "2 0 0\n",
      "\n",
      "total number of fragment variants: 25\n",
      "total number of shots: 800000\n",
      "\n"
     ]
    }
   ],
   "source": [
    "if print_circuits:\n",
    "    print(\"total circuit:\")\n",
    "    print(circuit)\n",
    "    print(\"cuts:\")\n",
    "    for cut in cuts:\n",
    "        print(\"\",cut)\n",
    "    print()\n",
    "    for idx, fragment in enumerate(fragments):\n",
    "        print(f\"fragment {idx}:\")\n",
    "        print(fragment)\n",
    "        print()\n",
    "    fragment_cuts = ml.fragment_cuts(wire_path_map)\n",
    "    print(\"fragment_index, prep_cuts, meas_cuts:\")\n",
    "    for frag_idx, frag_cuts in enumerate(fragment_cuts):\n",
    "        print(frag_idx, frag_cuts[\"prep\"], frag_cuts[\"meas\"])\n",
    "    print()\n",
    "    print(\"total number of fragment variants:\", total_variants)\n",
    "    print(\"total number of shots:\", ( shots // total_variants ) * total_variants)\n",
    "    print()"
   ]
  },
  {
   "cell_type": "code",
   "execution_count": 31,
   "id": "956041cd",
   "metadata": {},
   "outputs": [
    {
     "name": "stdout",
     "output_type": "stream",
     "text": [
      "[{'prep': 1, 'meas': 1}, {'prep': 1, 'meas': 1}, {'prep': 0, 'meas': 0}]\n"
     ]
    }
   ],
   "source": [
    "print(fragment_cuts)"
   ]
  },
  {
   "cell_type": "code",
   "execution_count": 32,
   "id": "398d7b33",
   "metadata": {},
   "outputs": [],
   "source": [
    "# list of all possible measurement outcomes (bitstrings)\n",
    "all_bits = [ \"\".join(bits) for bits in itertools.product([\"0\",\"1\"], repeat = qubits) ]"
   ]
  },
  {
   "cell_type": "code",
   "execution_count": 33,
   "id": "05e2a6c7",
   "metadata": {},
   "outputs": [
    {
     "name": "stdout",
     "output_type": "stream",
     "text": [
      "['00000', '00001', '00010', '00011', '00100', '00101', '00110', '00111', '01000', '01001', '01010', '01011', '01100', '01101', '01110', '01111', '10000', '10001', '10010', '10011', '10100', '10101', '10110', '10111', '11000', '11001', '11010', '11011', '11100', '11101', '11110', '11111']\n"
     ]
    }
   ],
   "source": [
    "print(all_bits)"
   ]
  },
  {
   "cell_type": "code",
   "execution_count": 34,
   "id": "991f5ee3",
   "metadata": {},
   "outputs": [
    {
     "name": "stdout",
     "output_type": "stream",
     "text": [
      "job_id:  00d0b00f-e62c-4696-99c2-309a4e734fec\n"
     ]
    },
    {
     "name": "stderr",
     "output_type": "stream",
     "text": [
      "/Users/revilooliver/Documents/quantum_computing/anaconda/anaconda3/envs/quantum/lib/python3.7/site-packages/ipykernel_launcher.py:4: DeprecationWarning: The return type of saved statevectors has been changed from a `numpy.ndarray` to a `qiskit.quantum_info.Statevector` as of qiskit-aer 0.10. Accessing numpy array attributes is deprecated and will result in an error in a future release. To continue using saved result objects as arrays you can explicitly cast them using  `np.asarray(object)`.\n",
      "  after removing the cwd from sys.path.\n"
     ]
    }
   ],
   "source": [
    "# get the actual state / probability distribution for the full circuit\n",
    "actual_state = ml.get_statevector(circuit)\n",
    "actual_dist = { \"\".join(bits) : abs(amp)**2\n",
    "                for bits, amp in zip(all_bits, actual_state)\n",
    "                if amp != 0 }\n",
    "\n",
    "# get a simulated probability distribution for the full circuit\n",
    "circuit.measure_active()\n",
    "full_circuit_result = ml.run_circuits(circuit, shots, backend = simulation_backend)\n",
    "full_circuit_dist = {}\n",
    "for part in full_circuit_result:\n",
    "    for bits, counts in part.get_counts(circuit).items():\n",
    "        if bits not in full_circuit_dist:\n",
    "            full_circuit_dist[bits] = 0\n",
    "        full_circuit_dist[bits] += counts / shots"
   ]
  },
  {
   "cell_type": "code",
   "execution_count": 35,
   "id": "7e93e1dc",
   "metadata": {},
   "outputs": [
    {
     "data": {
      "text/plain": [
       "{Qubit(QuantumRegister(10, 'q'), 0): ((0, Qubit(QuantumRegister(3, 'q'), 2)),\n",
       "  (1, Qubit(QuantumRegister(5, 'q'), 1)),\n",
       "  (0, Qubit(QuantumRegister(3, 'q'), 1))),\n",
       " Qubit(QuantumRegister(10, 'q'), 1): ((1, Qubit(QuantumRegister(5, 'q'), 4)),),\n",
       " Qubit(QuantumRegister(10, 'q'), 2): ((1, Qubit(QuantumRegister(5, 'q'), 2)),),\n",
       " Qubit(QuantumRegister(10, 'q'), 3): ((1, Qubit(QuantumRegister(5, 'q'), 0)),),\n",
       " Qubit(QuantumRegister(10, 'q'), 4): ((1, Qubit(QuantumRegister(5, 'q'), 3)),),\n",
       " Qubit(QuantumRegister(10, 'q'), 5): ((0, Qubit(QuantumRegister(3, 'q'), 0)),),\n",
       " Qubit(QuantumRegister(10, 'q'), 6): ((2, Qubit(QuantumRegister(4, 'q'), 0)),),\n",
       " Qubit(QuantumRegister(10, 'q'), 7): ((2, Qubit(QuantumRegister(4, 'q'), 1)),),\n",
       " Qubit(QuantumRegister(10, 'q'), 8): ((2, Qubit(QuantumRegister(4, 'q'), 2)),),\n",
       " Qubit(QuantumRegister(10, 'q'), 9): ((2, Qubit(QuantumRegister(4, 'q'), 3)),)}"
      ]
     },
     "execution_count": 35,
     "metadata": {},
     "output_type": "execute_result"
    }
   ],
   "source": [
    "wire_path_map"
   ]
  },
  {
   "cell_type": "code",
   "execution_count": 36,
   "id": "6a5762e7",
   "metadata": {},
   "outputs": [],
   "source": [
    "orign_qc = QuantumCircuit.from_qasm_file(\"qasm/vqe_5q.qasm\")\n",
    "orign_qc.measure_all()"
   ]
  },
  {
   "cell_type": "code",
   "execution_count": 37,
   "id": "168341f6",
   "metadata": {},
   "outputs": [],
   "source": [
    "orign_qc = transpile(orign_qc, basis_gates = ['sx', 'cx', 'reset', 'id', 'x', 'rz'])"
   ]
  },
  {
   "cell_type": "code",
   "execution_count": 38,
   "id": "c3eb407d",
   "metadata": {},
   "outputs": [
    {
     "data": {
      "text/html": [
       "<pre style=\"word-wrap: normal;white-space: pre;background: #fff0;line-height: 1.1;font-family: &quot;Courier New&quot;,Courier,monospace\">global phase: 5π/4\n",
       "        ┌────────┐     ┌────┐    ┌────────────┐┌────┐        ┌────┐  »\n",
       "   q_0: ┤ Rz(-π) ├─────┤ √X ├────┤ Rz(1.6094) ├┤ √X ├──■─────┤ √X ├──»\n",
       "        └─┬────┬─┘┌────┴────┴───┐└───┬────┬───┘└────┘┌─┴─┐┌──┴────┴─┐»\n",
       "   q_1: ──┤ √X ├──┤ Rz(-1.5709) ├────┤ √X ├──────────┤ X ├┤ Rz(π/2) ├»\n",
       "          ├────┤  ├─────────────┤    ├────┤          └───┘└─────────┘»\n",
       "   q_2: ──┤ √X ├──┤ Rz(-2.2784) ├────┤ √X ├──────────────────────────»\n",
       "          ├────┤  ├─────────────┤    ├────┤                          »\n",
       "   q_3: ──┤ √X ├──┤ Rz(-1.5708) ├────┤ √X ├──────────────────────────»\n",
       "          ├────┤  └┬────────────┤    ├────┤                          »\n",
       "   q_4: ──┤ √X ├───┤ Rz(1.0205) ├────┤ √X ├──────────────────────────»\n",
       "          └────┘   └────────────┘    └────┘                          »\n",
       "meas_0: ═════════════════════════════════════════════════════════════»\n",
       "                                                                     »\n",
       "meas_1: ═════════════════════════════════════════════════════════════»\n",
       "                                                                     »\n",
       "meas_2: ═════════════════════════════════════════════════════════════»\n",
       "                                                                     »\n",
       "meas_3: ═════════════════════════════════════════════════════════════»\n",
       "                                                                     »\n",
       "meas_4: ═════════════════════════════════════════════════════════════»\n",
       "                                                                     »\n",
       "«        ┌────────────┐   ┌────┐  ┌────────┐                             »\n",
       "«   q_0: ┤ Rz(1.5323) ├───┤ √X ├──┤ Rz(-π) ├─────────────────────────────»\n",
       "«        └───┬────┬───┘┌──┴────┴─┐└────────┘   ┌────┐  ┌────────────────┐»\n",
       "«   q_1: ────┤ √X ├────┤ Rz(π/2) ├────■────────┤ √X ├──┤ Rz(6.5854e-05) ├»\n",
       "«            └────┘    └─────────┘  ┌─┴─┐   ┌──┴────┴─┐└─────┬────┬─────┘»\n",
       "«   q_2: ───────────────────────────┤ X ├───┤ Rz(π/2) ├──────┤ √X ├──────»\n",
       "«                                   └───┘   └─────────┘      └────┘      »\n",
       "«   q_3: ────────────────────────────────────────────────────────────────»\n",
       "«                                                                        »\n",
       "«   q_4: ────────────────────────────────────────────────────────────────»\n",
       "«                                                                        »\n",
       "«meas_0: ════════════════════════════════════════════════════════════════»\n",
       "«                                                                        »\n",
       "«meas_1: ════════════════════════════════════════════════════════════════»\n",
       "«                                                                        »\n",
       "«meas_2: ════════════════════════════════════════════════════════════════»\n",
       "«                                                                        »\n",
       "«meas_3: ════════════════════════════════════════════════════════════════»\n",
       "«                                                                        »\n",
       "«meas_4: ════════════════════════════════════════════════════════════════»\n",
       "«                                                                        »\n",
       "«                                                                           »\n",
       "«   q_0: ───────────────────────────────────────────────────────────────────»\n",
       "«           ┌────┐  ┌────────┐                                              »\n",
       "«   q_1: ───┤ √X ├──┤ Rz(-π) ├──────────────────────────────────────────────»\n",
       "«        ┌──┴────┴─┐└────────┘ ┌────────┐┌────┐┌───────────┐┌────┐          »\n",
       "«   q_2: ┤ Rz(π/2) ├────■──────┤ Rz(-π) ├┤ √X ├┤ Rz(2.434) ├┤ √X ├──────────»\n",
       "«        └─────────┘  ┌─┴─┐   ┌┴────────┤├────┤└┬─────────┬┘└────┘┌────────┐»\n",
       "«   q_3: ─────────────┤ X ├───┤ Rz(π/2) ├┤ √X ├─┤ Rz(π/2) ├───■───┤ Rz(-π) ├»\n",
       "«                     └───┘   └─────────┘└────┘ └─────────┘ ┌─┴─┐ └─┬────┬─┘»\n",
       "«   q_4: ───────────────────────────────────────────────────┤ X ├───┤ √X ├──»\n",
       "«                                                           └───┘   └────┘  »\n",
       "«meas_0: ═══════════════════════════════════════════════════════════════════»\n",
       "«                                                                           »\n",
       "«meas_1: ═══════════════════════════════════════════════════════════════════»\n",
       "«                                                                           »\n",
       "«meas_2: ═══════════════════════════════════════════════════════════════════»\n",
       "«                                                                           »\n",
       "«meas_3: ═══════════════════════════════════════════════════════════════════»\n",
       "«                                                                           »\n",
       "«meas_4: ═══════════════════════════════════════════════════════════════════»\n",
       "«                                                                           »\n",
       "«                                               ░ ┌─┐            \n",
       "«   q_0: ───────────────────────────────────────░─┤M├────────────\n",
       "«                                               ░ └╥┘┌─┐         \n",
       "«   q_1: ───────────────────────────────────────░──╫─┤M├─────────\n",
       "«                                               ░  ║ └╥┘┌─┐      \n",
       "«   q_2: ───────────────────────────────────────░──╫──╫─┤M├──────\n",
       "«             ┌────┐    ┌───────────────┐┌────┐ ░  ║  ║ └╥┘┌─┐   \n",
       "«   q_3: ─────┤ √X ├────┤ Rz(0.0001055) ├┤ √X ├─░──╫──╫──╫─┤M├───\n",
       "«        ┌────┴────┴───┐└─────┬────┬────┘└────┘ ░  ║  ║  ║ └╥┘┌─┐\n",
       "«   q_4: ┤ Rz(-1.0203) ├──────┤ √X ├────────────░──╫──╫──╫──╫─┤M├\n",
       "«        └─────────────┘      └────┘            ░  ║  ║  ║  ║ └╥┘\n",
       "«meas_0: ══════════════════════════════════════════╩══╬══╬══╬══╬═\n",
       "«                                                     ║  ║  ║  ║ \n",
       "«meas_1: ═════════════════════════════════════════════╩══╬══╬══╬═\n",
       "«                                                        ║  ║  ║ \n",
       "«meas_2: ════════════════════════════════════════════════╩══╬══╬═\n",
       "«                                                           ║  ║ \n",
       "«meas_3: ═══════════════════════════════════════════════════╩══╬═\n",
       "«                                                              ║ \n",
       "«meas_4: ══════════════════════════════════════════════════════╩═\n",
       "«                                                                </pre>"
      ],
      "text/plain": [
       "global phase: 5π/4\n",
       "        ┌────────┐     ┌────┐    ┌────────────┐┌────┐        ┌────┐  »\n",
       "   q_0: ┤ Rz(-π) ├─────┤ √X ├────┤ Rz(1.6094) ├┤ √X ├──■─────┤ √X ├──»\n",
       "        └─┬────┬─┘┌────┴────┴───┐└───┬────┬───┘└────┘┌─┴─┐┌──┴────┴─┐»\n",
       "   q_1: ──┤ √X ├──┤ Rz(-1.5709) ├────┤ √X ├──────────┤ X ├┤ Rz(π/2) ├»\n",
       "          ├────┤  ├─────────────┤    ├────┤          └───┘└─────────┘»\n",
       "   q_2: ──┤ √X ├──┤ Rz(-2.2784) ├────┤ √X ├──────────────────────────»\n",
       "          ├────┤  ├─────────────┤    ├────┤                          »\n",
       "   q_3: ──┤ √X ├──┤ Rz(-1.5708) ├────┤ √X ├──────────────────────────»\n",
       "          ├────┤  └┬────────────┤    ├────┤                          »\n",
       "   q_4: ──┤ √X ├───┤ Rz(1.0205) ├────┤ √X ├──────────────────────────»\n",
       "          └────┘   └────────────┘    └────┘                          »\n",
       "meas_0: ═════════════════════════════════════════════════════════════»\n",
       "                                                                     »\n",
       "meas_1: ═════════════════════════════════════════════════════════════»\n",
       "                                                                     »\n",
       "meas_2: ═════════════════════════════════════════════════════════════»\n",
       "                                                                     »\n",
       "meas_3: ═════════════════════════════════════════════════════════════»\n",
       "                                                                     »\n",
       "meas_4: ═════════════════════════════════════════════════════════════»\n",
       "                                                                     »\n",
       "«        ┌────────────┐   ┌────┐  ┌────────┐                             »\n",
       "«   q_0: ┤ Rz(1.5323) ├───┤ √X ├──┤ Rz(-π) ├─────────────────────────────»\n",
       "«        └───┬────┬───┘┌──┴────┴─┐└────────┘   ┌────┐  ┌────────────────┐»\n",
       "«   q_1: ────┤ √X ├────┤ Rz(π/2) ├────■────────┤ √X ├──┤ Rz(6.5854e-05) ├»\n",
       "«            └────┘    └─────────┘  ┌─┴─┐   ┌──┴────┴─┐└─────┬────┬─────┘»\n",
       "«   q_2: ───────────────────────────┤ X ├───┤ Rz(π/2) ├──────┤ √X ├──────»\n",
       "«                                   └───┘   └─────────┘      └────┘      »\n",
       "«   q_3: ────────────────────────────────────────────────────────────────»\n",
       "«                                                                        »\n",
       "«   q_4: ────────────────────────────────────────────────────────────────»\n",
       "«                                                                        »\n",
       "«meas_0: ════════════════════════════════════════════════════════════════»\n",
       "«                                                                        »\n",
       "«meas_1: ════════════════════════════════════════════════════════════════»\n",
       "«                                                                        »\n",
       "«meas_2: ════════════════════════════════════════════════════════════════»\n",
       "«                                                                        »\n",
       "«meas_3: ════════════════════════════════════════════════════════════════»\n",
       "«                                                                        »\n",
       "«meas_4: ════════════════════════════════════════════════════════════════»\n",
       "«                                                                        »\n",
       "«                                                                           »\n",
       "«   q_0: ───────────────────────────────────────────────────────────────────»\n",
       "«           ┌────┐  ┌────────┐                                              »\n",
       "«   q_1: ───┤ √X ├──┤ Rz(-π) ├──────────────────────────────────────────────»\n",
       "«        ┌──┴────┴─┐└────────┘ ┌────────┐┌────┐┌───────────┐┌────┐          »\n",
       "«   q_2: ┤ Rz(π/2) ├────■──────┤ Rz(-π) ├┤ √X ├┤ Rz(2.434) ├┤ √X ├──────────»\n",
       "«        └─────────┘  ┌─┴─┐   ┌┴────────┤├────┤└┬─────────┬┘└────┘┌────────┐»\n",
       "«   q_3: ─────────────┤ X ├───┤ Rz(π/2) ├┤ √X ├─┤ Rz(π/2) ├───■───┤ Rz(-π) ├»\n",
       "«                     └───┘   └─────────┘└────┘ └─────────┘ ┌─┴─┐ └─┬────┬─┘»\n",
       "«   q_4: ───────────────────────────────────────────────────┤ X ├───┤ √X ├──»\n",
       "«                                                           └───┘   └────┘  »\n",
       "«meas_0: ═══════════════════════════════════════════════════════════════════»\n",
       "«                                                                           »\n",
       "«meas_1: ═══════════════════════════════════════════════════════════════════»\n",
       "«                                                                           »\n",
       "«meas_2: ═══════════════════════════════════════════════════════════════════»\n",
       "«                                                                           »\n",
       "«meas_3: ═══════════════════════════════════════════════════════════════════»\n",
       "«                                                                           »\n",
       "«meas_4: ═══════════════════════════════════════════════════════════════════»\n",
       "«                                                                           »\n",
       "«                                               ░ ┌─┐            \n",
       "«   q_0: ───────────────────────────────────────░─┤M├────────────\n",
       "«                                               ░ └╥┘┌─┐         \n",
       "«   q_1: ───────────────────────────────────────░──╫─┤M├─────────\n",
       "«                                               ░  ║ └╥┘┌─┐      \n",
       "«   q_2: ───────────────────────────────────────░──╫──╫─┤M├──────\n",
       "«             ┌────┐    ┌───────────────┐┌────┐ ░  ║  ║ └╥┘┌─┐   \n",
       "«   q_3: ─────┤ √X ├────┤ Rz(0.0001055) ├┤ √X ├─░──╫──╫──╫─┤M├───\n",
       "«        ┌────┴────┴───┐└─────┬────┬────┘└────┘ ░  ║  ║  ║ └╥┘┌─┐\n",
       "«   q_4: ┤ Rz(-1.0203) ├──────┤ √X ├────────────░──╫──╫──╫──╫─┤M├\n",
       "«        └─────────────┘      └────┘            ░  ║  ║  ║  ║ └╥┘\n",
       "«meas_0: ══════════════════════════════════════════╩══╬══╬══╬══╬═\n",
       "«                                                     ║  ║  ║  ║ \n",
       "«meas_1: ═════════════════════════════════════════════╩══╬══╬══╬═\n",
       "«                                                        ║  ║  ║ \n",
       "«meas_2: ════════════════════════════════════════════════╩══╬══╬═\n",
       "«                                                           ║  ║ \n",
       "«meas_3: ═══════════════════════════════════════════════════╩══╬═\n",
       "«                                                              ║ \n",
       "«meas_4: ══════════════════════════════════════════════════════╩═\n",
       "«                                                                "
      ]
     },
     "execution_count": 38,
     "metadata": {},
     "output_type": "execute_result"
    }
   ],
   "source": [
    "orign_qc.draw()"
   ]
  },
  {
   "cell_type": "code",
   "execution_count": 39,
   "id": "1d356082",
   "metadata": {},
   "outputs": [
    {
     "data": {
      "text/plain": [
       "3"
      ]
     },
     "execution_count": 39,
     "metadata": {},
     "output_type": "execute_result"
    }
   ],
   "source": [
    "len(fragments)"
   ]
  },
  {
   "cell_type": "code",
   "execution_count": 40,
   "id": "3854951e",
   "metadata": {},
   "outputs": [],
   "source": [
    "temp_frag_data = [0] * len(fragments)"
   ]
  },
  {
   "cell_type": "code",
   "execution_count": 41,
   "id": "b018e1fa",
   "metadata": {},
   "outputs": [
    {
     "data": {
      "text/html": [
       "<pre style=\"word-wrap: normal;white-space: pre;background: #fff0;line-height: 1.1;font-family: &quot;Courier New&quot;,Courier,monospace\">                                         ┌───┐┌───┐                          »\n",
       "q_0: ────────────────────────────────────┤ X ├┤ X ├──────────────────────────»\n",
       "                                         └─┬─┘└─┬─┘┌────┐┌────────────┐┌────┐»\n",
       "q_1: ──────────────────────────────────────┼────■──┤ √X ├┤ Rz(1.5323) ├┤ √X ├»\n",
       "     ┌────────┐┌────┐┌────────────┐┌────┐  │       └────┘└────────────┘└────┘»\n",
       "q_2: ┤ Rz(-π) ├┤ √X ├┤ Rz(1.6094) ├┤ √X ├──■─────────────────────────────────»\n",
       "     └────────┘└────┘└────────────┘└────┘                                    »\n",
       "«               \n",
       "«q_0: ──────────\n",
       "«     ┌────────┐\n",
       "«q_1: ┤ Rz(-π) ├\n",
       "«     └────────┘\n",
       "«q_2: ──────────\n",
       "«               </pre>"
      ],
      "text/plain": [
       "                                         ┌───┐┌───┐                          »\n",
       "q_0: ────────────────────────────────────┤ X ├┤ X ├──────────────────────────»\n",
       "                                         └─┬─┘└─┬─┘┌────┐┌────────────┐┌────┐»\n",
       "q_1: ──────────────────────────────────────┼────■──┤ √X ├┤ Rz(1.5323) ├┤ √X ├»\n",
       "     ┌────────┐┌────┐┌────────────┐┌────┐  │       └────┘└────────────┘└────┘»\n",
       "q_2: ┤ Rz(-π) ├┤ √X ├┤ Rz(1.6094) ├┤ √X ├──■─────────────────────────────────»\n",
       "     └────────┘└────┘└────────────┘└────┘                                    »\n",
       "«               \n",
       "«q_0: ──────────\n",
       "«     ┌────────┐\n",
       "«q_1: ┤ Rz(-π) ├\n",
       "«     └────────┘\n",
       "«q_2: ──────────\n",
       "«               "
      ]
     },
     "execution_count": 41,
     "metadata": {},
     "output_type": "execute_result"
    }
   ],
   "source": [
    "fragments[0].draw()"
   ]
  },
  {
   "cell_type": "code",
   "execution_count": 42,
   "id": "199571c0",
   "metadata": {},
   "outputs": [],
   "source": [
    "import qiskit.ignis.verification as vf"
   ]
  },
  {
   "cell_type": "code",
   "execution_count": 44,
   "id": "5095adab",
   "metadata": {},
   "outputs": [
    {
     "name": "stdout",
     "output_type": "stream",
     "text": [
      "Job Status: job has successfully run\n",
      "job_id:  264b1208-3e28-4cc4-ace6-22738d674c2d\n"
     ]
    }
   ],
   "source": [
    "temp_frag_data[0] = ml.collect_fragment_raw_data(fragments[0], 0, wire_path_map,\n",
    "                                 shots = shots // total_variants,\n",
    "                                 tomography_backend = simulation_backend)"
   ]
  },
  {
   "cell_type": "code",
   "execution_count": 47,
   "id": "d362ad42",
   "metadata": {},
   "outputs": [
    {
     "name": "stdout",
     "output_type": "stream",
     "text": [
      "Job Status: job has successfully run\n",
      "job_id:  f417024c-b1a5-45c6-bfb1-37f24020a58f\n"
     ]
    }
   ],
   "source": [
    "##########################################################################################\n",
    "# simulate fragments and recombine results to reconstruct the outputs of the full circuit\n",
    "##########################################################################################\n",
    "\n",
    "# simulate fragments, build fragment models, and recombine fragment models\n",
    "temp_frag_data[1] = ml.collect_fragment_raw_data(fragments[1], 1, wire_path_map,\n",
    "                                     shots = shots // total_variants,\n",
    "                                     tomography_backend = simulation_backend, noise_model = noise_model, opt_lvl = 3, extra_qc = [orign_qc])"
   ]
  },
  {
   "cell_type": "code",
   "execution_count": 46,
   "id": "7bb6c1cf",
   "metadata": {},
   "outputs": [
    {
     "name": "stdout",
     "output_type": "stream",
     "text": [
      "Job Status: job has successfully run\n",
      "job_id:  08107c12-62dd-4f54-8f36-c3be94f820f7\n"
     ]
    }
   ],
   "source": [
    "temp_frag_data[2] = ml.collect_fragment_raw_data(fragments[2], 2, wire_path_map,\n",
    "                                 shots = shots // total_variants,\n",
    "                                 tomography_backend = simulation_backend)"
   ]
  },
  {
   "cell_type": "code",
   "execution_count": 48,
   "id": "77ce4f90",
   "metadata": {},
   "outputs": [],
   "source": [
    "frag_targets = ml.identify_frag_targets(wire_path_map)"
   ]
  },
  {
   "cell_type": "code",
   "execution_count": 49,
   "id": "dc46027a",
   "metadata": {},
   "outputs": [],
   "source": [
    "frag_data = []\n",
    "for i in range(0, len(fragments)):\n",
    "    extra_list = []\n",
    "    if i == 1:\n",
    "        extra_list = [orign_qc]\n",
    "    frag_data.append(ml.organize_tomography_data(temp_frag_data[i][0],\n",
    "                                      frag_targets[i].get(\"prep\"),\n",
    "                                      frag_targets[i].get(\"meas\"),\n",
    "                                      prep_basis = \"SIC\", extra_qc = extra_list))"
   ]
  },
  {
   "cell_type": "code",
   "execution_count": 50,
   "id": "76b00b81",
   "metadata": {},
   "outputs": [
    {
     "data": {
      "text/plain": [
       "3"
      ]
     },
     "execution_count": 50,
     "metadata": {},
     "output_type": "execute_result"
    }
   ],
   "source": [
    "len(frag_data)"
   ]
  },
  {
   "cell_type": "code",
   "execution_count": 51,
   "id": "029b42f7",
   "metadata": {},
   "outputs": [
    {
     "data": {
      "text/plain": [
       "{'1010': {(('S0',), ('Zp',)): 6,\n",
       "  (('S0',), ('Xp',)): 4,\n",
       "  (('S0',), ('Xm',)): 1,\n",
       "  (('S0',), ('Ym',)): 4,\n",
       "  (('S0',), ('Yp',)): 7,\n",
       "  (('S1',), ('Zp',)): 5,\n",
       "  (('S1',), ('Zm',)): 8,\n",
       "  (('S1',), ('Xm',)): 6,\n",
       "  (('S1',), ('Yp',)): 2,\n",
       "  (('S1',), ('Ym',)): 1,\n",
       "  (('S2',), ('Zm',)): 2,\n",
       "  (('S2',), ('Xp',)): 2,\n",
       "  (('S2',), ('Xm',)): 1,\n",
       "  (('S2',), ('Yp',)): 8,\n",
       "  (('S3',), ('Zp',)): 4,\n",
       "  (('S3',), ('Zm',)): 3,\n",
       "  (('S3',), ('Xp',)): 1,\n",
       "  (('S3',), ('Xm',)): 4,\n",
       "  (('S3',), ('Yp',)): 2,\n",
       "  (('S3',), ('Ym',)): 3,\n",
       "  (('S0',), ('Zm',)): 0,\n",
       "  (('S1',), ('Xp',)): 0,\n",
       "  (('S2',), ('Zp',)): 0,\n",
       "  (('S2',), ('Ym',)): 0},\n",
       " '0101': {(('S0',), ('Zp',)): 5,\n",
       "  (('S0',), ('Xp',)): 3,\n",
       "  (('S0',), ('Xm',)): 2,\n",
       "  (('S0',), ('Yp',)): 7,\n",
       "  (('S0',), ('Ym',)): 1,\n",
       "  (('S1',), ('Zp',)): 3,\n",
       "  (('S1',), ('Zm',)): 4,\n",
       "  (('S1',), ('Xm',)): 10,\n",
       "  (('S1',), ('Ym',)): 5,\n",
       "  (('S1',), ('Yp',)): 3,\n",
       "  (('S2',), ('Zm',)): 5,\n",
       "  (('S2',), ('Zp',)): 4,\n",
       "  (('S2',), ('Xp',)): 9,\n",
       "  (('S2',), ('Xm',)): 4,\n",
       "  (('S2',), ('Yp',)): 5,\n",
       "  (('S3',), ('Zm',)): 3,\n",
       "  (('S3',), ('Zp',)): 3,\n",
       "  (('S3',), ('Xp',)): 4,\n",
       "  (('S3',), ('Xm',)): 3,\n",
       "  (('S3',), ('Ym',)): 8,\n",
       "  (('S0',), ('Zm',)): 0,\n",
       "  (('S1',), ('Xp',)): 0,\n",
       "  (('S2',), ('Ym',)): 0,\n",
       "  (('S3',), ('Yp',)): 0},\n",
       " '1100': {(('S0',), ('Zp',)): 8,\n",
       "  (('S0',), ('Xp',)): 11,\n",
       "  (('S0',), ('Xm',)): 6,\n",
       "  (('S0',), ('Yp',)): 1,\n",
       "  (('S0',), ('Ym',)): 6,\n",
       "  (('S1',), ('Zp',)): 6,\n",
       "  (('S1',), ('Zm',)): 10,\n",
       "  (('S1',), ('Xm',)): 12,\n",
       "  (('S1',), ('Ym',)): 5,\n",
       "  (('S1',), ('Yp',)): 4,\n",
       "  (('S2',), ('Zp',)): 3,\n",
       "  (('S2',), ('Zm',)): 5,\n",
       "  (('S2',), ('Xp',)): 6,\n",
       "  (('S2',), ('Xm',)): 2,\n",
       "  (('S2',), ('Yp',)): 8,\n",
       "  (('S3',), ('Zm',)): 8,\n",
       "  (('S3',), ('Zp',)): 4,\n",
       "  (('S3',), ('Xm',)): 1,\n",
       "  (('S3',), ('Xp',)): 10,\n",
       "  (('S3',), ('Yp',)): 2,\n",
       "  (('S3',), ('Ym',)): 12,\n",
       "  (('S0',), ('Zm',)): 0,\n",
       "  (('S1',), ('Xp',)): 0,\n",
       "  (('S2',), ('Ym',)): 0},\n",
       " '0011': {(('S0',), ('Zp',)): 5,\n",
       "  (('S0',), ('Xp',)): 1,\n",
       "  (('S0',), ('Xm',)): 3,\n",
       "  (('S0',), ('Yp',)): 1,\n",
       "  (('S0',), ('Ym',)): 3,\n",
       "  (('S1',), ('Zp',)): 1,\n",
       "  (('S1',), ('Zm',)): 2,\n",
       "  (('S1',), ('Xm',)): 2,\n",
       "  (('S1',), ('Yp',)): 1,\n",
       "  (('S1',), ('Ym',)): 5,\n",
       "  (('S2',), ('Zm',)): 2,\n",
       "  (('S2',), ('Xp',)): 4,\n",
       "  (('S2',), ('Xm',)): 2,\n",
       "  (('S2',), ('Yp',)): 3,\n",
       "  (('S3',), ('Zm',)): 2,\n",
       "  (('S3',), ('Xp',)): 5,\n",
       "  (('S3',), ('Xm',)): 1,\n",
       "  (('S3',), ('Ym',)): 2,\n",
       "  (('S0',), ('Zm',)): 0,\n",
       "  (('S1',), ('Xp',)): 0,\n",
       "  (('S2',), ('Zp',)): 0,\n",
       "  (('S2',), ('Ym',)): 0,\n",
       "  (('S3',), ('Zp',)): 0,\n",
       "  (('S3',), ('Yp',)): 0},\n",
       " '1000': {(('S0',), ('Zp',)): 1,\n",
       "  (('S0',), ('Zm',)): 0,\n",
       "  (('S0',), ('Xp',)): 0,\n",
       "  (('S0',), ('Xm',)): 0,\n",
       "  (('S0',), ('Yp',)): 0,\n",
       "  (('S0',), ('Ym',)): 0,\n",
       "  (('S1',), ('Zp',)): 0,\n",
       "  (('S1',), ('Zm',)): 0,\n",
       "  (('S1',), ('Xp',)): 0,\n",
       "  (('S1',), ('Xm',)): 0,\n",
       "  (('S1',), ('Yp',)): 0,\n",
       "  (('S1',), ('Ym',)): 0,\n",
       "  (('S2',), ('Zp',)): 0,\n",
       "  (('S2',), ('Zm',)): 0,\n",
       "  (('S2',), ('Xp',)): 0,\n",
       "  (('S2',), ('Xm',)): 0,\n",
       "  (('S2',), ('Yp',)): 0,\n",
       "  (('S2',), ('Ym',)): 0,\n",
       "  (('S3',), ('Zp',)): 0,\n",
       "  (('S3',), ('Zm',)): 0,\n",
       "  (('S3',), ('Xp',)): 0,\n",
       "  (('S3',), ('Xm',)): 0,\n",
       "  (('S3',), ('Yp',)): 0,\n",
       "  (('S3',), ('Ym',)): 0},\n",
       " '1111': {(('S0',), ('Zp',)): 3,\n",
       "  (('S0',), ('Xp',)): 2,\n",
       "  (('S0',), ('Xm',)): 1,\n",
       "  (('S0',), ('Yp',)): 1,\n",
       "  (('S0',), ('Ym',)): 2,\n",
       "  (('S1',), ('Zp',)): 1,\n",
       "  (('S1',), ('Zm',)): 2,\n",
       "  (('S1',), ('Xm',)): 3,\n",
       "  (('S1',), ('Ym',)): 1,\n",
       "  (('S2',), ('Zp',)): 3,\n",
       "  (('S2',), ('Xm',)): 1,\n",
       "  (('S2',), ('Yp',)): 2,\n",
       "  (('S3',), ('Zm',)): 1,\n",
       "  (('S3',), ('Xp',)): 2,\n",
       "  (('S3',), ('Xm',)): 1,\n",
       "  (('S0',), ('Zm',)): 0,\n",
       "  (('S1',), ('Xp',)): 0,\n",
       "  (('S1',), ('Yp',)): 0,\n",
       "  (('S2',), ('Zm',)): 0,\n",
       "  (('S2',), ('Xp',)): 0,\n",
       "  (('S2',), ('Ym',)): 0,\n",
       "  (('S3',), ('Zp',)): 0,\n",
       "  (('S3',), ('Yp',)): 0,\n",
       "  (('S3',), ('Ym',)): 0},\n",
       " '0000': {(('S0',), ('Zp',)): 29,\n",
       "  (('S0',), ('Xm',)): 18,\n",
       "  (('S0',), ('Xp',)): 13,\n",
       "  (('S0',), ('Yp',)): 9,\n",
       "  (('S0',), ('Ym',)): 12,\n",
       "  (('S1',), ('Zp',)): 7,\n",
       "  (('S1',), ('Zm',)): 15,\n",
       "  (('S1',), ('Xm',)): 20,\n",
       "  (('S1',), ('Yp',)): 5,\n",
       "  (('S1',), ('Ym',)): 15,\n",
       "  (('S2',), ('Zm',)): 11,\n",
       "  (('S2',), ('Zp',)): 10,\n",
       "  (('S2',), ('Xp',)): 22,\n",
       "  (('S2',), ('Xm',)): 9,\n",
       "  (('S2',), ('Ym',)): 1,\n",
       "  (('S2',), ('Yp',)): 19,\n",
       "  (('S3',), ('Zp',)): 5,\n",
       "  (('S3',), ('Zm',)): 9,\n",
       "  (('S3',), ('Xm',)): 4,\n",
       "  (('S3',), ('Xp',)): 23,\n",
       "  (('S3',), ('Ym',)): 24,\n",
       "  (('S3',), ('Yp',)): 2,\n",
       "  (('S0',), ('Zm',)): 0,\n",
       "  (('S1',), ('Xp',)): 0},\n",
       " '0111': {(('S0',), ('Zm',)): 1,\n",
       "  (('S0',), ('Zp',)): 182,\n",
       "  (('S0',), ('Xm',)): 89,\n",
       "  (('S0',), ('Xp',)): 80,\n",
       "  (('S0',), ('Yp',)): 87,\n",
       "  (('S0',), ('Ym',)): 91,\n",
       "  (('S1',), ('Zp',)): 61,\n",
       "  (('S1',), ('Zm',)): 140,\n",
       "  (('S1',), ('Xp',)): 6,\n",
       "  (('S1',), ('Xm',)): 171,\n",
       "  (('S1',), ('Ym',)): 92,\n",
       "  (('S1',), ('Yp',)): 82,\n",
       "  (('S2',), ('Zm',)): 132,\n",
       "  (('S2',), ('Zp',)): 84,\n",
       "  (('S2',), ('Xm',)): 48,\n",
       "  (('S2',), ('Xp',)): 145,\n",
       "  (('S2',), ('Yp',)): 166,\n",
       "  (('S2',), ('Ym',)): 18,\n",
       "  (('S3',), ('Zm',)): 113,\n",
       "  (('S3',), ('Zp',)): 54,\n",
       "  (('S3',), ('Xm',)): 53,\n",
       "  (('S3',), ('Xp',)): 124,\n",
       "  (('S3',), ('Yp',)): 21,\n",
       "  (('S3',), ('Ym',)): 162},\n",
       " '0010': {(('S0',), ('Zm',)): 8,\n",
       "  (('S0',), ('Zp',)): 645,\n",
       "  (('S0',), ('Xp',)): 311,\n",
       "  (('S0',), ('Xm',)): 313,\n",
       "  (('S0',), ('Yp',)): 309,\n",
       "  (('S0',), ('Ym',)): 295,\n",
       "  (('S1',), ('Zm',)): 416,\n",
       "  (('S1',), ('Zp',)): 204,\n",
       "  (('S1',), ('Xp',)): 41,\n",
       "  (('S1',), ('Xm',)): 588,\n",
       "  (('S1',), ('Yp',)): 320,\n",
       "  (('S1',), ('Ym',)): 331,\n",
       "  (('S2',), ('Zp',)): 177,\n",
       "  (('S2',), ('Zm',)): 392,\n",
       "  (('S2',), ('Xp',)): 459,\n",
       "  (('S2',), ('Xm',)): 164,\n",
       "  (('S2',), ('Ym',)): 67,\n",
       "  (('S2',), ('Yp',)): 575,\n",
       "  (('S3',), ('Zp',)): 213,\n",
       "  (('S3',), ('Zm',)): 415,\n",
       "  (('S3',), ('Xp',)): 477,\n",
       "  (('S3',), ('Xm',)): 155,\n",
       "  (('S3',), ('Yp',)): 57,\n",
       "  (('S3',), ('Ym',)): 533},\n",
       " '0110': {(('S0',), ('Zp',)): 29511,\n",
       "  (('S0',), ('Zm',)): 180,\n",
       "  (('S0',), ('Xm',)): 14708,\n",
       "  (('S0',), ('Xp',)): 14980,\n",
       "  (('S0',), ('Yp',)): 15172,\n",
       "  (('S0',), ('Ym',)): 14610,\n",
       "  (('S1',), ('Zp',)): 10425,\n",
       "  (('S1',), ('Zm',)): 19216,\n",
       "  (('S1',), ('Xp',)): 1492,\n",
       "  (('S1',), ('Xm',)): 28232,\n",
       "  (('S1',), ('Yp',)): 15016,\n",
       "  (('S1',), ('Ym',)): 14685,\n",
       "  (('S2',), ('Zm',)): 19392,\n",
       "  (('S2',), ('Zp',)): 10346,\n",
       "  (('S2',), ('Xm',)): 7755,\n",
       "  (('S2',), ('Xp',)): 21938,\n",
       "  (('S2',), ('Yp',)): 26913,\n",
       "  (('S2',), ('Ym',)): 2858,\n",
       "  (('S3',), ('Zm',)): 19409,\n",
       "  (('S3',), ('Zp',)): 10359,\n",
       "  (('S3',), ('Xm',)): 7688,\n",
       "  (('S3',), ('Xp',)): 22049,\n",
       "  (('S3',), ('Yp',)): 3321,\n",
       "  (('S3',), ('Ym',)): 26423},\n",
       " '0100': {(('S0',), ('Zm',)): 3,\n",
       "  (('S0',), ('Zp',)): 1120,\n",
       "  (('S0',), ('Xm',)): 549,\n",
       "  (('S0',), ('Xp',)): 588,\n",
       "  (('S0',), ('Ym',)): 532,\n",
       "  (('S0',), ('Yp',)): 539,\n",
       "  (('S1',), ('Zm',)): 793,\n",
       "  (('S1',), ('Zp',)): 406,\n",
       "  (('S1',), ('Xm',)): 1083,\n",
       "  (('S1',), ('Xp',)): 69,\n",
       "  (('S1',), ('Ym',)): 526,\n",
       "  (('S1',), ('Yp',)): 611,\n",
       "  (('S2',), ('Zm',)): 734,\n",
       "  (('S2',), ('Zp',)): 374,\n",
       "  (('S2',), ('Xm',)): 294,\n",
       "  (('S2',), ('Xp',)): 834,\n",
       "  (('S2',), ('Ym',)): 112,\n",
       "  (('S2',), ('Yp',)): 950,\n",
       "  (('S3',), ('Zm',)): 716,\n",
       "  (('S3',), ('Zp',)): 365,\n",
       "  (('S3',), ('Xm',)): 293,\n",
       "  (('S3',), ('Xp',)): 810,\n",
       "  (('S3',), ('Yp',)): 105,\n",
       "  (('S3',), ('Ym',)): 1034},\n",
       " '1110': {(('S0',), ('Zp',)): 293,\n",
       "  (('S0',), ('Xp',)): 171,\n",
       "  (('S0',), ('Xm',)): 146,\n",
       "  (('S0',), ('Yp',)): 155,\n",
       "  (('S0',), ('Ym',)): 155,\n",
       "  (('S1',), ('Zm',)): 189,\n",
       "  (('S1',), ('Zp',)): 86,\n",
       "  (('S1',), ('Xp',)): 13,\n",
       "  (('S1',), ('Xm',)): 252,\n",
       "  (('S1',), ('Yp',)): 145,\n",
       "  (('S1',), ('Ym',)): 145,\n",
       "  (('S2',), ('Zp',)): 123,\n",
       "  (('S2',), ('Zm',)): 201,\n",
       "  (('S2',), ('Xp',)): 208,\n",
       "  (('S2',), ('Xm',)): 93,\n",
       "  (('S2',), ('Yp',)): 262,\n",
       "  (('S2',), ('Ym',)): 33,\n",
       "  (('S3',), ('Zp',)): 87,\n",
       "  (('S3',), ('Zm',)): 226,\n",
       "  (('S3',), ('Xp',)): 227,\n",
       "  (('S3',), ('Xm',)): 64,\n",
       "  (('S3',), ('Ym',)): 253,\n",
       "  (('S3',), ('Yp',)): 36,\n",
       "  (('S0',), ('Zm',)): 0},\n",
       " '1101': {(('S0',), ('Ym',)): 1,\n",
       "  (('S3',), ('Zp',)): 1,\n",
       "  (('S0',), ('Zp',)): 0,\n",
       "  (('S0',), ('Zm',)): 0,\n",
       "  (('S0',), ('Xp',)): 0,\n",
       "  (('S0',), ('Xm',)): 0,\n",
       "  (('S0',), ('Yp',)): 0,\n",
       "  (('S1',), ('Zp',)): 0,\n",
       "  (('S1',), ('Zm',)): 0,\n",
       "  (('S1',), ('Xp',)): 0,\n",
       "  (('S1',), ('Xm',)): 0,\n",
       "  (('S1',), ('Yp',)): 0,\n",
       "  (('S1',), ('Ym',)): 0,\n",
       "  (('S2',), ('Zp',)): 0,\n",
       "  (('S2',), ('Zm',)): 0,\n",
       "  (('S2',), ('Xp',)): 0,\n",
       "  (('S2',), ('Xm',)): 0,\n",
       "  (('S2',), ('Yp',)): 0,\n",
       "  (('S2',), ('Ym',)): 0,\n",
       "  (('S3',), ('Zm',)): 0,\n",
       "  (('S3',), ('Xp',)): 0,\n",
       "  (('S3',), ('Xm',)): 0,\n",
       "  (('S3',), ('Yp',)): 0,\n",
       "  (('S3',), ('Ym',)): 0},\n",
       " '1001': {(('S3',), ('Xp',)): 1,\n",
       "  (('S0',), ('Zp',)): 0,\n",
       "  (('S0',), ('Zm',)): 0,\n",
       "  (('S0',), ('Xp',)): 0,\n",
       "  (('S0',), ('Xm',)): 0,\n",
       "  (('S0',), ('Yp',)): 0,\n",
       "  (('S0',), ('Ym',)): 0,\n",
       "  (('S1',), ('Zp',)): 0,\n",
       "  (('S1',), ('Zm',)): 0,\n",
       "  (('S1',), ('Xp',)): 0,\n",
       "  (('S1',), ('Xm',)): 0,\n",
       "  (('S1',), ('Yp',)): 0,\n",
       "  (('S1',), ('Ym',)): 0,\n",
       "  (('S2',), ('Zp',)): 0,\n",
       "  (('S2',), ('Zm',)): 0,\n",
       "  (('S2',), ('Xp',)): 0,\n",
       "  (('S2',), ('Xm',)): 0,\n",
       "  (('S2',), ('Yp',)): 0,\n",
       "  (('S2',), ('Ym',)): 0,\n",
       "  (('S3',), ('Zp',)): 0,\n",
       "  (('S3',), ('Zm',)): 0,\n",
       "  (('S3',), ('Xm',)): 0,\n",
       "  (('S3',), ('Yp',)): 0,\n",
       "  (('S3',), ('Ym',)): 0}}"
      ]
     },
     "execution_count": 51,
     "metadata": {},
     "output_type": "execute_result"
    }
   ],
   "source": [
    "frag_data[1]"
   ]
  },
  {
   "cell_type": "code",
   "execution_count": 52,
   "id": "6d6c25ac",
   "metadata": {},
   "outputs": [],
   "source": [
    "# frag_data = [ml.organize_tomography_data(temp_frag_data[0][0],\n",
    "#                                       frag_targets[0].get(\"prep\"),\n",
    "#                                       frag_targets[0].get(\"meas\"),\n",
    "#                                       prep_basis = \"SIC\", extra_qc = [orign_qc])]\n",
    "# for i in range(1, len(fragments)):\n",
    "#     frag_data.append(ml.organize_tomography_data(temp_frag_data[i][0],\n",
    "#                                       frag_targets[i].get(\"prep\"),\n",
    "#                                       frag_targets[i].get(\"meas\"),\n",
    "#                                       prep_basis = \"SIC\", extra_qc = []))"
   ]
  },
  {
   "cell_type": "code",
   "execution_count": 53,
   "id": "f2ea4460",
   "metadata": {},
   "outputs": [
    {
     "name": "stdout",
     "output_type": "stream",
     "text": [
      "1\n",
      "1\n",
      "1\n",
      "1\n"
     ]
    }
   ],
   "source": [
    "for final_bits, fixed_bit_data in frag_data[0].items():\n",
    "    prep_meas_states, state_counts = zip(*fixed_bit_data.items())\n",
    "    prep_labels, meas_labels = zip(*prep_meas_states)\n",
    "    prep_qubit_num = len(prep_labels[0])\n",
    "    meas_qubit_num = len(meas_labels[0])\n",
    "    print(prep_qubit_num)"
   ]
  },
  {
   "cell_type": "code",
   "execution_count": 54,
   "id": "99930b5d",
   "metadata": {},
   "outputs": [],
   "source": [
    "direct_models = ml.direct_fragment_model(frag_data)\n",
    "likely_models = ml.maximum_likelihood_model(direct_models)\n",
    "\n",
    "direct_recombined_dist = ml.recombine_fragment_models(direct_models, wire_path_map)\n",
    "likely_recombined_dist = ml.recombine_fragment_models(likely_models, wire_path_map)"
   ]
  },
  {
   "cell_type": "code",
   "execution_count": null,
   "id": "352352e2",
   "metadata": {},
   "outputs": [],
   "source": []
  },
  {
   "cell_type": "code",
   "execution_count": 55,
   "id": "b689bf9b",
   "metadata": {},
   "outputs": [
    {
     "data": {
      "text/plain": [
       "{'0000100111': -1.0512679857036157e-05,\n",
       " '0000111001': 3.468639722307363e-05,\n",
       " '0000110011': 3.2239145202335745e-05,\n",
       " '0000101101': -6.526652065512123e-06,\n",
       " '0000100011': -5.209053410272485e-06,\n",
       " '0000111111': 7.786051344173235e-06,\n",
       " '0000100001': -8.090730776194685e-06,\n",
       " '0000111101': -2.361386723958156e-05,\n",
       " '0000100101': -0.00017235646658431093,\n",
       " '0000110101': 0.004434539078221136,\n",
       " '0000110001': -3.763794820067238e-05,\n",
       " '0000110111': -0.00011229567042373978,\n",
       " '0000111011': 3.3609593843714974e-06,\n",
       " '0000101011': 3.385596271088453e-06,\n",
       " '0000100110': 2.1793131733132496e-05,\n",
       " '0000111000': 1.5306985293512342e-05,\n",
       " '0000110010': 2.5030063686794875e-06,\n",
       " '0000101100': -1.3014137964016694e-05,\n",
       " '0000100010': -5.178171173804048e-06,\n",
       " '0000111110': -5.718080967116219e-06,\n",
       " '0000100000': -1.9721523258873645e-05,\n",
       " '0000111100': 1.7994748092288438e-05,\n",
       " '0000100100': -9.781465595334265e-05,\n",
       " '0000110100': 0.007543098592091681,\n",
       " '0000110000': 1.2913203161730686e-05,\n",
       " '0000110110': 4.8772565398805675e-05,\n",
       " '0000111010': 3.1380521684035225e-06,\n",
       " '0000101010': -2.2229557035911727e-06,\n",
       " '0000000110': 2.1656566322915674e-05,\n",
       " '0000011000': -4.041802342409134e-05,\n",
       " '0000010010': -3.608523843114632e-05,\n",
       " '0000001100': 1.6995145987171996e-05,\n",
       " '0000000010': 6.5589705444338555e-06,\n",
       " '0000011110': 6.195771502059419e-06,\n",
       " '0000000000': -9.535187974609385e-06,\n",
       " '0000011100': 0.00012201050387260432,\n",
       " '0000000100': 0.0004713195319478239,\n",
       " '0000010100': 0.008415335794706769,\n",
       " '0000010000': 0.0006265207773000518,\n",
       " '0000010110': 0.0004749351117333262,\n",
       " '0000011010': -6.748303621723977e-07,\n",
       " '0000001010': -2.1827551498572858e-06,\n",
       " '0000000111': 0.00016252384764203258,\n",
       " '0000011001': 0.00022555737811491103,\n",
       " '0000010011': 0.0003377888179296012,\n",
       " '0000001101': 0.0001207719994237532,\n",
       " '0000000011': 6.8755917286406325e-06,\n",
       " '0000011111': 5.972610694526799e-05,\n",
       " '0000000001': 0.0007749348181648352,\n",
       " '0000011101': 0.005607404137541696,\n",
       " '0000000101': 0.019250084693769525,\n",
       " '0000010101': 0.9084595897601905,\n",
       " '0000010001': 0.034377685955467585,\n",
       " '0000010111': 0.008879898368827611,\n",
       " '0000011011': -4.420270020058525e-07,\n",
       " '0000001011': 3.3634943045253194e-06}"
      ]
     },
     "execution_count": 55,
     "metadata": {},
     "output_type": "execute_result"
    }
   ],
   "source": [
    "direct_recombined_dist"
   ]
  },
  {
   "cell_type": "code",
   "execution_count": 56,
   "id": "13b192fc",
   "metadata": {},
   "outputs": [
    {
     "data": {
      "text/plain": [
       "{'0000100111': 1.2176584941784197e-06,\n",
       " '0000111001': 7.526393834646931e-06,\n",
       " '0000110011': 2.4874644601123514e-06,\n",
       " '0000101101': 2.8047341427060455e-08,\n",
       " '0000100001': 7.141145431491767e-07,\n",
       " '0000111101': 7.236097794451525e-05,\n",
       " '0000100101': 2.4810238764874843e-05,\n",
       " '0000110101': 0.00892483745183353,\n",
       " '0000110001': 0.00031614480546972816,\n",
       " '0000110111': 3.03460861633701e-05,\n",
       " '0000100110': 1.020835696813546e-06,\n",
       " '0000111000': 1.793049398614404e-07,\n",
       " '0000110010': 3.8808326002458884e-06,\n",
       " '0000101100': 2.3055974661286513e-07,\n",
       " '0000100000': 6.222395070726768e-06,\n",
       " '0000111100': 5.0918933928132633e-05,\n",
       " '0000100100': 4.7162388568092057e-05,\n",
       " '0000110100': 0.006804966152542309,\n",
       " '0000110000': 0.00032304337248323985,\n",
       " '0000110110': 0.00011450211430581396,\n",
       " '0000000110': 1.0070037774781703e-06,\n",
       " '0000011000': 1.149935724495724e-06,\n",
       " '0000010010': 2.0248665726139576e-06,\n",
       " '0000001100': 1.45465969206564e-06,\n",
       " '0000000000': 9.654392163857113e-06,\n",
       " '0000011100': 7.027635621916974e-05,\n",
       " '0000000100': 0.00039507821364424464,\n",
       " '0000010100': 0.007681736811965933,\n",
       " '0000010000': 0.0005895771252677356,\n",
       " '0000010110': 0.00038173606327775096,\n",
       " '0000000111': 5.1521632695267505e-05,\n",
       " '0000011001': 0.0001156894841191843,\n",
       " '0000010011': 0.0002249860874965049,\n",
       " '0000001101': 1.4661966437798215e-05,\n",
       " '0000000001': 0.0006594696762855857,\n",
       " '0000011101': 0.005475021054176265,\n",
       " '0000000101': 0.01907397037721584,\n",
       " '0000010101': 0.9056198555977428,\n",
       " '0000010001': 0.03416161195920808,\n",
       " '0000010111': 0.008736916607585953}"
      ]
     },
     "execution_count": 56,
     "metadata": {},
     "output_type": "execute_result"
    }
   ],
   "source": [
    "likely_recombined_dist"
   ]
  },
  {
   "cell_type": "code",
   "execution_count": null,
   "id": "5dbabd0b",
   "metadata": {},
   "outputs": [],
   "source": []
  },
  {
   "cell_type": "code",
   "execution_count": 57,
   "id": "04be761c",
   "metadata": {},
   "outputs": [],
   "source": [
    "from utils.utils import filter_results"
   ]
  },
  {
   "cell_type": "code",
   "execution_count": 58,
   "id": "9df8b215",
   "metadata": {},
   "outputs": [],
   "source": [
    "filter_direct_recombined = filter_results(direct_recombined_dist, [0,1,2,3,4])"
   ]
  },
  {
   "cell_type": "code",
   "execution_count": 59,
   "id": "ef48375a",
   "metadata": {},
   "outputs": [
    {
     "data": {
      "text/plain": [
       "{'00110': 2.1656566322915674e-05,\n",
       " '11000': -4.041802342409134e-05,\n",
       " '10010': -3.608523843114632e-05,\n",
       " '01100': 1.6995145987171996e-05,\n",
       " '00010': 6.5589705444338555e-06,\n",
       " '11110': 6.195771502059419e-06,\n",
       " '00000': -9.535187974609385e-06,\n",
       " '11100': 0.00012201050387260432,\n",
       " '00100': 0.0004713195319478239,\n",
       " '10100': 0.008415335794706769,\n",
       " '10000': 0.0006265207773000518,\n",
       " '10110': 0.0004749351117333262,\n",
       " '11010': -6.748303621723977e-07,\n",
       " '01010': -2.1827551498572858e-06,\n",
       " '00111': 0.00016252384764203258,\n",
       " '11001': 0.00022555737811491103,\n",
       " '10011': 0.0003377888179296012,\n",
       " '01101': 0.0001207719994237532,\n",
       " '00011': 6.8755917286406325e-06,\n",
       " '11111': 5.972610694526799e-05,\n",
       " '00001': 0.0007749348181648352,\n",
       " '11101': 0.005607404137541696,\n",
       " '00101': 0.019250084693769525,\n",
       " '10101': 0.9084595897601905,\n",
       " '10001': 0.034377685955467585,\n",
       " '10111': 0.008879898368827611,\n",
       " '11011': -4.420270020058525e-07,\n",
       " '01011': 3.3634943045253194e-06}"
      ]
     },
     "execution_count": 59,
     "metadata": {},
     "output_type": "execute_result"
    }
   ],
   "source": [
    "filter_direct_recombined"
   ]
  },
  {
   "cell_type": "code",
   "execution_count": 60,
   "id": "246437c1",
   "metadata": {},
   "outputs": [],
   "source": [
    "filter_likely_recombined = filter_results(likely_recombined_dist, [0,1,2,3,4])"
   ]
  },
  {
   "cell_type": "code",
   "execution_count": 61,
   "id": "a8fe450d",
   "metadata": {},
   "outputs": [
    {
     "data": {
      "text/plain": [
       "{'00110': 1.0070037774781703e-06,\n",
       " '11000': 1.149935724495724e-06,\n",
       " '10010': 2.0248665726139576e-06,\n",
       " '01100': 1.45465969206564e-06,\n",
       " '00000': 9.654392163857113e-06,\n",
       " '11100': 7.027635621916974e-05,\n",
       " '00100': 0.00039507821364424464,\n",
       " '10100': 0.007681736811965933,\n",
       " '10000': 0.0005895771252677356,\n",
       " '10110': 0.00038173606327775096,\n",
       " '00111': 5.1521632695267505e-05,\n",
       " '11001': 0.0001156894841191843,\n",
       " '10011': 0.0002249860874965049,\n",
       " '01101': 1.4661966437798215e-05,\n",
       " '00001': 0.0006594696762855857,\n",
       " '11101': 0.005475021054176265,\n",
       " '00101': 0.01907397037721584,\n",
       " '10101': 0.9056198555977428,\n",
       " '10001': 0.03416161195920808,\n",
       " '10111': 0.008736916607585953}"
      ]
     },
     "execution_count": 61,
     "metadata": {},
     "output_type": "execute_result"
    }
   ],
   "source": [
    "filter_likely_recombined"
   ]
  },
  {
   "cell_type": "code",
   "execution_count": 62,
   "id": "5fab80f3",
   "metadata": {},
   "outputs": [],
   "source": [
    "def norm_dict(dictionary):\n",
    "    total = total_counts(dictionary)\n",
    "    norm_dist = {}\n",
    "    for i in dictionary.keys():\n",
    "        norm_dist[i] = dictionary[i]/total\n",
    "    return norm_dist"
   ]
  },
  {
   "cell_type": "code",
   "execution_count": 63,
   "id": "f05e0129",
   "metadata": {},
   "outputs": [
    {
     "data": {
      "text/plain": [
       "{'01001': 1,\n",
       " '01101': 5,\n",
       " '10011': 7,\n",
       " '00110': 1,\n",
       " '10110': 5,\n",
       " '11001': 4,\n",
       " '10000': 25,\n",
       " '11101': 103,\n",
       " '11100': 1,\n",
       " '10111': 183,\n",
       " '00100': 19,\n",
       " '00001': 42,\n",
       " '00101': 993,\n",
       " '10100': 622,\n",
       " '10001': 1061,\n",
       " '00111': 8,\n",
       " '10101': 28920}"
      ]
     },
     "execution_count": 63,
     "metadata": {},
     "output_type": "execute_result"
    }
   ],
   "source": [
    "unmiti_dist = temp_frag_data[1][0][0].get_counts()[-1]\n",
    "unmiti_dist"
   ]
  },
  {
   "cell_type": "code",
   "execution_count": 64,
   "id": "1e8284f8",
   "metadata": {},
   "outputs": [],
   "source": [
    "unmiti_norm_dist = norm_dict(unmiti_dist)"
   ]
  },
  {
   "cell_type": "code",
   "execution_count": 65,
   "id": "a724f3dd",
   "metadata": {},
   "outputs": [],
   "source": [
    "norm_filter_dist = norm_dict(filter_likely_recombined)"
   ]
  },
  {
   "cell_type": "code",
   "execution_count": 66,
   "id": "c2138c6d",
   "metadata": {},
   "outputs": [
    {
     "data": {
      "text/plain": [
       "0.90375"
      ]
     },
     "execution_count": 66,
     "metadata": {},
     "output_type": "execute_result"
    }
   ],
   "source": [
    "unmiti_norm_dist['10101']"
   ]
  },
  {
   "cell_type": "code",
   "execution_count": 67,
   "id": "81d6bc37",
   "metadata": {},
   "outputs": [
    {
     "data": {
      "text/plain": [
       "0.9056198555977428"
      ]
     },
     "execution_count": 67,
     "metadata": {},
     "output_type": "execute_result"
    }
   ],
   "source": [
    "likely_recombined_dist['0000010101']"
   ]
  },
  {
   "cell_type": "code",
   "execution_count": 68,
   "id": "3287adab",
   "metadata": {},
   "outputs": [
    {
     "data": {
      "text/plain": [
       "0.9210311007120834"
      ]
     },
     "execution_count": 68,
     "metadata": {},
     "output_type": "execute_result"
    }
   ],
   "source": [
    "#normalized distribution after mitigation: 0.90375->0.9210311007120834\n",
    "norm_filter_dist['10101']"
   ]
  },
  {
   "cell_type": "code",
   "execution_count": 69,
   "id": "9b10b83e",
   "metadata": {},
   "outputs": [
    {
     "data": {
      "text/plain": [
       "{'00110': 1.0241403077230153e-06,\n",
       " '11000': 1.1695045769302184e-06,\n",
       " '10010': 2.0593244247486056e-06,\n",
       " '01100': 1.47941413724902e-06,\n",
       " '00000': 9.818684281733622e-06,\n",
       " '11100': 7.147227318669414e-05,\n",
       " '00100': 0.0004018013957301636,\n",
       " '10100': 0.007812459574040227,\n",
       " '10000': 0.0005996101623474187,\n",
       " '10110': 0.0003882321973938408,\n",
       " '00111': 5.23983940706392e-05,\n",
       " '11001': 0.00011765821193129214,\n",
       " '10011': 0.00022881475326646703,\n",
       " '01101': 1.4911474172455823e-05,\n",
       " '00001': 0.000670692098987442,\n",
       " '11101': 0.0055681913738755764,\n",
       " '00101': 0.019398558703068,\n",
       " '10101': 0.9210311007120834,\n",
       " '10001': 0.034742951880313115,\n",
       " '10111': 0.008885595727804875}"
      ]
     },
     "execution_count": 69,
     "metadata": {},
     "output_type": "execute_result"
    }
   ],
   "source": [
    "norm_filter_dist"
   ]
  },
  {
   "cell_type": "code",
   "execution_count": 70,
   "id": "7e67de89",
   "metadata": {},
   "outputs": [
    {
     "data": {
      "text/plain": [
       "32000"
      ]
     },
     "execution_count": 70,
     "metadata": {},
     "output_type": "execute_result"
    }
   ],
   "source": [
    "total_counts(unmiti_dist)"
   ]
  },
  {
   "cell_type": "code",
   "execution_count": 71,
   "id": "95574397",
   "metadata": {},
   "outputs": [],
   "source": [
    "unmiti_norm_dist = {}\n",
    "for i in unmiti_dist.keys():\n",
    "    unmiti_norm_dist[i] = unmiti_dist[i]/total_counts(unmiti_dist)"
   ]
  },
  {
   "cell_type": "code",
   "execution_count": 72,
   "id": "abb7b782",
   "metadata": {},
   "outputs": [
    {
     "data": {
      "text/plain": [
       "{'01001': 3.125e-05,\n",
       " '01101': 0.00015625,\n",
       " '10011': 0.00021875,\n",
       " '00110': 3.125e-05,\n",
       " '10110': 0.00015625,\n",
       " '11001': 0.000125,\n",
       " '10000': 0.00078125,\n",
       " '11101': 0.00321875,\n",
       " '11100': 3.125e-05,\n",
       " '10111': 0.00571875,\n",
       " '00100': 0.00059375,\n",
       " '00001': 0.0013125,\n",
       " '00101': 0.03103125,\n",
       " '10100': 0.0194375,\n",
       " '10001': 0.03315625,\n",
       " '00111': 0.00025,\n",
       " '10101': 0.90375}"
      ]
     },
     "execution_count": 72,
     "metadata": {},
     "output_type": "execute_result"
    }
   ],
   "source": [
    "unmiti_norm_dist"
   ]
  },
  {
   "cell_type": "code",
   "execution_count": null,
   "id": "29dbbc7a",
   "metadata": {},
   "outputs": [],
   "source": []
  },
  {
   "cell_type": "code",
   "execution_count": null,
   "id": "885a8632",
   "metadata": {},
   "outputs": [],
   "source": []
  },
  {
   "cell_type": "code",
   "execution_count": null,
   "id": "9519a9a1",
   "metadata": {},
   "outputs": [],
   "source": []
  },
  {
   "cell_type": "code",
   "execution_count": null,
   "id": "0b70a6cd",
   "metadata": {},
   "outputs": [],
   "source": []
  },
  {
   "cell_type": "code",
   "execution_count": null,
   "id": "94ee70ae",
   "metadata": {},
   "outputs": [],
   "source": []
  },
  {
   "cell_type": "code",
   "execution_count": null,
   "id": "f13268e0",
   "metadata": {},
   "outputs": [],
   "source": []
  }
 ],
 "metadata": {
  "kernelspec": {
   "display_name": "Python 3 (ipykernel)",
   "language": "python",
   "name": "python3"
  },
  "language_info": {
   "codemirror_mode": {
    "name": "ipython",
    "version": 3
   },
   "file_extension": ".py",
   "mimetype": "text/x-python",
   "name": "python",
   "nbconvert_exporter": "python",
   "pygments_lexer": "ipython3",
   "version": "3.7.11"
  }
 },
 "nbformat": 4,
 "nbformat_minor": 5
}
