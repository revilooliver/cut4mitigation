{
 "cells": [
  {
   "cell_type": "code",
   "execution_count": 11,
   "id": "d3cc2437",
   "metadata": {},
   "outputs": [],
   "source": [
    "import os\n",
    "import sys\n",
    "module_path = os.path.abspath(os.path.join('../..'))\n",
    "if module_path not in sys.path:\n",
    "    sys.path.append(module_path)"
   ]
  },
  {
   "cell_type": "code",
   "execution_count": 13,
   "id": "050ec390",
   "metadata": {},
   "outputs": [],
   "source": [
    "# author: Ji Liu email: ji.liu@anl.gov\n",
    "\n",
    "import itertools, numpy, qiskit\n",
    "from circuit_cutter import cut_circuit\n",
    "import mlrecon_methods as ml\n",
    "\n",
    "import numpy as np\n",
    "import qiskit\n",
    "from qiskit import *\n",
    "from qiskit import QuantumCircuit, QuantumRegister, ClassicalRegister, Aer, execute, transpile\n",
    "\n",
    "from qiskit.transpiler import PassManager\n",
    "\n",
    "from qiskit.converters import circuit_to_dag\n",
    "from qiskit.visualization import dag_drawer, plot_histogram\n",
    "from qiskit.compiler import assemble\n",
    "from qiskit.tools.monitor import job_monitor\n",
    "\n",
    "# The pulse simulator\n",
    "from qiskit.providers.aer import PulseSimulator\n",
    "\n",
    "from qiskit.tools.monitor import job_monitor, backend_monitor, backend_overview\n",
    "\n",
    "import qiskit.providers.aer.noise as noise\n",
    "from qiskit.providers.aer.noise import NoiseModel\n",
    "\n",
    "from utils.utils import filter_results, dict_to_list, H_distance, total_counts"
   ]
  },
  {
   "cell_type": "code",
   "execution_count": null,
   "id": "35eab9aa",
   "metadata": {},
   "outputs": [],
   "source": []
  },
  {
   "cell_type": "code",
   "execution_count": 14,
   "id": "0ab21beb",
   "metadata": {},
   "outputs": [
    {
     "data": {
      "text/plain": [
       "{'qiskit-terra': '0.22.0', 'qiskit-aer': '0.11.0', 'qiskit-ignis': '0.7.0', 'qiskit-ibmq-provider': '0.19.2', 'qiskit': '0.39.0', 'qiskit-nature': None, 'qiskit-finance': None, 'qiskit-optimization': None, 'qiskit-machine-learning': None}"
      ]
     },
     "execution_count": 14,
     "metadata": {},
     "output_type": "execute_result"
    }
   ],
   "source": [
    "qiskit.__qiskit_version__"
   ]
  },
  {
   "cell_type": "code",
   "execution_count": 15,
   "id": "da4a5c76",
   "metadata": {},
   "outputs": [],
   "source": [
    "numpy.set_printoptions(linewidth = 200)\n",
    "\n",
    "qubits = 5\n",
    "\n",
    "simulation_backend = \"qasm_simulator\"\n",
    "\n",
    "seed = 0\n",
    "print_circuits = True"
   ]
  },
  {
   "cell_type": "code",
   "execution_count": 4,
   "id": "cc3edfd5",
   "metadata": {},
   "outputs": [
    {
     "name": "stderr",
     "output_type": "stream",
     "text": [
      "/Users/revilooliver/Documents/quantum_computing/anaconda/anaconda3/envs/circ_cutting/lib/python3.8/site-packages/qiskit/providers/ibmq/ibmqfactory.py:192: UserWarning: Timestamps in IBMQ backend properties, jobs, and job results are all now in local time instead of UTC.\n",
      "  warnings.warn('Timestamps in IBMQ backend properties, jobs, and job results '\n"
     ]
    },
    {
     "data": {
      "text/plain": [
       "[<IBMQSimulator('ibmq_qasm_simulator') from IBMQ(hub='ibm-q-ornl', group='ornl', project='chm185')>,\n",
       " <IBMQBackend('ibmq_montreal') from IBMQ(hub='ibm-q-ornl', group='ornl', project='chm185')>,\n",
       " <IBMQBackend('ibmq_toronto') from IBMQ(hub='ibm-q-ornl', group='ornl', project='chm185')>,\n",
       " <IBMQBackend('ibmq_kolkata') from IBMQ(hub='ibm-q-ornl', group='ornl', project='chm185')>,\n",
       " <IBMQBackend('ibmq_mumbai') from IBMQ(hub='ibm-q-ornl', group='ornl', project='chm185')>,\n",
       " <IBMQBackend('ibmq_lima') from IBMQ(hub='ibm-q-ornl', group='ornl', project='chm185')>,\n",
       " <IBMQBackend('ibmq_belem') from IBMQ(hub='ibm-q-ornl', group='ornl', project='chm185')>,\n",
       " <IBMQBackend('ibmq_quito') from IBMQ(hub='ibm-q-ornl', group='ornl', project='chm185')>,\n",
       " <IBMQBackend('ibmq_guadalupe') from IBMQ(hub='ibm-q-ornl', group='ornl', project='chm185')>,\n",
       " <IBMQSimulator('simulator_statevector') from IBMQ(hub='ibm-q-ornl', group='ornl', project='chm185')>,\n",
       " <IBMQSimulator('simulator_mps') from IBMQ(hub='ibm-q-ornl', group='ornl', project='chm185')>,\n",
       " <IBMQSimulator('simulator_extended_stabilizer') from IBMQ(hub='ibm-q-ornl', group='ornl', project='chm185')>,\n",
       " <IBMQSimulator('simulator_stabilizer') from IBMQ(hub='ibm-q-ornl', group='ornl', project='chm185')>,\n",
       " <IBMQBackend('ibmq_jakarta') from IBMQ(hub='ibm-q-ornl', group='ornl', project='chm185')>,\n",
       " <IBMQBackend('ibmq_manila') from IBMQ(hub='ibm-q-ornl', group='ornl', project='chm185')>,\n",
       " <IBMQBackend('ibm_hanoi') from IBMQ(hub='ibm-q-ornl', group='ornl', project='chm185')>,\n",
       " <IBMQBackend('ibm_cairo') from IBMQ(hub='ibm-q-ornl', group='ornl', project='chm185')>,\n",
       " <IBMQBackend('ibm_auckland') from IBMQ(hub='ibm-q-ornl', group='ornl', project='chm185')>,\n",
       " <IBMQBackend('ibm_washington') from IBMQ(hub='ibm-q-ornl', group='ornl', project='chm185')>,\n",
       " <IBMQBackend('ibm_geneva') from IBMQ(hub='ibm-q-ornl', group='ornl', project='chm185')>]"
      ]
     },
     "execution_count": 4,
     "metadata": {},
     "output_type": "execute_result"
    }
   ],
   "source": [
    "IBMQ.load_account()\n",
    "provider = IBMQ.get_provider(hub='ibm-q-ornl', group='ornl', project='chm185')\n",
    "provider.backends()"
   ]
  },
  {
   "cell_type": "code",
   "execution_count": 5,
   "id": "97f1be7e",
   "metadata": {},
   "outputs": [],
   "source": [
    "device = provider.get_backend('ibmq_guadalupe')"
   ]
  },
  {
   "cell_type": "code",
   "execution_count": 8,
   "id": "b6f2eb58",
   "metadata": {},
   "outputs": [],
   "source": [
    "noisy_simulator = provider.get_backend('ibmq_qasm_simulator')"
   ]
  },
  {
   "cell_type": "code",
   "execution_count": 9,
   "id": "61848cfb",
   "metadata": {},
   "outputs": [],
   "source": [
    "front_layer = QuantumCircuit.from_qasm_file(\"qasm/vqe_5q_front.qasm\")"
   ]
  },
  {
   "cell_type": "code",
   "execution_count": 10,
   "id": "4101ca8c",
   "metadata": {},
   "outputs": [],
   "source": [
    "mid_layer = QuantumCircuit.from_qasm_file(\"qasm/vqe_5q_mid.qasm\")"
   ]
  },
  {
   "cell_type": "code",
   "execution_count": 11,
   "id": "1721959d",
   "metadata": {},
   "outputs": [],
   "source": [
    "end_layer = QuantumCircuit.from_qasm_file(\"qasm/vqe_5q_end.qasm\")"
   ]
  },
  {
   "cell_type": "code",
   "execution_count": 12,
   "id": "e6aa46cb",
   "metadata": {},
   "outputs": [],
   "source": [
    "orign_circuit = front_layer + mid_layer + end_layer"
   ]
  },
  {
   "cell_type": "code",
   "execution_count": 13,
   "id": "d4a1d3a6",
   "metadata": {},
   "outputs": [],
   "source": [
    "#checking circuit"
   ]
  },
  {
   "cell_type": "code",
   "execution_count": 14,
   "id": "6937b806",
   "metadata": {},
   "outputs": [],
   "source": [
    "def apply_checking_circuit(qc, ctrl_bits, ancilla_bits, side = None):\n",
    "    if len(ctrl_bits) != len(ancilla_bits):\n",
    "        print(\"Size mismatch\")\n",
    "        return None\n",
    "    if side == 'front':\n",
    "        for i in ancilla_bits:\n",
    "            qc.h(i)\n",
    "        for j,k in zip(ctrl_bits, ancilla_bits):\n",
    "            qc.cz(j, k)\n",
    "    elif side == 'end':\n",
    "        for j,k in zip(ctrl_bits, ancilla_bits):\n",
    "            qc.cz(j, k)\n",
    "        for i in ancilla_bits:\n",
    "            qc.h(i)\n",
    "    else:\n",
    "        print(\"Side undefined\")"
   ]
  },
  {
   "cell_type": "code",
   "execution_count": 15,
   "id": "f7f99e4b",
   "metadata": {},
   "outputs": [],
   "source": [
    "circuit = front_layer.copy()"
   ]
  },
  {
   "cell_type": "code",
   "execution_count": 16,
   "id": "4f530b86",
   "metadata": {},
   "outputs": [],
   "source": [
    "apply_checking_circuit(circuit, [2], [5], side = 'front')\n",
    "circuit += mid_layer\n",
    "apply_checking_circuit(circuit, [2], [5], side = 'end')\n",
    "circuit += end_layer"
   ]
  },
  {
   "cell_type": "code",
   "execution_count": 17,
   "id": "3d751a26",
   "metadata": {},
   "outputs": [
    {
     "data": {
      "text/html": [
       "<pre style=\"word-wrap: normal;white-space: pre;background: #fff0;line-height: 1.1;font-family: &quot;Courier New&quot;,Courier,monospace\">      ┌────────────┐   ┌────────────┐                                    \n",
       "q_0: ─┤ RY(-4.751) ├─■─┤ RY(4.6739) ├────────────────────────────────────\n",
       "      ├────────────┤ │ └────────────┘┌─────────────┐                     \n",
       "q_1: ─┤ RY(3.1415) ├─■───────■───────┤ RY(-3.1415) ├─────────────────────\n",
       "     ┌┴────────────┤         │       └─────────────┘       ┌────────────┐\n",
       "q_2: ┤ RY(-3.8492) ├─■───────■──────────────■───────────■──┤ RY(0.7076) ├\n",
       "     ├─────────────┤ │                      │           │  ├────────────┤\n",
       "q_3: ┤ RY(-3.1416) ├─┼──────────────────────■────────■──┼──┤ RY(3.1415) ├\n",
       "     ├─────────────┤ │                               │  │ ┌┴────────────┤\n",
       "q_4: ┤ RY(-6.8335) ├─┼───────────────────────────────■──┼─┤ RY(-3.6921) ├\n",
       "     └────┬───┬────┘ │                                  │ └────┬───┬────┘\n",
       "q_5: ─────┤ H ├──────■──────────────────────────────────■──────┤ H ├─────\n",
       "          └───┘                                                └───┘     \n",
       "q_6: ────────────────────────────────────────────────────────────────────\n",
       "                                                                         \n",
       "q_7: ────────────────────────────────────────────────────────────────────\n",
       "                                                                         \n",
       "q_8: ────────────────────────────────────────────────────────────────────\n",
       "                                                                         \n",
       "q_9: ────────────────────────────────────────────────────────────────────\n",
       "                                                                         </pre>"
      ],
      "text/plain": [
       "      ┌────────────┐   ┌────────────┐                                    \n",
       "q_0: ─┤ RY(-4.751) ├─■─┤ RY(4.6739) ├────────────────────────────────────\n",
       "      ├────────────┤ │ └────────────┘┌─────────────┐                     \n",
       "q_1: ─┤ RY(3.1415) ├─■───────■───────┤ RY(-3.1415) ├─────────────────────\n",
       "     ┌┴────────────┤         │       └─────────────┘       ┌────────────┐\n",
       "q_2: ┤ RY(-3.8492) ├─■───────■──────────────■───────────■──┤ RY(0.7076) ├\n",
       "     ├─────────────┤ │                      │           │  ├────────────┤\n",
       "q_3: ┤ RY(-3.1416) ├─┼──────────────────────■────────■──┼──┤ RY(3.1415) ├\n",
       "     ├─────────────┤ │                               │  │ ┌┴────────────┤\n",
       "q_4: ┤ RY(-6.8335) ├─┼───────────────────────────────■──┼─┤ RY(-3.6921) ├\n",
       "     └────┬───┬────┘ │                                  │ └────┬───┬────┘\n",
       "q_5: ─────┤ H ├──────■──────────────────────────────────■──────┤ H ├─────\n",
       "          └───┘                                                └───┘     \n",
       "q_6: ────────────────────────────────────────────────────────────────────\n",
       "                                                                         \n",
       "q_7: ────────────────────────────────────────────────────────────────────\n",
       "                                                                         \n",
       "q_8: ────────────────────────────────────────────────────────────────────\n",
       "                                                                         \n",
       "q_9: ────────────────────────────────────────────────────────────────────\n",
       "                                                                         "
      ]
     },
     "execution_count": 17,
     "metadata": {},
     "output_type": "execute_result"
    }
   ],
   "source": [
    "circuit.draw()"
   ]
  },
  {
   "cell_type": "code",
   "execution_count": 18,
   "id": "9d0659dc",
   "metadata": {},
   "outputs": [],
   "source": [
    "trans_qc = transpile(circuit, basis_gates = ['sx', 'cx', 'reset', 'id', 'x', 'rz'])"
   ]
  },
  {
   "cell_type": "code",
   "execution_count": 19,
   "id": "8fb37939",
   "metadata": {},
   "outputs": [
    {
     "name": "stderr",
     "output_type": "stream",
     "text": [
      "/Users/revilooliver/Documents/quantum_computing/anaconda/anaconda3/envs/circ_cutting/lib/python3.8/site-packages/qiskit/circuit/tools/pi_check.py:49: SymPyDeprecationWarning: \n",
      "\n",
      "The expr_free_symbols property is deprecated. Use free_symbols to get\n",
      "the free symbols of an expression.\n",
      "\n",
      "See https://docs.sympy.org/latest/explanation/active-deprecations.html#deprecated-expr-free-symbols\n",
      "for details.\n",
      "\n",
      "This has been deprecated since SymPy version 1.9. It\n",
      "will be removed in a future version of SymPy.\n",
      "\n",
      "  syms = inpt._symbol_expr.expr_free_symbols\n"
     ]
    },
    {
     "data": {
      "image/png": "[encoded data removed]",
      "text/plain": [
       "<Figure size 2043.33x869.556 with 1 Axes>"
      ]
     },
     "execution_count": 19,
     "metadata": {},
     "output_type": "execute_result"
    },
    {
     "data": {
      "image/png": "[encoded data removed]",
      "text/plain": [
       "<Figure size 2043.33x869.556 with 1 Axes>"
      ]
     },
     "metadata": {},
     "output_type": "display_data"
    }
   ],
   "source": [
    "trans_qc.draw(output = 'mpl')"
   ]
  },
  {
   "cell_type": "code",
   "execution_count": 20,
   "id": "95e1ee63",
   "metadata": {},
   "outputs": [
    {
     "name": "stdout",
     "output_type": "stream",
     "text": [
      "NoiseModel:\n",
      "  Basis gates: ['cx', 'id', 'u3']\n",
      "  Instructions with noise: ['measure']\n",
      "  Qubits with noise: [0, 1, 2, 3, 4, 5, 6, 7, 8, 9, 10, 11, 12, 13, 14, 15]\n",
      "  Specific qubit errors: [('measure', [0]), ('measure', [1]), ('measure', [2]), ('measure', [3]), ('measure', [4]), ('measure', [5]), ('measure', [6]), ('measure', [7]), ('measure', [8]), ('measure', [9]), ('measure', [10]), ('measure', [11]), ('measure', [12]), ('measure', [13]), ('measure', [14]), ('measure', [15])]\n"
     ]
    }
   ],
   "source": [
    "from qiskit import IBMQ, Aer\n",
    "from qiskit.providers.aer.noise import NoiseModel\n",
    "noise_model = NoiseModel.from_backend(device, gate_error = False, thermal_relaxation= False)\n",
    "print(noise_model)"
   ]
  },
  {
   "cell_type": "code",
   "execution_count": 21,
   "id": "d01b9b34",
   "metadata": {},
   "outputs": [],
   "source": [
    "from qiskit.providers.aer.noise import NoiseModel\n",
    "from qiskit.providers.aer.noise import QuantumError, ReadoutError\n",
    "from qiskit.providers.aer.noise import pauli_error\n",
    "from qiskit.providers.aer.noise import depolarizing_error\n",
    "from qiskit.providers.aer.noise import thermal_relaxation_error"
   ]
  },
  {
   "cell_type": "code",
   "execution_count": 22,
   "id": "c7b48708",
   "metadata": {},
   "outputs": [],
   "source": [
    "# p_gate1 = 0.4\n",
    "# error_gate1 = pauli_error([('X',p_gate1), ('I', 1 - p_gate1)])\n",
    "# error_gate2 = error_gate1.tensor(error_gate1)"
   ]
  },
  {
   "cell_type": "code",
   "execution_count": 23,
   "id": "1ad3f138",
   "metadata": {},
   "outputs": [],
   "source": [
    "# noise_model.add_all_qubit_quantum_error(error_gate2, [\"cx\"])"
   ]
  },
  {
   "cell_type": "code",
   "execution_count": 24,
   "id": "d2379bfd",
   "metadata": {},
   "outputs": [],
   "source": [
    "circuit = trans_qc"
   ]
  },
  {
   "cell_type": "code",
   "execution_count": 25,
   "id": "0b2c17cd",
   "metadata": {},
   "outputs": [],
   "source": [
    "cuts = []\n",
    "# for i in range(0, 5):\n",
    "#     if i == 0:\n",
    "#         cut = [(circuit.qubits[i], 5),(circuit.qubits[i], 6)]\n",
    "#     elif i == 3:\n",
    "#         cut = [(circuit.qubits[i], 4),(circuit.qubits[i], 12)]\n",
    "#     elif i == qubits-1:\n",
    "#         cut = [(circuit.qubits[i], 5),(circuit.qubits[i], 12)]\n",
    "#     else:\n",
    "#         cut = [(circuit.qubits[i], 5),(circuit.qubits[i], 13)]\n",
    "#     cuts += cut\n",
    "cuts = [(circuit.qubits[2], 5),(circuit.qubits[2], 13)]"
   ]
  },
  {
   "cell_type": "code",
   "execution_count": 26,
   "id": "4993ee93",
   "metadata": {},
   "outputs": [
    {
     "name": "stdout",
     "output_type": "stream",
     "text": [
      "[(Qubit(QuantumRegister(10, 'q'), 2), 5), (Qubit(QuantumRegister(10, 'q'), 2), 13)]\n"
     ]
    }
   ],
   "source": [
    "print(cuts)"
   ]
  },
  {
   "cell_type": "code",
   "execution_count": 27,
   "id": "7aa1870b",
   "metadata": {},
   "outputs": [
    {
     "name": "stdout",
     "output_type": "stream",
     "text": [
      "WARNING: some qubits are entirely unused\n",
      "unused qubits: [Qubit(QuantumRegister(10, 'q'), 6), Qubit(QuantumRegister(10, 'q'), 7), Qubit(QuantumRegister(10, 'q'), 8), Qubit(QuantumRegister(10, 'q'), 9)]\n"
     ]
    }
   ],
   "source": [
    "fragments, wire_path_map = circuit_cutter.cut_circuit(circuit, cuts)"
   ]
  },
  {
   "cell_type": "code",
   "execution_count": 28,
   "id": "6872220e",
   "metadata": {},
   "outputs": [
    {
     "name": "stdout",
     "output_type": "stream",
     "text": [
      "{Qubit(QuantumRegister(10, 'q'), 0): ((0, Qubit(QuantumRegister(5, 'q'), 0)),), Qubit(QuantumRegister(10, 'q'), 1): ((0, Qubit(QuantumRegister(5, 'q'), 1)),), Qubit(QuantumRegister(10, 'q'), 2): ((1, Qubit(QuantumRegister(3, 'q'), 0)), (0, Qubit(QuantumRegister(5, 'q'), 3)), (1, Qubit(QuantumRegister(3, 'q'), 1))), Qubit(QuantumRegister(10, 'q'), 3): ((0, Qubit(QuantumRegister(5, 'q'), 2)),), Qubit(QuantumRegister(10, 'q'), 4): ((0, Qubit(QuantumRegister(5, 'q'), 4)),), Qubit(QuantumRegister(10, 'q'), 5): ((1, Qubit(QuantumRegister(3, 'q'), 2)),), Qubit(QuantumRegister(10, 'q'), 6): ((2, Qubit(QuantumRegister(4, 'q'), 0)),), Qubit(QuantumRegister(10, 'q'), 7): ((2, Qubit(QuantumRegister(4, 'q'), 1)),), Qubit(QuantumRegister(10, 'q'), 8): ((2, Qubit(QuantumRegister(4, 'q'), 2)),), Qubit(QuantumRegister(10, 'q'), 9): ((2, Qubit(QuantumRegister(4, 'q'), 3)),)}\n"
     ]
    }
   ],
   "source": [
    "print(wire_path_map)"
   ]
  },
  {
   "cell_type": "code",
   "execution_count": 29,
   "id": "dd8a5b10",
   "metadata": {},
   "outputs": [],
   "source": [
    "total_variants = ml.fragment_variants(wire_path_map)"
   ]
  },
  {
   "cell_type": "code",
   "execution_count": 30,
   "id": "d79b8e01",
   "metadata": {},
   "outputs": [
    {
     "data": {
      "text/plain": [
       "25"
      ]
     },
     "execution_count": 30,
     "metadata": {},
     "output_type": "execute_result"
    }
   ],
   "source": [
    "total_variants"
   ]
  },
  {
   "cell_type": "code",
   "execution_count": 31,
   "id": "45286087",
   "metadata": {},
   "outputs": [],
   "source": [
    "shots = 32000 * total_variants"
   ]
  },
  {
   "cell_type": "code",
   "execution_count": 32,
   "id": "8600221e",
   "metadata": {},
   "outputs": [
    {
     "name": "stdout",
     "output_type": "stream",
     "text": [
      "total circuit:\n",
      "global phase: -152.446983303508\n",
      "         ┌────┐    ┌────────────┐    ┌────┐    ┌───────┐          ┌────────┐»\n",
      "q_0: ────┤ √X ├────┤ RZ(4.6738) ├────┤ √X ├────┤ RZ(π) ├────■─────┤ RZ(-π) ├»\n",
      "         ├────┤    ├────────────┤    ├────┤    └───────┘  ┌─┴─┐  ┌┴────────┤»\n",
      "q_1: ────┤ √X ├────┤ RZ(4.7123) ├────┤ √X ├───────────────┤ X ├──┤ RZ(π/2) ├»\n",
      "         ├────┤    ├────────────┤    ├────┤    ┌───────┐  └───┘  └─────────┘»\n",
      "q_2: ────┤ √X ├────┤ RZ(5.5756) ├────┤ √X ├────┤ RZ(π) ├──────────────■─────»\n",
      "     ┌───┴────┴───┐└───┬────┬───┘┌───┴────┴───┐└───────┘              │     »\n",
      "q_3: ┤ RZ(4.7124) ├────┤ √X ├────┤ RZ(4.7124) ├───────────────────────┼─────»\n",
      "     └─┬───────┬──┘    ├────┤    ├────────────┤  ┌────┐ ┌───────┐     │     »\n",
      "q_4: ──┤ RZ(π) ├───────┤ √X ├────┤ RZ(5.2627) ├──┤ √X ├─┤ RZ(π) ├─────┼─────»\n",
      "       └───────┘       └────┘    └────────────┘  └────┘ └───────┘   ┌─┴─┐   »\n",
      "q_5: ───────────────────────────────────────────────────────────────┤ X ├───»\n",
      "                                                                    └───┘   »\n",
      "q_6: ───────────────────────────────────────────────────────────────────────»\n",
      "                                                                            »\n",
      "q_7: ───────────────────────────────────────────────────────────────────────»\n",
      "                                                                            »\n",
      "q_8: ───────────────────────────────────────────────────────────────────────»\n",
      "                                                                            »\n",
      "q_9: ───────────────────────────────────────────────────────────────────────»\n",
      "                                                                            »\n",
      "«        ┌────┐  ┌────────────┐   ┌────┐                                      »\n",
      "«q_0: ───┤ √X ├──┤ RZ(4.7509) ├───┤ √X ├──────────────────────────────────────»\n",
      "«        ├────┤  └┬─────────┬─┘   └────┘        ┌───────┐ ┌────┐┌────────────┐»\n",
      "«q_1: ───┤ √X ├───┤ RZ(π/2) ├───────────────■───┤ RZ(π) ├─┤ √X ├┤ RZ(6.2831) ├»\n",
      "«     ┌──┴────┴─┐ └──┬────┬─┘  ┌─────────┐┌─┴─┐┌┴───────┴┐├────┤└┬─────────┬─┘»\n",
      "«q_2: ┤ RZ(π/2) ├────┤ √X ├────┤ RZ(π/2) ├┤ X ├┤ RZ(π/2) ├┤ √X ├─┤ RZ(π/2) ├──»\n",
      "«     └─────────┘    └────┘    └─────────┘└───┘└─────────┘└────┘ └─────────┘  »\n",
      "«q_3: ────────────────────────────────────────────────────────────────────────»\n",
      "«                                                                             »\n",
      "«q_4: ────────────────────────────────────────────────────────────────────────»\n",
      "«                                                                             »\n",
      "«q_5: ────────────────────────────────────────────────────────────────────────»\n",
      "«                                                                             »\n",
      "«q_6: ────────────────────────────────────────────────────────────────────────»\n",
      "«                                                                             »\n",
      "«q_7: ────────────────────────────────────────────────────────────────────────»\n",
      "«                                                                             »\n",
      "«q_8: ────────────────────────────────────────────────────────────────────────»\n",
      "«                                                                             »\n",
      "«q_9: ────────────────────────────────────────────────────────────────────────»\n",
      "«                                                                             »\n",
      "«                                                                   »\n",
      "«q_0: ──────────────────────────────────────────────────────────────»\n",
      "«     ┌────┐                                                        »\n",
      "«q_1: ┤ √X ├────────────────────────────────────────────────────────»\n",
      "«     └────┘        ┌────┐  ┌────────────┐   ┌────┐  ┌───────┐      »\n",
      "«q_2: ──■─────■─────┤ √X ├──┤ RZ(3.8492) ├───┤ √X ├──┤ RZ(π) ├──────»\n",
      "«     ┌─┴─┐   │  ┌──┴────┴─┐└───┬────┬───┘┌──┴────┴─┐└───────┘┌────┐»\n",
      "«q_3: ┤ X ├───┼──┤ RZ(π/2) ├────┤ √X ├────┤ RZ(π/2) ├────■────┤ √X ├»\n",
      "«     └───┘   │  └─────────┘    └────┘    └─────────┘  ┌─┴─┐  ├────┤»\n",
      "«q_4: ────────┼────────────────────────────────────────┤ X ├──┤ √X ├»\n",
      "«           ┌─┴─┐                                      └───┘  └────┘»\n",
      "«q_5: ──────┤ X ├───────────────────────────────────────────────────»\n",
      "«           └───┘                                                   »\n",
      "«q_6: ──────────────────────────────────────────────────────────────»\n",
      "«                                                                   »\n",
      "«q_7: ──────────────────────────────────────────────────────────────»\n",
      "«                                                                   »\n",
      "«q_8: ──────────────────────────────────────────────────────────────»\n",
      "«                                                                   »\n",
      "«q_9: ──────────────────────────────────────────────────────────────»\n",
      "«                                                                   »\n",
      "«                                  \n",
      "«q_0: ─────────────────────────────\n",
      "«                                  \n",
      "«q_1: ─────────────────────────────\n",
      "«                                  \n",
      "«q_2: ─────────────────────────────\n",
      "«     ┌────────────┐┌────┐┌───────┐\n",
      "«q_3: ┤ RZ(6.2831) ├┤ √X ├┤ RZ(π) ├\n",
      "«     ├────────────┤├────┤└───────┘\n",
      "«q_4: ┤ RZ(5.2629) ├┤ √X ├─────────\n",
      "«     └────────────┘└────┘         \n",
      "«q_5: ─────────────────────────────\n",
      "«                                  \n",
      "«q_6: ─────────────────────────────\n",
      "«                                  \n",
      "«q_7: ─────────────────────────────\n",
      "«                                  \n",
      "«q_8: ─────────────────────────────\n",
      "«                                  \n",
      "«q_9: ─────────────────────────────\n",
      "«                                  \n",
      "cuts:\n",
      " (Qubit(QuantumRegister(10, 'q'), 2), 5)\n",
      " (Qubit(QuantumRegister(10, 'q'), 2), 13)\n",
      "\n",
      "fragment 0:\n",
      "         ┌────┐    ┌────────────┐    ┌────┐    ┌───────┐          ┌────────┐»\n",
      "q_0: ────┤ √X ├────┤ RZ(4.6738) ├────┤ √X ├────┤ RZ(π) ├────■─────┤ RZ(-π) ├»\n",
      "         ├────┤    ├────────────┤    ├────┤    └───────┘  ┌─┴─┐  ┌┴────────┤»\n",
      "q_1: ────┤ √X ├────┤ RZ(4.7123) ├────┤ √X ├───────────────┤ X ├──┤ RZ(π/2) ├»\n",
      "     ┌───┴────┴───┐└───┬────┬───┘┌───┴────┴───┐           └───┘  └─────────┘»\n",
      "q_2: ┤ RZ(4.7124) ├────┤ √X ├────┤ RZ(4.7124) ├─────────────────────────────»\n",
      "     └┬─────────┬─┘    ├────┤    └┬─────────┬─┘                             »\n",
      "q_3: ─┤ RZ(π/2) ├──────┤ √X ├─────┤ RZ(π/2) ├───────────────────────────────»\n",
      "      └┬───────┬┘      ├────┤    ┌┴─────────┴─┐  ┌────┐ ┌───────┐           »\n",
      "q_4: ──┤ RZ(π) ├───────┤ √X ├────┤ RZ(5.2627) ├──┤ √X ├─┤ RZ(π) ├───────────»\n",
      "       └───────┘       └────┘    └────────────┘  └────┘ └───────┘           »\n",
      "«     ┌────┐┌────────────┐┌────┐                                     »\n",
      "«q_0: ┤ √X ├┤ RZ(4.7509) ├┤ √X ├─────────────────────────────────────»\n",
      "«     ├────┤└┬─────────┬─┘└────┘ ┌───────┐ ┌────┐┌────────────┐┌────┐»\n",
      "«q_1: ┤ √X ├─┤ RZ(π/2) ├────■────┤ RZ(π) ├─┤ √X ├┤ RZ(6.2831) ├┤ √X ├»\n",
      "«     └────┘ └─────────┘    │    └───────┘ └────┘└────────────┘├───┬┘»\n",
      "«q_2: ──────────────────────┼──────────────────────────────────┤ X ├─»\n",
      "«                         ┌─┴─┐ ┌─────────┐┌────┐ ┌─────────┐  └─┬─┘ »\n",
      "«q_3: ────────────────────┤ X ├─┤ RZ(π/2) ├┤ √X ├─┤ RZ(π/2) ├────■───»\n",
      "«                         └───┘ └─────────┘└────┘ └─────────┘        »\n",
      "«q_4: ───────────────────────────────────────────────────────────────»\n",
      "«                                                                    »\n",
      "«                                                                         \n",
      "«q_0: ────────────────────────────────────────────────────────────────────\n",
      "«                                                                         \n",
      "«q_1: ────────────────────────────────────────────────────────────────────\n",
      "«     ┌─────────┐┌────┐┌─────────┐     ┌────┐┌────────────┐┌────┐┌───────┐\n",
      "«q_2: ┤ RZ(π/2) ├┤ √X ├┤ RZ(π/2) ├──■──┤ √X ├┤ RZ(6.2831) ├┤ √X ├┤ RZ(π) ├\n",
      "«     └─────────┘└────┘└─────────┘  │  └────┘└────────────┘└────┘└───────┘\n",
      "«q_3: ──────────────────────────────┼─────────────────────────────────────\n",
      "«                                 ┌─┴─┐┌────┐┌────────────┐┌────┐         \n",
      "«q_4: ────────────────────────────┤ X ├┤ √X ├┤ RZ(5.2629) ├┤ √X ├─────────\n",
      "«                                 └───┘└────┘└────────────┘└────┘         \n",
      "\n",
      "fragment 1:\n",
      "     ┌────┐┌────────────┐┌────┐┌───────┐                                    »\n",
      "q_0: ┤ √X ├┤ RZ(5.5756) ├┤ √X ├┤ RZ(π) ├──■─────────────────────────────────»\n",
      "     └────┘└────────────┘└────┘└───────┘  │       ┌────┐┌────────────┐┌────┐»\n",
      "q_1: ─────────────────────────────────────┼────■──┤ √X ├┤ RZ(3.8492) ├┤ √X ├»\n",
      "                                        ┌─┴─┐┌─┴─┐└────┘└────────────┘└────┘»\n",
      "q_2: ───────────────────────────────────┤ X ├┤ X ├──────────────────────────»\n",
      "                                        └───┘└───┘                          »\n",
      "«              \n",
      "«q_0: ─────────\n",
      "«     ┌───────┐\n",
      "«q_1: ┤ RZ(π) ├\n",
      "«     └───────┘\n",
      "«q_2: ─────────\n",
      "«              \n",
      "\n",
      "fragment 2:\n",
      "     \n",
      "q_0: \n",
      "     \n",
      "q_1: \n",
      "     \n",
      "q_2: \n",
      "     \n",
      "q_3: \n",
      "     \n",
      "\n",
      "fragment_index, prep_cuts, meas_cuts:\n",
      "0 1 1\n",
      "1 1 1\n",
      "2 0 0\n",
      "\n",
      "total number of fragment variants: 25\n",
      "total number of shots: 800000\n",
      "\n"
     ]
    }
   ],
   "source": [
    "if print_circuits:\n",
    "    print(\"total circuit:\")\n",
    "    print(circuit)\n",
    "    print(\"cuts:\")\n",
    "    for cut in cuts:\n",
    "        print(\"\",cut)\n",
    "    print()\n",
    "    for idx, fragment in enumerate(fragments):\n",
    "        print(f\"fragment {idx}:\")\n",
    "        print(fragment)\n",
    "        print()\n",
    "    fragment_cuts = ml.fragment_cuts(wire_path_map)\n",
    "    print(\"fragment_index, prep_cuts, meas_cuts:\")\n",
    "    for frag_idx, frag_cuts in enumerate(fragment_cuts):\n",
    "        print(frag_idx, frag_cuts[\"prep\"], frag_cuts[\"meas\"])\n",
    "    print()\n",
    "    print(\"total number of fragment variants:\", total_variants)\n",
    "    print(\"total number of shots:\", ( shots // total_variants ) * total_variants)\n",
    "    print()"
   ]
  },
  {
   "cell_type": "code",
   "execution_count": 33,
   "id": "956041cd",
   "metadata": {},
   "outputs": [
    {
     "name": "stdout",
     "output_type": "stream",
     "text": [
      "[{'prep': 1, 'meas': 1}, {'prep': 1, 'meas': 1}, {'prep': 0, 'meas': 0}]\n"
     ]
    }
   ],
   "source": [
    "print(fragment_cuts)"
   ]
  },
  {
   "cell_type": "code",
   "execution_count": 34,
   "id": "398d7b33",
   "metadata": {},
   "outputs": [],
   "source": [
    "# list of all possible measurement outcomes (bitstrings)\n",
    "all_bits = [ \"\".join(bits) for bits in itertools.product([\"0\",\"1\"], repeat = qubits) ]"
   ]
  },
  {
   "cell_type": "code",
   "execution_count": 35,
   "id": "05e2a6c7",
   "metadata": {},
   "outputs": [
    {
     "name": "stdout",
     "output_type": "stream",
     "text": [
      "['00000', '00001', '00010', '00011', '00100', '00101', '00110', '00111', '01000', '01001', '01010', '01011', '01100', '01101', '01110', '01111', '10000', '10001', '10010', '10011', '10100', '10101', '10110', '10111', '11000', '11001', '11010', '11011', '11100', '11101', '11110', '11111']\n"
     ]
    }
   ],
   "source": [
    "print(all_bits)"
   ]
  },
  {
   "cell_type": "code",
   "execution_count": 36,
   "id": "991f5ee3",
   "metadata": {},
   "outputs": [],
   "source": [
    "# # get the actual state / probability distribution for the full circuit\n",
    "# actual_state = ml.get_statevector(circuit)\n",
    "# actual_dist = { \"\".join(bits) : abs(amp)**2\n",
    "#                 for bits, amp in zip(all_bits, actual_state)\n",
    "#                 if amp != 0 }\n",
    "\n",
    "# # get a simulated probability distribution for the full circuit\n",
    "# circuit.measure_active()\n",
    "# full_circuit_result = ml.run_circuits(circuit, shots, backend = simulation_backend)\n",
    "# full_circuit_dist = {}\n",
    "# for part in full_circuit_result:\n",
    "#     for bits, counts in part.get_counts(circuit).items():\n",
    "#         if bits not in full_circuit_dist:\n",
    "#             full_circuit_dist[bits] = 0\n",
    "#         full_circuit_dist[bits] += counts / shots"
   ]
  },
  {
   "cell_type": "code",
   "execution_count": 37,
   "id": "7e93e1dc",
   "metadata": {},
   "outputs": [
    {
     "data": {
      "text/plain": [
       "{Qubit(QuantumRegister(10, 'q'), 0): ((0, Qubit(QuantumRegister(5, 'q'), 0)),),\n",
       " Qubit(QuantumRegister(10, 'q'), 1): ((0, Qubit(QuantumRegister(5, 'q'), 1)),),\n",
       " Qubit(QuantumRegister(10, 'q'), 2): ((1, Qubit(QuantumRegister(3, 'q'), 0)),\n",
       "  (0, Qubit(QuantumRegister(5, 'q'), 3)),\n",
       "  (1, Qubit(QuantumRegister(3, 'q'), 1))),\n",
       " Qubit(QuantumRegister(10, 'q'), 3): ((0, Qubit(QuantumRegister(5, 'q'), 2)),),\n",
       " Qubit(QuantumRegister(10, 'q'), 4): ((0, Qubit(QuantumRegister(5, 'q'), 4)),),\n",
       " Qubit(QuantumRegister(10, 'q'), 5): ((1, Qubit(QuantumRegister(3, 'q'), 2)),),\n",
       " Qubit(QuantumRegister(10, 'q'), 6): ((2, Qubit(QuantumRegister(4, 'q'), 0)),),\n",
       " Qubit(QuantumRegister(10, 'q'), 7): ((2, Qubit(QuantumRegister(4, 'q'), 1)),),\n",
       " Qubit(QuantumRegister(10, 'q'), 8): ((2, Qubit(QuantumRegister(4, 'q'), 2)),),\n",
       " Qubit(QuantumRegister(10, 'q'), 9): ((2, Qubit(QuantumRegister(4, 'q'), 3)),)}"
      ]
     },
     "execution_count": 37,
     "metadata": {},
     "output_type": "execute_result"
    }
   ],
   "source": [
    "wire_path_map"
   ]
  },
  {
   "cell_type": "code",
   "execution_count": 38,
   "id": "6a5762e7",
   "metadata": {},
   "outputs": [],
   "source": [
    "orign_qc = QuantumCircuit.from_qasm_file(\"qasm/vqe_5q.qasm\")\n",
    "orign_qc.measure_all()"
   ]
  },
  {
   "cell_type": "code",
   "execution_count": 39,
   "id": "6cc45566",
   "metadata": {},
   "outputs": [],
   "source": [
    "orign_qc = transpile(orign_qc, basis_gates = ['sx', 'cx', 'reset', 'id', 'x', 'rz'])"
   ]
  },
  {
   "cell_type": "code",
   "execution_count": 40,
   "id": "c3eb407d",
   "metadata": {},
   "outputs": [
    {
     "data": {
      "text/html": [
       "<pre style=\"word-wrap: normal;white-space: pre;background: #fff0;line-height: 1.1;font-family: &quot;Courier New&quot;,Courier,monospace\">global phase: -110.035482480046\n",
       "            ┌────┐    ┌────────────┐    ┌────┐    ┌───────┐          ┌────────┐»\n",
       "   q_0: ────┤ √X ├────┤ RZ(4.6738) ├────┤ √X ├────┤ RZ(π) ├────■─────┤ RZ(-π) ├»\n",
       "            ├────┤    ├────────────┤    ├────┤    └───────┘  ┌─┴─┐  ┌┴────────┤»\n",
       "   q_1: ────┤ √X ├────┤ RZ(4.7123) ├────┤ √X ├───────────────┤ X ├──┤ RZ(π/2) ├»\n",
       "            ├────┤    ├────────────┤    ├────┤               └───┘  └─────────┘»\n",
       "   q_2: ────┤ √X ├────┤ RZ(4.0048) ├────┤ √X ├─────────────────────────────────»\n",
       "        ┌───┴────┴───┐└───┬────┬───┘┌───┴────┴───┐                             »\n",
       "   q_3: ┤ RZ(4.7124) ├────┤ √X ├────┤ RZ(4.7124) ├─────────────────────────────»\n",
       "        └─┬───────┬──┘    ├────┤    ├────────────┤  ┌────┐ ┌───────┐           »\n",
       "   q_4: ──┤ RZ(π) ├───────┤ √X ├────┤ RZ(5.2627) ├──┤ √X ├─┤ RZ(π) ├───────────»\n",
       "          └───────┘       └────┘    └────────────┘  └────┘ └───────┘           »\n",
       "meas: 5/═══════════════════════════════════════════════════════════════════════»\n",
       "                                                                               »\n",
       "«        ┌────┐┌────────────┐┌────┐                                     »\n",
       "«   q_0: ┤ √X ├┤ RZ(4.7509) ├┤ √X ├─────────────────────────────────────»\n",
       "«        ├────┤└┬─────────┬─┘└────┘ ┌───────┐ ┌────┐┌────────────┐┌────┐»\n",
       "«   q_1: ┤ √X ├─┤ RZ(π/2) ├────■────┤ RZ(π) ├─┤ √X ├┤ RZ(6.2831) ├┤ √X ├»\n",
       "«        └────┘ └─────────┘  ┌─┴─┐ ┌┴───────┴┐├────┤└┬─────────┬─┘└────┘»\n",
       "«   q_2: ────────────────────┤ X ├─┤ RZ(π/2) ├┤ √X ├─┤ RZ(π/2) ├────■───»\n",
       "«                            └───┘ └─────────┘└────┘ └─────────┘  ┌─┴─┐ »\n",
       "«   q_3: ─────────────────────────────────────────────────────────┤ X ├─»\n",
       "«                                                                 └───┘ »\n",
       "«   q_4: ───────────────────────────────────────────────────────────────»\n",
       "«                                                                       »\n",
       "«meas: 5/═══════════════════════════════════════════════════════════════»\n",
       "«                                                                       »\n",
       "«                                                                         »\n",
       "«   q_0: ─────────────────────────────────────────────────────────────────»\n",
       "«                                                                         »\n",
       "«   q_1: ─────────────────────────────────────────────────────────────────»\n",
       "«           ┌────┐  ┌────────────┐   ┌────┐  ┌───────┐                    »\n",
       "«   q_2: ───┤ √X ├──┤ RZ(3.8492) ├───┤ √X ├──┤ RZ(π) ├────────────────────»\n",
       "«        ┌──┴────┴─┐└───┬────┬───┘┌──┴────┴─┐└───────┘┌────┐┌────────────┐»\n",
       "«   q_3: ┤ RZ(π/2) ├────┤ √X ├────┤ RZ(π/2) ├────■────┤ √X ├┤ RZ(6.2831) ├»\n",
       "«        └─────────┘    └────┘    └─────────┘  ┌─┴─┐  ├────┤├────────────┤»\n",
       "«   q_4: ──────────────────────────────────────┤ X ├──┤ √X ├┤ RZ(5.2629) ├»\n",
       "«                                              └───┘  └────┘└────────────┘»\n",
       "«meas: 5/═════════════════════════════════════════════════════════════════»\n",
       "«                                                                         »\n",
       "«                        ░ ┌─┐            \n",
       "«   q_0: ────────────────░─┤M├────────────\n",
       "«                        ░ └╥┘┌─┐         \n",
       "«   q_1: ────────────────░──╫─┤M├─────────\n",
       "«                        ░  ║ └╥┘┌─┐      \n",
       "«   q_2: ────────────────░──╫──╫─┤M├──────\n",
       "«        ┌────┐┌───────┐ ░  ║  ║ └╥┘┌─┐   \n",
       "«   q_3: ┤ √X ├┤ RZ(π) ├─░──╫──╫──╫─┤M├───\n",
       "«        ├────┤└───────┘ ░  ║  ║  ║ └╥┘┌─┐\n",
       "«   q_4: ┤ √X ├──────────░──╫──╫──╫──╫─┤M├\n",
       "«        └────┘          ░  ║  ║  ║  ║ └╥┘\n",
       "«meas: 5/═══════════════════╩══╩══╩══╩══╩═\n",
       "«                           0  1  2  3  4 </pre>"
      ],
      "text/plain": [
       "global phase: -110.035482480046\n",
       "            ┌────┐    ┌────────────┐    ┌────┐    ┌───────┐          ┌────────┐»\n",
       "   q_0: ────┤ √X ├────┤ RZ(4.6738) ├────┤ √X ├────┤ RZ(π) ├────■─────┤ RZ(-π) ├»\n",
       "            ├────┤    ├────────────┤    ├────┤    └───────┘  ┌─┴─┐  ┌┴────────┤»\n",
       "   q_1: ────┤ √X ├────┤ RZ(4.7123) ├────┤ √X ├───────────────┤ X ├──┤ RZ(π/2) ├»\n",
       "            ├────┤    ├────────────┤    ├────┤               └───┘  └─────────┘»\n",
       "   q_2: ────┤ √X ├────┤ RZ(4.0048) ├────┤ √X ├─────────────────────────────────»\n",
       "        ┌───┴────┴───┐└───┬────┬───┘┌───┴────┴───┐                             »\n",
       "   q_3: ┤ RZ(4.7124) ├────┤ √X ├────┤ RZ(4.7124) ├─────────────────────────────»\n",
       "        └─┬───────┬──┘    ├────┤    ├────────────┤  ┌────┐ ┌───────┐           »\n",
       "   q_4: ──┤ RZ(π) ├───────┤ √X ├────┤ RZ(5.2627) ├──┤ √X ├─┤ RZ(π) ├───────────»\n",
       "          └───────┘       └────┘    └────────────┘  └────┘ └───────┘           »\n",
       "meas: 5/═══════════════════════════════════════════════════════════════════════»\n",
       "                                                                               »\n",
       "«        ┌────┐┌────────────┐┌────┐                                     »\n",
       "«   q_0: ┤ √X ├┤ RZ(4.7509) ├┤ √X ├─────────────────────────────────────»\n",
       "«        ├────┤└┬─────────┬─┘└────┘ ┌───────┐ ┌────┐┌────────────┐┌────┐»\n",
       "«   q_1: ┤ √X ├─┤ RZ(π/2) ├────■────┤ RZ(π) ├─┤ √X ├┤ RZ(6.2831) ├┤ √X ├»\n",
       "«        └────┘ └─────────┘  ┌─┴─┐ ┌┴───────┴┐├────┤└┬─────────┬─┘└────┘»\n",
       "«   q_2: ────────────────────┤ X ├─┤ RZ(π/2) ├┤ √X ├─┤ RZ(π/2) ├────■───»\n",
       "«                            └───┘ └─────────┘└────┘ └─────────┘  ┌─┴─┐ »\n",
       "«   q_3: ─────────────────────────────────────────────────────────┤ X ├─»\n",
       "«                                                                 └───┘ »\n",
       "«   q_4: ───────────────────────────────────────────────────────────────»\n",
       "«                                                                       »\n",
       "«meas: 5/═══════════════════════════════════════════════════════════════»\n",
       "«                                                                       »\n",
       "«                                                                         »\n",
       "«   q_0: ─────────────────────────────────────────────────────────────────»\n",
       "«                                                                         »\n",
       "«   q_1: ─────────────────────────────────────────────────────────────────»\n",
       "«           ┌────┐  ┌────────────┐   ┌────┐  ┌───────┐                    »\n",
       "«   q_2: ───┤ √X ├──┤ RZ(3.8492) ├───┤ √X ├──┤ RZ(π) ├────────────────────»\n",
       "«        ┌──┴────┴─┐└───┬────┬───┘┌──┴────┴─┐└───────┘┌────┐┌────────────┐»\n",
       "«   q_3: ┤ RZ(π/2) ├────┤ √X ├────┤ RZ(π/2) ├────■────┤ √X ├┤ RZ(6.2831) ├»\n",
       "«        └─────────┘    └────┘    └─────────┘  ┌─┴─┐  ├────┤├────────────┤»\n",
       "«   q_4: ──────────────────────────────────────┤ X ├──┤ √X ├┤ RZ(5.2629) ├»\n",
       "«                                              └───┘  └────┘└────────────┘»\n",
       "«meas: 5/═════════════════════════════════════════════════════════════════»\n",
       "«                                                                         »\n",
       "«                        ░ ┌─┐            \n",
       "«   q_0: ────────────────░─┤M├────────────\n",
       "«                        ░ └╥┘┌─┐         \n",
       "«   q_1: ────────────────░──╫─┤M├─────────\n",
       "«                        ░  ║ └╥┘┌─┐      \n",
       "«   q_2: ────────────────░──╫──╫─┤M├──────\n",
       "«        ┌────┐┌───────┐ ░  ║  ║ └╥┘┌─┐   \n",
       "«   q_3: ┤ √X ├┤ RZ(π) ├─░──╫──╫──╫─┤M├───\n",
       "«        ├────┤└───────┘ ░  ║  ║  ║ └╥┘┌─┐\n",
       "«   q_4: ┤ √X ├──────────░──╫──╫──╫──╫─┤M├\n",
       "«        └────┘          ░  ║  ║  ║  ║ └╥┘\n",
       "«meas: 5/═══════════════════╩══╩══╩══╩══╩═\n",
       "«                           0  1  2  3  4 "
      ]
     },
     "execution_count": 40,
     "metadata": {},
     "output_type": "execute_result"
    }
   ],
   "source": [
    "orign_qc.draw()"
   ]
  },
  {
   "cell_type": "code",
   "execution_count": 41,
   "id": "1d356082",
   "metadata": {},
   "outputs": [
    {
     "data": {
      "text/plain": [
       "3"
      ]
     },
     "execution_count": 41,
     "metadata": {},
     "output_type": "execute_result"
    }
   ],
   "source": [
    "len(fragments)"
   ]
  },
  {
   "cell_type": "code",
   "execution_count": 42,
   "id": "3854951e",
   "metadata": {},
   "outputs": [],
   "source": [
    "temp_frag_data = [0] * len(fragments)"
   ]
  },
  {
   "cell_type": "code",
   "execution_count": 43,
   "id": "7cf11c70",
   "metadata": {},
   "outputs": [
    {
     "data": {
      "text/html": [
       "<pre style=\"word-wrap: normal;white-space: pre;background: #fff0;line-height: 1.1;font-family: &quot;Courier New&quot;,Courier,monospace\">         ┌────┐    ┌────────────┐    ┌────┐    ┌───────┐          ┌────────┐»\n",
       "q_0: ────┤ √X ├────┤ RZ(4.6738) ├────┤ √X ├────┤ RZ(π) ├────■─────┤ RZ(-π) ├»\n",
       "         ├────┤    ├────────────┤    ├────┤    └───────┘  ┌─┴─┐  ┌┴────────┤»\n",
       "q_1: ────┤ √X ├────┤ RZ(4.7123) ├────┤ √X ├───────────────┤ X ├──┤ RZ(π/2) ├»\n",
       "     ┌───┴────┴───┐└───┬────┬───┘┌───┴────┴───┐           └───┘  └─────────┘»\n",
       "q_2: ┤ RZ(4.7124) ├────┤ √X ├────┤ RZ(4.7124) ├─────────────────────────────»\n",
       "     └┬─────────┬─┘    ├────┤    └┬─────────┬─┘                             »\n",
       "q_3: ─┤ RZ(π/2) ├──────┤ √X ├─────┤ RZ(π/2) ├───────────────────────────────»\n",
       "      └┬───────┬┘      ├────┤    ┌┴─────────┴─┐  ┌────┐ ┌───────┐           »\n",
       "q_4: ──┤ RZ(π) ├───────┤ √X ├────┤ RZ(5.2627) ├──┤ √X ├─┤ RZ(π) ├───────────»\n",
       "       └───────┘       └────┘    └────────────┘  └────┘ └───────┘           »\n",
       "«     ┌────┐┌────────────┐┌────┐                                     »\n",
       "«q_0: ┤ √X ├┤ RZ(4.7509) ├┤ √X ├─────────────────────────────────────»\n",
       "«     ├────┤└┬─────────┬─┘└────┘ ┌───────┐ ┌────┐┌────────────┐┌────┐»\n",
       "«q_1: ┤ √X ├─┤ RZ(π/2) ├────■────┤ RZ(π) ├─┤ √X ├┤ RZ(6.2831) ├┤ √X ├»\n",
       "«     └────┘ └─────────┘    │    └───────┘ └────┘└────────────┘├───┬┘»\n",
       "«q_2: ──────────────────────┼──────────────────────────────────┤ X ├─»\n",
       "«                         ┌─┴─┐ ┌─────────┐┌────┐ ┌─────────┐  └─┬─┘ »\n",
       "«q_3: ────────────────────┤ X ├─┤ RZ(π/2) ├┤ √X ├─┤ RZ(π/2) ├────■───»\n",
       "«                         └───┘ └─────────┘└────┘ └─────────┘        »\n",
       "«q_4: ───────────────────────────────────────────────────────────────»\n",
       "«                                                                    »\n",
       "«                                                                         \n",
       "«q_0: ────────────────────────────────────────────────────────────────────\n",
       "«                                                                         \n",
       "«q_1: ────────────────────────────────────────────────────────────────────\n",
       "«     ┌─────────┐┌────┐┌─────────┐     ┌────┐┌────────────┐┌────┐┌───────┐\n",
       "«q_2: ┤ RZ(π/2) ├┤ √X ├┤ RZ(π/2) ├──■──┤ √X ├┤ RZ(6.2831) ├┤ √X ├┤ RZ(π) ├\n",
       "«     └─────────┘└────┘└─────────┘  │  └────┘└────────────┘└────┘└───────┘\n",
       "«q_3: ──────────────────────────────┼─────────────────────────────────────\n",
       "«                                 ┌─┴─┐┌────┐┌────────────┐┌────┐         \n",
       "«q_4: ────────────────────────────┤ X ├┤ √X ├┤ RZ(5.2629) ├┤ √X ├─────────\n",
       "«                                 └───┘└────┘└────────────┘└────┘         </pre>"
      ],
      "text/plain": [
       "         ┌────┐    ┌────────────┐    ┌────┐    ┌───────┐          ┌────────┐»\n",
       "q_0: ────┤ √X ├────┤ RZ(4.6738) ├────┤ √X ├────┤ RZ(π) ├────■─────┤ RZ(-π) ├»\n",
       "         ├────┤    ├────────────┤    ├────┤    └───────┘  ┌─┴─┐  ┌┴────────┤»\n",
       "q_1: ────┤ √X ├────┤ RZ(4.7123) ├────┤ √X ├───────────────┤ X ├──┤ RZ(π/2) ├»\n",
       "     ┌───┴────┴───┐└───┬────┬───┘┌───┴────┴───┐           └───┘  └─────────┘»\n",
       "q_2: ┤ RZ(4.7124) ├────┤ √X ├────┤ RZ(4.7124) ├─────────────────────────────»\n",
       "     └┬─────────┬─┘    ├────┤    └┬─────────┬─┘                             »\n",
       "q_3: ─┤ RZ(π/2) ├──────┤ √X ├─────┤ RZ(π/2) ├───────────────────────────────»\n",
       "      └┬───────┬┘      ├────┤    ┌┴─────────┴─┐  ┌────┐ ┌───────┐           »\n",
       "q_4: ──┤ RZ(π) ├───────┤ √X ├────┤ RZ(5.2627) ├──┤ √X ├─┤ RZ(π) ├───────────»\n",
       "       └───────┘       └────┘    └────────────┘  └────┘ └───────┘           »\n",
       "«     ┌────┐┌────────────┐┌────┐                                     »\n",
       "«q_0: ┤ √X ├┤ RZ(4.7509) ├┤ √X ├─────────────────────────────────────»\n",
       "«     ├────┤└┬─────────┬─┘└────┘ ┌───────┐ ┌────┐┌────────────┐┌────┐»\n",
       "«q_1: ┤ √X ├─┤ RZ(π/2) ├────■────┤ RZ(π) ├─┤ √X ├┤ RZ(6.2831) ├┤ √X ├»\n",
       "«     └────┘ └─────────┘    │    └───────┘ └────┘└────────────┘├───┬┘»\n",
       "«q_2: ──────────────────────┼──────────────────────────────────┤ X ├─»\n",
       "«                         ┌─┴─┐ ┌─────────┐┌────┐ ┌─────────┐  └─┬─┘ »\n",
       "«q_3: ────────────────────┤ X ├─┤ RZ(π/2) ├┤ √X ├─┤ RZ(π/2) ├────■───»\n",
       "«                         └───┘ └─────────┘└────┘ └─────────┘        »\n",
       "«q_4: ───────────────────────────────────────────────────────────────»\n",
       "«                                                                    »\n",
       "«                                                                         \n",
       "«q_0: ────────────────────────────────────────────────────────────────────\n",
       "«                                                                         \n",
       "«q_1: ────────────────────────────────────────────────────────────────────\n",
       "«     ┌─────────┐┌────┐┌─────────┐     ┌────┐┌────────────┐┌────┐┌───────┐\n",
       "«q_2: ┤ RZ(π/2) ├┤ √X ├┤ RZ(π/2) ├──■──┤ √X ├┤ RZ(6.2831) ├┤ √X ├┤ RZ(π) ├\n",
       "«     └─────────┘└────┘└─────────┘  │  └────┘└────────────┘└────┘└───────┘\n",
       "«q_3: ──────────────────────────────┼─────────────────────────────────────\n",
       "«                                 ┌─┴─┐┌────┐┌────────────┐┌────┐         \n",
       "«q_4: ────────────────────────────┤ X ├┤ √X ├┤ RZ(5.2629) ├┤ √X ├─────────\n",
       "«                                 └───┘└────┘└────────────┘└────┘         "
      ]
     },
     "execution_count": 43,
     "metadata": {},
     "output_type": "execute_result"
    }
   ],
   "source": [
    "fragments[0].draw()"
   ]
  },
  {
   "cell_type": "code",
   "execution_count": 44,
   "id": "808001a3",
   "metadata": {},
   "outputs": [
    {
     "name": "stderr",
     "output_type": "stream",
     "text": [
      "/Users/revilooliver/Documents/quantum_computing/anaconda/anaconda3/envs/circ_cutting/lib/python3.8/site-packages/qiskit/ignis/verification/tomography/basis/sicbasis.py:48: DeprecationWarning: The QuantumCircuit.u3 method is deprecated as of 0.16.0. It will be removed no earlier than 3 months after the release date. You should use QuantumCircuit.u instead, which acts identically. Alternatively, you can decompose u3 in terms of QuantumCircuit.p and QuantumCircuit.sx: u3(ϴ,φ,λ) = p(φ+π) sx p(ϴ+π) sx p(λ) (2 pulses on hardware).\n",
      "  circ.u3(theta, np.pi, 0.0, qubit)\n"
     ]
    },
    {
     "name": "stdout",
     "output_type": "stream",
     "text": [
      "Job Status: job has successfully run\n",
      "job_id:  635bff75b0c060d788abe313\n",
      "Job Status: job has successfully run\n",
      "job_id:  eb0002fe-71c3-4147-b894-912ce994edc7\n",
      "Job Status: job has successfully run\n",
      "job_id:  4adfb469-3575-4342-a3ef-5da14300fd74\n"
     ]
    }
   ],
   "source": [
    "for i in range(0, len(fragments)):\n",
    "    if i == 0:\n",
    "        temp_frag_data[i] = ml.collect_fragment_raw_data(fragments[i], i, wire_path_map,\n",
    "                                     shots = shots // total_variants,\n",
    "                                     tomography_backend = device, initial_layout = [5,3,1,2,4], opt_lvl = 3, extra_qc = [orign_qc])\n",
    "    else:\n",
    "        temp_frag_data[i] = ml.collect_fragment_raw_data(fragments[i], i, wire_path_map,\n",
    "                                     shots = shots // total_variants,\n",
    "                                     tomography_backend = simulation_backend)"
   ]
  },
  {
   "cell_type": "code",
   "execution_count": 45,
   "id": "f276c589",
   "metadata": {},
   "outputs": [],
   "source": [
    "#     temp_frag_data[i] = ml.collect_fragment_raw_data(fragments[i], i, wire_path_map,\n",
    "#                                      shots = shots // total_variants,\n",
    "#                                      tomography_backend = simulation_backend)"
   ]
  },
  {
   "cell_type": "code",
   "execution_count": 46,
   "id": "9988b61c",
   "metadata": {},
   "outputs": [],
   "source": [
    "# for i in range(1, len(fragments)):\n",
    "#     temp_frag_data[i] = ml.collect_fragment_raw_data(fragments[i], i, wire_path_map,\n",
    "#                                      shots = shots // total_variants,\n",
    "#                                      tomography_backend = simulation_backend)"
   ]
  },
  {
   "cell_type": "code",
   "execution_count": 47,
   "id": "77ce4f90",
   "metadata": {},
   "outputs": [],
   "source": [
    "frag_targets = ml.identify_frag_targets(wire_path_map)"
   ]
  },
  {
   "cell_type": "code",
   "execution_count": 48,
   "id": "3ed64794",
   "metadata": {},
   "outputs": [],
   "source": [
    "frag_data = []\n",
    "for i in range(0, len(fragments)):\n",
    "    extra_list = []\n",
    "    if i == 0:\n",
    "        extra_list = [orign_qc]\n",
    "    frag_data.append(ml.organize_tomography_data(temp_frag_data[i][0],\n",
    "                                      frag_targets[i].get(\"prep\"),\n",
    "                                      frag_targets[i].get(\"meas\"),\n",
    "                                      prep_basis = \"SIC\", extra_qc = extra_list))"
   ]
  },
  {
   "cell_type": "code",
   "execution_count": 49,
   "id": "6f87d52b",
   "metadata": {},
   "outputs": [
    {
     "data": {
      "text/plain": [
       "3"
      ]
     },
     "execution_count": 49,
     "metadata": {},
     "output_type": "execute_result"
    }
   ],
   "source": [
    "len(frag_data)"
   ]
  },
  {
   "cell_type": "code",
   "execution_count": 50,
   "id": "6d6c25ac",
   "metadata": {},
   "outputs": [],
   "source": [
    "# frag_data = [ml.organize_tomography_data(temp_frag_data[0][0],\n",
    "#                                       frag_targets[0].get(\"prep\"),\n",
    "#                                       frag_targets[0].get(\"meas\"),\n",
    "#                                       prep_basis = \"SIC\", extra_qc = [orign_qc])]\n",
    "# for i in range(1, len(fragments)):\n",
    "#     frag_data.append(ml.organize_tomography_data(temp_frag_data[i][0],\n",
    "#                                       frag_targets[i].get(\"prep\"),\n",
    "#                                       frag_targets[i].get(\"meas\"),\n",
    "#                                       prep_basis = \"SIC\", extra_qc = []))"
   ]
  },
  {
   "cell_type": "code",
   "execution_count": 51,
   "id": "99930b5d",
   "metadata": {},
   "outputs": [],
   "source": [
    "direct_models = ml.direct_fragment_model(frag_data)\n",
    "likely_models = ml.maximum_likelihood_model(direct_models)\n",
    "\n",
    "direct_recombined_dist = ml.recombine_fragment_models(direct_models, wire_path_map)\n",
    "likely_recombined_dist = ml.recombine_fragment_models(likely_models, wire_path_map)"
   ]
  },
  {
   "cell_type": "code",
   "execution_count": null,
   "id": "17e41869",
   "metadata": {},
   "outputs": [],
   "source": []
  },
  {
   "cell_type": "code",
   "execution_count": 52,
   "id": "b689bf9b",
   "metadata": {},
   "outputs": [
    {
     "data": {
      "text/plain": [
       "{'0000000000': 0.0006847523275808463,\n",
       " '0000000100': 0.019190644626426938,\n",
       " '0000100000': 0.004781352934482246,\n",
       " '0000100100': 0.0007623384468161261,\n",
       " '0000000001': 0.003101501168908702,\n",
       " '0000000101': 0.14603622156562593,\n",
       " '0000100001': 0.0241517709813108,\n",
       " '0000100101': 0.004154143598218668,\n",
       " '0000010000': 0.0036956697244275106,\n",
       " '0000010100': 0.06451167810635657,\n",
       " '0000110000': 0.01324137831949676,\n",
       " '0000110100': 0.0012831010722819285,\n",
       " '0000010001': 0.026439571933989575,\n",
       " '0000010101': 0.49795420592512857,\n",
       " '0000110001': 0.05457934976775416,\n",
       " '0000110101': 0.005998035544103057,\n",
       " '0000010010': 0.005207912692262867,\n",
       " '0000010110': 0.008983670400362685,\n",
       " '0000110010': 0.015905285119287568,\n",
       " '0000110110': 0.0029786651087742432,\n",
       " '0000010011': 0.0037438731534335905,\n",
       " '0000010111': 0.019638223704477695,\n",
       " '0000110011': 0.004862691898022656,\n",
       " '0000110111': 0.0007616159549022916,\n",
       " '0000011000': 0.0005424744747272348,\n",
       " '0000011100': 0.002021332798088923,\n",
       " '0000111000': 0.0010772610593837986,\n",
       " '0000111100': 0.00016777624584579363,\n",
       " '0000011001': 0.006748469772488822,\n",
       " '0000011101': 0.011206215236498996,\n",
       " '0000111001': 0.005794095271492061,\n",
       " '0000111101': 0.00045245567121646006,\n",
       " '0000011010': 0.00014798685934523323,\n",
       " '0000011110': 0.000795840143582386,\n",
       " '0000111010': 0.0008555354252059863,\n",
       " '0000111110': 0.00010562206363952822,\n",
       " '0000011011': 0.0002659831169792678,\n",
       " '0000011111': 0.0005651474667002364,\n",
       " '0000111011': 0.0007245849351981505,\n",
       " '0000111111': 8.241109090262621e-05,\n",
       " '0000000010': 0.0017555200278279832,\n",
       " '0000000110': 0.002466464733062861,\n",
       " '0000100010': 0.004339577436481281,\n",
       " '0000100110': 0.0010063420310682872,\n",
       " '0000000011': 0.0009286886695779609,\n",
       " '0000000111': 0.005658721857394162,\n",
       " '0000100011': 0.002085777259722562,\n",
       " '0000100111': 0.00046178439151733507,\n",
       " '0000001000': 0.00030345092854860674,\n",
       " '0000001100': 0.0010347853445797164,\n",
       " '0000101000': 0.0008980133424033448,\n",
       " '0000101100': 0.00018653519425837495,\n",
       " '0000001001': 0.0032412948907177843,\n",
       " '0000001101': 0.005803572668632304,\n",
       " '0000101001': 0.003131828277434801,\n",
       " '0000101101': 0.0006577941554833046,\n",
       " '0000001010': 0.00013145580973668202,\n",
       " '0000001110': 0.00022827859740973374,\n",
       " '0000101010': 0.0004932272949824156,\n",
       " '0000101110': 5.692772113032334e-05,\n",
       " '0000001011': 0.00015816727591515007,\n",
       " '0000001111': 0.00043119897667370723,\n",
       " '0000101011': 0.0003331777267192384,\n",
       " '0000101111': 6.569682994984324e-06}"
      ]
     },
     "execution_count": 52,
     "metadata": {},
     "output_type": "execute_result"
    }
   ],
   "source": [
    "direct_recombined_dist"
   ]
  },
  {
   "cell_type": "code",
   "execution_count": 53,
   "id": "13b192fc",
   "metadata": {},
   "outputs": [
    {
     "data": {
      "text/plain": [
       "{'0000000000': 0.0006204298932898587,\n",
       " '0000000100': 0.01885856398988497,\n",
       " '0000100000': 0.004258756026771857,\n",
       " '0000100100': 0.0006425826551601524,\n",
       " '0000000001': 0.004545690125562714,\n",
       " '0000000101': 0.1488930735962327,\n",
       " '0000100001': 0.02375460083619438,\n",
       " '0000100101': 0.004406388540030439,\n",
       " '0000010000': 0.003679065062154981,\n",
       " '0000010100': 0.06455721721767653,\n",
       " '0000110000': 0.012793554339374257,\n",
       " '0000110100': 0.0011481760758907619,\n",
       " '0000010001': 0.028071758225101388,\n",
       " '0000010101': 0.5032157355737786,\n",
       " '0000110001': 0.05457888184160102,\n",
       " '0000110101': 0.008408221902910677,\n",
       " '0000010010': 0.005100487463373719,\n",
       " '0000010110': 0.00926389402188095,\n",
       " '0000110010': 0.015524066474379877,\n",
       " '0000110110': 0.0029432872133957513,\n",
       " '0000010011': 0.0036431693598861135,\n",
       " '0000010111': 0.019272586813943653,\n",
       " '0000110011': 0.004335801593185171,\n",
       " '0000110111': 0.0006552177776763041,\n",
       " '0000011000': 0.0004071375177686341,\n",
       " '0000011100': 0.0015046660949210964,\n",
       " '0000111000': 0.0005817587282342985,\n",
       " '0000111100': 9.790867738435233e-05,\n",
       " '0000011001': 0.006640607824095297,\n",
       " '0000011101': 0.010788281397635113,\n",
       " '0000111001': 0.0052936472491753785,\n",
       " '0000111101': 0.0006031334950293835,\n",
       " '0000011010': 1.865758073310792e-05,\n",
       " '0000011110': 0.00032657199463229016,\n",
       " '0000111010': 0.0003230258696068963,\n",
       " '0000111110': 4.1443892893999335e-05,\n",
       " '0000011011': 0.00012418860207649967,\n",
       " '0000011111': 7.772249608650853e-05,\n",
       " '0000111011': 0.0001785938692727929,\n",
       " '0000111111': 1.640948184662821e-05,\n",
       " '0000000010': 0.0016239402440035727,\n",
       " '0000000110': 0.002707202787754817,\n",
       " '0000100010': 0.0038478569429572737,\n",
       " '0000100110': 0.0008958831812193419,\n",
       " '0000000011': 0.0007928482535321798,\n",
       " '0000000111': 0.005151638500017705,\n",
       " '0000100011': 0.0015395547495887737,\n",
       " '0000100111': 0.00032246531921000253,\n",
       " '0000001000': 0.00016106906374893212,\n",
       " '0000001100': 0.0004900926964257912,\n",
       " '0000101000': 0.00043153019956523945,\n",
       " '0000101100': 8.797588211057806e-05,\n",
       " '0000001001': 0.0031137292516837676,\n",
       " '0000001101': 0.005308960092686907,\n",
       " '0000101001': 0.002598696252259373,\n",
       " '0000101101': 0.0005506207675823382,\n",
       " '0000001010': 2.0426297457189492e-05,\n",
       " '0000001110': 5.7555537673395e-06,\n",
       " '0000101010': 6.37051337796678e-05,\n",
       " '0000101110': 4.492236311707167e-06,\n",
       " '0000001011': 3.0481448672164148e-05,\n",
       " '0000001111': 4.9928373854505574e-05,\n",
       " '0000101011': 5.684023860544674e-06,\n",
       " '0000101111': 5.013572212713966e-07}"
      ]
     },
     "execution_count": 53,
     "metadata": {},
     "output_type": "execute_result"
    }
   ],
   "source": [
    "likely_recombined_dist"
   ]
  },
  {
   "cell_type": "code",
   "execution_count": null,
   "id": "5dbabd0b",
   "metadata": {},
   "outputs": [],
   "source": []
  },
  {
   "cell_type": "code",
   "execution_count": 54,
   "id": "04be761c",
   "metadata": {},
   "outputs": [],
   "source": [
    "from utils.utils import filter_results"
   ]
  },
  {
   "cell_type": "code",
   "execution_count": 55,
   "id": "9df8b215",
   "metadata": {},
   "outputs": [],
   "source": [
    "filter_direct_recombined = filter_results(direct_recombined_dist, [0,1,2,3,4])"
   ]
  },
  {
   "cell_type": "code",
   "execution_count": 56,
   "id": "ef48375a",
   "metadata": {},
   "outputs": [
    {
     "data": {
      "text/plain": [
       "{'00000': 0.0006847523275808463,\n",
       " '00100': 0.019190644626426938,\n",
       " '00001': 0.003101501168908702,\n",
       " '00101': 0.14603622156562593,\n",
       " '10000': 0.0036956697244275106,\n",
       " '10100': 0.06451167810635657,\n",
       " '10001': 0.026439571933989575,\n",
       " '10101': 0.49795420592512857,\n",
       " '10010': 0.005207912692262867,\n",
       " '10110': 0.008983670400362685,\n",
       " '10011': 0.0037438731534335905,\n",
       " '10111': 0.019638223704477695,\n",
       " '11000': 0.0005424744747272348,\n",
       " '11100': 0.002021332798088923,\n",
       " '11001': 0.006748469772488822,\n",
       " '11101': 0.011206215236498996,\n",
       " '11010': 0.00014798685934523323,\n",
       " '11110': 0.000795840143582386,\n",
       " '11011': 0.0002659831169792678,\n",
       " '11111': 0.0005651474667002364,\n",
       " '00010': 0.0017555200278279832,\n",
       " '00110': 0.002466464733062861,\n",
       " '00011': 0.0009286886695779609,\n",
       " '00111': 0.005658721857394162,\n",
       " '01000': 0.00030345092854860674,\n",
       " '01100': 0.0010347853445797164,\n",
       " '01001': 0.0032412948907177843,\n",
       " '01101': 0.005803572668632304,\n",
       " '01010': 0.00013145580973668202,\n",
       " '01110': 0.00022827859740973374,\n",
       " '01011': 0.00015816727591515007,\n",
       " '01111': 0.00043119897667370723}"
      ]
     },
     "execution_count": 56,
     "metadata": {},
     "output_type": "execute_result"
    }
   ],
   "source": [
    "filter_direct_recombined"
   ]
  },
  {
   "cell_type": "code",
   "execution_count": 57,
   "id": "246437c1",
   "metadata": {},
   "outputs": [],
   "source": [
    "filter_likely_recombined = filter_results(likely_recombined_dist, [0,1,2,3,4])"
   ]
  },
  {
   "cell_type": "code",
   "execution_count": 58,
   "id": "a8fe450d",
   "metadata": {},
   "outputs": [
    {
     "data": {
      "text/plain": [
       "{'00000': 0.0006204298932898587,\n",
       " '00100': 0.01885856398988497,\n",
       " '00001': 0.004545690125562714,\n",
       " '00101': 0.1488930735962327,\n",
       " '10000': 0.003679065062154981,\n",
       " '10100': 0.06455721721767653,\n",
       " '10001': 0.028071758225101388,\n",
       " '10101': 0.5032157355737786,\n",
       " '10010': 0.005100487463373719,\n",
       " '10110': 0.00926389402188095,\n",
       " '10011': 0.0036431693598861135,\n",
       " '10111': 0.019272586813943653,\n",
       " '11000': 0.0004071375177686341,\n",
       " '11100': 0.0015046660949210964,\n",
       " '11001': 0.006640607824095297,\n",
       " '11101': 0.010788281397635113,\n",
       " '11010': 1.865758073310792e-05,\n",
       " '11110': 0.00032657199463229016,\n",
       " '11011': 0.00012418860207649967,\n",
       " '11111': 7.772249608650853e-05,\n",
       " '00010': 0.0016239402440035727,\n",
       " '00110': 0.002707202787754817,\n",
       " '00011': 0.0007928482535321798,\n",
       " '00111': 0.005151638500017705,\n",
       " '01000': 0.00016106906374893212,\n",
       " '01100': 0.0004900926964257912,\n",
       " '01001': 0.0031137292516837676,\n",
       " '01101': 0.005308960092686907,\n",
       " '01010': 2.0426297457189492e-05,\n",
       " '01110': 5.7555537673395e-06,\n",
       " '01011': 3.0481448672164148e-05,\n",
       " '01111': 4.9928373854505574e-05}"
      ]
     },
     "execution_count": 58,
     "metadata": {},
     "output_type": "execute_result"
    }
   ],
   "source": [
    "filter_likely_recombined"
   ]
  },
  {
   "cell_type": "code",
   "execution_count": 59,
   "id": "5fab80f3",
   "metadata": {},
   "outputs": [],
   "source": [
    "def norm_dict(dictionary):\n",
    "    total = total_counts(dictionary)\n",
    "    norm_dist = {}\n",
    "    for i in dictionary.keys():\n",
    "        norm_dist[i] = dictionary[i]/total\n",
    "    return norm_dist"
   ]
  },
  {
   "cell_type": "code",
   "execution_count": 60,
   "id": "f05e0129",
   "metadata": {},
   "outputs": [
    {
     "data": {
      "text/plain": [
       "{'00000': 98,\n",
       " '00001': 531,\n",
       " '10000': 457,\n",
       " '10001': 1983,\n",
       " '10010': 819,\n",
       " '10011': 360,\n",
       " '10100': 2455,\n",
       " '10101': 15938,\n",
       " '10110': 275,\n",
       " '10111': 679,\n",
       " '11000': 318,\n",
       " '11001': 635,\n",
       " '11010': 103,\n",
       " '11011': 144,\n",
       " '11100': 213,\n",
       " '11101': 494,\n",
       " '11110': 54,\n",
       " '11111': 95,\n",
       " '00010': 219,\n",
       " '00011': 90,\n",
       " '00100': 604,\n",
       " '00101': 4104,\n",
       " '00110': 87,\n",
       " '00111': 155,\n",
       " '01000': 169,\n",
       " '01001': 332,\n",
       " '01010': 63,\n",
       " '01011': 91,\n",
       " '01100': 105,\n",
       " '01101': 243,\n",
       " '01110': 28,\n",
       " '01111': 59}"
      ]
     },
     "execution_count": 60,
     "metadata": {},
     "output_type": "execute_result"
    }
   ],
   "source": [
    "unmiti_dist = temp_frag_data[0][0][0].get_counts()[-1]\n",
    "unmiti_dist"
   ]
  },
  {
   "cell_type": "code",
   "execution_count": 61,
   "id": "1e8284f8",
   "metadata": {},
   "outputs": [],
   "source": [
    "unmiti_norm_dist = norm_dict(unmiti_dist)"
   ]
  },
  {
   "cell_type": "code",
   "execution_count": 62,
   "id": "a724f3dd",
   "metadata": {},
   "outputs": [],
   "source": [
    "norm_filter_dist = norm_dict(filter_likely_recombined)"
   ]
  },
  {
   "cell_type": "code",
   "execution_count": 63,
   "id": "c2138c6d",
   "metadata": {},
   "outputs": [
    {
     "data": {
      "text/plain": [
       "0.4980625"
      ]
     },
     "execution_count": 63,
     "metadata": {},
     "output_type": "execute_result"
    }
   ],
   "source": [
    "unmiti_norm_dist['10101']"
   ]
  },
  {
   "cell_type": "code",
   "execution_count": 64,
   "id": "81d6bc37",
   "metadata": {},
   "outputs": [
    {
     "data": {
      "text/plain": [
       "0.5032157355737786"
      ]
     },
     "execution_count": 64,
     "metadata": {},
     "output_type": "execute_result"
    }
   ],
   "source": [
    "likely_recombined_dist['0000010101']"
   ]
  },
  {
   "cell_type": "code",
   "execution_count": 65,
   "id": "3287adab",
   "metadata": {},
   "outputs": [
    {
     "data": {
      "text/plain": [
       "0.592670046884051"
      ]
     },
     "execution_count": 65,
     "metadata": {},
     "output_type": "execute_result"
    }
   ],
   "source": [
    "norm_filter_dist['10101']"
   ]
  },
  {
   "cell_type": "code",
   "execution_count": 66,
   "id": "9b10b83e",
   "metadata": {},
   "outputs": [
    {
     "data": {
      "text/plain": [
       "{'00000': 0.0007307208180306509,\n",
       " '00100': 0.022210962841427893,\n",
       " '00001': 0.005353756230944865,\n",
       " '00101': 0.17536109996316238,\n",
       " '10000': 0.004333075277128686,\n",
       " '10100': 0.07603325224215804,\n",
       " '10001': 0.03306194359049275,\n",
       " '10101': 0.592670046884051,\n",
       " '10010': 0.006007177300611289,\n",
       " '10110': 0.01091069320003823,\n",
       " '10011': 0.004290798563499355,\n",
       " '10111': 0.02269858456944508,\n",
       " '11000': 0.000479512452982136,\n",
       " '11100': 0.0017721435598688302,\n",
       " '11001': 0.007821077665541576,\n",
       " '11101': 0.01270606380073602,\n",
       " '11010': 2.1974251729679483e-05,\n",
       " '11110': 0.00038462517303646665,\n",
       " '11011': 0.00014626502991052148,\n",
       " '11111': 9.153886125403737e-05,\n",
       " '00010': 0.0019126205174269319,\n",
       " '00110': 0.0031884495847766298,\n",
       " '00011': 0.0009337891849845806,\n",
       " '00111': 0.006067421218165642,\n",
       " '01000': 0.00018970155902379144,\n",
       " '01100': 0.0005772141863509325,\n",
       " '01001': 0.0036672423597316054,\n",
       " '01101': 0.006252709135676439,\n",
       " '01010': 2.4057384965945976e-05,\n",
       " '01110': 6.778691682292703e-06,\n",
       " '01011': 3.589999345514637e-05,\n",
       " '01111': 5.880390771058424e-05}"
      ]
     },
     "execution_count": 66,
     "metadata": {},
     "output_type": "execute_result"
    }
   ],
   "source": [
    "norm_filter_dist"
   ]
  },
  {
   "cell_type": "code",
   "execution_count": 67,
   "id": "7e67de89",
   "metadata": {},
   "outputs": [
    {
     "data": {
      "text/plain": [
       "32000"
      ]
     },
     "execution_count": 67,
     "metadata": {},
     "output_type": "execute_result"
    }
   ],
   "source": [
    "total_counts(unmiti_dist)"
   ]
  },
  {
   "cell_type": "code",
   "execution_count": 68,
   "id": "95574397",
   "metadata": {},
   "outputs": [],
   "source": [
    "unmiti_norm_dist = {}\n",
    "for i in unmiti_dist.keys():\n",
    "    unmiti_norm_dist[i] = unmiti_dist[i]/total_counts(unmiti_dist)"
   ]
  },
  {
   "cell_type": "code",
   "execution_count": 69,
   "id": "abb7b782",
   "metadata": {},
   "outputs": [
    {
     "data": {
      "text/plain": [
       "{'00000': 0.0030625,\n",
       " '00001': 0.01659375,\n",
       " '10000': 0.01428125,\n",
       " '10001': 0.06196875,\n",
       " '10010': 0.02559375,\n",
       " '10011': 0.01125,\n",
       " '10100': 0.07671875,\n",
       " '10101': 0.4980625,\n",
       " '10110': 0.00859375,\n",
       " '10111': 0.02121875,\n",
       " '11000': 0.0099375,\n",
       " '11001': 0.01984375,\n",
       " '11010': 0.00321875,\n",
       " '11011': 0.0045,\n",
       " '11100': 0.00665625,\n",
       " '11101': 0.0154375,\n",
       " '11110': 0.0016875,\n",
       " '11111': 0.00296875,\n",
       " '00010': 0.00684375,\n",
       " '00011': 0.0028125,\n",
       " '00100': 0.018875,\n",
       " '00101': 0.12825,\n",
       " '00110': 0.00271875,\n",
       " '00111': 0.00484375,\n",
       " '01000': 0.00528125,\n",
       " '01001': 0.010375,\n",
       " '01010': 0.00196875,\n",
       " '01011': 0.00284375,\n",
       " '01100': 0.00328125,\n",
       " '01101': 0.00759375,\n",
       " '01110': 0.000875,\n",
       " '01111': 0.00184375}"
      ]
     },
     "execution_count": 69,
     "metadata": {},
     "output_type": "execute_result"
    }
   ],
   "source": [
    "unmiti_norm_dist"
   ]
  },
  {
   "cell_type": "code",
   "execution_count": null,
   "id": "29dbbc7a",
   "metadata": {},
   "outputs": [],
   "source": []
  },
  {
   "cell_type": "code",
   "execution_count": null,
   "id": "885a8632",
   "metadata": {},
   "outputs": [],
   "source": []
  },
  {
   "cell_type": "code",
   "execution_count": null,
   "id": "914cb7df",
   "metadata": {},
   "outputs": [],
   "source": []
  },
  {
   "cell_type": "code",
   "execution_count": null,
   "id": "8ac64702",
   "metadata": {},
   "outputs": [],
   "source": []
  },
  {
   "cell_type": "code",
   "execution_count": null,
   "id": "40d1c76d",
   "metadata": {},
   "outputs": [],
   "source": []
  },
  {
   "cell_type": "code",
   "execution_count": null,
   "id": "244f4600",
   "metadata": {},
   "outputs": [],
   "source": []
  },
  {
   "cell_type": "code",
   "execution_count": null,
   "id": "7959bf35",
   "metadata": {},
   "outputs": [],
   "source": []
  }
 ],
 "metadata": {
  "kernelspec": {
   "display_name": "Python 3 (ipykernel)",
   "language": "python",
   "name": "python3"
  },
  "language_info": {
   "codemirror_mode": {
    "name": "ipython",
    "version": 3
   },
   "file_extension": ".py",
   "mimetype": "text/x-python",
   "name": "python",
   "nbconvert_exporter": "python",
   "pygments_lexer": "ipython3",
   "version": "3.7.11"
  }
 },
 "nbformat": 4,
 "nbformat_minor": 5
}
