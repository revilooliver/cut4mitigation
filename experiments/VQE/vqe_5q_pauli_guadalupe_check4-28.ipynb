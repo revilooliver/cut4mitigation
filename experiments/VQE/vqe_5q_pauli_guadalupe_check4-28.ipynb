{
 "cells": [
  {
   "cell_type": "code",
   "execution_count": 1,
   "id": "050ec390",
   "metadata": {},
   "outputs": [],
   "source": [
    "#!/usr/bin/env python3\n",
    "\n",
    "# author: Michael A. Perlin (github.com/perlinm)\n",
    "\n",
    "import itertools, numpy, qiskit\n",
    "import circuit_cutter\n",
    "import mlrecon_methods as ml\n",
    "\n",
    "import numpy as np\n",
    "import qiskit\n",
    "from qiskit import *\n",
    "from qiskit import QuantumCircuit, QuantumRegister, ClassicalRegister, Aer, execute, transpile\n",
    "\n",
    "from qiskit.transpiler import PassManager\n",
    "\n",
    "from qiskit.converters import circuit_to_dag\n",
    "from qiskit.visualization import dag_drawer, plot_histogram\n",
    "from qiskit.compiler import assemble\n",
    "from qiskit.tools.monitor import job_monitor\n",
    "\n",
    "# The pulse simulator\n",
    "from qiskit.providers.aer import PulseSimulator\n",
    "\n",
    "from qiskit.tools.monitor import job_monitor, backend_monitor, backend_overview\n",
    "\n",
    "import qiskit.providers.aer.noise as noise\n",
    "from qiskit.providers.aer.noise import NoiseModel\n",
    "\n",
    "from utils.utils import filter_results, dict_to_list, H_distance, total_counts"
   ]
  },
  {
   "cell_type": "code",
   "execution_count": 2,
   "id": "0ab21beb",
   "metadata": {},
   "outputs": [
    {
     "data": {
      "text/plain": [
       "{'qiskit-terra': '0.16.1',\n",
       " 'qiskit-aer': '0.7.2',\n",
       " 'qiskit-ignis': '0.5.1',\n",
       " 'qiskit-ibmq-provider': '0.11.1',\n",
       " 'qiskit-aqua': '0.8.1',\n",
       " 'qiskit': '0.23.2'}"
      ]
     },
     "execution_count": 2,
     "metadata": {},
     "output_type": "execute_result"
    }
   ],
   "source": [
    "qiskit.__qiskit_version__"
   ]
  },
  {
   "cell_type": "code",
   "execution_count": 3,
   "id": "da4a5c76",
   "metadata": {},
   "outputs": [],
   "source": [
    "numpy.set_printoptions(linewidth = 200)\n",
    "\n",
    "qubits = 5\n",
    "\n",
    "# # should be \"GHZ\", \"cascade\", \"dense\", or \"clustered\"\n",
    "# circuit_type = \"GHZ\"\n",
    "# layers = 1 # number of gate layers\n",
    "\n",
    "# qubits = 6 # number of qubits\n",
    "# frag_num = 2 # number of fragments\n",
    "\n",
    "simulation_backend = \"qasm_simulator\"\n",
    "\n",
    "seed = 0\n",
    "print_circuits = True"
   ]
  },
  {
   "cell_type": "code",
   "execution_count": 4,
   "id": "cc3edfd5",
   "metadata": {},
   "outputs": [
    {
     "name": "stderr",
     "output_type": "stream",
     "text": [
      "/Users/revilooliver/Documents/quantum_computing/anaconda/anaconda3/envs/circ_cutting/lib/python3.8/site-packages/qiskit/providers/ibmq/ibmqfactory.py:192: UserWarning: Timestamps in IBMQ backend properties, jobs, and job results are all now in local time instead of UTC.\n",
      "  warnings.warn('Timestamps in IBMQ backend properties, jobs, and job results '\n"
     ]
    },
    {
     "data": {
      "text/plain": [
       "[<IBMQSimulator('ibmq_qasm_simulator') from IBMQ(hub='ibm-q-ornl', group='ornl', project='chm185')>,\n",
       " <IBMQBackend('ibmq_montreal') from IBMQ(hub='ibm-q-ornl', group='ornl', project='chm185')>,\n",
       " <IBMQBackend('ibmq_toronto') from IBMQ(hub='ibm-q-ornl', group='ornl', project='chm185')>,\n",
       " <IBMQBackend('ibmq_kolkata') from IBMQ(hub='ibm-q-ornl', group='ornl', project='chm185')>,\n",
       " <IBMQBackend('ibmq_mumbai') from IBMQ(hub='ibm-q-ornl', group='ornl', project='chm185')>,\n",
       " <IBMQBackend('ibmq_lima') from IBMQ(hub='ibm-q-ornl', group='ornl', project='chm185')>,\n",
       " <IBMQBackend('ibmq_belem') from IBMQ(hub='ibm-q-ornl', group='ornl', project='chm185')>,\n",
       " <IBMQBackend('ibmq_quito') from IBMQ(hub='ibm-q-ornl', group='ornl', project='chm185')>,\n",
       " <IBMQBackend('ibmq_guadalupe') from IBMQ(hub='ibm-q-ornl', group='ornl', project='chm185')>,\n",
       " <IBMQSimulator('simulator_statevector') from IBMQ(hub='ibm-q-ornl', group='ornl', project='chm185')>,\n",
       " <IBMQSimulator('simulator_mps') from IBMQ(hub='ibm-q-ornl', group='ornl', project='chm185')>,\n",
       " <IBMQSimulator('simulator_extended_stabilizer') from IBMQ(hub='ibm-q-ornl', group='ornl', project='chm185')>,\n",
       " <IBMQSimulator('simulator_stabilizer') from IBMQ(hub='ibm-q-ornl', group='ornl', project='chm185')>,\n",
       " <IBMQBackend('ibmq_jakarta') from IBMQ(hub='ibm-q-ornl', group='ornl', project='chm185')>,\n",
       " <IBMQBackend('ibmq_manila') from IBMQ(hub='ibm-q-ornl', group='ornl', project='chm185')>,\n",
       " <IBMQBackend('ibm_hanoi') from IBMQ(hub='ibm-q-ornl', group='ornl', project='chm185')>,\n",
       " <IBMQBackend('ibm_cairo') from IBMQ(hub='ibm-q-ornl', group='ornl', project='chm185')>,\n",
       " <IBMQBackend('ibm_auckland') from IBMQ(hub='ibm-q-ornl', group='ornl', project='chm185')>,\n",
       " <IBMQBackend('ibm_washington') from IBMQ(hub='ibm-q-ornl', group='ornl', project='chm185')>,\n",
       " <IBMQBackend('ibm_geneva') from IBMQ(hub='ibm-q-ornl', group='ornl', project='chm185')>]"
      ]
     },
     "execution_count": 4,
     "metadata": {},
     "output_type": "execute_result"
    }
   ],
   "source": [
    "IBMQ.load_account()\n",
    "provider = IBMQ.get_provider(hub='ibm-q-ornl', group='ornl', project='chm185')\n",
    "provider.backends()"
   ]
  },
  {
   "cell_type": "code",
   "execution_count": 5,
   "id": "97f1be7e",
   "metadata": {},
   "outputs": [
    {
     "data": {
      "text/plain": [
       "<IBMQBackend('ibmq_guadalupe') from IBMQ(hub='ibm-q-ornl', group='ornl', project='chm185')>"
      ]
     },
     "execution_count": 5,
     "metadata": {},
     "output_type": "execute_result"
    }
   ],
   "source": [
    "device = provider.get_backend('ibmq_guadalupe')\n",
    "device"
   ]
  },
  {
   "cell_type": "code",
   "execution_count": 6,
   "id": "b6f2eb58",
   "metadata": {},
   "outputs": [],
   "source": [
    "noisy_simulator = provider.get_backend('ibmq_qasm_simulator')"
   ]
  },
  {
   "cell_type": "code",
   "execution_count": 7,
   "id": "61848cfb",
   "metadata": {},
   "outputs": [],
   "source": [
    "front_layer = QuantumCircuit.from_qasm_file(\"qasm/vqe_5q_front.qasm\")"
   ]
  },
  {
   "cell_type": "code",
   "execution_count": 8,
   "id": "4101ca8c",
   "metadata": {},
   "outputs": [],
   "source": [
    "mid_layer = QuantumCircuit.from_qasm_file(\"qasm/vqe_5q_mid.qasm\")"
   ]
  },
  {
   "cell_type": "code",
   "execution_count": 9,
   "id": "1721959d",
   "metadata": {},
   "outputs": [],
   "source": [
    "end_layer = QuantumCircuit.from_qasm_file(\"qasm/vqe_5q_end.qasm\")"
   ]
  },
  {
   "cell_type": "code",
   "execution_count": 10,
   "id": "e6aa46cb",
   "metadata": {},
   "outputs": [],
   "source": [
    "orign_circuit = front_layer + mid_layer + end_layer"
   ]
  },
  {
   "cell_type": "code",
   "execution_count": 11,
   "id": "d4a1d3a6",
   "metadata": {},
   "outputs": [],
   "source": [
    "#checking circuit"
   ]
  },
  {
   "cell_type": "code",
   "execution_count": 12,
   "id": "6937b806",
   "metadata": {},
   "outputs": [],
   "source": [
    "def apply_checking_circuit(qc, ctrl_bits, ancilla_bits, side = None):\n",
    "    if len(ctrl_bits) != len(ancilla_bits):\n",
    "        print(\"Size mismatch\")\n",
    "        return None\n",
    "    if side == 'front':\n",
    "        for i in ancilla_bits:\n",
    "            qc.h(i)\n",
    "        for j,k in zip(ctrl_bits, ancilla_bits):\n",
    "            qc.cz(j, k)\n",
    "    elif side == 'end':\n",
    "        for j,k in zip(ctrl_bits, ancilla_bits):\n",
    "            qc.cz(j, k)\n",
    "        for i in ancilla_bits:\n",
    "            qc.h(i)\n",
    "    else:\n",
    "        print(\"Side undefined\")"
   ]
  },
  {
   "cell_type": "code",
   "execution_count": 13,
   "id": "f7f99e4b",
   "metadata": {},
   "outputs": [],
   "source": [
    "circuit = front_layer.copy()"
   ]
  },
  {
   "cell_type": "code",
   "execution_count": 14,
   "id": "4f530b86",
   "metadata": {},
   "outputs": [],
   "source": [
    "apply_checking_circuit(circuit, [4], [5], side = 'front')\n",
    "circuit += mid_layer\n",
    "apply_checking_circuit(circuit, [4], [5], side = 'end')\n",
    "circuit += end_layer"
   ]
  },
  {
   "cell_type": "code",
   "execution_count": 15,
   "id": "3d751a26",
   "metadata": {},
   "outputs": [
    {
     "data": {
      "text/html": [
       "<pre style=\"word-wrap: normal;white-space: pre;background: #fff0;line-height: 1.1;font-family: &quot;Courier New&quot;,Courier,monospace\">      ┌────────────┐   ┌────────────┐                             »\n",
       "q_0: ─┤ RY(-4.751) ├─■─┤ RY(4.6739) ├─────────────────────────────»\n",
       "      ├────────────┤ │ └────────────┘┌─────────────┐              »\n",
       "q_1: ─┤ RY(3.1415) ├─■───────■───────┤ RY(-3.1415) ├──────────────»\n",
       "     ┌┴────────────┤         │       └─────────────┘┌────────────┐»\n",
       "q_2: ┤ RY(-3.8492) ├─────────■──────────────■───────┤ RY(0.7076) ├»\n",
       "     ├─────────────┤                        │       └────────────┘»\n",
       "q_3: ┤ RY(-3.1416) ├────────────────────────■─────────────■───────»\n",
       "     ├─────────────┤                                      │       »\n",
       "q_4: ┤ RY(-6.8335) ├─■────────────────────────────────────■───────»\n",
       "     └────┬───┬────┘ │                                            »\n",
       "q_5: ─────┤ H ├──────■────────────────────────────────────────────»\n",
       "          └───┘                                                   »\n",
       "q_6: ─────────────────────────────────────────────────────────────»\n",
       "                                                                  »\n",
       "q_7: ─────────────────────────────────────────────────────────────»\n",
       "                                                                  »\n",
       "q_8: ─────────────────────────────────────────────────────────────»\n",
       "                                                                  »\n",
       "q_9: ─────────────────────────────────────────────────────────────»\n",
       "                                                                  »\n",
       "«                                  \n",
       "«q_0: ─────────────────────────────\n",
       "«                                  \n",
       "«q_1: ─────────────────────────────\n",
       "«                                  \n",
       "«q_2: ─────────────────────────────\n",
       "«     ┌────────────┐               \n",
       "«q_3: ┤ RY(3.1415) ├───────────────\n",
       "«     └────────────┘┌─────────────┐\n",
       "«q_4: ──────■───────┤ RY(-3.6921) ├\n",
       "«           │       └────┬───┬────┘\n",
       "«q_5: ──────■────────────┤ H ├─────\n",
       "«                        └───┘     \n",
       "«q_6: ─────────────────────────────\n",
       "«                                  \n",
       "«q_7: ─────────────────────────────\n",
       "«                                  \n",
       "«q_8: ─────────────────────────────\n",
       "«                                  \n",
       "«q_9: ─────────────────────────────\n",
       "«                                  </pre>"
      ],
      "text/plain": [
       "      ┌────────────┐   ┌────────────┐                             »\n",
       "q_0: ─┤ RY(-4.751) ├─■─┤ RY(4.6739) ├─────────────────────────────»\n",
       "      ├────────────┤ │ └────────────┘┌─────────────┐              »\n",
       "q_1: ─┤ RY(3.1415) ├─■───────■───────┤ RY(-3.1415) ├──────────────»\n",
       "     ┌┴────────────┤         │       └─────────────┘┌────────────┐»\n",
       "q_2: ┤ RY(-3.8492) ├─────────■──────────────■───────┤ RY(0.7076) ├»\n",
       "     ├─────────────┤                        │       └────────────┘»\n",
       "q_3: ┤ RY(-3.1416) ├────────────────────────■─────────────■───────»\n",
       "     ├─────────────┤                                      │       »\n",
       "q_4: ┤ RY(-6.8335) ├─■────────────────────────────────────■───────»\n",
       "     └────┬───┬────┘ │                                            »\n",
       "q_5: ─────┤ H ├──────■────────────────────────────────────────────»\n",
       "          └───┘                                                   »\n",
       "q_6: ─────────────────────────────────────────────────────────────»\n",
       "                                                                  »\n",
       "q_7: ─────────────────────────────────────────────────────────────»\n",
       "                                                                  »\n",
       "q_8: ─────────────────────────────────────────────────────────────»\n",
       "                                                                  »\n",
       "q_9: ─────────────────────────────────────────────────────────────»\n",
       "                                                                  »\n",
       "«                                  \n",
       "«q_0: ─────────────────────────────\n",
       "«                                  \n",
       "«q_1: ─────────────────────────────\n",
       "«                                  \n",
       "«q_2: ─────────────────────────────\n",
       "«     ┌────────────┐               \n",
       "«q_3: ┤ RY(3.1415) ├───────────────\n",
       "«     └────────────┘┌─────────────┐\n",
       "«q_4: ──────■───────┤ RY(-3.6921) ├\n",
       "«           │       └────┬───┬────┘\n",
       "«q_5: ──────■────────────┤ H ├─────\n",
       "«                        └───┘     \n",
       "«q_6: ─────────────────────────────\n",
       "«                                  \n",
       "«q_7: ─────────────────────────────\n",
       "«                                  \n",
       "«q_8: ─────────────────────────────\n",
       "«                                  \n",
       "«q_9: ─────────────────────────────\n",
       "«                                  "
      ]
     },
     "execution_count": 15,
     "metadata": {},
     "output_type": "execute_result"
    }
   ],
   "source": [
    "circuit.draw()"
   ]
  },
  {
   "cell_type": "code",
   "execution_count": 16,
   "id": "9d0659dc",
   "metadata": {},
   "outputs": [],
   "source": [
    "trans_qc = transpile(circuit, basis_gates = ['sx', 'cx', 'reset', 'id', 'x', 'rz'])"
   ]
  },
  {
   "cell_type": "code",
   "execution_count": 17,
   "id": "8fb37939",
   "metadata": {},
   "outputs": [
    {
     "name": "stderr",
     "output_type": "stream",
     "text": [
      "/Users/revilooliver/Documents/quantum_computing/anaconda/anaconda3/envs/circ_cutting/lib/python3.8/site-packages/qiskit/circuit/tools/pi_check.py:49: SymPyDeprecationWarning: \n",
      "\n",
      "The expr_free_symbols property is deprecated. Use free_symbols to get\n",
      "the free symbols of an expression.\n",
      "\n",
      "See https://docs.sympy.org/latest/explanation/active-deprecations.html#deprecated-expr-free-symbols\n",
      "for details.\n",
      "\n",
      "This has been deprecated since SymPy version 1.9. It\n",
      "will be removed in a future version of SymPy.\n",
      "\n",
      "  syms = inpt._symbol_expr.expr_free_symbols\n"
     ]
    },
    {
     "data": {
      "image/png": "[encoded data removed]",
      "text/plain": [
       "<Figure size 2210.55x869.556 with 1 Axes>"
      ]
     },
     "execution_count": 17,
     "metadata": {},
     "output_type": "execute_result"
    },
    {
     "data": {
      "image/png": "[encoded data removed]",
      "text/plain": [
       "<Figure size 2210.55x869.556 with 1 Axes>"
      ]
     },
     "metadata": {},
     "output_type": "display_data"
    }
   ],
   "source": [
    "trans_qc.draw(output = 'mpl')"
   ]
  },
  {
   "cell_type": "code",
   "execution_count": 18,
   "id": "95e1ee63",
   "metadata": {},
   "outputs": [
    {
     "name": "stdout",
     "output_type": "stream",
     "text": [
      "NoiseModel:\n",
      "  Basis gates: ['cx', 'id', 'u3']\n",
      "  Instructions with noise: ['measure']\n",
      "  Qubits with noise: [0, 1, 2, 3, 4, 5, 6, 7, 8, 9, 10, 11, 12, 13, 14, 15]\n",
      "  Specific qubit errors: [('measure', [0]), ('measure', [1]), ('measure', [2]), ('measure', [3]), ('measure', [4]), ('measure', [5]), ('measure', [6]), ('measure', [7]), ('measure', [8]), ('measure', [9]), ('measure', [10]), ('measure', [11]), ('measure', [12]), ('measure', [13]), ('measure', [14]), ('measure', [15])]\n"
     ]
    }
   ],
   "source": [
    "from qiskit import IBMQ, Aer\n",
    "from qiskit.providers.aer.noise import NoiseModel\n",
    "noise_model = NoiseModel.from_backend(device, gate_error = False, thermal_relaxation= False)\n",
    "print(noise_model)"
   ]
  },
  {
   "cell_type": "code",
   "execution_count": 19,
   "id": "d01b9b34",
   "metadata": {},
   "outputs": [],
   "source": [
    "from qiskit.providers.aer.noise import NoiseModel\n",
    "from qiskit.providers.aer.noise import QuantumError, ReadoutError\n",
    "from qiskit.providers.aer.noise import pauli_error\n",
    "from qiskit.providers.aer.noise import depolarizing_error\n",
    "from qiskit.providers.aer.noise import thermal_relaxation_error"
   ]
  },
  {
   "cell_type": "code",
   "execution_count": 20,
   "id": "c7b48708",
   "metadata": {},
   "outputs": [],
   "source": [
    "# p_gate1 = 0.4\n",
    "# error_gate1 = pauli_error([('X',p_gate1), ('I', 1 - p_gate1)])\n",
    "# error_gate2 = error_gate1.tensor(error_gate1)"
   ]
  },
  {
   "cell_type": "code",
   "execution_count": 21,
   "id": "1ad3f138",
   "metadata": {},
   "outputs": [],
   "source": [
    "# noise_model.add_all_qubit_quantum_error(error_gate2, [\"cx\"])"
   ]
  },
  {
   "cell_type": "code",
   "execution_count": 22,
   "id": "d2379bfd",
   "metadata": {},
   "outputs": [],
   "source": [
    "circuit = trans_qc"
   ]
  },
  {
   "cell_type": "code",
   "execution_count": 23,
   "id": "0b2c17cd",
   "metadata": {},
   "outputs": [],
   "source": [
    "cuts = []\n",
    "# for i in range(0, 5):\n",
    "#     if i == 0:\n",
    "#         cut = [(circuit.qubits[i], 5),(circuit.qubits[i], 6)]\n",
    "#     elif i == 3:\n",
    "#         cut = [(circuit.qubits[i], 4),(circuit.qubits[i], 12)]\n",
    "#     elif i == qubits-1:\n",
    "#         cut = [(circuit.qubits[i], 5),(circuit.qubits[i], 12)]\n",
    "#     else:\n",
    "#         cut = [(circuit.qubits[i], 5),(circuit.qubits[i], 13)]\n",
    "#     cuts += cut\n",
    "cuts = [(circuit.qubits[4], 5),(circuit.qubits[4], 12)]"
   ]
  },
  {
   "cell_type": "code",
   "execution_count": 24,
   "id": "4993ee93",
   "metadata": {},
   "outputs": [
    {
     "name": "stdout",
     "output_type": "stream",
     "text": [
      "[(Qubit(QuantumRegister(10, 'q'), 4), 5), (Qubit(QuantumRegister(10, 'q'), 4), 12)]\n"
     ]
    }
   ],
   "source": [
    "print(cuts)"
   ]
  },
  {
   "cell_type": "code",
   "execution_count": 25,
   "id": "7aa1870b",
   "metadata": {},
   "outputs": [
    {
     "name": "stdout",
     "output_type": "stream",
     "text": [
      "WARNING: some qubits are entirely unused\n",
      "unused qubits: [Qubit(QuantumRegister(10, 'q'), 6), Qubit(QuantumRegister(10, 'q'), 7), Qubit(QuantumRegister(10, 'q'), 8), Qubit(QuantumRegister(10, 'q'), 9)]\n"
     ]
    }
   ],
   "source": [
    "fragments, wire_path_map = circuit_cutter.cut_circuit(circuit, cuts)"
   ]
  },
  {
   "cell_type": "code",
   "execution_count": 26,
   "id": "6872220e",
   "metadata": {},
   "outputs": [
    {
     "name": "stdout",
     "output_type": "stream",
     "text": [
      "{Qubit(QuantumRegister(10, 'q'), 0): ((0, Qubit(QuantumRegister(5, 'q'), 3)),), Qubit(QuantumRegister(10, 'q'), 1): ((0, Qubit(QuantumRegister(5, 'q'), 4)),), Qubit(QuantumRegister(10, 'q'), 2): ((0, Qubit(QuantumRegister(5, 'q'), 0)),), Qubit(QuantumRegister(10, 'q'), 3): ((0, Qubit(QuantumRegister(5, 'q'), 2)),), Qubit(QuantumRegister(10, 'q'), 4): ((1, Qubit(QuantumRegister(3, 'q'), 1)), (0, Qubit(QuantumRegister(5, 'q'), 1)), (1, Qubit(QuantumRegister(3, 'q'), 0))), Qubit(QuantumRegister(10, 'q'), 5): ((1, Qubit(QuantumRegister(3, 'q'), 2)),), Qubit(QuantumRegister(10, 'q'), 6): ((2, Qubit(QuantumRegister(4, 'q'), 0)),), Qubit(QuantumRegister(10, 'q'), 7): ((2, Qubit(QuantumRegister(4, 'q'), 1)),), Qubit(QuantumRegister(10, 'q'), 8): ((2, Qubit(QuantumRegister(4, 'q'), 2)),), Qubit(QuantumRegister(10, 'q'), 9): ((2, Qubit(QuantumRegister(4, 'q'), 3)),)}\n"
     ]
    }
   ],
   "source": [
    "print(wire_path_map)"
   ]
  },
  {
   "cell_type": "code",
   "execution_count": 27,
   "id": "dd8a5b10",
   "metadata": {},
   "outputs": [],
   "source": [
    "total_variants = ml.fragment_variants(wire_path_map)"
   ]
  },
  {
   "cell_type": "code",
   "execution_count": 28,
   "id": "d79b8e01",
   "metadata": {},
   "outputs": [
    {
     "data": {
      "text/plain": [
       "25"
      ]
     },
     "execution_count": 28,
     "metadata": {},
     "output_type": "execute_result"
    }
   ],
   "source": [
    "total_variants"
   ]
  },
  {
   "cell_type": "code",
   "execution_count": 29,
   "id": "45286087",
   "metadata": {},
   "outputs": [],
   "source": [
    "shots = 32000 * total_variants"
   ]
  },
  {
   "cell_type": "code",
   "execution_count": 30,
   "id": "8600221e",
   "metadata": {},
   "outputs": [
    {
     "name": "stdout",
     "output_type": "stream",
     "text": [
      "total circuit:\n",
      "global phase: -142.941569454787\n",
      "         ┌────┐    ┌────────────┐    ┌────┐    ┌───────┐      ┌────────┐┌────┐»\n",
      "q_0: ────┤ √X ├────┤ RZ(4.6738) ├────┤ √X ├────┤ RZ(π) ├──■───┤ RZ(-π) ├┤ √X ├»\n",
      "         ├────┤    ├────────────┤    ├────┤    └───────┘┌─┴─┐┌┴────────┤├────┤»\n",
      "q_1: ────┤ √X ├────┤ RZ(4.7123) ├────┤ √X ├─────────────┤ X ├┤ RZ(π/2) ├┤ √X ├»\n",
      "         ├────┤    ├────────────┤    ├────┤             └───┘└─────────┘└────┘»\n",
      "q_2: ────┤ √X ├────┤ RZ(4.0048) ├────┤ √X ├───────────────────────────────────»\n",
      "     ┌───┴────┴───┐└───┬────┬───┘┌───┴────┴───┐                               »\n",
      "q_3: ┤ RZ(4.7124) ├────┤ √X ├────┤ RZ(4.7124) ├───────────────────────────────»\n",
      "     └─┬────────┬─┘    ├────┤    ├────────────┤  ┌────┐      ┌─────────┐┌────┐»\n",
      "q_4: ──┤ RZ(-π) ├──────┤ √X ├────┤ RZ(3.6919) ├──┤ √X ├───■──┤ RZ(π/2) ├┤ √X ├»\n",
      "       └────────┘      └────┘    └────────────┘  └────┘ ┌─┴─┐└─────────┘└────┘»\n",
      "q_5: ───────────────────────────────────────────────────┤ X ├─────────────────»\n",
      "                                                        └───┘                 »\n",
      "q_6: ─────────────────────────────────────────────────────────────────────────»\n",
      "                                                                              »\n",
      "q_7: ─────────────────────────────────────────────────────────────────────────»\n",
      "                                                                              »\n",
      "q_8: ─────────────────────────────────────────────────────────────────────────»\n",
      "                                                                              »\n",
      "q_9: ─────────────────────────────────────────────────────────────────────────»\n",
      "                                                                              »\n",
      "«     ┌────────────┐┌────┐                                                »\n",
      "«q_0: ┤ RZ(4.7509) ├┤ √X ├────────────────────────────────────────────────»\n",
      "«     └┬─────────┬─┘└────┘ ┌───────┐ ┌────┐┌────────────┐┌────┐           »\n",
      "«q_1: ─┤ RZ(π/2) ├────■────┤ RZ(π) ├─┤ √X ├┤ RZ(6.2831) ├┤ √X ├───────────»\n",
      "«      └─────────┘  ┌─┴─┐ ┌┴───────┴┐├────┤└┬─────────┬─┘└────┘   ┌────┐  »\n",
      "«q_2: ──────────────┤ X ├─┤ RZ(π/2) ├┤ √X ├─┤ RZ(π/2) ├────■──────┤ √X ├──»\n",
      "«                   └───┘ └─────────┘└────┘ └─────────┘  ┌─┴─┐ ┌──┴────┴─┐»\n",
      "«q_3: ───────────────────────────────────────────────────┤ X ├─┤ RZ(π/2) ├»\n",
      "«      ┌─────────┐                                       └───┘ └─────────┘»\n",
      "«q_4: ─┤ RZ(π/2) ├────────────────────────────────────────────────────────»\n",
      "«      └─────────┘                                                        »\n",
      "«q_5: ────────────────────────────────────────────────────────────────────»\n",
      "«                                                                         »\n",
      "«q_6: ────────────────────────────────────────────────────────────────────»\n",
      "«                                                                         »\n",
      "«q_7: ────────────────────────────────────────────────────────────────────»\n",
      "«                                                                         »\n",
      "«q_8: ────────────────────────────────────────────────────────────────────»\n",
      "«                                                                         »\n",
      "«q_9: ────────────────────────────────────────────────────────────────────»\n",
      "«                                                                         »\n",
      "«                                                                           »\n",
      "«q_0: ──────────────────────────────────────────────────────────────────────»\n",
      "«                                                                           »\n",
      "«q_1: ──────────────────────────────────────────────────────────────────────»\n",
      "«     ┌────────────┐   ┌────┐  ┌───────┐                                    »\n",
      "«q_2: ┤ RZ(3.8492) ├───┤ √X ├──┤ RZ(π) ├────────────────────────────────────»\n",
      "«     └───┬────┬───┘┌──┴────┴─┐└───────┘   ┌────┐  ┌────────────┐   ┌────┐  »\n",
      "«q_3: ────┤ √X ├────┤ RZ(π/2) ├────■───────┤ √X ├──┤ RZ(6.2831) ├───┤ √X ├──»\n",
      "«         └────┘    └─────────┘  ┌─┴─┐  ┌──┴────┴─┐└───┬────┬───┘┌──┴────┴─┐»\n",
      "«q_4: ───────────────────────────┤ X ├──┤ RZ(π/2) ├────┤ √X ├────┤ RZ(π/2) ├»\n",
      "«                                └───┘  └─────────┘    └────┘    └─────────┘»\n",
      "«q_5: ──────────────────────────────────────────────────────────────────────»\n",
      "«                                                                           »\n",
      "«q_6: ──────────────────────────────────────────────────────────────────────»\n",
      "«                                                                           »\n",
      "«q_7: ──────────────────────────────────────────────────────────────────────»\n",
      "«                                                                           »\n",
      "«q_8: ──────────────────────────────────────────────────────────────────────»\n",
      "«                                                                           »\n",
      "«q_9: ──────────────────────────────────────────────────────────────────────»\n",
      "«                                                                           »\n",
      "«                                                 \n",
      "«q_0: ────────────────────────────────────────────\n",
      "«                                                 \n",
      "«q_1: ────────────────────────────────────────────\n",
      "«                                                 \n",
      "«q_2: ────────────────────────────────────────────\n",
      "«     ┌───────┐                                   \n",
      "«q_3: ┤ RZ(π) ├───────────────────────────────────\n",
      "«     └───────┘┌────┐┌────────────┐┌────┐┌───────┐\n",
      "«q_4: ────■────┤ √X ├┤ RZ(5.7327) ├┤ √X ├┤ RZ(π) ├\n",
      "«       ┌─┴─┐  └────┘└────────────┘└────┘└───────┘\n",
      "«q_5: ──┤ X ├─────────────────────────────────────\n",
      "«       └───┘                                     \n",
      "«q_6: ────────────────────────────────────────────\n",
      "«                                                 \n",
      "«q_7: ────────────────────────────────────────────\n",
      "«                                                 \n",
      "«q_8: ────────────────────────────────────────────\n",
      "«                                                 \n",
      "«q_9: ────────────────────────────────────────────\n",
      "«                                                 \n",
      "cuts:\n",
      " (Qubit(QuantumRegister(10, 'q'), 4), 5)\n",
      " (Qubit(QuantumRegister(10, 'q'), 4), 12)\n",
      "\n",
      "fragment 0:\n",
      "         ┌────┐    ┌────────────┐    ┌────┐                                   »\n",
      "q_0: ────┤ √X ├────┤ RZ(4.0048) ├────┤ √X ├───────────────────────────────────»\n",
      "      ┌──┴────┴─┐  └───┬────┬───┘ ┌──┴────┴─┐                                 »\n",
      "q_1: ─┤ RZ(π/2) ├──────┤ √X ├─────┤ RZ(π/2) ├─────────────────────────────────»\n",
      "     ┌┴─────────┴─┐    ├────┤    ┌┴─────────┴─┐                               »\n",
      "q_2: ┤ RZ(4.7124) ├────┤ √X ├────┤ RZ(4.7124) ├───────────────────────────────»\n",
      "     └───┬────┬───┘┌───┴────┴───┐└───┬────┬───┘┌───────┐      ┌────────┐┌────┐»\n",
      "q_3: ────┤ √X ├────┤ RZ(4.6738) ├────┤ √X ├────┤ RZ(π) ├──■───┤ RZ(-π) ├┤ √X ├»\n",
      "         ├────┤    ├────────────┤    ├────┤    └───────┘┌─┴─┐┌┴────────┤├────┤»\n",
      "q_4: ────┤ √X ├────┤ RZ(4.7123) ├────┤ √X ├─────────────┤ X ├┤ RZ(π/2) ├┤ √X ├»\n",
      "         └────┘    └────────────┘    └────┘             └───┘└─────────┘└────┘»\n",
      "«                         ┌───┐┌─────────┐┌────┐ ┌─────────┐           ┌────┐  »\n",
      "«q_0: ────────────────────┤ X ├┤ RZ(π/2) ├┤ √X ├─┤ RZ(π/2) ├────■──────┤ √X ├──»\n",
      "«                         └─┬─┘└─────────┘└────┘ └─────────┘    │      └────┘  »\n",
      "«q_1: ──────────────────────┼───────────────────────────────────┼──────────────»\n",
      "«                           │                                 ┌─┴─┐ ┌─────────┐»\n",
      "«q_2: ──────────────────────┼─────────────────────────────────┤ X ├─┤ RZ(π/2) ├»\n",
      "«     ┌────────────┐┌────┐  │                                 └───┘ └─────────┘»\n",
      "«q_3: ┤ RZ(4.7509) ├┤ √X ├──┼──────────────────────────────────────────────────»\n",
      "«     └┬─────────┬─┘└────┘  │   ┌───────┐ ┌────┐┌────────────┐┌────┐           »\n",
      "«q_4: ─┤ RZ(π/2) ├──────────■───┤ RZ(π) ├─┤ √X ├┤ RZ(6.2831) ├┤ √X ├───────────»\n",
      "«      └─────────┘              └───────┘ └────┘└────────────┘└────┘           »\n",
      "«     ┌────────────┐   ┌────┐  ┌───────┐                                    »\n",
      "«q_0: ┤ RZ(3.8492) ├───┤ √X ├──┤ RZ(π) ├────────────────────────────────────»\n",
      "«     └────────────┘   └────┘  └─┬───┬─┘┌─────────┐    ┌────┐    ┌─────────┐»\n",
      "«q_1: ───────────────────────────┤ X ├──┤ RZ(π/2) ├────┤ √X ├────┤ RZ(π/2) ├»\n",
      "«         ┌────┐    ┌─────────┐  └─┬─┘  └──┬────┬─┘┌───┴────┴───┐└──┬────┬─┘»\n",
      "«q_2: ────┤ √X ├────┤ RZ(π/2) ├────■───────┤ √X ├──┤ RZ(6.2831) ├───┤ √X ├──»\n",
      "«         └────┘    └─────────┘            └────┘  └────────────┘   └────┘  »\n",
      "«q_3: ──────────────────────────────────────────────────────────────────────»\n",
      "«                                                                           »\n",
      "«q_4: ──────────────────────────────────────────────────────────────────────»\n",
      "«                                                                           »\n",
      "«              \n",
      "«q_0: ─────────\n",
      "«              \n",
      "«q_1: ─────────\n",
      "«     ┌───────┐\n",
      "«q_2: ┤ RZ(π) ├\n",
      "«     └───────┘\n",
      "«q_3: ─────────\n",
      "«              \n",
      "«q_4: ─────────\n",
      "«              \n",
      "\n",
      "fragment 1:\n",
      "                                                   ┌────┐┌────────────┐┌────┐»\n",
      "q_0: ───────────────────────────────────────────■──┤ √X ├┤ RZ(5.7327) ├┤ √X ├»\n",
      "     ┌────────┐┌────┐┌────────────┐┌────┐       │  └────┘└────────────┘└────┘»\n",
      "q_1: ┤ RZ(-π) ├┤ √X ├┤ RZ(3.6919) ├┤ √X ├──■────┼────────────────────────────»\n",
      "     └────────┘└────┘└────────────┘└────┘┌─┴─┐┌─┴─┐                          »\n",
      "q_2: ────────────────────────────────────┤ X ├┤ X ├──────────────────────────»\n",
      "                                         └───┘└───┘                          »\n",
      "«     ┌───────┐\n",
      "«q_0: ┤ RZ(π) ├\n",
      "«     └───────┘\n",
      "«q_1: ─────────\n",
      "«              \n",
      "«q_2: ─────────\n",
      "«              \n",
      "\n",
      "fragment 2:\n",
      "     \n",
      "q_0: \n",
      "     \n",
      "q_1: \n",
      "     \n",
      "q_2: \n",
      "     \n",
      "q_3: \n",
      "     \n",
      "\n",
      "fragment_index, prep_cuts, meas_cuts:\n",
      "0 1 1\n",
      "1 1 1\n",
      "2 0 0\n",
      "\n",
      "total number of fragment variants: 25\n",
      "total number of shots: 800000\n",
      "\n"
     ]
    }
   ],
   "source": [
    "if print_circuits:\n",
    "    print(\"total circuit:\")\n",
    "    print(circuit)\n",
    "    print(\"cuts:\")\n",
    "    for cut in cuts:\n",
    "        print(\"\",cut)\n",
    "    print()\n",
    "    for idx, fragment in enumerate(fragments):\n",
    "        print(f\"fragment {idx}:\")\n",
    "        print(fragment)\n",
    "        print()\n",
    "    fragment_cuts = ml.fragment_cuts(wire_path_map)\n",
    "    print(\"fragment_index, prep_cuts, meas_cuts:\")\n",
    "    for frag_idx, frag_cuts in enumerate(fragment_cuts):\n",
    "        print(frag_idx, frag_cuts[\"prep\"], frag_cuts[\"meas\"])\n",
    "    print()\n",
    "    print(\"total number of fragment variants:\", total_variants)\n",
    "    print(\"total number of shots:\", ( shots // total_variants ) * total_variants)\n",
    "    print()"
   ]
  },
  {
   "cell_type": "code",
   "execution_count": 31,
   "id": "956041cd",
   "metadata": {},
   "outputs": [
    {
     "name": "stdout",
     "output_type": "stream",
     "text": [
      "[{'prep': 1, 'meas': 1}, {'prep': 1, 'meas': 1}, {'prep': 0, 'meas': 0}]\n"
     ]
    }
   ],
   "source": [
    "print(fragment_cuts)"
   ]
  },
  {
   "cell_type": "code",
   "execution_count": 32,
   "id": "398d7b33",
   "metadata": {},
   "outputs": [],
   "source": [
    "# list of all possible measurement outcomes (bitstrings)\n",
    "all_bits = [ \"\".join(bits) for bits in itertools.product([\"0\",\"1\"], repeat = qubits) ]"
   ]
  },
  {
   "cell_type": "code",
   "execution_count": 33,
   "id": "05e2a6c7",
   "metadata": {},
   "outputs": [
    {
     "name": "stdout",
     "output_type": "stream",
     "text": [
      "['00000', '00001', '00010', '00011', '00100', '00101', '00110', '00111', '01000', '01001', '01010', '01011', '01100', '01101', '01110', '01111', '10000', '10001', '10010', '10011', '10100', '10101', '10110', '10111', '11000', '11001', '11010', '11011', '11100', '11101', '11110', '11111']\n"
     ]
    }
   ],
   "source": [
    "print(all_bits)"
   ]
  },
  {
   "cell_type": "code",
   "execution_count": 34,
   "id": "991f5ee3",
   "metadata": {},
   "outputs": [],
   "source": [
    "# # get the actual state / probability distribution for the full circuit\n",
    "# actual_state = ml.get_statevector(circuit)\n",
    "# actual_dist = { \"\".join(bits) : abs(amp)**2\n",
    "#                 for bits, amp in zip(all_bits, actual_state)\n",
    "#                 if amp != 0 }\n",
    "\n",
    "# # get a simulated probability distribution for the full circuit\n",
    "# circuit.measure_active()\n",
    "# full_circuit_result = ml.run_circuits(circuit, shots, backend = simulation_backend)\n",
    "# full_circuit_dist = {}\n",
    "# for part in full_circuit_result:\n",
    "#     for bits, counts in part.get_counts(circuit).items():\n",
    "#         if bits not in full_circuit_dist:\n",
    "#             full_circuit_dist[bits] = 0\n",
    "#         full_circuit_dist[bits] += counts / shots"
   ]
  },
  {
   "cell_type": "code",
   "execution_count": 35,
   "id": "7e93e1dc",
   "metadata": {},
   "outputs": [
    {
     "data": {
      "text/plain": [
       "{Qubit(QuantumRegister(10, 'q'), 0): ((0, Qubit(QuantumRegister(5, 'q'), 3)),),\n",
       " Qubit(QuantumRegister(10, 'q'), 1): ((0, Qubit(QuantumRegister(5, 'q'), 4)),),\n",
       " Qubit(QuantumRegister(10, 'q'), 2): ((0, Qubit(QuantumRegister(5, 'q'), 0)),),\n",
       " Qubit(QuantumRegister(10, 'q'), 3): ((0, Qubit(QuantumRegister(5, 'q'), 2)),),\n",
       " Qubit(QuantumRegister(10, 'q'), 4): ((1, Qubit(QuantumRegister(3, 'q'), 1)),\n",
       "  (0, Qubit(QuantumRegister(5, 'q'), 1)),\n",
       "  (1, Qubit(QuantumRegister(3, 'q'), 0))),\n",
       " Qubit(QuantumRegister(10, 'q'), 5): ((1, Qubit(QuantumRegister(3, 'q'), 2)),),\n",
       " Qubit(QuantumRegister(10, 'q'), 6): ((2, Qubit(QuantumRegister(4, 'q'), 0)),),\n",
       " Qubit(QuantumRegister(10, 'q'), 7): ((2, Qubit(QuantumRegister(4, 'q'), 1)),),\n",
       " Qubit(QuantumRegister(10, 'q'), 8): ((2, Qubit(QuantumRegister(4, 'q'), 2)),),\n",
       " Qubit(QuantumRegister(10, 'q'), 9): ((2, Qubit(QuantumRegister(4, 'q'), 3)),)}"
      ]
     },
     "execution_count": 35,
     "metadata": {},
     "output_type": "execute_result"
    }
   ],
   "source": [
    "wire_path_map"
   ]
  },
  {
   "cell_type": "code",
   "execution_count": 36,
   "id": "6a5762e7",
   "metadata": {},
   "outputs": [],
   "source": [
    "orign_qc = QuantumCircuit.from_qasm_file(\"qasm/vqe_5q.qasm\")\n",
    "orign_qc.measure_all()"
   ]
  },
  {
   "cell_type": "code",
   "execution_count": 37,
   "id": "6cc45566",
   "metadata": {},
   "outputs": [],
   "source": [
    "orign_qc = transpile(orign_qc, basis_gates = ['sx', 'cx', 'reset', 'id', 'x', 'rz'])"
   ]
  },
  {
   "cell_type": "code",
   "execution_count": 38,
   "id": "c3eb407d",
   "metadata": {},
   "outputs": [
    {
     "data": {
      "text/html": [
       "<pre style=\"word-wrap: normal;white-space: pre;background: #fff0;line-height: 1.1;font-family: &quot;Courier New&quot;,Courier,monospace\">global phase: -110.035482480046\n",
       "            ┌────┐    ┌────────────┐    ┌────┐    ┌───────┐          ┌────────┐»\n",
       "   q_0: ────┤ √X ├────┤ RZ(4.6738) ├────┤ √X ├────┤ RZ(π) ├────■─────┤ RZ(-π) ├»\n",
       "            ├────┤    ├────────────┤    ├────┤    └───────┘  ┌─┴─┐  ┌┴────────┤»\n",
       "   q_1: ────┤ √X ├────┤ RZ(4.7123) ├────┤ √X ├───────────────┤ X ├──┤ RZ(π/2) ├»\n",
       "            ├────┤    ├────────────┤    ├────┤               └───┘  └─────────┘»\n",
       "   q_2: ────┤ √X ├────┤ RZ(4.0048) ├────┤ √X ├─────────────────────────────────»\n",
       "        ┌───┴────┴───┐└───┬────┬───┘┌───┴────┴───┐                             »\n",
       "   q_3: ┤ RZ(4.7124) ├────┤ √X ├────┤ RZ(4.7124) ├─────────────────────────────»\n",
       "        └─┬───────┬──┘    ├────┤    ├────────────┤  ┌────┐ ┌───────┐           »\n",
       "   q_4: ──┤ RZ(π) ├───────┤ √X ├────┤ RZ(5.2627) ├──┤ √X ├─┤ RZ(π) ├───────────»\n",
       "          └───────┘       └────┘    └────────────┘  └────┘ └───────┘           »\n",
       "meas: 5/═══════════════════════════════════════════════════════════════════════»\n",
       "                                                                               »\n",
       "«        ┌────┐┌────────────┐┌────┐                                     »\n",
       "«   q_0: ┤ √X ├┤ RZ(4.7509) ├┤ √X ├─────────────────────────────────────»\n",
       "«        ├────┤└┬─────────┬─┘└────┘ ┌───────┐ ┌────┐┌────────────┐┌────┐»\n",
       "«   q_1: ┤ √X ├─┤ RZ(π/2) ├────■────┤ RZ(π) ├─┤ √X ├┤ RZ(6.2831) ├┤ √X ├»\n",
       "«        └────┘ └─────────┘  ┌─┴─┐ ┌┴───────┴┐├────┤└┬─────────┬─┘└────┘»\n",
       "«   q_2: ────────────────────┤ X ├─┤ RZ(π/2) ├┤ √X ├─┤ RZ(π/2) ├────■───»\n",
       "«                            └───┘ └─────────┘└────┘ └─────────┘  ┌─┴─┐ »\n",
       "«   q_3: ─────────────────────────────────────────────────────────┤ X ├─»\n",
       "«                                                                 └───┘ »\n",
       "«   q_4: ───────────────────────────────────────────────────────────────»\n",
       "«                                                                       »\n",
       "«meas: 5/═══════════════════════════════════════════════════════════════»\n",
       "«                                                                       »\n",
       "«                                                                         »\n",
       "«   q_0: ─────────────────────────────────────────────────────────────────»\n",
       "«                                                                         »\n",
       "«   q_1: ─────────────────────────────────────────────────────────────────»\n",
       "«           ┌────┐  ┌────────────┐   ┌────┐  ┌───────┐                    »\n",
       "«   q_2: ───┤ √X ├──┤ RZ(3.8492) ├───┤ √X ├──┤ RZ(π) ├────────────────────»\n",
       "«        ┌──┴────┴─┐└───┬────┬───┘┌──┴────┴─┐└───────┘┌────┐┌────────────┐»\n",
       "«   q_3: ┤ RZ(π/2) ├────┤ √X ├────┤ RZ(π/2) ├────■────┤ √X ├┤ RZ(6.2831) ├»\n",
       "«        └─────────┘    └────┘    └─────────┘  ┌─┴─┐  ├────┤├────────────┤»\n",
       "«   q_4: ──────────────────────────────────────┤ X ├──┤ √X ├┤ RZ(5.2629) ├»\n",
       "«                                              └───┘  └────┘└────────────┘»\n",
       "«meas: 5/═════════════════════════════════════════════════════════════════»\n",
       "«                                                                         »\n",
       "«                        ░ ┌─┐            \n",
       "«   q_0: ────────────────░─┤M├────────────\n",
       "«                        ░ └╥┘┌─┐         \n",
       "«   q_1: ────────────────░──╫─┤M├─────────\n",
       "«                        ░  ║ └╥┘┌─┐      \n",
       "«   q_2: ────────────────░──╫──╫─┤M├──────\n",
       "«        ┌────┐┌───────┐ ░  ║  ║ └╥┘┌─┐   \n",
       "«   q_3: ┤ √X ├┤ RZ(π) ├─░──╫──╫──╫─┤M├───\n",
       "«        ├────┤└───────┘ ░  ║  ║  ║ └╥┘┌─┐\n",
       "«   q_4: ┤ √X ├──────────░──╫──╫──╫──╫─┤M├\n",
       "«        └────┘          ░  ║  ║  ║  ║ └╥┘\n",
       "«meas: 5/═══════════════════╩══╩══╩══╩══╩═\n",
       "«                           0  1  2  3  4 </pre>"
      ],
      "text/plain": [
       "global phase: -110.035482480046\n",
       "            ┌────┐    ┌────────────┐    ┌────┐    ┌───────┐          ┌────────┐»\n",
       "   q_0: ────┤ √X ├────┤ RZ(4.6738) ├────┤ √X ├────┤ RZ(π) ├────■─────┤ RZ(-π) ├»\n",
       "            ├────┤    ├────────────┤    ├────┤    └───────┘  ┌─┴─┐  ┌┴────────┤»\n",
       "   q_1: ────┤ √X ├────┤ RZ(4.7123) ├────┤ √X ├───────────────┤ X ├──┤ RZ(π/2) ├»\n",
       "            ├────┤    ├────────────┤    ├────┤               └───┘  └─────────┘»\n",
       "   q_2: ────┤ √X ├────┤ RZ(4.0048) ├────┤ √X ├─────────────────────────────────»\n",
       "        ┌───┴────┴───┐└───┬────┬───┘┌───┴────┴───┐                             »\n",
       "   q_3: ┤ RZ(4.7124) ├────┤ √X ├────┤ RZ(4.7124) ├─────────────────────────────»\n",
       "        └─┬───────┬──┘    ├────┤    ├────────────┤  ┌────┐ ┌───────┐           »\n",
       "   q_4: ──┤ RZ(π) ├───────┤ √X ├────┤ RZ(5.2627) ├──┤ √X ├─┤ RZ(π) ├───────────»\n",
       "          └───────┘       └────┘    └────────────┘  └────┘ └───────┘           »\n",
       "meas: 5/═══════════════════════════════════════════════════════════════════════»\n",
       "                                                                               »\n",
       "«        ┌────┐┌────────────┐┌────┐                                     »\n",
       "«   q_0: ┤ √X ├┤ RZ(4.7509) ├┤ √X ├─────────────────────────────────────»\n",
       "«        ├────┤└┬─────────┬─┘└────┘ ┌───────┐ ┌────┐┌────────────┐┌────┐»\n",
       "«   q_1: ┤ √X ├─┤ RZ(π/2) ├────■────┤ RZ(π) ├─┤ √X ├┤ RZ(6.2831) ├┤ √X ├»\n",
       "«        └────┘ └─────────┘  ┌─┴─┐ ┌┴───────┴┐├────┤└┬─────────┬─┘└────┘»\n",
       "«   q_2: ────────────────────┤ X ├─┤ RZ(π/2) ├┤ √X ├─┤ RZ(π/2) ├────■───»\n",
       "«                            └───┘ └─────────┘└────┘ └─────────┘  ┌─┴─┐ »\n",
       "«   q_3: ─────────────────────────────────────────────────────────┤ X ├─»\n",
       "«                                                                 └───┘ »\n",
       "«   q_4: ───────────────────────────────────────────────────────────────»\n",
       "«                                                                       »\n",
       "«meas: 5/═══════════════════════════════════════════════════════════════»\n",
       "«                                                                       »\n",
       "«                                                                         »\n",
       "«   q_0: ─────────────────────────────────────────────────────────────────»\n",
       "«                                                                         »\n",
       "«   q_1: ─────────────────────────────────────────────────────────────────»\n",
       "«           ┌────┐  ┌────────────┐   ┌────┐  ┌───────┐                    »\n",
       "«   q_2: ───┤ √X ├──┤ RZ(3.8492) ├───┤ √X ├──┤ RZ(π) ├────────────────────»\n",
       "«        ┌──┴────┴─┐└───┬────┬───┘┌──┴────┴─┐└───────┘┌────┐┌────────────┐»\n",
       "«   q_3: ┤ RZ(π/2) ├────┤ √X ├────┤ RZ(π/2) ├────■────┤ √X ├┤ RZ(6.2831) ├»\n",
       "«        └─────────┘    └────┘    └─────────┘  ┌─┴─┐  ├────┤├────────────┤»\n",
       "«   q_4: ──────────────────────────────────────┤ X ├──┤ √X ├┤ RZ(5.2629) ├»\n",
       "«                                              └───┘  └────┘└────────────┘»\n",
       "«meas: 5/═════════════════════════════════════════════════════════════════»\n",
       "«                                                                         »\n",
       "«                        ░ ┌─┐            \n",
       "«   q_0: ────────────────░─┤M├────────────\n",
       "«                        ░ └╥┘┌─┐         \n",
       "«   q_1: ────────────────░──╫─┤M├─────────\n",
       "«                        ░  ║ └╥┘┌─┐      \n",
       "«   q_2: ────────────────░──╫──╫─┤M├──────\n",
       "«        ┌────┐┌───────┐ ░  ║  ║ └╥┘┌─┐   \n",
       "«   q_3: ┤ √X ├┤ RZ(π) ├─░──╫──╫──╫─┤M├───\n",
       "«        ├────┤└───────┘ ░  ║  ║  ║ └╥┘┌─┐\n",
       "«   q_4: ┤ √X ├──────────░──╫──╫──╫──╫─┤M├\n",
       "«        └────┘          ░  ║  ║  ║  ║ └╥┘\n",
       "«meas: 5/═══════════════════╩══╩══╩══╩══╩═\n",
       "«                           0  1  2  3  4 "
      ]
     },
     "execution_count": 38,
     "metadata": {},
     "output_type": "execute_result"
    }
   ],
   "source": [
    "orign_qc.draw()"
   ]
  },
  {
   "cell_type": "code",
   "execution_count": 39,
   "id": "1d356082",
   "metadata": {},
   "outputs": [
    {
     "data": {
      "text/plain": [
       "3"
      ]
     },
     "execution_count": 39,
     "metadata": {},
     "output_type": "execute_result"
    }
   ],
   "source": [
    "len(fragments)"
   ]
  },
  {
   "cell_type": "code",
   "execution_count": 40,
   "id": "3854951e",
   "metadata": {},
   "outputs": [],
   "source": [
    "temp_frag_data = [0] * len(fragments)"
   ]
  },
  {
   "cell_type": "code",
   "execution_count": 41,
   "id": "7cf11c70",
   "metadata": {},
   "outputs": [
    {
     "data": {
      "text/html": [
       "<pre style=\"word-wrap: normal;white-space: pre;background: #fff0;line-height: 1.1;font-family: &quot;Courier New&quot;,Courier,monospace\">         ┌────┐    ┌────────────┐    ┌────┐                                   »\n",
       "q_0: ────┤ √X ├────┤ RZ(4.0048) ├────┤ √X ├───────────────────────────────────»\n",
       "      ┌──┴────┴─┐  └───┬────┬───┘ ┌──┴────┴─┐                                 »\n",
       "q_1: ─┤ RZ(π/2) ├──────┤ √X ├─────┤ RZ(π/2) ├─────────────────────────────────»\n",
       "     ┌┴─────────┴─┐    ├────┤    ┌┴─────────┴─┐                               »\n",
       "q_2: ┤ RZ(4.7124) ├────┤ √X ├────┤ RZ(4.7124) ├───────────────────────────────»\n",
       "     └───┬────┬───┘┌───┴────┴───┐└───┬────┬───┘┌───────┐      ┌────────┐┌────┐»\n",
       "q_3: ────┤ √X ├────┤ RZ(4.6738) ├────┤ √X ├────┤ RZ(π) ├──■───┤ RZ(-π) ├┤ √X ├»\n",
       "         ├────┤    ├────────────┤    ├────┤    └───────┘┌─┴─┐┌┴────────┤├────┤»\n",
       "q_4: ────┤ √X ├────┤ RZ(4.7123) ├────┤ √X ├─────────────┤ X ├┤ RZ(π/2) ├┤ √X ├»\n",
       "         └────┘    └────────────┘    └────┘             └───┘└─────────┘└────┘»\n",
       "«                         ┌───┐┌─────────┐┌────┐ ┌─────────┐           ┌────┐  »\n",
       "«q_0: ────────────────────┤ X ├┤ RZ(π/2) ├┤ √X ├─┤ RZ(π/2) ├────■──────┤ √X ├──»\n",
       "«                         └─┬─┘└─────────┘└────┘ └─────────┘    │      └────┘  »\n",
       "«q_1: ──────────────────────┼───────────────────────────────────┼──────────────»\n",
       "«                           │                                 ┌─┴─┐ ┌─────────┐»\n",
       "«q_2: ──────────────────────┼─────────────────────────────────┤ X ├─┤ RZ(π/2) ├»\n",
       "«     ┌────────────┐┌────┐  │                                 └───┘ └─────────┘»\n",
       "«q_3: ┤ RZ(4.7509) ├┤ √X ├──┼──────────────────────────────────────────────────»\n",
       "«     └┬─────────┬─┘└────┘  │   ┌───────┐ ┌────┐┌────────────┐┌────┐           »\n",
       "«q_4: ─┤ RZ(π/2) ├──────────■───┤ RZ(π) ├─┤ √X ├┤ RZ(6.2831) ├┤ √X ├───────────»\n",
       "«      └─────────┘              └───────┘ └────┘└────────────┘└────┘           »\n",
       "«     ┌────────────┐   ┌────┐  ┌───────┐                                    »\n",
       "«q_0: ┤ RZ(3.8492) ├───┤ √X ├──┤ RZ(π) ├────────────────────────────────────»\n",
       "«     └────────────┘   └────┘  └─┬───┬─┘┌─────────┐    ┌────┐    ┌─────────┐»\n",
       "«q_1: ───────────────────────────┤ X ├──┤ RZ(π/2) ├────┤ √X ├────┤ RZ(π/2) ├»\n",
       "«         ┌────┐    ┌─────────┐  └─┬─┘  └──┬────┬─┘┌───┴────┴───┐└──┬────┬─┘»\n",
       "«q_2: ────┤ √X ├────┤ RZ(π/2) ├────■───────┤ √X ├──┤ RZ(6.2831) ├───┤ √X ├──»\n",
       "«         └────┘    └─────────┘            └────┘  └────────────┘   └────┘  »\n",
       "«q_3: ──────────────────────────────────────────────────────────────────────»\n",
       "«                                                                           »\n",
       "«q_4: ──────────────────────────────────────────────────────────────────────»\n",
       "«                                                                           »\n",
       "«              \n",
       "«q_0: ─────────\n",
       "«              \n",
       "«q_1: ─────────\n",
       "«     ┌───────┐\n",
       "«q_2: ┤ RZ(π) ├\n",
       "«     └───────┘\n",
       "«q_3: ─────────\n",
       "«              \n",
       "«q_4: ─────────\n",
       "«              </pre>"
      ],
      "text/plain": [
       "         ┌────┐    ┌────────────┐    ┌────┐                                   »\n",
       "q_0: ────┤ √X ├────┤ RZ(4.0048) ├────┤ √X ├───────────────────────────────────»\n",
       "      ┌──┴────┴─┐  └───┬────┬───┘ ┌──┴────┴─┐                                 »\n",
       "q_1: ─┤ RZ(π/2) ├──────┤ √X ├─────┤ RZ(π/2) ├─────────────────────────────────»\n",
       "     ┌┴─────────┴─┐    ├────┤    ┌┴─────────┴─┐                               »\n",
       "q_2: ┤ RZ(4.7124) ├────┤ √X ├────┤ RZ(4.7124) ├───────────────────────────────»\n",
       "     └───┬────┬───┘┌───┴────┴───┐└───┬────┬───┘┌───────┐      ┌────────┐┌────┐»\n",
       "q_3: ────┤ √X ├────┤ RZ(4.6738) ├────┤ √X ├────┤ RZ(π) ├──■───┤ RZ(-π) ├┤ √X ├»\n",
       "         ├────┤    ├────────────┤    ├────┤    └───────┘┌─┴─┐┌┴────────┤├────┤»\n",
       "q_4: ────┤ √X ├────┤ RZ(4.7123) ├────┤ √X ├─────────────┤ X ├┤ RZ(π/2) ├┤ √X ├»\n",
       "         └────┘    └────────────┘    └────┘             └───┘└─────────┘└────┘»\n",
       "«                         ┌───┐┌─────────┐┌────┐ ┌─────────┐           ┌────┐  »\n",
       "«q_0: ────────────────────┤ X ├┤ RZ(π/2) ├┤ √X ├─┤ RZ(π/2) ├────■──────┤ √X ├──»\n",
       "«                         └─┬─┘└─────────┘└────┘ └─────────┘    │      └────┘  »\n",
       "«q_1: ──────────────────────┼───────────────────────────────────┼──────────────»\n",
       "«                           │                                 ┌─┴─┐ ┌─────────┐»\n",
       "«q_2: ──────────────────────┼─────────────────────────────────┤ X ├─┤ RZ(π/2) ├»\n",
       "«     ┌────────────┐┌────┐  │                                 └───┘ └─────────┘»\n",
       "«q_3: ┤ RZ(4.7509) ├┤ √X ├──┼──────────────────────────────────────────────────»\n",
       "«     └┬─────────┬─┘└────┘  │   ┌───────┐ ┌────┐┌────────────┐┌────┐           »\n",
       "«q_4: ─┤ RZ(π/2) ├──────────■───┤ RZ(π) ├─┤ √X ├┤ RZ(6.2831) ├┤ √X ├───────────»\n",
       "«      └─────────┘              └───────┘ └────┘└────────────┘└────┘           »\n",
       "«     ┌────────────┐   ┌────┐  ┌───────┐                                    »\n",
       "«q_0: ┤ RZ(3.8492) ├───┤ √X ├──┤ RZ(π) ├────────────────────────────────────»\n",
       "«     └────────────┘   └────┘  └─┬───┬─┘┌─────────┐    ┌────┐    ┌─────────┐»\n",
       "«q_1: ───────────────────────────┤ X ├──┤ RZ(π/2) ├────┤ √X ├────┤ RZ(π/2) ├»\n",
       "«         ┌────┐    ┌─────────┐  └─┬─┘  └──┬────┬─┘┌───┴────┴───┐└──┬────┬─┘»\n",
       "«q_2: ────┤ √X ├────┤ RZ(π/2) ├────■───────┤ √X ├──┤ RZ(6.2831) ├───┤ √X ├──»\n",
       "«         └────┘    └─────────┘            └────┘  └────────────┘   └────┘  »\n",
       "«q_3: ──────────────────────────────────────────────────────────────────────»\n",
       "«                                                                           »\n",
       "«q_4: ──────────────────────────────────────────────────────────────────────»\n",
       "«                                                                           »\n",
       "«              \n",
       "«q_0: ─────────\n",
       "«              \n",
       "«q_1: ─────────\n",
       "«     ┌───────┐\n",
       "«q_2: ┤ RZ(π) ├\n",
       "«     └───────┘\n",
       "«q_3: ─────────\n",
       "«              \n",
       "«q_4: ─────────\n",
       "«              "
      ]
     },
     "execution_count": 41,
     "metadata": {},
     "output_type": "execute_result"
    }
   ],
   "source": [
    "fragments[0].draw()"
   ]
  },
  {
   "cell_type": "code",
   "execution_count": 42,
   "id": "808001a3",
   "metadata": {},
   "outputs": [
    {
     "name": "stderr",
     "output_type": "stream",
     "text": [
      "/Users/revilooliver/Documents/quantum_computing/anaconda/anaconda3/envs/circ_cutting/lib/python3.8/site-packages/qiskit/ignis/verification/tomography/basis/sicbasis.py:48: DeprecationWarning: The QuantumCircuit.u3 method is deprecated as of 0.16.0. It will be removed no earlier than 3 months after the release date. You should use QuantumCircuit.u instead, which acts identically. Alternatively, you can decompose u3 in terms of QuantumCircuit.p and QuantumCircuit.sx: u3(ϴ,φ,λ) = p(φ+π) sx p(ϴ+π) sx p(λ) (2 pulses on hardware).\n",
      "  circ.u3(theta, np.pi, 0.0, qubit)\n"
     ]
    },
    {
     "name": "stdout",
     "output_type": "stream",
     "text": [
      "Job Status: job has successfully run\n",
      "job_id:  635bfdcc22eb4b0d02086e5f\n",
      "Job Status: job has successfully run\n",
      "job_id:  9aea7a6d-1479-46b2-aca0-c9b38cd32252\n",
      "Job Status: job has successfully run\n",
      "job_id:  6f7d59f0-b6dc-45df-92be-984c1e83d97a\n"
     ]
    }
   ],
   "source": [
    "for i in range(0, len(fragments)):\n",
    "    if i == 0:\n",
    "        temp_frag_data[i] = ml.collect_fragment_raw_data(fragments[i], i, wire_path_map,\n",
    "                                     shots = shots // total_variants,\n",
    "                                     tomography_backend = device, opt_lvl = 3, extra_qc = [orign_qc])\n",
    "    else:\n",
    "        temp_frag_data[i] = ml.collect_fragment_raw_data(fragments[i], i, wire_path_map,\n",
    "                                     shots = shots // total_variants,\n",
    "                                     tomography_backend = simulation_backend)"
   ]
  },
  {
   "cell_type": "code",
   "execution_count": 43,
   "id": "9e262467",
   "metadata": {},
   "outputs": [
    {
     "data": {
      "text/plain": [
       "1"
      ]
     },
     "execution_count": 43,
     "metadata": {},
     "output_type": "execute_result"
    }
   ],
   "source": [
    "len(temp_frag_data[0][0])"
   ]
  },
  {
   "cell_type": "code",
   "execution_count": 44,
   "id": "f276c589",
   "metadata": {},
   "outputs": [],
   "source": [
    "#     temp_frag_data[i] = ml.collect_fragment_raw_data(fragments[i], i, wire_path_map,\n",
    "#                                      shots = shots // total_variants,\n",
    "#                                      tomography_backend = simulation_backend)"
   ]
  },
  {
   "cell_type": "code",
   "execution_count": 45,
   "id": "9988b61c",
   "metadata": {},
   "outputs": [],
   "source": [
    "# for i in range(1, len(fragments)):\n",
    "#     temp_frag_data[i] = ml.collect_fragment_raw_data(fragments[i], i, wire_path_map,\n",
    "#                                      shots = shots // total_variants,\n",
    "#                                      tomography_backend = simulation_backend)"
   ]
  },
  {
   "cell_type": "code",
   "execution_count": 46,
   "id": "77ce4f90",
   "metadata": {},
   "outputs": [],
   "source": [
    "frag_targets = ml.identify_frag_targets(wire_path_map)"
   ]
  },
  {
   "cell_type": "code",
   "execution_count": 47,
   "id": "3ed64794",
   "metadata": {},
   "outputs": [],
   "source": [
    "frag_data = []\n",
    "for i in range(0, len(fragments)):\n",
    "    extra_list = []\n",
    "    if i == 0:\n",
    "        extra_list = [orign_qc]\n",
    "    frag_data.append(ml.organize_tomography_data(temp_frag_data[i][0],\n",
    "                                      frag_targets[i].get(\"prep\"),\n",
    "                                      frag_targets[i].get(\"meas\"),\n",
    "                                      prep_basis = \"SIC\", extra_qc = extra_list))"
   ]
  },
  {
   "cell_type": "code",
   "execution_count": 48,
   "id": "6f87d52b",
   "metadata": {},
   "outputs": [
    {
     "data": {
      "text/plain": [
       "3"
      ]
     },
     "execution_count": 48,
     "metadata": {},
     "output_type": "execute_result"
    }
   ],
   "source": [
    "len(frag_data)"
   ]
  },
  {
   "cell_type": "code",
   "execution_count": 49,
   "id": "6d6c25ac",
   "metadata": {},
   "outputs": [],
   "source": [
    "# frag_data = [ml.organize_tomography_data(temp_frag_data[0][0],\n",
    "#                                       frag_targets[0].get(\"prep\"),\n",
    "#                                       frag_targets[0].get(\"meas\"),\n",
    "#                                       prep_basis = \"SIC\", extra_qc = [orign_qc])]\n",
    "# for i in range(1, len(fragments)):\n",
    "#     frag_data.append(ml.organize_tomography_data(temp_frag_data[i][0],\n",
    "#                                       frag_targets[i].get(\"prep\"),\n",
    "#                                       frag_targets[i].get(\"meas\"),\n",
    "#                                       prep_basis = \"SIC\", extra_qc = []))"
   ]
  },
  {
   "cell_type": "code",
   "execution_count": 50,
   "id": "99930b5d",
   "metadata": {},
   "outputs": [],
   "source": [
    "direct_models = ml.direct_fragment_model(frag_data)\n",
    "likely_models = ml.maximum_likelihood_model(direct_models)\n",
    "\n",
    "direct_recombined_dist = ml.recombine_fragment_models(direct_models, wire_path_map)\n",
    "likely_recombined_dist = ml.recombine_fragment_models(likely_models, wire_path_map)"
   ]
  },
  {
   "cell_type": "code",
   "execution_count": null,
   "id": "17e41869",
   "metadata": {},
   "outputs": [],
   "source": []
  },
  {
   "cell_type": "code",
   "execution_count": 51,
   "id": "b689bf9b",
   "metadata": {},
   "outputs": [
    {
     "data": {
      "text/plain": [
       "{'0000000000': 9.338074008341324e-05,\n",
       " '0000010000': 0.005066781780541453,\n",
       " '0000100000': 0.0004048147362881685,\n",
       " '0000110000': 0.00011533471970575539,\n",
       " '0000000100': 0.00015241365500421792,\n",
       " '0000010100': 0.049452469489425735,\n",
       " '0000100100': -0.001591746251147417,\n",
       " '0000110100': 0.00027088280251791856,\n",
       " '0000000010': 0.00014986029641239458,\n",
       " '0000010010': 0.006207354225468771,\n",
       " '0000100010': 0.0004571274547074082,\n",
       " '0000110010': 7.16486083287903e-05,\n",
       " '0000000110': -0.0001977327256349598,\n",
       " '0000010110': 0.022277319983992176,\n",
       " '0000100110': 0.0010874585351790813,\n",
       " '0000110110': 0.00020154229899712082,\n",
       " '0000001010': 3.4190185724693345e-05,\n",
       " '0000011010': 0.00015610007747390714,\n",
       " '0000101010': 1.8300274736135715e-05,\n",
       " '0000111010': 2.6369597407637145e-06,\n",
       " '0000001110': 0.00011426527693226838,\n",
       " '0000011110': 0.0007103581996317439,\n",
       " '0000101110': 0.0001715924761411054,\n",
       " '0000111110': 2.2599615034670733e-05,\n",
       " '0000000011': 0.0005348315690033815,\n",
       " '0000010011': 0.025303944660056563,\n",
       " '0000100011': 0.0015358109543164686,\n",
       " '0000110011': 0.00037815949304614973,\n",
       " '0000000111': 0.0015808716867354623,\n",
       " '0000010111': 0.1640971818244788,\n",
       " '0000100111': 0.0033670042445764752,\n",
       " '0000110111': 0.0011115536131972212,\n",
       " '0000001011': 0.0002808854985391794,\n",
       " '0000011011': 0.0014738113041491401,\n",
       " '0000101011': 1.5134952511387807e-05,\n",
       " '0000111011': 3.318929642694548e-05,\n",
       " '0000001111': 0.0005831476964082644,\n",
       " '0000011111': 0.004597812459295976,\n",
       " '0000101111': 0.000979825609653313,\n",
       " '0000111111': 8.783731992296886e-05,\n",
       " '0000001000': 7.56531877031567e-05,\n",
       " '0000011000': 0.00025719162925632634,\n",
       " '0000101000': 0.00015142367158940678,\n",
       " '0000111000': 2.170306712792633e-05,\n",
       " '0000001100': 0.00011353165896060187,\n",
       " '0000011100': 0.0011528288660416137,\n",
       " '0000101100': 0.00034609005930117163,\n",
       " '0000111100': 6.158553804939822e-05,\n",
       " '0000000001': 0.0014156723244779824,\n",
       " '0000010001': 0.05337644895043668,\n",
       " '0000100001': 0.003942104644874982,\n",
       " '0000110001': 0.000748745762775348,\n",
       " '0000000101': 0.005006933975705651,\n",
       " '0000010101': 0.6004836184041182,\n",
       " '0000100101': 0.011854803842277311,\n",
       " '0000110101': 0.004217168786392845,\n",
       " '0000001001': 0.0008815993357553813,\n",
       " '0000011001': 0.004015977183609234,\n",
       " '0000101001': -0.00018058270878910094,\n",
       " '0000111001': -7.702928659865443e-05,\n",
       " '0000001101': 0.0020366299586234197,\n",
       " '0000011101': 0.015873598979884506,\n",
       " '0000101101': 0.00247534666507346,\n",
       " '0000111101': 0.00033899990575004955}"
      ]
     },
     "execution_count": 51,
     "metadata": {},
     "output_type": "execute_result"
    }
   ],
   "source": [
    "direct_recombined_dist"
   ]
  },
  {
   "cell_type": "code",
   "execution_count": 52,
   "id": "13b192fc",
   "metadata": {},
   "outputs": [
    {
     "data": {
      "text/plain": [
       "{'0000000000': 9.43424527271086e-05,\n",
       " '0000010000': 0.004952814973285135,\n",
       " '0000100000': 0.00032465460234791516,\n",
       " '0000110000': 9.718337122853928e-05,\n",
       " '0000000100': 0.0003945730676177301,\n",
       " '0000010100': 0.04937059135042299,\n",
       " '0000100100': 0.0007032093953635975,\n",
       " '0000110100': 0.00037573650420305154,\n",
       " '0000000010': 0.0001587423583317899,\n",
       " '0000010010': 0.006106970984131793,\n",
       " '0000100010': 0.000528900671066472,\n",
       " '0000110010': 8.247207245276603e-05,\n",
       " '0000000110': 2.361535306881416e-05,\n",
       " '0000010110': 0.022485255100453145,\n",
       " '0000100110': 0.001111527241371254,\n",
       " '0000110110': 0.00017212271277568467,\n",
       " '0000001010': 2.3034740780161774e-05,\n",
       " '0000011010': 9.397466735329442e-05,\n",
       " '0000101010': 2.5135772104981857e-05,\n",
       " '0000111010': 2.324423563289894e-06,\n",
       " '0000001110': 0.00010308590655531253,\n",
       " '0000011110': 0.0006213206486497172,\n",
       " '0000101110': 0.0001395836999731857,\n",
       " '0000111110': 1.4412557382332907e-05,\n",
       " '0000000011': 0.0005878645930403405,\n",
       " '0000010011': 0.02507305070867396,\n",
       " '0000100011': 0.0014886472075685607,\n",
       " '0000110011': 0.00034671927629341116,\n",
       " '0000000111': 0.002059764198942395,\n",
       " '0000010111': 0.16311127770946884,\n",
       " '0000100111': 0.0036001744993532743,\n",
       " '0000110111': 0.0009858233322662861,\n",
       " '0000001011': 0.000266189816530437,\n",
       " '0000011011': 0.0013855135053550587,\n",
       " '0000101011': 8.626949461024782e-05,\n",
       " '0000111011': 2.4467167972436492e-05,\n",
       " '0000001111': 0.0005701018607838497,\n",
       " '0000011111': 0.0044847373360676545,\n",
       " '0000101111': 0.0008935448088048929,\n",
       " '0000111111': 7.089880945090555e-05,\n",
       " '0000001000': 6.105755482354826e-05,\n",
       " '0000011000': 0.00020766116402891942,\n",
       " '0000101000': 6.526073377021268e-05,\n",
       " '0000111000': 1.2435789096624784e-05,\n",
       " '0000001100': 0.00010073170935747407,\n",
       " '0000011100': 0.0010593451482567811,\n",
       " '0000101100': 0.0002582469055689341,\n",
       " '0000111100': 4.6156048812194375e-05,\n",
       " '0000000001': 0.0015228419298300847,\n",
       " '0000010001': 0.052981987946733304,\n",
       " '0000100001': 0.003924507140178866,\n",
       " '0000110001': 0.00069809837994186,\n",
       " '0000000101': 0.006832978597146411,\n",
       " '0000010101': 0.5971190428144246,\n",
       " '0000100101': 0.012957992233819283,\n",
       " '0000110101': 0.0037902556979821497,\n",
       " '0000001001': 0.0008604666185961916,\n",
       " '0000011001': 0.003916058985162197,\n",
       " '0000101001': 0.00011218699875590845,\n",
       " '0000111001': 7.733988860002787e-06,\n",
       " '0000001101': 0.0020197739840263876,\n",
       " '0000011101': 0.01569791895194499,\n",
       " '0000101101': 0.0023933477054905185,\n",
       " '0000111101': 0.0003132840209999996}"
      ]
     },
     "execution_count": 52,
     "metadata": {},
     "output_type": "execute_result"
    }
   ],
   "source": [
    "likely_recombined_dist"
   ]
  },
  {
   "cell_type": "code",
   "execution_count": null,
   "id": "5dbabd0b",
   "metadata": {},
   "outputs": [],
   "source": []
  },
  {
   "cell_type": "code",
   "execution_count": 53,
   "id": "04be761c",
   "metadata": {},
   "outputs": [],
   "source": [
    "from utils.utils import filter_results"
   ]
  },
  {
   "cell_type": "code",
   "execution_count": 54,
   "id": "9df8b215",
   "metadata": {},
   "outputs": [],
   "source": [
    "filter_direct_recombined = filter_results(direct_recombined_dist, [0,1,2,3,4])"
   ]
  },
  {
   "cell_type": "code",
   "execution_count": 55,
   "id": "ef48375a",
   "metadata": {},
   "outputs": [
    {
     "data": {
      "text/plain": [
       "{'00000': 9.338074008341324e-05,\n",
       " '10000': 0.005066781780541453,\n",
       " '00100': 0.00015241365500421792,\n",
       " '10100': 0.049452469489425735,\n",
       " '00010': 0.00014986029641239458,\n",
       " '10010': 0.006207354225468771,\n",
       " '00110': -0.0001977327256349598,\n",
       " '10110': 0.022277319983992176,\n",
       " '01010': 3.4190185724693345e-05,\n",
       " '11010': 0.00015610007747390714,\n",
       " '01110': 0.00011426527693226838,\n",
       " '11110': 0.0007103581996317439,\n",
       " '00011': 0.0005348315690033815,\n",
       " '10011': 0.025303944660056563,\n",
       " '00111': 0.0015808716867354623,\n",
       " '10111': 0.1640971818244788,\n",
       " '01011': 0.0002808854985391794,\n",
       " '11011': 0.0014738113041491401,\n",
       " '01111': 0.0005831476964082644,\n",
       " '11111': 0.004597812459295976,\n",
       " '01000': 7.56531877031567e-05,\n",
       " '11000': 0.00025719162925632634,\n",
       " '01100': 0.00011353165896060187,\n",
       " '11100': 0.0011528288660416137,\n",
       " '00001': 0.0014156723244779824,\n",
       " '10001': 0.05337644895043668,\n",
       " '00101': 0.005006933975705651,\n",
       " '10101': 0.6004836184041182,\n",
       " '01001': 0.0008815993357553813,\n",
       " '11001': 0.004015977183609234,\n",
       " '01101': 0.0020366299586234197,\n",
       " '11101': 0.015873598979884506}"
      ]
     },
     "execution_count": 55,
     "metadata": {},
     "output_type": "execute_result"
    }
   ],
   "source": [
    "filter_direct_recombined"
   ]
  },
  {
   "cell_type": "code",
   "execution_count": 56,
   "id": "246437c1",
   "metadata": {},
   "outputs": [],
   "source": [
    "filter_likely_recombined = filter_results(likely_recombined_dist, [0,1,2,3,4])"
   ]
  },
  {
   "cell_type": "code",
   "execution_count": 57,
   "id": "a8fe450d",
   "metadata": {},
   "outputs": [
    {
     "data": {
      "text/plain": [
       "{'00000': 9.43424527271086e-05,\n",
       " '10000': 0.004952814973285135,\n",
       " '00100': 0.0003945730676177301,\n",
       " '10100': 0.04937059135042299,\n",
       " '00010': 0.0001587423583317899,\n",
       " '10010': 0.006106970984131793,\n",
       " '00110': 2.361535306881416e-05,\n",
       " '10110': 0.022485255100453145,\n",
       " '01010': 2.3034740780161774e-05,\n",
       " '11010': 9.397466735329442e-05,\n",
       " '01110': 0.00010308590655531253,\n",
       " '11110': 0.0006213206486497172,\n",
       " '00011': 0.0005878645930403405,\n",
       " '10011': 0.02507305070867396,\n",
       " '00111': 0.002059764198942395,\n",
       " '10111': 0.16311127770946884,\n",
       " '01011': 0.000266189816530437,\n",
       " '11011': 0.0013855135053550587,\n",
       " '01111': 0.0005701018607838497,\n",
       " '11111': 0.0044847373360676545,\n",
       " '01000': 6.105755482354826e-05,\n",
       " '11000': 0.00020766116402891942,\n",
       " '01100': 0.00010073170935747407,\n",
       " '11100': 0.0010593451482567811,\n",
       " '00001': 0.0015228419298300847,\n",
       " '10001': 0.052981987946733304,\n",
       " '00101': 0.006832978597146411,\n",
       " '10101': 0.5971190428144246,\n",
       " '01001': 0.0008604666185961916,\n",
       " '11001': 0.003916058985162197,\n",
       " '01101': 0.0020197739840263876,\n",
       " '11101': 0.01569791895194499}"
      ]
     },
     "execution_count": 57,
     "metadata": {},
     "output_type": "execute_result"
    }
   ],
   "source": [
    "filter_likely_recombined"
   ]
  },
  {
   "cell_type": "code",
   "execution_count": 58,
   "id": "5fab80f3",
   "metadata": {},
   "outputs": [],
   "source": [
    "def norm_dict(dictionary):\n",
    "    total = total_counts(dictionary)\n",
    "    norm_dist = {}\n",
    "    for i in dictionary.keys():\n",
    "        norm_dist[i] = dictionary[i]/total\n",
    "    return norm_dist"
   ]
  },
  {
   "cell_type": "code",
   "execution_count": 59,
   "id": "f05e0129",
   "metadata": {},
   "outputs": [
    {
     "data": {
      "text/plain": [
       "{'00000': 101,\n",
       " '00001': 70,\n",
       " '10000': 2132,\n",
       " '10001': 1208,\n",
       " '10010': 298,\n",
       " '10011': 240,\n",
       " '10100': 13912,\n",
       " '10101': 8364,\n",
       " '10110': 675,\n",
       " '10111': 509,\n",
       " '11000': 504,\n",
       " '11001': 279,\n",
       " '11010': 57,\n",
       " '11011': 35,\n",
       " '11100': 601,\n",
       " '11101': 326,\n",
       " '11110': 73,\n",
       " '11111': 59,\n",
       " '00010': 8,\n",
       " '00011': 14,\n",
       " '00100': 704,\n",
       " '00101': 419,\n",
       " '00110': 29,\n",
       " '00111': 30,\n",
       " '01000': 518,\n",
       " '01001': 362,\n",
       " '01010': 42,\n",
       " '01011': 30,\n",
       " '01100': 221,\n",
       " '01101': 124,\n",
       " '01110': 35,\n",
       " '01111': 21}"
      ]
     },
     "execution_count": 59,
     "metadata": {},
     "output_type": "execute_result"
    }
   ],
   "source": [
    "unmiti_dist = temp_frag_data[0][0][0].get_counts()[-1]\n",
    "unmiti_dist"
   ]
  },
  {
   "cell_type": "code",
   "execution_count": 60,
   "id": "1e8284f8",
   "metadata": {},
   "outputs": [],
   "source": [
    "unmiti_norm_dist = norm_dict(unmiti_dist)"
   ]
  },
  {
   "cell_type": "code",
   "execution_count": 61,
   "id": "a724f3dd",
   "metadata": {},
   "outputs": [],
   "source": [
    "norm_filter_dist = norm_dict(filter_likely_recombined)"
   ]
  },
  {
   "cell_type": "code",
   "execution_count": 62,
   "id": "c2138c6d",
   "metadata": {},
   "outputs": [
    {
     "data": {
      "text/plain": [
       "0.261375"
      ]
     },
     "execution_count": 62,
     "metadata": {},
     "output_type": "execute_result"
    }
   ],
   "source": [
    "unmiti_norm_dist['10101']"
   ]
  },
  {
   "cell_type": "code",
   "execution_count": 63,
   "id": "81d6bc37",
   "metadata": {},
   "outputs": [
    {
     "data": {
      "text/plain": [
       "0.5971190428144246"
      ]
     },
     "execution_count": 63,
     "metadata": {},
     "output_type": "execute_result"
    }
   ],
   "source": [
    "likely_recombined_dist['0000010101']"
   ]
  },
  {
   "cell_type": "code",
   "execution_count": 64,
   "id": "3287adab",
   "metadata": {},
   "outputs": [
    {
     "data": {
      "text/plain": [
       "0.6191954107657333"
      ]
     },
     "execution_count": 64,
     "metadata": {},
     "output_type": "execute_result"
    }
   ],
   "source": [
    "norm_filter_dist['10101']"
   ]
  },
  {
   "cell_type": "code",
   "execution_count": 65,
   "id": "9b10b83e",
   "metadata": {},
   "outputs": [
    {
     "data": {
      "text/plain": [
       "{'00000': 9.783043175724626e-05,\n",
       " '10000': 0.005135927816629799,\n",
       " '00100': 0.00040916101340379804,\n",
       " '10100': 0.05119589461907852,\n",
       " '00010': 0.0001646112964508514,\n",
       " '10010': 0.006332754670209209,\n",
       " '00110': 2.44884473536488e-05,\n",
       " '10110': 0.02331656800371775,\n",
       " '01010': 2.3886368975988558e-05,\n",
       " '11010': 9.744904881802676e-05,\n",
       " '01110': 0.00010689714391425332,\n",
       " '11110': 0.0006442917855116173,\n",
       " '00011': 0.00060959881039227,\n",
       " '10011': 0.026000038216052002,\n",
       " '00111': 0.0021359167063795376,\n",
       " '10111': 0.16914174119418712,\n",
       " '01011': 0.000276031244978137,\n",
       " '11011': 0.001436737974435057,\n",
       " '01111': 0.0005911793638376277,\n",
       " '11111': 0.004650544661738176,\n",
       " '01000': 6.331494229546442e-05,\n",
       " '11000': 0.00021533870223753462,\n",
       " '01100': 0.00010445590858859957,\n",
       " '11100': 0.0010985106941588543,\n",
       " '00001': 0.0015791436324456185,\n",
       " '10001': 0.054940809851308524,\n",
       " '00101': 0.0070856038509032266,\n",
       " '10101': 0.6191954107657333,\n",
       " '01001': 0.0008922793331805622,\n",
       " '11001': 0.0040608414370297335,\n",
       " '01101': 0.002094447994487824,\n",
       " '11101': 0.01627829406981016}"
      ]
     },
     "execution_count": 65,
     "metadata": {},
     "output_type": "execute_result"
    }
   ],
   "source": [
    "norm_filter_dist"
   ]
  },
  {
   "cell_type": "code",
   "execution_count": 66,
   "id": "7e67de89",
   "metadata": {},
   "outputs": [
    {
     "data": {
      "text/plain": [
       "32000"
      ]
     },
     "execution_count": 66,
     "metadata": {},
     "output_type": "execute_result"
    }
   ],
   "source": [
    "total_counts(unmiti_dist)"
   ]
  },
  {
   "cell_type": "code",
   "execution_count": 67,
   "id": "95574397",
   "metadata": {},
   "outputs": [],
   "source": [
    "unmiti_norm_dist = {}\n",
    "for i in unmiti_dist.keys():\n",
    "    unmiti_norm_dist[i] = unmiti_dist[i]/32000"
   ]
  },
  {
   "cell_type": "code",
   "execution_count": 68,
   "id": "abb7b782",
   "metadata": {},
   "outputs": [
    {
     "data": {
      "text/plain": [
       "{'00000': 0.00315625,\n",
       " '00001': 0.0021875,\n",
       " '10000': 0.066625,\n",
       " '10001': 0.03775,\n",
       " '10010': 0.0093125,\n",
       " '10011': 0.0075,\n",
       " '10100': 0.43475,\n",
       " '10101': 0.261375,\n",
       " '10110': 0.02109375,\n",
       " '10111': 0.01590625,\n",
       " '11000': 0.01575,\n",
       " '11001': 0.00871875,\n",
       " '11010': 0.00178125,\n",
       " '11011': 0.00109375,\n",
       " '11100': 0.01878125,\n",
       " '11101': 0.0101875,\n",
       " '11110': 0.00228125,\n",
       " '11111': 0.00184375,\n",
       " '00010': 0.00025,\n",
       " '00011': 0.0004375,\n",
       " '00100': 0.022,\n",
       " '00101': 0.01309375,\n",
       " '00110': 0.00090625,\n",
       " '00111': 0.0009375,\n",
       " '01000': 0.0161875,\n",
       " '01001': 0.0113125,\n",
       " '01010': 0.0013125,\n",
       " '01011': 0.0009375,\n",
       " '01100': 0.00690625,\n",
       " '01101': 0.003875,\n",
       " '01110': 0.00109375,\n",
       " '01111': 0.00065625}"
      ]
     },
     "execution_count": 68,
     "metadata": {},
     "output_type": "execute_result"
    }
   ],
   "source": [
    "unmiti_norm_dist"
   ]
  },
  {
   "cell_type": "code",
   "execution_count": null,
   "id": "29dbbc7a",
   "metadata": {},
   "outputs": [],
   "source": []
  },
  {
   "cell_type": "code",
   "execution_count": null,
   "id": "885a8632",
   "metadata": {},
   "outputs": [],
   "source": []
  },
  {
   "cell_type": "code",
   "execution_count": null,
   "id": "07c09de0",
   "metadata": {},
   "outputs": [],
   "source": []
  },
  {
   "cell_type": "code",
   "execution_count": null,
   "id": "eddcbbe8",
   "metadata": {},
   "outputs": [],
   "source": []
  },
  {
   "cell_type": "code",
   "execution_count": null,
   "id": "3ecc52eb",
   "metadata": {},
   "outputs": [],
   "source": []
  },
  {
   "cell_type": "code",
   "execution_count": null,
   "id": "a87cb2b9",
   "metadata": {},
   "outputs": [],
   "source": []
  },
  {
   "cell_type": "code",
   "execution_count": null,
   "id": "3c03a69d",
   "metadata": {},
   "outputs": [],
   "source": []
  }
 ],
 "metadata": {
  "kernelspec": {
   "display_name": "Python 3 (ipykernel)",
   "language": "python",
   "name": "python3"
  },
  "language_info": {
   "codemirror_mode": {
    "name": "ipython",
    "version": 3
   },
   "file_extension": ".py",
   "mimetype": "text/x-python",
   "name": "python",
   "nbconvert_exporter": "python",
   "pygments_lexer": "ipython3",
   "version": "3.8.13"
  }
 },
 "nbformat": 4,
 "nbformat_minor": 5
}
