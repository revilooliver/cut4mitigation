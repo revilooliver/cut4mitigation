{
 "cells": [
  {
   "cell_type": "code",
   "execution_count": 43,
   "id": "050ec390",
   "metadata": {},
   "outputs": [],
   "source": [
    "#!/usr/bin/env python3\n",
    "\n",
    "# author: Michael A. Perlin (github.com/perlinm)\n",
    "\n",
    "import itertools, numpy, qiskit\n",
    "import circuit_cutter\n",
    "import mlrecon_methods as ml\n",
    "\n",
    "import numpy as np\n",
    "import qiskit\n",
    "from qiskit import *\n",
    "from qiskit import QuantumCircuit, QuantumRegister, ClassicalRegister, Aer, execute, transpile\n",
    "\n",
    "from qiskit.transpiler import PassManager\n",
    "\n",
    "from qiskit.converters import circuit_to_dag\n",
    "from qiskit.visualization import dag_drawer, plot_histogram\n",
    "from qiskit.compiler import assemble\n",
    "from qiskit.tools.monitor import job_monitor\n",
    "\n",
    "# The pulse simulator\n",
    "from qiskit.providers.aer import PulseSimulator\n",
    "\n",
    "from qiskit.tools.monitor import job_monitor, backend_monitor, backend_overview\n",
    "\n",
    "import qiskit.providers.aer.noise as noise\n",
    "from qiskit.providers.aer.noise import NoiseModel\n",
    "\n",
    "from utils.utils import filter_results, dict_to_list, H_distance, total_counts"
   ]
  },
  {
   "cell_type": "code",
   "execution_count": 44,
   "id": "0ab21beb",
   "metadata": {},
   "outputs": [
    {
     "data": {
      "text/plain": [
       "{'qiskit-terra': '0.16.1',\n",
       " 'qiskit-aer': '0.7.2',\n",
       " 'qiskit-ignis': '0.5.1',\n",
       " 'qiskit-ibmq-provider': '0.11.1',\n",
       " 'qiskit-aqua': '0.8.1',\n",
       " 'qiskit': '0.23.2'}"
      ]
     },
     "execution_count": 44,
     "metadata": {},
     "output_type": "execute_result"
    }
   ],
   "source": [
    "qiskit.__qiskit_version__"
   ]
  },
  {
   "cell_type": "code",
   "execution_count": 45,
   "id": "da4a5c76",
   "metadata": {},
   "outputs": [],
   "source": [
    "numpy.set_printoptions(linewidth = 200)\n",
    "\n",
    "qubits = 5\n",
    "\n",
    "# # should be \"GHZ\", \"cascade\", \"dense\", or \"clustered\"\n",
    "# circuit_type = \"GHZ\"\n",
    "# layers = 1 # number of gate layers\n",
    "\n",
    "# qubits = 6 # number of qubits\n",
    "# frag_num = 2 # number of fragments\n",
    "\n",
    "simulation_backend = \"qasm_simulator\"\n",
    "\n",
    "seed = 0\n",
    "print_circuits = True"
   ]
  },
  {
   "cell_type": "code",
   "execution_count": 46,
   "id": "cc3edfd5",
   "metadata": {},
   "outputs": [
    {
     "name": "stderr",
     "output_type": "stream",
     "text": [
      "/Users/revilooliver/Documents/quantum_computing/anaconda/anaconda3/envs/circ_cutting/lib/python3.8/site-packages/qiskit/providers/ibmq/ibmqfactory.py:192: UserWarning: Timestamps in IBMQ backend properties, jobs, and job results are all now in local time instead of UTC.\n",
      "  warnings.warn('Timestamps in IBMQ backend properties, jobs, and job results '\n",
      "ibmqfactory.load_account:WARNING:2022-10-28 10:29:26,890: Credentials are already in use. The existing account in the session will be replaced.\n"
     ]
    },
    {
     "data": {
      "text/plain": [
       "[<IBMQSimulator('ibmq_qasm_simulator') from IBMQ(hub='ibm-q-ornl', group='ornl', project='chm185')>,\n",
       " <IBMQBackend('ibmq_montreal') from IBMQ(hub='ibm-q-ornl', group='ornl', project='chm185')>,\n",
       " <IBMQBackend('ibmq_toronto') from IBMQ(hub='ibm-q-ornl', group='ornl', project='chm185')>,\n",
       " <IBMQBackend('ibmq_kolkata') from IBMQ(hub='ibm-q-ornl', group='ornl', project='chm185')>,\n",
       " <IBMQBackend('ibmq_mumbai') from IBMQ(hub='ibm-q-ornl', group='ornl', project='chm185')>,\n",
       " <IBMQBackend('ibmq_lima') from IBMQ(hub='ibm-q-ornl', group='ornl', project='chm185')>,\n",
       " <IBMQBackend('ibmq_belem') from IBMQ(hub='ibm-q-ornl', group='ornl', project='chm185')>,\n",
       " <IBMQBackend('ibmq_quito') from IBMQ(hub='ibm-q-ornl', group='ornl', project='chm185')>,\n",
       " <IBMQBackend('ibmq_guadalupe') from IBMQ(hub='ibm-q-ornl', group='ornl', project='chm185')>,\n",
       " <IBMQSimulator('simulator_statevector') from IBMQ(hub='ibm-q-ornl', group='ornl', project='chm185')>,\n",
       " <IBMQSimulator('simulator_mps') from IBMQ(hub='ibm-q-ornl', group='ornl', project='chm185')>,\n",
       " <IBMQSimulator('simulator_extended_stabilizer') from IBMQ(hub='ibm-q-ornl', group='ornl', project='chm185')>,\n",
       " <IBMQSimulator('simulator_stabilizer') from IBMQ(hub='ibm-q-ornl', group='ornl', project='chm185')>,\n",
       " <IBMQBackend('ibmq_jakarta') from IBMQ(hub='ibm-q-ornl', group='ornl', project='chm185')>,\n",
       " <IBMQBackend('ibmq_manila') from IBMQ(hub='ibm-q-ornl', group='ornl', project='chm185')>,\n",
       " <IBMQBackend('ibm_hanoi') from IBMQ(hub='ibm-q-ornl', group='ornl', project='chm185')>,\n",
       " <IBMQBackend('ibm_cairo') from IBMQ(hub='ibm-q-ornl', group='ornl', project='chm185')>,\n",
       " <IBMQBackend('ibm_auckland') from IBMQ(hub='ibm-q-ornl', group='ornl', project='chm185')>,\n",
       " <IBMQBackend('ibm_washington') from IBMQ(hub='ibm-q-ornl', group='ornl', project='chm185')>,\n",
       " <IBMQBackend('ibm_geneva') from IBMQ(hub='ibm-q-ornl', group='ornl', project='chm185')>]"
      ]
     },
     "execution_count": 46,
     "metadata": {},
     "output_type": "execute_result"
    }
   ],
   "source": [
    "IBMQ.load_account()\n",
    "provider = IBMQ.get_provider(hub='ibm-q-ornl', group='ornl', project='chm185')\n",
    "provider.backends()"
   ]
  },
  {
   "cell_type": "code",
   "execution_count": 47,
   "id": "97f1be7e",
   "metadata": {},
   "outputs": [
    {
     "data": {
      "text/plain": [
       "<IBMQBackend('ibmq_guadalupe') from IBMQ(hub='ibm-q-ornl', group='ornl', project='chm185')>"
      ]
     },
     "execution_count": 47,
     "metadata": {},
     "output_type": "execute_result"
    }
   ],
   "source": [
    "device = provider.get_backend('ibmq_guadalupe')\n",
    "device"
   ]
  },
  {
   "cell_type": "code",
   "execution_count": 48,
   "id": "b6f2eb58",
   "metadata": {},
   "outputs": [],
   "source": [
    "noisy_simulator = provider.get_backend('ibmq_qasm_simulator')"
   ]
  },
  {
   "cell_type": "code",
   "execution_count": 49,
   "id": "61848cfb",
   "metadata": {},
   "outputs": [],
   "source": [
    "front_layer = QuantumCircuit.from_qasm_file(\"qasm/vqe_5q_front.qasm\")"
   ]
  },
  {
   "cell_type": "code",
   "execution_count": 50,
   "id": "4101ca8c",
   "metadata": {},
   "outputs": [],
   "source": [
    "mid_layer = QuantumCircuit.from_qasm_file(\"qasm/vqe_5q_mid.qasm\")"
   ]
  },
  {
   "cell_type": "code",
   "execution_count": 51,
   "id": "1721959d",
   "metadata": {},
   "outputs": [],
   "source": [
    "end_layer = QuantumCircuit.from_qasm_file(\"qasm/vqe_5q_end.qasm\")"
   ]
  },
  {
   "cell_type": "code",
   "execution_count": 52,
   "id": "e6aa46cb",
   "metadata": {},
   "outputs": [],
   "source": [
    "orign_circuit = front_layer + mid_layer + end_layer"
   ]
  },
  {
   "cell_type": "code",
   "execution_count": 53,
   "id": "d4a1d3a6",
   "metadata": {},
   "outputs": [],
   "source": [
    "#checking circuit"
   ]
  },
  {
   "cell_type": "code",
   "execution_count": 54,
   "id": "6937b806",
   "metadata": {},
   "outputs": [],
   "source": [
    "def apply_checking_circuit(qc, ctrl_bits, ancilla_bits, side = None):\n",
    "    if len(ctrl_bits) != len(ancilla_bits):\n",
    "        print(\"Size mismatch\")\n",
    "        return None\n",
    "    if side == 'front':\n",
    "        for i in ancilla_bits:\n",
    "            qc.h(i)\n",
    "        for j,k in zip(ctrl_bits, ancilla_bits):\n",
    "            qc.cz(j, k)\n",
    "    elif side == 'end':\n",
    "        for j,k in zip(ctrl_bits, ancilla_bits):\n",
    "            qc.cz(j, k)\n",
    "        for i in ancilla_bits:\n",
    "            qc.h(i)\n",
    "    else:\n",
    "        print(\"Side undefined\")"
   ]
  },
  {
   "cell_type": "code",
   "execution_count": 55,
   "id": "f7f99e4b",
   "metadata": {},
   "outputs": [],
   "source": [
    "circuit = front_layer.copy()"
   ]
  },
  {
   "cell_type": "code",
   "execution_count": 56,
   "id": "4f530b86",
   "metadata": {},
   "outputs": [],
   "source": [
    "apply_checking_circuit(circuit, [1], [5], side = 'front')\n",
    "circuit += mid_layer\n",
    "apply_checking_circuit(circuit, [1], [5], side = 'end')\n",
    "circuit += end_layer"
   ]
  },
  {
   "cell_type": "code",
   "execution_count": 57,
   "id": "3d751a26",
   "metadata": {},
   "outputs": [
    {
     "data": {
      "text/html": [
       "<pre style=\"word-wrap: normal;white-space: pre;background: #fff0;line-height: 1.1;font-family: &quot;Courier New&quot;,Courier,monospace\">      ┌────────────┐      ┌────────────┐                                    \n",
       "q_0: ─┤ RY(-4.751) ├────■─┤ RY(4.6739) ├────────────────────────────────────\n",
       "      ├────────────┤    │ └────────────┘      ┌─────────────┐               \n",
       "q_1: ─┤ RY(3.1415) ├─■──■───────■───────────■─┤ RY(-3.1415) ├───────────────\n",
       "     ┌┴────────────┤ │          │           │ └┬────────────┤               \n",
       "q_2: ┤ RY(-3.8492) ├─┼──────────■────────■──┼──┤ RY(0.7076) ├───────────────\n",
       "     ├─────────────┤ │                   │  │  └────────────┘ ┌────────────┐\n",
       "q_3: ┤ RY(-3.1416) ├─┼───────────────────■──┼────────■────────┤ RY(3.1415) ├\n",
       "     ├─────────────┤ │                      │        │       ┌┴────────────┤\n",
       "q_4: ┤ RY(-6.8335) ├─┼──────────────────────┼────────■───────┤ RY(-3.6921) ├\n",
       "     └────┬───┬────┘ │                      │      ┌───┐     └─────────────┘\n",
       "q_5: ─────┤ H ├──────■──────────────────────■──────┤ H ├────────────────────\n",
       "          └───┘                                    └───┘                    \n",
       "q_6: ───────────────────────────────────────────────────────────────────────\n",
       "                                                                            \n",
       "q_7: ───────────────────────────────────────────────────────────────────────\n",
       "                                                                            \n",
       "q_8: ───────────────────────────────────────────────────────────────────────\n",
       "                                                                            \n",
       "q_9: ───────────────────────────────────────────────────────────────────────\n",
       "                                                                            </pre>"
      ],
      "text/plain": [
       "      ┌────────────┐      ┌────────────┐                                    \n",
       "q_0: ─┤ RY(-4.751) ├────■─┤ RY(4.6739) ├────────────────────────────────────\n",
       "      ├────────────┤    │ └────────────┘      ┌─────────────┐               \n",
       "q_1: ─┤ RY(3.1415) ├─■──■───────■───────────■─┤ RY(-3.1415) ├───────────────\n",
       "     ┌┴────────────┤ │          │           │ └┬────────────┤               \n",
       "q_2: ┤ RY(-3.8492) ├─┼──────────■────────■──┼──┤ RY(0.7076) ├───────────────\n",
       "     ├─────────────┤ │                   │  │  └────────────┘ ┌────────────┐\n",
       "q_3: ┤ RY(-3.1416) ├─┼───────────────────■──┼────────■────────┤ RY(3.1415) ├\n",
       "     ├─────────────┤ │                      │        │       ┌┴────────────┤\n",
       "q_4: ┤ RY(-6.8335) ├─┼──────────────────────┼────────■───────┤ RY(-3.6921) ├\n",
       "     └────┬───┬────┘ │                      │      ┌───┐     └─────────────┘\n",
       "q_5: ─────┤ H ├──────■──────────────────────■──────┤ H ├────────────────────\n",
       "          └───┘                                    └───┘                    \n",
       "q_6: ───────────────────────────────────────────────────────────────────────\n",
       "                                                                            \n",
       "q_7: ───────────────────────────────────────────────────────────────────────\n",
       "                                                                            \n",
       "q_8: ───────────────────────────────────────────────────────────────────────\n",
       "                                                                            \n",
       "q_9: ───────────────────────────────────────────────────────────────────────\n",
       "                                                                            "
      ]
     },
     "execution_count": 57,
     "metadata": {},
     "output_type": "execute_result"
    }
   ],
   "source": [
    "circuit.draw()"
   ]
  },
  {
   "cell_type": "code",
   "execution_count": 58,
   "id": "9d0659dc",
   "metadata": {},
   "outputs": [],
   "source": [
    "trans_qc = transpile(circuit, basis_gates = ['sx', 'cx', 'reset', 'id', 'x', 'rz'])"
   ]
  },
  {
   "cell_type": "code",
   "execution_count": 59,
   "id": "8fb37939",
   "metadata": {},
   "outputs": [
    {
     "data": {
      "image/png": "[encoded data removed]",
      "text/plain": [
       "<Figure size 2210.55x1789.28 with 1 Axes>"
      ]
     },
     "execution_count": 59,
     "metadata": {},
     "output_type": "execute_result"
    },
    {
     "data": {
      "image/png": "[encoded data removed]",
      "text/plain": [
       "<Figure size 2210.55x1789.28 with 1 Axes>"
      ]
     },
     "metadata": {},
     "output_type": "display_data"
    }
   ],
   "source": [
    "trans_qc.draw(output = 'mpl')"
   ]
  },
  {
   "cell_type": "code",
   "execution_count": 60,
   "id": "95e1ee63",
   "metadata": {},
   "outputs": [
    {
     "name": "stdout",
     "output_type": "stream",
     "text": [
      "NoiseModel:\n",
      "  Basis gates: ['cx', 'id', 'u3']\n",
      "  Instructions with noise: ['measure']\n",
      "  Qubits with noise: [0, 1, 2, 3, 4, 5, 6, 7, 8, 9, 10, 11, 12, 13, 14, 15]\n",
      "  Specific qubit errors: [('measure', [0]), ('measure', [1]), ('measure', [2]), ('measure', [3]), ('measure', [4]), ('measure', [5]), ('measure', [6]), ('measure', [7]), ('measure', [8]), ('measure', [9]), ('measure', [10]), ('measure', [11]), ('measure', [12]), ('measure', [13]), ('measure', [14]), ('measure', [15])]\n"
     ]
    }
   ],
   "source": [
    "from qiskit import IBMQ, Aer\n",
    "from qiskit.providers.aer.noise import NoiseModel\n",
    "noise_model = NoiseModel.from_backend(device, gate_error = False, thermal_relaxation= False)\n",
    "print(noise_model)"
   ]
  },
  {
   "cell_type": "code",
   "execution_count": 61,
   "id": "d01b9b34",
   "metadata": {},
   "outputs": [],
   "source": [
    "from qiskit.providers.aer.noise import NoiseModel\n",
    "from qiskit.providers.aer.noise import QuantumError, ReadoutError\n",
    "from qiskit.providers.aer.noise import pauli_error\n",
    "from qiskit.providers.aer.noise import depolarizing_error\n",
    "from qiskit.providers.aer.noise import thermal_relaxation_error"
   ]
  },
  {
   "cell_type": "code",
   "execution_count": 62,
   "id": "c7b48708",
   "metadata": {},
   "outputs": [],
   "source": [
    "# p_gate1 = 0.4\n",
    "# error_gate1 = pauli_error([('X',p_gate1), ('I', 1 - p_gate1)])\n",
    "# error_gate2 = error_gate1.tensor(error_gate1)"
   ]
  },
  {
   "cell_type": "code",
   "execution_count": 63,
   "id": "1ad3f138",
   "metadata": {},
   "outputs": [],
   "source": [
    "# noise_model.add_all_qubit_quantum_error(error_gate2, [\"cx\"])"
   ]
  },
  {
   "cell_type": "code",
   "execution_count": 64,
   "id": "d2379bfd",
   "metadata": {},
   "outputs": [],
   "source": [
    "circuit = trans_qc"
   ]
  },
  {
   "cell_type": "code",
   "execution_count": 65,
   "id": "0b2c17cd",
   "metadata": {},
   "outputs": [],
   "source": [
    "cuts = []\n",
    "# for i in range(0, 5):\n",
    "#     if i == 0:\n",
    "#         cut = [(circuit.qubits[i], 5),(circuit.qubits[i], 6)]\n",
    "#     elif i == 3:\n",
    "#         cut = [(circuit.qubits[i], 4),(circuit.qubits[i], 12)]\n",
    "#     elif i == qubits-1:\n",
    "#         cut = [(circuit.qubits[i], 5),(circuit.qubits[i], 12)]\n",
    "#     else:\n",
    "#         cut = [(circuit.qubits[i], 5),(circuit.qubits[i], 13)]\n",
    "#     cuts += cut\n",
    "cuts = [(circuit.qubits[1], 5),(circuit.qubits[1], 13)]"
   ]
  },
  {
   "cell_type": "code",
   "execution_count": 66,
   "id": "4993ee93",
   "metadata": {},
   "outputs": [
    {
     "name": "stdout",
     "output_type": "stream",
     "text": [
      "[(Qubit(QuantumRegister(10, 'q'), 1), 5), (Qubit(QuantumRegister(10, 'q'), 1), 13)]\n"
     ]
    }
   ],
   "source": [
    "print(cuts)"
   ]
  },
  {
   "cell_type": "code",
   "execution_count": 67,
   "id": "7aa1870b",
   "metadata": {},
   "outputs": [
    {
     "name": "stdout",
     "output_type": "stream",
     "text": [
      "WARNING: some qubits are entirely unused\n",
      "unused qubits: [Qubit(QuantumRegister(10, 'q'), 6), Qubit(QuantumRegister(10, 'q'), 7), Qubit(QuantumRegister(10, 'q'), 8), Qubit(QuantumRegister(10, 'q'), 9)]\n"
     ]
    }
   ],
   "source": [
    "fragments, wire_path_map = circuit_cutter.cut_circuit(circuit, cuts)"
   ]
  },
  {
   "cell_type": "code",
   "execution_count": 68,
   "id": "6872220e",
   "metadata": {},
   "outputs": [
    {
     "name": "stdout",
     "output_type": "stream",
     "text": [
      "{Qubit(QuantumRegister(10, 'q'), 0): ((0, Qubit(QuantumRegister(5, 'q'), 4)),), Qubit(QuantumRegister(10, 'q'), 1): ((1, Qubit(QuantumRegister(3, 'q'), 2)), (0, Qubit(QuantumRegister(5, 'q'), 3)), (1, Qubit(QuantumRegister(3, 'q'), 0))), Qubit(QuantumRegister(10, 'q'), 2): ((0, Qubit(QuantumRegister(5, 'q'), 2)),), Qubit(QuantumRegister(10, 'q'), 3): ((0, Qubit(QuantumRegister(5, 'q'), 0)),), Qubit(QuantumRegister(10, 'q'), 4): ((0, Qubit(QuantumRegister(5, 'q'), 1)),), Qubit(QuantumRegister(10, 'q'), 5): ((1, Qubit(QuantumRegister(3, 'q'), 1)),), Qubit(QuantumRegister(10, 'q'), 6): ((2, Qubit(QuantumRegister(4, 'q'), 0)),), Qubit(QuantumRegister(10, 'q'), 7): ((2, Qubit(QuantumRegister(4, 'q'), 1)),), Qubit(QuantumRegister(10, 'q'), 8): ((2, Qubit(QuantumRegister(4, 'q'), 2)),), Qubit(QuantumRegister(10, 'q'), 9): ((2, Qubit(QuantumRegister(4, 'q'), 3)),)}\n"
     ]
    }
   ],
   "source": [
    "print(wire_path_map)"
   ]
  },
  {
   "cell_type": "code",
   "execution_count": 69,
   "id": "dd8a5b10",
   "metadata": {},
   "outputs": [],
   "source": [
    "total_variants = ml.fragment_variants(wire_path_map)"
   ]
  },
  {
   "cell_type": "code",
   "execution_count": 70,
   "id": "d79b8e01",
   "metadata": {},
   "outputs": [
    {
     "data": {
      "text/plain": [
       "25"
      ]
     },
     "execution_count": 70,
     "metadata": {},
     "output_type": "execute_result"
    }
   ],
   "source": [
    "total_variants"
   ]
  },
  {
   "cell_type": "code",
   "execution_count": 71,
   "id": "45286087",
   "metadata": {},
   "outputs": [],
   "source": [
    "shots = 32000 * total_variants"
   ]
  },
  {
   "cell_type": "code",
   "execution_count": 72,
   "id": "8600221e",
   "metadata": {},
   "outputs": [
    {
     "name": "stdout",
     "output_type": "stream",
     "text": [
      "total circuit:\n",
      "global phase: -146.163797996328\n",
      "         ┌────┐    ┌────────────┐    ┌────┐    ┌───────┐              »\n",
      "q_0: ────┤ √X ├────┤ RZ(4.6738) ├────┤ √X ├────┤ RZ(π) ├──────────────»\n",
      "         ├────┤    ├────────────┤    ├────┤    ├───────┤              »\n",
      "q_1: ────┤ √X ├────┤ RZ(6.2831) ├────┤ √X ├────┤ RZ(π) ├───────────■──»\n",
      "         ├────┤    ├────────────┤    ├────┤    └───────┘           │  »\n",
      "q_2: ────┤ √X ├────┤ RZ(4.0048) ├────┤ √X ├────────────────────────┼──»\n",
      "     ┌───┴────┴───┐└───┬────┬───┘┌───┴────┴───┐                    │  »\n",
      "q_3: ┤ RZ(4.7124) ├────┤ √X ├────┤ RZ(4.7124) ├────────────────────┼──»\n",
      "     └─┬───────┬──┘    ├────┤    ├────────────┤  ┌────┐ ┌───────┐  │  »\n",
      "q_4: ──┤ RZ(π) ├───────┤ √X ├────┤ RZ(5.2627) ├──┤ √X ├─┤ RZ(π) ├──┼──»\n",
      "       └───────┘       └────┘    └────────────┘  └────┘ └───────┘┌─┴─┐»\n",
      "q_5: ────────────────────────────────────────────────────────────┤ X ├»\n",
      "                                                                 └───┘»\n",
      "q_6: ─────────────────────────────────────────────────────────────────»\n",
      "                                                                      »\n",
      "q_7: ─────────────────────────────────────────────────────────────────»\n",
      "                                                                      »\n",
      "q_8: ─────────────────────────────────────────────────────────────────»\n",
      "                                                                      »\n",
      "q_9: ─────────────────────────────────────────────────────────────────»\n",
      "                                                                      »\n",
      "«                                       ┌────────┐┌────┐┌────────────┐┌────┐»\n",
      "«q_0: ──────────────────────────────■───┤ RZ(-π) ├┤ √X ├┤ RZ(4.7509) ├┤ √X ├»\n",
      "«     ┌─────────┐┌────┐┌─────────┐┌─┴─┐┌┴────────┤├────┤└┬─────────┬─┘└────┘»\n",
      "«q_1: ┤ RZ(π/2) ├┤ √X ├┤ RZ(π/2) ├┤ X ├┤ RZ(π/2) ├┤ √X ├─┤ RZ(π/2) ├────■───»\n",
      "«     └─────────┘└────┘└─────────┘└───┘└─────────┘└────┘ └─────────┘  ┌─┴─┐ »\n",
      "«q_2: ────────────────────────────────────────────────────────────────┤ X ├─»\n",
      "«                                                                     └───┘ »\n",
      "«q_3: ──────────────────────────────────────────────────────────────────────»\n",
      "«                                                                           »\n",
      "«q_4: ──────────────────────────────────────────────────────────────────────»\n",
      "«                                                                           »\n",
      "«q_5: ──────────────────────────────────────────────────────────────────────»\n",
      "«                                                                           »\n",
      "«q_6: ──────────────────────────────────────────────────────────────────────»\n",
      "«                                                                           »\n",
      "«q_7: ──────────────────────────────────────────────────────────────────────»\n",
      "«                                                                           »\n",
      "«q_8: ──────────────────────────────────────────────────────────────────────»\n",
      "«                                                                           »\n",
      "«q_9: ──────────────────────────────────────────────────────────────────────»\n",
      "«                                                                           »\n",
      "«                                                                        »\n",
      "«q_0: ───────────────────────────────────────────────────────────────────»\n",
      "«           ┌───────┐ ┌────┐┌────────────┐┌────┐                         »\n",
      "«q_1: ──■───┤ RZ(π) ├─┤ √X ├┤ RZ(6.2831) ├┤ √X ├─────────────────────────»\n",
      "«       │  ┌┴───────┴┐├────┤└┬─────────┬─┘└────┘   ┌────┐  ┌────────────┐»\n",
      "«q_2: ──┼──┤ RZ(π/2) ├┤ √X ├─┤ RZ(π/2) ├────■──────┤ √X ├──┤ RZ(3.8492) ├»\n",
      "«       │  └─────────┘└────┘ └─────────┘  ┌─┴─┐ ┌──┴────┴─┐└───┬────┬───┘»\n",
      "«q_3: ──┼─────────────────────────────────┤ X ├─┤ RZ(π/2) ├────┤ √X ├────»\n",
      "«       │                                 └───┘ └─────────┘    └────┘    »\n",
      "«q_4: ──┼────────────────────────────────────────────────────────────────»\n",
      "«     ┌─┴─┐                                                              »\n",
      "«q_5: ┤ X ├──────────────────────────────────────────────────────────────»\n",
      "«     └───┘                                                              »\n",
      "«q_6: ───────────────────────────────────────────────────────────────────»\n",
      "«                                                                        »\n",
      "«q_7: ───────────────────────────────────────────────────────────────────»\n",
      "«                                                                        »\n",
      "«q_8: ───────────────────────────────────────────────────────────────────»\n",
      "«                                                                        »\n",
      "«q_9: ───────────────────────────────────────────────────────────────────»\n",
      "«                                                                        »\n",
      "«                                                            \n",
      "«q_0: ───────────────────────────────────────────────────────\n",
      "«                                                            \n",
      "«q_1: ───────────────────────────────────────────────────────\n",
      "«        ┌────┐  ┌───────┐                                   \n",
      "«q_2: ───┤ √X ├──┤ RZ(π) ├───────────────────────────────────\n",
      "«     ┌──┴────┴─┐└───────┘┌────┐┌────────────┐┌────┐┌───────┐\n",
      "«q_3: ┤ RZ(π/2) ├────■────┤ √X ├┤ RZ(6.2831) ├┤ √X ├┤ RZ(π) ├\n",
      "«     └─────────┘  ┌─┴─┐  ├────┤├────────────┤├────┤└───────┘\n",
      "«q_4: ─────────────┤ X ├──┤ √X ├┤ RZ(5.2629) ├┤ √X ├─────────\n",
      "«                  └───┘  └────┘└────────────┘└────┘         \n",
      "«q_5: ───────────────────────────────────────────────────────\n",
      "«                                                            \n",
      "«q_6: ───────────────────────────────────────────────────────\n",
      "«                                                            \n",
      "«q_7: ───────────────────────────────────────────────────────\n",
      "«                                                            \n",
      "«q_8: ───────────────────────────────────────────────────────\n",
      "«                                                            \n",
      "«q_9: ───────────────────────────────────────────────────────\n",
      "«                                                            \n",
      "cuts:\n",
      " (Qubit(QuantumRegister(10, 'q'), 1), 5)\n",
      " (Qubit(QuantumRegister(10, 'q'), 1), 13)\n",
      "\n",
      "fragment 0:\n",
      "     ┌────────────┐    ┌────┐    ┌────────────┐                             »\n",
      "q_0: ┤ RZ(4.7124) ├────┤ √X ├────┤ RZ(4.7124) ├─────────────────────────────»\n",
      "     └─┬───────┬──┘    ├────┤    ├────────────┤  ┌────┐ ┌───────┐           »\n",
      "q_1: ──┤ RZ(π) ├───────┤ √X ├────┤ RZ(5.2627) ├──┤ √X ├─┤ RZ(π) ├───────────»\n",
      "       └─┬────┬┘   ┌───┴────┴───┐└───┬────┬───┘  └────┘ └───────┘           »\n",
      "q_2: ────┤ √X ├────┤ RZ(4.0048) ├────┤ √X ├─────────────────────────────────»\n",
      "      ┌──┴────┴─┐  └───┬────┬───┘ ┌──┴────┴─┐             ┌───┐  ┌─────────┐»\n",
      "q_3: ─┤ RZ(π/2) ├──────┤ √X ├─────┤ RZ(π/2) ├─────────────┤ X ├──┤ RZ(π/2) ├»\n",
      "      └──┬────┬─┘  ┌───┴────┴───┐ └──┬────┬─┘  ┌───────┐  └─┬─┘  └┬────────┤»\n",
      "q_4: ────┤ √X ├────┤ RZ(4.6738) ├────┤ √X ├────┤ RZ(π) ├────■─────┤ RZ(-π) ├»\n",
      "         └────┘    └────────────┘    └────┘    └───────┘          └────────┘»\n",
      "«                                                           ┌───┐┌─────────┐»\n",
      "«q_0: ──────────────────────────────────────────────────────┤ X ├┤ RZ(π/2) ├»\n",
      "«                                                           └─┬─┘└─────────┘»\n",
      "«q_1: ────────────────────────────────────────────────────────┼─────────────»\n",
      "«                         ┌───┐ ┌─────────┐┌────┐┌─────────┐  │     ┌────┐  »\n",
      "«q_2: ────────────────────┤ X ├─┤ RZ(π/2) ├┤ √X ├┤ RZ(π/2) ├──■─────┤ √X ├──»\n",
      "«     ┌────┐ ┌─────────┐  └─┬─┘ └─────────┘└────┘└─────────┘        └────┘  »\n",
      "«q_3: ┤ √X ├─┤ RZ(π/2) ├────■───────────────────────────────────────────────»\n",
      "«     ├────┤┌┴─────────┴─┐┌────┐                                            »\n",
      "«q_4: ┤ √X ├┤ RZ(4.7509) ├┤ √X ├────────────────────────────────────────────»\n",
      "«     └────┘└────────────┘└────┘                                            »\n",
      "«         ┌────┐    ┌─────────┐         ┌────┐┌────────────┐┌────┐┌───────┐\n",
      "«q_0: ────┤ √X ├────┤ RZ(π/2) ├────■────┤ √X ├┤ RZ(6.2831) ├┤ √X ├┤ RZ(π) ├\n",
      "«         └────┘    └─────────┘  ┌─┴─┐  ├────┤├────────────┤├────┤└───────┘\n",
      "«q_1: ───────────────────────────┤ X ├──┤ √X ├┤ RZ(5.2629) ├┤ √X ├─────────\n",
      "«     ┌────────────┐   ┌────┐  ┌─┴───┴─┐└────┘└────────────┘└────┘         \n",
      "«q_2: ┤ RZ(3.8492) ├───┤ √X ├──┤ RZ(π) ├───────────────────────────────────\n",
      "«     └────────────┘   └────┘  └───────┘                                   \n",
      "«q_3: ─────────────────────────────────────────────────────────────────────\n",
      "«                                                                          \n",
      "«q_4: ─────────────────────────────────────────────────────────────────────\n",
      "«                                                                          \n",
      "\n",
      "fragment 1:\n",
      "                                                  ┌───────┐┌────┐┌────────────┐»\n",
      "q_0: ──────────────────────────────────────────■──┤ RZ(π) ├┤ √X ├┤ RZ(6.2831) ├»\n",
      "                                        ┌───┐┌─┴─┐└───────┘└────┘└────────────┘»\n",
      "q_1: ───────────────────────────────────┤ X ├┤ X ├─────────────────────────────»\n",
      "     ┌────┐┌────────────┐┌────┐┌───────┐└─┬─┘└───┘                             »\n",
      "q_2: ┤ √X ├┤ RZ(6.2831) ├┤ √X ├┤ RZ(π) ├──■────────────────────────────────────»\n",
      "     └────┘└────────────┘└────┘└───────┘                                       »\n",
      "«     ┌────┐\n",
      "«q_0: ┤ √X ├\n",
      "«     └────┘\n",
      "«q_1: ──────\n",
      "«           \n",
      "«q_2: ──────\n",
      "«           \n",
      "\n",
      "fragment 2:\n",
      "     \n",
      "q_0: \n",
      "     \n",
      "q_1: \n",
      "     \n",
      "q_2: \n",
      "     \n",
      "q_3: \n",
      "     \n",
      "\n",
      "fragment_index, prep_cuts, meas_cuts:\n",
      "0 1 1\n",
      "1 1 1\n",
      "2 0 0\n",
      "\n",
      "total number of fragment variants: 25\n",
      "total number of shots: 800000\n",
      "\n"
     ]
    }
   ],
   "source": [
    "if print_circuits:\n",
    "    print(\"total circuit:\")\n",
    "    print(circuit)\n",
    "    print(\"cuts:\")\n",
    "    for cut in cuts:\n",
    "        print(\"\",cut)\n",
    "    print()\n",
    "    for idx, fragment in enumerate(fragments):\n",
    "        print(f\"fragment {idx}:\")\n",
    "        print(fragment)\n",
    "        print()\n",
    "    fragment_cuts = ml.fragment_cuts(wire_path_map)\n",
    "    print(\"fragment_index, prep_cuts, meas_cuts:\")\n",
    "    for frag_idx, frag_cuts in enumerate(fragment_cuts):\n",
    "        print(frag_idx, frag_cuts[\"prep\"], frag_cuts[\"meas\"])\n",
    "    print()\n",
    "    print(\"total number of fragment variants:\", total_variants)\n",
    "    print(\"total number of shots:\", ( shots // total_variants ) * total_variants)\n",
    "    print()"
   ]
  },
  {
   "cell_type": "code",
   "execution_count": 73,
   "id": "956041cd",
   "metadata": {},
   "outputs": [
    {
     "name": "stdout",
     "output_type": "stream",
     "text": [
      "[{'prep': 1, 'meas': 1}, {'prep': 1, 'meas': 1}, {'prep': 0, 'meas': 0}]\n"
     ]
    }
   ],
   "source": [
    "print(fragment_cuts)"
   ]
  },
  {
   "cell_type": "code",
   "execution_count": 74,
   "id": "398d7b33",
   "metadata": {},
   "outputs": [],
   "source": [
    "# list of all possible measurement outcomes (bitstrings)\n",
    "all_bits = [ \"\".join(bits) for bits in itertools.product([\"0\",\"1\"], repeat = qubits) ]"
   ]
  },
  {
   "cell_type": "code",
   "execution_count": 75,
   "id": "05e2a6c7",
   "metadata": {},
   "outputs": [
    {
     "name": "stdout",
     "output_type": "stream",
     "text": [
      "['00000', '00001', '00010', '00011', '00100', '00101', '00110', '00111', '01000', '01001', '01010', '01011', '01100', '01101', '01110', '01111', '10000', '10001', '10010', '10011', '10100', '10101', '10110', '10111', '11000', '11001', '11010', '11011', '11100', '11101', '11110', '11111']\n"
     ]
    }
   ],
   "source": [
    "print(all_bits)"
   ]
  },
  {
   "cell_type": "code",
   "execution_count": 76,
   "id": "991f5ee3",
   "metadata": {},
   "outputs": [],
   "source": [
    "# # get the actual state / probability distribution for the full circuit\n",
    "# actual_state = ml.get_statevector(circuit)\n",
    "# actual_dist = { \"\".join(bits) : abs(amp)**2\n",
    "#                 for bits, amp in zip(all_bits, actual_state)\n",
    "#                 if amp != 0 }\n",
    "\n",
    "# # get a simulated probability distribution for the full circuit\n",
    "# circuit.measure_active()\n",
    "# full_circuit_result = ml.run_circuits(circuit, shots, backend = simulation_backend)\n",
    "# full_circuit_dist = {}\n",
    "# for part in full_circuit_result:\n",
    "#     for bits, counts in part.get_counts(circuit).items():\n",
    "#         if bits not in full_circuit_dist:\n",
    "#             full_circuit_dist[bits] = 0\n",
    "#         full_circuit_dist[bits] += counts / shots"
   ]
  },
  {
   "cell_type": "code",
   "execution_count": 77,
   "id": "7e93e1dc",
   "metadata": {},
   "outputs": [
    {
     "data": {
      "text/plain": [
       "{Qubit(QuantumRegister(10, 'q'), 0): ((0, Qubit(QuantumRegister(5, 'q'), 4)),),\n",
       " Qubit(QuantumRegister(10, 'q'), 1): ((1, Qubit(QuantumRegister(3, 'q'), 2)),\n",
       "  (0, Qubit(QuantumRegister(5, 'q'), 3)),\n",
       "  (1, Qubit(QuantumRegister(3, 'q'), 0))),\n",
       " Qubit(QuantumRegister(10, 'q'), 2): ((0, Qubit(QuantumRegister(5, 'q'), 2)),),\n",
       " Qubit(QuantumRegister(10, 'q'), 3): ((0, Qubit(QuantumRegister(5, 'q'), 0)),),\n",
       " Qubit(QuantumRegister(10, 'q'), 4): ((0, Qubit(QuantumRegister(5, 'q'), 1)),),\n",
       " Qubit(QuantumRegister(10, 'q'), 5): ((1, Qubit(QuantumRegister(3, 'q'), 1)),),\n",
       " Qubit(QuantumRegister(10, 'q'), 6): ((2, Qubit(QuantumRegister(4, 'q'), 0)),),\n",
       " Qubit(QuantumRegister(10, 'q'), 7): ((2, Qubit(QuantumRegister(4, 'q'), 1)),),\n",
       " Qubit(QuantumRegister(10, 'q'), 8): ((2, Qubit(QuantumRegister(4, 'q'), 2)),),\n",
       " Qubit(QuantumRegister(10, 'q'), 9): ((2, Qubit(QuantumRegister(4, 'q'), 3)),)}"
      ]
     },
     "execution_count": 77,
     "metadata": {},
     "output_type": "execute_result"
    }
   ],
   "source": [
    "wire_path_map"
   ]
  },
  {
   "cell_type": "code",
   "execution_count": 78,
   "id": "6a5762e7",
   "metadata": {},
   "outputs": [],
   "source": [
    "orign_qc = QuantumCircuit.from_qasm_file(\"qasm/vqe_5q.qasm\")\n",
    "orign_qc.measure_all()"
   ]
  },
  {
   "cell_type": "code",
   "execution_count": 79,
   "id": "6cc45566",
   "metadata": {},
   "outputs": [],
   "source": [
    "orign_qc = transpile(orign_qc, basis_gates = ['sx', 'cx', 'reset', 'id', 'x', 'rz'])"
   ]
  },
  {
   "cell_type": "code",
   "execution_count": 80,
   "id": "c3eb407d",
   "metadata": {},
   "outputs": [
    {
     "data": {
      "text/html": [
       "<pre style=\"word-wrap: normal;white-space: pre;background: #fff0;line-height: 1.1;font-family: &quot;Courier New&quot;,Courier,monospace\">global phase: -110.035482480046\n",
       "            ┌────┐    ┌────────────┐    ┌────┐    ┌───────┐          ┌────────┐»\n",
       "   q_0: ────┤ √X ├────┤ RZ(4.6738) ├────┤ √X ├────┤ RZ(π) ├────■─────┤ RZ(-π) ├»\n",
       "            ├────┤    ├────────────┤    ├────┤    └───────┘  ┌─┴─┐  ┌┴────────┤»\n",
       "   q_1: ────┤ √X ├────┤ RZ(4.7123) ├────┤ √X ├───────────────┤ X ├──┤ RZ(π/2) ├»\n",
       "            ├────┤    ├────────────┤    ├────┤               └───┘  └─────────┘»\n",
       "   q_2: ────┤ √X ├────┤ RZ(4.0048) ├────┤ √X ├─────────────────────────────────»\n",
       "        ┌───┴────┴───┐└───┬────┬───┘┌───┴────┴───┐                             »\n",
       "   q_3: ┤ RZ(4.7124) ├────┤ √X ├────┤ RZ(4.7124) ├─────────────────────────────»\n",
       "        └─┬───────┬──┘    ├────┤    ├────────────┤  ┌────┐ ┌───────┐           »\n",
       "   q_4: ──┤ RZ(π) ├───────┤ √X ├────┤ RZ(5.2627) ├──┤ √X ├─┤ RZ(π) ├───────────»\n",
       "          └───────┘       └────┘    └────────────┘  └────┘ └───────┘           »\n",
       "meas: 5/═══════════════════════════════════════════════════════════════════════»\n",
       "                                                                               »\n",
       "«        ┌────┐┌────────────┐┌────┐                                     »\n",
       "«   q_0: ┤ √X ├┤ RZ(4.7509) ├┤ √X ├─────────────────────────────────────»\n",
       "«        ├────┤└┬─────────┬─┘└────┘ ┌───────┐ ┌────┐┌────────────┐┌────┐»\n",
       "«   q_1: ┤ √X ├─┤ RZ(π/2) ├────■────┤ RZ(π) ├─┤ √X ├┤ RZ(6.2831) ├┤ √X ├»\n",
       "«        └────┘ └─────────┘  ┌─┴─┐ ┌┴───────┴┐├────┤└┬─────────┬─┘└────┘»\n",
       "«   q_2: ────────────────────┤ X ├─┤ RZ(π/2) ├┤ √X ├─┤ RZ(π/2) ├────■───»\n",
       "«                            └───┘ └─────────┘└────┘ └─────────┘  ┌─┴─┐ »\n",
       "«   q_3: ─────────────────────────────────────────────────────────┤ X ├─»\n",
       "«                                                                 └───┘ »\n",
       "«   q_4: ───────────────────────────────────────────────────────────────»\n",
       "«                                                                       »\n",
       "«meas: 5/═══════════════════════════════════════════════════════════════»\n",
       "«                                                                       »\n",
       "«                                                                         »\n",
       "«   q_0: ─────────────────────────────────────────────────────────────────»\n",
       "«                                                                         »\n",
       "«   q_1: ─────────────────────────────────────────────────────────────────»\n",
       "«           ┌────┐  ┌────────────┐   ┌────┐  ┌───────┐                    »\n",
       "«   q_2: ───┤ √X ├──┤ RZ(3.8492) ├───┤ √X ├──┤ RZ(π) ├────────────────────»\n",
       "«        ┌──┴────┴─┐└───┬────┬───┘┌──┴────┴─┐└───────┘┌────┐┌────────────┐»\n",
       "«   q_3: ┤ RZ(π/2) ├────┤ √X ├────┤ RZ(π/2) ├────■────┤ √X ├┤ RZ(6.2831) ├»\n",
       "«        └─────────┘    └────┘    └─────────┘  ┌─┴─┐  ├────┤├────────────┤»\n",
       "«   q_4: ──────────────────────────────────────┤ X ├──┤ √X ├┤ RZ(5.2629) ├»\n",
       "«                                              └───┘  └────┘└────────────┘»\n",
       "«meas: 5/═════════════════════════════════════════════════════════════════»\n",
       "«                                                                         »\n",
       "«                        ░ ┌─┐            \n",
       "«   q_0: ────────────────░─┤M├────────────\n",
       "«                        ░ └╥┘┌─┐         \n",
       "«   q_1: ────────────────░──╫─┤M├─────────\n",
       "«                        ░  ║ └╥┘┌─┐      \n",
       "«   q_2: ────────────────░──╫──╫─┤M├──────\n",
       "«        ┌────┐┌───────┐ ░  ║  ║ └╥┘┌─┐   \n",
       "«   q_3: ┤ √X ├┤ RZ(π) ├─░──╫──╫──╫─┤M├───\n",
       "«        ├────┤└───────┘ ░  ║  ║  ║ └╥┘┌─┐\n",
       "«   q_4: ┤ √X ├──────────░──╫──╫──╫──╫─┤M├\n",
       "«        └────┘          ░  ║  ║  ║  ║ └╥┘\n",
       "«meas: 5/═══════════════════╩══╩══╩══╩══╩═\n",
       "«                           0  1  2  3  4 </pre>"
      ],
      "text/plain": [
       "global phase: -110.035482480046\n",
       "            ┌────┐    ┌────────────┐    ┌────┐    ┌───────┐          ┌────────┐»\n",
       "   q_0: ────┤ √X ├────┤ RZ(4.6738) ├────┤ √X ├────┤ RZ(π) ├────■─────┤ RZ(-π) ├»\n",
       "            ├────┤    ├────────────┤    ├────┤    └───────┘  ┌─┴─┐  ┌┴────────┤»\n",
       "   q_1: ────┤ √X ├────┤ RZ(4.7123) ├────┤ √X ├───────────────┤ X ├──┤ RZ(π/2) ├»\n",
       "            ├────┤    ├────────────┤    ├────┤               └───┘  └─────────┘»\n",
       "   q_2: ────┤ √X ├────┤ RZ(4.0048) ├────┤ √X ├─────────────────────────────────»\n",
       "        ┌───┴────┴───┐└───┬────┬───┘┌───┴────┴───┐                             »\n",
       "   q_3: ┤ RZ(4.7124) ├────┤ √X ├────┤ RZ(4.7124) ├─────────────────────────────»\n",
       "        └─┬───────┬──┘    ├────┤    ├────────────┤  ┌────┐ ┌───────┐           »\n",
       "   q_4: ──┤ RZ(π) ├───────┤ √X ├────┤ RZ(5.2627) ├──┤ √X ├─┤ RZ(π) ├───────────»\n",
       "          └───────┘       └────┘    └────────────┘  └────┘ └───────┘           »\n",
       "meas: 5/═══════════════════════════════════════════════════════════════════════»\n",
       "                                                                               »\n",
       "«        ┌────┐┌────────────┐┌────┐                                     »\n",
       "«   q_0: ┤ √X ├┤ RZ(4.7509) ├┤ √X ├─────────────────────────────────────»\n",
       "«        ├────┤└┬─────────┬─┘└────┘ ┌───────┐ ┌────┐┌────────────┐┌────┐»\n",
       "«   q_1: ┤ √X ├─┤ RZ(π/2) ├────■────┤ RZ(π) ├─┤ √X ├┤ RZ(6.2831) ├┤ √X ├»\n",
       "«        └────┘ └─────────┘  ┌─┴─┐ ┌┴───────┴┐├────┤└┬─────────┬─┘└────┘»\n",
       "«   q_2: ────────────────────┤ X ├─┤ RZ(π/2) ├┤ √X ├─┤ RZ(π/2) ├────■───»\n",
       "«                            └───┘ └─────────┘└────┘ └─────────┘  ┌─┴─┐ »\n",
       "«   q_3: ─────────────────────────────────────────────────────────┤ X ├─»\n",
       "«                                                                 └───┘ »\n",
       "«   q_4: ───────────────────────────────────────────────────────────────»\n",
       "«                                                                       »\n",
       "«meas: 5/═══════════════════════════════════════════════════════════════»\n",
       "«                                                                       »\n",
       "«                                                                         »\n",
       "«   q_0: ─────────────────────────────────────────────────────────────────»\n",
       "«                                                                         »\n",
       "«   q_1: ─────────────────────────────────────────────────────────────────»\n",
       "«           ┌────┐  ┌────────────┐   ┌────┐  ┌───────┐                    »\n",
       "«   q_2: ───┤ √X ├──┤ RZ(3.8492) ├───┤ √X ├──┤ RZ(π) ├────────────────────»\n",
       "«        ┌──┴────┴─┐└───┬────┬───┘┌──┴────┴─┐└───────┘┌────┐┌────────────┐»\n",
       "«   q_3: ┤ RZ(π/2) ├────┤ √X ├────┤ RZ(π/2) ├────■────┤ √X ├┤ RZ(6.2831) ├»\n",
       "«        └─────────┘    └────┘    └─────────┘  ┌─┴─┐  ├────┤├────────────┤»\n",
       "«   q_4: ──────────────────────────────────────┤ X ├──┤ √X ├┤ RZ(5.2629) ├»\n",
       "«                                              └───┘  └────┘└────────────┘»\n",
       "«meas: 5/═════════════════════════════════════════════════════════════════»\n",
       "«                                                                         »\n",
       "«                        ░ ┌─┐            \n",
       "«   q_0: ────────────────░─┤M├────────────\n",
       "«                        ░ └╥┘┌─┐         \n",
       "«   q_1: ────────────────░──╫─┤M├─────────\n",
       "«                        ░  ║ └╥┘┌─┐      \n",
       "«   q_2: ────────────────░──╫──╫─┤M├──────\n",
       "«        ┌────┐┌───────┐ ░  ║  ║ └╥┘┌─┐   \n",
       "«   q_3: ┤ √X ├┤ RZ(π) ├─░──╫──╫──╫─┤M├───\n",
       "«        ├────┤└───────┘ ░  ║  ║  ║ └╥┘┌─┐\n",
       "«   q_4: ┤ √X ├──────────░──╫──╫──╫──╫─┤M├\n",
       "«        └────┘          ░  ║  ║  ║  ║ └╥┘\n",
       "«meas: 5/═══════════════════╩══╩══╩══╩══╩═\n",
       "«                           0  1  2  3  4 "
      ]
     },
     "execution_count": 80,
     "metadata": {},
     "output_type": "execute_result"
    }
   ],
   "source": [
    "orign_qc.draw()"
   ]
  },
  {
   "cell_type": "code",
   "execution_count": 81,
   "id": "1d356082",
   "metadata": {},
   "outputs": [
    {
     "data": {
      "text/plain": [
       "3"
      ]
     },
     "execution_count": 81,
     "metadata": {},
     "output_type": "execute_result"
    }
   ],
   "source": [
    "len(fragments)"
   ]
  },
  {
   "cell_type": "code",
   "execution_count": 82,
   "id": "3854951e",
   "metadata": {},
   "outputs": [],
   "source": [
    "temp_frag_data = [0] * len(fragments)"
   ]
  },
  {
   "cell_type": "code",
   "execution_count": 83,
   "id": "7cf11c70",
   "metadata": {},
   "outputs": [
    {
     "data": {
      "text/html": [
       "<pre style=\"word-wrap: normal;white-space: pre;background: #fff0;line-height: 1.1;font-family: &quot;Courier New&quot;,Courier,monospace\">     ┌────────────┐    ┌────┐    ┌────────────┐                             »\n",
       "q_0: ┤ RZ(4.7124) ├────┤ √X ├────┤ RZ(4.7124) ├─────────────────────────────»\n",
       "     └─┬───────┬──┘    ├────┤    ├────────────┤  ┌────┐ ┌───────┐           »\n",
       "q_1: ──┤ RZ(π) ├───────┤ √X ├────┤ RZ(5.2627) ├──┤ √X ├─┤ RZ(π) ├───────────»\n",
       "       └─┬────┬┘   ┌───┴────┴───┐└───┬────┬───┘  └────┘ └───────┘           »\n",
       "q_2: ────┤ √X ├────┤ RZ(4.0048) ├────┤ √X ├─────────────────────────────────»\n",
       "      ┌──┴────┴─┐  └───┬────┬───┘ ┌──┴────┴─┐             ┌───┐  ┌─────────┐»\n",
       "q_3: ─┤ RZ(π/2) ├──────┤ √X ├─────┤ RZ(π/2) ├─────────────┤ X ├──┤ RZ(π/2) ├»\n",
       "      └──┬────┬─┘  ┌───┴────┴───┐ └──┬────┬─┘  ┌───────┐  └─┬─┘  └┬────────┤»\n",
       "q_4: ────┤ √X ├────┤ RZ(4.6738) ├────┤ √X ├────┤ RZ(π) ├────■─────┤ RZ(-π) ├»\n",
       "         └────┘    └────────────┘    └────┘    └───────┘          └────────┘»\n",
       "«                                                           ┌───┐┌─────────┐»\n",
       "«q_0: ──────────────────────────────────────────────────────┤ X ├┤ RZ(π/2) ├»\n",
       "«                                                           └─┬─┘└─────────┘»\n",
       "«q_1: ────────────────────────────────────────────────────────┼─────────────»\n",
       "«                         ┌───┐ ┌─────────┐┌────┐┌─────────┐  │     ┌────┐  »\n",
       "«q_2: ────────────────────┤ X ├─┤ RZ(π/2) ├┤ √X ├┤ RZ(π/2) ├──■─────┤ √X ├──»\n",
       "«     ┌────┐ ┌─────────┐  └─┬─┘ └─────────┘└────┘└─────────┘        └────┘  »\n",
       "«q_3: ┤ √X ├─┤ RZ(π/2) ├────■───────────────────────────────────────────────»\n",
       "«     ├────┤┌┴─────────┴─┐┌────┐                                            »\n",
       "«q_4: ┤ √X ├┤ RZ(4.7509) ├┤ √X ├────────────────────────────────────────────»\n",
       "«     └────┘└────────────┘└────┘                                            »\n",
       "«         ┌────┐    ┌─────────┐         ┌────┐┌────────────┐┌────┐┌───────┐\n",
       "«q_0: ────┤ √X ├────┤ RZ(π/2) ├────■────┤ √X ├┤ RZ(6.2831) ├┤ √X ├┤ RZ(π) ├\n",
       "«         └────┘    └─────────┘  ┌─┴─┐  ├────┤├────────────┤├────┤└───────┘\n",
       "«q_1: ───────────────────────────┤ X ├──┤ √X ├┤ RZ(5.2629) ├┤ √X ├─────────\n",
       "«     ┌────────────┐   ┌────┐  ┌─┴───┴─┐└────┘└────────────┘└────┘         \n",
       "«q_2: ┤ RZ(3.8492) ├───┤ √X ├──┤ RZ(π) ├───────────────────────────────────\n",
       "«     └────────────┘   └────┘  └───────┘                                   \n",
       "«q_3: ─────────────────────────────────────────────────────────────────────\n",
       "«                                                                          \n",
       "«q_4: ─────────────────────────────────────────────────────────────────────\n",
       "«                                                                          </pre>"
      ],
      "text/plain": [
       "     ┌────────────┐    ┌────┐    ┌────────────┐                             »\n",
       "q_0: ┤ RZ(4.7124) ├────┤ √X ├────┤ RZ(4.7124) ├─────────────────────────────»\n",
       "     └─┬───────┬──┘    ├────┤    ├────────────┤  ┌────┐ ┌───────┐           »\n",
       "q_1: ──┤ RZ(π) ├───────┤ √X ├────┤ RZ(5.2627) ├──┤ √X ├─┤ RZ(π) ├───────────»\n",
       "       └─┬────┬┘   ┌───┴────┴───┐└───┬────┬───┘  └────┘ └───────┘           »\n",
       "q_2: ────┤ √X ├────┤ RZ(4.0048) ├────┤ √X ├─────────────────────────────────»\n",
       "      ┌──┴────┴─┐  └───┬────┬───┘ ┌──┴────┴─┐             ┌───┐  ┌─────────┐»\n",
       "q_3: ─┤ RZ(π/2) ├──────┤ √X ├─────┤ RZ(π/2) ├─────────────┤ X ├──┤ RZ(π/2) ├»\n",
       "      └──┬────┬─┘  ┌───┴────┴───┐ └──┬────┬─┘  ┌───────┐  └─┬─┘  └┬────────┤»\n",
       "q_4: ────┤ √X ├────┤ RZ(4.6738) ├────┤ √X ├────┤ RZ(π) ├────■─────┤ RZ(-π) ├»\n",
       "         └────┘    └────────────┘    └────┘    └───────┘          └────────┘»\n",
       "«                                                           ┌───┐┌─────────┐»\n",
       "«q_0: ──────────────────────────────────────────────────────┤ X ├┤ RZ(π/2) ├»\n",
       "«                                                           └─┬─┘└─────────┘»\n",
       "«q_1: ────────────────────────────────────────────────────────┼─────────────»\n",
       "«                         ┌───┐ ┌─────────┐┌────┐┌─────────┐  │     ┌────┐  »\n",
       "«q_2: ────────────────────┤ X ├─┤ RZ(π/2) ├┤ √X ├┤ RZ(π/2) ├──■─────┤ √X ├──»\n",
       "«     ┌────┐ ┌─────────┐  └─┬─┘ └─────────┘└────┘└─────────┘        └────┘  »\n",
       "«q_3: ┤ √X ├─┤ RZ(π/2) ├────■───────────────────────────────────────────────»\n",
       "«     ├────┤┌┴─────────┴─┐┌────┐                                            »\n",
       "«q_4: ┤ √X ├┤ RZ(4.7509) ├┤ √X ├────────────────────────────────────────────»\n",
       "«     └────┘└────────────┘└────┘                                            »\n",
       "«         ┌────┐    ┌─────────┐         ┌────┐┌────────────┐┌────┐┌───────┐\n",
       "«q_0: ────┤ √X ├────┤ RZ(π/2) ├────■────┤ √X ├┤ RZ(6.2831) ├┤ √X ├┤ RZ(π) ├\n",
       "«         └────┘    └─────────┘  ┌─┴─┐  ├────┤├────────────┤├────┤└───────┘\n",
       "«q_1: ───────────────────────────┤ X ├──┤ √X ├┤ RZ(5.2629) ├┤ √X ├─────────\n",
       "«     ┌────────────┐   ┌────┐  ┌─┴───┴─┐└────┘└────────────┘└────┘         \n",
       "«q_2: ┤ RZ(3.8492) ├───┤ √X ├──┤ RZ(π) ├───────────────────────────────────\n",
       "«     └────────────┘   └────┘  └───────┘                                   \n",
       "«q_3: ─────────────────────────────────────────────────────────────────────\n",
       "«                                                                          \n",
       "«q_4: ─────────────────────────────────────────────────────────────────────\n",
       "«                                                                          "
      ]
     },
     "execution_count": 83,
     "metadata": {},
     "output_type": "execute_result"
    }
   ],
   "source": [
    "fragments[0].draw()"
   ]
  },
  {
   "cell_type": "code",
   "execution_count": 84,
   "id": "808001a3",
   "metadata": {},
   "outputs": [
    {
     "name": "stdout",
     "output_type": "stream",
     "text": [
      "Job Status: job has successfully run\n",
      "job_id:  635bf58a49bfe9cb99d1a23e\n",
      "Job Status: job has successfully run\n",
      "job_id:  635bf61149bfe96784d1a240\n",
      "Job Status: job has successfully run\n",
      "job_id:  635bf6530b130e21bf7f1af4\n",
      "Job Status: job has successfully run\n",
      "job_id:  635bf762332596723e2f5019\n",
      "Job Status: job has successfully run\n",
      "job_id:  9f0daeaf-99c1-426b-aaac-b7b23efe88e9\n",
      "Job Status: job has successfully run\n",
      "job_id:  7f7ffe22-d933-4d03-a68f-7e4800d816a4\n"
     ]
    }
   ],
   "source": [
    "for i in range(0, len(fragments)):\n",
    "    if i == 0:\n",
    "        temp_frag_data[i] = ml.collect_fragment_raw_data(fragments[i], i, wire_path_map,\n",
    "                                     shots = shots // total_variants,\n",
    "                                     tomography_backend = device, opt_lvl = 3, extra_qc = [orign_qc])\n",
    "    else:\n",
    "        temp_frag_data[i] = ml.collect_fragment_raw_data(fragments[i], i, wire_path_map,\n",
    "                                     shots = shots // total_variants,\n",
    "                                     tomography_backend = simulation_backend)"
   ]
  },
  {
   "cell_type": "code",
   "execution_count": 85,
   "id": "c9b237b0",
   "metadata": {},
   "outputs": [
    {
     "data": {
      "text/plain": [
       "[Result(backend_name='ibmq_guadalupe', backend_version='1.3.29', qobj_id='a0ad8aa8-4cfd-4a02-8390-784e4f190e60', job_id='635bf58a49bfe9cb99d1a23e', success=True, results=[ExperimentResult(shots=8192, success=True, meas_level=2, data=ExperimentResultData(counts={'0x0': 747, '0x1': 15, '0x10': 70, '0x11': 19, '0x12': 239, '0x13': 26, '0x14': 91, '0x15': 55, '0x16': 305, '0x17': 81, '0x18': 4, '0x19': 5, '0x1a': 21, '0x1b': 8, '0x1c': 15, '0x1d': 3, '0x1e': 49, '0x1f': 2, '0x2': 2533, '0x3': 34, '0x4': 791, '0x5': 41, '0x6': 2806, '0x7': 102, '0x8': 10, '0x9': 3, '0xa': 44, '0xb': 10, '0xc': 7, '0xd': 6, '0xe': 45, '0xf': 5}), header=QobjExperimentHeader(clbit_labels=[['c1', 0], ['c1', 1], ['c1', 2], ['c1', 3], ['c1', 4]], creg_sizes=[['c1', 5]], global_phase=-0.8654297881037616, memory_slots=5, n_qubits=16, name=\"(('S0', 'S0', 'S0', 'S0', 'S0'), ('Z', 'Z', 'Z', 'Z', 'Z'))\", qreg_sizes=[['q', 16]], qubit_labels=[['q', 0], ['q', 1], ['q', 2], ['q', 3], ['q', 4], ['q', 5], ['q', 6], ['q', 7], ['q', 8], ['q', 9], ['q', 10], ['q', 11], ['q', 12], ['q', 13], ['q', 14], ['q', 15]]), status=done), ExperimentResult(shots=8192, success=True, meas_level=2, data=ExperimentResultData(counts={'0x0': 468, '0x1': 9, '0x10': 33, '0x11': 5, '0x12': 82, '0x13': 9, '0x14': 69, '0x15': 24, '0x16': 141, '0x17': 57, '0x18': 46, '0x19': 4, '0x1a': 128, '0x1b': 16, '0x1c': 58, '0x1d': 30, '0x1e': 188, '0x1f': 50, '0x2': 1181, '0x3': 25, '0x4': 643, '0x5': 43, '0x6': 1680, '0x7': 50, '0x8': 390, '0x9': 9, '0xa': 963, '0xb': 18, '0xc': 456, '0xd': 30, '0xe': 1249, '0xf': 38}), header=QobjExperimentHeader(clbit_labels=[['c1', 0], ['c1', 1], ['c1', 2], ['c1', 3], ['c1', 4]], creg_sizes=[['c1', 5]], global_phase=-55.05790306252771, memory_slots=5, n_qubits=16, name=\"(('S0', 'S0', 'S0', 'S0', 'S0'), ('Z', 'Z', 'Z', 'X', 'Z'))\", qreg_sizes=[['q', 16]], qubit_labels=[['q', 0], ['q', 1], ['q', 2], ['q', 3], ['q', 4], ['q', 5], ['q', 6], ['q', 7], ['q', 8], ['q', 9], ['q', 10], ['q', 11], ['q', 12], ['q', 13], ['q', 14], ['q', 15]]), status=done), ExperimentResult(shots=8192, success=True, meas_level=2, data=ExperimentResultData(counts={'0x0': 403, '0x1': 9, '0x10': 30, '0x11': 9, '0x12': 104, '0x13': 17, '0x14': 50, '0x15': 33, '0x16': 156, '0x17': 54, '0x18': 47, '0x19': 7, '0x1a': 122, '0x1b': 18, '0x1c': 79, '0x1d': 26, '0x1e': 225, '0x1f': 51, '0x2': 1159, '0x3': 19, '0x4': 559, '0x5': 39, '0x6': 1495, '0x7': 50, '0x8': 403, '0x9': 10, '0xa': 1019, '0xb': 19, '0xc': 538, '0xd': 32, '0xe': 1362, '0xf': 48}), header=QobjExperimentHeader(clbit_labels=[['c1', 0], ['c1', 1], ['c1', 2], ['c1', 3], ['c1', 4]], creg_sizes=[['c1', 5]], global_phase=-55.84330122592516, memory_slots=5, n_qubits=16, name=\"(('S0', 'S0', 'S0', 'S0', 'S0'), ('Z', 'Z', 'Z', 'Y', 'Z'))\", qreg_sizes=[['q', 16]], qubit_labels=[['q', 0], ['q', 1], ['q', 2], ['q', 3], ['q', 4], ['q', 5], ['q', 6], ['q', 7], ['q', 8], ['q', 9], ['q', 10], ['q', 11], ['q', 12], ['q', 13], ['q', 14], ['q', 15]]), status=done), ExperimentResult(shots=8192, success=True, meas_level=2, data=ExperimentResultData(counts={'0x0': 192, '0x1': 11, '0x10': 48, '0x11': 3, '0x12': 124, '0x13': 9, '0x14': 95, '0x15': 20, '0x16': 280, '0x17': 35, '0x18': 108, '0x19': 34, '0x1a': 377, '0x1b': 65, '0x1c': 920, '0x1d': 38, '0x1e': 3196, '0x1f': 96, '0x2': 665, '0x3': 12, '0x4': 289, '0x5': 11, '0x6': 967, '0x7': 20, '0x8': 17, '0x9': 5, '0xa': 53, '0xb': 5, '0xc': 99, '0xd': 12, '0xe': 367, '0xf': 19}), header=QobjExperimentHeader(clbit_labels=[['c1', 0], ['c1', 1], ['c1', 2], ['c1', 3], ['c1', 4]], creg_sizes=[['c1', 5]], global_phase=-60.28004740709358, memory_slots=5, n_qubits=16, name=\"(('S0', 'S0', 'S0', 'S1', 'S0'), ('Z', 'Z', 'Z', 'Z', 'Z'))\", qreg_sizes=[['q', 16]], qubit_labels=[['q', 0], ['q', 1], ['q', 2], ['q', 3], ['q', 4], ['q', 5], ['q', 6], ['q', 7], ['q', 8], ['q', 9], ['q', 10], ['q', 11], ['q', 12], ['q', 13], ['q', 14], ['q', 15]]), status=done), ExperimentResult(shots=8192, success=True, meas_level=2, data=ExperimentResultData(counts={'0x0': 135, '0x1': 11, '0x10': 56, '0x11': 19, '0x12': 189, '0x13': 35, '0x14': 562, '0x15': 43, '0x16': 1501, '0x17': 63, '0x18': 117, '0x19': 22, '0x1a': 272, '0x1b': 54, '0x1c': 674, '0x1d': 25, '0x1e': 1652, '0x1f': 50, '0x2': 313, '0x3': 19, '0x4': 191, '0x5': 14, '0x6': 543, '0x7': 13, '0x8': 214, '0x9': 10, '0xa': 440, '0xb': 10, '0xc': 242, '0xd': 17, '0xe': 648, '0xf': 38}), header=QobjExperimentHeader(clbit_labels=[['c1', 0], ['c1', 1], ['c1', 2], ['c1', 3], ['c1', 4]], creg_sizes=[['c1', 5]], global_phase=-64.20703822408082, memory_slots=5, n_qubits=16, name=\"(('S0', 'S0', 'S0', 'S1', 'S0'), ('Z', 'Z', 'Z', 'X', 'Z'))\", qreg_sizes=[['q', 16]], qubit_labels=[['q', 0], ['q', 1], ['q', 2], ['q', 3], ['q', 4], ['q', 5], ['q', 6], ['q', 7], ['q', 8], ['q', 9], ['q', 10], ['q', 11], ['q', 12], ['q', 13], ['q', 14], ['q', 15]]), status=done), ExperimentResult(shots=8192, success=True, meas_level=2, data=ExperimentResultData(counts={'0x0': 179, '0x1': 5, '0x10': 79, '0x11': 22, '0x12': 245, '0x13': 49, '0x14': 568, '0x15': 21, '0x16': 1494, '0x17': 42, '0x18': 90, '0x19': 16, '0x1a': 216, '0x1b': 31, '0x1c': 613, '0x1d': 42, '0x1e': 1755, '0x1f': 79, '0x2': 388, '0x3': 18, '0x4': 332, '0x5': 21, '0x6': 960, '0x7': 21, '0x8': 111, '0x9': 10, '0xa': 371, '0xb': 16, '0xc': 98, '0xd': 15, '0xe': 258, '0xf': 27}), header=QobjExperimentHeader(clbit_labels=[['c1', 0], ['c1', 1], ['c1', 2], ['c1', 3], ['c1', 4]], creg_sizes=[['c1', 5]], global_phase=-64.99243638747826, memory_slots=5, n_qubits=16, name=\"(('S0', 'S0', 'S0', 'S1', 'S0'), ('Z', 'Z', 'Z', 'Y', 'Z'))\", qreg_sizes=[['q', 16]], qubit_labels=[['q', 0], ['q', 1], ['q', 2], ['q', 3], ['q', 4], ['q', 5], ['q', 6], ['q', 7], ['q', 8], ['q', 9], ['q', 10], ['q', 11], ['q', 12], ['q', 13], ['q', 14], ['q', 15]]), status=done), ExperimentResult(shots=8192, success=True, meas_level=2, data=ExperimentResultData(counts={'0x0': 269, '0x1': 4, '0x10': 36, '0x11': 6, '0x12': 150, '0x13': 21, '0x14': 114, '0x15': 19, '0x16': 327, '0x17': 41, '0x18': 75, '0x19': 32, '0x1a': 331, '0x1b': 54, '0x1c': 840, '0x1d': 49, '0x1e': 2886, '0x1f': 91, '0x2': 968, '0x3': 21, '0x4': 295, '0x5': 18, '0x6': 946, '0x7': 43, '0x8': 19, '0x9': 5, '0xa': 71, '0xb': 11, '0xc': 103, '0xd': 12, '0xe': 318, '0xf': 17}), header=QobjExperimentHeader(clbit_labels=[['c1', 0], ['c1', 1], ['c1', 2], ['c1', 3], ['c1', 4]], creg_sizes=[['c1', 5]], global_phase=-49.8080718951276, memory_slots=5, n_qubits=16, name=\"(('S0', 'S0', 'S0', 'S2', 'S0'), ('Z', 'Z', 'Z', 'Z', 'Z'))\", qreg_sizes=[['q', 16]], qubit_labels=[['q', 0], ['q', 1], ['q', 2], ['q', 3], ['q', 4], ['q', 5], ['q', 6], ['q', 7], ['q', 8], ['q', 9], ['q', 10], ['q', 11], ['q', 12], ['q', 13], ['q', 14], ['q', 15]]), status=done), ExperimentResult(shots=8192, success=True, meas_level=2, data=ExperimentResultData(counts={'0x0': 224, '0x1': 14, '0x10': 95, '0x11': 12, '0x12': 213, '0x13': 33, '0x14': 515, '0x15': 16, '0x16': 1239, '0x17': 33, '0x18': 89, '0x19': 19, '0x1a': 206, '0x1b': 27, '0x1c': 602, '0x1d': 52, '0x1e': 1607, '0x1f': 101, '0x2': 612, '0x3': 15, '0x4': 411, '0x5': 21, '0x6': 1096, '0x7': 41, '0x8': 153, '0x9': 8, '0xa': 367, '0xb': 11, '0xc': 94, '0xd': 8, '0xe': 232, '0xf': 26}), header=QobjExperimentHeader(clbit_labels=[['c1', 0], ['c1', 1], ['c1', 2], ['c1', 3], ['c1', 4]], creg_sizes=[['c1', 5]], global_phase=-53.735062712114846, memory_slots=5, n_qubits=16, name=\"(('S0', 'S0', 'S0', 'S2', 'S0'), ('Z', 'Z', 'Z', 'X', 'Z'))\", qreg_sizes=[['q', 16]], qubit_labels=[['q', 0], ['q', 1], ['q', 2], ['q', 3], ['q', 4], ['q', 5], ['q', 6], ['q', 7], ['q', 8], ['q', 9], ['q', 10], ['q', 11], ['q', 12], ['q', 13], ['q', 14], ['q', 15]]), status=done), ExperimentResult(shots=8192, success=True, meas_level=2, data=ExperimentResultData(counts={'0x0': 232, '0x1': 5, '0x10': 94, '0x11': 16, '0x12': 255, '0x13': 30, '0x14': 619, '0x15': 41, '0x16': 1571, '0x17': 65, '0x18': 70, '0x19': 19, '0x1a': 185, '0x1b': 38, '0x1c': 461, '0x1d': 34, '0x1e': 1312, '0x1f': 61, '0x2': 553, '0x3': 14, '0x4': 218, '0x5': 20, '0x6': 577, '0x7': 33, '0x8': 167, '0x9': 7, '0xa': 445, '0xb': 14, '0xc': 284, '0xd': 14, '0xe': 707, '0xf': 31}), header=QobjExperimentHeader(clbit_labels=[['c1', 0], ['c1', 1], ['c1', 2], ['c1', 3], ['c1', 4]], creg_sizes=[['c1', 5]], global_phase=-63.15984067288422, memory_slots=5, n_qubits=16, name=\"(('S0', 'S0', 'S0', 'S2', 'S0'), ('Z', 'Z', 'Z', 'Y', 'Z'))\", qreg_sizes=[['q', 16]], qubit_labels=[['q', 0], ['q', 1], ['q', 2], ['q', 3], ['q', 4], ['q', 5], ['q', 6], ['q', 7], ['q', 8], ['q', 9], ['q', 10], ['q', 11], ['q', 12], ['q', 13], ['q', 14], ['q', 15]]), status=done), ExperimentResult(shots=8192, success=True, meas_level=2, data=ExperimentResultData(counts={'0x0': 276, '0x1': 8, '0x10': 37, '0x11': 4, '0x12': 101, '0x13': 13, '0x14': 79, '0x15': 24, '0x16': 265, '0x17': 39, '0x18': 92, '0x19': 33, '0x1a': 354, '0x1b': 57, '0x1c': 862, '0x1d': 48, '0x1e': 3000, '0x1f': 92, '0x2': 933, '0x3': 15, '0x4': 276, '0x5': 22, '0x6': 966, '0x7': 48, '0x8': 17, '0x9': 5, '0xa': 44, '0xb': 15, '0xc': 85, '0xd': 10, '0xe': 349, '0xf': 23}), header=QobjExperimentHeader(clbit_labels=[['c1', 0], ['c1', 1], ['c1', 2], ['c1', 3], ['c1', 4]], creg_sizes=[['c1', 5]], global_phase=-55.04405965111059, memory_slots=5, n_qubits=16, name=\"(('S0', 'S0', 'S0', 'S3', 'S0'), ('Z', 'Z', 'Z', 'Z', 'Z'))\", qreg_sizes=[['q', 16]], qubit_labels=[['q', 0], ['q', 1], ['q', 2], ['q', 3], ['q', 4], ['q', 5], ['q', 6], ['q', 7], ['q', 8], ['q', 9], ['q', 10], ['q', 11], ['q', 12], ['q', 13], ['q', 14], ['q', 15]]), status=done), ExperimentResult(shots=8192, success=True, meas_level=2, data=ExperimentResultData(counts={'0x0': 186, '0x1': 12, '0x10': 90, '0x11': 16, '0x12': 213, '0x13': 44, '0x14': 607, '0x15': 39, '0x16': 1562, '0x17': 82, '0x18': 93, '0x19': 23, '0x1a': 227, '0x1b': 38, '0x1c': 506, '0x1d': 22, '0x1e': 1373, '0x1f': 50, '0x2': 456, '0x3': 15, '0x4': 167, '0x5': 22, '0x6': 473, '0x7': 44, '0x8': 161, '0x9': 3, '0xa': 377, '0xb': 14, '0xc': 349, '0xd': 18, '0xe': 883, '0xf': 27}), header=QobjExperimentHeader(clbit_labels=[['c1', 0], ['c1', 1], ['c1', 2], ['c1', 3], ['c1', 4]], creg_sizes=[['c1', 5]], global_phase=-58.971050468097836, memory_slots=5, n_qubits=16, name=\"(('S0', 'S0', 'S0', 'S3', 'S0'), ('Z', 'Z', 'Z', 'X', 'Z'))\", qreg_sizes=[['q', 16]], qubit_labels=[['q', 0], ['q', 1], ['q', 2], ['q', 3], ['q', 4], ['q', 5], ['q', 6], ['q', 7], ['q', 8], ['q', 9], ['q', 10], ['q', 11], ['q', 12], ['q', 13], ['q', 14], ['q', 15]]), status=done), ExperimentResult(shots=8192, success=True, meas_level=2, data=ExperimentResultData(counts={'0x0': 141, '0x1': 5, '0x10': 75, '0x11': 19, '0x12': 170, '0x13': 35, '0x14': 574, '0x15': 47, '0x16': 1540, '0x17': 82, '0x18': 103, '0x19': 23, '0x1a': 250, '0x1b': 47, '0x1c': 497, '0x1d': 14, '0x1e': 1412, '0x1f': 42, '0x2': 349, '0x3': 11, '0x4': 155, '0x5': 14, '0x6': 379, '0x7': 25, '0x8': 196, '0x9': 10, '0xa': 552, '0xb': 12, '0xc': 383, '0xd': 26, '0xe': 955, '0xf': 49}), header=QobjExperimentHeader(clbit_labels=[['c1', 0], ['c1', 1], ['c1', 2], ['c1', 3], ['c1', 4]], creg_sizes=[['c1', 5]], global_phase=-59.75644863149528, memory_slots=5, n_qubits=16, name=\"(('S0', 'S0', 'S0', 'S3', 'S0'), ('Z', 'Z', 'Z', 'Y', 'Z'))\", qreg_sizes=[['q', 16]], qubit_labels=[['q', 0], ['q', 1], ['q', 2], ['q', 3], ['q', 4], ['q', 5], ['q', 6], ['q', 7], ['q', 8], ['q', 9], ['q', 10], ['q', 11], ['q', 12], ['q', 13], ['q', 14], ['q', 15]]), status=done), ExperimentResult(shots=8192, success=True, meas_level=2, data=ExperimentResultData(counts={'0x0': 24, '0x1': 15, '0x10': 557, '0x11': 301, '0x12': 75, '0x13': 71, '0x14': 3599, '0x15': 2089, '0x16': 157, '0x17': 141, '0x18': 130, '0x19': 74, '0x1a': 16, '0x1b': 18, '0x1c': 156, '0x1d': 99, '0x1e': 18, '0x1f': 17, '0x2': 2, '0x3': 1, '0x4': 180, '0x5': 99, '0x6': 12, '0x7': 9, '0x8': 158, '0x9': 90, '0xa': 11, '0xb': 2, '0xc': 38, '0xd': 25, '0xe': 4, '0xf': 4}), header=QobjExperimentHeader(clbit_labels=[['meas', 0], ['meas', 1], ['meas', 2], ['meas', 3], ['meas', 4]], creg_sizes=[['meas', 5]], global_phase=-187.63442310967176, memory_slots=5, n_qubits=16, name='circuit13366', qreg_sizes=[['q', 16]], qubit_labels=[['q', 0], ['q', 1], ['q', 2], ['q', 3], ['q', 4], ['q', 5], ['q', 6], ['q', 7], ['q', 8], ['q', 9], ['q', 10], ['q', 11], ['q', 12], ['q', 13], ['q', 14], ['q', 15]]), status=done)], date=2022-10-28 10:32:08-05:00, status=Successful completion, status=QobjHeader(backend_name='ibmq_guadalupe', backend_version='1.3.29'), execution_id='8740c570-56d5-11ed-9b84-b02628f7f59e', time_taken=31.582804441452026, error=None, client_version={'qiskit': '0.23.2'}),\n",
       " Result(backend_name='ibmq_guadalupe', backend_version='1.3.29', qobj_id='ec360acf-f0a5-44ea-8fe6-3d1dd1ba37f8', job_id='635bf61149bfe96784d1a240', success=True, results=[ExperimentResult(shots=8192, success=True, meas_level=2, data=ExperimentResultData(counts={'0x0': 733, '0x1': 14, '0x10': 54, '0x11': 11, '0x12': 204, '0x13': 20, '0x14': 86, '0x15': 36, '0x16': 305, '0x17': 123, '0x18': 4, '0x19': 1, '0x1a': 21, '0x1b': 2, '0x1c': 14, '0x1d': 3, '0x1e': 48, '0x1f': 2, '0x2': 2601, '0x3': 30, '0x4': 816, '0x5': 58, '0x6': 2773, '0x7': 120, '0x8': 11, '0x9': 5, '0xa': 42, '0xb': 7, '0xc': 12, '0xd': 2, '0xe': 33, '0xf': 1}), header=QobjExperimentHeader(clbit_labels=[['c1', 0], ['c1', 1], ['c1', 2], ['c1', 3], ['c1', 4]], creg_sizes=[['c1', 5]], global_phase=-0.8654297881037625, memory_slots=5, n_qubits=16, name=\"(('S0', 'S0', 'S0', 'S0', 'S0'), ('Z', 'Z', 'Z', 'Z', 'Z'))\", qreg_sizes=[['q', 16]], qubit_labels=[['q', 0], ['q', 1], ['q', 2], ['q', 3], ['q', 4], ['q', 5], ['q', 6], ['q', 7], ['q', 8], ['q', 9], ['q', 10], ['q', 11], ['q', 12], ['q', 13], ['q', 14], ['q', 15]]), status=done), ExperimentResult(shots=8192, success=True, meas_level=2, data=ExperimentResultData(counts={'0x0': 450, '0x1': 12, '0x10': 39, '0x11': 9, '0x12': 80, '0x13': 10, '0x14': 55, '0x15': 24, '0x16': 146, '0x17': 49, '0x18': 39, '0x19': 6, '0x1a': 120, '0x1b': 12, '0x1c': 82, '0x1d': 36, '0x1e': 189, '0x1f': 70, '0x2': 1224, '0x3': 31, '0x4': 659, '0x5': 36, '0x6': 1637, '0x7': 50, '0x8': 377, '0x9': 12, '0xa': 1008, '0xb': 15, '0xc': 456, '0xd': 28, '0xe': 1198, '0xf': 33}), header=QobjExperimentHeader(clbit_labels=[['c1', 0], ['c1', 1], ['c1', 2], ['c1', 3], ['c1', 4]], creg_sizes=[['c1', 5]], global_phase=-55.05790306252771, memory_slots=5, n_qubits=16, name=\"(('S0', 'S0', 'S0', 'S0', 'S0'), ('Z', 'Z', 'Z', 'X', 'Z'))\", qreg_sizes=[['q', 16]], qubit_labels=[['q', 0], ['q', 1], ['q', 2], ['q', 3], ['q', 4], ['q', 5], ['q', 6], ['q', 7], ['q', 8], ['q', 9], ['q', 10], ['q', 11], ['q', 12], ['q', 13], ['q', 14], ['q', 15]]), status=done), ExperimentResult(shots=8192, success=True, meas_level=2, data=ExperimentResultData(counts={'0x0': 425, '0x1': 11, '0x10': 33, '0x11': 11, '0x12': 89, '0x13': 15, '0x14': 50, '0x15': 28, '0x16': 148, '0x17': 55, '0x18': 41, '0x1a': 115, '0x1b': 14, '0x1c': 84, '0x1d': 32, '0x1e': 184, '0x1f': 52, '0x2': 1149, '0x3': 18, '0x4': 595, '0x5': 24, '0x6': 1529, '0x7': 48, '0x8': 377, '0x9': 12, '0xa': 1031, '0xb': 26, '0xc': 532, '0xd': 22, '0xe': 1399, '0xf': 43}), header=QobjExperimentHeader(clbit_labels=[['c1', 0], ['c1', 1], ['c1', 2], ['c1', 3], ['c1', 4]], creg_sizes=[['c1', 5]], global_phase=-64.48268102329708, memory_slots=5, n_qubits=16, name=\"(('S0', 'S0', 'S0', 'S0', 'S0'), ('Z', 'Z', 'Z', 'Y', 'Z'))\", qreg_sizes=[['q', 16]], qubit_labels=[['q', 0], ['q', 1], ['q', 2], ['q', 3], ['q', 4], ['q', 5], ['q', 6], ['q', 7], ['q', 8], ['q', 9], ['q', 10], ['q', 11], ['q', 12], ['q', 13], ['q', 14], ['q', 15]]), status=done), ExperimentResult(shots=8192, success=True, meas_level=2, data=ExperimentResultData(counts={'0x0': 214, '0x1': 14, '0x10': 43, '0x11': 8, '0x12': 110, '0x13': 12, '0x14': 95, '0x15': 24, '0x16': 300, '0x17': 53, '0x18': 109, '0x19': 27, '0x1a': 333, '0x1b': 54, '0x1c': 942, '0x1d': 45, '0x1e': 3178, '0x1f': 87, '0x2': 683, '0x3': 9, '0x4': 330, '0x5': 9, '0x6': 967, '0x7': 43, '0x8': 15, '0x9': 6, '0xa': 50, '0xb': 8, '0xc': 78, '0xd': 12, '0xe': 317, '0xf': 17}), header=QobjExperimentHeader(clbit_labels=[['c1', 0], ['c1', 1], ['c1', 2], ['c1', 3], ['c1', 4]], creg_sizes=[['c1', 5]], global_phase=-60.280047407093576, memory_slots=5, n_qubits=16, name=\"(('S0', 'S0', 'S0', 'S1', 'S0'), ('Z', 'Z', 'Z', 'Z', 'Z'))\", qreg_sizes=[['q', 16]], qubit_labels=[['q', 0], ['q', 1], ['q', 2], ['q', 3], ['q', 4], ['q', 5], ['q', 6], ['q', 7], ['q', 8], ['q', 9], ['q', 10], ['q', 11], ['q', 12], ['q', 13], ['q', 14], ['q', 15]]), status=done), ExperimentResult(shots=8192, success=True, meas_level=2, data=ExperimentResultData(counts={'0x0': 120, '0x1': 6, '0x10': 76, '0x11': 19, '0x12': 178, '0x13': 42, '0x14': 574, '0x15': 58, '0x16': 1410, '0x17': 57, '0x18': 110, '0x19': 21, '0x1a': 266, '0x1b': 37, '0x1c': 671, '0x1d': 24, '0x1e': 1737, '0x1f': 37, '0x2': 332, '0x3': 19, '0x4': 188, '0x5': 12, '0x6': 548, '0x7': 29, '0x8': 162, '0x9': 10, '0xa': 462, '0xb': 20, '0xc': 221, '0xd': 20, '0xe': 694, '0xf': 32}), header=QobjExperimentHeader(clbit_labels=[['c1', 0], ['c1', 1], ['c1', 2], ['c1', 3], ['c1', 4]], creg_sizes=[['c1', 5]], global_phase=-64.20703822408082, memory_slots=5, n_qubits=16, name=\"(('S0', 'S0', 'S0', 'S1', 'S0'), ('Z', 'Z', 'Z', 'X', 'Z'))\", qreg_sizes=[['q', 16]], qubit_labels=[['q', 0], ['q', 1], ['q', 2], ['q', 3], ['q', 4], ['q', 5], ['q', 6], ['q', 7], ['q', 8], ['q', 9], ['q', 10], ['q', 11], ['q', 12], ['q', 13], ['q', 14], ['q', 15]]), status=done), ExperimentResult(shots=8192, success=True, meas_level=2, data=ExperimentResultData(counts={'0x0': 147, '0x1': 8, '0x10': 93, '0x11': 31, '0x12': 216, '0x13': 37, '0x14': 511, '0x15': 20, '0x16': 1536, '0x17': 39, '0x18': 85, '0x19': 13, '0x1a': 222, '0x1b': 27, '0x1c': 608, '0x1d': 51, '0x1e': 1696, '0x1f': 100, '0x2': 456, '0x3': 19, '0x4': 383, '0x5': 19, '0x6': 946, '0x7': 23, '0x8': 115, '0x9': 3, '0xa': 349, '0xb': 13, '0xc': 95, '0xd': 15, '0xe': 298, '0xf': 18}), header=QobjExperimentHeader(clbit_labels=[['c1', 0], ['c1', 1], ['c1', 2], ['c1', 3], ['c1', 4]], creg_sizes=[['c1', 5]], global_phase=-64.99243638747826, memory_slots=5, n_qubits=16, name=\"(('S0', 'S0', 'S0', 'S1', 'S0'), ('Z', 'Z', 'Z', 'Y', 'Z'))\", qreg_sizes=[['q', 16]], qubit_labels=[['q', 0], ['q', 1], ['q', 2], ['q', 3], ['q', 4], ['q', 5], ['q', 6], ['q', 7], ['q', 8], ['q', 9], ['q', 10], ['q', 11], ['q', 12], ['q', 13], ['q', 14], ['q', 15]]), status=done), ExperimentResult(shots=8192, success=True, meas_level=2, data=ExperimentResultData(counts={'0x0': 267, '0x1': 7, '0x10': 43, '0x11': 9, '0x12': 158, '0x13': 18, '0x14': 82, '0x15': 24, '0x16': 314, '0x17': 58, '0x18': 96, '0x19': 21, '0x1a': 350, '0x1b': 49, '0x1c': 848, '0x1d': 53, '0x1e': 2910, '0x1f': 102, '0x2': 918, '0x3': 21, '0x4': 263, '0x5': 15, '0x6': 997, '0x7': 30, '0x8': 21, '0x9': 7, '0xa': 48, '0xb': 12, '0xc': 88, '0xd': 10, '0xe': 340, '0xf': 13}), header=QobjExperimentHeader(clbit_labels=[['c1', 0], ['c1', 1], ['c1', 2], ['c1', 3], ['c1', 4]], creg_sizes=[['c1', 5]], global_phase=-49.80807189512759, memory_slots=5, n_qubits=16, name=\"(('S0', 'S0', 'S0', 'S2', 'S0'), ('Z', 'Z', 'Z', 'Z', 'Z'))\", qreg_sizes=[['q', 16]], qubit_labels=[['q', 0], ['q', 1], ['q', 2], ['q', 3], ['q', 4], ['q', 5], ['q', 6], ['q', 7], ['q', 8], ['q', 9], ['q', 10], ['q', 11], ['q', 12], ['q', 13], ['q', 14], ['q', 15]]), status=done), ExperimentResult(shots=8192, success=True, meas_level=2, data=ExperimentResultData(counts={'0x0': 248, '0x1': 5, '0x10': 71, '0x11': 19, '0x12': 166, '0x13': 31, '0x14': 503, '0x15': 19, '0x16': 1286, '0x17': 31, '0x18': 68, '0x19': 12, '0x1a': 194, '0x1b': 21, '0x1c': 606, '0x1d': 68, '0x1e': 1632, '0x1f': 93, '0x2': 646, '0x3': 8, '0x4': 425, '0x5': 19, '0x6': 1124, '0x7': 49, '0x8': 140, '0x9': 6, '0xa': 400, '0xb': 13, '0xc': 69, '0xd': 10, '0xe': 202, '0xf': 8}), header=QobjExperimentHeader(clbit_labels=[['c1', 0], ['c1', 1], ['c1', 2], ['c1', 3], ['c1', 4]], creg_sizes=[['c1', 5]], global_phase=-53.735062712114846, memory_slots=5, n_qubits=16, name=\"(('S0', 'S0', 'S0', 'S2', 'S0'), ('Z', 'Z', 'Z', 'X', 'Z'))\", qreg_sizes=[['q', 16]], qubit_labels=[['q', 0], ['q', 1], ['q', 2], ['q', 3], ['q', 4], ['q', 5], ['q', 6], ['q', 7], ['q', 8], ['q', 9], ['q', 10], ['q', 11], ['q', 12], ['q', 13], ['q', 14], ['q', 15]]), status=done), ExperimentResult(shots=8192, success=True, meas_level=2, data=ExperimentResultData(counts={'0x0': 228, '0x1': 10, '0x10': 89, '0x11': 16, '0x12': 248, '0x13': 20, '0x14': 591, '0x15': 38, '0x16': 1611, '0x17': 53, '0x18': 63, '0x19': 17, '0x1a': 188, '0x1b': 22, '0x1c': 468, '0x1d': 38, '0x1e': 1306, '0x1f': 59, '0x2': 559, '0x3': 15, '0x4': 214, '0x5': 15, '0x6': 594, '0x7': 39, '0x8': 175, '0x9': 14, '0xa': 493, '0xb': 10, '0xc': 256, '0xd': 15, '0xe': 700, '0xf': 28}), header=QobjExperimentHeader(clbit_labels=[['c1', 0], ['c1', 1], ['c1', 2], ['c1', 3], ['c1', 4]], creg_sizes=[['c1', 5]], global_phase=-54.520460875512285, memory_slots=5, n_qubits=16, name=\"(('S0', 'S0', 'S0', 'S2', 'S0'), ('Z', 'Z', 'Z', 'Y', 'Z'))\", qreg_sizes=[['q', 16]], qubit_labels=[['q', 0], ['q', 1], ['q', 2], ['q', 3], ['q', 4], ['q', 5], ['q', 6], ['q', 7], ['q', 8], ['q', 9], ['q', 10], ['q', 11], ['q', 12], ['q', 13], ['q', 14], ['q', 15]]), status=done), ExperimentResult(shots=8192, success=True, meas_level=2, data=ExperimentResultData(counts={'0x0': 267, '0x1': 15, '0x10': 30, '0x11': 8, '0x12': 104, '0x13': 11, '0x14': 76, '0x15': 17, '0x16': 271, '0x17': 40, '0x18': 86, '0x19': 37, '0x1a': 300, '0x1b': 63, '0x1c': 849, '0x1d': 50, '0x1e': 2992, '0x1f': 118, '0x2': 941, '0x3': 17, '0x4': 275, '0x5': 19, '0x6': 1042, '0x7': 43, '0x8': 24, '0x9': 2, '0xa': 46, '0xb': 7, '0xc': 88, '0xd': 9, '0xe': 331, '0xf': 14}), header=QobjExperimentHeader(clbit_labels=[['c1', 0], ['c1', 1], ['c1', 2], ['c1', 3], ['c1', 4]], creg_sizes=[['c1', 5]], global_phase=-55.04405965111059, memory_slots=5, n_qubits=16, name=\"(('S0', 'S0', 'S0', 'S3', 'S0'), ('Z', 'Z', 'Z', 'Z', 'Z'))\", qreg_sizes=[['q', 16]], qubit_labels=[['q', 0], ['q', 1], ['q', 2], ['q', 3], ['q', 4], ['q', 5], ['q', 6], ['q', 7], ['q', 8], ['q', 9], ['q', 10], ['q', 11], ['q', 12], ['q', 13], ['q', 14], ['q', 15]]), status=done), ExperimentResult(shots=8192, success=True, meas_level=2, data=ExperimentResultData(counts={'0x0': 166, '0x1': 8, '0x10': 73, '0x11': 10, '0x12': 221, '0x13': 29, '0x14': 541, '0x15': 52, '0x16': 1523, '0x17': 88, '0x18': 86, '0x19': 26, '0x1a': 223, '0x1b': 45, '0x1c': 528, '0x1d': 17, '0x1e': 1460, '0x1f': 44, '0x2': 522, '0x3': 14, '0x4': 184, '0x5': 19, '0x6': 481, '0x7': 28, '0x8': 150, '0x9': 12, '0xa': 430, '0xb': 19, '0xc': 272, '0xd': 17, '0xe': 876, '0xf': 28}), header=QobjExperimentHeader(clbit_labels=[['c1', 0], ['c1', 1], ['c1', 2], ['c1', 3], ['c1', 4]], creg_sizes=[['c1', 5]], global_phase=-58.971050468097836, memory_slots=5, n_qubits=16, name=\"(('S0', 'S0', 'S0', 'S3', 'S0'), ('Z', 'Z', 'Z', 'X', 'Z'))\", qreg_sizes=[['q', 16]], qubit_labels=[['q', 0], ['q', 1], ['q', 2], ['q', 3], ['q', 4], ['q', 5], ['q', 6], ['q', 7], ['q', 8], ['q', 9], ['q', 10], ['q', 11], ['q', 12], ['q', 13], ['q', 14], ['q', 15]]), status=done), ExperimentResult(shots=8192, success=True, meas_level=2, data=ExperimentResultData(counts={'0x0': 116, '0x1': 8, '0x10': 67, '0x11': 21, '0x12': 188, '0x13': 29, '0x14': 595, '0x15': 60, '0x16': 1608, '0x17': 88, '0x18': 82, '0x19': 13, '0x1a': 263, '0x1b': 33, '0x1c': 509, '0x1d': 16, '0x1e': 1386, '0x1f': 28, '0x2': 350, '0x3': 10, '0x4': 140, '0x5': 9, '0x6': 446, '0x7': 22, '0x8': 187, '0x9': 5, '0xa': 544, '0xb': 25, '0xc': 362, '0xd': 20, '0xe': 913, '0xf': 49}), header=QobjExperimentHeader(clbit_labels=[['c1', 0], ['c1', 1], ['c1', 2], ['c1', 3], ['c1', 4]], creg_sizes=[['c1', 5]], global_phase=-59.75644863149527, memory_slots=5, n_qubits=16, name=\"(('S0', 'S0', 'S0', 'S3', 'S0'), ('Z', 'Z', 'Z', 'Y', 'Z'))\", qreg_sizes=[['q', 16]], qubit_labels=[['q', 0], ['q', 1], ['q', 2], ['q', 3], ['q', 4], ['q', 5], ['q', 6], ['q', 7], ['q', 8], ['q', 9], ['q', 10], ['q', 11], ['q', 12], ['q', 13], ['q', 14], ['q', 15]]), status=done), ExperimentResult(shots=8192, success=True, meas_level=2, data=ExperimentResultData(counts={'0x0': 33, '0x1': 14, '0x10': 512, '0x11': 303, '0x12': 88, '0x13': 56, '0x14': 3660, '0x15': 2074, '0x16': 180, '0x17': 139, '0x18': 133, '0x19': 66, '0x1a': 11, '0x1b': 10, '0x1c': 146, '0x1d': 91, '0x1e': 11, '0x1f': 11, '0x2': 6, '0x3': 3, '0x4': 198, '0x5': 110, '0x6': 8, '0x7': 3, '0x8': 155, '0x9': 90, '0xa': 2, '0xb': 6, '0xc': 37, '0xd': 24, '0xe': 6, '0xf': 6}), header=QobjExperimentHeader(clbit_labels=[['meas', 0], ['meas', 1], ['meas', 2], ['meas', 3], ['meas', 4]], creg_sizes=[['meas', 5]], global_phase=-187.63442310967176, memory_slots=5, n_qubits=16, name='circuit13366', qreg_sizes=[['q', 16]], qubit_labels=[['q', 0], ['q', 1], ['q', 2], ['q', 3], ['q', 4], ['q', 5], ['q', 6], ['q', 7], ['q', 8], ['q', 9], ['q', 10], ['q', 11], ['q', 12], ['q', 13], ['q', 14], ['q', 15]]), status=done)], date=2022-10-28 10:33:25-05:00, status=Successful completion, status=QobjHeader(backend_name='ibmq_guadalupe', backend_version='1.3.29'), execution_id='ca5aacc2-56d5-11ed-9b84-b02628f7f59e', time_taken=31.709938287734985, error=None, client_version={'qiskit': '0.23.2'}),\n",
       " Result(backend_name='ibmq_guadalupe', backend_version='1.3.29', qobj_id='b5e53242-4c08-47ae-813a-bf022aa2771a', job_id='635bf6530b130e21bf7f1af4', success=True, results=[ExperimentResult(shots=8192, success=True, meas_level=2, data=ExperimentResultData(counts={'0x0': 700, '0x1': 23, '0x10': 48, '0x11': 15, '0x12': 191, '0x13': 27, '0x14': 95, '0x15': 54, '0x16': 294, '0x17': 102, '0x18': 6, '0x19': 3, '0x1a': 13, '0x1b': 4, '0x1c': 19, '0x1d': 1, '0x1e': 65, '0x1f': 3, '0x2': 2602, '0x3': 39, '0x4': 735, '0x5': 62, '0x6': 2873, '0x7': 92, '0x8': 13, '0x9': 3, '0xa': 30, '0xb': 6, '0xc': 17, '0xd': 2, '0xe': 46, '0xf': 9}), header=QobjExperimentHeader(clbit_labels=[['c1', 0], ['c1', 1], ['c1', 2], ['c1', 3], ['c1', 4]], creg_sizes=[['c1', 5]], global_phase=-0.8654297881037598, memory_slots=5, n_qubits=16, name=\"(('S0', 'S0', 'S0', 'S0', 'S0'), ('Z', 'Z', 'Z', 'Z', 'Z'))\", qreg_sizes=[['q', 16]], qubit_labels=[['q', 0], ['q', 1], ['q', 2], ['q', 3], ['q', 4], ['q', 5], ['q', 6], ['q', 7], ['q', 8], ['q', 9], ['q', 10], ['q', 11], ['q', 12], ['q', 13], ['q', 14], ['q', 15]]), status=done), ExperimentResult(shots=8192, success=True, meas_level=2, data=ExperimentResultData(counts={'0x0': 385, '0x1': 20, '0x10': 31, '0x11': 9, '0x12': 95, '0x13': 13, '0x14': 53, '0x15': 25, '0x16': 150, '0x17': 54, '0x18': 50, '0x19': 5, '0x1a': 106, '0x1b': 20, '0x1c': 62, '0x1d': 36, '0x1e': 179, '0x1f': 71, '0x2': 1245, '0x3': 29, '0x4': 610, '0x5': 34, '0x6': 1732, '0x7': 45, '0x8': 317, '0x9': 7, '0xa': 1000, '0xb': 21, '0xc': 422, '0xd': 22, '0xe': 1296, '0xf': 48}), header=QobjExperimentHeader(clbit_labels=[['c1', 0], ['c1', 1], ['c1', 2], ['c1', 3], ['c1', 4]], creg_sizes=[['c1', 5]], global_phase=-55.05790306252771, memory_slots=5, n_qubits=16, name=\"(('S0', 'S0', 'S0', 'S0', 'S0'), ('Z', 'Z', 'Z', 'X', 'Z'))\", qreg_sizes=[['q', 16]], qubit_labels=[['q', 0], ['q', 1], ['q', 2], ['q', 3], ['q', 4], ['q', 5], ['q', 6], ['q', 7], ['q', 8], ['q', 9], ['q', 10], ['q', 11], ['q', 12], ['q', 13], ['q', 14], ['q', 15]]), status=done), ExperimentResult(shots=8192, success=True, meas_level=2, data=ExperimentResultData(counts={'0x0': 383, '0x1': 8, '0x10': 41, '0x11': 14, '0x12': 95, '0x13': 16, '0x14': 59, '0x15': 33, '0x16': 166, '0x17': 71, '0x18': 45, '0x19': 2, '0x1a': 130, '0x1b': 10, '0x1c': 62, '0x1d': 36, '0x1e': 193, '0x1f': 45, '0x2': 1170, '0x3': 17, '0x4': 544, '0x5': 30, '0x6': 1557, '0x7': 33, '0x8': 344, '0x9': 10, '0xa': 1033, '0xb': 14, '0xc': 539, '0xd': 24, '0xe': 1423, '0xf': 45}), header=QobjExperimentHeader(clbit_labels=[['c1', 0], ['c1', 1], ['c1', 2], ['c1', 3], ['c1', 4]], creg_sizes=[['c1', 5]], global_phase=-64.48268102329708, memory_slots=5, n_qubits=16, name=\"(('S0', 'S0', 'S0', 'S0', 'S0'), ('Z', 'Z', 'Z', 'Y', 'Z'))\", qreg_sizes=[['q', 16]], qubit_labels=[['q', 0], ['q', 1], ['q', 2], ['q', 3], ['q', 4], ['q', 5], ['q', 6], ['q', 7], ['q', 8], ['q', 9], ['q', 10], ['q', 11], ['q', 12], ['q', 13], ['q', 14], ['q', 15]]), status=done), ExperimentResult(shots=8192, success=True, meas_level=2, data=ExperimentResultData(counts={'0x0': 171, '0x1': 6, '0x10': 35, '0x11': 2, '0x12': 144, '0x13': 7, '0x14': 84, '0x15': 11, '0x16': 259, '0x17': 43, '0x18': 95, '0x19': 23, '0x1a': 353, '0x1b': 68, '0x1c': 860, '0x1d': 44, '0x1e': 3318, '0x1f': 92, '0x2': 678, '0x3': 21, '0x4': 257, '0x5': 13, '0x6': 1029, '0x7': 38, '0x8': 14, '0x9': 4, '0xa': 55, '0xb': 12, '0xc': 91, '0xd': 8, '0xe': 342, '0xf': 15}), header=QobjExperimentHeader(clbit_labels=[['c1', 0], ['c1', 1], ['c1', 2], ['c1', 3], ['c1', 4]], creg_sizes=[['c1', 5]], global_phase=-60.28004740709358, memory_slots=5, n_qubits=16, name=\"(('S0', 'S0', 'S0', 'S1', 'S0'), ('Z', 'Z', 'Z', 'Z', 'Z'))\", qreg_sizes=[['q', 16]], qubit_labels=[['q', 0], ['q', 1], ['q', 2], ['q', 3], ['q', 4], ['q', 5], ['q', 6], ['q', 7], ['q', 8], ['q', 9], ['q', 10], ['q', 11], ['q', 12], ['q', 13], ['q', 14], ['q', 15]]), status=done), ExperimentResult(shots=8192, success=True, meas_level=2, data=ExperimentResultData(counts={'0x0': 110, '0x1': 13, '0x10': 58, '0x11': 19, '0x12': 189, '0x13': 48, '0x14': 505, '0x15': 40, '0x16': 1499, '0x17': 67, '0x18': 102, '0x19': 18, '0x1a': 250, '0x1b': 58, '0x1c': 589, '0x1d': 30, '0x1e': 1772, '0x1f': 57, '0x2': 349, '0x3': 21, '0x4': 187, '0x5': 5, '0x6': 546, '0x7': 18, '0x8': 158, '0x9': 8, '0xa': 458, '0xb': 9, '0xc': 214, '0xd': 19, '0xe': 743, '0xf': 33}), header=QobjExperimentHeader(clbit_labels=[['c1', 0], ['c1', 1], ['c1', 2], ['c1', 3], ['c1', 4]], creg_sizes=[['c1', 5]], global_phase=-64.2070382240808, memory_slots=5, n_qubits=16, name=\"(('S0', 'S0', 'S0', 'S1', 'S0'), ('Z', 'Z', 'Z', 'X', 'Z'))\", qreg_sizes=[['q', 16]], qubit_labels=[['q', 0], ['q', 1], ['q', 2], ['q', 3], ['q', 4], ['q', 5], ['q', 6], ['q', 7], ['q', 8], ['q', 9], ['q', 10], ['q', 11], ['q', 12], ['q', 13], ['q', 14], ['q', 15]]), status=done), ExperimentResult(shots=8192, success=True, meas_level=2, data=ExperimentResultData(counts={'0x0': 145, '0x1': 15, '0x10': 77, '0x11': 25, '0x12': 253, '0x13': 37, '0x14': 525, '0x15': 15, '0x16': 1612, '0x17': 32, '0x18': 68, '0x19': 15, '0x1a': 202, '0x1b': 30, '0x1c': 585, '0x1d': 41, '0x1e': 1739, '0x1f': 107, '0x2': 426, '0x3': 12, '0x4': 298, '0x5': 10, '0x6': 981, '0x7': 26, '0x8': 125, '0x9': 8, '0xa': 369, '0xb': 16, '0xc': 92, '0xd': 9, '0xe': 264, '0xf': 33}), header=QobjExperimentHeader(clbit_labels=[['c1', 0], ['c1', 1], ['c1', 2], ['c1', 3], ['c1', 4]], creg_sizes=[['c1', 5]], global_phase=-64.99243638747826, memory_slots=5, n_qubits=16, name=\"(('S0', 'S0', 'S0', 'S1', 'S0'), ('Z', 'Z', 'Z', 'Y', 'Z'))\", qreg_sizes=[['q', 16]], qubit_labels=[['q', 0], ['q', 1], ['q', 2], ['q', 3], ['q', 4], ['q', 5], ['q', 6], ['q', 7], ['q', 8], ['q', 9], ['q', 10], ['q', 11], ['q', 12], ['q', 13], ['q', 14], ['q', 15]]), status=done), ExperimentResult(shots=8192, success=True, meas_level=2, data=ExperimentResultData(counts={'0x0': 281, '0x1': 12, '0x10': 22, '0x11': 4, '0x12': 134, '0x13': 16, '0x14': 95, '0x15': 14, '0x16': 335, '0x17': 37, '0x18': 77, '0x19': 20, '0x1a': 318, '0x1b': 37, '0x1c': 797, '0x1d': 40, '0x1e': 3026, '0x1f': 95, '0x2': 966, '0x3': 23, '0x4': 239, '0x5': 17, '0x6': 1010, '0x7': 33, '0x8': 15, '0x9': 8, '0xa': 51, '0xb': 11, '0xc': 92, '0xd': 8, '0xe': 334, '0xf': 25}), header=QobjExperimentHeader(clbit_labels=[['c1', 0], ['c1', 1], ['c1', 2], ['c1', 3], ['c1', 4]], creg_sizes=[['c1', 5]], global_phase=-49.808071895127604, memory_slots=5, n_qubits=16, name=\"(('S0', 'S0', 'S0', 'S2', 'S0'), ('Z', 'Z', 'Z', 'Z', 'Z'))\", qreg_sizes=[['q', 16]], qubit_labels=[['q', 0], ['q', 1], ['q', 2], ['q', 3], ['q', 4], ['q', 5], ['q', 6], ['q', 7], ['q', 8], ['q', 9], ['q', 10], ['q', 11], ['q', 12], ['q', 13], ['q', 14], ['q', 15]]), status=done), ExperimentResult(shots=8192, success=True, meas_level=2, data=ExperimentResultData(counts={'0x0': 235, '0x1': 8, '0x10': 65, '0x11': 15, '0x12': 215, '0x13': 32, '0x14': 471, '0x15': 16, '0x16': 1316, '0x17': 31, '0x18': 76, '0x19': 18, '0x1a': 216, '0x1b': 33, '0x1c': 519, '0x1d': 54, '0x1e': 1665, '0x1f': 92, '0x2': 649, '0x3': 13, '0x4': 357, '0x5': 30, '0x6': 1152, '0x7': 34, '0x8': 119, '0x9': 8, '0xa': 402, '0xb': 10, '0xc': 75, '0xd': 7, '0xe': 238, '0xf': 21}), header=QobjExperimentHeader(clbit_labels=[['c1', 0], ['c1', 1], ['c1', 2], ['c1', 3], ['c1', 4]], creg_sizes=[['c1', 5]], global_phase=-53.735062712114846, memory_slots=5, n_qubits=16, name=\"(('S0', 'S0', 'S0', 'S2', 'S0'), ('Z', 'Z', 'Z', 'X', 'Z'))\", qreg_sizes=[['q', 16]], qubit_labels=[['q', 0], ['q', 1], ['q', 2], ['q', 3], ['q', 4], ['q', 5], ['q', 6], ['q', 7], ['q', 8], ['q', 9], ['q', 10], ['q', 11], ['q', 12], ['q', 13], ['q', 14], ['q', 15]]), status=done), ExperimentResult(shots=8192, success=True, meas_level=2, data=ExperimentResultData(counts={'0x0': 204, '0x1': 5, '0x10': 87, '0x11': 9, '0x12': 245, '0x13': 19, '0x14': 557, '0x15': 26, '0x16': 1632, '0x17': 80, '0x18': 66, '0x19': 10, '0x1a': 178, '0x1b': 27, '0x1c': 453, '0x1d': 32, '0x1e': 1326, '0x1f': 50, '0x2': 596, '0x3': 13, '0x4': 199, '0x5': 19, '0x6': 624, '0x7': 25, '0x8': 146, '0x9': 4, '0xa': 473, '0xb': 14, '0xc': 270, '0xd': 14, '0xe': 762, '0xf': 27}), header=QobjExperimentHeader(clbit_labels=[['c1', 0], ['c1', 1], ['c1', 2], ['c1', 3], ['c1', 4]], creg_sizes=[['c1', 5]], global_phase=-54.52046087551229, memory_slots=5, n_qubits=16, name=\"(('S0', 'S0', 'S0', 'S2', 'S0'), ('Z', 'Z', 'Z', 'Y', 'Z'))\", qreg_sizes=[['q', 16]], qubit_labels=[['q', 0], ['q', 1], ['q', 2], ['q', 3], ['q', 4], ['q', 5], ['q', 6], ['q', 7], ['q', 8], ['q', 9], ['q', 10], ['q', 11], ['q', 12], ['q', 13], ['q', 14], ['q', 15]]), status=done), ExperimentResult(shots=8192, success=True, meas_level=2, data=ExperimentResultData(counts={'0x0': 243, '0x1': 11, '0x10': 26, '0x11': 7, '0x12': 103, '0x13': 17, '0x14': 61, '0x15': 14, '0x16': 269, '0x17': 38, '0x18': 96, '0x19': 18, '0x1a': 288, '0x1b': 62, '0x1c': 823, '0x1d': 40, '0x1e': 3069, '0x1f': 94, '0x2': 970, '0x3': 12, '0x4': 294, '0x5': 27, '0x6': 1002, '0x7': 37, '0x8': 11, '0x9': 5, '0xa': 57, '0xb': 11, '0xc': 101, '0xd': 10, '0xe': 349, '0xf': 27}), header=QobjExperimentHeader(clbit_labels=[['c1', 0], ['c1', 1], ['c1', 2], ['c1', 3], ['c1', 4]], creg_sizes=[['c1', 5]], global_phase=-55.04405965111059, memory_slots=5, n_qubits=16, name=\"(('S0', 'S0', 'S0', 'S3', 'S0'), ('Z', 'Z', 'Z', 'Z', 'Z'))\", qreg_sizes=[['q', 16]], qubit_labels=[['q', 0], ['q', 1], ['q', 2], ['q', 3], ['q', 4], ['q', 5], ['q', 6], ['q', 7], ['q', 8], ['q', 9], ['q', 10], ['q', 11], ['q', 12], ['q', 13], ['q', 14], ['q', 15]]), status=done), ExperimentResult(shots=8192, success=True, meas_level=2, data=ExperimentResultData(counts={'0x0': 138, '0x1': 7, '0x10': 68, '0x11': 11, '0x12': 223, '0x13': 24, '0x14': 557, '0x15': 53, '0x16': 1637, '0x17': 79, '0x18': 69, '0x19': 21, '0x1a': 225, '0x1b': 39, '0x1c': 494, '0x1d': 28, '0x1e': 1489, '0x1f': 42, '0x2': 467, '0x3': 16, '0x4': 156, '0x5': 19, '0x6': 453, '0x7': 29, '0x8': 158, '0x9': 10, '0xa': 446, '0xb': 16, '0xc': 285, '0xd': 12, '0xe': 895, '0xf': 26}), header=QobjExperimentHeader(clbit_labels=[['c1', 0], ['c1', 1], ['c1', 2], ['c1', 3], ['c1', 4]], creg_sizes=[['c1', 5]], global_phase=-58.97105046809784, memory_slots=5, n_qubits=16, name=\"(('S0', 'S0', 'S0', 'S3', 'S0'), ('Z', 'Z', 'Z', 'X', 'Z'))\", qreg_sizes=[['q', 16]], qubit_labels=[['q', 0], ['q', 1], ['q', 2], ['q', 3], ['q', 4], ['q', 5], ['q', 6], ['q', 7], ['q', 8], ['q', 9], ['q', 10], ['q', 11], ['q', 12], ['q', 13], ['q', 14], ['q', 15]]), status=done), ExperimentResult(shots=8192, success=True, meas_level=2, data=ExperimentResultData(counts={'0x0': 108, '0x1': 5, '0x10': 55, '0x11': 22, '0x12': 186, '0x13': 34, '0x14': 531, '0x15': 50, '0x16': 1578, '0x17': 101, '0x18': 94, '0x19': 21, '0x1a': 224, '0x1b': 31, '0x1c': 500, '0x1d': 14, '0x1e': 1498, '0x1f': 34, '0x2': 366, '0x3': 8, '0x4': 145, '0x5': 14, '0x6': 413, '0x7': 21, '0x8': 184, '0x9': 11, '0xa': 566, '0xb': 21, '0xc': 350, '0xd': 28, '0xe': 944, '0xf': 35}), header=QobjExperimentHeader(clbit_labels=[['c1', 0], ['c1', 1], ['c1', 2], ['c1', 3], ['c1', 4]], creg_sizes=[['c1', 5]], global_phase=-59.756448631495275, memory_slots=5, n_qubits=16, name=\"(('S0', 'S0', 'S0', 'S3', 'S0'), ('Z', 'Z', 'Z', 'Y', 'Z'))\", qreg_sizes=[['q', 16]], qubit_labels=[['q', 0], ['q', 1], ['q', 2], ['q', 3], ['q', 4], ['q', 5], ['q', 6], ['q', 7], ['q', 8], ['q', 9], ['q', 10], ['q', 11], ['q', 12], ['q', 13], ['q', 14], ['q', 15]]), status=done), ExperimentResult(shots=8192, success=True, meas_level=2, data=ExperimentResultData(counts={'0x0': 15, '0x1': 19, '0x10': 544, '0x11': 313, '0x12': 84, '0x13': 59, '0x14': 3519, '0x15': 2165, '0x16': 193, '0x17': 133, '0x18': 132, '0x19': 68, '0x1a': 13, '0x1b': 13, '0x1c': 151, '0x1d': 104, '0x1e': 14, '0x1f': 11, '0x2': 6, '0x3': 2, '0x4': 203, '0x5': 103, '0x6': 11, '0x7': 5, '0x8': 129, '0x9': 95, '0xa': 6, '0xb': 4, '0xc': 44, '0xd': 29, '0xe': 3, '0xf': 2}), header=QobjExperimentHeader(clbit_labels=[['meas', 0], ['meas', 1], ['meas', 2], ['meas', 3], ['meas', 4]], creg_sizes=[['meas', 5]], global_phase=-187.63442310967176, memory_slots=5, n_qubits=16, name='circuit13366', qreg_sizes=[['q', 16]], qubit_labels=[['q', 0], ['q', 1], ['q', 2], ['q', 3], ['q', 4], ['q', 5], ['q', 6], ['q', 7], ['q', 8], ['q', 9], ['q', 10], ['q', 11], ['q', 12], ['q', 13], ['q', 14], ['q', 15]]), status=done)], date=2022-10-28 10:37:57-05:00, status=Successful completion, status=QobjHeader(backend_name='ibmq_guadalupe', backend_version='1.3.29'), execution_id='6c19f5d6-56d6-11ed-9b84-b02628f7f59e', time_taken=31.698089838027954, error=None, client_version={'qiskit': '0.23.2'}),\n",
       " Result(backend_name='ibmq_guadalupe', backend_version='1.3.29', qobj_id='62c5d492-b878-4bfe-95c1-4761f7fd873e', job_id='635bf762332596723e2f5019', success=True, results=[ExperimentResult(shots=7424, success=True, meas_level=2, data=ExperimentResultData(counts={'0x0': 691, '0x1': 17, '0x10': 46, '0x11': 3, '0x12': 162, '0x13': 21, '0x14': 87, '0x15': 40, '0x16': 268, '0x17': 76, '0x18': 4, '0x19': 2, '0x1a': 22, '0x1b': 5, '0x1c': 20, '0x1d': 2, '0x1e': 62, '0x1f': 5, '0x2': 2276, '0x3': 33, '0x4': 804, '0x5': 37, '0x6': 2539, '0x7': 97, '0x8': 13, '0x9': 2, '0xa': 31, '0xb': 5, '0xc': 10, '0xd': 1, '0xe': 39, '0xf': 4}), header=QobjExperimentHeader(clbit_labels=[['c1', 0], ['c1', 1], ['c1', 2], ['c1', 3], ['c1', 4]], creg_sizes=[['c1', 5]], global_phase=-0.8654297881037625, memory_slots=5, n_qubits=16, name=\"(('S0', 'S0', 'S0', 'S0', 'S0'), ('Z', 'Z', 'Z', 'Z', 'Z'))\", qreg_sizes=[['q', 16]], qubit_labels=[['q', 0], ['q', 1], ['q', 2], ['q', 3], ['q', 4], ['q', 5], ['q', 6], ['q', 7], ['q', 8], ['q', 9], ['q', 10], ['q', 11], ['q', 12], ['q', 13], ['q', 14], ['q', 15]]), status=done), ExperimentResult(shots=7424, success=True, meas_level=2, data=ExperimentResultData(counts={'0x0': 428, '0x1': 18, '0x10': 25, '0x11': 6, '0x12': 80, '0x13': 13, '0x14': 49, '0x15': 25, '0x16': 119, '0x17': 44, '0x18': 37, '0x19': 6, '0x1a': 114, '0x1b': 12, '0x1c': 63, '0x1d': 24, '0x1e': 159, '0x1f': 52, '0x2': 1038, '0x3': 22, '0x4': 624, '0x5': 28, '0x6': 1520, '0x7': 45, '0x8': 332, '0x9': 7, '0xa': 878, '0xb': 17, '0xc': 466, '0xd': 18, '0xe': 1120, '0xf': 35}), header=QobjExperimentHeader(clbit_labels=[['c1', 0], ['c1', 1], ['c1', 2], ['c1', 3], ['c1', 4]], creg_sizes=[['c1', 5]], global_phase=-55.05790306252771, memory_slots=5, n_qubits=16, name=\"(('S0', 'S0', 'S0', 'S0', 'S0'), ('Z', 'Z', 'Z', 'X', 'Z'))\", qreg_sizes=[['q', 16]], qubit_labels=[['q', 0], ['q', 1], ['q', 2], ['q', 3], ['q', 4], ['q', 5], ['q', 6], ['q', 7], ['q', 8], ['q', 9], ['q', 10], ['q', 11], ['q', 12], ['q', 13], ['q', 14], ['q', 15]]), status=done), ExperimentResult(shots=7424, success=True, meas_level=2, data=ExperimentResultData(counts={'0x0': 405, '0x1': 15, '0x10': 24, '0x11': 4, '0x12': 78, '0x13': 7, '0x14': 50, '0x15': 28, '0x16': 104, '0x17': 53, '0x18': 38, '0x19': 4, '0x1a': 120, '0x1b': 11, '0x1c': 73, '0x1d': 20, '0x1e': 174, '0x1f': 40, '0x2': 1018, '0x3': 22, '0x4': 537, '0x5': 21, '0x6': 1338, '0x7': 44, '0x8': 377, '0x9': 11, '0xa': 918, '0xb': 12, '0xc': 540, '0xd': 31, '0xe': 1264, '0xf': 43}), header=QobjExperimentHeader(clbit_labels=[['c1', 0], ['c1', 1], ['c1', 2], ['c1', 3], ['c1', 4]], creg_sizes=[['c1', 5]], global_phase=-55.84330122592516, memory_slots=5, n_qubits=16, name=\"(('S0', 'S0', 'S0', 'S0', 'S0'), ('Z', 'Z', 'Z', 'Y', 'Z'))\", qreg_sizes=[['q', 16]], qubit_labels=[['q', 0], ['q', 1], ['q', 2], ['q', 3], ['q', 4], ['q', 5], ['q', 6], ['q', 7], ['q', 8], ['q', 9], ['q', 10], ['q', 11], ['q', 12], ['q', 13], ['q', 14], ['q', 15]]), status=done), ExperimentResult(shots=7424, success=True, meas_level=2, data=ExperimentResultData(counts={'0x0': 189, '0x1': 11, '0x10': 32, '0x11': 5, '0x12': 110, '0x13': 12, '0x14': 83, '0x15': 13, '0x16': 280, '0x17': 35, '0x18': 90, '0x19': 24, '0x1a': 332, '0x1b': 47, '0x1c': 871, '0x1d': 55, '0x1e': 2881, '0x1f': 79, '0x2': 589, '0x3': 13, '0x4': 279, '0x5': 20, '0x6': 862, '0x7': 28, '0x8': 19, '0x9': 4, '0xa': 42, '0xb': 14, '0xc': 90, '0xd': 8, '0xe': 291, '0xf': 16}), header=QobjExperimentHeader(clbit_labels=[['c1', 0], ['c1', 1], ['c1', 2], ['c1', 3], ['c1', 4]], creg_sizes=[['c1', 5]], global_phase=-60.280047407093576, memory_slots=5, n_qubits=16, name=\"(('S0', 'S0', 'S0', 'S1', 'S0'), ('Z', 'Z', 'Z', 'Z', 'Z'))\", qreg_sizes=[['q', 16]], qubit_labels=[['q', 0], ['q', 1], ['q', 2], ['q', 3], ['q', 4], ['q', 5], ['q', 6], ['q', 7], ['q', 8], ['q', 9], ['q', 10], ['q', 11], ['q', 12], ['q', 13], ['q', 14], ['q', 15]]), status=done), ExperimentResult(shots=7424, success=True, meas_level=2, data=ExperimentResultData(counts={'0x0': 114, '0x1': 5, '0x10': 50, '0x11': 22, '0x12': 144, '0x13': 25, '0x14': 531, '0x15': 28, '0x16': 1298, '0x17': 57, '0x18': 117, '0x19': 18, '0x1a': 237, '0x1b': 30, '0x1c': 640, '0x1d': 25, '0x1e': 1569, '0x1f': 48, '0x2': 314, '0x3': 19, '0x4': 182, '0x5': 15, '0x6': 465, '0x7': 16, '0x8': 142, '0x9': 14, '0xa': 423, '0xb': 13, '0xc': 224, '0xd': 11, '0xe': 609, '0xf': 19}), header=QobjExperimentHeader(clbit_labels=[['c1', 0], ['c1', 1], ['c1', 2], ['c1', 3], ['c1', 4]], creg_sizes=[['c1', 5]], global_phase=-64.20703822408083, memory_slots=5, n_qubits=16, name=\"(('S0', 'S0', 'S0', 'S1', 'S0'), ('Z', 'Z', 'Z', 'X', 'Z'))\", qreg_sizes=[['q', 16]], qubit_labels=[['q', 0], ['q', 1], ['q', 2], ['q', 3], ['q', 4], ['q', 5], ['q', 6], ['q', 7], ['q', 8], ['q', 9], ['q', 10], ['q', 11], ['q', 12], ['q', 13], ['q', 14], ['q', 15]]), status=done), ExperimentResult(shots=7424, success=True, meas_level=2, data=ExperimentResultData(counts={'0x0': 169, '0x1': 11, '0x10': 84, '0x11': 18, '0x12': 209, '0x13': 40, '0x14': 525, '0x15': 12, '0x16': 1345, '0x17': 31, '0x18': 75, '0x19': 17, '0x1a': 212, '0x1b': 14, '0x1c': 585, '0x1d': 35, '0x1e': 1524, '0x1f': 73, '0x2': 404, '0x3': 8, '0x4': 352, '0x5': 12, '0x6': 816, '0x7': 18, '0x8': 112, '0x9': 8, '0xa': 317, '0xb': 18, '0xc': 100, '0xd': 17, '0xe': 244, '0xf': 19}), header=QobjExperimentHeader(clbit_labels=[['c1', 0], ['c1', 1], ['c1', 2], ['c1', 3], ['c1', 4]], creg_sizes=[['c1', 5]], global_phase=-64.99243638747828, memory_slots=5, n_qubits=16, name=\"(('S0', 'S0', 'S0', 'S1', 'S0'), ('Z', 'Z', 'Z', 'Y', 'Z'))\", qreg_sizes=[['q', 16]], qubit_labels=[['q', 0], ['q', 1], ['q', 2], ['q', 3], ['q', 4], ['q', 5], ['q', 6], ['q', 7], ['q', 8], ['q', 9], ['q', 10], ['q', 11], ['q', 12], ['q', 13], ['q', 14], ['q', 15]]), status=done), ExperimentResult(shots=7424, success=True, meas_level=2, data=ExperimentResultData(counts={'0x0': 290, '0x1': 9, '0x10': 37, '0x11': 5, '0x12': 114, '0x13': 9, '0x14': 94, '0x15': 17, '0x16': 275, '0x17': 32, '0x18': 87, '0x19': 22, '0x1a': 276, '0x1b': 37, '0x1c': 808, '0x1d': 34, '0x1e': 2623, '0x1f': 90, '0x2': 855, '0x3': 8, '0x4': 275, '0x5': 13, '0x6': 887, '0x7': 22, '0x8': 13, '0x9': 6, '0xa': 64, '0xb': 13, '0xc': 103, '0xd': 5, '0xe': 280, '0xf': 21}), header=QobjExperimentHeader(clbit_labels=[['c1', 0], ['c1', 1], ['c1', 2], ['c1', 3], ['c1', 4]], creg_sizes=[['c1', 5]], global_phase=-49.808071895127604, memory_slots=5, n_qubits=16, name=\"(('S0', 'S0', 'S0', 'S2', 'S0'), ('Z', 'Z', 'Z', 'Z', 'Z'))\", qreg_sizes=[['q', 16]], qubit_labels=[['q', 0], ['q', 1], ['q', 2], ['q', 3], ['q', 4], ['q', 5], ['q', 6], ['q', 7], ['q', 8], ['q', 9], ['q', 10], ['q', 11], ['q', 12], ['q', 13], ['q', 14], ['q', 15]]), status=done), ExperimentResult(shots=7424, success=True, meas_level=2, data=ExperimentResultData(counts={'0x0': 254, '0x1': 5, '0x10': 68, '0x11': 9, '0x12': 178, '0x13': 31, '0x14': 463, '0x15': 11, '0x16': 1144, '0x17': 24, '0x18': 79, '0x19': 8, '0x1a': 191, '0x1b': 20, '0x1c': 568, '0x1d': 42, '0x1e': 1441, '0x1f': 79, '0x2': 563, '0x3': 10, '0x4': 413, '0x5': 19, '0x6': 922, '0x7': 30, '0x8': 140, '0x9': 6, '0xa': 355, '0xb': 8, '0xc': 83, '0xd': 14, '0xe': 227, '0xf': 19}), header=QobjExperimentHeader(clbit_labels=[['c1', 0], ['c1', 1], ['c1', 2], ['c1', 3], ['c1', 4]], creg_sizes=[['c1', 5]], global_phase=-53.73506271211485, memory_slots=5, n_qubits=16, name=\"(('S0', 'S0', 'S0', 'S2', 'S0'), ('Z', 'Z', 'Z', 'X', 'Z'))\", qreg_sizes=[['q', 16]], qubit_labels=[['q', 0], ['q', 1], ['q', 2], ['q', 3], ['q', 4], ['q', 5], ['q', 6], ['q', 7], ['q', 8], ['q', 9], ['q', 10], ['q', 11], ['q', 12], ['q', 13], ['q', 14], ['q', 15]]), status=done), ExperimentResult(shots=7424, success=True, meas_level=2, data=ExperimentResultData(counts={'0x0': 204, '0x1': 5, '0x10': 91, '0x11': 12, '0x12': 232, '0x13': 22, '0x14': 563, '0x15': 47, '0x16': 1393, '0x17': 62, '0x18': 58, '0x19': 14, '0x1a': 159, '0x1b': 25, '0x1c': 455, '0x1d': 31, '0x1e': 1143, '0x1f': 49, '0x2': 511, '0x3': 13, '0x4': 223, '0x5': 14, '0x6': 549, '0x7': 31, '0x8': 165, '0x9': 2, '0xa': 449, '0xb': 10, '0xc': 219, '0xd': 20, '0xe': 634, '0xf': 19}), header=QobjExperimentHeader(clbit_labels=[['c1', 0], ['c1', 1], ['c1', 2], ['c1', 3], ['c1', 4]], creg_sizes=[['c1', 5]], global_phase=-63.15984067288421, memory_slots=5, n_qubits=16, name=\"(('S0', 'S0', 'S0', 'S2', 'S0'), ('Z', 'Z', 'Z', 'Y', 'Z'))\", qreg_sizes=[['q', 16]], qubit_labels=[['q', 0], ['q', 1], ['q', 2], ['q', 3], ['q', 4], ['q', 5], ['q', 6], ['q', 7], ['q', 8], ['q', 9], ['q', 10], ['q', 11], ['q', 12], ['q', 13], ['q', 14], ['q', 15]]), status=done), ExperimentResult(shots=7424, success=True, meas_level=2, data=ExperimentResultData(counts={'0x0': 246, '0x1': 7, '0x10': 26, '0x11': 4, '0x12': 81, '0x13': 12, '0x14': 61, '0x15': 20, '0x16': 252, '0x17': 38, '0x18': 89, '0x19': 28, '0x1a': 279, '0x1b': 56, '0x1c': 844, '0x1d': 43, '0x1e': 2729, '0x1f': 73, '0x2': 839, '0x3': 10, '0x4': 249, '0x5': 20, '0x6': 889, '0x7': 39, '0x8': 10, '0x9': 8, '0xa': 43, '0xb': 13, '0xc': 93, '0xd': 12, '0xe': 296, '0xf': 15}), header=QobjExperimentHeader(clbit_labels=[['c1', 0], ['c1', 1], ['c1', 2], ['c1', 3], ['c1', 4]], creg_sizes=[['c1', 5]], global_phase=-55.04405965111059, memory_slots=5, n_qubits=16, name=\"(('S0', 'S0', 'S0', 'S3', 'S0'), ('Z', 'Z', 'Z', 'Z', 'Z'))\", qreg_sizes=[['q', 16]], qubit_labels=[['q', 0], ['q', 1], ['q', 2], ['q', 3], ['q', 4], ['q', 5], ['q', 6], ['q', 7], ['q', 8], ['q', 9], ['q', 10], ['q', 11], ['q', 12], ['q', 13], ['q', 14], ['q', 15]]), status=done), ExperimentResult(shots=7424, success=True, meas_level=2, data=ExperimentResultData(counts={'0x0': 139, '0x1': 6, '0x10': 79, '0x11': 13, '0x12': 178, '0x13': 32, '0x14': 526, '0x15': 43, '0x16': 1419, '0x17': 82, '0x18': 60, '0x19': 26, '0x1a': 198, '0x1b': 27, '0x1c': 488, '0x1d': 19, '0x1e': 1326, '0x1f': 42, '0x2': 408, '0x3': 14, '0x4': 179, '0x5': 22, '0x6': 419, '0x7': 44, '0x8': 166, '0x9': 3, '0xa': 375, '0xb': 10, '0xc': 318, '0xd': 18, '0xe': 729, '0xf': 16}), header=QobjExperimentHeader(clbit_labels=[['c1', 0], ['c1', 1], ['c1', 2], ['c1', 3], ['c1', 4]], creg_sizes=[['c1', 5]], global_phase=-58.97105046809783, memory_slots=5, n_qubits=16, name=\"(('S0', 'S0', 'S0', 'S3', 'S0'), ('Z', 'Z', 'Z', 'X', 'Z'))\", qreg_sizes=[['q', 16]], qubit_labels=[['q', 0], ['q', 1], ['q', 2], ['q', 3], ['q', 4], ['q', 5], ['q', 6], ['q', 7], ['q', 8], ['q', 9], ['q', 10], ['q', 11], ['q', 12], ['q', 13], ['q', 14], ['q', 15]]), status=done), ExperimentResult(shots=7424, success=True, meas_level=2, data=ExperimentResultData(counts={'0x0': 121, '0x1': 4, '0x10': 56, '0x11': 19, '0x12': 163, '0x13': 43, '0x14': 575, '0x15': 40, '0x16': 1446, '0x17': 76, '0x18': 85, '0x19': 16, '0x1a': 217, '0x1b': 35, '0x1c': 509, '0x1d': 17, '0x1e': 1244, '0x1f': 32, '0x2': 300, '0x3': 10, '0x4': 125, '0x5': 12, '0x6': 320, '0x7': 21, '0x8': 201, '0x9': 9, '0xa': 476, '0xb': 18, '0xc': 320, '0xd': 26, '0xe': 852, '0xf': 36}), header=QobjExperimentHeader(clbit_labels=[['c1', 0], ['c1', 1], ['c1', 2], ['c1', 3], ['c1', 4]], creg_sizes=[['c1', 5]], global_phase=-68.39582842886722, memory_slots=5, n_qubits=16, name=\"(('S0', 'S0', 'S0', 'S3', 'S0'), ('Z', 'Z', 'Z', 'Y', 'Z'))\", qreg_sizes=[['q', 16]], qubit_labels=[['q', 0], ['q', 1], ['q', 2], ['q', 3], ['q', 4], ['q', 5], ['q', 6], ['q', 7], ['q', 8], ['q', 9], ['q', 10], ['q', 11], ['q', 12], ['q', 13], ['q', 14], ['q', 15]]), status=done), ExperimentResult(shots=7424, success=True, meas_level=2, data=ExperimentResultData(counts={'0x0': 27, '0x1': 12, '0x10': 473, '0x11': 242, '0x12': 78, '0x13': 61, '0x14': 3402, '0x15': 1899, '0x16': 128, '0x17': 95, '0x18': 121, '0x19': 64, '0x1a': 7, '0x1b': 6, '0x1c': 155, '0x1d': 76, '0x1e': 19, '0x1f': 8, '0x2': 1, '0x3': 1, '0x4': 164, '0x5': 93, '0x6': 11, '0x7': 4, '0x8': 141, '0x9': 67, '0xb': 5, '0xc': 41, '0xd': 17, '0xe': 4, '0xf': 2}), header=QobjExperimentHeader(clbit_labels=[['meas', 0], ['meas', 1], ['meas', 2], ['meas', 3], ['meas', 4]], creg_sizes=[['meas', 5]], global_phase=-187.63442310967176, memory_slots=5, n_qubits=16, name='circuit13366', qreg_sizes=[['q', 16]], qubit_labels=[['q', 0], ['q', 1], ['q', 2], ['q', 3], ['q', 4], ['q', 5], ['q', 6], ['q', 7], ['q', 8], ['q', 9], ['q', 10], ['q', 11], ['q', 12], ['q', 13], ['q', 14], ['q', 15]]), status=done)], date=2022-10-28 10:44:33-05:00, status=Successful completion, status=QobjHeader(backend_name='ibmq_guadalupe', backend_version='1.3.29'), execution_id='59f0d3f6-56d7-11ed-9b84-b02628f7f59e', time_taken=28.84793996810913, error=None, client_version={'qiskit': '0.23.2'})]"
      ]
     },
     "execution_count": 85,
     "metadata": {},
     "output_type": "execute_result"
    }
   ],
   "source": [
    "temp_frag_data[0][0]"
   ]
  },
  {
   "cell_type": "code",
   "execution_count": 86,
   "id": "f276c589",
   "metadata": {},
   "outputs": [],
   "source": [
    "#     temp_frag_data[i] = ml.collect_fragment_raw_data(fragments[i], i, wire_path_map,\n",
    "#                                      shots = shots // total_variants,\n",
    "#                                      tomography_backend = simulation_backend)"
   ]
  },
  {
   "cell_type": "code",
   "execution_count": 87,
   "id": "9988b61c",
   "metadata": {},
   "outputs": [],
   "source": [
    "# for i in range(1, len(fragments)):\n",
    "#     temp_frag_data[i] = ml.collect_fragment_raw_data(fragments[i], i, wire_path_map,\n",
    "#                                      shots = shots // total_variants,\n",
    "#                                      tomography_backend = simulation_backend)"
   ]
  },
  {
   "cell_type": "code",
   "execution_count": 88,
   "id": "77ce4f90",
   "metadata": {},
   "outputs": [],
   "source": [
    "frag_targets = ml.identify_frag_targets(wire_path_map)"
   ]
  },
  {
   "cell_type": "code",
   "execution_count": 89,
   "id": "3ed64794",
   "metadata": {},
   "outputs": [],
   "source": [
    "frag_data = []\n",
    "for i in range(0, len(fragments)):\n",
    "    extra_list = []\n",
    "    if i == 0:\n",
    "        extra_list = [orign_qc]\n",
    "    frag_data.append(ml.organize_tomography_data(temp_frag_data[i][0],\n",
    "                                      frag_targets[i].get(\"prep\"),\n",
    "                                      frag_targets[i].get(\"meas\"),\n",
    "                                      prep_basis = \"SIC\", extra_qc = extra_list))"
   ]
  },
  {
   "cell_type": "code",
   "execution_count": 90,
   "id": "6f87d52b",
   "metadata": {},
   "outputs": [
    {
     "data": {
      "text/plain": [
       "3"
      ]
     },
     "execution_count": 90,
     "metadata": {},
     "output_type": "execute_result"
    }
   ],
   "source": [
    "len(frag_data)"
   ]
  },
  {
   "cell_type": "code",
   "execution_count": 91,
   "id": "931215e1",
   "metadata": {},
   "outputs": [
    {
     "data": {
      "text/plain": [
       "{'11': {(('S0',), ('Zm',)): 32000,\n",
       "  (('S0',), ('Xp',)): 16031,\n",
       "  (('S0',), ('Xm',)): 15969,\n",
       "  (('S0',), ('Yp',)): 16151,\n",
       "  (('S0',), ('Ym',)): 15849,\n",
       "  (('S1',), ('Zm',)): 10668,\n",
       "  (('S1',), ('Xp',)): 5450,\n",
       "  (('S1',), ('Xm',)): 5279,\n",
       "  (('S1',), ('Yp',)): 5308,\n",
       "  (('S1',), ('Ym',)): 5333,\n",
       "  (('S2',), ('Zm',)): 10796,\n",
       "  (('S2',), ('Xp',)): 5473,\n",
       "  (('S2',), ('Xm',)): 5250,\n",
       "  (('S2',), ('Yp',)): 5303,\n",
       "  (('S2',), ('Ym',)): 5256,\n",
       "  (('S3',), ('Zm',)): 10748,\n",
       "  (('S3',), ('Xp',)): 5314,\n",
       "  (('S3',), ('Xm',)): 5322,\n",
       "  (('S3',), ('Yp',)): 5320,\n",
       "  (('S3',), ('Ym',)): 5225,\n",
       "  (('S0',), ('Zp',)): 0,\n",
       "  (('S1',), ('Zp',)): 0,\n",
       "  (('S2',), ('Zp',)): 0,\n",
       "  (('S3',), ('Zp',)): 0},\n",
       " '00': {(('S1',), ('Zm',)): 21332,\n",
       "  (('S1',), ('Xp',)): 10624,\n",
       "  (('S1',), ('Xm',)): 10647,\n",
       "  (('S1',), ('Yp',)): 10689,\n",
       "  (('S1',), ('Ym',)): 10670,\n",
       "  (('S2',), ('Zm',)): 21204,\n",
       "  (('S2',), ('Xp',)): 10743,\n",
       "  (('S2',), ('Xm',)): 10534,\n",
       "  (('S2',), ('Yp',)): 10695,\n",
       "  (('S2',), ('Ym',)): 10746,\n",
       "  (('S3',), ('Zm',)): 21252,\n",
       "  (('S3',), ('Xp',)): 10759,\n",
       "  (('S3',), ('Xm',)): 10605,\n",
       "  (('S3',), ('Yp',)): 10848,\n",
       "  (('S3',), ('Ym',)): 10607,\n",
       "  (('S0',), ('Zp',)): 0,\n",
       "  (('S0',), ('Zm',)): 0,\n",
       "  (('S0',), ('Xp',)): 0,\n",
       "  (('S0',), ('Xm',)): 0,\n",
       "  (('S0',), ('Yp',)): 0,\n",
       "  (('S0',), ('Ym',)): 0,\n",
       "  (('S1',), ('Zp',)): 0,\n",
       "  (('S2',), ('Zp',)): 0,\n",
       "  (('S3',), ('Zp',)): 0}}"
      ]
     },
     "execution_count": 91,
     "metadata": {},
     "output_type": "execute_result"
    }
   ],
   "source": [
    "frag_data[1]"
   ]
  },
  {
   "cell_type": "code",
   "execution_count": 92,
   "id": "6d6c25ac",
   "metadata": {},
   "outputs": [],
   "source": [
    "# frag_data = [ml.organize_tomography_data(temp_frag_data[0][0],\n",
    "#                                       frag_targets[0].get(\"prep\"),\n",
    "#                                       frag_targets[0].get(\"meas\"),\n",
    "#                                       prep_basis = \"SIC\", extra_qc = [orign_qc])]\n",
    "# for i in range(1, len(fragments)):\n",
    "#     frag_data.append(ml.organize_tomography_data(temp_frag_data[i][0],\n",
    "#                                       frag_targets[i].get(\"prep\"),\n",
    "#                                       frag_targets[i].get(\"meas\"),\n",
    "#                                       prep_basis = \"SIC\", extra_qc = []))"
   ]
  },
  {
   "cell_type": "code",
   "execution_count": 93,
   "id": "99930b5d",
   "metadata": {},
   "outputs": [],
   "source": [
    "direct_models = ml.direct_fragment_model(frag_data)\n",
    "likely_models = ml.maximum_likelihood_model(direct_models)\n",
    "\n",
    "direct_recombined_dist = ml.recombine_fragment_models(direct_models, wire_path_map)\n",
    "likely_recombined_dist = ml.recombine_fragment_models(likely_models, wire_path_map)"
   ]
  },
  {
   "cell_type": "code",
   "execution_count": null,
   "id": "17e41869",
   "metadata": {},
   "outputs": [],
   "source": []
  },
  {
   "cell_type": "code",
   "execution_count": 94,
   "id": "b689bf9b",
   "metadata": {},
   "outputs": [
    {
     "data": {
      "text/plain": [
       "{'0000100010': 0.005143131408348026,\n",
       " '0000000000': 0.004828220643093268,\n",
       " '0000101010': 0.0003919476958928813,\n",
       " '0000001000': 0.0007937107671656851,\n",
       " '0000100011': 0.0050583469650707135,\n",
       " '0000000001': 0.019371362310588575,\n",
       " '0000101011': 0.0008219971974225159,\n",
       " '0000001001': 0.00491291842657653,\n",
       " '0000110011': 0.00870008623547562,\n",
       " '0000010001': 0.057169876709156325,\n",
       " '0000111011': 0.0008865785309020662,\n",
       " '0000011001': 0.009173720788732296,\n",
       " '0000100111': 0.020449147391202172,\n",
       " '0000000101': 0.1782991403399327,\n",
       " '0000101111': 0.0003929904320008159,\n",
       " '0000001101': 0.008442859342943356,\n",
       " '0000110111': 0.01848832662655077,\n",
       " '0000010101': 0.5308006209209225,\n",
       " '0000111111': 0.0012637341846250452,\n",
       " '0000011101': 0.015198154981252997,\n",
       " '0000110010': 0.009331975403140586,\n",
       " '0000010000': 0.016766181978856088,\n",
       " '0000111010': 1.1368517253733662e-05,\n",
       " '0000011000': 0.0024822679258804914,\n",
       " '0000100110': 8.429141244177577e-05,\n",
       " '0000000100': 0.018778804575627348,\n",
       " '0000101110': 0.001327165659066041,\n",
       " '0000001100': 0.001854090832138965,\n",
       " '0000110110': 0.0030575600089407253,\n",
       " '0000010100': 0.05211260291969065,\n",
       " '0000111110': -6.978216227721078e-05,\n",
       " '0000011100': 0.0036766010313860897}"
      ]
     },
     "execution_count": 94,
     "metadata": {},
     "output_type": "execute_result"
    }
   ],
   "source": [
    "direct_recombined_dist"
   ]
  },
  {
   "cell_type": "code",
   "execution_count": 95,
   "id": "13b192fc",
   "metadata": {},
   "outputs": [
    {
     "data": {
      "text/plain": [
       "{'0000100010': 0.004934897015570304,\n",
       " '0000000000': 0.004594628465471508,\n",
       " '0000101010': 0.0003537824287411628,\n",
       " '0000001000': 0.0006020005110434123,\n",
       " '0000100011': 0.004728911135056369,\n",
       " '0000000001': 0.019112372990589405,\n",
       " '0000101011': 0.0006251773369817819,\n",
       " '0000001001': 0.0045758885009998616,\n",
       " '0000110011': 0.008366218247762746,\n",
       " '0000010001': 0.057139492017379036,\n",
       " '0000111011': 0.0009778743220467622,\n",
       " '0000011001': 0.008853045713037072,\n",
       " '0000100111': 0.020086062682975983,\n",
       " '0000000101': 0.17894638005635505,\n",
       " '0000101111': 0.0003920808470400854,\n",
       " '0000001101': 0.00814715918377624,\n",
       " '0000110111': 0.01789324492140264,\n",
       " '0000010101': 0.5333888477170735,\n",
       " '0000111111': 0.0008801718907302187,\n",
       " '0000011101': 0.014910145388988496,\n",
       " '0000110010': 0.009084873960208286,\n",
       " '0000010000': 0.017082381064282472,\n",
       " '0000111010': 0.0003569163027896123,\n",
       " '0000011000': 0.0021683223654765465,\n",
       " '0000100110': 0.0012370587488389829,\n",
       " '0000000100': 0.018704074144914037,\n",
       " '0000101110': 0.0009692495088773325,\n",
       " '0000001100': 0.0015039181403504666,\n",
       " '0000110110': 0.0035061266417348255,\n",
       " '0000010100': 0.05220265256085068,\n",
       " '0000111110': 0.0002709067366231043,\n",
       " '0000011100': 0.003405138452032119}"
      ]
     },
     "execution_count": 95,
     "metadata": {},
     "output_type": "execute_result"
    }
   ],
   "source": [
    "likely_recombined_dist"
   ]
  },
  {
   "cell_type": "code",
   "execution_count": null,
   "id": "5dbabd0b",
   "metadata": {},
   "outputs": [],
   "source": []
  },
  {
   "cell_type": "code",
   "execution_count": 96,
   "id": "04be761c",
   "metadata": {},
   "outputs": [],
   "source": [
    "from utils.utils import filter_results"
   ]
  },
  {
   "cell_type": "code",
   "execution_count": 97,
   "id": "9df8b215",
   "metadata": {},
   "outputs": [],
   "source": [
    "filter_direct_recombined = filter_results(direct_recombined_dist, [0,1,2,3,4])"
   ]
  },
  {
   "cell_type": "code",
   "execution_count": 98,
   "id": "ef48375a",
   "metadata": {},
   "outputs": [
    {
     "data": {
      "text/plain": [
       "{'00000': 0.004828220643093268,\n",
       " '01000': 0.0007937107671656851,\n",
       " '00001': 0.019371362310588575,\n",
       " '01001': 0.00491291842657653,\n",
       " '10001': 0.057169876709156325,\n",
       " '11001': 0.009173720788732296,\n",
       " '00101': 0.1782991403399327,\n",
       " '01101': 0.008442859342943356,\n",
       " '10101': 0.5308006209209225,\n",
       " '11101': 0.015198154981252997,\n",
       " '10000': 0.016766181978856088,\n",
       " '11000': 0.0024822679258804914,\n",
       " '00100': 0.018778804575627348,\n",
       " '01100': 0.001854090832138965,\n",
       " '10100': 0.05211260291969065,\n",
       " '11100': 0.0036766010313860897}"
      ]
     },
     "execution_count": 98,
     "metadata": {},
     "output_type": "execute_result"
    }
   ],
   "source": [
    "filter_direct_recombined"
   ]
  },
  {
   "cell_type": "code",
   "execution_count": 99,
   "id": "246437c1",
   "metadata": {},
   "outputs": [],
   "source": [
    "filter_likely_recombined = filter_results(likely_recombined_dist, [0,1,2,3,4])"
   ]
  },
  {
   "cell_type": "code",
   "execution_count": 100,
   "id": "a8fe450d",
   "metadata": {},
   "outputs": [
    {
     "data": {
      "text/plain": [
       "{'00000': 0.004594628465471508,\n",
       " '01000': 0.0006020005110434123,\n",
       " '00001': 0.019112372990589405,\n",
       " '01001': 0.0045758885009998616,\n",
       " '10001': 0.057139492017379036,\n",
       " '11001': 0.008853045713037072,\n",
       " '00101': 0.17894638005635505,\n",
       " '01101': 0.00814715918377624,\n",
       " '10101': 0.5333888477170735,\n",
       " '11101': 0.014910145388988496,\n",
       " '10000': 0.017082381064282472,\n",
       " '11000': 0.0021683223654765465,\n",
       " '00100': 0.018704074144914037,\n",
       " '01100': 0.0015039181403504666,\n",
       " '10100': 0.05220265256085068,\n",
       " '11100': 0.003405138452032119}"
      ]
     },
     "execution_count": 100,
     "metadata": {},
     "output_type": "execute_result"
    }
   ],
   "source": [
    "filter_likely_recombined"
   ]
  },
  {
   "cell_type": "code",
   "execution_count": 101,
   "id": "5fab80f3",
   "metadata": {},
   "outputs": [],
   "source": [
    "def norm_dict(dictionary):\n",
    "    total = total_counts(dictionary)\n",
    "    norm_dist = {}\n",
    "    for i in dictionary.keys():\n",
    "        norm_dist[i] = dictionary[i]/total\n",
    "    return norm_dist"
   ]
  },
  {
   "cell_type": "code",
   "execution_count": 102,
   "id": "f05e0129",
   "metadata": {},
   "outputs": [
    {
     "data": {
      "text/plain": [
       "{'00000': 24,\n",
       " '00001': 15,\n",
       " '10000': 557,\n",
       " '10001': 301,\n",
       " '10010': 75,\n",
       " '10011': 71,\n",
       " '10100': 3599,\n",
       " '10101': 2089,\n",
       " '10110': 157,\n",
       " '10111': 141,\n",
       " '11000': 130,\n",
       " '11001': 74,\n",
       " '11010': 16,\n",
       " '11011': 18,\n",
       " '11100': 156,\n",
       " '11101': 99,\n",
       " '11110': 18,\n",
       " '11111': 17,\n",
       " '00010': 2,\n",
       " '00011': 1,\n",
       " '00100': 180,\n",
       " '00101': 99,\n",
       " '00110': 12,\n",
       " '00111': 9,\n",
       " '01000': 158,\n",
       " '01001': 90,\n",
       " '01010': 11,\n",
       " '01011': 2,\n",
       " '01100': 38,\n",
       " '01101': 25,\n",
       " '01110': 4,\n",
       " '01111': 4}"
      ]
     },
     "execution_count": 102,
     "metadata": {},
     "output_type": "execute_result"
    }
   ],
   "source": [
    "unmiti_dist = temp_frag_data[0][0][0].get_counts()[-1]\n",
    "unmiti_dist"
   ]
  },
  {
   "cell_type": "code",
   "execution_count": 103,
   "id": "1e8284f8",
   "metadata": {},
   "outputs": [],
   "source": [
    "unmiti_norm_dist = norm_dict(unmiti_dist)"
   ]
  },
  {
   "cell_type": "code",
   "execution_count": 104,
   "id": "a724f3dd",
   "metadata": {},
   "outputs": [],
   "source": [
    "norm_filter_dist = norm_dict(filter_likely_recombined)"
   ]
  },
  {
   "cell_type": "code",
   "execution_count": 105,
   "id": "c2138c6d",
   "metadata": {},
   "outputs": [
    {
     "data": {
      "text/plain": [
       "0.2550048828125"
      ]
     },
     "execution_count": 105,
     "metadata": {},
     "output_type": "execute_result"
    }
   ],
   "source": [
    "unmiti_norm_dist['10101']"
   ]
  },
  {
   "cell_type": "code",
   "execution_count": 106,
   "id": "81d6bc37",
   "metadata": {},
   "outputs": [
    {
     "data": {
      "text/plain": [
       "0.5333888477170735"
      ]
     },
     "execution_count": 106,
     "metadata": {},
     "output_type": "execute_result"
    }
   ],
   "source": [
    "likely_recombined_dist['0000010101']"
   ]
  },
  {
   "cell_type": "code",
   "execution_count": 107,
   "id": "3287adab",
   "metadata": {},
   "outputs": [
    {
     "data": {
      "text/plain": [
       "0.5764269302146358"
      ]
     },
     "execution_count": 107,
     "metadata": {},
     "output_type": "execute_result"
    }
   ],
   "source": [
    "norm_filter_dist['10101']"
   ]
  },
  {
   "cell_type": "code",
   "execution_count": 108,
   "id": "9b10b83e",
   "metadata": {},
   "outputs": [
    {
     "data": {
      "text/plain": [
       "{'00000': 0.0049653598742532305,\n",
       " '01000': 0.0006505747318370273,\n",
       " '00001': 0.0206545122554311,\n",
       " '01001': 0.004945107819417521,\n",
       " '10001': 0.06174996368704016,\n",
       " '11001': 0.009567380317862712,\n",
       " '00101': 0.1933852066281297,\n",
       " '01101': 0.008804537212156247,\n",
       " '10101': 0.5764269302146358,\n",
       " '11101': 0.016113215288272018,\n",
       " '10000': 0.01846072432857463,\n",
       " '11000': 0.0023432799733195007,\n",
       " '00100': 0.020213268590082344,\n",
       " '01100': 0.0016252662961490228,\n",
       " '10100': 0.05641478049926081,\n",
       " '11100': 0.0036798922835781338}"
      ]
     },
     "execution_count": 108,
     "metadata": {},
     "output_type": "execute_result"
    }
   ],
   "source": [
    "norm_filter_dist"
   ]
  },
  {
   "cell_type": "code",
   "execution_count": 109,
   "id": "7e67de89",
   "metadata": {},
   "outputs": [
    {
     "data": {
      "text/plain": [
       "8192"
      ]
     },
     "execution_count": 109,
     "metadata": {},
     "output_type": "execute_result"
    }
   ],
   "source": [
    "total_counts(unmiti_dist)"
   ]
  },
  {
   "cell_type": "code",
   "execution_count": 110,
   "id": "95574397",
   "metadata": {},
   "outputs": [],
   "source": [
    "unmiti_norm_dist = {}\n",
    "for i in unmiti_dist.keys():\n",
    "    unmiti_norm_dist[i] = unmiti_dist[i]/32000"
   ]
  },
  {
   "cell_type": "code",
   "execution_count": 111,
   "id": "abb7b782",
   "metadata": {},
   "outputs": [
    {
     "data": {
      "text/plain": [
       "{'00000': 0.00075,\n",
       " '00001': 0.00046875,\n",
       " '10000': 0.01740625,\n",
       " '10001': 0.00940625,\n",
       " '10010': 0.00234375,\n",
       " '10011': 0.00221875,\n",
       " '10100': 0.11246875,\n",
       " '10101': 0.06528125,\n",
       " '10110': 0.00490625,\n",
       " '10111': 0.00440625,\n",
       " '11000': 0.0040625,\n",
       " '11001': 0.0023125,\n",
       " '11010': 0.0005,\n",
       " '11011': 0.0005625,\n",
       " '11100': 0.004875,\n",
       " '11101': 0.00309375,\n",
       " '11110': 0.0005625,\n",
       " '11111': 0.00053125,\n",
       " '00010': 6.25e-05,\n",
       " '00011': 3.125e-05,\n",
       " '00100': 0.005625,\n",
       " '00101': 0.00309375,\n",
       " '00110': 0.000375,\n",
       " '00111': 0.00028125,\n",
       " '01000': 0.0049375,\n",
       " '01001': 0.0028125,\n",
       " '01010': 0.00034375,\n",
       " '01011': 6.25e-05,\n",
       " '01100': 0.0011875,\n",
       " '01101': 0.00078125,\n",
       " '01110': 0.000125,\n",
       " '01111': 0.000125}"
      ]
     },
     "execution_count": 111,
     "metadata": {},
     "output_type": "execute_result"
    }
   ],
   "source": [
    "unmiti_norm_dist"
   ]
  },
  {
   "cell_type": "code",
   "execution_count": null,
   "id": "29dbbc7a",
   "metadata": {},
   "outputs": [],
   "source": []
  },
  {
   "cell_type": "code",
   "execution_count": null,
   "id": "885a8632",
   "metadata": {},
   "outputs": [],
   "source": []
  },
  {
   "cell_type": "code",
   "execution_count": null,
   "id": "914cb7df",
   "metadata": {},
   "outputs": [],
   "source": []
  },
  {
   "cell_type": "code",
   "execution_count": null,
   "id": "9a52ff83",
   "metadata": {},
   "outputs": [],
   "source": []
  }
 ],
 "metadata": {
  "kernelspec": {
   "display_name": "Python 3 (ipykernel)",
   "language": "python",
   "name": "python3"
  },
  "language_info": {
   "codemirror_mode": {
    "name": "ipython",
    "version": 3
   },
   "file_extension": ".py",
   "mimetype": "text/x-python",
   "name": "python",
   "nbconvert_exporter": "python",
   "pygments_lexer": "ipython3",
   "version": "3.8.13"
  }
 },
 "nbformat": 4,
 "nbformat_minor": 5
}
