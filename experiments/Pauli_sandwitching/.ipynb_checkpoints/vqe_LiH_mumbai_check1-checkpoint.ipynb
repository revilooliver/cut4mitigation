{
 "cells": [
  {
   "cell_type": "code",
   "execution_count": 1,
   "id": "4b4d55ee",
   "metadata": {},
   "outputs": [],
   "source": [
    "import os\n",
    "import sys\n",
    "module_path = os.path.abspath(os.path.join('../..'))\n",
    "if module_path not in sys.path:\n",
    "    sys.path.append(module_path)"
   ]
  },
  {
   "cell_type": "code",
   "execution_count": 2,
   "id": "050ec390",
   "metadata": {},
   "outputs": [],
   "source": [
    "# author: Ji Liu email: ji.liu@anl.gov\n",
    "\n",
    "import itertools, numpy\n",
    "import circuit_cutter\n",
    "import mlrecon_methods as ml\n",
    "import numpy as np\n",
    "\n",
    "import qiskit\n",
    "from qiskit import *\n",
    "from qiskit import QuantumCircuit, QuantumRegister, ClassicalRegister, Aer, execute, transpile\n",
    "\n",
    "from qiskit.transpiler import PassManager\n",
    "\n",
    "from qiskit.converters import circuit_to_dag\n",
    "from qiskit.visualization import dag_drawer, plot_histogram\n",
    "from qiskit.compiler import assemble\n",
    "\n",
    "from qiskit.tools.monitor import job_monitor, backend_monitor, backend_overview\n",
    "\n",
    "import qiskit.providers.aer.noise as noise\n",
    "from qiskit.providers.aer.noise import NoiseModel\n",
    "\n",
    "from utils.utils import filter_results, dict_to_list, H_distance, total_counts"
   ]
  },
  {
   "cell_type": "code",
   "execution_count": 3,
   "id": "0ab21beb",
   "metadata": {},
   "outputs": [
    {
     "data": {
      "text/plain": [
       "{'qiskit-terra': '0.22.2', 'qiskit-aer': '0.11.1', 'qiskit-ignis': '0.7.1', 'qiskit-ibmq-provider': '0.19.2', 'qiskit': '0.39.2', 'qiskit-nature': '0.3.0', 'qiskit-finance': None, 'qiskit-optimization': None, 'qiskit-machine-learning': None}"
      ]
     },
     "execution_count": 3,
     "metadata": {},
     "output_type": "execute_result"
    }
   ],
   "source": [
    "qiskit.__qiskit_version__"
   ]
  },
  {
   "cell_type": "code",
   "execution_count": 4,
   "id": "da4a5c76",
   "metadata": {},
   "outputs": [],
   "source": [
    "numpy.set_printoptions(linewidth = 200)\n",
    "\n",
    "qubits = 5\n",
    "\n",
    "simulation_backend = \"qasm_simulator\"\n",
    "\n",
    "seed = 0\n",
    "print_circuits = True"
   ]
  },
  {
   "cell_type": "code",
   "execution_count": 5,
   "id": "cc3edfd5",
   "metadata": {},
   "outputs": [
    {
     "data": {
      "text/plain": [
       "[<IBMQSimulator('ibmq_qasm_simulator') from IBMQ(hub='ibm-q-ornl', group='ornl', project='chm185')>,\n",
       " <IBMQBackend('ibmq_montreal') from IBMQ(hub='ibm-q-ornl', group='ornl', project='chm185')>,\n",
       " <IBMQBackend('ibmq_toronto') from IBMQ(hub='ibm-q-ornl', group='ornl', project='chm185')>,\n",
       " <IBMQBackend('ibmq_kolkata') from IBMQ(hub='ibm-q-ornl', group='ornl', project='chm185')>,\n",
       " <IBMQBackend('ibmq_mumbai') from IBMQ(hub='ibm-q-ornl', group='ornl', project='chm185')>,\n",
       " <IBMQBackend('ibmq_lima') from IBMQ(hub='ibm-q-ornl', group='ornl', project='chm185')>,\n",
       " <IBMQBackend('ibmq_belem') from IBMQ(hub='ibm-q-ornl', group='ornl', project='chm185')>,\n",
       " <IBMQBackend('ibmq_quito') from IBMQ(hub='ibm-q-ornl', group='ornl', project='chm185')>,\n",
       " <IBMQBackend('ibmq_guadalupe') from IBMQ(hub='ibm-q-ornl', group='ornl', project='chm185')>,\n",
       " <IBMQSimulator('simulator_statevector') from IBMQ(hub='ibm-q-ornl', group='ornl', project='chm185')>,\n",
       " <IBMQSimulator('simulator_mps') from IBMQ(hub='ibm-q-ornl', group='ornl', project='chm185')>,\n",
       " <IBMQSimulator('simulator_extended_stabilizer') from IBMQ(hub='ibm-q-ornl', group='ornl', project='chm185')>,\n",
       " <IBMQSimulator('simulator_stabilizer') from IBMQ(hub='ibm-q-ornl', group='ornl', project='chm185')>,\n",
       " <IBMQBackend('ibmq_jakarta') from IBMQ(hub='ibm-q-ornl', group='ornl', project='chm185')>,\n",
       " <IBMQBackend('ibmq_manila') from IBMQ(hub='ibm-q-ornl', group='ornl', project='chm185')>,\n",
       " <IBMQBackend('ibm_hanoi') from IBMQ(hub='ibm-q-ornl', group='ornl', project='chm185')>,\n",
       " <IBMQBackend('ibm_cairo') from IBMQ(hub='ibm-q-ornl', group='ornl', project='chm185')>,\n",
       " <IBMQBackend('ibm_auckland') from IBMQ(hub='ibm-q-ornl', group='ornl', project='chm185')>,\n",
       " <IBMQBackend('ibm_washington') from IBMQ(hub='ibm-q-ornl', group='ornl', project='chm185')>,\n",
       " <IBMQBackend('ibm_geneva') from IBMQ(hub='ibm-q-ornl', group='ornl', project='chm185')>]"
      ]
     },
     "execution_count": 5,
     "metadata": {},
     "output_type": "execute_result"
    }
   ],
   "source": [
    "IBMQ.load_account()\n",
    "provider = IBMQ.get_provider(hub='ibm-q-ornl', group='ornl', project='chm185')\n",
    "provider.backends()"
   ]
  },
  {
   "cell_type": "code",
   "execution_count": 6,
   "id": "97f1be7e",
   "metadata": {},
   "outputs": [
    {
     "data": {
      "text/plain": [
       "<IBMQBackend('ibmq_mumbai') from IBMQ(hub='ibm-q-ornl', group='ornl', project='chm185')>"
      ]
     },
     "execution_count": 6,
     "metadata": {},
     "output_type": "execute_result"
    }
   ],
   "source": [
    "device = provider.get_backend('ibmq_mumbai')\n",
    "device"
   ]
  },
  {
   "cell_type": "code",
   "execution_count": 65,
   "id": "7e5cc22a",
   "metadata": {},
   "outputs": [
    {
     "data": {
      "text/plain": [
       "8192"
      ]
     },
     "execution_count": 65,
     "metadata": {},
     "output_type": "execute_result"
    }
   ],
   "source": [
    "device.configuration().to_dict()['max_shots']"
   ]
  },
  {
   "cell_type": "code",
   "execution_count": 58,
   "id": "914e4273",
   "metadata": {},
   "outputs": [
    {
     "name": "stdout",
     "output_type": "stream",
     "text": [
      "Help on IBMQBackend in module qiskit.providers.ibmq.ibmqbackend object:\n",
      "\n",
      "class IBMQBackend(qiskit.providers.backend.BackendV1)\n",
      " |  IBMQBackend(configuration: Union[qiskit.providers.models.backendconfiguration.QasmBackendConfiguration, qiskit.providers.models.backendconfiguration.PulseBackendConfiguration], provider: 'accountprovider.AccountProvider', credentials: qiskit.providers.ibmq.credentials.credentials.Credentials, api_client: qiskit.providers.ibmq.api.clients.account.AccountClient) -> None\n",
      " |  \n",
      " |  Backend class interfacing with an IBM Quantum Experience device.\n",
      " |  \n",
      " |  You can run experiments on a backend using the :meth:`run()` method. The\n",
      " |  :meth:`run()` method takes one or more :class:`~qiskit.circuit.QuantumCircuit`\n",
      " |  or :class:`~qiskit.pulse.Schedule` and returns\n",
      " |  an :class:`~qiskit.providers.ibmq.job.IBMQJob`\n",
      " |  instance that represents the submitted job. Each job has a unique job ID, which\n",
      " |  can later be used to retrieve the job. An example of this flow::\n",
      " |  \n",
      " |      from qiskit import IBMQ, assemble, transpile\n",
      " |      from qiskit.circuit.random import random_circuit\n",
      " |  \n",
      " |      provider = IBMQ.load_account()\n",
      " |      backend = provider.backend.ibmq_vigo\n",
      " |      qx = random_circuit(n_qubits=5, depth=4)\n",
      " |      transpiled = transpile(qx, backend=backend)\n",
      " |      job = backend.run(transpiled)\n",
      " |      retrieved_job = backend.retrieve_job(job.job_id())\n",
      " |  \n",
      " |  Note:\n",
      " |  \n",
      " |      * Unlike :meth:`qiskit.execute`, the :meth:`run` method does not transpile\n",
      " |        the circuits/schedules for you, so be sure to do so before submitting them.\n",
      " |  \n",
      " |      * You should not instantiate the ``IBMQBackend`` class directly. Instead, use\n",
      " |        the methods provided by an :class:`AccountProvider` instance to retrieve and handle\n",
      " |        backends.\n",
      " |  \n",
      " |  Other methods return information about the backend. For example, the :meth:`status()` method\n",
      " |  returns a :class:`BackendStatus<qiskit.providers.models.BackendStatus>` instance.\n",
      " |  The instance contains the ``operational`` and ``pending_jobs`` attributes, which state whether\n",
      " |  the backend is operational and also the number of jobs in the server queue for the backend,\n",
      " |  respectively::\n",
      " |  \n",
      " |      status = backend.status()\n",
      " |      is_operational = status.operational\n",
      " |      jobs_in_queue = status.pending_jobs\n",
      " |  \n",
      " |  It is also possible to see the number of remaining jobs you are able to submit to the\n",
      " |  backend with the :meth:`job_limit()` method, which returns a\n",
      " |  :class:`BackendJobLimit<qiskit.providers.ibmq.BackendJobLimit>` instance::\n",
      " |  \n",
      " |      job_limit = backend.job_limit()\n",
      " |  \n",
      " |  Method resolution order:\n",
      " |      IBMQBackend\n",
      " |      qiskit.providers.backend.BackendV1\n",
      " |      qiskit.providers.backend.Backend\n",
      " |      abc.ABC\n",
      " |      builtins.object\n",
      " |  \n",
      " |  Methods defined here:\n",
      " |  \n",
      " |  __init__(self, configuration: Union[qiskit.providers.models.backendconfiguration.QasmBackendConfiguration, qiskit.providers.models.backendconfiguration.PulseBackendConfiguration], provider: 'accountprovider.AccountProvider', credentials: qiskit.providers.ibmq.credentials.credentials.Credentials, api_client: qiskit.providers.ibmq.api.clients.account.AccountClient) -> None\n",
      " |      IBMQBackend constructor.\n",
      " |      \n",
      " |      Args:\n",
      " |          configuration: Backend configuration.\n",
      " |          provider: IBM Quantum Experience account provider\n",
      " |          credentials: IBM Quantum Experience credentials.\n",
      " |          api_client: IBM Quantum Experience client used to communicate with the server.\n",
      " |  \n",
      " |  __repr__(self) -> str\n",
      " |      Official string representation of a Backend.\n",
      " |      \n",
      " |      Note that, by Qiskit convention, it is consciously *not* a fully valid\n",
      " |      Python expression. Subclasses should provide 'a string of the form\n",
      " |      <...some useful description...>'. [0]\n",
      " |      \n",
      " |      [0] https://docs.python.org/3/reference/datamodel.html#object.__repr__\n",
      " |  \n",
      " |  active_jobs(self, limit: int = 10) -> List[qiskit.providers.ibmq.job.ibmqjob.IBMQJob]\n",
      " |      Return the unfinished jobs submitted to this backend.\n",
      " |      \n",
      " |      Return the jobs submitted to this backend, with this provider, that are\n",
      " |      currently in an unfinished job status state. The unfinished\n",
      " |      :class:`JobStatus<qiskit.providers.jobstatus.JobStatus>` states\n",
      " |      include: ``INITIALIZING``, ``VALIDATING``, ``QUEUED``, and ``RUNNING``.\n",
      " |      \n",
      " |      Args:\n",
      " |          limit: Number of jobs to retrieve.\n",
      " |      \n",
      " |      Returns:\n",
      " |          A list of the unfinished jobs for this backend on this provider.\n",
      " |  \n",
      " |  configuration(self) -> Union[qiskit.providers.models.backendconfiguration.QasmBackendConfiguration, qiskit.providers.models.backendconfiguration.PulseBackendConfiguration]\n",
      " |      Return the backend configuration.\n",
      " |      \n",
      " |      Backend configuration contains fixed information about the backend, such\n",
      " |      as its name, number of qubits, basis gates, coupling map, quantum volume, etc.\n",
      " |      \n",
      " |      The schema for backend configuration can be found in\n",
      " |      `Qiskit/ibm-quantum-schemas\n",
      " |      <https://github.com/Qiskit/ibm-quantum-schemas/blob/main/schemas/backend_configuration_schema.json>`_.\n",
      " |      \n",
      " |      Returns:\n",
      " |          The configuration for the backend.\n",
      " |  \n",
      " |  defaults(self, refresh: bool = False) -> Union[qiskit.providers.models.pulsedefaults.PulseDefaults, NoneType]\n",
      " |      Return the pulse defaults for the backend.\n",
      " |      \n",
      " |      The schema for default pulse configuration can be found in\n",
      " |      `Qiskit/ibm-quantum-schemas\n",
      " |      <https://github.com/Qiskit/ibm-quantum-schemas/blob/main/schemas/default_pulse_configuration_schema.json>`_.\n",
      " |      \n",
      " |      Args:\n",
      " |          refresh: If ``True``, re-query the server for the backend pulse defaults.\n",
      " |              Otherwise, return a cached version.\n",
      " |      \n",
      " |      Returns:\n",
      " |          The backend pulse defaults or ``None`` if the backend does not support pulse.\n",
      " |  \n",
      " |  job_limit(self) -> qiskit.providers.ibmq.backendjoblimit.BackendJobLimit\n",
      " |      Return the job limit for the backend.\n",
      " |      \n",
      " |      The job limit information includes the current number of active jobs\n",
      " |      you have on the backend and the maximum number of active jobs you can have\n",
      " |      on it.\n",
      " |      \n",
      " |      Note:\n",
      " |          Job limit information for a backend is provider specific.\n",
      " |          For example, if you have access to the same backend via\n",
      " |          different providers, the job limit information might be\n",
      " |          different for each provider.\n",
      " |      \n",
      " |      If the method call was successful, you can inspect the job limit for\n",
      " |      the backend by accessing the ``maximum_jobs`` and ``active_jobs`` attributes\n",
      " |      of the :class:`BackendJobLimit<BackendJobLimit>` instance returned. For example::\n",
      " |      \n",
      " |          backend_job_limit = backend.job_limit()\n",
      " |          maximum_jobs = backend_job_limit.maximum_jobs\n",
      " |          active_jobs = backend_job_limit.active_jobs\n",
      " |      \n",
      " |      If ``maximum_jobs`` is equal to ``None``, then there is\n",
      " |      no limit to the maximum number of active jobs you could\n",
      " |      have on the backend.\n",
      " |      \n",
      " |      Returns:\n",
      " |          The job limit for the backend, with this provider.\n",
      " |      \n",
      " |      Raises:\n",
      " |          IBMQBackendApiProtocolError: If an unexpected value is received from the server.\n",
      " |  \n",
      " |  jobs(self, limit: int = 10, skip: int = 0, status: Union[qiskit.providers.jobstatus.JobStatus, str, List[Union[qiskit.providers.jobstatus.JobStatus, str]], NoneType] = None, job_name: Union[str, NoneType] = None, start_datetime: Union[datetime.datetime, NoneType] = None, end_datetime: Union[datetime.datetime, NoneType] = None, job_tags: Union[List[str], NoneType] = None, job_tags_operator: Union[str, NoneType] = 'OR', experiment_id: Union[str, NoneType] = None, descending: bool = True, db_filter: Union[Dict[str, Any], NoneType] = None) -> List[qiskit.providers.ibmq.job.ibmqjob.IBMQJob]\n",
      " |      Return the jobs submitted to this backend, subject to optional filtering.\n",
      " |      \n",
      " |      Retrieve jobs submitted to this backend that match the given filters\n",
      " |      and paginate the results if desired. Note that the server has a limit for the\n",
      " |      number of jobs returned in a single call. As a result, this function might involve\n",
      " |      making several calls to the server. See also the `skip` parameter for more control\n",
      " |      over pagination.\n",
      " |      \n",
      " |      Args:\n",
      " |          limit: Number of jobs to retrieve.\n",
      " |          skip: Starting index for the job retrieval.\n",
      " |          status: Only get jobs with this status or one of the statuses.\n",
      " |              For example, you can specify `status=JobStatus.RUNNING` or `status=\"RUNNING\"`\n",
      " |              or `status=[\"RUNNING\", \"ERROR\"]`\n",
      " |          job_name: Filter by job name. The `job_name` is matched partially\n",
      " |              and `regular expressions\n",
      " |              <https://developer.mozilla.org/en-US/docs/Web/JavaScript/Guide/Regular_Expressions>`_\n",
      " |              can be used.\n",
      " |          start_datetime: Filter by the given start date, in local time. This is used to\n",
      " |              find jobs whose creation dates are after (greater than or equal to) this\n",
      " |              local date/time.\n",
      " |          end_datetime: Filter by the given end date, in local time. This is used to\n",
      " |              find jobs whose creation dates are before (less than or equal to) this\n",
      " |              local date/time.\n",
      " |          job_tags: Filter by tags assigned to jobs.\n",
      " |          job_tags_operator: Logical operator to use when filtering by job tags. Valid\n",
      " |              values are \"AND\" and \"OR\":\n",
      " |      \n",
      " |                  * If \"AND\" is specified, then a job must have all of the tags\n",
      " |                    specified in ``job_tags`` to be included.\n",
      " |                  * If \"OR\" is specified, then a job only needs to have any\n",
      " |                    of the tags specified in ``job_tags`` to be included.\n",
      " |          experiment_id: Filter by job experiment ID.\n",
      " |          descending: If ``True``, return the jobs in descending order of the job\n",
      " |              creation date (newest first). If ``False``, return in ascending order.\n",
      " |          db_filter: A `loopback-based filter\n",
      " |              <https://loopback.io/doc/en/lb2/Querying-data.html>`_.\n",
      " |              This is an interface to a database ``where`` filter. Some\n",
      " |              examples of its usage are:\n",
      " |      \n",
      " |              Filter last five jobs with errors::\n",
      " |      \n",
      " |                 job_list = backend.jobs(limit=5, status=JobStatus.ERROR)\n",
      " |      \n",
      " |              Filter last five jobs with hub name ``ibm-q``::\n",
      " |      \n",
      " |                filter = {'hubInfo.hub.name': 'ibm-q'}\n",
      " |                job_list = backend.jobs(limit=5, db_filter=filter)\n",
      " |      \n",
      " |      Returns:\n",
      " |          A list of jobs that match the criteria.\n",
      " |      \n",
      " |      Raises:\n",
      " |          IBMQBackendValueError: If a keyword value is not recognized.\n",
      " |  \n",
      " |  properties(self, refresh: bool = False, datetime: Union[datetime.datetime, NoneType] = None) -> Union[qiskit.providers.models.backendproperties.BackendProperties, NoneType]\n",
      " |      Return the backend properties, subject to optional filtering.\n",
      " |      \n",
      " |      This data describes qubits properties (such as T1 and T2),\n",
      " |      gates properties (such as gate length and error), and other general\n",
      " |      properties of the backend.\n",
      " |      \n",
      " |      The schema for backend properties can be found in\n",
      " |      `Qiskit/ibm-quantum-schemas\n",
      " |      <https://github.com/Qiskit/ibm-quantum-schemas/blob/main/schemas/backend_properties_schema.json>`_.\n",
      " |      \n",
      " |      Args:\n",
      " |          refresh: If ``True``, re-query the server for the backend properties.\n",
      " |              Otherwise, return a cached version.\n",
      " |          datetime: By specifying `datetime`, this function returns an instance\n",
      " |              of the :class:`BackendProperties<qiskit.providers.models.BackendProperties>`\n",
      " |              whose timestamp is closest to, but older than, the specified `datetime`.\n",
      " |      \n",
      " |      Returns:\n",
      " |          The backend properties or ``None`` if the backend properties are not\n",
      " |          currently available.\n",
      " |      \n",
      " |      Raises:\n",
      " |          TypeError: If an input argument is not of the correct type.\n",
      " |  \n",
      " |  remaining_jobs_count(self) -> Union[int, NoneType]\n",
      " |      Return the number of remaining jobs that could be submitted to the backend.\n",
      " |      \n",
      " |      Note:\n",
      " |          The number of remaining jobs for a backend is provider\n",
      " |          specific. For example, if you have access to the same backend\n",
      " |          via different providers, the number of remaining jobs might\n",
      " |          be different for each. See :class:`BackendJobLimit<BackendJobLimit>`\n",
      " |          for the job limit information of a backend.\n",
      " |      \n",
      " |      If ``None`` is returned, there are no limits to the maximum\n",
      " |      number of active jobs you could have on the backend.\n",
      " |      \n",
      " |      Returns:\n",
      " |          The remaining number of jobs a user could submit to the backend, with\n",
      " |          this provider, before the maximum limit on active jobs is reached.\n",
      " |      \n",
      " |      Raises:\n",
      " |          IBMQBackendApiProtocolError: If an unexpected value is received from the server.\n",
      " |  \n",
      " |  reservations(self, start_datetime: Union[datetime.datetime, NoneType] = None, end_datetime: Union[datetime.datetime, NoneType] = None) -> List[qiskit.providers.ibmq.backendreservation.BackendReservation]\n",
      " |      Return backend reservations.\n",
      " |      \n",
      " |      If start_datetime and/or end_datetime is specified, reservations with\n",
      " |      time slots that overlap with the specified time window will be returned.\n",
      " |      \n",
      " |      Some of the reservation information is only available if you are the\n",
      " |      owner of the reservation.\n",
      " |      \n",
      " |      Args:\n",
      " |          start_datetime: Filter by the given start date/time, in local timezone.\n",
      " |          end_datetime: Filter by the given end date/time, in local timezone.\n",
      " |      \n",
      " |      Returns:\n",
      " |          A list of reservations that match the criteria.\n",
      " |  \n",
      " |  retrieve_job(self, job_id: str) -> qiskit.providers.ibmq.job.ibmqjob.IBMQJob\n",
      " |      Return a single job submitted to this backend.\n",
      " |      \n",
      " |      Args:\n",
      " |          job_id: The ID of the job to retrieve.\n",
      " |      \n",
      " |      Returns:\n",
      " |          The job with the given ID.\n",
      " |      \n",
      " |      Raises:\n",
      " |          IBMQBackendError: If job retrieval failed.\n",
      " |  \n",
      " |  run(self, circuits: Union[qiskit.qobj.qasm_qobj.QasmQobj, qiskit.qobj.pulse_qobj.PulseQobj, qiskit.circuit.quantumcircuit.QuantumCircuit, qiskit.pulse.schedule.Schedule, List[Union[qiskit.circuit.quantumcircuit.QuantumCircuit, qiskit.pulse.schedule.Schedule]]], job_name: Union[str, NoneType] = None, job_share_level: Union[str, NoneType] = None, job_tags: Union[List[str], NoneType] = None, experiment_id: Union[str, NoneType] = None, header: Union[Dict, NoneType] = None, shots: Union[int, NoneType] = None, memory: Union[bool, NoneType] = None, qubit_lo_freq: Union[List[int], NoneType] = None, meas_lo_freq: Union[List[int], NoneType] = None, schedule_los: Union[List[Union[Dict[qiskit.pulse.channels.PulseChannel, float], qiskit.pulse.configuration.LoConfig]], Dict[qiskit.pulse.channels.PulseChannel, float], qiskit.pulse.configuration.LoConfig, NoneType] = None, meas_level: Union[int, qiskit.qobj.utils.MeasLevel, NoneType] = None, meas_return: Union[str, qiskit.qobj.utils.MeasReturnType, NoneType] = None, memory_slots: Union[int, NoneType] = None, memory_slot_size: Union[int, NoneType] = None, rep_time: Union[int, NoneType] = None, rep_delay: Union[float, NoneType] = None, init_qubits: Union[bool, NoneType] = None, parameter_binds: Union[List[Dict[qiskit.circuit.parameter.Parameter, float]], NoneType] = None, use_measure_esp: Union[bool, NoneType] = None, live_data_enabled: Union[bool, NoneType] = None, **run_config: Dict) -> qiskit.providers.ibmq.job.ibmqjob.IBMQJob\n",
      " |      Run on the backend.\n",
      " |      \n",
      " |      If a keyword specified here is also present in the ``options`` attribute/object,\n",
      " |      the value specified here will be used for this run.\n",
      " |      \n",
      " |      Args:\n",
      " |          circuits: An individual or a\n",
      " |              list of :class:`~qiskit.circuits.QuantumCircuit` or\n",
      " |              :class:`~qiskit.pulse.Schedule` objects to run on the backend.\n",
      " |              A :class:`~qiskit.qobj.QasmQobj` or a\n",
      " |              :class:`~qiskit.qobj.PulseQobj` object is also supported but\n",
      " |              is deprecated.\n",
      " |          job_name: Custom name to be assigned to the job. This job\n",
      " |              name can subsequently be used as a filter in the\n",
      " |              :meth:`jobs()` method. Job names do not need to be unique.\n",
      " |          job_share_level: Allows sharing a job at the hub, group, project,\n",
      " |              or global level. The possible job share levels are: ``global``, ``hub``,\n",
      " |              ``group``, ``project``, and ``none``.\n",
      " |      \n",
      " |                  * global: The job is public to any user.\n",
      " |                  * hub: The job is shared between the users in the same hub.\n",
      " |                  * group: The job is shared between the users in the same group.\n",
      " |                  * project: The job is shared between the users in the same project.\n",
      " |                  * none: The job is not shared at any level.\n",
      " |      \n",
      " |              If the job share level is not specified, the job is not shared at any level.\n",
      " |          job_tags: Tags to be assigned to the job. The tags can subsequently be used\n",
      " |              as a filter in the :meth:`jobs()` function call.\n",
      " |          experiment_id: Used to add a job to an \"experiment\", which is a collection\n",
      " |              of jobs and additional metadata.\n",
      " |      \n",
      " |          The following arguments are NOT applicable if a Qobj is passed in.\n",
      " |      \n",
      " |          header: User input that will be attached to the job and will be\n",
      " |              copied to the corresponding result header. Headers do not affect the run.\n",
      " |              This replaces the old ``Qobj`` header.\n",
      " |          shots: Number of repetitions of each circuit, for sampling. Default: 4000\n",
      " |              or ``max_shots`` from the backend configuration, whichever is smaller.\n",
      " |          memory: If ``True``, per-shot measurement bitstrings are returned as well\n",
      " |              (provided the backend supports it). For OpenPulse jobs, only\n",
      " |              measurement level 2 supports this option.\n",
      " |          qubit_lo_freq: List of default qubit LO frequencies in Hz. Will be overridden by\n",
      " |              ``schedule_los`` if set.\n",
      " |          meas_lo_freq: List of default measurement LO frequencies in Hz. Will be overridden\n",
      " |              by ``schedule_los`` if set.\n",
      " |          schedule_los: Experiment LO configurations, frequencies are given in Hz.\n",
      " |          meas_level: Set the appropriate level of the measurement output for pulse experiments.\n",
      " |          meas_return: Level of measurement data for the backend to return.\n",
      " |      \n",
      " |              For ``meas_level`` 0 and 1:\n",
      " |                  * ``single`` returns information from every shot.\n",
      " |                  * ``avg`` returns average measurement output (averaged over number of shots).\n",
      " |          memory_slots: Number of classical memory slots to use.\n",
      " |          memory_slot_size: Size of each memory slot if the output is Level 0.\n",
      " |          rep_time: Time per program execution in seconds. Must be from the list provided\n",
      " |              by the backend (``backend.configuration().rep_times``).\n",
      " |              Defaults to the first entry.\n",
      " |          rep_delay: Delay between programs in seconds. Only supported on certain\n",
      " |              backends (if ``backend.configuration().dynamic_reprate_enabled=True``).\n",
      " |              If supported, ``rep_delay`` will be used instead of ``rep_time`` and must be\n",
      " |              from the range supplied\n",
      " |              by the backend (``backend.configuration().rep_delay_range``). Default is given by\n",
      " |              ``backend.configuration().default_rep_delay``.\n",
      " |          init_qubits: Whether to reset the qubits to the ground state for each shot.\n",
      " |              Default: ``True``.\n",
      " |          parameter_binds: List of Parameter bindings over which the set of experiments will be\n",
      " |              executed. Each list element (bind) should be of the form\n",
      " |              {Parameter1: value1, Parameter2: value2, ...}. All binds will be\n",
      " |              executed across all experiments; e.g., if parameter_binds is a\n",
      " |              length-n list, and there are m experiments, a total of m x n\n",
      " |              experiments will be run (one for each experiment/bind pair).\n",
      " |          use_measure_esp: Whether to use excited state promoted (ESP) readout for measurements\n",
      " |              which are the terminal instruction to a qubit. ESP readout can offer higher fidelity\n",
      " |              than standard measurement sequences. See\n",
      " |              `here <https://arxiv.org/pdf/2008.08571.pdf>`_.\n",
      " |              Default: ``True`` if backend supports ESP readout, else ``False``. Backend support\n",
      " |              for ESP readout is determined by the flag ``measure_esp_enabled`` in\n",
      " |              ``backend.configuration()``.\n",
      " |          live_data_enabled (bool): Activate the live data in the backend, to receive data\n",
      " |              from the instruments.\n",
      " |          **run_config: Extra arguments used to configure the run.\n",
      " |      \n",
      " |      Returns:\n",
      " |          The job to be executed.\n",
      " |      \n",
      " |      Raises:\n",
      " |          IBMQBackendApiError: If an unexpected error occurred while submitting\n",
      " |              the job.\n",
      " |          IBMQBackendApiProtocolError: If an unexpected value received from\n",
      " |               the server.\n",
      " |          IBMQBackendValueError:\n",
      " |              - If an input parameter value is not valid.\n",
      " |              - If ESP readout is used and the backend does not support this.\n",
      " |  \n",
      " |  status(self) -> qiskit.providers.models.backendstatus.BackendStatus\n",
      " |      Return the backend status.\n",
      " |      \n",
      " |      Note:\n",
      " |          If the returned :class:`~qiskit.providers.models.BackendStatus`\n",
      " |          instance has ``operational=True`` but ``status_msg=\"internal\"``,\n",
      " |          then the backend is accepting jobs but not processing them.\n",
      " |      \n",
      " |      Returns:\n",
      " |          The status of the backend.\n",
      " |      \n",
      " |      Raises:\n",
      " |          IBMQBackendApiProtocolError: If the status for the backend cannot be formatted properly.\n",
      " |  \n",
      " |  ----------------------------------------------------------------------\n",
      " |  Data and other attributes defined here:\n",
      " |  \n",
      " |  __abstractmethods__ = frozenset()\n",
      " |  \n",
      " |  id_warning_issued = False\n",
      " |  \n",
      " |  qobj_warning_issued = False\n",
      " |  \n",
      " |  ----------------------------------------------------------------------\n",
      " |  Methods inherited from qiskit.providers.backend.BackendV1:\n",
      " |  \n",
      " |  __str__(self)\n",
      " |      Return str(self).\n",
      " |  \n",
      " |  name(self)\n",
      " |      Return the backend name.\n",
      " |      \n",
      " |      Returns:\n",
      " |          str: the name of the backend.\n",
      " |  \n",
      " |  provider(self)\n",
      " |      Return the backend Provider.\n",
      " |      \n",
      " |      Returns:\n",
      " |          Provider: the Provider responsible for the backend.\n",
      " |  \n",
      " |  set_options(self, **fields)\n",
      " |      Set the options fields for the backend\n",
      " |      \n",
      " |      This method is used to update the options of a backend. If\n",
      " |      you need to change any of the options prior to running just\n",
      " |      pass in the kwarg with the new value for the options.\n",
      " |      \n",
      " |      Args:\n",
      " |          fields: The fields to update the options\n",
      " |      \n",
      " |      Raises:\n",
      " |          AttributeError: If the field passed in is not part of the\n",
      " |              options\n",
      " |  \n",
      " |  ----------------------------------------------------------------------\n",
      " |  Readonly properties inherited from qiskit.providers.backend.BackendV1:\n",
      " |  \n",
      " |  options\n",
      " |      Return the options for the backend\n",
      " |      \n",
      " |      The options of a backend are the dynamic parameters defining\n",
      " |      how the backend is used. These are used to control the :meth:`run`\n",
      " |      method.\n",
      " |  \n",
      " |  ----------------------------------------------------------------------\n",
      " |  Data and other attributes inherited from qiskit.providers.backend.BackendV1:\n",
      " |  \n",
      " |  version = 1\n",
      " |  \n",
      " |  ----------------------------------------------------------------------\n",
      " |  Data descriptors inherited from qiskit.providers.backend.Backend:\n",
      " |  \n",
      " |  __dict__\n",
      " |      dictionary for instance variables (if defined)\n",
      " |  \n",
      " |  __weakref__\n",
      " |      list of weak references to the object (if defined)\n",
      "\n"
     ]
    }
   ],
   "source": [
    "help(device)"
   ]
  },
  {
   "cell_type": "code",
   "execution_count": 53,
   "id": "5861b771",
   "metadata": {},
   "outputs": [
    {
     "name": "stdout",
     "output_type": "stream",
     "text": [
      "ibmq_mumbai\n",
      "===========\n",
      "Configuration\n",
      "-------------\n",
      "    n_qubits: 27\n",
      "    operational: True\n",
      "    status_msg: active\n",
      "    pending_jobs: 42\n",
      "    backend_version: 1.7.12\n",
      "    basis_gates: ['id', 'rz', 'sx', 'x', 'cx', 'reset']\n",
      "    local: False\n",
      "    simulator: False\n",
      "    meas_lo_range: [[6.692973491, 7.692973491], [6.813355854, 7.813355854], [6.7017355620000005, 7.7017355620000005], [6.8287830970000005, 7.8287830970000005], [6.755076569000001, 7.755076569000001], [6.770776778, 7.770776778], [6.866516923000001, 7.866516923000001], [6.63597718, 7.63597718], [6.643915769, 7.643915769], [6.87628657, 7.87628657], [6.691147538, 7.691147538], [6.770064549000001, 7.770064549000001], [6.869006526000001, 7.869006526000001], [6.758264041, 7.758264041], [6.820367694000001, 7.820367694000001], [6.812499597, 7.812499597], [6.692060561000001, 7.692060561000001], [6.873241802000001, 7.873241802000001], [6.63373418, 7.63373418], [6.645269935000001, 7.645269935000001], [6.882100595000001, 7.882100595000001], [6.764017828, 7.764017828], [6.766939478, 7.766939478], [6.828374355, 7.828374355], [6.6932157530000005, 7.6932157530000005], [6.823789479, 7.823789479], [6.7070783490000006, 7.7070783490000006]]\n",
      "    max_shots: 8192\n",
      "    conditional: False\n",
      "    parallel_compilation: False\n",
      "    multi_meas_enabled: True\n",
      "    qubit_lo_range: [[4.576069695575842, 5.576069695575843], [4.429342872442349, 5.429342872442349], [4.170242488568359, 5.170242488568359], [4.387117486595102, 5.387117486595102], [4.51962916067174, 5.51962916067174], [4.4669211022578175, 5.4669211022578175], [4.4702211535454, 5.4702211535454], [4.392963131965252, 5.392963131965252], [4.287322890905408, 5.287322890905409], [4.45508114623976, 5.45508114623976], [4.458263193941263, 5.458263193941263], [4.1657119597177585, 5.1657119597177585], [4.236250010146649, 5.23625001014665], [4.3902240364164475, 5.3902240364164475], [4.276828059902397, 5.276828059902397], [4.353220558884956, 5.353220558884956], [4.476466266302589, 5.476466266302589], [4.494337841835299, 5.494337841835299], [4.275640426636884, 5.275640426636884], [4.3199840342616955, 5.3199840342616955], [4.543612231131316, 5.543612231131316], [4.434970364926818, 5.434970364926818], [4.40799240431652, 5.40799240431652], [4.3824200379229294, 5.3824200379229294], [4.169815210827963, 5.169815210827963], [4.2557758830747705, 5.255775883074771], [4.463355835472151, 5.463355835472151]]\n",
      "    supported_features: ['qobj', 'qasm3']\n",
      "    dynamic_reprate_enabled: True\n",
      "    max_experiments: 300\n",
      "    clops: 1832\n",
      "    url: None\n",
      "    dtm: 0.2222222222222222\n",
      "    parametric_pulses: ['gaussian', 'gaussian_square', 'drag', 'constant']\n",
      "    n_registers: 1\n",
      "    acquisition_latency: []\n",
      "    coupling_map: [[0, 1], [1, 0], [1, 2], [1, 4], [2, 1], [2, 3], [3, 2], [3, 5], [4, 1], [4, 7], [5, 3], [5, 8], [6, 7], [7, 4], [7, 6], [7, 10], [8, 5], [8, 9], [8, 11], [9, 8], [10, 7], [10, 12], [11, 8], [11, 14], [12, 10], [12, 13], [12, 15], [13, 12], [13, 14], [14, 11], [14, 13], [14, 16], [15, 12], [15, 18], [16, 14], [16, 19], [17, 18], [18, 15], [18, 17], [18, 21], [19, 16], [19, 20], [19, 22], [20, 19], [21, 18], [21, 23], [22, 19], [22, 25], [23, 21], [23, 24], [24, 23], [24, 25], [25, 22], [25, 24], [25, 26], [26, 25]]\n",
      "    quantum_volume: 128\n",
      "    measure_esp_enabled: False\n",
      "    open_pulse: True\n",
      "    meas_map: [[0, 1, 2, 3, 4, 5, 6, 7, 8, 9, 10, 11, 12, 13, 14, 15, 16, 17, 18, 19, 20, 21, 22, 23, 24, 25, 26]]\n",
      "    supported_instructions: ['sx', 'u1', 'reset', 'u2', 'shiftf', 'u3', 'acquire', 'id', 'delay', 'if_else', 'cx', 'x', 'setf', 'play', 'measure', 'rz']\n",
      "    online_date: 2020-11-13 05:00:00+00:00\n",
      "    rep_times: [1000.0]\n",
      "    discriminators: ['hw_qmfk', 'quadratic_discriminator', 'linear_discriminator']\n",
      "    pulse_num_qubits: 3\n",
      "    u_channel_lo: [[{'q': 1, 'scale': (1+0j)}], [{'q': 0, 'scale': (1+0j)}], [{'q': 2, 'scale': (1+0j)}], [{'q': 4, 'scale': (1+0j)}], [{'q': 1, 'scale': (1+0j)}], [{'q': 3, 'scale': (1+0j)}], [{'q': 2, 'scale': (1+0j)}], [{'q': 5, 'scale': (1+0j)}], [{'q': 1, 'scale': (1+0j)}], [{'q': 7, 'scale': (1+0j)}], [{'q': 3, 'scale': (1+0j)}], [{'q': 8, 'scale': (1+0j)}], [{'q': 7, 'scale': (1+0j)}], [{'q': 4, 'scale': (1+0j)}], [{'q': 6, 'scale': (1+0j)}], [{'q': 10, 'scale': (1+0j)}], [{'q': 5, 'scale': (1+0j)}], [{'q': 9, 'scale': (1+0j)}], [{'q': 11, 'scale': (1+0j)}], [{'q': 8, 'scale': (1+0j)}], [{'q': 7, 'scale': (1+0j)}], [{'q': 12, 'scale': (1+0j)}], [{'q': 8, 'scale': (1+0j)}], [{'q': 14, 'scale': (1+0j)}], [{'q': 10, 'scale': (1+0j)}], [{'q': 13, 'scale': (1+0j)}], [{'q': 15, 'scale': (1+0j)}], [{'q': 12, 'scale': (1+0j)}], [{'q': 14, 'scale': (1+0j)}], [{'q': 11, 'scale': (1+0j)}], [{'q': 13, 'scale': (1+0j)}], [{'q': 16, 'scale': (1+0j)}], [{'q': 12, 'scale': (1+0j)}], [{'q': 18, 'scale': (1+0j)}], [{'q': 14, 'scale': (1+0j)}], [{'q': 19, 'scale': (1+0j)}], [{'q': 18, 'scale': (1+0j)}], [{'q': 15, 'scale': (1+0j)}], [{'q': 17, 'scale': (1+0j)}], [{'q': 21, 'scale': (1+0j)}], [{'q': 16, 'scale': (1+0j)}], [{'q': 20, 'scale': (1+0j)}], [{'q': 22, 'scale': (1+0j)}], [{'q': 19, 'scale': (1+0j)}], [{'q': 18, 'scale': (1+0j)}], [{'q': 23, 'scale': (1+0j)}], [{'q': 19, 'scale': (1+0j)}], [{'q': 25, 'scale': (1+0j)}], [{'q': 21, 'scale': (1+0j)}], [{'q': 24, 'scale': (1+0j)}], [{'q': 23, 'scale': (1+0j)}], [{'q': 25, 'scale': (1+0j)}], [{'q': 22, 'scale': (1+0j)}], [{'q': 24, 'scale': (1+0j)}], [{'q': 26, 'scale': (1+0j)}], [{'q': 25, 'scale': (1+0j)}]]\n",
      "    rep_delay_range: [0.0, 500.0]\n",
      "    qubit_channel_mapping: [['u1', 'm0', 'd0', 'u0'], ['m1', 'u1', 'u2', 'u8', 'u3', 'u0', 'u4', 'd1'], ['d2', 'u2', 'm2', 'u5', 'u6', 'u4'], ['m3', 'u10', 'u7', 'u6', 'u5', 'd3'], ['u8', 'm4', 'u3', 'u13', 'd4', 'u9'], ['u11', 'm5', 'u10', 'u16', 'u7', 'd5'], ['m6', 'u14', 'u12', 'd6'], ['u15', 'd7', 'u14', 'u12', 'm7', 'u13', 'u20', 'u9'], ['u11', 'u22', 'u18', 'u16', 'm8', 'u19', 'u17', 'd8'], ['u17', 'u19', 'd9', 'm9'], ['u24', 'm10', 'u21', 'u20', 'u15', 'd10'], ['u22', 'u18', 'u23', 'd11', 'u29', 'm11'], ['u32', 'u24', 'd12', 'u21', 'u27', 'm12', 'u25', 'u26'], ['d13', 'm13', 'u27', 'u25', 'u28', 'u30'], ['u29', 'u23', 'm14', 'd14', 'u28', 'u30', 'u31', 'u34'], ['u32', 'd15', 'u37', 'u33', 'u26', 'm15'], ['d16', 'u31', 'u35', 'u40', 'm16', 'u34'], ['u38', 'm17', 'd17', 'u36'], ['u44', 'u39', 'u37', 'u33', 'u38', 'm18', 'd18', 'u36'], ['u43', 'u42', 'd19', 'u40', 'u35', 'u46', 'm19', 'u41'], ['u43', 'u41', 'd20', 'm20'], ['u44', 'm21', 'u45', 'd21', 'u39', 'u48'], ['m22', 'u42', 'u52', 'u47', 'u46', 'd22'], ['m23', 'u49', 'u45', 'd23', 'u50', 'u48'], ['m24', 'u49', 'u53', 'd24', 'u51', 'u50'], ['m25', 'u53', 'd25', 'u52', 'u51', 'u55', 'u54', 'u47'], ['m26', 'u54', 'u55', 'd26']]\n",
      "    allow_object_storage: True\n",
      "    meas_levels: [1, 2]\n",
      "    credits_required: True\n",
      "    default_rep_delay: 250.0\n",
      "    sample_name: family: Falcon, revision: 5.10\n",
      "    allow_q_object: True\n",
      "    pulse_num_channels: 9\n",
      "    n_uchannels: 56\n",
      "    conditional_latency: []\n",
      "    dt: 0.2222222222222222\n",
      "    memory: True\n",
      "    meas_kernels: ['hw_qmfk']\n",
      "    hamiltonian: {'description': 'Qubits are modeled as Duffing oscillators. In this case, the system includes higher energy states, i.e. not just |0> and |1>. The Pauli operators are generalized via the following set of transformations:\\n\\n$(\\\\mathbb{I}-\\\\sigma_{i}^z)/2 \\\\rightarrow O_i \\\\equiv b^\\\\dagger_{i} b_{i}$,\\n\\n$\\\\sigma_{+} \\\\rightarrow b^\\\\dagger$,\\n\\n$\\\\sigma_{-} \\\\rightarrow b$,\\n\\n$\\\\sigma_{i}^X \\\\rightarrow b^\\\\dagger_{i} + b_{i}$.\\n\\nQubits are coupled through resonator buses. The provided Hamiltonian has been projected into the zero excitation subspace of the resonator buses leading to an effective qubit-qubit flip-flop interaction. The qubit resonance frequencies in the Hamiltonian are the cavity dressed frequencies and not exactly what is returned by the backend defaults, which also includes the dressing due to the qubit-qubit interactions.\\n\\nQuantities are returned in angular frequencies, with units 2*pi*GHz.\\n\\nWARNING: Currently not all system Hamiltonian information is available to the public, missing values have been replaced with 0.\\n', 'h_latex': '\\\\begin{align} \\\\mathcal{H}/\\\\hbar = & \\\\sum_{i=0}^{26}\\\\left(\\\\frac{\\\\omega_{q,i}}{2}(\\\\mathbb{I}-\\\\sigma_i^{z})+\\\\frac{\\\\Delta_{i}}{2}(O_i^2-O_i)+\\\\Omega_{d,i}D_i(t)\\\\sigma_i^{X}\\\\right) \\\\\\\\ & + J_{12,13}(\\\\sigma_{12}^{+}\\\\sigma_{13}^{-}+\\\\sigma_{12}^{-}\\\\sigma_{13}^{+}) + J_{14,16}(\\\\sigma_{14}^{+}\\\\sigma_{16}^{-}+\\\\sigma_{14}^{-}\\\\sigma_{16}^{+}) + J_{8,9}(\\\\sigma_{8}^{+}\\\\sigma_{9}^{-}+\\\\sigma_{8}^{-}\\\\sigma_{9}^{+}) + J_{17,18}(\\\\sigma_{17}^{+}\\\\sigma_{18}^{-}+\\\\sigma_{17}^{-}\\\\sigma_{18}^{+}) \\\\\\\\ & + J_{11,14}(\\\\sigma_{11}^{+}\\\\sigma_{14}^{-}+\\\\sigma_{11}^{-}\\\\sigma_{14}^{+}) + J_{10,12}(\\\\sigma_{10}^{+}\\\\sigma_{12}^{-}+\\\\sigma_{10}^{-}\\\\sigma_{12}^{+}) + J_{13,14}(\\\\sigma_{13}^{+}\\\\sigma_{14}^{-}+\\\\sigma_{13}^{-}\\\\sigma_{14}^{+}) + J_{7,10}(\\\\sigma_{7}^{+}\\\\sigma_{10}^{-}+\\\\sigma_{7}^{-}\\\\sigma_{10}^{+}) \\\\\\\\ & + J_{16,19}(\\\\sigma_{16}^{+}\\\\sigma_{19}^{-}+\\\\sigma_{16}^{-}\\\\sigma_{19}^{+}) + J_{12,15}(\\\\sigma_{12}^{+}\\\\sigma_{15}^{-}+\\\\sigma_{12}^{-}\\\\sigma_{15}^{+}) + J_{22,25}(\\\\sigma_{22}^{+}\\\\sigma_{25}^{-}+\\\\sigma_{22}^{-}\\\\sigma_{25}^{+}) + J_{23,24}(\\\\sigma_{23}^{+}\\\\sigma_{24}^{-}+\\\\sigma_{23}^{-}\\\\sigma_{24}^{+}) \\\\\\\\ & + J_{8,11}(\\\\sigma_{8}^{+}\\\\sigma_{11}^{-}+\\\\sigma_{8}^{-}\\\\sigma_{11}^{+}) + J_{0,1}(\\\\sigma_{0}^{+}\\\\sigma_{1}^{-}+\\\\sigma_{0}^{-}\\\\sigma_{1}^{+}) + J_{1,2}(\\\\sigma_{1}^{+}\\\\sigma_{2}^{-}+\\\\sigma_{1}^{-}\\\\sigma_{2}^{+}) + J_{19,20}(\\\\sigma_{19}^{+}\\\\sigma_{20}^{-}+\\\\sigma_{19}^{-}\\\\sigma_{20}^{+}) \\\\\\\\ & + J_{6,7}(\\\\sigma_{6}^{+}\\\\sigma_{7}^{-}+\\\\sigma_{6}^{-}\\\\sigma_{7}^{+}) + J_{24,25}(\\\\sigma_{24}^{+}\\\\sigma_{25}^{-}+\\\\sigma_{24}^{-}\\\\sigma_{25}^{+}) + J_{18,21}(\\\\sigma_{18}^{+}\\\\sigma_{21}^{-}+\\\\sigma_{18}^{-}\\\\sigma_{21}^{+}) + J_{4,7}(\\\\sigma_{4}^{+}\\\\sigma_{7}^{-}+\\\\sigma_{4}^{-}\\\\sigma_{7}^{+}) \\\\\\\\ & + J_{21,23}(\\\\sigma_{21}^{+}\\\\sigma_{23}^{-}+\\\\sigma_{21}^{-}\\\\sigma_{23}^{+}) + J_{3,5}(\\\\sigma_{3}^{+}\\\\sigma_{5}^{-}+\\\\sigma_{3}^{-}\\\\sigma_{5}^{+}) + J_{5,8}(\\\\sigma_{5}^{+}\\\\sigma_{8}^{-}+\\\\sigma_{5}^{-}\\\\sigma_{8}^{+}) + J_{1,4}(\\\\sigma_{1}^{+}\\\\sigma_{4}^{-}+\\\\sigma_{1}^{-}\\\\sigma_{4}^{+}) \\\\\\\\ & + J_{2,3}(\\\\sigma_{2}^{+}\\\\sigma_{3}^{-}+\\\\sigma_{2}^{-}\\\\sigma_{3}^{+}) + J_{19,22}(\\\\sigma_{19}^{+}\\\\sigma_{22}^{-}+\\\\sigma_{19}^{-}\\\\sigma_{22}^{+}) + J_{15,18}(\\\\sigma_{15}^{+}\\\\sigma_{18}^{-}+\\\\sigma_{15}^{-}\\\\sigma_{18}^{+}) + J_{25,26}(\\\\sigma_{25}^{+}\\\\sigma_{26}^{-}+\\\\sigma_{25}^{-}\\\\sigma_{26}^{+}) \\\\\\\\ & + \\\\Omega_{d,0}(U_{0}^{(0,1)}(t))\\\\sigma_{0}^{X} + \\\\Omega_{d,1}(U_{1}^{(1,0)}(t)+U_{3}^{(1,4)}(t)+U_{2}^{(1,2)}(t))\\\\sigma_{1}^{X} \\\\\\\\ & + \\\\Omega_{d,2}(U_{5}^{(2,3)}(t)+U_{4}^{(2,1)}(t))\\\\sigma_{2}^{X} + \\\\Omega_{d,3}(U_{6}^{(3,2)}(t)+U_{7}^{(3,5)}(t))\\\\sigma_{3}^{X} \\\\\\\\ & + \\\\Omega_{d,4}(U_{9}^{(4,7)}(t)+U_{8}^{(4,1)}(t))\\\\sigma_{4}^{X} + \\\\Omega_{d,5}(U_{11}^{(5,8)}(t)+U_{10}^{(5,3)}(t))\\\\sigma_{5}^{X} \\\\\\\\ & + \\\\Omega_{d,6}(U_{12}^{(6,7)}(t))\\\\sigma_{6}^{X} + \\\\Omega_{d,7}(U_{14}^{(7,6)}(t)+U_{13}^{(7,4)}(t)+U_{15}^{(7,10)}(t))\\\\sigma_{7}^{X} \\\\\\\\ & + \\\\Omega_{d,8}(U_{18}^{(8,11)}(t)+U_{16}^{(8,5)}(t)+U_{17}^{(8,9)}(t))\\\\sigma_{8}^{X} + \\\\Omega_{d,9}(U_{19}^{(9,8)}(t))\\\\sigma_{9}^{X} \\\\\\\\ & + \\\\Omega_{d,10}(U_{20}^{(10,7)}(t)+U_{21}^{(10,12)}(t))\\\\sigma_{10}^{X} + \\\\Omega_{d,11}(U_{22}^{(11,8)}(t)+U_{23}^{(11,14)}(t))\\\\sigma_{11}^{X} \\\\\\\\ & + \\\\Omega_{d,12}(U_{24}^{(12,10)}(t)+U_{25}^{(12,13)}(t)+U_{26}^{(12,15)}(t))\\\\sigma_{12}^{X} + \\\\Omega_{d,13}(U_{28}^{(13,14)}(t)+U_{27}^{(13,12)}(t))\\\\sigma_{13}^{X} \\\\\\\\ & + \\\\Omega_{d,14}(U_{31}^{(14,16)}(t)+U_{30}^{(14,13)}(t)+U_{29}^{(14,11)}(t))\\\\sigma_{14}^{X} + \\\\Omega_{d,15}(U_{33}^{(15,18)}(t)+U_{32}^{(15,12)}(t))\\\\sigma_{15}^{X} \\\\\\\\ & + \\\\Omega_{d,16}(U_{35}^{(16,19)}(t)+U_{34}^{(16,14)}(t))\\\\sigma_{16}^{X} + \\\\Omega_{d,17}(U_{36}^{(17,18)}(t))\\\\sigma_{17}^{X} \\\\\\\\ & + \\\\Omega_{d,18}(U_{37}^{(18,15)}(t)+U_{39}^{(18,21)}(t)+U_{38}^{(18,17)}(t))\\\\sigma_{18}^{X} + \\\\Omega_{d,19}(U_{42}^{(19,22)}(t)+U_{40}^{(19,16)}(t)+U_{41}^{(19,20)}(t))\\\\sigma_{19}^{X} \\\\\\\\ & + \\\\Omega_{d,20}(U_{43}^{(20,19)}(t))\\\\sigma_{20}^{X} + \\\\Omega_{d,21}(U_{44}^{(21,18)}(t)+U_{45}^{(21,23)}(t))\\\\sigma_{21}^{X} \\\\\\\\ & + \\\\Omega_{d,22}(U_{46}^{(22,19)}(t)+U_{47}^{(22,25)}(t))\\\\sigma_{22}^{X} + \\\\Omega_{d,23}(U_{49}^{(23,24)}(t)+U_{48}^{(23,21)}(t))\\\\sigma_{23}^{X} \\\\\\\\ & + \\\\Omega_{d,24}(U_{50}^{(24,23)}(t)+U_{51}^{(24,25)}(t))\\\\sigma_{24}^{X} + \\\\Omega_{d,25}(U_{54}^{(25,26)}(t)+U_{53}^{(25,24)}(t)+U_{52}^{(25,22)}(t))\\\\sigma_{25}^{X} \\\\\\\\ & + \\\\Omega_{d,26}(U_{55}^{(26,25)}(t))\\\\sigma_{26}^{X} \\\\\\\\ \\\\end{align}', 'h_str': ['_SUM[i,0,26,wq{i}/2*(I{i}-Z{i})]', '_SUM[i,0,26,delta{i}/2*O{i}*O{i}]', '_SUM[i,0,26,-delta{i}/2*O{i}]', '_SUM[i,0,26,omegad{i}*X{i}||D{i}]', 'jq12q13*Sp12*Sm13', 'jq12q13*Sm12*Sp13', 'jq14q16*Sp14*Sm16', 'jq14q16*Sm14*Sp16', 'jq8q9*Sp8*Sm9', 'jq8q9*Sm8*Sp9', 'jq17q18*Sp17*Sm18', 'jq17q18*Sm17*Sp18', 'jq11q14*Sp11*Sm14', 'jq11q14*Sm11*Sp14', 'jq10q12*Sp10*Sm12', 'jq10q12*Sm10*Sp12', 'jq13q14*Sp13*Sm14', 'jq13q14*Sm13*Sp14', 'jq7q10*Sp7*Sm10', 'jq7q10*Sm7*Sp10', 'jq16q19*Sp16*Sm19', 'jq16q19*Sm16*Sp19', 'jq12q15*Sp12*Sm15', 'jq12q15*Sm12*Sp15', 'jq22q25*Sp22*Sm25', 'jq22q25*Sm22*Sp25', 'jq23q24*Sp23*Sm24', 'jq23q24*Sm23*Sp24', 'jq8q11*Sp8*Sm11', 'jq8q11*Sm8*Sp11', 'jq0q1*Sp0*Sm1', 'jq0q1*Sm0*Sp1', 'jq1q2*Sp1*Sm2', 'jq1q2*Sm1*Sp2', 'jq19q20*Sp19*Sm20', 'jq19q20*Sm19*Sp20', 'jq6q7*Sp6*Sm7', 'jq6q7*Sm6*Sp7', 'jq24q25*Sp24*Sm25', 'jq24q25*Sm24*Sp25', 'jq18q21*Sp18*Sm21', 'jq18q21*Sm18*Sp21', 'jq4q7*Sp4*Sm7', 'jq4q7*Sm4*Sp7', 'jq21q23*Sp21*Sm23', 'jq21q23*Sm21*Sp23', 'jq3q5*Sp3*Sm5', 'jq3q5*Sm3*Sp5', 'jq5q8*Sp5*Sm8', 'jq5q8*Sm5*Sp8', 'jq1q4*Sp1*Sm4', 'jq1q4*Sm1*Sp4', 'jq2q3*Sp2*Sm3', 'jq2q3*Sm2*Sp3', 'jq19q22*Sp19*Sm22', 'jq19q22*Sm19*Sp22', 'jq15q18*Sp15*Sm18', 'jq15q18*Sm15*Sp18', 'jq25q26*Sp25*Sm26', 'jq25q26*Sm25*Sp26', 'omegad1*X0||U0', 'omegad0*X1||U1', 'omegad4*X1||U3', 'omegad2*X1||U2', 'omegad3*X2||U5', 'omegad1*X2||U4', 'omegad2*X3||U6', 'omegad5*X3||U7', 'omegad7*X4||U9', 'omegad1*X4||U8', 'omegad8*X5||U11', 'omegad3*X5||U10', 'omegad7*X6||U12', 'omegad6*X7||U14', 'omegad4*X7||U13', 'omegad10*X7||U15', 'omegad11*X8||U18', 'omegad5*X8||U16', 'omegad9*X8||U17', 'omegad8*X9||U19', 'omegad7*X10||U20', 'omegad12*X10||U21', 'omegad8*X11||U22', 'omegad14*X11||U23', 'omegad10*X12||U24', 'omegad13*X12||U25', 'omegad15*X12||U26', 'omegad14*X13||U28', 'omegad12*X13||U27', 'omegad16*X14||U31', 'omegad13*X14||U30', 'omegad11*X14||U29', 'omegad18*X15||U33', 'omegad12*X15||U32', 'omegad19*X16||U35', 'omegad14*X16||U34', 'omegad18*X17||U36', 'omegad15*X18||U37', 'omegad21*X18||U39', 'omegad17*X18||U38', 'omegad22*X19||U42', 'omegad16*X19||U40', 'omegad20*X19||U41', 'omegad19*X20||U43', 'omegad18*X21||U44', 'omegad23*X21||U45', 'omegad19*X22||U46', 'omegad25*X22||U47', 'omegad24*X23||U49', 'omegad21*X23||U48', 'omegad23*X24||U50', 'omegad25*X24||U51', 'omegad26*X25||U54', 'omegad24*X25||U53', 'omegad22*X25||U52', 'omegad25*X26||U55'], 'osc': {}, 'qub': {'0': 3, '1': 3, '2': 3, '3': 3, '4': 3, '5': 3, '6': 3, '7': 3, '8': 3, '9': 3, '10': 3, '11': 3, '12': 3, '13': 3, '14': 3, '15': 3, '16': 3, '17': 3, '18': 3, '19': 3, '20': 3, '21': 3, '22': 3, '23': 3, '24': 3, '25': 3, '26': 3}, 'vars': {'delta0': -2.0637232917060424, 'delta1': -2.0815688822615774, 'delta10': -2.079155692172223, 'delta11': -2.101944373067459, 'delta12': -2.0921680435144854, 'delta13': -2.0612673845366123, 'delta14': -2.0895035120690153, 'delta15': -2.0938272873316017, 'delta16': -2.072954547315694, 'delta17': -2.0729855161960278, 'delta18': -2.0929152382204577, 'delta19': -2.0969622050801253, 'delta2': -2.116659090767002, 'delta20': -2.061188672142013, 'delta21': -2.0816181434428636, 'delta22': -2.085000580840148, 'delta23': -2.0829689117923698, 'delta24': -2.1107177475970818, 'delta25': -2.0957600717533076, 'delta26': -2.0705340657410622, 'delta3': -2.0808606853288714, 'delta4': -2.0745476851513156, 'delta5': -2.4571595160536104, 'delta6': -2.0690887325940106, 'delta7': -2.0797445389720837, 'delta8': -1.9738998126393954, 'delta9': -2.079044731606635, 'jq0q1': 0.01213498417249253, 'jq10q12': 0.011746418095223839, 'jq11q14': 0.010851559394781463, 'jq12q13': 0.011549074963827973, 'jq12q15': 0.00857109509902644, 'jq13q14': 0.011530997343591512, 'jq14q16': 0.011416171926380675, 'jq15q18': 0.010857320825530273, 'jq16q19': 0.011497168003707744, 'jq17q18': 0.011841088165481402, 'jq18q21': 0.011768680718673574, 'jq19q20': 0.011703713993788768, 'jq19q22': 0.011833765566401335, 'jq1q2': 0.011590878033736957, 'jq1q4': 0.011583578166966924, 'jq21q23': 0.01220790942329875, 'jq22q25': 0.011266975199994209, 'jq23q24': 0.012030910647105212, 'jq24q25': 0.011220122297824538, 'jq25q26': 0.011783151355871529, 'jq2q3': 0.011649953501476948, 'jq3q5': 0.012809373447019885, 'jq4q7': 0.012167552177433514, 'jq5q8': 0.01294800785884154, 'jq6q7': 0.01191152151510355, 'jq7q10': 0.011431449752605244, 'jq8q11': 0.010805751006869707, 'jq8q9': 0.011276659216622452, 'omegad0': 1.0852404459128202, 'omegad1': 1.0359446837982356, 'omegad10': 1.101971606818087, 'omegad11': 0.9898774532086956, 'omegad12': 1.9524229120637622, 'omegad13': 1.0823724601768614, 'omegad14': 1.122438941768715, 'omegad15': 1.2191647726042878, 'omegad16': 0.36152890267895155, 'omegad17': 1.0799117038007404, 'omegad18': 1.024336737390049, 'omegad19': 0.9888825935330973, 'omegad2': 1.1187657053962998, 'omegad20': 1.0429905986985861, 'omegad21': 1.013191954941859, 'omegad22': 0.985745289846536, 'omegad23': 1.5878472222208906, 'omegad24': 1.104476601639439, 'omegad25': 1.0393707949222453, 'omegad26': 1.0161459621096018, 'omegad3': 0.1601642023541753, 'omegad4': 1.62639799337297, 'omegad5': 1.1711044471230054, 'omegad6': 1.3079699085788818, 'omegad7': 1.3548826129393836, 'omegad8': 0.903325115913795, 'omegad9': 1.1577645021497034, 'wq0': 31.893886529461692, 'wq1': 30.97197471018018, 'wq10': 31.153686449301073, 'wq11': 29.315532832830698, 'wq12': 29.758736474882596, 'wq13': 30.72618381442828, 'wq14': 30.013695880901906, 'wq15': 30.493684108087862, 'wq16': 31.26805972610728, 'wq17': 31.380350146910555, 'wq18': 30.006233761017725, 'wq19': 30.284852864913276, 'wq2': 29.34399898513854, 'wq20': 31.689950265755545, 'wq21': 31.007333288274864, 'wq22': 30.83782576255057, 'wq23': 30.677149845756553, 'wq24': 29.341314319918006, 'wq25': 29.881421152774422, 'wq26': 31.18568445974268, 'wq3': 30.706664786234775, 'wq4': 31.539260189822873, 'wq5': 31.208085691626554, 'wq6': 31.228820525389636, 'wq7': 30.74339405933549, 'wq8': 30.07963684886136, 'wq9': 31.133693053936238}}\n",
      "    processor_type: {'family': 'Falcon', 'revision': '5.10'}\n",
      "    timing_constraints: {'acquire_alignment': 16, 'granularity': 16, 'min_length': 64, 'pulse_alignment': 16}\n",
      "    channels: {'acquire0': {'operates': {'qubits': [0]}, 'purpose': 'acquire', 'type': 'acquire'}, 'acquire1': {'operates': {'qubits': [1]}, 'purpose': 'acquire', 'type': 'acquire'}, 'acquire10': {'operates': {'qubits': [10]}, 'purpose': 'acquire', 'type': 'acquire'}, 'acquire11': {'operates': {'qubits': [11]}, 'purpose': 'acquire', 'type': 'acquire'}, 'acquire12': {'operates': {'qubits': [12]}, 'purpose': 'acquire', 'type': 'acquire'}, 'acquire13': {'operates': {'qubits': [13]}, 'purpose': 'acquire', 'type': 'acquire'}, 'acquire14': {'operates': {'qubits': [14]}, 'purpose': 'acquire', 'type': 'acquire'}, 'acquire15': {'operates': {'qubits': [15]}, 'purpose': 'acquire', 'type': 'acquire'}, 'acquire16': {'operates': {'qubits': [16]}, 'purpose': 'acquire', 'type': 'acquire'}, 'acquire17': {'operates': {'qubits': [17]}, 'purpose': 'acquire', 'type': 'acquire'}, 'acquire18': {'operates': {'qubits': [18]}, 'purpose': 'acquire', 'type': 'acquire'}, 'acquire19': {'operates': {'qubits': [19]}, 'purpose': 'acquire', 'type': 'acquire'}, 'acquire2': {'operates': {'qubits': [2]}, 'purpose': 'acquire', 'type': 'acquire'}, 'acquire20': {'operates': {'qubits': [20]}, 'purpose': 'acquire', 'type': 'acquire'}, 'acquire21': {'operates': {'qubits': [21]}, 'purpose': 'acquire', 'type': 'acquire'}, 'acquire22': {'operates': {'qubits': [22]}, 'purpose': 'acquire', 'type': 'acquire'}, 'acquire23': {'operates': {'qubits': [23]}, 'purpose': 'acquire', 'type': 'acquire'}, 'acquire24': {'operates': {'qubits': [24]}, 'purpose': 'acquire', 'type': 'acquire'}, 'acquire25': {'operates': {'qubits': [25]}, 'purpose': 'acquire', 'type': 'acquire'}, 'acquire26': {'operates': {'qubits': [26]}, 'purpose': 'acquire', 'type': 'acquire'}, 'acquire3': {'operates': {'qubits': [3]}, 'purpose': 'acquire', 'type': 'acquire'}, 'acquire4': {'operates': {'qubits': [4]}, 'purpose': 'acquire', 'type': 'acquire'}, 'acquire5': {'operates': {'qubits': [5]}, 'purpose': 'acquire', 'type': 'acquire'}, 'acquire6': {'operates': {'qubits': [6]}, 'purpose': 'acquire', 'type': 'acquire'}, 'acquire7': {'operates': {'qubits': [7]}, 'purpose': 'acquire', 'type': 'acquire'}, 'acquire8': {'operates': {'qubits': [8]}, 'purpose': 'acquire', 'type': 'acquire'}, 'acquire9': {'operates': {'qubits': [9]}, 'purpose': 'acquire', 'type': 'acquire'}, 'd0': {'operates': {'qubits': [0]}, 'purpose': 'drive', 'type': 'drive'}, 'd1': {'operates': {'qubits': [1]}, 'purpose': 'drive', 'type': 'drive'}, 'd10': {'operates': {'qubits': [10]}, 'purpose': 'drive', 'type': 'drive'}, 'd11': {'operates': {'qubits': [11]}, 'purpose': 'drive', 'type': 'drive'}, 'd12': {'operates': {'qubits': [12]}, 'purpose': 'drive', 'type': 'drive'}, 'd13': {'operates': {'qubits': [13]}, 'purpose': 'drive', 'type': 'drive'}, 'd14': {'operates': {'qubits': [14]}, 'purpose': 'drive', 'type': 'drive'}, 'd15': {'operates': {'qubits': [15]}, 'purpose': 'drive', 'type': 'drive'}, 'd16': {'operates': {'qubits': [16]}, 'purpose': 'drive', 'type': 'drive'}, 'd17': {'operates': {'qubits': [17]}, 'purpose': 'drive', 'type': 'drive'}, 'd18': {'operates': {'qubits': [18]}, 'purpose': 'drive', 'type': 'drive'}, 'd19': {'operates': {'qubits': [19]}, 'purpose': 'drive', 'type': 'drive'}, 'd2': {'operates': {'qubits': [2]}, 'purpose': 'drive', 'type': 'drive'}, 'd20': {'operates': {'qubits': [20]}, 'purpose': 'drive', 'type': 'drive'}, 'd21': {'operates': {'qubits': [21]}, 'purpose': 'drive', 'type': 'drive'}, 'd22': {'operates': {'qubits': [22]}, 'purpose': 'drive', 'type': 'drive'}, 'd23': {'operates': {'qubits': [23]}, 'purpose': 'drive', 'type': 'drive'}, 'd24': {'operates': {'qubits': [24]}, 'purpose': 'drive', 'type': 'drive'}, 'd25': {'operates': {'qubits': [25]}, 'purpose': 'drive', 'type': 'drive'}, 'd26': {'operates': {'qubits': [26]}, 'purpose': 'drive', 'type': 'drive'}, 'd3': {'operates': {'qubits': [3]}, 'purpose': 'drive', 'type': 'drive'}, 'd4': {'operates': {'qubits': [4]}, 'purpose': 'drive', 'type': 'drive'}, 'd5': {'operates': {'qubits': [5]}, 'purpose': 'drive', 'type': 'drive'}, 'd6': {'operates': {'qubits': [6]}, 'purpose': 'drive', 'type': 'drive'}, 'd7': {'operates': {'qubits': [7]}, 'purpose': 'drive', 'type': 'drive'}, 'd8': {'operates': {'qubits': [8]}, 'purpose': 'drive', 'type': 'drive'}, 'd9': {'operates': {'qubits': [9]}, 'purpose': 'drive', 'type': 'drive'}, 'm0': {'operates': {'qubits': [0]}, 'purpose': 'measure', 'type': 'measure'}, 'm1': {'operates': {'qubits': [1]}, 'purpose': 'measure', 'type': 'measure'}, 'm10': {'operates': {'qubits': [10]}, 'purpose': 'measure', 'type': 'measure'}, 'm11': {'operates': {'qubits': [11]}, 'purpose': 'measure', 'type': 'measure'}, 'm12': {'operates': {'qubits': [12]}, 'purpose': 'measure', 'type': 'measure'}, 'm13': {'operates': {'qubits': [13]}, 'purpose': 'measure', 'type': 'measure'}, 'm14': {'operates': {'qubits': [14]}, 'purpose': 'measure', 'type': 'measure'}, 'm15': {'operates': {'qubits': [15]}, 'purpose': 'measure', 'type': 'measure'}, 'm16': {'operates': {'qubits': [16]}, 'purpose': 'measure', 'type': 'measure'}, 'm17': {'operates': {'qubits': [17]}, 'purpose': 'measure', 'type': 'measure'}, 'm18': {'operates': {'qubits': [18]}, 'purpose': 'measure', 'type': 'measure'}, 'm19': {'operates': {'qubits': [19]}, 'purpose': 'measure', 'type': 'measure'}, 'm2': {'operates': {'qubits': [2]}, 'purpose': 'measure', 'type': 'measure'}, 'm20': {'operates': {'qubits': [20]}, 'purpose': 'measure', 'type': 'measure'}, 'm21': {'operates': {'qubits': [21]}, 'purpose': 'measure', 'type': 'measure'}, 'm22': {'operates': {'qubits': [22]}, 'purpose': 'measure', 'type': 'measure'}, 'm23': {'operates': {'qubits': [23]}, 'purpose': 'measure', 'type': 'measure'}, 'm24': {'operates': {'qubits': [24]}, 'purpose': 'measure', 'type': 'measure'}, 'm25': {'operates': {'qubits': [25]}, 'purpose': 'measure', 'type': 'measure'}, 'm26': {'operates': {'qubits': [26]}, 'purpose': 'measure', 'type': 'measure'}, 'm3': {'operates': {'qubits': [3]}, 'purpose': 'measure', 'type': 'measure'}, 'm4': {'operates': {'qubits': [4]}, 'purpose': 'measure', 'type': 'measure'}, 'm5': {'operates': {'qubits': [5]}, 'purpose': 'measure', 'type': 'measure'}, 'm6': {'operates': {'qubits': [6]}, 'purpose': 'measure', 'type': 'measure'}, 'm7': {'operates': {'qubits': [7]}, 'purpose': 'measure', 'type': 'measure'}, 'm8': {'operates': {'qubits': [8]}, 'purpose': 'measure', 'type': 'measure'}, 'm9': {'operates': {'qubits': [9]}, 'purpose': 'measure', 'type': 'measure'}, 'u0': {'operates': {'qubits': [0, 1]}, 'purpose': 'cross-resonance', 'type': 'control'}, 'u1': {'operates': {'qubits': [1, 0]}, 'purpose': 'cross-resonance', 'type': 'control'}, 'u10': {'operates': {'qubits': [5, 3]}, 'purpose': 'cross-resonance', 'type': 'control'}, 'u11': {'operates': {'qubits': [5, 8]}, 'purpose': 'cross-resonance', 'type': 'control'}, 'u12': {'operates': {'qubits': [6, 7]}, 'purpose': 'cross-resonance', 'type': 'control'}, 'u13': {'operates': {'qubits': [7, 4]}, 'purpose': 'cross-resonance', 'type': 'control'}, 'u14': {'operates': {'qubits': [7, 6]}, 'purpose': 'cross-resonance', 'type': 'control'}, 'u15': {'operates': {'qubits': [7, 10]}, 'purpose': 'cross-resonance', 'type': 'control'}, 'u16': {'operates': {'qubits': [8, 5]}, 'purpose': 'cross-resonance', 'type': 'control'}, 'u17': {'operates': {'qubits': [8, 9]}, 'purpose': 'cross-resonance', 'type': 'control'}, 'u18': {'operates': {'qubits': [8, 11]}, 'purpose': 'cross-resonance', 'type': 'control'}, 'u19': {'operates': {'qubits': [9, 8]}, 'purpose': 'cross-resonance', 'type': 'control'}, 'u2': {'operates': {'qubits': [1, 2]}, 'purpose': 'cross-resonance', 'type': 'control'}, 'u20': {'operates': {'qubits': [10, 7]}, 'purpose': 'cross-resonance', 'type': 'control'}, 'u21': {'operates': {'qubits': [10, 12]}, 'purpose': 'cross-resonance', 'type': 'control'}, 'u22': {'operates': {'qubits': [11, 8]}, 'purpose': 'cross-resonance', 'type': 'control'}, 'u23': {'operates': {'qubits': [11, 14]}, 'purpose': 'cross-resonance', 'type': 'control'}, 'u24': {'operates': {'qubits': [12, 10]}, 'purpose': 'cross-resonance', 'type': 'control'}, 'u25': {'operates': {'qubits': [12, 13]}, 'purpose': 'cross-resonance', 'type': 'control'}, 'u26': {'operates': {'qubits': [12, 15]}, 'purpose': 'cross-resonance', 'type': 'control'}, 'u27': {'operates': {'qubits': [13, 12]}, 'purpose': 'cross-resonance', 'type': 'control'}, 'u28': {'operates': {'qubits': [13, 14]}, 'purpose': 'cross-resonance', 'type': 'control'}, 'u29': {'operates': {'qubits': [14, 11]}, 'purpose': 'cross-resonance', 'type': 'control'}, 'u3': {'operates': {'qubits': [1, 4]}, 'purpose': 'cross-resonance', 'type': 'control'}, 'u30': {'operates': {'qubits': [14, 13]}, 'purpose': 'cross-resonance', 'type': 'control'}, 'u31': {'operates': {'qubits': [14, 16]}, 'purpose': 'cross-resonance', 'type': 'control'}, 'u32': {'operates': {'qubits': [15, 12]}, 'purpose': 'cross-resonance', 'type': 'control'}, 'u33': {'operates': {'qubits': [15, 18]}, 'purpose': 'cross-resonance', 'type': 'control'}, 'u34': {'operates': {'qubits': [16, 14]}, 'purpose': 'cross-resonance', 'type': 'control'}, 'u35': {'operates': {'qubits': [16, 19]}, 'purpose': 'cross-resonance', 'type': 'control'}, 'u36': {'operates': {'qubits': [17, 18]}, 'purpose': 'cross-resonance', 'type': 'control'}, 'u37': {'operates': {'qubits': [18, 15]}, 'purpose': 'cross-resonance', 'type': 'control'}, 'u38': {'operates': {'qubits': [18, 17]}, 'purpose': 'cross-resonance', 'type': 'control'}, 'u39': {'operates': {'qubits': [18, 21]}, 'purpose': 'cross-resonance', 'type': 'control'}, 'u4': {'operates': {'qubits': [2, 1]}, 'purpose': 'cross-resonance', 'type': 'control'}, 'u40': {'operates': {'qubits': [19, 16]}, 'purpose': 'cross-resonance', 'type': 'control'}, 'u41': {'operates': {'qubits': [19, 20]}, 'purpose': 'cross-resonance', 'type': 'control'}, 'u42': {'operates': {'qubits': [19, 22]}, 'purpose': 'cross-resonance', 'type': 'control'}, 'u43': {'operates': {'qubits': [20, 19]}, 'purpose': 'cross-resonance', 'type': 'control'}, 'u44': {'operates': {'qubits': [21, 18]}, 'purpose': 'cross-resonance', 'type': 'control'}, 'u45': {'operates': {'qubits': [21, 23]}, 'purpose': 'cross-resonance', 'type': 'control'}, 'u46': {'operates': {'qubits': [22, 19]}, 'purpose': 'cross-resonance', 'type': 'control'}, 'u47': {'operates': {'qubits': [22, 25]}, 'purpose': 'cross-resonance', 'type': 'control'}, 'u48': {'operates': {'qubits': [23, 21]}, 'purpose': 'cross-resonance', 'type': 'control'}, 'u49': {'operates': {'qubits': [23, 24]}, 'purpose': 'cross-resonance', 'type': 'control'}, 'u5': {'operates': {'qubits': [2, 3]}, 'purpose': 'cross-resonance', 'type': 'control'}, 'u50': {'operates': {'qubits': [24, 23]}, 'purpose': 'cross-resonance', 'type': 'control'}, 'u51': {'operates': {'qubits': [24, 25]}, 'purpose': 'cross-resonance', 'type': 'control'}, 'u52': {'operates': {'qubits': [25, 22]}, 'purpose': 'cross-resonance', 'type': 'control'}, 'u53': {'operates': {'qubits': [25, 24]}, 'purpose': 'cross-resonance', 'type': 'control'}, 'u54': {'operates': {'qubits': [25, 26]}, 'purpose': 'cross-resonance', 'type': 'control'}, 'u55': {'operates': {'qubits': [26, 25]}, 'purpose': 'cross-resonance', 'type': 'control'}, 'u6': {'operates': {'qubits': [3, 2]}, 'purpose': 'cross-resonance', 'type': 'control'}, 'u7': {'operates': {'qubits': [3, 5]}, 'purpose': 'cross-resonance', 'type': 'control'}, 'u8': {'operates': {'qubits': [4, 1]}, 'purpose': 'cross-resonance', 'type': 'control'}, 'u9': {'operates': {'qubits': [4, 7]}, 'purpose': 'cross-resonance', 'type': 'control'}}\n",
      "    description: 27 qubit device\n",
      "    live_data: False\n",
      "    uchannels_enabled: True\n",
      "    input_allowed: ['job', 'runtime', 'qasm3']\n",
      "    backend_name: ibmq_mumbai\n",
      "\n",
      "Qubits [Name / Freq / T1 / T2 / RZ err / SX err / X err / Readout err]\n",
      "----------------------------------------------------------------------\n",
      "    Q0 / 5.07607 GHz / 123.28528 us / 20.93444 us / 0.00000 / 0.00019 / 0.00019 / 0.01770 \n",
      "    Q1 / 4.92934 GHz / 134.50847 us / 158.55011 us / 0.00000 / 0.00016 / 0.00016 / 0.01690 \n",
      "    Q2 / 4.67024 GHz / 157.60436 us / 94.26432 us / 0.00000 / 0.00051 / 0.00051 / 0.01400 \n",
      "    Q3 / 4.88712 GHz / 115.33750 us / 165.21731 us / 0.00000 / 0.00039 / 0.00039 / 0.02470 \n",
      "    Q4 / 5.01963 GHz / 70.48987 us / 29.72214 us / 0.00000 / 0.00020 / 0.00020 / 0.01680 \n",
      "    Q5 / 4.96692 GHz / 111.28761 us / 162.47123 us / 0.00000 / 0.00022 / 0.00022 / 0.01670 \n",
      "    Q6 / 4.97022 GHz / 93.63292 us / 32.77072 us / 0.00000 / 0.00021 / 0.00021 / 0.01380 \n",
      "    Q7 / 4.89296 GHz / 6.80526 us / 11.53746 us / 0.00000 / 0.00047 / 0.00047 / 0.01630 \n",
      "    Q8 / 4.78732 GHz / 121.82133 us / 83.42650 us / 0.00000 / 0.00098 / 0.00098 / 0.04140 \n",
      "    Q9 / 4.95508 GHz / 102.41399 us / 102.24194 us / 0.00000 / 0.00068 / 0.00068 / 0.03720 \n",
      "    Q10 / 4.95826 GHz / 91.55185 us / 152.30969 us / 0.00000 / 0.00023 / 0.00023 / 0.01860 \n",
      "    Q11 / 4.66571 GHz / 140.07204 us / 71.36782 us / 0.00000 / 0.00026 / 0.00026 / 0.03570 \n",
      "    Q12 / 4.73625 GHz / 88.29752 us / 111.14288 us / 0.00000 / 0.00025 / 0.00025 / 0.03530 \n",
      "    Q13 / 4.89022 GHz / 128.83887 us / 32.23052 us / 0.00000 / 0.00017 / 0.00017 / 0.02950 \n",
      "    Q14 / 4.77683 GHz / 190.65136 us / 337.62928 us / 0.00000 / 0.00047 / 0.00047 / 0.02240 \n",
      "    Q15 / 4.85322 GHz / 116.60043 us / 142.72942 us / 0.00000 / 0.00022 / 0.00022 / 0.01930 \n",
      "    Q16 / 4.97647 GHz / 74.60742 us / 75.92285 us / 0.00000 / 0.00028 / 0.00028 / 0.02540 \n",
      "    Q17 / 4.99434 GHz / 96.72957 us / 136.47690 us / 0.00000 / 0.00021 / 0.00021 / 0.01240 \n",
      "    Q18 / 4.77564 GHz / 118.56292 us / 212.77090 us / 0.00000 / 0.00031 / 0.00031 / 0.05760 \n",
      "    Q19 / 4.81998 GHz / 109.92900 us / 273.45654 us / 0.00000 / 0.00019 / 0.00019 / 0.01170 \n",
      "    Q20 / 5.04361 GHz / 86.35264 us / 139.44484 us / 0.00000 / 0.00020 / 0.00020 / 0.01420 \n",
      "    Q21 / 4.93497 GHz / 60.84763 us / 67.57554 us / 0.00000 / 0.00039 / 0.00039 / 0.02200 \n",
      "    Q22 / 4.90799 GHz / 32.81716 us / 79.54162 us / 0.00000 / 0.00041 / 0.00041 / 0.17020 \n",
      "    Q23 / 4.88242 GHz / 41.62643 us / 21.20930 us / 0.00000 / 0.00191 / 0.00191 / 0.18640 \n",
      "    Q24 / 4.66982 GHz / 97.18303 us / 60.21625 us / 0.00000 / 0.00022 / 0.00022 / 0.01780 \n",
      "    Q25 / 4.75578 GHz / 127.12287 us / 53.49585 us / 0.00000 / 0.00558 / 0.00558 / 0.02280 \n",
      "    Q26 / 4.96336 GHz / 82.32689 us / 131.81472 us / 0.00000 / 0.00028 / 0.00028 / 0.02150 \n",
      "\n",
      "Multi-Qubit Gates [Name / Type / Gate Error]\n",
      "--------------------------------------------\n",
      "    cx5_8 / cx / 0.02284\n",
      "    cx8_5 / cx / 0.02284\n",
      "    cx9_8 / cx / 0.05948\n",
      "    cx8_9 / cx / 0.05948\n",
      "    cx13_14 / cx / 0.00834\n",
      "    cx14_13 / cx / 0.00834\n",
      "    cx16_14 / cx / 0.00862\n",
      "    cx14_16 / cx / 0.00862\n",
      "    cx19_16 / cx / 0.01047\n",
      "    cx16_19 / cx / 0.01047\n",
      "    cx18_21 / cx / 0.01122\n",
      "    cx21_18 / cx / 0.01122\n",
      "    cx15_18 / cx / 0.00818\n",
      "    cx18_15 / cx / 0.00818\n",
      "    cx26_25 / cx / 0.03221\n",
      "    cx25_26 / cx / 0.03221\n",
      "    cx15_12 / cx / 0.00777\n",
      "    cx12_15 / cx / 0.00777\n",
      "    cx3_2 / cx / 0.00804\n",
      "    cx2_3 / cx / 0.00804\n",
      "    cx10_7 / cx / 0.01105\n",
      "    cx7_10 / cx / 0.01105\n",
      "    cx14_11 / cx / 0.00532\n",
      "    cx11_14 / cx / 0.00532\n",
      "    cx24_25 / cx / 0.05017\n",
      "    cx25_24 / cx / 0.05017\n",
      "    cx6_7 / cx / 0.01149\n",
      "    cx7_6 / cx / 0.01149\n",
      "    cx17_18 / cx / 0.00661\n",
      "    cx18_17 / cx / 0.00661\n",
      "    cx4_7 / cx / 0.01734\n",
      "    cx7_4 / cx / 0.01734\n",
      "    cx4_1 / cx / 0.00860\n",
      "    cx1_4 / cx / 0.00860\n",
      "    cx12_13 / cx / 0.00781\n",
      "    cx13_12 / cx / 0.00781\n",
      "    cx24_23 / cx / 0.05201\n",
      "    cx23_24 / cx / 0.05201\n",
      "    cx0_1 / cx / 0.00588\n",
      "    cx1_0 / cx / 0.00588\n",
      "    cx10_12 / cx / 0.00671\n",
      "    cx12_10 / cx / 0.00671\n",
      "    cx20_19 / cx / 0.00542\n",
      "    cx19_20 / cx / 0.00542\n",
      "    cx21_23 / cx / 0.03726\n",
      "    cx23_21 / cx / 0.03726\n",
      "    cx2_1 / cx / 0.01202\n",
      "    cx1_2 / cx / 0.01202\n",
      "    cx25_22 / cx / 0.00869\n",
      "    cx22_25 / cx / 0.00869\n",
      "    cx22_19 / cx / 0.01075\n",
      "    cx19_22 / cx / 0.01075\n",
      "    cx8_11 / cx / 1.00000\n",
      "    cx11_8 / cx / 1.00000\n",
      "    cx3_5 / cx / 1.00000\n",
      "    cx5_3 / cx / 1.00000\n",
      "Help on NoneType object:\n",
      "\n",
      "class NoneType(object)\n",
      " |  Methods defined here:\n",
      " |  \n",
      " |  __bool__(self, /)\n",
      " |      self != 0\n",
      " |  \n",
      " |  __repr__(self, /)\n",
      " |      Return repr(self).\n",
      " |  \n",
      " |  ----------------------------------------------------------------------\n",
      " |  Static methods defined here:\n",
      " |  \n",
      " |  __new__(*args, **kwargs) from builtins.type\n",
      " |      Create and return a new object.  See help(type) for accurate signature.\n",
      "\n"
     ]
    }
   ],
   "source": [
    "help(backend_monitor(device))"
   ]
  },
  {
   "cell_type": "code",
   "execution_count": 8,
   "id": "b6f2eb58",
   "metadata": {},
   "outputs": [],
   "source": [
    "noisy_simulator = provider.get_backend('ibmq_qasm_simulator')"
   ]
  },
  {
   "cell_type": "code",
   "execution_count": 9,
   "id": "61848cfb",
   "metadata": {},
   "outputs": [],
   "source": [
    "front_layer = QuantumCircuit.from_qasm_file(\"qasm/vqe_Lih_front.qasm\")"
   ]
  },
  {
   "cell_type": "code",
   "execution_count": 10,
   "id": "4101ca8c",
   "metadata": {},
   "outputs": [],
   "source": [
    "mid_layer = QuantumCircuit.from_qasm_file(\"qasm/vqe_Lih_mid.qasm\")"
   ]
  },
  {
   "cell_type": "code",
   "execution_count": 11,
   "id": "1721959d",
   "metadata": {},
   "outputs": [],
   "source": [
    "end_layer = QuantumCircuit.from_qasm_file(\"qasm/vqe_Lih_end.qasm\")"
   ]
  },
  {
   "cell_type": "code",
   "execution_count": 12,
   "id": "e6aa46cb",
   "metadata": {},
   "outputs": [
    {
     "name": "stderr",
     "output_type": "stream",
     "text": [
      "/var/folders/s4/3cvgkkn17hg628pzrzzjnhww0000gn/T/ipykernel_11735/743480212.py:1: DeprecationWarning: The QuantumCircuit.__add__() method is being deprecated.Use the compose() method which is more flexible w.r.t circuit register compatibility.\n",
      "  orign_circuit = front_layer + mid_layer + end_layer\n"
     ]
    }
   ],
   "source": [
    "orign_circuit = front_layer + mid_layer + end_layer"
   ]
  },
  {
   "cell_type": "code",
   "execution_count": 13,
   "id": "93020df1",
   "metadata": {},
   "outputs": [
    {
     "data": {
      "text/html": [
       "<pre style=\"word-wrap: normal;white-space: pre;background: #fff0;line-height: 1.1;font-family: &quot;Courier New&quot;,Courier,monospace\">           ┌───┐      ┌───────────────┐   ┌────────────────┐                 »\n",
       "q_0: ──────┤ X ├──────┤ Ry(-0.003534) ├─■─┤ Ry(-0.0036834) ├─────────────────»\n",
       "           ├───┤      ├───────────────┤ │ └────────────────┘┌───────────────┐»\n",
       "q_1: ──────┤ X ├──────┤ Ry(-0.015869) ├─■─────────■─────────┤ Ry(-0.015751) ├»\n",
       "     ┌─────┴───┴─────┐└───────────────┘           │         └───────────────┘»\n",
       "q_2: ┤ Ry(0.0038243) ├────────────────────────────■─────────────────■────────»\n",
       "     ├───────────────┤                                              │        »\n",
       "q_3: ┤ Ry(-0.019851) ├──────────────────────────────────────────────■────────»\n",
       "     └───────────────┘                                                       »\n",
       "q_4: ────────────────────────────────────────────────────────────────────────»\n",
       "                                                                             »\n",
       "q_5: ────────────────────────────────────────────────────────────────────────»\n",
       "                                                                             »\n",
       "q_6: ────────────────────────────────────────────────────────────────────────»\n",
       "                                                                             »\n",
       "q_7: ────────────────────────────────────────────────────────────────────────»\n",
       "                                                                             »\n",
       "«                      \n",
       "«q_0: ─────────────────\n",
       "«                      \n",
       "«q_1: ─────────────────\n",
       "«     ┌───────────────┐\n",
       "«q_2: ┤ Ry(0.0036205) ├\n",
       "«     └┬──────────────┤\n",
       "«q_3: ─┤ Ry(0.019873) ├\n",
       "«      └──────────────┘\n",
       "«q_4: ─────────────────\n",
       "«                      \n",
       "«q_5: ─────────────────\n",
       "«                      \n",
       "«q_6: ─────────────────\n",
       "«                      \n",
       "«q_7: ─────────────────\n",
       "«                      </pre>"
      ],
      "text/plain": [
       "           ┌───┐      ┌───────────────┐   ┌────────────────┐                 »\n",
       "q_0: ──────┤ X ├──────┤ Ry(-0.003534) ├─■─┤ Ry(-0.0036834) ├─────────────────»\n",
       "           ├───┤      ├───────────────┤ │ └────────────────┘┌───────────────┐»\n",
       "q_1: ──────┤ X ├──────┤ Ry(-0.015869) ├─■─────────■─────────┤ Ry(-0.015751) ├»\n",
       "     ┌─────┴───┴─────┐└───────────────┘           │         └───────────────┘»\n",
       "q_2: ┤ Ry(0.0038243) ├────────────────────────────■─────────────────■────────»\n",
       "     ├───────────────┤                                              │        »\n",
       "q_3: ┤ Ry(-0.019851) ├──────────────────────────────────────────────■────────»\n",
       "     └───────────────┘                                                       »\n",
       "q_4: ────────────────────────────────────────────────────────────────────────»\n",
       "                                                                             »\n",
       "q_5: ────────────────────────────────────────────────────────────────────────»\n",
       "                                                                             »\n",
       "q_6: ────────────────────────────────────────────────────────────────────────»\n",
       "                                                                             »\n",
       "q_7: ────────────────────────────────────────────────────────────────────────»\n",
       "                                                                             »\n",
       "«                      \n",
       "«q_0: ─────────────────\n",
       "«                      \n",
       "«q_1: ─────────────────\n",
       "«     ┌───────────────┐\n",
       "«q_2: ┤ Ry(0.0036205) ├\n",
       "«     └┬──────────────┤\n",
       "«q_3: ─┤ Ry(0.019873) ├\n",
       "«      └──────────────┘\n",
       "«q_4: ─────────────────\n",
       "«                      \n",
       "«q_5: ─────────────────\n",
       "«                      \n",
       "«q_6: ─────────────────\n",
       "«                      \n",
       "«q_7: ─────────────────\n",
       "«                      "
      ]
     },
     "execution_count": 13,
     "metadata": {},
     "output_type": "execute_result"
    }
   ],
   "source": [
    "orign_circuit.draw()"
   ]
  },
  {
   "cell_type": "code",
   "execution_count": 14,
   "id": "d4a1d3a6",
   "metadata": {},
   "outputs": [],
   "source": [
    "#checking circuit"
   ]
  },
  {
   "cell_type": "code",
   "execution_count": 15,
   "id": "6937b806",
   "metadata": {},
   "outputs": [],
   "source": [
    "def apply_checking_circuit(qc, ctrl_bits, ancilla_bits, side = None):\n",
    "    if len(ctrl_bits) != len(ancilla_bits):\n",
    "        print(\"Size mismatch\")\n",
    "        return None\n",
    "    if side == 'front':\n",
    "        for i in ancilla_bits:\n",
    "            qc.h(i)\n",
    "        for j,k in zip(ctrl_bits, ancilla_bits):\n",
    "            qc.cz(j, k)\n",
    "    elif side == 'end':\n",
    "        for j,k in zip(ctrl_bits, ancilla_bits):\n",
    "            qc.cz(j, k)\n",
    "        for i in ancilla_bits:\n",
    "            qc.h(i)\n",
    "    else:\n",
    "        print(\"Side undefined\")"
   ]
  },
  {
   "cell_type": "code",
   "execution_count": 16,
   "id": "f7f99e4b",
   "metadata": {},
   "outputs": [],
   "source": [
    "circuit = front_layer.copy()"
   ]
  },
  {
   "cell_type": "code",
   "execution_count": 17,
   "id": "4f530b86",
   "metadata": {},
   "outputs": [
    {
     "name": "stderr",
     "output_type": "stream",
     "text": [
      "/var/folders/s4/3cvgkkn17hg628pzrzzjnhww0000gn/T/ipykernel_11735/1614787328.py:2: DeprecationWarning: The QuantumCircuit.__iadd__() method is being deprecated. Use the compose() (potentially with the inplace=True argument) and tensor() methods which are more flexible w.r.t circuit register compatibility.\n",
      "  circuit += mid_layer\n",
      "/var/folders/s4/3cvgkkn17hg628pzrzzjnhww0000gn/T/ipykernel_11735/1614787328.py:4: DeprecationWarning: The QuantumCircuit.__iadd__() method is being deprecated. Use the compose() (potentially with the inplace=True argument) and tensor() methods which are more flexible w.r.t circuit register compatibility.\n",
      "  circuit += end_layer\n"
     ]
    }
   ],
   "source": [
    "apply_checking_circuit(circuit, [0], [5], side = 'front')\n",
    "circuit += mid_layer\n",
    "apply_checking_circuit(circuit, [0], [5], side = 'end')\n",
    "circuit += end_layer"
   ]
  },
  {
   "cell_type": "code",
   "execution_count": 18,
   "id": "3d751a26",
   "metadata": {},
   "outputs": [
    {
     "data": {
      "text/html": [
       "<pre style=\"word-wrap: normal;white-space: pre;background: #fff0;line-height: 1.1;font-family: &quot;Courier New&quot;,Courier,monospace\">           ┌───┐      ┌───────────────┐            ┌────────────────┐»\n",
       "q_0: ──────┤ X ├──────┤ Ry(-0.003534) ├─■──■─────■─┤ Ry(-0.0036834) ├»\n",
       "           ├───┤      ├───────────────┤ │  │     │ ├───────────────┬┘»\n",
       "q_1: ──────┤ X ├──────┤ Ry(-0.015869) ├─┼──■──■──┼─┤ Ry(-0.015751) ├─»\n",
       "     ┌─────┴───┴─────┐└───────────────┘ │     │  │ └───────────────┘ »\n",
       "q_2: ┤ Ry(0.0038243) ├──────────────────┼─────■──┼─────────■─────────»\n",
       "     ├───────────────┤                  │        │         │         »\n",
       "q_3: ┤ Ry(-0.019851) ├──────────────────┼────────┼─────────■─────────»\n",
       "     └───────────────┘                  │        │                   »\n",
       "q_4: ───────────────────────────────────┼────────┼───────────────────»\n",
       "           ┌───┐                        │        │       ┌───┐       »\n",
       "q_5: ──────┤ H ├────────────────────────■────────■───────┤ H ├───────»\n",
       "           └───┘                                         └───┘       »\n",
       "q_6: ────────────────────────────────────────────────────────────────»\n",
       "                                                                     »\n",
       "q_7: ────────────────────────────────────────────────────────────────»\n",
       "                                                                     »\n",
       "«                      \n",
       "«q_0: ─────────────────\n",
       "«                      \n",
       "«q_1: ─────────────────\n",
       "«     ┌───────────────┐\n",
       "«q_2: ┤ Ry(0.0036205) ├\n",
       "«     └┬──────────────┤\n",
       "«q_3: ─┤ Ry(0.019873) ├\n",
       "«      └──────────────┘\n",
       "«q_4: ─────────────────\n",
       "«                      \n",
       "«q_5: ─────────────────\n",
       "«                      \n",
       "«q_6: ─────────────────\n",
       "«                      \n",
       "«q_7: ─────────────────\n",
       "«                      </pre>"
      ],
      "text/plain": [
       "           ┌───┐      ┌───────────────┐            ┌────────────────┐»\n",
       "q_0: ──────┤ X ├──────┤ Ry(-0.003534) ├─■──■─────■─┤ Ry(-0.0036834) ├»\n",
       "           ├───┤      ├───────────────┤ │  │     │ ├───────────────┬┘»\n",
       "q_1: ──────┤ X ├──────┤ Ry(-0.015869) ├─┼──■──■──┼─┤ Ry(-0.015751) ├─»\n",
       "     ┌─────┴───┴─────┐└───────────────┘ │     │  │ └───────────────┘ »\n",
       "q_2: ┤ Ry(0.0038243) ├──────────────────┼─────■──┼─────────■─────────»\n",
       "     ├───────────────┤                  │        │         │         »\n",
       "q_3: ┤ Ry(-0.019851) ├──────────────────┼────────┼─────────■─────────»\n",
       "     └───────────────┘                  │        │                   »\n",
       "q_4: ───────────────────────────────────┼────────┼───────────────────»\n",
       "           ┌───┐                        │        │       ┌───┐       »\n",
       "q_5: ──────┤ H ├────────────────────────■────────■───────┤ H ├───────»\n",
       "           └───┘                                         └───┘       »\n",
       "q_6: ────────────────────────────────────────────────────────────────»\n",
       "                                                                     »\n",
       "q_7: ────────────────────────────────────────────────────────────────»\n",
       "                                                                     »\n",
       "«                      \n",
       "«q_0: ─────────────────\n",
       "«                      \n",
       "«q_1: ─────────────────\n",
       "«     ┌───────────────┐\n",
       "«q_2: ┤ Ry(0.0036205) ├\n",
       "«     └┬──────────────┤\n",
       "«q_3: ─┤ Ry(0.019873) ├\n",
       "«      └──────────────┘\n",
       "«q_4: ─────────────────\n",
       "«                      \n",
       "«q_5: ─────────────────\n",
       "«                      \n",
       "«q_6: ─────────────────\n",
       "«                      \n",
       "«q_7: ─────────────────\n",
       "«                      "
      ]
     },
     "execution_count": 18,
     "metadata": {},
     "output_type": "execute_result"
    }
   ],
   "source": [
    "circuit.draw()"
   ]
  },
  {
   "cell_type": "code",
   "execution_count": 19,
   "id": "7a0bb967",
   "metadata": {},
   "outputs": [],
   "source": [
    "trans_qc = transpile(circuit, basis_gates = ['sx', 'cx', 'reset', 'id', 'x', 'rz'])"
   ]
  },
  {
   "cell_type": "code",
   "execution_count": 20,
   "id": "c89ec38f",
   "metadata": {},
   "outputs": [
    {
     "data": {
      "image/png": "[encoded data removed]",
      "text/plain": [
       "<Figure size 1708.89x702.333 with 1 Axes>"
      ]
     },
     "execution_count": 20,
     "metadata": {},
     "output_type": "execute_result"
    }
   ],
   "source": [
    "trans_qc.draw(output = 'mpl')"
   ]
  },
  {
   "cell_type": "code",
   "execution_count": 21,
   "id": "95e1ee63",
   "metadata": {},
   "outputs": [
    {
     "name": "stdout",
     "output_type": "stream",
     "text": [
      "NoiseModel:\n",
      "  Basis gates: ['cx', 'id', 'reset', 'rz', 'sx', 'x']\n",
      "  Instructions with noise: ['measure']\n",
      "  Qubits with noise: [0, 1, 2, 3, 4, 5, 6, 7, 8, 9, 10, 11, 12, 13, 14, 15, 16, 17, 18, 19, 20, 21, 22, 23, 24, 25, 26]\n",
      "  Specific qubit errors: [('measure', (0,)), ('measure', (1,)), ('measure', (2,)), ('measure', (3,)), ('measure', (4,)), ('measure', (5,)), ('measure', (6,)), ('measure', (7,)), ('measure', (8,)), ('measure', (9,)), ('measure', (10,)), ('measure', (11,)), ('measure', (12,)), ('measure', (13,)), ('measure', (14,)), ('measure', (15,)), ('measure', (16,)), ('measure', (17,)), ('measure', (18,)), ('measure', (19,)), ('measure', (20,)), ('measure', (21,)), ('measure', (22,)), ('measure', (23,)), ('measure', (24,)), ('measure', (25,)), ('measure', (26,))]\n"
     ]
    }
   ],
   "source": [
    "from qiskit import IBMQ, Aer\n",
    "from qiskit.providers.aer.noise import NoiseModel\n",
    "noise_model = NoiseModel.from_backend(device, gate_error = False, thermal_relaxation= False)\n",
    "print(noise_model)"
   ]
  },
  {
   "cell_type": "code",
   "execution_count": 22,
   "id": "e6fa3737",
   "metadata": {},
   "outputs": [],
   "source": [
    "circuit = trans_qc"
   ]
  },
  {
   "cell_type": "code",
   "execution_count": 23,
   "id": "0b2c17cd",
   "metadata": {},
   "outputs": [],
   "source": [
    "# cuts = []\n",
    "# for i in range(0, 1):\n",
    "#     if i == 0 or i == qubits - 1:\n",
    "#         cut = [(circuit.qubits[i], 5),(circuit.qubits[i], 6)]\n",
    "#     else:\n",
    "#         cut = [(circuit.qubits[i], 5),(circuit.qubits[i], 4)]\n",
    "#     cuts += cut"
   ]
  },
  {
   "cell_type": "code",
   "execution_count": 26,
   "id": "4993ee93",
   "metadata": {},
   "outputs": [],
   "source": [
    "cuts = [(circuit.qubits[0], 4),(circuit.qubits[0], 5)]"
   ]
  },
  {
   "cell_type": "code",
   "execution_count": 27,
   "id": "7aa1870b",
   "metadata": {},
   "outputs": [
    {
     "name": "stdout",
     "output_type": "stream",
     "text": [
      "WARNING: some qubits are entirely unused\n",
      "unused qubits: [Qubit(QuantumRegister(8, 'q'), 4), Qubit(QuantumRegister(8, 'q'), 6), Qubit(QuantumRegister(8, 'q'), 7)]\n"
     ]
    }
   ],
   "source": [
    "fragments, wire_path_map = circuit_cutter.cut_circuit(circuit, cuts)"
   ]
  },
  {
   "cell_type": "code",
   "execution_count": 28,
   "id": "6872220e",
   "metadata": {},
   "outputs": [
    {
     "name": "stdout",
     "output_type": "stream",
     "text": [
      "{Qubit(QuantumRegister(8, 'q'), 0): ((0, Qubit(QuantumRegister(3, 'q'), 2)), (1, Qubit(QuantumRegister(4, 'q'), 1)), (0, Qubit(QuantumRegister(3, 'q'), 0))), Qubit(QuantumRegister(8, 'q'), 1): ((1, Qubit(QuantumRegister(4, 'q'), 2)),), Qubit(QuantumRegister(8, 'q'), 2): ((1, Qubit(QuantumRegister(4, 'q'), 3)),), Qubit(QuantumRegister(8, 'q'), 3): ((1, Qubit(QuantumRegister(4, 'q'), 0)),), Qubit(QuantumRegister(8, 'q'), 4): ((2, Qubit(QuantumRegister(3, 'q'), 0)),), Qubit(QuantumRegister(8, 'q'), 5): ((0, Qubit(QuantumRegister(3, 'q'), 1)),), Qubit(QuantumRegister(8, 'q'), 6): ((2, Qubit(QuantumRegister(3, 'q'), 1)),), Qubit(QuantumRegister(8, 'q'), 7): ((2, Qubit(QuantumRegister(3, 'q'), 2)),)}\n"
     ]
    }
   ],
   "source": [
    "print(wire_path_map)"
   ]
  },
  {
   "cell_type": "code",
   "execution_count": 29,
   "id": "dd8a5b10",
   "metadata": {},
   "outputs": [],
   "source": [
    "total_variants = ml.fragment_variants(wire_path_map)"
   ]
  },
  {
   "cell_type": "code",
   "execution_count": 30,
   "id": "d79b8e01",
   "metadata": {},
   "outputs": [
    {
     "data": {
      "text/plain": [
       "25"
      ]
     },
     "execution_count": 30,
     "metadata": {},
     "output_type": "execute_result"
    }
   ],
   "source": [
    "total_variants"
   ]
  },
  {
   "cell_type": "code",
   "execution_count": 66,
   "id": "45286087",
   "metadata": {},
   "outputs": [],
   "source": [
    "shots = device.configuration().to_dict()['max_shots'] * total_variants"
   ]
  },
  {
   "cell_type": "code",
   "execution_count": 32,
   "id": "8600221e",
   "metadata": {},
   "outputs": [
    {
     "name": "stdout",
     "output_type": "stream",
     "text": [
      "total circuit:\n",
      "global phase: π/2\n",
      "     ┌────┐┌──────────────┐┌────┐                            ┌────┐  »\n",
      "q_0: ┤ √X ├┤ Rz(0.003534) ├┤ √X ├────────────■────■────■─────┤ √X ├──»\n",
      "     ├────┤└┬────────────┬┘├────┤┌────────┐  │  ┌─┴─┐  │  ┌──┴────┴─┐»\n",
      "q_1: ┤ √X ├─┤ Rz(1.5867) ├─┤ √X ├┤ Rz(-π) ├──┼──┤ X ├──┼──┤ Rz(π/2) ├»\n",
      "     ├────┤ ├────────────┤ ├────┤└────────┘  │  └───┘  │  └─────────┘»\n",
      "q_2: ┤ √X ├─┤ Rz(1.5746) ├─┤ √X ├────────────┼─────────┼─────────────»\n",
      "     ├────┤ ├────────────┤ ├────┤            │         │             »\n",
      "q_3: ┤ √X ├─┤ Rz(1.5509) ├─┤ √X ├────────────┼─────────┼─────────────»\n",
      "     └────┘ └────────────┘ └────┘            │         │             »\n",
      "q_4: ────────────────────────────────────────┼─────────┼─────────────»\n",
      "                                           ┌─┴─┐     ┌─┴─┐           »\n",
      "q_5: ──────────────────────────────────────┤ X ├─────┤ X ├───────────»\n",
      "                                           └───┘     └───┘           »\n",
      "q_6: ────────────────────────────────────────────────────────────────»\n",
      "                                                                     »\n",
      "q_7: ────────────────────────────────────────────────────────────────»\n",
      "                                                                     »\n",
      "«     ┌────────────┐   ┌────┐  ┌────────┐                                    »\n",
      "«q_0: ┤ Rz(3.1379) ├───┤ √X ├──┤ Rz(-π) ├────────────────────────────────────»\n",
      "«     └───┬────┬───┘┌──┴────┴─┐└────────┘   ┌────┐  ┌────────────┐   ┌────┐  »\n",
      "«q_1: ────┤ √X ├────┤ Rz(π/2) ├────■────────┤ √X ├──┤ Rz(3.1258) ├───┤ √X ├──»\n",
      "«         └────┘    └─────────┘  ┌─┴─┐   ┌──┴────┴─┐└───┬────┬───┘┌──┴────┴─┐»\n",
      "«q_2: ───────────────────────────┤ X ├───┤ Rz(π/2) ├────┤ √X ├────┤ Rz(π/2) ├»\n",
      "«                                └───┘   └─────────┘    └────┘    └─────────┘»\n",
      "«q_3: ───────────────────────────────────────────────────────────────────────»\n",
      "«                                                                            »\n",
      "«q_4: ───────────────────────────────────────────────────────────────────────»\n",
      "«                                                                            »\n",
      "«q_5: ───────────────────────────────────────────────────────────────────────»\n",
      "«                                                                            »\n",
      "«q_6: ───────────────────────────────────────────────────────────────────────»\n",
      "«                                                                            »\n",
      "«q_7: ───────────────────────────────────────────────────────────────────────»\n",
      "«                                                                            »\n",
      "«                                                          \n",
      "«q_0: ─────────────────────────────────────────────────────\n",
      "«     ┌────────┐                                           \n",
      "«q_1: ┤ Rz(-π) ├───────────────────────────────────────────\n",
      "«     └────────┘┌────────┐    ┌────┐    ┌───────────┐┌────┐\n",
      "«q_2: ────■─────┤ Rz(-π) ├────┤ √X ├────┤ Rz(3.138) ├┤ √X ├\n",
      "«       ┌─┴─┐   └─┬────┬─┘┌───┴────┴───┐└───┬────┬──┘└────┘\n",
      "«q_3: ──┤ X ├─────┤ √X ├──┤ Rz(1.5509) ├────┤ √X ├─────────\n",
      "«       └───┘     └────┘  └────────────┘    └────┘         \n",
      "«q_4: ─────────────────────────────────────────────────────\n",
      "«                                                          \n",
      "«q_5: ─────────────────────────────────────────────────────\n",
      "«                                                          \n",
      "«q_6: ─────────────────────────────────────────────────────\n",
      "«                                                          \n",
      "«q_7: ─────────────────────────────────────────────────────\n",
      "«                                                          \n",
      "cuts:\n",
      " (Qubit(QuantumRegister(8, 'q'), 0), 4)\n",
      " (Qubit(QuantumRegister(8, 'q'), 0), 5)\n",
      "\n",
      "fragment 0:\n",
      "                                           ┌────┐┌────────────┐┌────┐┌────────┐\n",
      "q_0: ───────────────────────────────────■──┤ √X ├┤ Rz(3.1379) ├┤ √X ├┤ Rz(-π) ├\n",
      "                                 ┌───┐┌─┴─┐└────┘└────────────┘└────┘└────────┘\n",
      "q_1: ────────────────────────────┤ X ├┤ X ├────────────────────────────────────\n",
      "     ┌────┐┌──────────────┐┌────┐└─┬─┘└───┘                                    \n",
      "q_2: ┤ √X ├┤ Rz(0.003534) ├┤ √X ├──■───────────────────────────────────────────\n",
      "     └────┘└──────────────┘└────┘                                              \n",
      "\n",
      "fragment 1:\n",
      "     ┌────┐┌────────────┐┌────┐                                                »\n",
      "q_0: ┤ √X ├┤ Rz(1.5509) ├┤ √X ├────────────────────────────────────────────────»\n",
      "     └────┘└────────────┘└────┘                                                »\n",
      "q_1: ──────────────────────────────────────■───────────────────────────────────»\n",
      "     ┌────┐┌────────────┐┌────┐┌────────┐┌─┴─┐┌─────────┐┌────┐┌─────────┐     »\n",
      "q_2: ┤ √X ├┤ Rz(1.5867) ├┤ √X ├┤ Rz(-π) ├┤ X ├┤ Rz(π/2) ├┤ √X ├┤ Rz(π/2) ├──■──»\n",
      "     ├────┤├────────────┤├────┤└────────┘└───┘└─────────┘└────┘└─────────┘┌─┴─┐»\n",
      "q_3: ┤ √X ├┤ Rz(1.5746) ├┤ √X ├───────────────────────────────────────────┤ X ├»\n",
      "     └────┘└────────────┘└────┘                                           └───┘»\n",
      "«                                                   ┌───┐  ┌────┐  »\n",
      "«q_0: ──────────────────────────────────────────────┤ X ├──┤ √X ├──»\n",
      "«                                                   └─┬─┘  └────┘  »\n",
      "«q_1: ────────────────────────────────────────────────┼────────────»\n",
      "«        ┌────┐  ┌────────────┐   ┌────┐  ┌────────┐  │            »\n",
      "«q_2: ───┤ √X ├──┤ Rz(3.1258) ├───┤ √X ├──┤ Rz(-π) ├──┼────────────»\n",
      "«     ┌──┴────┴─┐└───┬────┬───┘┌──┴────┴─┐└────────┘  │  ┌────────┐»\n",
      "«q_3: ┤ Rz(π/2) ├────┤ √X ├────┤ Rz(π/2) ├────────────■──┤ Rz(-π) ├»\n",
      "«     └─────────┘    └────┘    └─────────┘               └────────┘»\n",
      "«     ┌────────────┐    ┌────┐         \n",
      "«q_0: ┤ Rz(1.5509) ├────┤ √X ├─────────\n",
      "«     └────────────┘    └────┘         \n",
      "«q_1: ─────────────────────────────────\n",
      "«                                      \n",
      "«q_2: ─────────────────────────────────\n",
      "«         ┌────┐    ┌───────────┐┌────┐\n",
      "«q_3: ────┤ √X ├────┤ Rz(3.138) ├┤ √X ├\n",
      "«         └────┘    └───────────┘└────┘\n",
      "\n",
      "fragment 2:\n",
      "     \n",
      "q_0: \n",
      "     \n",
      "q_1: \n",
      "     \n",
      "q_2: \n",
      "     \n",
      "\n",
      "fragment_index, prep_cuts, meas_cuts:\n",
      "0 1 1\n",
      "1 1 1\n",
      "2 0 0\n",
      "\n",
      "total number of fragment variants: 25\n",
      "total number of shots: 800000\n",
      "\n"
     ]
    }
   ],
   "source": [
    "if print_circuits:\n",
    "    print(\"total circuit:\")\n",
    "    print(circuit)\n",
    "    print(\"cuts:\")\n",
    "    for cut in cuts:\n",
    "        print(\"\",cut)\n",
    "    print()\n",
    "    for idx, fragment in enumerate(fragments):\n",
    "        print(f\"fragment {idx}:\")\n",
    "        print(fragment)\n",
    "        print()\n",
    "    fragment_cuts = ml.fragment_cuts(wire_path_map)\n",
    "    print(\"fragment_index, prep_cuts, meas_cuts:\")\n",
    "    for frag_idx, frag_cuts in enumerate(fragment_cuts):\n",
    "        print(frag_idx, frag_cuts[\"prep\"], frag_cuts[\"meas\"])\n",
    "    print()\n",
    "    print(\"total number of fragment variants:\", total_variants)\n",
    "    print(\"total number of shots:\", ( shots // total_variants ) * total_variants)\n",
    "    print()"
   ]
  },
  {
   "cell_type": "code",
   "execution_count": 33,
   "id": "956041cd",
   "metadata": {},
   "outputs": [
    {
     "name": "stdout",
     "output_type": "stream",
     "text": [
      "[{'prep': 1, 'meas': 1}, {'prep': 1, 'meas': 1}, {'prep': 0, 'meas': 0}]\n"
     ]
    }
   ],
   "source": [
    "print(fragment_cuts)"
   ]
  },
  {
   "cell_type": "code",
   "execution_count": 34,
   "id": "398d7b33",
   "metadata": {},
   "outputs": [],
   "source": [
    "# list of all possible measurement outcomes (bitstrings)\n",
    "all_bits = [ \"\".join(bits) for bits in itertools.product([\"0\",\"1\"], repeat = qubits) ]"
   ]
  },
  {
   "cell_type": "code",
   "execution_count": 35,
   "id": "05e2a6c7",
   "metadata": {},
   "outputs": [
    {
     "name": "stdout",
     "output_type": "stream",
     "text": [
      "['00000', '00001', '00010', '00011', '00100', '00101', '00110', '00111', '01000', '01001', '01010', '01011', '01100', '01101', '01110', '01111', '10000', '10001', '10010', '10011', '10100', '10101', '10110', '10111', '11000', '11001', '11010', '11011', '11100', '11101', '11110', '11111']\n"
     ]
    }
   ],
   "source": [
    "print(all_bits)"
   ]
  },
  {
   "cell_type": "code",
   "execution_count": 36,
   "id": "991f5ee3",
   "metadata": {},
   "outputs": [
    {
     "name": "stderr",
     "output_type": "stream",
     "text": [
      "/var/folders/s4/3cvgkkn17hg628pzrzzjnhww0000gn/T/ipykernel_11735/3477497331.py:4: DeprecationWarning: The return type of saved statevectors has been changed from a `numpy.ndarray` to a `qiskit.quantum_info.Statevector` as of qiskit-aer 0.10. Accessing numpy array attributes is deprecated and will result in an error in a future release. To continue using saved result objects as arrays you can explicitly cast them using  `np.asarray(object)`.\n",
      "  for bits, amp in zip(all_bits, actual_state)\n"
     ]
    },
    {
     "name": "stdout",
     "output_type": "stream",
     "text": [
      "job_id:  c21543bd-6c73-46fa-b798-faef27df7210\n"
     ]
    }
   ],
   "source": [
    "# get the actual state / probability distribution for the full circuit\n",
    "actual_state = ml.get_statevector(circuit)\n",
    "actual_dist = { \"\".join(bits) : abs(amp)**2\n",
    "                for bits, amp in zip(all_bits, actual_state)\n",
    "                if amp != 0 }\n",
    "\n",
    "# get a simulated probability distribution for the full circuit\n",
    "circuit.measure_active()\n",
    "full_circuit_result = ml.run_circuits(circuit, shots, backend = simulation_backend)\n",
    "full_circuit_dist = {}\n",
    "for part in full_circuit_result:\n",
    "    for bits, counts in part.get_counts(circuit).items():\n",
    "        if bits not in full_circuit_dist:\n",
    "            full_circuit_dist[bits] = 0\n",
    "        full_circuit_dist[bits] += counts / shots"
   ]
  },
  {
   "cell_type": "code",
   "execution_count": 37,
   "id": "b57e7cf5",
   "metadata": {},
   "outputs": [
    {
     "name": "stdout",
     "output_type": "stream",
     "text": [
      "Statevector([ 2.80432400e-05-2.41325831e-19j,  5.88684435e-05-1.00451513e-18j, -7.49308236e-05-1.77440853e-19j, -9.99999989e-01+3.96829935e-16j,  1.06627821e-07-3.35169025e-21j,\n",
      "              3.03304592e-05-1.12095952e-20j,  6.74612340e-09+6.72352493e-21j,  1.01298909e-04+8.93590946e-17j,  3.04645098e-10-1.71940687e-21j, -4.42535776e-10-3.63104718e-21j,\n",
      "             -8.24486105e-10+4.58508848e-21j, -1.10037018e-05+6.12213732e-17j,  1.11025857e-09-4.92184852e-23j,  6.00394634e-07-2.01219754e-21j,  2.82706297e-09+9.88602890e-23j,\n",
      "              3.79528004e-05+1.21192914e-18j,  0.00000000e+00+0.00000000e+00j,  0.00000000e+00+0.00000000e+00j,  0.00000000e+00+0.00000000e+00j,  0.00000000e+00+0.00000000e+00j,\n",
      "              0.00000000e+00+0.00000000e+00j,  0.00000000e+00+0.00000000e+00j,  0.00000000e+00+0.00000000e+00j,  0.00000000e+00+0.00000000e+00j,  0.00000000e+00+0.00000000e+00j,\n",
      "              0.00000000e+00+0.00000000e+00j,  0.00000000e+00+0.00000000e+00j,  0.00000000e+00+0.00000000e+00j,  0.00000000e+00+0.00000000e+00j,  0.00000000e+00+0.00000000e+00j,\n",
      "              0.00000000e+00+0.00000000e+00j,  0.00000000e+00+0.00000000e+00j,  0.00000000e+00+0.00000000e+00j,  0.00000000e+00+0.00000000e+00j,  0.00000000e+00+0.00000000e+00j,\n",
      "              0.00000000e+00+0.00000000e+00j,  0.00000000e+00+0.00000000e+00j,  0.00000000e+00+0.00000000e+00j,  0.00000000e+00+0.00000000e+00j,  0.00000000e+00+0.00000000e+00j,\n",
      "              0.00000000e+00+0.00000000e+00j,  0.00000000e+00+0.00000000e+00j,  0.00000000e+00+0.00000000e+00j,  0.00000000e+00+0.00000000e+00j,  0.00000000e+00+0.00000000e+00j,\n",
      "              0.00000000e+00+0.00000000e+00j,  0.00000000e+00+0.00000000e+00j,  0.00000000e+00+0.00000000e+00j,  0.00000000e+00+0.00000000e+00j,  0.00000000e+00+0.00000000e+00j,\n",
      "              0.00000000e+00+0.00000000e+00j,  0.00000000e+00+0.00000000e+00j,  0.00000000e+00+0.00000000e+00j,  0.00000000e+00+0.00000000e+00j,  0.00000000e+00+0.00000000e+00j,\n",
      "              0.00000000e+00+0.00000000e+00j,  0.00000000e+00+0.00000000e+00j,  0.00000000e+00+0.00000000e+00j,  0.00000000e+00+0.00000000e+00j,  0.00000000e+00+0.00000000e+00j,\n",
      "              0.00000000e+00+0.00000000e+00j,  0.00000000e+00+0.00000000e+00j,  0.00000000e+00+0.00000000e+00j,  0.00000000e+00+0.00000000e+00j,  0.00000000e+00+0.00000000e+00j,\n",
      "              0.00000000e+00+0.00000000e+00j,  0.00000000e+00+0.00000000e+00j,  0.00000000e+00+0.00000000e+00j,  0.00000000e+00+0.00000000e+00j,  0.00000000e+00+0.00000000e+00j,\n",
      "              0.00000000e+00+0.00000000e+00j,  0.00000000e+00+0.00000000e+00j,  0.00000000e+00+0.00000000e+00j,  0.00000000e+00+0.00000000e+00j,  0.00000000e+00+0.00000000e+00j,\n",
      "              0.00000000e+00+0.00000000e+00j,  0.00000000e+00+0.00000000e+00j,  0.00000000e+00+0.00000000e+00j,  0.00000000e+00+0.00000000e+00j,  0.00000000e+00+0.00000000e+00j,\n",
      "              0.00000000e+00+0.00000000e+00j,  0.00000000e+00+0.00000000e+00j,  0.00000000e+00+0.00000000e+00j,  0.00000000e+00+0.00000000e+00j,  0.00000000e+00+0.00000000e+00j,\n",
      "              0.00000000e+00+0.00000000e+00j,  0.00000000e+00+0.00000000e+00j,  0.00000000e+00+0.00000000e+00j,  0.00000000e+00+0.00000000e+00j,  0.00000000e+00+0.00000000e+00j,\n",
      "              0.00000000e+00+0.00000000e+00j,  0.00000000e+00+0.00000000e+00j,  0.00000000e+00+0.00000000e+00j,  0.00000000e+00+0.00000000e+00j,  0.00000000e+00+0.00000000e+00j,\n",
      "              0.00000000e+00+0.00000000e+00j,  0.00000000e+00+0.00000000e+00j,  0.00000000e+00+0.00000000e+00j,  0.00000000e+00+0.00000000e+00j,  0.00000000e+00+0.00000000e+00j,\n",
      "              0.00000000e+00+0.00000000e+00j,  0.00000000e+00+0.00000000e+00j,  0.00000000e+00+0.00000000e+00j,  0.00000000e+00+0.00000000e+00j,  0.00000000e+00+0.00000000e+00j,\n",
      "              0.00000000e+00+0.00000000e+00j,  0.00000000e+00+0.00000000e+00j,  0.00000000e+00+0.00000000e+00j,  0.00000000e+00+0.00000000e+00j,  0.00000000e+00+0.00000000e+00j,\n",
      "              0.00000000e+00+0.00000000e+00j,  0.00000000e+00+0.00000000e+00j,  0.00000000e+00+0.00000000e+00j,  0.00000000e+00+0.00000000e+00j,  0.00000000e+00+0.00000000e+00j,\n",
      "              0.00000000e+00+0.00000000e+00j,  0.00000000e+00+0.00000000e+00j,  0.00000000e+00+0.00000000e+00j,  0.00000000e+00+0.00000000e+00j,  0.00000000e+00+0.00000000e+00j,\n",
      "              0.00000000e+00+0.00000000e+00j,  0.00000000e+00+0.00000000e+00j,  0.00000000e+00+0.00000000e+00j,  0.00000000e+00+0.00000000e+00j,  0.00000000e+00+0.00000000e+00j,\n",
      "              0.00000000e+00+0.00000000e+00j,  0.00000000e+00+0.00000000e+00j,  0.00000000e+00+0.00000000e+00j,  0.00000000e+00+0.00000000e+00j,  0.00000000e+00+0.00000000e+00j,\n",
      "              0.00000000e+00+0.00000000e+00j,  0.00000000e+00+0.00000000e+00j,  0.00000000e+00+0.00000000e+00j,  0.00000000e+00+0.00000000e+00j,  0.00000000e+00+0.00000000e+00j,\n",
      "              0.00000000e+00+0.00000000e+00j,  0.00000000e+00+0.00000000e+00j,  0.00000000e+00+0.00000000e+00j,  0.00000000e+00+0.00000000e+00j,  0.00000000e+00+0.00000000e+00j,\n",
      "              0.00000000e+00+0.00000000e+00j,  0.00000000e+00+0.00000000e+00j,  0.00000000e+00+0.00000000e+00j,  0.00000000e+00+0.00000000e+00j,  0.00000000e+00+0.00000000e+00j,\n",
      "              0.00000000e+00+0.00000000e+00j,  0.00000000e+00+0.00000000e+00j,  0.00000000e+00+0.00000000e+00j,  0.00000000e+00+0.00000000e+00j,  0.00000000e+00+0.00000000e+00j,\n",
      "              0.00000000e+00+0.00000000e+00j,  0.00000000e+00+0.00000000e+00j,  0.00000000e+00+0.00000000e+00j,  0.00000000e+00+0.00000000e+00j,  0.00000000e+00+0.00000000e+00j,\n",
      "              0.00000000e+00+0.00000000e+00j,  0.00000000e+00+0.00000000e+00j,  0.00000000e+00+0.00000000e+00j,  0.00000000e+00+0.00000000e+00j,  0.00000000e+00+0.00000000e+00j,\n",
      "              0.00000000e+00+0.00000000e+00j,  0.00000000e+00+0.00000000e+00j,  0.00000000e+00+0.00000000e+00j,  0.00000000e+00+0.00000000e+00j,  0.00000000e+00+0.00000000e+00j,\n",
      "              0.00000000e+00+0.00000000e+00j,  0.00000000e+00+0.00000000e+00j,  0.00000000e+00+0.00000000e+00j,  0.00000000e+00+0.00000000e+00j,  0.00000000e+00+0.00000000e+00j,\n",
      "              0.00000000e+00+0.00000000e+00j,  0.00000000e+00+0.00000000e+00j,  0.00000000e+00+0.00000000e+00j,  0.00000000e+00+0.00000000e+00j,  0.00000000e+00+0.00000000e+00j,\n",
      "              0.00000000e+00+0.00000000e+00j,  0.00000000e+00+0.00000000e+00j,  0.00000000e+00+0.00000000e+00j,  0.00000000e+00+0.00000000e+00j,  0.00000000e+00+0.00000000e+00j,\n",
      "              0.00000000e+00+0.00000000e+00j,  0.00000000e+00+0.00000000e+00j,  0.00000000e+00+0.00000000e+00j,  0.00000000e+00+0.00000000e+00j,  0.00000000e+00+0.00000000e+00j,\n",
      "              0.00000000e+00+0.00000000e+00j,  0.00000000e+00+0.00000000e+00j,  0.00000000e+00+0.00000000e+00j,  0.00000000e+00+0.00000000e+00j,  0.00000000e+00+0.00000000e+00j,\n",
      "              0.00000000e+00+0.00000000e+00j,  0.00000000e+00+0.00000000e+00j,  0.00000000e+00+0.00000000e+00j,  0.00000000e+00+0.00000000e+00j,  0.00000000e+00+0.00000000e+00j,\n",
      "              0.00000000e+00+0.00000000e+00j,  0.00000000e+00+0.00000000e+00j,  0.00000000e+00+0.00000000e+00j,  0.00000000e+00+0.00000000e+00j,  0.00000000e+00+0.00000000e+00j,\n",
      "              0.00000000e+00+0.00000000e+00j,  0.00000000e+00+0.00000000e+00j,  0.00000000e+00+0.00000000e+00j,  0.00000000e+00+0.00000000e+00j,  0.00000000e+00+0.00000000e+00j,\n",
      "              0.00000000e+00+0.00000000e+00j,  0.00000000e+00+0.00000000e+00j,  0.00000000e+00+0.00000000e+00j,  0.00000000e+00+0.00000000e+00j,  0.00000000e+00+0.00000000e+00j,\n",
      "              0.00000000e+00+0.00000000e+00j,  0.00000000e+00+0.00000000e+00j,  0.00000000e+00+0.00000000e+00j,  0.00000000e+00+0.00000000e+00j,  0.00000000e+00+0.00000000e+00j,\n",
      "              0.00000000e+00+0.00000000e+00j,  0.00000000e+00+0.00000000e+00j,  0.00000000e+00+0.00000000e+00j,  0.00000000e+00+0.00000000e+00j,  0.00000000e+00+0.00000000e+00j,\n",
      "              0.00000000e+00+0.00000000e+00j,  0.00000000e+00+0.00000000e+00j,  0.00000000e+00+0.00000000e+00j,  0.00000000e+00+0.00000000e+00j,  0.00000000e+00+0.00000000e+00j,\n",
      "              0.00000000e+00+0.00000000e+00j,  0.00000000e+00+0.00000000e+00j,  0.00000000e+00+0.00000000e+00j,  0.00000000e+00+0.00000000e+00j,  0.00000000e+00+0.00000000e+00j,\n",
      "              0.00000000e+00+0.00000000e+00j,  0.00000000e+00+0.00000000e+00j,  0.00000000e+00+0.00000000e+00j,  0.00000000e+00+0.00000000e+00j,  0.00000000e+00+0.00000000e+00j,\n",
      "              0.00000000e+00+0.00000000e+00j,  0.00000000e+00+0.00000000e+00j,  0.00000000e+00+0.00000000e+00j,  0.00000000e+00+0.00000000e+00j,  0.00000000e+00+0.00000000e+00j,\n",
      "              0.00000000e+00+0.00000000e+00j,  0.00000000e+00+0.00000000e+00j,  0.00000000e+00+0.00000000e+00j,  0.00000000e+00+0.00000000e+00j,  0.00000000e+00+0.00000000e+00j,\n",
      "              0.00000000e+00+0.00000000e+00j,  0.00000000e+00+0.00000000e+00j,  0.00000000e+00+0.00000000e+00j,  0.00000000e+00+0.00000000e+00j,  0.00000000e+00+0.00000000e+00j,\n",
      "              0.00000000e+00+0.00000000e+00j,  0.00000000e+00+0.00000000e+00j,  0.00000000e+00+0.00000000e+00j,  0.00000000e+00+0.00000000e+00j,  0.00000000e+00+0.00000000e+00j,\n",
      "              0.00000000e+00+0.00000000e+00j],\n",
      "            dims=(2, 2, 2, 2, 2, 2, 2, 2))\n"
     ]
    }
   ],
   "source": [
    "actual_state"
   ]
  },
  {
   "cell_type": "code",
   "execution_count": 38,
   "id": "7e93e1dc",
   "metadata": {},
   "outputs": [
    {
     "data": {
      "text/plain": [
       "{Qubit(QuantumRegister(8, 'q'), 0): ((0, Qubit(QuantumRegister(3, 'q'), 2)),\n",
       "  (1, Qubit(QuantumRegister(4, 'q'), 1)),\n",
       "  (0, Qubit(QuantumRegister(3, 'q'), 0))),\n",
       " Qubit(QuantumRegister(8, 'q'), 1): ((1, Qubit(QuantumRegister(4, 'q'), 2)),),\n",
       " Qubit(QuantumRegister(8, 'q'), 2): ((1, Qubit(QuantumRegister(4, 'q'), 3)),),\n",
       " Qubit(QuantumRegister(8, 'q'), 3): ((1, Qubit(QuantumRegister(4, 'q'), 0)),),\n",
       " Qubit(QuantumRegister(8, 'q'), 4): ((2, Qubit(QuantumRegister(3, 'q'), 0)),),\n",
       " Qubit(QuantumRegister(8, 'q'), 5): ((0, Qubit(QuantumRegister(3, 'q'), 1)),),\n",
       " Qubit(QuantumRegister(8, 'q'), 6): ((2, Qubit(QuantumRegister(3, 'q'), 1)),),\n",
       " Qubit(QuantumRegister(8, 'q'), 7): ((2, Qubit(QuantumRegister(3, 'q'), 2)),)}"
      ]
     },
     "execution_count": 38,
     "metadata": {},
     "output_type": "execute_result"
    }
   ],
   "source": [
    "wire_path_map"
   ]
  },
  {
   "cell_type": "code",
   "execution_count": 39,
   "id": "6a5762e7",
   "metadata": {},
   "outputs": [],
   "source": [
    "orign_qc = QuantumCircuit.from_qasm_file(\"qasm/vqe_LiH.qasm\")\n",
    "orign_qc.measure_all()"
   ]
  },
  {
   "cell_type": "code",
   "execution_count": 40,
   "id": "168341f6",
   "metadata": {},
   "outputs": [],
   "source": [
    "orign_qc = transpile(orign_qc, basis_gates = ['sx', 'cx', 'reset', 'id', 'x', 'rz'])"
   ]
  },
  {
   "cell_type": "code",
   "execution_count": 41,
   "id": "c3eb407d",
   "metadata": {},
   "outputs": [
    {
     "data": {
      "text/html": [
       "<pre style=\"word-wrap: normal;white-space: pre;background: #fff0;line-height: 1.1;font-family: &quot;Courier New&quot;,Courier,monospace\">global phase: π/2\n",
       "        ┌────┐┌──────────────┐┌────┐                  ┌────┐  ┌────────────┐»\n",
       "   q_0: ┤ √X ├┤ Rz(0.003534) ├┤ √X ├────────────■─────┤ √X ├──┤ Rz(3.1379) ├»\n",
       "        ├────┤└┬────────────┬┘├────┤┌────────┐┌─┴─┐┌──┴────┴─┐└───┬────┬───┘»\n",
       "   q_1: ┤ √X ├─┤ Rz(1.5867) ├─┤ √X ├┤ Rz(-π) ├┤ X ├┤ Rz(π/2) ├────┤ √X ├────»\n",
       "        ├────┤ ├────────────┤ ├────┤└────────┘└───┘└─────────┘    └────┘    »\n",
       "   q_2: ┤ √X ├─┤ Rz(1.5746) ├─┤ √X ├────────────────────────────────────────»\n",
       "        ├────┤ ├────────────┤ ├────┤                                        »\n",
       "   q_3: ┤ √X ├─┤ Rz(1.5509) ├─┤ √X ├────────────────────────────────────────»\n",
       "        └────┘ └────────────┘ └────┘                                        »\n",
       "meas_0: ════════════════════════════════════════════════════════════════════»\n",
       "                                                                            »\n",
       "meas_1: ════════════════════════════════════════════════════════════════════»\n",
       "                                                                            »\n",
       "meas_2: ════════════════════════════════════════════════════════════════════»\n",
       "                                                                            »\n",
       "meas_3: ════════════════════════════════════════════════════════════════════»\n",
       "                                                                            »\n",
       "«           ┌────┐  ┌────────┐                                              »\n",
       "«   q_0: ───┤ √X ├──┤ Rz(-π) ├──────────────────────────────────────────────»\n",
       "«        ┌──┴────┴─┐└────────┘   ┌────┐  ┌────────────┐   ┌────┐  ┌────────┐»\n",
       "«   q_1: ┤ Rz(π/2) ├────■────────┤ √X ├──┤ Rz(3.1258) ├───┤ √X ├──┤ Rz(-π) ├»\n",
       "«        └─────────┘  ┌─┴─┐   ┌──┴────┴─┐└───┬────┬───┘┌──┴────┴─┐└────────┘»\n",
       "«   q_2: ─────────────┤ X ├───┤ Rz(π/2) ├────┤ √X ├────┤ Rz(π/2) ├────■─────»\n",
       "«                     └───┘   └─────────┘    └────┘    └─────────┘  ┌─┴─┐   »\n",
       "«   q_3: ───────────────────────────────────────────────────────────┤ X ├───»\n",
       "«                                                                   └───┘   »\n",
       "«meas_0: ═══════════════════════════════════════════════════════════════════»\n",
       "«                                                                           »\n",
       "«meas_1: ═══════════════════════════════════════════════════════════════════»\n",
       "«                                                                           »\n",
       "«meas_2: ═══════════════════════════════════════════════════════════════════»\n",
       "«                                                                           »\n",
       "«meas_3: ═══════════════════════════════════════════════════════════════════»\n",
       "«                                                                           »\n",
       "«                                                    ░ ┌─┐         \n",
       "«   q_0: ────────────────────────────────────────────░─┤M├─────────\n",
       "«                                                    ░ └╥┘┌─┐      \n",
       "«   q_1: ────────────────────────────────────────────░──╫─┤M├──────\n",
       "«        ┌────────┐    ┌────┐    ┌───────────┐┌────┐ ░  ║ └╥┘┌─┐   \n",
       "«   q_2: ┤ Rz(-π) ├────┤ √X ├────┤ Rz(3.138) ├┤ √X ├─░──╫──╫─┤M├───\n",
       "«        └─┬────┬─┘┌───┴────┴───┐└───┬────┬──┘└────┘ ░  ║  ║ └╥┘┌─┐\n",
       "«   q_3: ──┤ √X ├──┤ Rz(1.5509) ├────┤ √X ├──────────░──╫──╫──╫─┤M├\n",
       "«          └────┘  └────────────┘    └────┘          ░  ║  ║  ║ └╥┘\n",
       "«meas_0: ═══════════════════════════════════════════════╩══╬══╬══╬═\n",
       "«                                                          ║  ║  ║ \n",
       "«meas_1: ══════════════════════════════════════════════════╩══╬══╬═\n",
       "«                                                             ║  ║ \n",
       "«meas_2: ═════════════════════════════════════════════════════╩══╬═\n",
       "«                                                                ║ \n",
       "«meas_3: ════════════════════════════════════════════════════════╩═\n",
       "«                                                                  </pre>"
      ],
      "text/plain": [
       "global phase: π/2\n",
       "        ┌────┐┌──────────────┐┌────┐                  ┌────┐  ┌────────────┐»\n",
       "   q_0: ┤ √X ├┤ Rz(0.003534) ├┤ √X ├────────────■─────┤ √X ├──┤ Rz(3.1379) ├»\n",
       "        ├────┤└┬────────────┬┘├────┤┌────────┐┌─┴─┐┌──┴────┴─┐└───┬────┬───┘»\n",
       "   q_1: ┤ √X ├─┤ Rz(1.5867) ├─┤ √X ├┤ Rz(-π) ├┤ X ├┤ Rz(π/2) ├────┤ √X ├────»\n",
       "        ├────┤ ├────────────┤ ├────┤└────────┘└───┘└─────────┘    └────┘    »\n",
       "   q_2: ┤ √X ├─┤ Rz(1.5746) ├─┤ √X ├────────────────────────────────────────»\n",
       "        ├────┤ ├────────────┤ ├────┤                                        »\n",
       "   q_3: ┤ √X ├─┤ Rz(1.5509) ├─┤ √X ├────────────────────────────────────────»\n",
       "        └────┘ └────────────┘ └────┘                                        »\n",
       "meas_0: ════════════════════════════════════════════════════════════════════»\n",
       "                                                                            »\n",
       "meas_1: ════════════════════════════════════════════════════════════════════»\n",
       "                                                                            »\n",
       "meas_2: ════════════════════════════════════════════════════════════════════»\n",
       "                                                                            »\n",
       "meas_3: ════════════════════════════════════════════════════════════════════»\n",
       "                                                                            »\n",
       "«           ┌────┐  ┌────────┐                                              »\n",
       "«   q_0: ───┤ √X ├──┤ Rz(-π) ├──────────────────────────────────────────────»\n",
       "«        ┌──┴────┴─┐└────────┘   ┌────┐  ┌────────────┐   ┌────┐  ┌────────┐»\n",
       "«   q_1: ┤ Rz(π/2) ├────■────────┤ √X ├──┤ Rz(3.1258) ├───┤ √X ├──┤ Rz(-π) ├»\n",
       "«        └─────────┘  ┌─┴─┐   ┌──┴────┴─┐└───┬────┬───┘┌──┴────┴─┐└────────┘»\n",
       "«   q_2: ─────────────┤ X ├───┤ Rz(π/2) ├────┤ √X ├────┤ Rz(π/2) ├────■─────»\n",
       "«                     └───┘   └─────────┘    └────┘    └─────────┘  ┌─┴─┐   »\n",
       "«   q_3: ───────────────────────────────────────────────────────────┤ X ├───»\n",
       "«                                                                   └───┘   »\n",
       "«meas_0: ═══════════════════════════════════════════════════════════════════»\n",
       "«                                                                           »\n",
       "«meas_1: ═══════════════════════════════════════════════════════════════════»\n",
       "«                                                                           »\n",
       "«meas_2: ═══════════════════════════════════════════════════════════════════»\n",
       "«                                                                           »\n",
       "«meas_3: ═══════════════════════════════════════════════════════════════════»\n",
       "«                                                                           »\n",
       "«                                                    ░ ┌─┐         \n",
       "«   q_0: ────────────────────────────────────────────░─┤M├─────────\n",
       "«                                                    ░ └╥┘┌─┐      \n",
       "«   q_1: ────────────────────────────────────────────░──╫─┤M├──────\n",
       "«        ┌────────┐    ┌────┐    ┌───────────┐┌────┐ ░  ║ └╥┘┌─┐   \n",
       "«   q_2: ┤ Rz(-π) ├────┤ √X ├────┤ Rz(3.138) ├┤ √X ├─░──╫──╫─┤M├───\n",
       "«        └─┬────┬─┘┌───┴────┴───┐└───┬────┬──┘└────┘ ░  ║  ║ └╥┘┌─┐\n",
       "«   q_3: ──┤ √X ├──┤ Rz(1.5509) ├────┤ √X ├──────────░──╫──╫──╫─┤M├\n",
       "«          └────┘  └────────────┘    └────┘          ░  ║  ║  ║ └╥┘\n",
       "«meas_0: ═══════════════════════════════════════════════╩══╬══╬══╬═\n",
       "«                                                          ║  ║  ║ \n",
       "«meas_1: ══════════════════════════════════════════════════╩══╬══╬═\n",
       "«                                                             ║  ║ \n",
       "«meas_2: ═════════════════════════════════════════════════════╩══╬═\n",
       "«                                                                ║ \n",
       "«meas_3: ════════════════════════════════════════════════════════╩═\n",
       "«                                                                  "
      ]
     },
     "execution_count": 41,
     "metadata": {},
     "output_type": "execute_result"
    }
   ],
   "source": [
    "orign_qc.draw()"
   ]
  },
  {
   "cell_type": "code",
   "execution_count": 42,
   "id": "1d356082",
   "metadata": {},
   "outputs": [
    {
     "data": {
      "text/plain": [
       "3"
      ]
     },
     "execution_count": 42,
     "metadata": {},
     "output_type": "execute_result"
    }
   ],
   "source": [
    "len(fragments)"
   ]
  },
  {
   "cell_type": "code",
   "execution_count": 43,
   "id": "3854951e",
   "metadata": {},
   "outputs": [],
   "source": [
    "temp_frag_data = [0] * len(fragments)"
   ]
  },
  {
   "cell_type": "code",
   "execution_count": 44,
   "id": "b018e1fa",
   "metadata": {},
   "outputs": [
    {
     "data": {
      "text/html": [
       "<pre style=\"word-wrap: normal;white-space: pre;background: #fff0;line-height: 1.1;font-family: &quot;Courier New&quot;,Courier,monospace\">                                           ┌────┐┌────────────┐┌────┐┌────────┐\n",
       "q_0: ───────────────────────────────────■──┤ √X ├┤ Rz(3.1379) ├┤ √X ├┤ Rz(-π) ├\n",
       "                                 ┌───┐┌─┴─┐└────┘└────────────┘└────┘└────────┘\n",
       "q_1: ────────────────────────────┤ X ├┤ X ├────────────────────────────────────\n",
       "     ┌────┐┌──────────────┐┌────┐└─┬─┘└───┘                                    \n",
       "q_2: ┤ √X ├┤ Rz(0.003534) ├┤ √X ├──■───────────────────────────────────────────\n",
       "     └────┘└──────────────┘└────┘                                              </pre>"
      ],
      "text/plain": [
       "                                           ┌────┐┌────────────┐┌────┐┌────────┐\n",
       "q_0: ───────────────────────────────────■──┤ √X ├┤ Rz(3.1379) ├┤ √X ├┤ Rz(-π) ├\n",
       "                                 ┌───┐┌─┴─┐└────┘└────────────┘└────┘└────────┘\n",
       "q_1: ────────────────────────────┤ X ├┤ X ├────────────────────────────────────\n",
       "     ┌────┐┌──────────────┐┌────┐└─┬─┘└───┘                                    \n",
       "q_2: ┤ √X ├┤ Rz(0.003534) ├┤ √X ├──■───────────────────────────────────────────\n",
       "     └────┘└──────────────┘└────┘                                              "
      ]
     },
     "execution_count": 44,
     "metadata": {},
     "output_type": "execute_result"
    }
   ],
   "source": [
    "fragments[0].draw()"
   ]
  },
  {
   "cell_type": "code",
   "execution_count": 45,
   "id": "6ff5ae5d",
   "metadata": {},
   "outputs": [
    {
     "data": {
      "text/html": [
       "<pre style=\"word-wrap: normal;white-space: pre;background: #fff0;line-height: 1.1;font-family: &quot;Courier New&quot;,Courier,monospace\">     ┌────┐┌────────────┐┌────┐                                                »\n",
       "q_0: ┤ √X ├┤ Rz(1.5509) ├┤ √X ├────────────────────────────────────────────────»\n",
       "     └────┘└────────────┘└────┘                                                »\n",
       "q_1: ──────────────────────────────────────■───────────────────────────────────»\n",
       "     ┌────┐┌────────────┐┌────┐┌────────┐┌─┴─┐┌─────────┐┌────┐┌─────────┐     »\n",
       "q_2: ┤ √X ├┤ Rz(1.5867) ├┤ √X ├┤ Rz(-π) ├┤ X ├┤ Rz(π/2) ├┤ √X ├┤ Rz(π/2) ├──■──»\n",
       "     ├────┤├────────────┤├────┤└────────┘└───┘└─────────┘└────┘└─────────┘┌─┴─┐»\n",
       "q_3: ┤ √X ├┤ Rz(1.5746) ├┤ √X ├───────────────────────────────────────────┤ X ├»\n",
       "     └────┘└────────────┘└────┘                                           └───┘»\n",
       "«                                                   ┌───┐  ┌────┐  »\n",
       "«q_0: ──────────────────────────────────────────────┤ X ├──┤ √X ├──»\n",
       "«                                                   └─┬─┘  └────┘  »\n",
       "«q_1: ────────────────────────────────────────────────┼────────────»\n",
       "«        ┌────┐  ┌────────────┐   ┌────┐  ┌────────┐  │            »\n",
       "«q_2: ───┤ √X ├──┤ Rz(3.1258) ├───┤ √X ├──┤ Rz(-π) ├──┼────────────»\n",
       "«     ┌──┴────┴─┐└───┬────┬───┘┌──┴────┴─┐└────────┘  │  ┌────────┐»\n",
       "«q_3: ┤ Rz(π/2) ├────┤ √X ├────┤ Rz(π/2) ├────────────■──┤ Rz(-π) ├»\n",
       "«     └─────────┘    └────┘    └─────────┘               └────────┘»\n",
       "«     ┌────────────┐    ┌────┐         \n",
       "«q_0: ┤ Rz(1.5509) ├────┤ √X ├─────────\n",
       "«     └────────────┘    └────┘         \n",
       "«q_1: ─────────────────────────────────\n",
       "«                                      \n",
       "«q_2: ─────────────────────────────────\n",
       "«         ┌────┐    ┌───────────┐┌────┐\n",
       "«q_3: ────┤ √X ├────┤ Rz(3.138) ├┤ √X ├\n",
       "«         └────┘    └───────────┘└────┘</pre>"
      ],
      "text/plain": [
       "     ┌────┐┌────────────┐┌────┐                                                »\n",
       "q_0: ┤ √X ├┤ Rz(1.5509) ├┤ √X ├────────────────────────────────────────────────»\n",
       "     └────┘└────────────┘└────┘                                                »\n",
       "q_1: ──────────────────────────────────────■───────────────────────────────────»\n",
       "     ┌────┐┌────────────┐┌────┐┌────────┐┌─┴─┐┌─────────┐┌────┐┌─────────┐     »\n",
       "q_2: ┤ √X ├┤ Rz(1.5867) ├┤ √X ├┤ Rz(-π) ├┤ X ├┤ Rz(π/2) ├┤ √X ├┤ Rz(π/2) ├──■──»\n",
       "     ├────┤├────────────┤├────┤└────────┘└───┘└─────────┘└────┘└─────────┘┌─┴─┐»\n",
       "q_3: ┤ √X ├┤ Rz(1.5746) ├┤ √X ├───────────────────────────────────────────┤ X ├»\n",
       "     └────┘└────────────┘└────┘                                           └───┘»\n",
       "«                                                   ┌───┐  ┌────┐  »\n",
       "«q_0: ──────────────────────────────────────────────┤ X ├──┤ √X ├──»\n",
       "«                                                   └─┬─┘  └────┘  »\n",
       "«q_1: ────────────────────────────────────────────────┼────────────»\n",
       "«        ┌────┐  ┌────────────┐   ┌────┐  ┌────────┐  │            »\n",
       "«q_2: ───┤ √X ├──┤ Rz(3.1258) ├───┤ √X ├──┤ Rz(-π) ├──┼────────────»\n",
       "«     ┌──┴────┴─┐└───┬────┬───┘┌──┴────┴─┐└────────┘  │  ┌────────┐»\n",
       "«q_3: ┤ Rz(π/2) ├────┤ √X ├────┤ Rz(π/2) ├────────────■──┤ Rz(-π) ├»\n",
       "«     └─────────┘    └────┘    └─────────┘               └────────┘»\n",
       "«     ┌────────────┐    ┌────┐         \n",
       "«q_0: ┤ Rz(1.5509) ├────┤ √X ├─────────\n",
       "«     └────────────┘    └────┘         \n",
       "«q_1: ─────────────────────────────────\n",
       "«                                      \n",
       "«q_2: ─────────────────────────────────\n",
       "«         ┌────┐    ┌───────────┐┌────┐\n",
       "«q_3: ────┤ √X ├────┤ Rz(3.138) ├┤ √X ├\n",
       "«         └────┘    └───────────┘└────┘"
      ]
     },
     "execution_count": 45,
     "metadata": {},
     "output_type": "execute_result"
    }
   ],
   "source": [
    "fragments[1].draw()"
   ]
  },
  {
   "cell_type": "code",
   "execution_count": 130,
   "id": "199571c0",
   "metadata": {},
   "outputs": [],
   "source": [
    "import qiskit.ignis.verification as vf"
   ]
  },
  {
   "cell_type": "code",
   "execution_count": 46,
   "id": "95d3f139",
   "metadata": {},
   "outputs": [],
   "source": [
    "hardware_index = 1"
   ]
  },
  {
   "cell_type": "code",
   "execution_count": null,
   "id": "9c375f92",
   "metadata": {},
   "outputs": [
    {
     "name": "stdout",
     "output_type": "stream",
     "text": [
      "Job Status: job has successfully run\n",
      "job_id:  878b0de5-94c8-4c9b-bb1c-e174804122b5\n",
      "Job Status: job is queued (3)     "
     ]
    }
   ],
   "source": [
    "for i in range(0, len(fragments)):\n",
    "    if i == hardware_index:\n",
    "        temp_frag_data[i] = ml.collect_fragment_raw_data(fragments[i], i, wire_path_map,\n",
    "                                     shots = shots // total_variants,\n",
    "                                     tomography_backend = device, initial_layout = [15,14,13,12], opt_lvl = 3, extra_qc = [orign_qc])\n",
    "    else:\n",
    "        temp_frag_data[i] = ml.collect_fragment_raw_data(fragments[i], i, wire_path_map,\n",
    "                                     shots = shots // total_variants,\n",
    "                                     tomography_backend = simulation_backend)"
   ]
  },
  {
   "cell_type": "code",
   "execution_count": null,
   "id": "77ce4f90",
   "metadata": {},
   "outputs": [],
   "source": [
    "frag_targets = ml.identify_frag_targets(wire_path_map)"
   ]
  },
  {
   "cell_type": "code",
   "execution_count": null,
   "id": "dc46027a",
   "metadata": {},
   "outputs": [],
   "source": [
    "frag_data = []\n",
    "for i in range(0, len(fragments)):\n",
    "    extra_list = []\n",
    "    if i == hardware_index:\n",
    "        extra_list = [orign_qc]\n",
    "    frag_data.append(ml.organize_tomography_data(temp_frag_data[i][0],\n",
    "                                      frag_targets[i].get(\"prep\"),\n",
    "                                      frag_targets[i].get(\"meas\"),\n",
    "                                      prep_basis = \"SIC\", extra_qc = extra_list))"
   ]
  },
  {
   "cell_type": "code",
   "execution_count": null,
   "id": "76b00b81",
   "metadata": {},
   "outputs": [],
   "source": [
    "len(frag_data)"
   ]
  },
  {
   "cell_type": "code",
   "execution_count": null,
   "id": "029b42f7",
   "metadata": {},
   "outputs": [],
   "source": [
    "frag_data[1]"
   ]
  },
  {
   "cell_type": "code",
   "execution_count": null,
   "id": "6d6c25ac",
   "metadata": {},
   "outputs": [],
   "source": [
    "# frag_data = [ml.organize_tomography_data(temp_frag_data[0][0],\n",
    "#                                       frag_targets[0].get(\"prep\"),\n",
    "#                                       frag_targets[0].get(\"meas\"),\n",
    "#                                       prep_basis = \"SIC\", extra_qc = [orign_qc])]\n",
    "# for i in range(1, len(fragments)):\n",
    "#     frag_data.append(ml.organize_tomography_data(temp_frag_data[i][0],\n",
    "#                                       frag_targets[i].get(\"prep\"),\n",
    "#                                       frag_targets[i].get(\"meas\"),\n",
    "#                                       prep_basis = \"SIC\", extra_qc = []))"
   ]
  },
  {
   "cell_type": "code",
   "execution_count": null,
   "id": "f2ea4460",
   "metadata": {},
   "outputs": [],
   "source": [
    "for final_bits, fixed_bit_data in frag_data[0].items():\n",
    "    prep_meas_states, state_counts = zip(*fixed_bit_data.items())\n",
    "    prep_labels, meas_labels = zip(*prep_meas_states)\n",
    "    prep_qubit_num = len(prep_labels[0])\n",
    "    meas_qubit_num = len(meas_labels[0])\n",
    "    print(prep_qubit_num)"
   ]
  },
  {
   "cell_type": "code",
   "execution_count": null,
   "id": "99930b5d",
   "metadata": {},
   "outputs": [],
   "source": [
    "direct_models = ml.direct_fragment_model(frag_data)\n",
    "likely_models = ml.maximum_likelihood_model(direct_models)\n",
    "\n",
    "direct_recombined_dist = ml.recombine_fragment_models(direct_models, wire_path_map)\n",
    "likely_recombined_dist = ml.recombine_fragment_models(likely_models, wire_path_map)"
   ]
  },
  {
   "cell_type": "code",
   "execution_count": null,
   "id": "352352e2",
   "metadata": {},
   "outputs": [],
   "source": []
  },
  {
   "cell_type": "code",
   "execution_count": null,
   "id": "b689bf9b",
   "metadata": {},
   "outputs": [],
   "source": [
    "direct_recombined_dist"
   ]
  },
  {
   "cell_type": "code",
   "execution_count": null,
   "id": "13b192fc",
   "metadata": {},
   "outputs": [],
   "source": [
    "likely_recombined_dist"
   ]
  },
  {
   "cell_type": "code",
   "execution_count": null,
   "id": "5dbabd0b",
   "metadata": {},
   "outputs": [],
   "source": []
  },
  {
   "cell_type": "code",
   "execution_count": null,
   "id": "04be761c",
   "metadata": {},
   "outputs": [],
   "source": [
    "from utils.utils import filter_results"
   ]
  },
  {
   "cell_type": "code",
   "execution_count": null,
   "id": "9df8b215",
   "metadata": {},
   "outputs": [],
   "source": [
    "filter_direct_recombined = filter_results(direct_recombined_dist, [0,1,2,3])"
   ]
  },
  {
   "cell_type": "code",
   "execution_count": null,
   "id": "ef48375a",
   "metadata": {},
   "outputs": [],
   "source": [
    "filter_direct_recombined"
   ]
  },
  {
   "cell_type": "code",
   "execution_count": null,
   "id": "246437c1",
   "metadata": {},
   "outputs": [],
   "source": [
    "filter_likely_recombined = filter_results(likely_recombined_dist, [0,1,2,3])"
   ]
  },
  {
   "cell_type": "code",
   "execution_count": null,
   "id": "a8fe450d",
   "metadata": {},
   "outputs": [],
   "source": [
    "filter_likely_recombined"
   ]
  },
  {
   "cell_type": "code",
   "execution_count": null,
   "id": "5fab80f3",
   "metadata": {},
   "outputs": [],
   "source": [
    "def norm_dict(dictionary):\n",
    "    total = total_counts(dictionary)\n",
    "    norm_dist = {}\n",
    "    for i in dictionary.keys():\n",
    "        norm_dist[i] = dictionary[i]/total\n",
    "    return norm_dist"
   ]
  },
  {
   "cell_type": "code",
   "execution_count": null,
   "id": "f05e0129",
   "metadata": {},
   "outputs": [],
   "source": [
    "unmiti_dist = temp_frag_data[1][0][0].get_counts()[-1]\n",
    "unmiti_dist"
   ]
  },
  {
   "cell_type": "code",
   "execution_count": null,
   "id": "1e8284f8",
   "metadata": {},
   "outputs": [],
   "source": [
    "unmiti_norm_dist = norm_dict(unmiti_dist)"
   ]
  },
  {
   "cell_type": "code",
   "execution_count": null,
   "id": "a724f3dd",
   "metadata": {},
   "outputs": [],
   "source": [
    "norm_filter_dist = norm_dict(filter_likely_recombined)"
   ]
  },
  {
   "cell_type": "code",
   "execution_count": null,
   "id": "c2138c6d",
   "metadata": {},
   "outputs": [],
   "source": [
    "unmiti_norm_dist['0011']"
   ]
  },
  {
   "cell_type": "code",
   "execution_count": null,
   "id": "81d6bc37",
   "metadata": {},
   "outputs": [],
   "source": [
    "likely_recombined_dist['00000011']"
   ]
  },
  {
   "cell_type": "code",
   "execution_count": null,
   "id": "3287adab",
   "metadata": {},
   "outputs": [],
   "source": [
    "#normalized distribution after mitigation: 0.9189375->0.9286796265616319\n",
    "norm_filter_dist['0011']"
   ]
  },
  {
   "cell_type": "code",
   "execution_count": null,
   "id": "9b10b83e",
   "metadata": {},
   "outputs": [],
   "source": [
    "norm_filter_dist"
   ]
  },
  {
   "cell_type": "code",
   "execution_count": null,
   "id": "7e67de89",
   "metadata": {},
   "outputs": [],
   "source": [
    "total_counts(unmiti_dist)"
   ]
  },
  {
   "cell_type": "code",
   "execution_count": null,
   "id": "95574397",
   "metadata": {},
   "outputs": [],
   "source": [
    "unmiti_norm_dist = {}\n",
    "for i in unmiti_dist.keys():\n",
    "    unmiti_norm_dist[i] = unmiti_dist[i]/total_counts(unmiti_dist)"
   ]
  },
  {
   "cell_type": "code",
   "execution_count": null,
   "id": "abb7b782",
   "metadata": {},
   "outputs": [],
   "source": [
    "unmiti_norm_dist"
   ]
  },
  {
   "cell_type": "code",
   "execution_count": null,
   "id": "29dbbc7a",
   "metadata": {},
   "outputs": [],
   "source": []
  },
  {
   "cell_type": "code",
   "execution_count": null,
   "id": "885a8632",
   "metadata": {},
   "outputs": [],
   "source": []
  },
  {
   "cell_type": "code",
   "execution_count": null,
   "id": "9519a9a1",
   "metadata": {},
   "outputs": [],
   "source": []
  },
  {
   "cell_type": "code",
   "execution_count": null,
   "id": "0b70a6cd",
   "metadata": {},
   "outputs": [],
   "source": []
  },
  {
   "cell_type": "code",
   "execution_count": null,
   "id": "94ee70ae",
   "metadata": {},
   "outputs": [],
   "source": []
  },
  {
   "cell_type": "code",
   "execution_count": null,
   "id": "f13268e0",
   "metadata": {},
   "outputs": [],
   "source": []
  }
 ],
 "metadata": {
  "kernelspec": {
   "display_name": "Python 3 (ipykernel)",
   "language": "python",
   "name": "python3"
  },
  "language_info": {
   "codemirror_mode": {
    "name": "ipython",
    "version": 3
   },
   "file_extension": ".py",
   "mimetype": "text/x-python",
   "name": "python",
   "nbconvert_exporter": "python",
   "pygments_lexer": "ipython3",
   "version": "3.8.13"
  }
 },
 "nbformat": 4,
 "nbformat_minor": 5
}
