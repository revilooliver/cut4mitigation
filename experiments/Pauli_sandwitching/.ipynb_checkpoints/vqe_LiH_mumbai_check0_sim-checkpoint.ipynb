{
 "cells": [
  {
   "cell_type": "code",
   "execution_count": 1,
   "id": "4b4d55ee",
   "metadata": {},
   "outputs": [],
   "source": [
    "import os\n",
    "import sys\n",
    "module_path = os.path.abspath(os.path.join('../..'))\n",
    "if module_path not in sys.path:\n",
    "    sys.path.append(module_path)"
   ]
  },
  {
   "cell_type": "code",
   "execution_count": 2,
   "id": "050ec390",
   "metadata": {},
   "outputs": [],
   "source": [
    "# author: Ji Liu email: ji.liu@anl.gov\n",
    "\n",
    "import itertools, numpy\n",
    "import circuit_cutter\n",
    "import mlrecon_methods as ml\n",
    "import numpy as np\n",
    "\n",
    "import qiskit\n",
    "from qiskit import *\n",
    "from qiskit import QuantumCircuit, QuantumRegister, ClassicalRegister, Aer, execute, transpile\n",
    "\n",
    "from qiskit.transpiler import PassManager\n",
    "\n",
    "from qiskit.converters import circuit_to_dag\n",
    "from qiskit.visualization import dag_drawer, plot_histogram\n",
    "from qiskit.compiler import assemble\n",
    "\n",
    "from qiskit.tools.monitor import job_monitor, backend_monitor, backend_overview\n",
    "\n",
    "import qiskit.providers.aer.noise as noise\n",
    "from qiskit.providers.aer.noise import NoiseModel\n",
    "\n",
    "from utils.utils import filter_results, dict_to_list, H_distance, total_counts"
   ]
  },
  {
   "cell_type": "code",
   "execution_count": 3,
   "id": "0ab21beb",
   "metadata": {},
   "outputs": [
    {
     "data": {
      "text/plain": [
       "{'qiskit-terra': '0.22.2', 'qiskit-aer': '0.11.1', 'qiskit-ignis': '0.7.1', 'qiskit-ibmq-provider': '0.19.2', 'qiskit': '0.39.2', 'qiskit-nature': None, 'qiskit-finance': None, 'qiskit-optimization': None, 'qiskit-machine-learning': None}"
      ]
     },
     "execution_count": 3,
     "metadata": {},
     "output_type": "execute_result"
    }
   ],
   "source": [
    "qiskit.__qiskit_version__"
   ]
  },
  {
   "cell_type": "code",
   "execution_count": 4,
   "id": "da4a5c76",
   "metadata": {},
   "outputs": [],
   "source": [
    "numpy.set_printoptions(linewidth = 200)\n",
    "\n",
    "qubits = 5\n",
    "\n",
    "simulation_backend = \"qasm_simulator\"\n",
    "\n",
    "seed = 0\n",
    "print_circuits = True"
   ]
  },
  {
   "cell_type": "code",
   "execution_count": 5,
   "id": "cc3edfd5",
   "metadata": {},
   "outputs": [
    {
     "data": {
      "text/plain": [
       "[<IBMQSimulator('ibmq_qasm_simulator') from IBMQ(hub='ibm-q-ornl', group='ornl', project='chm185')>,\n",
       " <IBMQBackend('ibmq_montreal') from IBMQ(hub='ibm-q-ornl', group='ornl', project='chm185')>,\n",
       " <IBMQBackend('ibmq_toronto') from IBMQ(hub='ibm-q-ornl', group='ornl', project='chm185')>,\n",
       " <IBMQBackend('ibmq_kolkata') from IBMQ(hub='ibm-q-ornl', group='ornl', project='chm185')>,\n",
       " <IBMQBackend('ibmq_mumbai') from IBMQ(hub='ibm-q-ornl', group='ornl', project='chm185')>,\n",
       " <IBMQBackend('ibmq_lima') from IBMQ(hub='ibm-q-ornl', group='ornl', project='chm185')>,\n",
       " <IBMQBackend('ibmq_belem') from IBMQ(hub='ibm-q-ornl', group='ornl', project='chm185')>,\n",
       " <IBMQBackend('ibmq_quito') from IBMQ(hub='ibm-q-ornl', group='ornl', project='chm185')>,\n",
       " <IBMQBackend('ibmq_guadalupe') from IBMQ(hub='ibm-q-ornl', group='ornl', project='chm185')>,\n",
       " <IBMQSimulator('simulator_statevector') from IBMQ(hub='ibm-q-ornl', group='ornl', project='chm185')>,\n",
       " <IBMQSimulator('simulator_mps') from IBMQ(hub='ibm-q-ornl', group='ornl', project='chm185')>,\n",
       " <IBMQSimulator('simulator_extended_stabilizer') from IBMQ(hub='ibm-q-ornl', group='ornl', project='chm185')>,\n",
       " <IBMQSimulator('simulator_stabilizer') from IBMQ(hub='ibm-q-ornl', group='ornl', project='chm185')>,\n",
       " <IBMQBackend('ibmq_jakarta') from IBMQ(hub='ibm-q-ornl', group='ornl', project='chm185')>,\n",
       " <IBMQBackend('ibmq_manila') from IBMQ(hub='ibm-q-ornl', group='ornl', project='chm185')>,\n",
       " <IBMQBackend('ibm_hanoi') from IBMQ(hub='ibm-q-ornl', group='ornl', project='chm185')>,\n",
       " <IBMQBackend('ibm_cairo') from IBMQ(hub='ibm-q-ornl', group='ornl', project='chm185')>,\n",
       " <IBMQBackend('ibm_auckland') from IBMQ(hub='ibm-q-ornl', group='ornl', project='chm185')>,\n",
       " <IBMQBackend('ibm_washington') from IBMQ(hub='ibm-q-ornl', group='ornl', project='chm185')>,\n",
       " <IBMQBackend('ibm_geneva') from IBMQ(hub='ibm-q-ornl', group='ornl', project='chm185')>]"
      ]
     },
     "execution_count": 5,
     "metadata": {},
     "output_type": "execute_result"
    }
   ],
   "source": [
    "IBMQ.load_account()\n",
    "provider = IBMQ.get_provider(hub='ibm-q-ornl', group='ornl', project='chm185')\n",
    "provider.backends()"
   ]
  },
  {
   "cell_type": "code",
   "execution_count": 6,
   "id": "97f1be7e",
   "metadata": {},
   "outputs": [
    {
     "data": {
      "text/plain": [
       "<IBMQBackend('ibmq_guadalupe') from IBMQ(hub='ibm-q-ornl', group='ornl', project='chm185')>"
      ]
     },
     "execution_count": 6,
     "metadata": {},
     "output_type": "execute_result"
    }
   ],
   "source": [
    "device = provider.get_backend('ibmq_guadalupe')\n",
    "device"
   ]
  },
  {
   "cell_type": "code",
   "execution_count": 7,
   "id": "5861b771",
   "metadata": {},
   "outputs": [
    {
     "name": "stdout",
     "output_type": "stream",
     "text": [
      "ibmq_guadalupe\n",
      "==============\n",
      "Configuration\n",
      "-------------\n",
      "    n_qubits: 16\n",
      "    operational: True\n",
      "    status_msg: active\n",
      "    pending_jobs: 263\n",
      "    backend_version: 1.3.29\n",
      "    basis_gates: ['id', 'rz', 'sx', 'x', 'cx', 'reset']\n",
      "    local: False\n",
      "    simulator: False\n",
      "    default_rep_delay: 250.0\n",
      "    channels: {'acquire0': {'operates': {'qubits': [0]}, 'purpose': 'acquire', 'type': 'acquire'}, 'acquire1': {'operates': {'qubits': [1]}, 'purpose': 'acquire', 'type': 'acquire'}, 'acquire10': {'operates': {'qubits': [10]}, 'purpose': 'acquire', 'type': 'acquire'}, 'acquire11': {'operates': {'qubits': [11]}, 'purpose': 'acquire', 'type': 'acquire'}, 'acquire12': {'operates': {'qubits': [12]}, 'purpose': 'acquire', 'type': 'acquire'}, 'acquire13': {'operates': {'qubits': [13]}, 'purpose': 'acquire', 'type': 'acquire'}, 'acquire14': {'operates': {'qubits': [14]}, 'purpose': 'acquire', 'type': 'acquire'}, 'acquire15': {'operates': {'qubits': [15]}, 'purpose': 'acquire', 'type': 'acquire'}, 'acquire2': {'operates': {'qubits': [2]}, 'purpose': 'acquire', 'type': 'acquire'}, 'acquire3': {'operates': {'qubits': [3]}, 'purpose': 'acquire', 'type': 'acquire'}, 'acquire4': {'operates': {'qubits': [4]}, 'purpose': 'acquire', 'type': 'acquire'}, 'acquire5': {'operates': {'qubits': [5]}, 'purpose': 'acquire', 'type': 'acquire'}, 'acquire6': {'operates': {'qubits': [6]}, 'purpose': 'acquire', 'type': 'acquire'}, 'acquire7': {'operates': {'qubits': [7]}, 'purpose': 'acquire', 'type': 'acquire'}, 'acquire8': {'operates': {'qubits': [8]}, 'purpose': 'acquire', 'type': 'acquire'}, 'acquire9': {'operates': {'qubits': [9]}, 'purpose': 'acquire', 'type': 'acquire'}, 'd0': {'operates': {'qubits': [0]}, 'purpose': 'drive', 'type': 'drive'}, 'd1': {'operates': {'qubits': [1]}, 'purpose': 'drive', 'type': 'drive'}, 'd10': {'operates': {'qubits': [10]}, 'purpose': 'drive', 'type': 'drive'}, 'd11': {'operates': {'qubits': [11]}, 'purpose': 'drive', 'type': 'drive'}, 'd12': {'operates': {'qubits': [12]}, 'purpose': 'drive', 'type': 'drive'}, 'd13': {'operates': {'qubits': [13]}, 'purpose': 'drive', 'type': 'drive'}, 'd14': {'operates': {'qubits': [14]}, 'purpose': 'drive', 'type': 'drive'}, 'd15': {'operates': {'qubits': [15]}, 'purpose': 'drive', 'type': 'drive'}, 'd2': {'operates': {'qubits': [2]}, 'purpose': 'drive', 'type': 'drive'}, 'd3': {'operates': {'qubits': [3]}, 'purpose': 'drive', 'type': 'drive'}, 'd4': {'operates': {'qubits': [4]}, 'purpose': 'drive', 'type': 'drive'}, 'd5': {'operates': {'qubits': [5]}, 'purpose': 'drive', 'type': 'drive'}, 'd6': {'operates': {'qubits': [6]}, 'purpose': 'drive', 'type': 'drive'}, 'd7': {'operates': {'qubits': [7]}, 'purpose': 'drive', 'type': 'drive'}, 'd8': {'operates': {'qubits': [8]}, 'purpose': 'drive', 'type': 'drive'}, 'd9': {'operates': {'qubits': [9]}, 'purpose': 'drive', 'type': 'drive'}, 'm0': {'operates': {'qubits': [0]}, 'purpose': 'measure', 'type': 'measure'}, 'm1': {'operates': {'qubits': [1]}, 'purpose': 'measure', 'type': 'measure'}, 'm10': {'operates': {'qubits': [10]}, 'purpose': 'measure', 'type': 'measure'}, 'm11': {'operates': {'qubits': [11]}, 'purpose': 'measure', 'type': 'measure'}, 'm12': {'operates': {'qubits': [12]}, 'purpose': 'measure', 'type': 'measure'}, 'm13': {'operates': {'qubits': [13]}, 'purpose': 'measure', 'type': 'measure'}, 'm14': {'operates': {'qubits': [14]}, 'purpose': 'measure', 'type': 'measure'}, 'm15': {'operates': {'qubits': [15]}, 'purpose': 'measure', 'type': 'measure'}, 'm2': {'operates': {'qubits': [2]}, 'purpose': 'measure', 'type': 'measure'}, 'm3': {'operates': {'qubits': [3]}, 'purpose': 'measure', 'type': 'measure'}, 'm4': {'operates': {'qubits': [4]}, 'purpose': 'measure', 'type': 'measure'}, 'm5': {'operates': {'qubits': [5]}, 'purpose': 'measure', 'type': 'measure'}, 'm6': {'operates': {'qubits': [6]}, 'purpose': 'measure', 'type': 'measure'}, 'm7': {'operates': {'qubits': [7]}, 'purpose': 'measure', 'type': 'measure'}, 'm8': {'operates': {'qubits': [8]}, 'purpose': 'measure', 'type': 'measure'}, 'm9': {'operates': {'qubits': [9]}, 'purpose': 'measure', 'type': 'measure'}, 'u0': {'operates': {'qubits': [0, 1]}, 'purpose': 'cross-resonance', 'type': 'control'}, 'u1': {'operates': {'qubits': [1, 0]}, 'purpose': 'cross-resonance', 'type': 'control'}, 'u10': {'operates': {'qubits': [5, 3]}, 'purpose': 'cross-resonance', 'type': 'control'}, 'u11': {'operates': {'qubits': [5, 8]}, 'purpose': 'cross-resonance', 'type': 'control'}, 'u12': {'operates': {'qubits': [6, 7]}, 'purpose': 'cross-resonance', 'type': 'control'}, 'u13': {'operates': {'qubits': [7, 4]}, 'purpose': 'cross-resonance', 'type': 'control'}, 'u14': {'operates': {'qubits': [7, 6]}, 'purpose': 'cross-resonance', 'type': 'control'}, 'u15': {'operates': {'qubits': [7, 10]}, 'purpose': 'cross-resonance', 'type': 'control'}, 'u16': {'operates': {'qubits': [8, 5]}, 'purpose': 'cross-resonance', 'type': 'control'}, 'u17': {'operates': {'qubits': [8, 9]}, 'purpose': 'cross-resonance', 'type': 'control'}, 'u18': {'operates': {'qubits': [8, 11]}, 'purpose': 'cross-resonance', 'type': 'control'}, 'u19': {'operates': {'qubits': [9, 8]}, 'purpose': 'cross-resonance', 'type': 'control'}, 'u2': {'operates': {'qubits': [1, 2]}, 'purpose': 'cross-resonance', 'type': 'control'}, 'u20': {'operates': {'qubits': [10, 7]}, 'purpose': 'cross-resonance', 'type': 'control'}, 'u21': {'operates': {'qubits': [10, 12]}, 'purpose': 'cross-resonance', 'type': 'control'}, 'u22': {'operates': {'qubits': [11, 8]}, 'purpose': 'cross-resonance', 'type': 'control'}, 'u23': {'operates': {'qubits': [11, 14]}, 'purpose': 'cross-resonance', 'type': 'control'}, 'u24': {'operates': {'qubits': [12, 10]}, 'purpose': 'cross-resonance', 'type': 'control'}, 'u25': {'operates': {'qubits': [12, 13]}, 'purpose': 'cross-resonance', 'type': 'control'}, 'u26': {'operates': {'qubits': [12, 15]}, 'purpose': 'cross-resonance', 'type': 'control'}, 'u27': {'operates': {'qubits': [13, 12]}, 'purpose': 'cross-resonance', 'type': 'control'}, 'u28': {'operates': {'qubits': [13, 14]}, 'purpose': 'cross-resonance', 'type': 'control'}, 'u29': {'operates': {'qubits': [14, 11]}, 'purpose': 'cross-resonance', 'type': 'control'}, 'u3': {'operates': {'qubits': [1, 4]}, 'purpose': 'cross-resonance', 'type': 'control'}, 'u30': {'operates': {'qubits': [14, 13]}, 'purpose': 'cross-resonance', 'type': 'control'}, 'u31': {'operates': {'qubits': [15, 12]}, 'purpose': 'cross-resonance', 'type': 'control'}, 'u4': {'operates': {'qubits': [2, 1]}, 'purpose': 'cross-resonance', 'type': 'control'}, 'u5': {'operates': {'qubits': [2, 3]}, 'purpose': 'cross-resonance', 'type': 'control'}, 'u6': {'operates': {'qubits': [3, 2]}, 'purpose': 'cross-resonance', 'type': 'control'}, 'u7': {'operates': {'qubits': [3, 5]}, 'purpose': 'cross-resonance', 'type': 'control'}, 'u8': {'operates': {'qubits': [4, 1]}, 'purpose': 'cross-resonance', 'type': 'control'}, 'u9': {'operates': {'qubits': [4, 7]}, 'purpose': 'cross-resonance', 'type': 'control'}}\n",
      "    conditional: False\n",
      "    parametric_pulses: ['gaussian', 'gaussian_square', 'drag', 'constant']\n",
      "    qubit_channel_mapping: [['m0', 'd0', 'u0', 'u1'], ['d1', 'u4', 'm1', 'u2', 'u3', 'u8', 'u0', 'u1'], ['m2', 'u6', 'u5', 'u4', 'u2', 'd2'], ['u6', 'd3', 'u5', 'm3', 'u7', 'u10'], ['m4', 'u13', 'u3', 'u9', 'u8', 'd4'], ['d5', 'u16', 'u11', 'm5', 'u7', 'u10'], ['u14', 'u12', 'd6', 'm6'], ['u13', 'u20', 'u14', 'm7', 'u9', 'u15', 'd7', 'u12'], ['u16', 'd8', 'u18', 'u22', 'u17', 'u11', 'm8', 'u19'], ['m9', 'u19', 'u17', 'd9'], ['u21', 'u20', 'd10', 'u15', 'u24', 'm10'], ['u18', 'u22', 'm11', 'u23', 'u29', 'd11'], ['d12', 'u26', 'u21', 'u31', 'u27', 'm12', 'u24', 'u25'], ['u30', 'm13', 'u28', 'd13', 'u27', 'u25'], ['u30', 'm14', 'u23', 'u29', 'd14', 'u28'], ['u31', 'm15', 'u26', 'd15']]\n",
      "    url: None\n",
      "    uchannels_enabled: True\n",
      "    live_data: False\n",
      "    supported_features: ['qobj']\n",
      "    meas_map: [[0, 1, 2, 3, 4, 5, 6, 7, 8, 9, 10, 11, 12, 13, 14, 15]]\n",
      "    dt: 0.2222222222222222\n",
      "    supported_instructions: ['reset', 'setf', 'cx', 'x', 'play', 'delay', 'u1', 'u2', 'sx', 'u3', 'measure', 'acquire', 'shiftf', 'rz', 'id']\n",
      "    max_experiments: 300\n",
      "    multi_meas_enabled: True\n",
      "    processor_type: {'family': 'Falcon', 'revision': 4, 'segment': 'P'}\n",
      "    conditional_latency: []\n",
      "    n_registers: 1\n",
      "    input_allowed: ['job', 'runtime']\n",
      "    parallel_compilation: False\n",
      "    meas_lo_range: [[6.820434764000001, 7.820434764000001], [6.920156487000001, 7.920156487000001], [6.806879783, 7.806879783], [6.931633498, 7.931633498], [6.871094372000001, 7.871094372000001], [6.867124325000001, 7.867124325000001], [6.988623947000001, 7.988623947000001], [6.744138759, 7.744138759], [6.739828772, 7.739828772], [6.986574026, 7.986574026], [6.830501917, 7.830501917], [6.874447476, 7.874447476], [6.977190940000001, 7.977190940000001], [6.8715744, 7.8715744], [6.914894627000001, 7.914894627000001], [6.931057753, 7.931057753]]\n",
      "    measure_esp_enabled: False\n",
      "    open_pulse: True\n",
      "    discriminators: ['hw_centroid', 'linear_discriminator', 'quadratic_discriminator']\n",
      "    hamiltonian: {'description': 'Qubits are modeled as Duffing oscillators. In this case, the system includes higher energy states, i.e. not just |0> and |1>. The Pauli operators are generalized via the following set of transformations:\\n\\n$(\\\\mathbb{I}-\\\\sigma_{i}^z)/2 \\\\rightarrow O_i \\\\equiv b^\\\\dagger_{i} b_{i}$,\\n\\n$\\\\sigma_{+} \\\\rightarrow b^\\\\dagger$,\\n\\n$\\\\sigma_{-} \\\\rightarrow b$,\\n\\n$\\\\sigma_{i}^X \\\\rightarrow b^\\\\dagger_{i} + b_{i}$.\\n\\nQubits are coupled through resonator buses. The provided Hamiltonian has been projected into the zero excitation subspace of the resonator buses leading to an effective qubit-qubit flip-flop interaction. The qubit resonance frequencies in the Hamiltonian are the cavity dressed frequencies and not exactly what is returned by the backend defaults, which also includes the dressing due to the qubit-qubit interactions.\\n\\nQuantities are returned in angular frequencies, with units 2*pi*GHz.\\n\\nWARNING: Currently not all system Hamiltonian information is available to the public, missing values have been replaced with 0.\\n', 'h_latex': '\\\\begin{align} \\\\mathcal{H}/\\\\hbar = & \\\\sum_{i=0}^{15}\\\\left(\\\\frac{\\\\omega_{q,i}}{2}(\\\\mathbb{I}-\\\\sigma_i^{z})+\\\\frac{\\\\Delta_{i}}{2}(O_i^2-O_i)+\\\\Omega_{d,i}D_i(t)\\\\sigma_i^{X}\\\\right) \\\\\\\\ & + J_{0,1}(\\\\sigma_{0}^{+}\\\\sigma_{1}^{-}+\\\\sigma_{0}^{-}\\\\sigma_{1}^{+}) + J_{13,14}(\\\\sigma_{13}^{+}\\\\sigma_{14}^{-}+\\\\sigma_{13}^{-}\\\\sigma_{14}^{+}) + J_{1,2}(\\\\sigma_{1}^{+}\\\\sigma_{2}^{-}+\\\\sigma_{1}^{-}\\\\sigma_{2}^{+}) + J_{5,8}(\\\\sigma_{5}^{+}\\\\sigma_{8}^{-}+\\\\sigma_{5}^{-}\\\\sigma_{8}^{+}) \\\\\\\\ & + J_{7,10}(\\\\sigma_{7}^{+}\\\\sigma_{10}^{-}+\\\\sigma_{7}^{-}\\\\sigma_{10}^{+}) + J_{12,13}(\\\\sigma_{12}^{+}\\\\sigma_{13}^{-}+\\\\sigma_{12}^{-}\\\\sigma_{13}^{+}) + J_{1,4}(\\\\sigma_{1}^{+}\\\\sigma_{4}^{-}+\\\\sigma_{1}^{-}\\\\sigma_{4}^{+}) + J_{2,3}(\\\\sigma_{2}^{+}\\\\sigma_{3}^{-}+\\\\sigma_{2}^{-}\\\\sigma_{3}^{+}) \\\\\\\\ & + J_{6,7}(\\\\sigma_{6}^{+}\\\\sigma_{7}^{-}+\\\\sigma_{6}^{-}\\\\sigma_{7}^{+}) + J_{3,5}(\\\\sigma_{3}^{+}\\\\sigma_{5}^{-}+\\\\sigma_{3}^{-}\\\\sigma_{5}^{+}) + J_{8,9}(\\\\sigma_{8}^{+}\\\\sigma_{9}^{-}+\\\\sigma_{8}^{-}\\\\sigma_{9}^{+}) + J_{12,15}(\\\\sigma_{12}^{+}\\\\sigma_{15}^{-}+\\\\sigma_{12}^{-}\\\\sigma_{15}^{+}) \\\\\\\\ & + J_{11,14}(\\\\sigma_{11}^{+}\\\\sigma_{14}^{-}+\\\\sigma_{11}^{-}\\\\sigma_{14}^{+}) + J_{10,12}(\\\\sigma_{10}^{+}\\\\sigma_{12}^{-}+\\\\sigma_{10}^{-}\\\\sigma_{12}^{+}) + J_{4,7}(\\\\sigma_{4}^{+}\\\\sigma_{7}^{-}+\\\\sigma_{4}^{-}\\\\sigma_{7}^{+}) + J_{8,11}(\\\\sigma_{8}^{+}\\\\sigma_{11}^{-}+\\\\sigma_{8}^{-}\\\\sigma_{11}^{+}) \\\\\\\\ & + \\\\Omega_{d,0}(U_{0}^{(0,1)}(t))\\\\sigma_{0}^{X} + \\\\Omega_{d,1}(U_{1}^{(1,0)}(t)+U_{3}^{(1,4)}(t)+U_{2}^{(1,2)}(t))\\\\sigma_{1}^{X} \\\\\\\\ & + \\\\Omega_{d,2}(U_{5}^{(2,3)}(t)+U_{4}^{(2,1)}(t))\\\\sigma_{2}^{X} + \\\\Omega_{d,3}(U_{6}^{(3,2)}(t)+U_{7}^{(3,5)}(t))\\\\sigma_{3}^{X} \\\\\\\\ & + \\\\Omega_{d,4}(U_{9}^{(4,7)}(t)+U_{8}^{(4,1)}(t))\\\\sigma_{4}^{X} + \\\\Omega_{d,5}(U_{11}^{(5,8)}(t)+U_{10}^{(5,3)}(t))\\\\sigma_{5}^{X} \\\\\\\\ & + \\\\Omega_{d,6}(U_{12}^{(6,7)}(t))\\\\sigma_{6}^{X} + \\\\Omega_{d,7}(U_{14}^{(7,6)}(t)+U_{13}^{(7,4)}(t)+U_{15}^{(7,10)}(t))\\\\sigma_{7}^{X} \\\\\\\\ & + \\\\Omega_{d,8}(U_{18}^{(8,11)}(t)+U_{16}^{(8,5)}(t)+U_{17}^{(8,9)}(t))\\\\sigma_{8}^{X} + \\\\Omega_{d,9}(U_{19}^{(9,8)}(t))\\\\sigma_{9}^{X} \\\\\\\\ & + \\\\Omega_{d,10}(U_{20}^{(10,7)}(t)+U_{21}^{(10,12)}(t))\\\\sigma_{10}^{X} + \\\\Omega_{d,11}(U_{22}^{(11,8)}(t)+U_{23}^{(11,14)}(t))\\\\sigma_{11}^{X} \\\\\\\\ & + \\\\Omega_{d,12}(U_{24}^{(12,10)}(t)+U_{25}^{(12,13)}(t)+U_{26}^{(12,15)}(t))\\\\sigma_{12}^{X} + \\\\Omega_{d,13}(U_{28}^{(13,14)}(t)+U_{27}^{(13,12)}(t))\\\\sigma_{13}^{X} \\\\\\\\ & + \\\\Omega_{d,14}(U_{30}^{(14,13)}(t)+U_{29}^{(14,11)}(t))\\\\sigma_{14}^{X} + \\\\Omega_{d,15}(U_{31}^{(15,12)}(t))\\\\sigma_{15}^{X} \\\\\\\\ \\\\end{align}', 'h_str': ['_SUM[i,0,15,wq{i}/2*(I{i}-Z{i})]', '_SUM[i,0,15,delta{i}/2*O{i}*O{i}]', '_SUM[i,0,15,-delta{i}/2*O{i}]', '_SUM[i,0,15,omegad{i}*X{i}||D{i}]', 'jq0q1*Sp0*Sm1', 'jq0q1*Sm0*Sp1', 'jq13q14*Sp13*Sm14', 'jq13q14*Sm13*Sp14', 'jq1q2*Sp1*Sm2', 'jq1q2*Sm1*Sp2', 'jq5q8*Sp5*Sm8', 'jq5q8*Sm5*Sp8', 'jq7q10*Sp7*Sm10', 'jq7q10*Sm7*Sp10', 'jq12q13*Sp12*Sm13', 'jq12q13*Sm12*Sp13', 'jq1q4*Sp1*Sm4', 'jq1q4*Sm1*Sp4', 'jq2q3*Sp2*Sm3', 'jq2q3*Sm2*Sp3', 'jq6q7*Sp6*Sm7', 'jq6q7*Sm6*Sp7', 'jq3q5*Sp3*Sm5', 'jq3q5*Sm3*Sp5', 'jq8q9*Sp8*Sm9', 'jq8q9*Sm8*Sp9', 'jq12q15*Sp12*Sm15', 'jq12q15*Sm12*Sp15', 'jq11q14*Sp11*Sm14', 'jq11q14*Sm11*Sp14', 'jq10q12*Sp10*Sm12', 'jq10q12*Sm10*Sp12', 'jq4q7*Sp4*Sm7', 'jq4q7*Sm4*Sp7', 'jq8q11*Sp8*Sm11', 'jq8q11*Sm8*Sp11', 'omegad1*X0||U0', 'omegad0*X1||U1', 'omegad4*X1||U3', 'omegad2*X1||U2', 'omegad3*X2||U5', 'omegad1*X2||U4', 'omegad2*X3||U6', 'omegad5*X3||U7', 'omegad7*X4||U9', 'omegad1*X4||U8', 'omegad8*X5||U11', 'omegad3*X5||U10', 'omegad7*X6||U12', 'omegad6*X7||U14', 'omegad4*X7||U13', 'omegad10*X7||U15', 'omegad11*X8||U18', 'omegad5*X8||U16', 'omegad9*X8||U17', 'omegad8*X9||U19', 'omegad7*X10||U20', 'omegad12*X10||U21', 'omegad8*X11||U22', 'omegad14*X11||U23', 'omegad10*X12||U24', 'omegad13*X12||U25', 'omegad15*X12||U26', 'omegad14*X13||U28', 'omegad12*X13||U27', 'omegad13*X14||U30', 'omegad11*X14||U29', 'omegad12*X15||U31'], 'osc': {}, 'qub': {'0': 3, '1': 3, '2': 3, '3': 3, '4': 3, '5': 3, '6': 3, '7': 3, '8': 3, '9': 3, '10': 3, '11': 3, '12': 3, '13': 3, '14': 3, '15': 3}, 'vars': {'delta0': -2.1063275673282793, 'delta1': -1.9997457995481482, 'delta10': -2.0723591213397214, 'delta11': -2.077299463459474, 'delta12': -1.9882861833207344, 'delta13': -2.1195886405011586, 'delta14': -1.9938216985026165, 'delta15': -2.100360336460335, 'delta2': -2.0850063745061163, 'delta3': -1.9841850364728746, 'delta4': -2.0816663449106074, 'delta5': -2.087247252161857, 'delta6': -2.1118540185370227, 'delta7': -1.9938361951339494, 'delta8': -1.9946873220639585, 'delta9': -2.0977196521924837, 'jq0q1': 0.011035706380861009, 'jq10q12': 0.014090719920513348, 'jq11q14': 0.012403331538732508, 'jq12q13': 0.011412587588970341, 'jq12q15': 0.01215583700723528, 'jq13q14': 0.011412484059140323, 'jq1q2': 0.012748863472878359, 'jq1q4': 0.011763703935975567, 'jq2q3': 0.012883066723545332, 'jq3q5': 0.013345490439462725, 'jq4q7': 0.013062130151937424, 'jq5q8': 0.011633341546437841, 'jq6q7': 0.011199743290710286, 'jq7q10': 0.012452487603790153, 'jq8q11': 0.013192726475902064, 'jq8q9': 0.011879100541186129, 'omegad0': 0.9835350883487791, 'omegad1': 1.0362919359907288, 'omegad10': 0.9309857863810432, 'omegad11': 0.9922981849587412, 'omegad12': 1.0385585820860934, 'omegad13': 0.9540716484671072, 'omegad14': 0.5942064442233039, 'omegad15': 0.9434686137548812, 'omegad2': 0.9815479687981234, 'omegad3': 1.0478324340024883, 'omegad4': 0.9382308754652626, 'omegad5': 1.0367003183475707, 'omegad6': 0.8332744402303758, 'omegad7': 1.0260276762623899, 'omegad8': 0.9929833517009933, 'omegad9': 1.0159041092112657, 'wq0': 32.12932120618109, 'wq1': 32.42595349250422, 'wq10': 34.09764863419299, 'wq11': 33.865375349244815, 'wq12': 33.07285609271213, 'wq13': 31.653818060176576, 'wq14': 32.70391464639184, 'wq15': 32.209348505487156, 'wq2': 33.36701654758375, 'wq3': 34.36610007439296, 'wq4': 33.636658474453306, 'wq5': 33.321894990049515, 'wq6': 32.273537779029354, 'wq7': 32.690114293204616, 'wq8': 32.51260471981401, 'wq9': 33.010118789790944}}\n",
      "    allow_q_object: True\n",
      "    backend_name: ibmq_guadalupe\n",
      "    qubit_lo_range: [[4.613540288150976, 5.613540288150976], [4.660750782799954, 5.660750782799954], [4.810525619777022, 5.810525619777022], [4.969534701630392, 5.969534701630392], [4.853440465303135, 5.853440465303135], [4.803344300855444, 5.803344300855444], [4.636493068595551, 5.636493068595551], [4.702793280002536, 5.702793280002536], [4.674541753951286, 5.674541753951286], [4.753723577445883, 5.753723577445883], [4.926809327942429, 5.926809327942429], [4.889841886494734, 5.889841886494734], [4.7637085293220425, 5.7637085293220425], [4.537861612008612, 5.537861612008612], [4.704989674428696, 5.704989674428696], [4.6262770284178325, 5.6262770284178325]]\n",
      "    timing_constraints: {'acquire_alignment': 16, 'granularity': 16, 'min_length': 64, 'pulse_alignment': 1}\n",
      "    meas_levels: [1, 2]\n",
      "    coupling_map: [[0, 1], [1, 0], [1, 2], [1, 4], [2, 1], [2, 3], [3, 2], [3, 5], [4, 1], [4, 7], [5, 3], [5, 8], [6, 7], [7, 4], [7, 6], [7, 10], [8, 5], [8, 9], [8, 11], [9, 8], [10, 7], [10, 12], [11, 8], [11, 14], [12, 10], [12, 13], [12, 15], [13, 12], [13, 14], [14, 11], [14, 13], [15, 12]]\n",
      "    pulse_num_qubits: 3\n",
      "    pulse_num_channels: 9\n",
      "    meas_kernels: ['hw_boxcar']\n",
      "    dynamic_reprate_enabled: True\n",
      "    online_date: 2021-01-08 05:00:00+00:00\n",
      "    memory: True\n",
      "    n_uchannels: 32\n",
      "    acquisition_latency: []\n",
      "    sample_name: family: Falcon, revision: 4, segment: P\n",
      "    max_shots: 32000\n",
      "    dtm: 0.2222222222222222\n",
      "    rep_times: [1000.0]\n",
      "    u_channel_lo: [[{'q': 1, 'scale': (1+0j)}], [{'q': 0, 'scale': (1+0j)}], [{'q': 2, 'scale': (1+0j)}], [{'q': 4, 'scale': (1+0j)}], [{'q': 1, 'scale': (1+0j)}], [{'q': 3, 'scale': (1+0j)}], [{'q': 2, 'scale': (1+0j)}], [{'q': 5, 'scale': (1+0j)}], [{'q': 1, 'scale': (1+0j)}], [{'q': 7, 'scale': (1+0j)}], [{'q': 3, 'scale': (1+0j)}], [{'q': 8, 'scale': (1+0j)}], [{'q': 7, 'scale': (1+0j)}], [{'q': 4, 'scale': (1+0j)}], [{'q': 6, 'scale': (1+0j)}], [{'q': 10, 'scale': (1+0j)}], [{'q': 5, 'scale': (1+0j)}], [{'q': 9, 'scale': (1+0j)}], [{'q': 11, 'scale': (1+0j)}], [{'q': 8, 'scale': (1+0j)}], [{'q': 7, 'scale': (1+0j)}], [{'q': 12, 'scale': (1+0j)}], [{'q': 8, 'scale': (1+0j)}], [{'q': 14, 'scale': (1+0j)}], [{'q': 10, 'scale': (1+0j)}], [{'q': 13, 'scale': (1+0j)}], [{'q': 15, 'scale': (1+0j)}], [{'q': 12, 'scale': (1+0j)}], [{'q': 14, 'scale': (1+0j)}], [{'q': 11, 'scale': (1+0j)}], [{'q': 13, 'scale': (1+0j)}], [{'q': 12, 'scale': (1+0j)}]]\n",
      "    quantum_volume: 32\n",
      "    rep_delay_range: [0.0, 500.0]\n",
      "    credits_required: True\n",
      "    allow_object_storage: True\n",
      "    clops: 2351\n",
      "    description: 16 qubit device\n",
      "\n"
     ]
    },
    {
     "name": "stdout",
     "output_type": "stream",
     "text": [
      "Qubits [Name / Freq / T1 / T2 / RZ err / SX err / X err / Readout err]\n",
      "----------------------------------------------------------------------\n",
      "    Q0 / 5.11354 GHz / 87.47312 us / 94.92129 us / 0.00000 / 0.00024 / 0.00024 / 0.01400 \n",
      "    Q1 / 5.16075 GHz / 142.45655 us / 123.09171 us / 0.00000 / 0.00047 / 0.00047 / 0.01660 \n",
      "    Q2 / 5.31053 GHz / 57.80231 us / 77.36900 us / 0.00000 / 0.00046 / 0.00046 / 0.01940 \n",
      "    Q3 / 5.46953 GHz / 65.34376 us / 79.43261 us / 0.00000 / 0.00030 / 0.00030 / 0.01630 \n",
      "    Q4 / 5.35344 GHz / 106.62658 us / 100.29987 us / 0.00000 / 0.00026 / 0.00026 / 0.01470 \n",
      "    Q5 / 5.30334 GHz / 92.29267 us / 82.41267 us / 0.00000 / 0.00036 / 0.00036 / 0.01460 \n",
      "    Q6 / 5.13649 GHz / 87.68411 us / 14.27629 us / 0.00000 / 0.00031 / 0.00031 / 0.01560 \n",
      "    Q7 / 5.20279 GHz / 135.87644 us / 211.49194 us / 0.00000 / 0.00024 / 0.00024 / 0.01290 \n",
      "    Q8 / 5.17454 GHz / 145.14904 us / 139.68028 us / 0.00000 / 0.00027 / 0.00027 / 0.01740 \n",
      "    Q9 / 5.25372 GHz / 148.58959 us / 95.20855 us / 0.00000 / 0.00023 / 0.00023 / 0.01410 \n",
      "    Q10 / 5.42681 GHz / 119.01222 us / 95.15820 us / 0.00000 / 0.00025 / 0.00025 / 0.00960 \n",
      "    Q11 / 5.38984 GHz / 94.31781 us / 72.50077 us / 0.00000 / 0.00053 / 0.00053 / 0.02860 \n",
      "    Q12 / 5.26371 GHz / 47.67123 us / 98.05875 us / 0.00000 / 0.00020 / 0.00020 / 0.01900 \n",
      "    Q13 / 5.03786 GHz / 77.42535 us / 103.79926 us / 0.00000 / 0.00067 / 0.00067 / 0.01630 \n",
      "    Q14 / 5.20499 GHz / 95.03002 us / 100.12041 us / 0.00000 / 0.00022 / 0.00022 / 0.01410 \n",
      "    Q15 / 5.12628 GHz / 64.38812 us / 111.34849 us / 0.00000 / 0.00032 / 0.00032 / 0.01750 \n",
      "\n",
      "Multi-Qubit Gates [Name / Type / Gate Error]\n",
      "--------------------------------------------\n",
      "    cx12_15 / cx / 0.00686\n",
      "    cx15_12 / cx / 0.00686\n",
      "    cx12_10 / cx / 0.01376\n",
      "    cx10_12 / cx / 0.01376\n",
      "    cx14_13 / cx / 0.01305\n",
      "    cx13_14 / cx / 0.01305\n",
      "    cx2_3 / cx / 0.01485\n",
      "    cx3_2 / cx / 0.01485\n",
      "    cx5_3 / cx / 0.01069\n",
      "    cx3_5 / cx / 0.01069\n",
      "    cx7_4 / cx / 0.01059\n",
      "    cx4_7 / cx / 0.01059\n",
      "    cx12_13 / cx / 0.01162\n",
      "    cx13_12 / cx / 0.01162\n",
      "    cx0_1 / cx / 0.01157\n",
      "    cx1_0 / cx / 0.01157\n",
      "    cx11_8 / cx / 0.01628\n",
      "    cx8_11 / cx / 0.01628\n",
      "    cx10_7 / cx / 0.00594\n",
      "    cx7_10 / cx / 0.00594\n",
      "    cx7_6 / cx / 0.01080\n",
      "    cx6_7 / cx / 0.01080\n",
      "    cx11_14 / cx / 0.01385\n",
      "    cx14_11 / cx / 0.01385\n",
      "    cx4_1 / cx / 0.00693\n",
      "    cx1_4 / cx / 0.00693\n",
      "    cx5_8 / cx / 0.00609\n",
      "    cx8_5 / cx / 0.00609\n",
      "    cx2_1 / cx / 0.01098\n",
      "    cx1_2 / cx / 0.01098\n",
      "    cx8_9 / cx / 0.00764\n",
      "    cx9_8 / cx / 0.00764\n"
     ]
    }
   ],
   "source": [
    "backend_monitor(device)"
   ]
  },
  {
   "cell_type": "code",
   "execution_count": 8,
   "id": "b6f2eb58",
   "metadata": {},
   "outputs": [],
   "source": [
    "noisy_simulator = provider.get_backend('ibmq_qasm_simulator')"
   ]
  },
  {
   "cell_type": "code",
   "execution_count": 9,
   "id": "61848cfb",
   "metadata": {},
   "outputs": [],
   "source": [
    "front_layer = QuantumCircuit.from_qasm_file(\"qasm/vqe_5q_front.qasm\")"
   ]
  },
  {
   "cell_type": "code",
   "execution_count": 10,
   "id": "4101ca8c",
   "metadata": {},
   "outputs": [],
   "source": [
    "mid_layer = QuantumCircuit.from_qasm_file(\"qasm/vqe_5q_mid.qasm\")"
   ]
  },
  {
   "cell_type": "code",
   "execution_count": 11,
   "id": "1721959d",
   "metadata": {},
   "outputs": [],
   "source": [
    "end_layer = QuantumCircuit.from_qasm_file(\"qasm/vqe_5q_end.qasm\")"
   ]
  },
  {
   "cell_type": "code",
   "execution_count": 12,
   "id": "e6aa46cb",
   "metadata": {},
   "outputs": [
    {
     "name": "stderr",
     "output_type": "stream",
     "text": [
      "/var/folders/s4/3cvgkkn17hg628pzrzzjnhww0000gn/T/ipykernel_14821/743480212.py:1: DeprecationWarning: The QuantumCircuit.__add__() method is being deprecated.Use the compose() method which is more flexible w.r.t circuit register compatibility.\n",
      "  orign_circuit = front_layer + mid_layer + end_layer\n"
     ]
    }
   ],
   "source": [
    "orign_circuit = front_layer + mid_layer + end_layer"
   ]
  },
  {
   "cell_type": "code",
   "execution_count": 13,
   "id": "93020df1",
   "metadata": {},
   "outputs": [
    {
     "data": {
      "text/html": [
       "<pre style=\"word-wrap: normal;white-space: pre;background: #fff0;line-height: 1.1;font-family: &quot;Courier New&quot;,Courier,monospace\">      ┌────────────┐   ┌────────────┐                             »\n",
       "q_0: ─┤ Ry(-4.751) ├─■─┤ Ry(4.6739) ├─────────────────────────────»\n",
       "      ├────────────┤ │ └────────────┘┌─────────────┐              »\n",
       "q_1: ─┤ Ry(3.1415) ├─■───────■───────┤ Ry(-3.1415) ├──────────────»\n",
       "     ┌┴────────────┤         │       └─────────────┘┌────────────┐»\n",
       "q_2: ┤ Ry(-3.8492) ├─────────■──────────────■───────┤ Ry(0.7076) ├»\n",
       "     ├─────────────┤                        │       └────────────┘»\n",
       "q_3: ┤ Ry(-3.1416) ├────────────────────────■─────────────■───────»\n",
       "     ├─────────────┤                                      │       »\n",
       "q_4: ┤ Ry(-6.8335) ├──────────────────────────────────────■───────»\n",
       "     └─────────────┘                                              »\n",
       "q_5: ─────────────────────────────────────────────────────────────»\n",
       "                                                                  »\n",
       "q_6: ─────────────────────────────────────────────────────────────»\n",
       "                                                                  »\n",
       "q_7: ─────────────────────────────────────────────────────────────»\n",
       "                                                                  »\n",
       "q_8: ─────────────────────────────────────────────────────────────»\n",
       "                                                                  »\n",
       "q_9: ─────────────────────────────────────────────────────────────»\n",
       "                                                                  »\n",
       "«                    \n",
       "«q_0: ───────────────\n",
       "«                    \n",
       "«q_1: ───────────────\n",
       "«                    \n",
       "«q_2: ───────────────\n",
       "«      ┌────────────┐\n",
       "«q_3: ─┤ Ry(3.1415) ├\n",
       "«     ┌┴────────────┤\n",
       "«q_4: ┤ Ry(-3.6921) ├\n",
       "«     └─────────────┘\n",
       "«q_5: ───────────────\n",
       "«                    \n",
       "«q_6: ───────────────\n",
       "«                    \n",
       "«q_7: ───────────────\n",
       "«                    \n",
       "«q_8: ───────────────\n",
       "«                    \n",
       "«q_9: ───────────────\n",
       "«                    </pre>"
      ],
      "text/plain": [
       "      ┌────────────┐   ┌────────────┐                             »\n",
       "q_0: ─┤ Ry(-4.751) ├─■─┤ Ry(4.6739) ├─────────────────────────────»\n",
       "      ├────────────┤ │ └────────────┘┌─────────────┐              »\n",
       "q_1: ─┤ Ry(3.1415) ├─■───────■───────┤ Ry(-3.1415) ├──────────────»\n",
       "     ┌┴────────────┤         │       └─────────────┘┌────────────┐»\n",
       "q_2: ┤ Ry(-3.8492) ├─────────■──────────────■───────┤ Ry(0.7076) ├»\n",
       "     ├─────────────┤                        │       └────────────┘»\n",
       "q_3: ┤ Ry(-3.1416) ├────────────────────────■─────────────■───────»\n",
       "     ├─────────────┤                                      │       »\n",
       "q_4: ┤ Ry(-6.8335) ├──────────────────────────────────────■───────»\n",
       "     └─────────────┘                                              »\n",
       "q_5: ─────────────────────────────────────────────────────────────»\n",
       "                                                                  »\n",
       "q_6: ─────────────────────────────────────────────────────────────»\n",
       "                                                                  »\n",
       "q_7: ─────────────────────────────────────────────────────────────»\n",
       "                                                                  »\n",
       "q_8: ─────────────────────────────────────────────────────────────»\n",
       "                                                                  »\n",
       "q_9: ─────────────────────────────────────────────────────────────»\n",
       "                                                                  »\n",
       "«                    \n",
       "«q_0: ───────────────\n",
       "«                    \n",
       "«q_1: ───────────────\n",
       "«                    \n",
       "«q_2: ───────────────\n",
       "«      ┌────────────┐\n",
       "«q_3: ─┤ Ry(3.1415) ├\n",
       "«     ┌┴────────────┤\n",
       "«q_4: ┤ Ry(-3.6921) ├\n",
       "«     └─────────────┘\n",
       "«q_5: ───────────────\n",
       "«                    \n",
       "«q_6: ───────────────\n",
       "«                    \n",
       "«q_7: ───────────────\n",
       "«                    \n",
       "«q_8: ───────────────\n",
       "«                    \n",
       "«q_9: ───────────────\n",
       "«                    "
      ]
     },
     "execution_count": 13,
     "metadata": {},
     "output_type": "execute_result"
    }
   ],
   "source": [
    "orign_circuit.draw()"
   ]
  },
  {
   "cell_type": "code",
   "execution_count": 14,
   "id": "d4a1d3a6",
   "metadata": {},
   "outputs": [],
   "source": [
    "#checking circuit"
   ]
  },
  {
   "cell_type": "code",
   "execution_count": 15,
   "id": "6937b806",
   "metadata": {},
   "outputs": [],
   "source": [
    "def apply_checking_circuit(qc, ctrl_bits, ancilla_bits, side = None):\n",
    "    if len(ctrl_bits) != len(ancilla_bits):\n",
    "        print(\"Size mismatch\")\n",
    "        return None\n",
    "    if side == 'front':\n",
    "        for i in ancilla_bits:\n",
    "            qc.h(i)\n",
    "        for j,k in zip(ctrl_bits, ancilla_bits):\n",
    "            qc.cz(j, k)\n",
    "    elif side == 'end':\n",
    "        for j,k in zip(ctrl_bits, ancilla_bits):\n",
    "            qc.cz(j, k)\n",
    "        for i in ancilla_bits:\n",
    "            qc.h(i)\n",
    "    else:\n",
    "        print(\"Side undefined\")"
   ]
  },
  {
   "cell_type": "code",
   "execution_count": 16,
   "id": "f7f99e4b",
   "metadata": {},
   "outputs": [],
   "source": [
    "circuit = front_layer.copy()"
   ]
  },
  {
   "cell_type": "code",
   "execution_count": 17,
   "id": "4f530b86",
   "metadata": {},
   "outputs": [
    {
     "name": "stderr",
     "output_type": "stream",
     "text": [
      "/var/folders/s4/3cvgkkn17hg628pzrzzjnhww0000gn/T/ipykernel_14821/1614787328.py:2: DeprecationWarning: The QuantumCircuit.__iadd__() method is being deprecated. Use the compose() (potentially with the inplace=True argument) and tensor() methods which are more flexible w.r.t circuit register compatibility.\n",
      "  circuit += mid_layer\n",
      "/var/folders/s4/3cvgkkn17hg628pzrzzjnhww0000gn/T/ipykernel_14821/1614787328.py:4: DeprecationWarning: The QuantumCircuit.__iadd__() method is being deprecated. Use the compose() (potentially with the inplace=True argument) and tensor() methods which are more flexible w.r.t circuit register compatibility.\n",
      "  circuit += end_layer\n"
     ]
    }
   ],
   "source": [
    "apply_checking_circuit(circuit, [0], [5], side = 'front')\n",
    "circuit += mid_layer\n",
    "apply_checking_circuit(circuit, [0], [5], side = 'end')\n",
    "circuit += end_layer"
   ]
  },
  {
   "cell_type": "code",
   "execution_count": 18,
   "id": "3d751a26",
   "metadata": {},
   "outputs": [
    {
     "data": {
      "text/html": [
       "<pre style=\"word-wrap: normal;white-space: pre;background: #fff0;line-height: 1.1;font-family: &quot;Courier New&quot;,Courier,monospace\">      ┌────────────┐             ┌────────────┐                             \n",
       "q_0: ─┤ Ry(-4.751) ├─■──■─────■──┤ Ry(4.6739) ├─────────────────────────────\n",
       "      ├────────────┤ │  │     │ ┌┴────────────┤                             \n",
       "q_1: ─┤ Ry(3.1415) ├─┼──■──■──┼─┤ Ry(-3.1415) ├─────────────────────────────\n",
       "     ┌┴────────────┤ │     │  │ └─────────────┘┌────────────┐               \n",
       "q_2: ┤ Ry(-3.8492) ├─┼─────■──┼────────■───────┤ Ry(0.7076) ├───────────────\n",
       "     ├─────────────┤ │        │        │       └────────────┘ ┌────────────┐\n",
       "q_3: ┤ Ry(-3.1416) ├─┼────────┼────────■─────────────■────────┤ Ry(3.1415) ├\n",
       "     ├─────────────┤ │        │                      │       ┌┴────────────┤\n",
       "q_4: ┤ Ry(-6.8335) ├─┼────────┼──────────────────────■───────┤ Ry(-3.6921) ├\n",
       "     └────┬───┬────┘ │        │      ┌───┐                   └─────────────┘\n",
       "q_5: ─────┤ H ├──────■────────■──────┤ H ├──────────────────────────────────\n",
       "          └───┘                      └───┘                                  \n",
       "q_6: ───────────────────────────────────────────────────────────────────────\n",
       "                                                                            \n",
       "q_7: ───────────────────────────────────────────────────────────────────────\n",
       "                                                                            \n",
       "q_8: ───────────────────────────────────────────────────────────────────────\n",
       "                                                                            \n",
       "q_9: ───────────────────────────────────────────────────────────────────────\n",
       "                                                                            </pre>"
      ],
      "text/plain": [
       "      ┌────────────┐             ┌────────────┐                             \n",
       "q_0: ─┤ Ry(-4.751) ├─■──■─────■──┤ Ry(4.6739) ├─────────────────────────────\n",
       "      ├────────────┤ │  │     │ ┌┴────────────┤                             \n",
       "q_1: ─┤ Ry(3.1415) ├─┼──■──■──┼─┤ Ry(-3.1415) ├─────────────────────────────\n",
       "     ┌┴────────────┤ │     │  │ └─────────────┘┌────────────┐               \n",
       "q_2: ┤ Ry(-3.8492) ├─┼─────■──┼────────■───────┤ Ry(0.7076) ├───────────────\n",
       "     ├─────────────┤ │        │        │       └────────────┘ ┌────────────┐\n",
       "q_3: ┤ Ry(-3.1416) ├─┼────────┼────────■─────────────■────────┤ Ry(3.1415) ├\n",
       "     ├─────────────┤ │        │                      │       ┌┴────────────┤\n",
       "q_4: ┤ Ry(-6.8335) ├─┼────────┼──────────────────────■───────┤ Ry(-3.6921) ├\n",
       "     └────┬───┬────┘ │        │      ┌───┐                   └─────────────┘\n",
       "q_5: ─────┤ H ├──────■────────■──────┤ H ├──────────────────────────────────\n",
       "          └───┘                      └───┘                                  \n",
       "q_6: ───────────────────────────────────────────────────────────────────────\n",
       "                                                                            \n",
       "q_7: ───────────────────────────────────────────────────────────────────────\n",
       "                                                                            \n",
       "q_8: ───────────────────────────────────────────────────────────────────────\n",
       "                                                                            \n",
       "q_9: ───────────────────────────────────────────────────────────────────────\n",
       "                                                                            "
      ]
     },
     "execution_count": 18,
     "metadata": {},
     "output_type": "execute_result"
    }
   ],
   "source": [
    "circuit.draw()"
   ]
  },
  {
   "cell_type": "code",
   "execution_count": 19,
   "id": "7a0bb967",
   "metadata": {},
   "outputs": [],
   "source": [
    "trans_qc = transpile(circuit, basis_gates = ['sx', 'cx', 'reset', 'id', 'x', 'rz'])"
   ]
  },
  {
   "cell_type": "code",
   "execution_count": 20,
   "id": "c89ec38f",
   "metadata": {},
   "outputs": [
    {
     "data": {
      "image/png": "[encoded data removed]",
      "text/plain": [
       "<Figure size 2043.33x869.556 with 1 Axes>"
      ]
     },
     "execution_count": 20,
     "metadata": {},
     "output_type": "execute_result"
    }
   ],
   "source": [
    "trans_qc.draw(output = 'mpl')"
   ]
  },
  {
   "cell_type": "code",
   "execution_count": 21,
   "id": "95e1ee63",
   "metadata": {},
   "outputs": [
    {
     "name": "stdout",
     "output_type": "stream",
     "text": [
      "NoiseModel:\n",
      "  Basis gates: ['cx', 'id', 'reset', 'rz', 'sx', 'x']\n",
      "  Instructions with noise: ['measure']\n",
      "  Qubits with noise: [0, 1, 2, 3, 4, 5, 6, 7, 8, 9, 10, 11, 12, 13, 14, 15]\n",
      "  Specific qubit errors: [('measure', (0,)), ('measure', (1,)), ('measure', (2,)), ('measure', (3,)), ('measure', (4,)), ('measure', (5,)), ('measure', (6,)), ('measure', (7,)), ('measure', (8,)), ('measure', (9,)), ('measure', (10,)), ('measure', (11,)), ('measure', (12,)), ('measure', (13,)), ('measure', (14,)), ('measure', (15,))]\n"
     ]
    }
   ],
   "source": [
    "from qiskit import IBMQ, Aer\n",
    "from qiskit.providers.aer.noise import NoiseModel\n",
    "noise_model = NoiseModel.from_backend(device, gate_error = False, thermal_relaxation= False)\n",
    "print(noise_model)"
   ]
  },
  {
   "cell_type": "code",
   "execution_count": 22,
   "id": "e6fa3737",
   "metadata": {},
   "outputs": [],
   "source": [
    "circuit = trans_qc"
   ]
  },
  {
   "cell_type": "code",
   "execution_count": 23,
   "id": "0b2c17cd",
   "metadata": {},
   "outputs": [],
   "source": [
    "cuts = []\n",
    "for i in range(0, 1):\n",
    "    if i == 0 or i == qubits - 1:\n",
    "        cut = [(circuit.qubits[i], 5),(circuit.qubits[i], 6)]\n",
    "    else:\n",
    "        cut = [(circuit.qubits[i], 5),(circuit.qubits[i], 4)]\n",
    "    cuts += cut"
   ]
  },
  {
   "cell_type": "code",
   "execution_count": 24,
   "id": "4993ee93",
   "metadata": {},
   "outputs": [
    {
     "name": "stdout",
     "output_type": "stream",
     "text": [
      "[(Qubit(QuantumRegister(10, 'q'), 0), 5), (Qubit(QuantumRegister(10, 'q'), 0), 6)]\n"
     ]
    }
   ],
   "source": [
    "print(cuts)"
   ]
  },
  {
   "cell_type": "code",
   "execution_count": 25,
   "id": "7aa1870b",
   "metadata": {},
   "outputs": [
    {
     "name": "stdout",
     "output_type": "stream",
     "text": [
      "WARNING: some qubits are entirely unused\n",
      "unused qubits: [Qubit(QuantumRegister(10, 'q'), 6), Qubit(QuantumRegister(10, 'q'), 7), Qubit(QuantumRegister(10, 'q'), 8), Qubit(QuantumRegister(10, 'q'), 9)]\n"
     ]
    }
   ],
   "source": [
    "fragments, wire_path_map = circuit_cutter.cut_circuit(circuit, cuts)"
   ]
  },
  {
   "cell_type": "code",
   "execution_count": 26,
   "id": "6872220e",
   "metadata": {},
   "outputs": [
    {
     "name": "stdout",
     "output_type": "stream",
     "text": [
      "{Qubit(QuantumRegister(10, 'q'), 0): ((0, Qubit(QuantumRegister(3, 'q'), 2)), (1, Qubit(QuantumRegister(5, 'q'), 2)), (0, Qubit(QuantumRegister(3, 'q'), 0))), Qubit(QuantumRegister(10, 'q'), 1): ((1, Qubit(QuantumRegister(5, 'q'), 3)),), Qubit(QuantumRegister(10, 'q'), 2): ((1, Qubit(QuantumRegister(5, 'q'), 4)),), Qubit(QuantumRegister(10, 'q'), 3): ((1, Qubit(QuantumRegister(5, 'q'), 0)),), Qubit(QuantumRegister(10, 'q'), 4): ((1, Qubit(QuantumRegister(5, 'q'), 1)),), Qubit(QuantumRegister(10, 'q'), 5): ((0, Qubit(QuantumRegister(3, 'q'), 1)),), Qubit(QuantumRegister(10, 'q'), 6): ((2, Qubit(QuantumRegister(4, 'q'), 0)),), Qubit(QuantumRegister(10, 'q'), 7): ((2, Qubit(QuantumRegister(4, 'q'), 1)),), Qubit(QuantumRegister(10, 'q'), 8): ((2, Qubit(QuantumRegister(4, 'q'), 2)),), Qubit(QuantumRegister(10, 'q'), 9): ((2, Qubit(QuantumRegister(4, 'q'), 3)),)}\n"
     ]
    }
   ],
   "source": [
    "print(wire_path_map)"
   ]
  },
  {
   "cell_type": "code",
   "execution_count": 27,
   "id": "dd8a5b10",
   "metadata": {},
   "outputs": [],
   "source": [
    "total_variants = ml.fragment_variants(wire_path_map)"
   ]
  },
  {
   "cell_type": "code",
   "execution_count": 28,
   "id": "d79b8e01",
   "metadata": {},
   "outputs": [
    {
     "data": {
      "text/plain": [
       "25"
      ]
     },
     "execution_count": 28,
     "metadata": {},
     "output_type": "execute_result"
    }
   ],
   "source": [
    "total_variants"
   ]
  },
  {
   "cell_type": "code",
   "execution_count": 29,
   "id": "45286087",
   "metadata": {},
   "outputs": [],
   "source": [
    "shots = 32000 * total_variants"
   ]
  },
  {
   "cell_type": "code",
   "execution_count": 30,
   "id": "8600221e",
   "metadata": {},
   "outputs": [
    {
     "name": "stdout",
     "output_type": "stream",
     "text": [
      "total circuit:\n",
      "global phase: 5π/4\n",
      "     ┌────────┐     ┌────┐    ┌────────────┐┌────┐                  ┌────┐  »\n",
      "q_0: ┤ Rz(-π) ├─────┤ √X ├────┤ Rz(1.6094) ├┤ √X ├──■────■────■─────┤ √X ├──»\n",
      "     └─┬────┬─┘┌────┴────┴───┐└───┬────┬───┘└────┘  │  ┌─┴─┐  │  ┌──┴────┴─┐»\n",
      "q_1: ──┤ √X ├──┤ Rz(-1.5709) ├────┤ √X ├────────────┼──┤ X ├──┼──┤ Rz(π/2) ├»\n",
      "       ├────┤  ├─────────────┤    ├────┤            │  └───┘  │  └─────────┘»\n",
      "q_2: ──┤ √X ├──┤ Rz(-2.2784) ├────┤ √X ├────────────┼─────────┼─────────────»\n",
      "       ├────┤  ├─────────────┤    ├────┤            │         │             »\n",
      "q_3: ──┤ √X ├──┤ Rz(-1.5708) ├────┤ √X ├────────────┼─────────┼─────────────»\n",
      "       ├────┤  └┬────────────┤    ├────┤            │         │             »\n",
      "q_4: ──┤ √X ├───┤ Rz(1.0205) ├────┤ √X ├────────────┼─────────┼─────────────»\n",
      "       └────┘   └────────────┘    └────┘          ┌─┴─┐     ┌─┴─┐           »\n",
      "q_5: ─────────────────────────────────────────────┤ X ├─────┤ X ├───────────»\n",
      "                                                  └───┘     └───┘           »\n",
      "q_6: ───────────────────────────────────────────────────────────────────────»\n",
      "                                                                            »\n",
      "q_7: ───────────────────────────────────────────────────────────────────────»\n",
      "                                                                            »\n",
      "q_8: ───────────────────────────────────────────────────────────────────────»\n",
      "                                                                            »\n",
      "q_9: ───────────────────────────────────────────────────────────────────────»\n",
      "                                                                            »\n",
      "«     ┌────────────┐   ┌────┐  ┌────────┐                             »\n",
      "«q_0: ┤ Rz(1.5323) ├───┤ √X ├──┤ Rz(-π) ├─────────────────────────────»\n",
      "«     └───┬────┬───┘┌──┴────┴─┐└────────┘   ┌────┐  ┌────────────────┐»\n",
      "«q_1: ────┤ √X ├────┤ Rz(π/2) ├────■────────┤ √X ├──┤ Rz(6.5854e-05) ├»\n",
      "«         └────┘    └─────────┘  ┌─┴─┐   ┌──┴────┴─┐└─────┬────┬─────┘»\n",
      "«q_2: ───────────────────────────┤ X ├───┤ Rz(π/2) ├──────┤ √X ├──────»\n",
      "«                                └───┘   └─────────┘      └────┘      »\n",
      "«q_3: ────────────────────────────────────────────────────────────────»\n",
      "«                                                                     »\n",
      "«q_4: ────────────────────────────────────────────────────────────────»\n",
      "«                                                                     »\n",
      "«q_5: ────────────────────────────────────────────────────────────────»\n",
      "«                                                                     »\n",
      "«q_6: ────────────────────────────────────────────────────────────────»\n",
      "«                                                                     »\n",
      "«q_7: ────────────────────────────────────────────────────────────────»\n",
      "«                                                                     »\n",
      "«q_8: ────────────────────────────────────────────────────────────────»\n",
      "«                                                                     »\n",
      "«q_9: ────────────────────────────────────────────────────────────────»\n",
      "«                                                                     »\n",
      "«                                                                        »\n",
      "«q_0: ───────────────────────────────────────────────────────────────────»\n",
      "«        ┌────┐  ┌────────┐                                              »\n",
      "«q_1: ───┤ √X ├──┤ Rz(-π) ├──────────────────────────────────────────────»\n",
      "«     ┌──┴────┴─┐└────────┘ ┌────────┐┌────┐┌───────────┐┌────┐          »\n",
      "«q_2: ┤ Rz(π/2) ├────■──────┤ Rz(-π) ├┤ √X ├┤ Rz(2.434) ├┤ √X ├──────────»\n",
      "«     └─────────┘  ┌─┴─┐   ┌┴────────┤├────┤└┬─────────┬┘└────┘┌────────┐»\n",
      "«q_3: ─────────────┤ X ├───┤ Rz(π/2) ├┤ √X ├─┤ Rz(π/2) ├───■───┤ Rz(-π) ├»\n",
      "«                  └───┘   └─────────┘└────┘ └─────────┘ ┌─┴─┐ └─┬────┬─┘»\n",
      "«q_4: ───────────────────────────────────────────────────┤ X ├───┤ √X ├──»\n",
      "«                                                        └───┘   └────┘  »\n",
      "«q_5: ───────────────────────────────────────────────────────────────────»\n",
      "«                                                                        »\n",
      "«q_6: ───────────────────────────────────────────────────────────────────»\n",
      "«                                                                        »\n",
      "«q_7: ───────────────────────────────────────────────────────────────────»\n",
      "«                                                                        »\n",
      "«q_8: ───────────────────────────────────────────────────────────────────»\n",
      "«                                                                        »\n",
      "«q_9: ───────────────────────────────────────────────────────────────────»\n",
      "«                                                                        »\n",
      "«                                           \n",
      "«q_0: ──────────────────────────────────────\n",
      "«                                           \n",
      "«q_1: ──────────────────────────────────────\n",
      "«                                           \n",
      "«q_2: ──────────────────────────────────────\n",
      "«          ┌────┐    ┌───────────────┐┌────┐\n",
      "«q_3: ─────┤ √X ├────┤ Rz(0.0001055) ├┤ √X ├\n",
      "«     ┌────┴────┴───┐└─────┬────┬────┘└────┘\n",
      "«q_4: ┤ Rz(-1.0203) ├──────┤ √X ├───────────\n",
      "«     └─────────────┘      └────┘           \n",
      "«q_5: ──────────────────────────────────────\n",
      "«                                           \n",
      "«q_6: ──────────────────────────────────────\n",
      "«                                           \n",
      "«q_7: ──────────────────────────────────────\n",
      "«                                           \n",
      "«q_8: ──────────────────────────────────────\n",
      "«                                           \n",
      "«q_9: ──────────────────────────────────────\n",
      "«                                           \n",
      "cuts:\n",
      " (Qubit(QuantumRegister(10, 'q'), 0), 5)\n",
      " (Qubit(QuantumRegister(10, 'q'), 0), 6)\n",
      "\n",
      "fragment 0:\n",
      "                                                   ┌────┐┌────────────┐┌────┐»\n",
      "q_0: ───────────────────────────────────────────■──┤ √X ├┤ Rz(1.5323) ├┤ √X ├»\n",
      "                                         ┌───┐┌─┴─┐└────┘└────────────┘└────┘»\n",
      "q_1: ────────────────────────────────────┤ X ├┤ X ├──────────────────────────»\n",
      "     ┌────────┐┌────┐┌────────────┐┌────┐└─┬─┘└───┘                          »\n",
      "q_2: ┤ Rz(-π) ├┤ √X ├┤ Rz(1.6094) ├┤ √X ├──■─────────────────────────────────»\n",
      "     └────────┘└────┘└────────────┘└────┘                                    »\n",
      "«     ┌────────┐\n",
      "«q_0: ┤ Rz(-π) ├\n",
      "«     └────────┘\n",
      "«q_1: ──────────\n",
      "«               \n",
      "«q_2: ──────────\n",
      "«               \n",
      "\n",
      "fragment 1:\n",
      "     ┌────┐┌─────────────┐┌────┐                                      »\n",
      "q_0: ┤ √X ├┤ Rz(-1.5708) ├┤ √X ├──────────────────────────────────────»\n",
      "     ├────┤└┬────────────┤├────┤                                      »\n",
      "q_1: ┤ √X ├─┤ Rz(1.0205) ├┤ √X ├──────────────────────────────────────»\n",
      "     └────┘ └────────────┘└────┘                                      »\n",
      "q_2: ─────────────────────────────■───────────────────────────────────»\n",
      "     ┌────┐┌─────────────┐┌────┐┌─┴─┐┌─────────┐┌────┐┌─────────┐     »\n",
      "q_3: ┤ √X ├┤ Rz(-1.5709) ├┤ √X ├┤ X ├┤ Rz(π/2) ├┤ √X ├┤ Rz(π/2) ├──■──»\n",
      "     ├────┤├─────────────┤├────┤└───┘└─────────┘└────┘└─────────┘┌─┴─┐»\n",
      "q_4: ┤ √X ├┤ Rz(-2.2784) ├┤ √X ├─────────────────────────────────┤ X ├»\n",
      "     └────┘└─────────────┘└────┘                                 └───┘»\n",
      "«                                                       ┌───┐┌─────────┐┌────┐»\n",
      "«q_0: ──────────────────────────────────────────────────┤ X ├┤ Rz(π/2) ├┤ √X ├»\n",
      "«                                                       └─┬─┘└─────────┘└────┘»\n",
      "«q_1: ────────────────────────────────────────────────────┼───────────────────»\n",
      "«                                                         │                   »\n",
      "«q_2: ────────────────────────────────────────────────────┼───────────────────»\n",
      "«        ┌────┐  ┌────────────────┐   ┌────┐  ┌────────┐  │                   »\n",
      "«q_3: ───┤ √X ├──┤ Rz(6.5854e-05) ├───┤ √X ├──┤ Rz(-π) ├──┼───────────────────»\n",
      "«     ┌──┴────┴─┐└─────┬────┬─────┘┌──┴────┴─┐└────────┘  │   ┌────────┐┌────┐»\n",
      "«q_4: ┤ Rz(π/2) ├──────┤ √X ├──────┤ Rz(π/2) ├────────────■───┤ Rz(-π) ├┤ √X ├»\n",
      "«     └─────────┘      └────┘      └─────────┘                └────────┘└────┘»\n",
      "«      ┌─────────┐       ┌────────┐     ┌────┐    ┌───────────────┐┌────┐\n",
      "«q_0: ─┤ Rz(π/2) ├───■───┤ Rz(-π) ├─────┤ √X ├────┤ Rz(0.0001055) ├┤ √X ├\n",
      "«      └─────────┘ ┌─┴─┐ └─┬────┬─┘┌────┴────┴───┐└─────┬────┬────┘└────┘\n",
      "«q_1: ─────────────┤ X ├───┤ √X ├──┤ Rz(-1.0203) ├──────┤ √X ├───────────\n",
      "«                  └───┘   └────┘  └─────────────┘      └────┘           \n",
      "«q_2: ───────────────────────────────────────────────────────────────────\n",
      "«                                                                        \n",
      "«q_3: ───────────────────────────────────────────────────────────────────\n",
      "«     ┌───────────┐┌────┐                                                \n",
      "«q_4: ┤ Rz(2.434) ├┤ √X ├────────────────────────────────────────────────\n",
      "«     └───────────┘└────┘                                                \n",
      "\n",
      "fragment 2:\n",
      "     \n",
      "q_0: \n",
      "     \n",
      "q_1: \n",
      "     \n",
      "q_2: \n",
      "     \n",
      "q_3: \n",
      "     \n",
      "\n",
      "fragment_index, prep_cuts, meas_cuts:\n",
      "0 1 1\n",
      "1 1 1\n",
      "2 0 0\n",
      "\n",
      "total number of fragment variants: 25\n",
      "total number of shots: 800000\n",
      "\n"
     ]
    }
   ],
   "source": [
    "if print_circuits:\n",
    "    print(\"total circuit:\")\n",
    "    print(circuit)\n",
    "    print(\"cuts:\")\n",
    "    for cut in cuts:\n",
    "        print(\"\",cut)\n",
    "    print()\n",
    "    for idx, fragment in enumerate(fragments):\n",
    "        print(f\"fragment {idx}:\")\n",
    "        print(fragment)\n",
    "        print()\n",
    "    fragment_cuts = ml.fragment_cuts(wire_path_map)\n",
    "    print(\"fragment_index, prep_cuts, meas_cuts:\")\n",
    "    for frag_idx, frag_cuts in enumerate(fragment_cuts):\n",
    "        print(frag_idx, frag_cuts[\"prep\"], frag_cuts[\"meas\"])\n",
    "    print()\n",
    "    print(\"total number of fragment variants:\", total_variants)\n",
    "    print(\"total number of shots:\", ( shots // total_variants ) * total_variants)\n",
    "    print()"
   ]
  },
  {
   "cell_type": "code",
   "execution_count": 31,
   "id": "956041cd",
   "metadata": {},
   "outputs": [
    {
     "name": "stdout",
     "output_type": "stream",
     "text": [
      "[{'prep': 1, 'meas': 1}, {'prep': 1, 'meas': 1}, {'prep': 0, 'meas': 0}]\n"
     ]
    }
   ],
   "source": [
    "print(fragment_cuts)"
   ]
  },
  {
   "cell_type": "code",
   "execution_count": 32,
   "id": "398d7b33",
   "metadata": {},
   "outputs": [],
   "source": [
    "# list of all possible measurement outcomes (bitstrings)\n",
    "all_bits = [ \"\".join(bits) for bits in itertools.product([\"0\",\"1\"], repeat = qubits) ]"
   ]
  },
  {
   "cell_type": "code",
   "execution_count": 33,
   "id": "05e2a6c7",
   "metadata": {},
   "outputs": [
    {
     "name": "stdout",
     "output_type": "stream",
     "text": [
      "['00000', '00001', '00010', '00011', '00100', '00101', '00110', '00111', '01000', '01001', '01010', '01011', '01100', '01101', '01110', '01111', '10000', '10001', '10010', '10011', '10100', '10101', '10110', '10111', '11000', '11001', '11010', '11011', '11100', '11101', '11110', '11111']\n"
     ]
    }
   ],
   "source": [
    "print(all_bits)"
   ]
  },
  {
   "cell_type": "code",
   "execution_count": 34,
   "id": "991f5ee3",
   "metadata": {},
   "outputs": [
    {
     "name": "stdout",
     "output_type": "stream",
     "text": [
      "job_id: "
     ]
    },
    {
     "name": "stderr",
     "output_type": "stream",
     "text": [
      "/var/folders/s4/3cvgkkn17hg628pzrzzjnhww0000gn/T/ipykernel_14821/3477497331.py:4: DeprecationWarning: The return type of saved statevectors has been changed from a `numpy.ndarray` to a `qiskit.quantum_info.Statevector` as of qiskit-aer 0.10. Accessing numpy array attributes is deprecated and will result in an error in a future release. To continue using saved result objects as arrays you can explicitly cast them using  `np.asarray(object)`.\n",
      "  for bits, amp in zip(all_bits, actual_state)\n"
     ]
    },
    {
     "name": "stdout",
     "output_type": "stream",
     "text": [
      " 02f38760-58c4-4e54-ac73-6559fb834314\n"
     ]
    }
   ],
   "source": [
    "# get the actual state / probability distribution for the full circuit\n",
    "actual_state = ml.get_statevector(circuit)\n",
    "actual_dist = { \"\".join(bits) : abs(amp)**2\n",
    "                for bits, amp in zip(all_bits, actual_state)\n",
    "                if amp != 0 }\n",
    "\n",
    "# get a simulated probability distribution for the full circuit\n",
    "circuit.measure_active()\n",
    "full_circuit_result = ml.run_circuits(circuit, shots, backend = simulation_backend)\n",
    "full_circuit_dist = {}\n",
    "for part in full_circuit_result:\n",
    "    for bits, counts in part.get_counts(circuit).items():\n",
    "        if bits not in full_circuit_dist:\n",
    "            full_circuit_dist[bits] = 0\n",
    "        full_circuit_dist[bits] += counts / shots"
   ]
  },
  {
   "cell_type": "code",
   "execution_count": 35,
   "id": "7e93e1dc",
   "metadata": {},
   "outputs": [
    {
     "data": {
      "text/plain": [
       "{Qubit(QuantumRegister(10, 'q'), 0): ((0, Qubit(QuantumRegister(3, 'q'), 2)),\n",
       "  (1, Qubit(QuantumRegister(5, 'q'), 2)),\n",
       "  (0, Qubit(QuantumRegister(3, 'q'), 0))),\n",
       " Qubit(QuantumRegister(10, 'q'), 1): ((1, Qubit(QuantumRegister(5, 'q'), 3)),),\n",
       " Qubit(QuantumRegister(10, 'q'), 2): ((1, Qubit(QuantumRegister(5, 'q'), 4)),),\n",
       " Qubit(QuantumRegister(10, 'q'), 3): ((1, Qubit(QuantumRegister(5, 'q'), 0)),),\n",
       " Qubit(QuantumRegister(10, 'q'), 4): ((1, Qubit(QuantumRegister(5, 'q'), 1)),),\n",
       " Qubit(QuantumRegister(10, 'q'), 5): ((0, Qubit(QuantumRegister(3, 'q'), 1)),),\n",
       " Qubit(QuantumRegister(10, 'q'), 6): ((2, Qubit(QuantumRegister(4, 'q'), 0)),),\n",
       " Qubit(QuantumRegister(10, 'q'), 7): ((2, Qubit(QuantumRegister(4, 'q'), 1)),),\n",
       " Qubit(QuantumRegister(10, 'q'), 8): ((2, Qubit(QuantumRegister(4, 'q'), 2)),),\n",
       " Qubit(QuantumRegister(10, 'q'), 9): ((2, Qubit(QuantumRegister(4, 'q'), 3)),)}"
      ]
     },
     "execution_count": 35,
     "metadata": {},
     "output_type": "execute_result"
    }
   ],
   "source": [
    "wire_path_map"
   ]
  },
  {
   "cell_type": "code",
   "execution_count": 36,
   "id": "6a5762e7",
   "metadata": {},
   "outputs": [],
   "source": [
    "orign_qc = QuantumCircuit.from_qasm_file(\"qasm/vqe_5q.qasm\")\n",
    "orign_qc.measure_all()"
   ]
  },
  {
   "cell_type": "code",
   "execution_count": 37,
   "id": "168341f6",
   "metadata": {},
   "outputs": [],
   "source": [
    "orign_qc = transpile(orign_qc, basis_gates = ['sx', 'cx', 'reset', 'id', 'x', 'rz'])"
   ]
  },
  {
   "cell_type": "code",
   "execution_count": 38,
   "id": "c3eb407d",
   "metadata": {},
   "outputs": [
    {
     "data": {
      "text/html": [
       "<pre style=\"word-wrap: normal;white-space: pre;background: #fff0;line-height: 1.1;font-family: &quot;Courier New&quot;,Courier,monospace\">global phase: 5π/4\n",
       "        ┌────────┐     ┌────┐    ┌────────────┐┌────┐        ┌────┐  »\n",
       "   q_0: ┤ Rz(-π) ├─────┤ √X ├────┤ Rz(1.6094) ├┤ √X ├──■─────┤ √X ├──»\n",
       "        └─┬────┬─┘┌────┴────┴───┐└───┬────┬───┘└────┘┌─┴─┐┌──┴────┴─┐»\n",
       "   q_1: ──┤ √X ├──┤ Rz(-1.5709) ├────┤ √X ├──────────┤ X ├┤ Rz(π/2) ├»\n",
       "          ├────┤  ├─────────────┤    ├────┤          └───┘└─────────┘»\n",
       "   q_2: ──┤ √X ├──┤ Rz(-2.2784) ├────┤ √X ├──────────────────────────»\n",
       "          ├────┤  ├─────────────┤    ├────┤                          »\n",
       "   q_3: ──┤ √X ├──┤ Rz(-1.5708) ├────┤ √X ├──────────────────────────»\n",
       "          ├────┤  └┬────────────┤    ├────┤                          »\n",
       "   q_4: ──┤ √X ├───┤ Rz(1.0205) ├────┤ √X ├──────────────────────────»\n",
       "          └────┘   └────────────┘    └────┘                          »\n",
       "meas_0: ═════════════════════════════════════════════════════════════»\n",
       "                                                                     »\n",
       "meas_1: ═════════════════════════════════════════════════════════════»\n",
       "                                                                     »\n",
       "meas_2: ═════════════════════════════════════════════════════════════»\n",
       "                                                                     »\n",
       "meas_3: ═════════════════════════════════════════════════════════════»\n",
       "                                                                     »\n",
       "meas_4: ═════════════════════════════════════════════════════════════»\n",
       "                                                                     »\n",
       "«        ┌────────────┐   ┌────┐  ┌────────┐                             »\n",
       "«   q_0: ┤ Rz(1.5323) ├───┤ √X ├──┤ Rz(-π) ├─────────────────────────────»\n",
       "«        └───┬────┬───┘┌──┴────┴─┐└────────┘   ┌────┐  ┌────────────────┐»\n",
       "«   q_1: ────┤ √X ├────┤ Rz(π/2) ├────■────────┤ √X ├──┤ Rz(6.5854e-05) ├»\n",
       "«            └────┘    └─────────┘  ┌─┴─┐   ┌──┴────┴─┐└─────┬────┬─────┘»\n",
       "«   q_2: ───────────────────────────┤ X ├───┤ Rz(π/2) ├──────┤ √X ├──────»\n",
       "«                                   └───┘   └─────────┘      └────┘      »\n",
       "«   q_3: ────────────────────────────────────────────────────────────────»\n",
       "«                                                                        »\n",
       "«   q_4: ────────────────────────────────────────────────────────────────»\n",
       "«                                                                        »\n",
       "«meas_0: ════════════════════════════════════════════════════════════════»\n",
       "«                                                                        »\n",
       "«meas_1: ════════════════════════════════════════════════════════════════»\n",
       "«                                                                        »\n",
       "«meas_2: ════════════════════════════════════════════════════════════════»\n",
       "«                                                                        »\n",
       "«meas_3: ════════════════════════════════════════════════════════════════»\n",
       "«                                                                        »\n",
       "«meas_4: ════════════════════════════════════════════════════════════════»\n",
       "«                                                                        »\n",
       "«                                                                           »\n",
       "«   q_0: ───────────────────────────────────────────────────────────────────»\n",
       "«           ┌────┐  ┌────────┐                                              »\n",
       "«   q_1: ───┤ √X ├──┤ Rz(-π) ├──────────────────────────────────────────────»\n",
       "«        ┌──┴────┴─┐└────────┘ ┌────────┐┌────┐┌───────────┐┌────┐          »\n",
       "«   q_2: ┤ Rz(π/2) ├────■──────┤ Rz(-π) ├┤ √X ├┤ Rz(2.434) ├┤ √X ├──────────»\n",
       "«        └─────────┘  ┌─┴─┐   ┌┴────────┤├────┤└┬─────────┬┘└────┘┌────────┐»\n",
       "«   q_3: ─────────────┤ X ├───┤ Rz(π/2) ├┤ √X ├─┤ Rz(π/2) ├───■───┤ Rz(-π) ├»\n",
       "«                     └───┘   └─────────┘└────┘ └─────────┘ ┌─┴─┐ └─┬────┬─┘»\n",
       "«   q_4: ───────────────────────────────────────────────────┤ X ├───┤ √X ├──»\n",
       "«                                                           └───┘   └────┘  »\n",
       "«meas_0: ═══════════════════════════════════════════════════════════════════»\n",
       "«                                                                           »\n",
       "«meas_1: ═══════════════════════════════════════════════════════════════════»\n",
       "«                                                                           »\n",
       "«meas_2: ═══════════════════════════════════════════════════════════════════»\n",
       "«                                                                           »\n",
       "«meas_3: ═══════════════════════════════════════════════════════════════════»\n",
       "«                                                                           »\n",
       "«meas_4: ═══════════════════════════════════════════════════════════════════»\n",
       "«                                                                           »\n",
       "«                                               ░ ┌─┐            \n",
       "«   q_0: ───────────────────────────────────────░─┤M├────────────\n",
       "«                                               ░ └╥┘┌─┐         \n",
       "«   q_1: ───────────────────────────────────────░──╫─┤M├─────────\n",
       "«                                               ░  ║ └╥┘┌─┐      \n",
       "«   q_2: ───────────────────────────────────────░──╫──╫─┤M├──────\n",
       "«             ┌────┐    ┌───────────────┐┌────┐ ░  ║  ║ └╥┘┌─┐   \n",
       "«   q_3: ─────┤ √X ├────┤ Rz(0.0001055) ├┤ √X ├─░──╫──╫──╫─┤M├───\n",
       "«        ┌────┴────┴───┐└─────┬────┬────┘└────┘ ░  ║  ║  ║ └╥┘┌─┐\n",
       "«   q_4: ┤ Rz(-1.0203) ├──────┤ √X ├────────────░──╫──╫──╫──╫─┤M├\n",
       "«        └─────────────┘      └────┘            ░  ║  ║  ║  ║ └╥┘\n",
       "«meas_0: ══════════════════════════════════════════╩══╬══╬══╬══╬═\n",
       "«                                                     ║  ║  ║  ║ \n",
       "«meas_1: ═════════════════════════════════════════════╩══╬══╬══╬═\n",
       "«                                                        ║  ║  ║ \n",
       "«meas_2: ════════════════════════════════════════════════╩══╬══╬═\n",
       "«                                                           ║  ║ \n",
       "«meas_3: ═══════════════════════════════════════════════════╩══╬═\n",
       "«                                                              ║ \n",
       "«meas_4: ══════════════════════════════════════════════════════╩═\n",
       "«                                                                </pre>"
      ],
      "text/plain": [
       "global phase: 5π/4\n",
       "        ┌────────┐     ┌────┐    ┌────────────┐┌────┐        ┌────┐  »\n",
       "   q_0: ┤ Rz(-π) ├─────┤ √X ├────┤ Rz(1.6094) ├┤ √X ├──■─────┤ √X ├──»\n",
       "        └─┬────┬─┘┌────┴────┴───┐└───┬────┬───┘└────┘┌─┴─┐┌──┴────┴─┐»\n",
       "   q_1: ──┤ √X ├──┤ Rz(-1.5709) ├────┤ √X ├──────────┤ X ├┤ Rz(π/2) ├»\n",
       "          ├────┤  ├─────────────┤    ├────┤          └───┘└─────────┘»\n",
       "   q_2: ──┤ √X ├──┤ Rz(-2.2784) ├────┤ √X ├──────────────────────────»\n",
       "          ├────┤  ├─────────────┤    ├────┤                          »\n",
       "   q_3: ──┤ √X ├──┤ Rz(-1.5708) ├────┤ √X ├──────────────────────────»\n",
       "          ├────┤  └┬────────────┤    ├────┤                          »\n",
       "   q_4: ──┤ √X ├───┤ Rz(1.0205) ├────┤ √X ├──────────────────────────»\n",
       "          └────┘   └────────────┘    └────┘                          »\n",
       "meas_0: ═════════════════════════════════════════════════════════════»\n",
       "                                                                     »\n",
       "meas_1: ═════════════════════════════════════════════════════════════»\n",
       "                                                                     »\n",
       "meas_2: ═════════════════════════════════════════════════════════════»\n",
       "                                                                     »\n",
       "meas_3: ═════════════════════════════════════════════════════════════»\n",
       "                                                                     »\n",
       "meas_4: ═════════════════════════════════════════════════════════════»\n",
       "                                                                     »\n",
       "«        ┌────────────┐   ┌────┐  ┌────────┐                             »\n",
       "«   q_0: ┤ Rz(1.5323) ├───┤ √X ├──┤ Rz(-π) ├─────────────────────────────»\n",
       "«        └───┬────┬───┘┌──┴────┴─┐└────────┘   ┌────┐  ┌────────────────┐»\n",
       "«   q_1: ────┤ √X ├────┤ Rz(π/2) ├────■────────┤ √X ├──┤ Rz(6.5854e-05) ├»\n",
       "«            └────┘    └─────────┘  ┌─┴─┐   ┌──┴────┴─┐└─────┬────┬─────┘»\n",
       "«   q_2: ───────────────────────────┤ X ├───┤ Rz(π/2) ├──────┤ √X ├──────»\n",
       "«                                   └───┘   └─────────┘      └────┘      »\n",
       "«   q_3: ────────────────────────────────────────────────────────────────»\n",
       "«                                                                        »\n",
       "«   q_4: ────────────────────────────────────────────────────────────────»\n",
       "«                                                                        »\n",
       "«meas_0: ════════════════════════════════════════════════════════════════»\n",
       "«                                                                        »\n",
       "«meas_1: ════════════════════════════════════════════════════════════════»\n",
       "«                                                                        »\n",
       "«meas_2: ════════════════════════════════════════════════════════════════»\n",
       "«                                                                        »\n",
       "«meas_3: ════════════════════════════════════════════════════════════════»\n",
       "«                                                                        »\n",
       "«meas_4: ════════════════════════════════════════════════════════════════»\n",
       "«                                                                        »\n",
       "«                                                                           »\n",
       "«   q_0: ───────────────────────────────────────────────────────────────────»\n",
       "«           ┌────┐  ┌────────┐                                              »\n",
       "«   q_1: ───┤ √X ├──┤ Rz(-π) ├──────────────────────────────────────────────»\n",
       "«        ┌──┴────┴─┐└────────┘ ┌────────┐┌────┐┌───────────┐┌────┐          »\n",
       "«   q_2: ┤ Rz(π/2) ├────■──────┤ Rz(-π) ├┤ √X ├┤ Rz(2.434) ├┤ √X ├──────────»\n",
       "«        └─────────┘  ┌─┴─┐   ┌┴────────┤├────┤└┬─────────┬┘└────┘┌────────┐»\n",
       "«   q_3: ─────────────┤ X ├───┤ Rz(π/2) ├┤ √X ├─┤ Rz(π/2) ├───■───┤ Rz(-π) ├»\n",
       "«                     └───┘   └─────────┘└────┘ └─────────┘ ┌─┴─┐ └─┬────┬─┘»\n",
       "«   q_4: ───────────────────────────────────────────────────┤ X ├───┤ √X ├──»\n",
       "«                                                           └───┘   └────┘  »\n",
       "«meas_0: ═══════════════════════════════════════════════════════════════════»\n",
       "«                                                                           »\n",
       "«meas_1: ═══════════════════════════════════════════════════════════════════»\n",
       "«                                                                           »\n",
       "«meas_2: ═══════════════════════════════════════════════════════════════════»\n",
       "«                                                                           »\n",
       "«meas_3: ═══════════════════════════════════════════════════════════════════»\n",
       "«                                                                           »\n",
       "«meas_4: ═══════════════════════════════════════════════════════════════════»\n",
       "«                                                                           »\n",
       "«                                               ░ ┌─┐            \n",
       "«   q_0: ───────────────────────────────────────░─┤M├────────────\n",
       "«                                               ░ └╥┘┌─┐         \n",
       "«   q_1: ───────────────────────────────────────░──╫─┤M├─────────\n",
       "«                                               ░  ║ └╥┘┌─┐      \n",
       "«   q_2: ───────────────────────────────────────░──╫──╫─┤M├──────\n",
       "«             ┌────┐    ┌───────────────┐┌────┐ ░  ║  ║ └╥┘┌─┐   \n",
       "«   q_3: ─────┤ √X ├────┤ Rz(0.0001055) ├┤ √X ├─░──╫──╫──╫─┤M├───\n",
       "«        ┌────┴────┴───┐└─────┬────┬────┘└────┘ ░  ║  ║  ║ └╥┘┌─┐\n",
       "«   q_4: ┤ Rz(-1.0203) ├──────┤ √X ├────────────░──╫──╫──╫──╫─┤M├\n",
       "«        └─────────────┘      └────┘            ░  ║  ║  ║  ║ └╥┘\n",
       "«meas_0: ══════════════════════════════════════════╩══╬══╬══╬══╬═\n",
       "«                                                     ║  ║  ║  ║ \n",
       "«meas_1: ═════════════════════════════════════════════╩══╬══╬══╬═\n",
       "«                                                        ║  ║  ║ \n",
       "«meas_2: ════════════════════════════════════════════════╩══╬══╬═\n",
       "«                                                           ║  ║ \n",
       "«meas_3: ═══════════════════════════════════════════════════╩══╬═\n",
       "«                                                              ║ \n",
       "«meas_4: ══════════════════════════════════════════════════════╩═\n",
       "«                                                                "
      ]
     },
     "execution_count": 38,
     "metadata": {},
     "output_type": "execute_result"
    }
   ],
   "source": [
    "orign_qc.draw()"
   ]
  },
  {
   "cell_type": "code",
   "execution_count": 39,
   "id": "1d356082",
   "metadata": {},
   "outputs": [
    {
     "data": {
      "text/plain": [
       "3"
      ]
     },
     "execution_count": 39,
     "metadata": {},
     "output_type": "execute_result"
    }
   ],
   "source": [
    "len(fragments)"
   ]
  },
  {
   "cell_type": "code",
   "execution_count": 40,
   "id": "3854951e",
   "metadata": {},
   "outputs": [],
   "source": [
    "temp_frag_data = [0] * len(fragments)"
   ]
  },
  {
   "cell_type": "code",
   "execution_count": 41,
   "id": "b018e1fa",
   "metadata": {},
   "outputs": [
    {
     "data": {
      "text/html": [
       "<pre style=\"word-wrap: normal;white-space: pre;background: #fff0;line-height: 1.1;font-family: &quot;Courier New&quot;,Courier,monospace\">                                                   ┌────┐┌────────────┐┌────┐»\n",
       "q_0: ───────────────────────────────────────────■──┤ √X ├┤ Rz(1.5323) ├┤ √X ├»\n",
       "                                         ┌───┐┌─┴─┐└────┘└────────────┘└────┘»\n",
       "q_1: ────────────────────────────────────┤ X ├┤ X ├──────────────────────────»\n",
       "     ┌────────┐┌────┐┌────────────┐┌────┐└─┬─┘└───┘                          »\n",
       "q_2: ┤ Rz(-π) ├┤ √X ├┤ Rz(1.6094) ├┤ √X ├──■─────────────────────────────────»\n",
       "     └────────┘└────┘└────────────┘└────┘                                    »\n",
       "«     ┌────────┐\n",
       "«q_0: ┤ Rz(-π) ├\n",
       "«     └────────┘\n",
       "«q_1: ──────────\n",
       "«               \n",
       "«q_2: ──────────\n",
       "«               </pre>"
      ],
      "text/plain": [
       "                                                   ┌────┐┌────────────┐┌────┐»\n",
       "q_0: ───────────────────────────────────────────■──┤ √X ├┤ Rz(1.5323) ├┤ √X ├»\n",
       "                                         ┌───┐┌─┴─┐└────┘└────────────┘└────┘»\n",
       "q_1: ────────────────────────────────────┤ X ├┤ X ├──────────────────────────»\n",
       "     ┌────────┐┌────┐┌────────────┐┌────┐└─┬─┘└───┘                          »\n",
       "q_2: ┤ Rz(-π) ├┤ √X ├┤ Rz(1.6094) ├┤ √X ├──■─────────────────────────────────»\n",
       "     └────────┘└────┘└────────────┘└────┘                                    »\n",
       "«     ┌────────┐\n",
       "«q_0: ┤ Rz(-π) ├\n",
       "«     └────────┘\n",
       "«q_1: ──────────\n",
       "«               \n",
       "«q_2: ──────────\n",
       "«               "
      ]
     },
     "execution_count": 41,
     "metadata": {},
     "output_type": "execute_result"
    }
   ],
   "source": [
    "fragments[0].draw()"
   ]
  },
  {
   "cell_type": "code",
   "execution_count": 42,
   "id": "199571c0",
   "metadata": {},
   "outputs": [],
   "source": [
    "import qiskit.ignis.verification as vf"
   ]
  },
  {
   "cell_type": "code",
   "execution_count": 43,
   "id": "5095adab",
   "metadata": {},
   "outputs": [
    {
     "name": "stdout",
     "output_type": "stream",
     "text": [
      "Job Status: job has successfully run\n",
      "job_id:  c83725b4-a6a1-4c06-8ae6-06437b1de7c9\n"
     ]
    }
   ],
   "source": [
    "temp_frag_data[0] = ml.collect_fragment_raw_data(fragments[0], 0, wire_path_map,\n",
    "                                 shots = shots // total_variants,\n",
    "                                 tomography_backend = simulation_backend)"
   ]
  },
  {
   "cell_type": "code",
   "execution_count": 44,
   "id": "d362ad42",
   "metadata": {},
   "outputs": [
    {
     "name": "stdout",
     "output_type": "stream",
     "text": [
      "Job Status: job has successfully run\n",
      "job_id:  ac3fdad7-0d17-49a8-b464-9fd96b22a9a2\n"
     ]
    }
   ],
   "source": [
    "##########################################################################################\n",
    "# simulate fragments and recombine results to reconstruct the outputs of the full circuit\n",
    "##########################################################################################\n",
    "\n",
    "# simulate fragments, build fragment models, and recombine fragment models\n",
    "temp_frag_data[1] = ml.collect_fragment_raw_data(fragments[1], 1, wire_path_map,\n",
    "                                     shots = shots // total_variants,\n",
    "                                     tomography_backend = simulation_backend, noise_model = noise_model, opt_lvl = 3, extra_qc = [orign_qc])"
   ]
  },
  {
   "cell_type": "code",
   "execution_count": 45,
   "id": "7bb6c1cf",
   "metadata": {},
   "outputs": [
    {
     "name": "stdout",
     "output_type": "stream",
     "text": [
      "Job Status: job has successfully run\n",
      "job_id:  e4663b91-9f5f-4af3-9b59-82235c3ea555\n"
     ]
    }
   ],
   "source": [
    "temp_frag_data[2] = ml.collect_fragment_raw_data(fragments[2], 2, wire_path_map,\n",
    "                                 shots = shots // total_variants,\n",
    "                                 tomography_backend = simulation_backend)"
   ]
  },
  {
   "cell_type": "code",
   "execution_count": 46,
   "id": "77ce4f90",
   "metadata": {},
   "outputs": [],
   "source": [
    "frag_targets = ml.identify_frag_targets(wire_path_map)"
   ]
  },
  {
   "cell_type": "code",
   "execution_count": 47,
   "id": "dc46027a",
   "metadata": {},
   "outputs": [],
   "source": [
    "frag_data = []\n",
    "for i in range(0, len(fragments)):\n",
    "    extra_list = []\n",
    "    if i == 1:\n",
    "        extra_list = [orign_qc]\n",
    "    frag_data.append(ml.organize_tomography_data(temp_frag_data[i][0],\n",
    "                                      frag_targets[i].get(\"prep\"),\n",
    "                                      frag_targets[i].get(\"meas\"),\n",
    "                                      prep_basis = \"SIC\", extra_qc = extra_list))"
   ]
  },
  {
   "cell_type": "code",
   "execution_count": 48,
   "id": "76b00b81",
   "metadata": {},
   "outputs": [
    {
     "data": {
      "text/plain": [
       "3"
      ]
     },
     "execution_count": 48,
     "metadata": {},
     "output_type": "execute_result"
    }
   ],
   "source": [
    "len(frag_data)"
   ]
  },
  {
   "cell_type": "code",
   "execution_count": 49,
   "id": "029b42f7",
   "metadata": {},
   "outputs": [
    {
     "data": {
      "text/plain": [
       "{'1110': {(('S0',), ('Zm',)): 1,\n",
       "  (('S0',), ('Zp',)): 117,\n",
       "  (('S0',), ('Xm',)): 62,\n",
       "  (('S0',), ('Xp',)): 55,\n",
       "  (('S0',), ('Ym',)): 61,\n",
       "  (('S0',), ('Yp',)): 68,\n",
       "  (('S1',), ('Zp',)): 48,\n",
       "  (('S1',), ('Zm',)): 90,\n",
       "  (('S1',), ('Xp',)): 4,\n",
       "  (('S1',), ('Xm',)): 118,\n",
       "  (('S1',), ('Yp',)): 59,\n",
       "  (('S1',), ('Ym',)): 50,\n",
       "  (('S2',), ('Zm',)): 89,\n",
       "  (('S2',), ('Zp',)): 47,\n",
       "  (('S2',), ('Xp',)): 95,\n",
       "  (('S2',), ('Xm',)): 38,\n",
       "  (('S2',), ('Yp',)): 117,\n",
       "  (('S2',), ('Ym',)): 12,\n",
       "  (('S3',), ('Zp',)): 34,\n",
       "  (('S3',), ('Zm',)): 84,\n",
       "  (('S3',), ('Xp',)): 113,\n",
       "  (('S3',), ('Xm',)): 22,\n",
       "  (('S3',), ('Yp',)): 16,\n",
       "  (('S3',), ('Ym',)): 109},\n",
       " '1011': {(('S0',), ('Zm',)): 2,\n",
       "  (('S0',), ('Zp',)): 291,\n",
       "  (('S0',), ('Xm',)): 137,\n",
       "  (('S0',), ('Xp',)): 149,\n",
       "  (('S0',), ('Ym',)): 155,\n",
       "  (('S0',), ('Yp',)): 132,\n",
       "  (('S1',), ('Zm',)): 193,\n",
       "  (('S1',), ('Zp',)): 79,\n",
       "  (('S1',), ('Xp',)): 21,\n",
       "  (('S1',), ('Xm',)): 252,\n",
       "  (('S1',), ('Ym',)): 132,\n",
       "  (('S1',), ('Yp',)): 149,\n",
       "  (('S2',), ('Zm',)): 172,\n",
       "  (('S2',), ('Zp',)): 89,\n",
       "  (('S2',), ('Xm',)): 72,\n",
       "  (('S2',), ('Xp',)): 201,\n",
       "  (('S2',), ('Ym',)): 20,\n",
       "  (('S2',), ('Yp',)): 236,\n",
       "  (('S3',), ('Zp',)): 101,\n",
       "  (('S3',), ('Zm',)): 166,\n",
       "  (('S3',), ('Xm',)): 81,\n",
       "  (('S3',), ('Xp',)): 218,\n",
       "  (('S3',), ('Ym',)): 249,\n",
       "  (('S3',), ('Yp',)): 43},\n",
       " '1100': {(('S0',), ('Zp',)): 5,\n",
       "  (('S0',), ('Xp',)): 1,\n",
       "  (('S0',), ('Xm',)): 1,\n",
       "  (('S0',), ('Yp',)): 3,\n",
       "  (('S0',), ('Ym',)): 1,\n",
       "  (('S1',), ('Zm',)): 3,\n",
       "  (('S1',), ('Xm',)): 6,\n",
       "  (('S1',), ('Yp',)): 3,\n",
       "  (('S2',), ('Zp',)): 1,\n",
       "  (('S2',), ('Xp',)): 3,\n",
       "  (('S2',), ('Xm',)): 1,\n",
       "  (('S2',), ('Yp',)): 4,\n",
       "  (('S3',), ('Zp',)): 2,\n",
       "  (('S3',), ('Zm',)): 2,\n",
       "  (('S3',), ('Xp',)): 3,\n",
       "  (('S3',), ('Yp',)): 1,\n",
       "  (('S3',), ('Ym',)): 1,\n",
       "  (('S0',), ('Zm',)): 0,\n",
       "  (('S1',), ('Zp',)): 0,\n",
       "  (('S1',), ('Xp',)): 0,\n",
       "  (('S1',), ('Ym',)): 0,\n",
       "  (('S2',), ('Zm',)): 0,\n",
       "  (('S2',), ('Ym',)): 0,\n",
       "  (('S3',), ('Xm',)): 0},\n",
       " '0011': {(('S0',), ('Zp',)): 8,\n",
       "  (('S0',), ('Xm',)): 3,\n",
       "  (('S0',), ('Xp',)): 7,\n",
       "  (('S0',), ('Yp',)): 3,\n",
       "  (('S0',), ('Ym',)): 2,\n",
       "  (('S1',), ('Zp',)): 1,\n",
       "  (('S1',), ('Zm',)): 3,\n",
       "  (('S1',), ('Xm',)): 4,\n",
       "  (('S1',), ('Yp',)): 4,\n",
       "  (('S2',), ('Zp',)): 4,\n",
       "  (('S2',), ('Zm',)): 2,\n",
       "  (('S2',), ('Xp',)): 3,\n",
       "  (('S2',), ('Xm',)): 2,\n",
       "  (('S2',), ('Yp',)): 7,\n",
       "  (('S3',), ('Zp',)): 3,\n",
       "  (('S3',), ('Zm',)): 7,\n",
       "  (('S3',), ('Xp',)): 9,\n",
       "  (('S3',), ('Xm',)): 1,\n",
       "  (('S3',), ('Ym',)): 4,\n",
       "  (('S0',), ('Zm',)): 0,\n",
       "  (('S1',), ('Xp',)): 0,\n",
       "  (('S1',), ('Ym',)): 0,\n",
       "  (('S2',), ('Ym',)): 0,\n",
       "  (('S3',), ('Yp',)): 0},\n",
       " '0001': {(('S0',), ('Zp',)): 1,\n",
       "  (('S3',), ('Xp',)): 2,\n",
       "  (('S3',), ('Ym',)): 1,\n",
       "  (('S0',), ('Zm',)): 0,\n",
       "  (('S0',), ('Xp',)): 0,\n",
       "  (('S0',), ('Xm',)): 0,\n",
       "  (('S0',), ('Yp',)): 0,\n",
       "  (('S0',), ('Ym',)): 0,\n",
       "  (('S1',), ('Zp',)): 0,\n",
       "  (('S1',), ('Zm',)): 0,\n",
       "  (('S1',), ('Xp',)): 0,\n",
       "  (('S1',), ('Xm',)): 0,\n",
       "  (('S1',), ('Yp',)): 0,\n",
       "  (('S1',), ('Ym',)): 0,\n",
       "  (('S2',), ('Zp',)): 0,\n",
       "  (('S2',), ('Zm',)): 0,\n",
       "  (('S2',), ('Xp',)): 0,\n",
       "  (('S2',), ('Xm',)): 0,\n",
       "  (('S2',), ('Yp',)): 0,\n",
       "  (('S2',), ('Ym',)): 0,\n",
       "  (('S3',), ('Zp',)): 0,\n",
       "  (('S3',), ('Zm',)): 0,\n",
       "  (('S3',), ('Xm',)): 0,\n",
       "  (('S3',), ('Yp',)): 0},\n",
       " '1000': {(('S0',), ('Zm',)): 9,\n",
       "  (('S0',), ('Zp',)): 854,\n",
       "  (('S0',), ('Xm',)): 402,\n",
       "  (('S0',), ('Xp',)): 455,\n",
       "  (('S0',), ('Yp',)): 426,\n",
       "  (('S0',), ('Ym',)): 425,\n",
       "  (('S1',), ('Zm',)): 573,\n",
       "  (('S1',), ('Zp',)): 281,\n",
       "  (('S1',), ('Xp',)): 51,\n",
       "  (('S1',), ('Xm',)): 819,\n",
       "  (('S1',), ('Ym',)): 412,\n",
       "  (('S1',), ('Yp',)): 438,\n",
       "  (('S2',), ('Zm',)): 523,\n",
       "  (('S2',), ('Zp',)): 290,\n",
       "  (('S2',), ('Xm',)): 209,\n",
       "  (('S2',), ('Xp',)): 631,\n",
       "  (('S2',), ('Ym',)): 78,\n",
       "  (('S2',), ('Yp',)): 746,\n",
       "  (('S3',), ('Zm',)): 550,\n",
       "  (('S3',), ('Zp',)): 332,\n",
       "  (('S3',), ('Xm',)): 218,\n",
       "  (('S3',), ('Xp',)): 639,\n",
       "  (('S3',), ('Yp',)): 90,\n",
       "  (('S3',), ('Ym',)): 741},\n",
       " '1001': {(('S0',), ('Zp',)): 5,\n",
       "  (('S0',), ('Xm',)): 3,\n",
       "  (('S0',), ('Xp',)): 3,\n",
       "  (('S0',), ('Yp',)): 4,\n",
       "  (('S0',), ('Ym',)): 4,\n",
       "  (('S1',), ('Zm',)): 3,\n",
       "  (('S1',), ('Zp',)): 5,\n",
       "  (('S1',), ('Xm',)): 11,\n",
       "  (('S1',), ('Ym',)): 1,\n",
       "  (('S1',), ('Yp',)): 4,\n",
       "  (('S2',), ('Zp',)): 2,\n",
       "  (('S2',), ('Zm',)): 11,\n",
       "  (('S2',), ('Xm',)): 2,\n",
       "  (('S2',), ('Xp',)): 6,\n",
       "  (('S2',), ('Ym',)): 1,\n",
       "  (('S2',), ('Yp',)): 7,\n",
       "  (('S3',), ('Zm',)): 4,\n",
       "  (('S3',), ('Zp',)): 2,\n",
       "  (('S3',), ('Xm',)): 2,\n",
       "  (('S3',), ('Xp',)): 7,\n",
       "  (('S3',), ('Ym',)): 6,\n",
       "  (('S0',), ('Zm',)): 0,\n",
       "  (('S1',), ('Xp',)): 0,\n",
       "  (('S3',), ('Yp',)): 0},\n",
       " '0010': {(('S0',), ('Zm',)): 6,\n",
       "  (('S0',), ('Zp',)): 636,\n",
       "  (('S0',), ('Xm',)): 330,\n",
       "  (('S0',), ('Xp',)): 347,\n",
       "  (('S0',), ('Yp',)): 327,\n",
       "  (('S0',), ('Ym',)): 358,\n",
       "  (('S1',), ('Zp',)): 231,\n",
       "  (('S1',), ('Zm',)): 456,\n",
       "  (('S1',), ('Xp',)): 36,\n",
       "  (('S1',), ('Xm',)): 638,\n",
       "  (('S1',), ('Ym',)): 297,\n",
       "  (('S1',), ('Yp',)): 370,\n",
       "  (('S2',), ('Zm',)): 425,\n",
       "  (('S2',), ('Zp',)): 264,\n",
       "  (('S2',), ('Xm',)): 166,\n",
       "  (('S2',), ('Xp',)): 488,\n",
       "  (('S2',), ('Ym',)): 63,\n",
       "  (('S2',), ('Yp',)): 571,\n",
       "  (('S3',), ('Zp',)): 243,\n",
       "  (('S3',), ('Zm',)): 413,\n",
       "  (('S3',), ('Xm',)): 156,\n",
       "  (('S3',), ('Xp',)): 463,\n",
       "  (('S3',), ('Ym',)): 589,\n",
       "  (('S3',), ('Yp',)): 87},\n",
       " '1010': {(('S0',), ('Zm',)): 219,\n",
       "  (('S0',), ('Zp',)): 29830,\n",
       "  (('S0',), ('Xm',)): 14752,\n",
       "  (('S0',), ('Xp',)): 15268,\n",
       "  (('S0',), ('Ym',)): 14538,\n",
       "  (('S0',), ('Yp',)): 15465,\n",
       "  (('S1',), ('Zm',)): 19337,\n",
       "  (('S1',), ('Zp',)): 10674,\n",
       "  (('S1',), ('Xp',)): 1734,\n",
       "  (('S1',), ('Xm',)): 28284,\n",
       "  (('S1',), ('Ym',)): 14818,\n",
       "  (('S1',), ('Yp',)): 15238,\n",
       "  (('S2',), ('Zm',)): 19560,\n",
       "  (('S2',), ('Zp',)): 10497,\n",
       "  (('S2',), ('Xm',)): 7808,\n",
       "  (('S2',), ('Xp',)): 22254,\n",
       "  (('S2',), ('Ym',)): 2943,\n",
       "  (('S2',), ('Yp',)): 27169,\n",
       "  (('S3',), ('Zm',)): 19519,\n",
       "  (('S3',), ('Zp',)): 10511,\n",
       "  (('S3',), ('Xm',)): 7844,\n",
       "  (('S3',), ('Xp',)): 22201,\n",
       "  (('S3',), ('Ym',)): 26502,\n",
       "  (('S3',), ('Yp',)): 3533},\n",
       " '0000': {(('S0',), ('Zp',)): 16,\n",
       "  (('S0',), ('Xp',)): 8,\n",
       "  (('S0',), ('Xm',)): 12,\n",
       "  (('S0',), ('Yp',)): 12,\n",
       "  (('S0',), ('Ym',)): 11,\n",
       "  (('S1',), ('Zp',)): 6,\n",
       "  (('S1',), ('Zm',)): 9,\n",
       "  (('S1',), ('Xp',)): 1,\n",
       "  (('S1',), ('Xm',)): 16,\n",
       "  (('S1',), ('Ym',)): 6,\n",
       "  (('S1',), ('Yp',)): 15,\n",
       "  (('S2',), ('Zm',)): 17,\n",
       "  (('S2',), ('Zp',)): 6,\n",
       "  (('S2',), ('Xm',)): 4,\n",
       "  (('S2',), ('Xp',)): 17,\n",
       "  (('S2',), ('Ym',)): 3,\n",
       "  (('S2',), ('Yp',)): 23,\n",
       "  (('S3',), ('Zp',)): 6,\n",
       "  (('S3',), ('Zm',)): 18,\n",
       "  (('S3',), ('Xp',)): 17,\n",
       "  (('S3',), ('Xm',)): 1,\n",
       "  (('S3',), ('Yp',)): 2,\n",
       "  (('S3',), ('Ym',)): 20,\n",
       "  (('S0',), ('Zm',)): 0},\n",
       " '0110': {(('S0',), ('Xm',)): 1,\n",
       "  (('S0',), ('Xp',)): 1,\n",
       "  (('S0',), ('Ym',)): 2,\n",
       "  (('S0',), ('Yp',)): 2,\n",
       "  (('S1',), ('Zm',)): 4,\n",
       "  (('S1',), ('Xm',)): 3,\n",
       "  (('S1',), ('Ym',)): 1,\n",
       "  (('S2',), ('Zp',)): 1,\n",
       "  (('S3',), ('Zm',)): 3,\n",
       "  (('S3',), ('Xp',)): 2,\n",
       "  (('S3',), ('Ym',)): 3,\n",
       "  (('S3',), ('Yp',)): 1,\n",
       "  (('S0',), ('Zp',)): 0,\n",
       "  (('S0',), ('Zm',)): 0,\n",
       "  (('S1',), ('Zp',)): 0,\n",
       "  (('S1',), ('Xp',)): 0,\n",
       "  (('S1',), ('Yp',)): 0,\n",
       "  (('S2',), ('Zm',)): 0,\n",
       "  (('S2',), ('Xp',)): 0,\n",
       "  (('S2',), ('Xm',)): 0,\n",
       "  (('S2',), ('Yp',)): 0,\n",
       "  (('S2',), ('Ym',)): 0,\n",
       "  (('S3',), ('Zp',)): 0,\n",
       "  (('S3',), ('Xm',)): 0},\n",
       " '1111': {(('S0',), ('Xm',)): 3,\n",
       "  (('S0',), ('Yp',)): 1,\n",
       "  (('S1',), ('Zp',)): 1,\n",
       "  (('S1',), ('Zm',)): 2,\n",
       "  (('S1',), ('Xm',)): 2,\n",
       "  (('S1',), ('Yp',)): 1,\n",
       "  (('S1',), ('Ym',)): 2,\n",
       "  (('S3',), ('Xp',)): 1,\n",
       "  (('S3',), ('Ym',)): 1,\n",
       "  (('S0',), ('Zp',)): 0,\n",
       "  (('S0',), ('Zm',)): 0,\n",
       "  (('S0',), ('Xp',)): 0,\n",
       "  (('S0',), ('Ym',)): 0,\n",
       "  (('S1',), ('Xp',)): 0,\n",
       "  (('S2',), ('Zp',)): 0,\n",
       "  (('S2',), ('Zm',)): 0,\n",
       "  (('S2',), ('Xp',)): 0,\n",
       "  (('S2',), ('Xm',)): 0,\n",
       "  (('S2',), ('Yp',)): 0,\n",
       "  (('S2',), ('Ym',)): 0,\n",
       "  (('S3',), ('Zp',)): 0,\n",
       "  (('S3',), ('Zm',)): 0,\n",
       "  (('S3',), ('Xm',)): 0,\n",
       "  (('S3',), ('Yp',)): 0},\n",
       " '1101': {(('S1',), ('Zp',)): 1,\n",
       "  (('S0',), ('Zp',)): 0,\n",
       "  (('S0',), ('Zm',)): 0,\n",
       "  (('S0',), ('Xp',)): 0,\n",
       "  (('S0',), ('Xm',)): 0,\n",
       "  (('S0',), ('Yp',)): 0,\n",
       "  (('S0',), ('Ym',)): 0,\n",
       "  (('S1',), ('Zm',)): 0,\n",
       "  (('S1',), ('Xp',)): 0,\n",
       "  (('S1',), ('Xm',)): 0,\n",
       "  (('S1',), ('Yp',)): 0,\n",
       "  (('S1',), ('Ym',)): 0,\n",
       "  (('S2',), ('Zp',)): 0,\n",
       "  (('S2',), ('Zm',)): 0,\n",
       "  (('S2',), ('Xp',)): 0,\n",
       "  (('S2',), ('Xm',)): 0,\n",
       "  (('S2',), ('Yp',)): 0,\n",
       "  (('S2',), ('Ym',)): 0,\n",
       "  (('S3',), ('Zp',)): 0,\n",
       "  (('S3',), ('Zm',)): 0,\n",
       "  (('S3',), ('Xp',)): 0,\n",
       "  (('S3',), ('Xm',)): 0,\n",
       "  (('S3',), ('Yp',)): 0,\n",
       "  (('S3',), ('Ym',)): 0},\n",
       " '0111': {(('S3',), ('Ym',)): 1,\n",
       "  (('S0',), ('Zp',)): 0,\n",
       "  (('S0',), ('Zm',)): 0,\n",
       "  (('S0',), ('Xp',)): 0,\n",
       "  (('S0',), ('Xm',)): 0,\n",
       "  (('S0',), ('Yp',)): 0,\n",
       "  (('S0',), ('Ym',)): 0,\n",
       "  (('S1',), ('Zp',)): 0,\n",
       "  (('S1',), ('Zm',)): 0,\n",
       "  (('S1',), ('Xp',)): 0,\n",
       "  (('S1',), ('Xm',)): 0,\n",
       "  (('S1',), ('Yp',)): 0,\n",
       "  (('S1',), ('Ym',)): 0,\n",
       "  (('S2',), ('Zp',)): 0,\n",
       "  (('S2',), ('Zm',)): 0,\n",
       "  (('S2',), ('Xp',)): 0,\n",
       "  (('S2',), ('Xm',)): 0,\n",
       "  (('S2',), ('Yp',)): 0,\n",
       "  (('S2',), ('Ym',)): 0,\n",
       "  (('S3',), ('Zp',)): 0,\n",
       "  (('S3',), ('Zm',)): 0,\n",
       "  (('S3',), ('Xp',)): 0,\n",
       "  (('S3',), ('Xm',)): 0,\n",
       "  (('S3',), ('Yp',)): 0}}"
      ]
     },
     "execution_count": 49,
     "metadata": {},
     "output_type": "execute_result"
    }
   ],
   "source": [
    "frag_data[1]"
   ]
  },
  {
   "cell_type": "code",
   "execution_count": 50,
   "id": "6d6c25ac",
   "metadata": {},
   "outputs": [],
   "source": [
    "# frag_data = [ml.organize_tomography_data(temp_frag_data[0][0],\n",
    "#                                       frag_targets[0].get(\"prep\"),\n",
    "#                                       frag_targets[0].get(\"meas\"),\n",
    "#                                       prep_basis = \"SIC\", extra_qc = [orign_qc])]\n",
    "# for i in range(1, len(fragments)):\n",
    "#     frag_data.append(ml.organize_tomography_data(temp_frag_data[i][0],\n",
    "#                                       frag_targets[i].get(\"prep\"),\n",
    "#                                       frag_targets[i].get(\"meas\"),\n",
    "#                                       prep_basis = \"SIC\", extra_qc = []))"
   ]
  },
  {
   "cell_type": "code",
   "execution_count": 51,
   "id": "f2ea4460",
   "metadata": {},
   "outputs": [
    {
     "name": "stdout",
     "output_type": "stream",
     "text": [
      "1\n",
      "1\n",
      "1\n",
      "1\n"
     ]
    }
   ],
   "source": [
    "for final_bits, fixed_bit_data in frag_data[0].items():\n",
    "    prep_meas_states, state_counts = zip(*fixed_bit_data.items())\n",
    "    prep_labels, meas_labels = zip(*prep_meas_states)\n",
    "    prep_qubit_num = len(prep_labels[0])\n",
    "    meas_qubit_num = len(meas_labels[0])\n",
    "    print(prep_qubit_num)"
   ]
  },
  {
   "cell_type": "code",
   "execution_count": 52,
   "id": "99930b5d",
   "metadata": {},
   "outputs": [],
   "source": [
    "direct_models = ml.direct_fragment_model(frag_data)\n",
    "likely_models = ml.maximum_likelihood_model(direct_models)\n",
    "\n",
    "direct_recombined_dist = ml.recombine_fragment_models(direct_models, wire_path_map)\n",
    "likely_recombined_dist = ml.recombine_fragment_models(likely_models, wire_path_map)"
   ]
  },
  {
   "cell_type": "code",
   "execution_count": null,
   "id": "352352e2",
   "metadata": {},
   "outputs": [],
   "source": []
  },
  {
   "cell_type": "code",
   "execution_count": 53,
   "id": "b689bf9b",
   "metadata": {},
   "outputs": [
    {
     "data": {
      "text/plain": [
       "{'0000110111': 0.00013409101385351222,\n",
       " '0000111101': -3.460437966960342e-05,\n",
       " '0000100111': 2.1462349617923346e-05,\n",
       " '0000111001': -1.0019031107820786e-05,\n",
       " '0000101001': -2.501713509492651e-06,\n",
       " '0000100101': 0.0004984808352006449,\n",
       " '0000101101': 4.1561589039314535e-05,\n",
       " '0000110001': 0.000643301235511578,\n",
       " '0000110101': 0.009645044418431791,\n",
       " '0000100001': -2.768253657331406e-06,\n",
       " '0000110011': 1.649836080890987e-05,\n",
       " '0000111111': 1.640361638449591e-05,\n",
       " '0000101111': 2.619405433982739e-06,\n",
       " '0000111011': -4.167356353901629e-06,\n",
       " '0000010111': 0.0038908378588895422,\n",
       " '0000011101': 0.0083916507978531,\n",
       " '0000000111': 0.0001264815299941918,\n",
       " '0000011001': 0.00020548122414561738,\n",
       " '0000001001': 1.8994162894935786e-05,\n",
       " '0000000101': 0.025838195459873044,\n",
       " '0000001101': 0.00024781977078011875,\n",
       " '0000010001': 0.019801117339114962,\n",
       " '0000010101': 0.909063117390275,\n",
       " '0000000001': 0.0006454447904110681,\n",
       " '0000010011': 5.8027924278254687e-05,\n",
       " '0000011111': 2.962129296856529e-05,\n",
       " '0000001111': -1.2121829519806387e-06,\n",
       " '0000011011': 5.3398470018724726e-06,\n",
       " '0000010110': -3.907955384463453e-05,\n",
       " '0000011100': 0.00039447351490057655,\n",
       " '0000000110': -5.63869504536758e-06,\n",
       " '0000011000': 7.017323916057992e-06,\n",
       " '0000001000': -1.5089680504694305e-06,\n",
       " '0000000100': 0.0002882543266614707,\n",
       " '0000001100': -3.419326631854451e-05,\n",
       " '0000010000': 0.00016199430565538725,\n",
       " '0000010100': 0.013034145063852457,\n",
       " '0000000000': -3.633164013700742e-05,\n",
       " '0000010010': -3.942704089365021e-06,\n",
       " '0000011110': -7.52998638067548e-06,\n",
       " '0000001110': -1.3529056213108344e-06,\n",
       " '0000011010': -4.063134993064452e-06,\n",
       " '0000110110': -5.732460969459313e-05,\n",
       " '0000111100': -3.032563128972562e-05,\n",
       " '0000100110': -3.52165563392893e-05,\n",
       " '0000111000': 2.6008974453512494e-07,\n",
       " '0000101000': -4.353082889966353e-06,\n",
       " '0000100100': -7.19759136687962e-05,\n",
       " '0000101100': -1.4328850718928703e-05,\n",
       " '0000110000': 0.00014542272805723159,\n",
       " '0000110100': 0.006996238052389989,\n",
       " '0000100000': 3.558952632688391e-05,\n",
       " '0000110010': -8.43069118973755e-06,\n",
       " '0000111110': -1.9662293611007842e-06,\n",
       " '0000101110': 2.4162604501463863e-06,\n",
       " '0000111010': 5.431932165470825e-06}"
      ]
     },
     "execution_count": 53,
     "metadata": {},
     "output_type": "execute_result"
    }
   ],
   "source": [
    "direct_recombined_dist"
   ]
  },
  {
   "cell_type": "code",
   "execution_count": 54,
   "id": "13b192fc",
   "metadata": {},
   "outputs": [
    {
     "data": {
      "text/plain": [
       "{'0000110111': 8.430559725888223e-05,\n",
       " '0000111101': 7.069993666147639e-05,\n",
       " '0000111001': 2.5455155553893864e-06,\n",
       " '0000100101': 0.0004718889654164683,\n",
       " '0000101101': 1.5691182406792186e-06,\n",
       " '0000110001': 0.0005334024330973736,\n",
       " '0000110101': 0.01018056243255481,\n",
       " '0000100001': 3.2388020968650525e-06,\n",
       " '0000010111': 0.0037195831499824516,\n",
       " '0000011101': 0.008216856111869297,\n",
       " '0000011001': 4.735967330459992e-05,\n",
       " '0000000101': 0.025654499760551907,\n",
       " '0000001101': 8.956424028719656e-05,\n",
       " '0000010001': 0.01961807784625099,\n",
       " '0000010101': 0.9084476201273972,\n",
       " '0000000001': 0.00047821617663461547,\n",
       " '0000010110': 3.1964104477532665e-05,\n",
       " '0000011100': 0.00032220731340522747,\n",
       " '0000011000': 1.2182472525150567e-06,\n",
       " '0000000100': 0.00037570354365043014,\n",
       " '0000001100': 9.959516891812952e-07,\n",
       " '0000010000': 0.00023460989648728945,\n",
       " '0000010100': 0.010972456745807201,\n",
       " '0000000000': 3.2909879827879212e-06,\n",
       " '0000110110': 3.6011494911030185e-05,\n",
       " '0000111100': 0.00010201546413433031,\n",
       " '0000111000': 8.061551895752868e-08,\n",
       " '0000100100': 9.636575729398986e-05,\n",
       " '0000101100': 3.815954285228476e-06,\n",
       " '0000110000': 0.0002182310809543306,\n",
       " '0000110100': 0.009979071754575672,\n",
       " '0000100000': 1.9712004140834072e-06}"
      ]
     },
     "execution_count": 54,
     "metadata": {},
     "output_type": "execute_result"
    }
   ],
   "source": [
    "likely_recombined_dist"
   ]
  },
  {
   "cell_type": "code",
   "execution_count": null,
   "id": "5dbabd0b",
   "metadata": {},
   "outputs": [],
   "source": []
  },
  {
   "cell_type": "code",
   "execution_count": 55,
   "id": "04be761c",
   "metadata": {},
   "outputs": [],
   "source": [
    "from utils.utils import filter_results"
   ]
  },
  {
   "cell_type": "code",
   "execution_count": 56,
   "id": "9df8b215",
   "metadata": {},
   "outputs": [],
   "source": [
    "filter_direct_recombined = filter_results(direct_recombined_dist, [0,1,2,3,4])"
   ]
  },
  {
   "cell_type": "code",
   "execution_count": 57,
   "id": "ef48375a",
   "metadata": {},
   "outputs": [
    {
     "data": {
      "text/plain": [
       "{'10111': 0.0038908378588895422,\n",
       " '11101': 0.0083916507978531,\n",
       " '00111': 0.0001264815299941918,\n",
       " '11001': 0.00020548122414561738,\n",
       " '01001': 1.8994162894935786e-05,\n",
       " '00101': 0.025838195459873044,\n",
       " '01101': 0.00024781977078011875,\n",
       " '10001': 0.019801117339114962,\n",
       " '10101': 0.909063117390275,\n",
       " '00001': 0.0006454447904110681,\n",
       " '10011': 5.8027924278254687e-05,\n",
       " '11111': 2.962129296856529e-05,\n",
       " '01111': -1.2121829519806387e-06,\n",
       " '11011': 5.3398470018724726e-06,\n",
       " '10110': -3.907955384463453e-05,\n",
       " '11100': 0.00039447351490057655,\n",
       " '00110': -5.63869504536758e-06,\n",
       " '11000': 7.017323916057992e-06,\n",
       " '01000': -1.5089680504694305e-06,\n",
       " '00100': 0.0002882543266614707,\n",
       " '01100': -3.419326631854451e-05,\n",
       " '10000': 0.00016199430565538725,\n",
       " '10100': 0.013034145063852457,\n",
       " '00000': -3.633164013700742e-05,\n",
       " '10010': -3.942704089365021e-06,\n",
       " '11110': -7.52998638067548e-06,\n",
       " '01110': -1.3529056213108344e-06,\n",
       " '11010': -4.063134993064452e-06}"
      ]
     },
     "execution_count": 57,
     "metadata": {},
     "output_type": "execute_result"
    }
   ],
   "source": [
    "filter_direct_recombined"
   ]
  },
  {
   "cell_type": "code",
   "execution_count": 58,
   "id": "246437c1",
   "metadata": {},
   "outputs": [],
   "source": [
    "filter_likely_recombined = filter_results(likely_recombined_dist, [0,1,2,3,4])"
   ]
  },
  {
   "cell_type": "code",
   "execution_count": 59,
   "id": "a8fe450d",
   "metadata": {},
   "outputs": [
    {
     "data": {
      "text/plain": [
       "{'10111': 0.0037195831499824516,\n",
       " '11101': 0.008216856111869297,\n",
       " '11001': 4.735967330459992e-05,\n",
       " '00101': 0.025654499760551907,\n",
       " '01101': 8.956424028719656e-05,\n",
       " '10001': 0.01961807784625099,\n",
       " '10101': 0.9084476201273972,\n",
       " '00001': 0.00047821617663461547,\n",
       " '10110': 3.1964104477532665e-05,\n",
       " '11100': 0.00032220731340522747,\n",
       " '11000': 1.2182472525150567e-06,\n",
       " '00100': 0.00037570354365043014,\n",
       " '01100': 9.959516891812952e-07,\n",
       " '10000': 0.00023460989648728945,\n",
       " '10100': 0.010972456745807201,\n",
       " '00000': 3.2909879827879212e-06}"
      ]
     },
     "execution_count": 59,
     "metadata": {},
     "output_type": "execute_result"
    }
   ],
   "source": [
    "filter_likely_recombined"
   ]
  },
  {
   "cell_type": "code",
   "execution_count": 60,
   "id": "5fab80f3",
   "metadata": {},
   "outputs": [],
   "source": [
    "def norm_dict(dictionary):\n",
    "    total = total_counts(dictionary)\n",
    "    norm_dist = {}\n",
    "    for i in dictionary.keys():\n",
    "        norm_dist[i] = dictionary[i]/total\n",
    "    return norm_dist"
   ]
  },
  {
   "cell_type": "code",
   "execution_count": 61,
   "id": "f05e0129",
   "metadata": {},
   "outputs": [
    {
     "data": {
      "text/plain": [
       "{'00111': 7,\n",
       " '10110': 1,\n",
       " '00001': 22,\n",
       " '00100': 11,\n",
       " '11101': 120,\n",
       " '10000': 19,\n",
       " '11001': 7,\n",
       " '01101': 2,\n",
       " '10011': 7,\n",
       " '11100': 1,\n",
       " '10111': 190,\n",
       " '10100': 561,\n",
       " '10001': 950,\n",
       " '10101': 29406,\n",
       " '00101': 696}"
      ]
     },
     "execution_count": 61,
     "metadata": {},
     "output_type": "execute_result"
    }
   ],
   "source": [
    "unmiti_dist = temp_frag_data[1][0][0].get_counts()[-1]\n",
    "unmiti_dist"
   ]
  },
  {
   "cell_type": "code",
   "execution_count": 62,
   "id": "1e8284f8",
   "metadata": {},
   "outputs": [],
   "source": [
    "unmiti_norm_dist = norm_dict(unmiti_dist)"
   ]
  },
  {
   "cell_type": "code",
   "execution_count": 63,
   "id": "a724f3dd",
   "metadata": {},
   "outputs": [],
   "source": [
    "norm_filter_dist = norm_dict(filter_likely_recombined)"
   ]
  },
  {
   "cell_type": "code",
   "execution_count": 64,
   "id": "c2138c6d",
   "metadata": {},
   "outputs": [
    {
     "data": {
      "text/plain": [
       "0.9189375"
      ]
     },
     "execution_count": 64,
     "metadata": {},
     "output_type": "execute_result"
    }
   ],
   "source": [
    "unmiti_norm_dist['10101']"
   ]
  },
  {
   "cell_type": "code",
   "execution_count": 65,
   "id": "81d6bc37",
   "metadata": {},
   "outputs": [
    {
     "data": {
      "text/plain": [
       "0.9084476201273972"
      ]
     },
     "execution_count": 65,
     "metadata": {},
     "output_type": "execute_result"
    }
   ],
   "source": [
    "likely_recombined_dist['0000010101']"
   ]
  },
  {
   "cell_type": "code",
   "execution_count": 71,
   "id": "3287adab",
   "metadata": {},
   "outputs": [
    {
     "data": {
      "text/plain": [
       "0.9286796265616319"
      ]
     },
     "execution_count": 71,
     "metadata": {},
     "output_type": "execute_result"
    }
   ],
   "source": [
    "#normalized distribution after mitigation: 0.9189375->0.9286796265616319\n",
    "norm_filter_dist['10101']"
   ]
  },
  {
   "cell_type": "code",
   "execution_count": 72,
   "id": "9b10b83e",
   "metadata": {},
   "outputs": [
    {
     "data": {
      "text/plain": [
       "{'10111': 0.003802421861379552,\n",
       " '11101': 0.00839985343834279,\n",
       " '11001': 4.8414418998014305e-05,\n",
       " '00101': 0.02622585026301651,\n",
       " '01101': 9.155892247428159e-05,\n",
       " '10001': 0.02005499139901808,\n",
       " '10101': 0.9286796265616319,\n",
       " '00001': 0.00048886651304176,\n",
       " '10110': 3.267597597471739e-05,\n",
       " '11100': 0.0003293831816595335,\n",
       " '11000': 1.2453787961564139e-06,\n",
       " '00100': 0.0003840708246516554,\n",
       " '01100': 1.0181324957982767e-06,\n",
       " '10000': 0.00023983488561170406,\n",
       " '10100': 0.011216823961441936,\n",
       " '00000': 3.364281465612409e-06}"
      ]
     },
     "execution_count": 72,
     "metadata": {},
     "output_type": "execute_result"
    }
   ],
   "source": [
    "norm_filter_dist"
   ]
  },
  {
   "cell_type": "code",
   "execution_count": 73,
   "id": "7e67de89",
   "metadata": {},
   "outputs": [
    {
     "data": {
      "text/plain": [
       "32000"
      ]
     },
     "execution_count": 73,
     "metadata": {},
     "output_type": "execute_result"
    }
   ],
   "source": [
    "total_counts(unmiti_dist)"
   ]
  },
  {
   "cell_type": "code",
   "execution_count": 74,
   "id": "95574397",
   "metadata": {},
   "outputs": [],
   "source": [
    "unmiti_norm_dist = {}\n",
    "for i in unmiti_dist.keys():\n",
    "    unmiti_norm_dist[i] = unmiti_dist[i]/total_counts(unmiti_dist)"
   ]
  },
  {
   "cell_type": "code",
   "execution_count": 75,
   "id": "abb7b782",
   "metadata": {},
   "outputs": [
    {
     "data": {
      "text/plain": [
       "{'00111': 0.00021875,\n",
       " '10110': 3.125e-05,\n",
       " '00001': 0.0006875,\n",
       " '00100': 0.00034375,\n",
       " '11101': 0.00375,\n",
       " '10000': 0.00059375,\n",
       " '11001': 0.00021875,\n",
       " '01101': 6.25e-05,\n",
       " '10011': 0.00021875,\n",
       " '11100': 3.125e-05,\n",
       " '10111': 0.0059375,\n",
       " '10100': 0.01753125,\n",
       " '10001': 0.0296875,\n",
       " '10101': 0.9189375,\n",
       " '00101': 0.02175}"
      ]
     },
     "execution_count": 75,
     "metadata": {},
     "output_type": "execute_result"
    }
   ],
   "source": [
    "unmiti_norm_dist"
   ]
  },
  {
   "cell_type": "code",
   "execution_count": null,
   "id": "29dbbc7a",
   "metadata": {},
   "outputs": [],
   "source": []
  },
  {
   "cell_type": "code",
   "execution_count": null,
   "id": "885a8632",
   "metadata": {},
   "outputs": [],
   "source": []
  },
  {
   "cell_type": "code",
   "execution_count": null,
   "id": "9519a9a1",
   "metadata": {},
   "outputs": [],
   "source": []
  },
  {
   "cell_type": "code",
   "execution_count": null,
   "id": "0b70a6cd",
   "metadata": {},
   "outputs": [],
   "source": []
  },
  {
   "cell_type": "code",
   "execution_count": null,
   "id": "94ee70ae",
   "metadata": {},
   "outputs": [],
   "source": []
  },
  {
   "cell_type": "code",
   "execution_count": null,
   "id": "f13268e0",
   "metadata": {},
   "outputs": [],
   "source": []
  }
 ],
 "metadata": {
  "kernelspec": {
   "display_name": "Python 3 (ipykernel)",
   "language": "python",
   "name": "python3"
  },
  "language_info": {
   "codemirror_mode": {
    "name": "ipython",
    "version": 3
   },
   "file_extension": ".py",
   "mimetype": "text/x-python",
   "name": "python",
   "nbconvert_exporter": "python",
   "pygments_lexer": "ipython3",
   "version": "3.8.13"
  }
 },
 "nbformat": 4,
 "nbformat_minor": 5
}
