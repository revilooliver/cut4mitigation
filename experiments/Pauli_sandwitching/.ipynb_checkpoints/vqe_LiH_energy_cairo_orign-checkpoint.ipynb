{
 "cells": [
  {
   "cell_type": "code",
   "execution_count": 1,
   "id": "8b1d4699",
   "metadata": {},
   "outputs": [],
   "source": [
    "import os\n",
    "import sys\n",
    "module_path = os.path.abspath(os.path.join('../..'))\n",
    "if module_path not in sys.path:\n",
    "    sys.path.append(module_path)"
   ]
  },
  {
   "cell_type": "code",
   "execution_count": 2,
   "id": "8199f434",
   "metadata": {},
   "outputs": [],
   "source": [
    "# author: Ji Liu email: ji.liu@anl.gov\n",
    "\n",
    "import itertools, numpy\n",
    "import circuit_cutter\n",
    "import mlrecon_methods as ml\n",
    "import numpy as np\n",
    "\n",
    "import qiskit\n",
    "from qiskit import *\n",
    "from qiskit import QuantumCircuit, QuantumRegister, ClassicalRegister, Aer, execute, transpile\n",
    "\n",
    "from qiskit.transpiler import PassManager\n",
    "\n",
    "from qiskit.converters import circuit_to_dag\n",
    "from qiskit.visualization import dag_drawer, plot_histogram\n",
    "from qiskit.compiler import assemble\n",
    "\n",
    "from qiskit.tools.monitor import job_monitor, backend_monitor, backend_overview\n",
    "\n",
    "import qiskit.providers.aer.noise as noise\n",
    "from qiskit.providers.aer.noise import NoiseModel\n",
    "\n",
    "from utils.utils import filter_results, dict_to_list, H_distance, total_counts"
   ]
  },
  {
   "cell_type": "code",
   "execution_count": 3,
   "id": "72fed853",
   "metadata": {},
   "outputs": [
    {
     "data": {
      "text/plain": [
       "[<IBMQSimulator('ibmq_qasm_simulator') from IBMQ(hub='ibm-q-ornl', group='ornl', project='chm185')>,\n",
       " <IBMQBackend('ibmq_montreal') from IBMQ(hub='ibm-q-ornl', group='ornl', project='chm185')>,\n",
       " <IBMQBackend('ibmq_toronto') from IBMQ(hub='ibm-q-ornl', group='ornl', project='chm185')>,\n",
       " <IBMQBackend('ibmq_kolkata') from IBMQ(hub='ibm-q-ornl', group='ornl', project='chm185')>,\n",
       " <IBMQBackend('ibmq_mumbai') from IBMQ(hub='ibm-q-ornl', group='ornl', project='chm185')>,\n",
       " <IBMQBackend('ibmq_lima') from IBMQ(hub='ibm-q-ornl', group='ornl', project='chm185')>,\n",
       " <IBMQBackend('ibmq_belem') from IBMQ(hub='ibm-q-ornl', group='ornl', project='chm185')>,\n",
       " <IBMQBackend('ibmq_quito') from IBMQ(hub='ibm-q-ornl', group='ornl', project='chm185')>,\n",
       " <IBMQBackend('ibmq_guadalupe') from IBMQ(hub='ibm-q-ornl', group='ornl', project='chm185')>,\n",
       " <IBMQSimulator('simulator_statevector') from IBMQ(hub='ibm-q-ornl', group='ornl', project='chm185')>,\n",
       " <IBMQSimulator('simulator_mps') from IBMQ(hub='ibm-q-ornl', group='ornl', project='chm185')>,\n",
       " <IBMQSimulator('simulator_extended_stabilizer') from IBMQ(hub='ibm-q-ornl', group='ornl', project='chm185')>,\n",
       " <IBMQSimulator('simulator_stabilizer') from IBMQ(hub='ibm-q-ornl', group='ornl', project='chm185')>,\n",
       " <IBMQBackend('ibmq_jakarta') from IBMQ(hub='ibm-q-ornl', group='ornl', project='chm185')>,\n",
       " <IBMQBackend('ibmq_manila') from IBMQ(hub='ibm-q-ornl', group='ornl', project='chm185')>,\n",
       " <IBMQBackend('ibm_hanoi') from IBMQ(hub='ibm-q-ornl', group='ornl', project='chm185')>,\n",
       " <IBMQBackend('ibm_cairo') from IBMQ(hub='ibm-q-ornl', group='ornl', project='chm185')>,\n",
       " <IBMQBackend('ibm_auckland') from IBMQ(hub='ibm-q-ornl', group='ornl', project='chm185')>,\n",
       " <IBMQBackend('ibm_washington') from IBMQ(hub='ibm-q-ornl', group='ornl', project='chm185')>,\n",
       " <IBMQBackend('ibm_geneva') from IBMQ(hub='ibm-q-ornl', group='ornl', project='chm185')>]"
      ]
     },
     "execution_count": 3,
     "metadata": {},
     "output_type": "execute_result"
    }
   ],
   "source": [
    "IBMQ.load_account()\n",
    "provider = IBMQ.get_provider(hub='ibm-q-ornl', group='ornl', project='chm185')\n",
    "provider.backends()"
   ]
  },
  {
   "cell_type": "code",
   "execution_count": 4,
   "id": "3b63a781",
   "metadata": {},
   "outputs": [
    {
     "data": {
      "text/plain": [
       "<IBMQBackend('ibmq_mumbai') from IBMQ(hub='ibm-q-ornl', group='ornl', project='chm185')>"
      ]
     },
     "execution_count": 4,
     "metadata": {},
     "output_type": "execute_result"
    }
   ],
   "source": [
    "device = provider.get_backend('ibmq_mumbai')\n",
    "device"
   ]
  },
  {
   "cell_type": "code",
   "execution_count": 12,
   "id": "b458ac33",
   "metadata": {},
   "outputs": [],
   "source": [
    "orign_qc = QuantumCircuit.from_qasm_file(\"qasm/vqe_LiH.qasm\")\n",
    "orign_qc.measure_all()"
   ]
  },
  {
   "cell_type": "code",
   "execution_count": 13,
   "id": "58e19e4d",
   "metadata": {},
   "outputs": [
    {
     "data": {
      "text/html": [
       "<pre style=\"word-wrap: normal;white-space: pre;background: #fff0;line-height: 1.1;font-family: &quot;Courier New&quot;,Courier,monospace\">              ┌───┐      ┌───────────────┐   ┌────────────────┐»\n",
       "   q_0: ──────┤ X ├──────┤ Ry(-0.003534) ├─■─┤ Ry(-0.0036834) ├»\n",
       "              ├───┤      ├───────────────┤ │ └────────────────┘»\n",
       "   q_1: ──────┤ X ├──────┤ Ry(-0.015869) ├─■─────────■─────────»\n",
       "        ┌─────┴───┴─────┐└───────────────┘           │         »\n",
       "   q_2: ┤ Ry(0.0038243) ├────────────────────────────■─────────»\n",
       "        ├───────────────┤                                      »\n",
       "   q_3: ┤ Ry(-0.019851) ├──────────────────────────────────────»\n",
       "        └───────────────┘                                      »\n",
       "meas_0: ═══════════════════════════════════════════════════════»\n",
       "                                                               »\n",
       "meas_1: ═══════════════════════════════════════════════════════»\n",
       "                                                               »\n",
       "meas_2: ═══════════════════════════════════════════════════════»\n",
       "                                                               »\n",
       "meas_3: ═══════════════════════════════════════════════════════»\n",
       "                                                               »\n",
       "«                                           ░ ┌─┐         \n",
       "«   q_0: ───────────────────────────────────░─┤M├─────────\n",
       "«        ┌───────────────┐                  ░ └╥┘┌─┐      \n",
       "«   q_1: ┤ Ry(-0.015751) ├──────────────────░──╫─┤M├──────\n",
       "«        └───────────────┘┌───────────────┐ ░  ║ └╥┘┌─┐   \n",
       "«   q_2: ────────■────────┤ Ry(0.0036205) ├─░──╫──╫─┤M├───\n",
       "«                │        └┬──────────────┤ ░  ║  ║ └╥┘┌─┐\n",
       "«   q_3: ────────■─────────┤ Ry(0.019873) ├─░──╫──╫──╫─┤M├\n",
       "«                          └──────────────┘ ░  ║  ║  ║ └╥┘\n",
       "«meas_0: ══════════════════════════════════════╩══╬══╬══╬═\n",
       "«                                                 ║  ║  ║ \n",
       "«meas_1: ═════════════════════════════════════════╩══╬══╬═\n",
       "«                                                    ║  ║ \n",
       "«meas_2: ════════════════════════════════════════════╩══╬═\n",
       "«                                                       ║ \n",
       "«meas_3: ═══════════════════════════════════════════════╩═\n",
       "«                                                         </pre>"
      ],
      "text/plain": [
       "              ┌───┐      ┌───────────────┐   ┌────────────────┐»\n",
       "   q_0: ──────┤ X ├──────┤ Ry(-0.003534) ├─■─┤ Ry(-0.0036834) ├»\n",
       "              ├───┤      ├───────────────┤ │ └────────────────┘»\n",
       "   q_1: ──────┤ X ├──────┤ Ry(-0.015869) ├─■─────────■─────────»\n",
       "        ┌─────┴───┴─────┐└───────────────┘           │         »\n",
       "   q_2: ┤ Ry(0.0038243) ├────────────────────────────■─────────»\n",
       "        ├───────────────┤                                      »\n",
       "   q_3: ┤ Ry(-0.019851) ├──────────────────────────────────────»\n",
       "        └───────────────┘                                      »\n",
       "meas_0: ═══════════════════════════════════════════════════════»\n",
       "                                                               »\n",
       "meas_1: ═══════════════════════════════════════════════════════»\n",
       "                                                               »\n",
       "meas_2: ═══════════════════════════════════════════════════════»\n",
       "                                                               »\n",
       "meas_3: ═══════════════════════════════════════════════════════»\n",
       "                                                               »\n",
       "«                                           ░ ┌─┐         \n",
       "«   q_0: ───────────────────────────────────░─┤M├─────────\n",
       "«        ┌───────────────┐                  ░ └╥┘┌─┐      \n",
       "«   q_1: ┤ Ry(-0.015751) ├──────────────────░──╫─┤M├──────\n",
       "«        └───────────────┘┌───────────────┐ ░  ║ └╥┘┌─┐   \n",
       "«   q_2: ────────■────────┤ Ry(0.0036205) ├─░──╫──╫─┤M├───\n",
       "«                │        └┬──────────────┤ ░  ║  ║ └╥┘┌─┐\n",
       "«   q_3: ────────■─────────┤ Ry(0.019873) ├─░──╫──╫──╫─┤M├\n",
       "«                          └──────────────┘ ░  ║  ║  ║ └╥┘\n",
       "«meas_0: ══════════════════════════════════════╩══╬══╬══╬═\n",
       "«                                                 ║  ║  ║ \n",
       "«meas_1: ═════════════════════════════════════════╩══╬══╬═\n",
       "«                                                    ║  ║ \n",
       "«meas_2: ════════════════════════════════════════════╩══╬═\n",
       "«                                                       ║ \n",
       "«meas_3: ═══════════════════════════════════════════════╩═\n",
       "«                                                         "
      ]
     },
     "execution_count": 13,
     "metadata": {},
     "output_type": "execute_result"
    }
   ],
   "source": [
    "orign_qc.draw()"
   ]
  },
  {
   "cell_type": "code",
   "execution_count": 14,
   "id": "486f92a0",
   "metadata": {},
   "outputs": [
    {
     "name": "stdout",
     "output_type": "stream",
     "text": [
      "Job Status: job has successfully run\n"
     ]
    }
   ],
   "source": [
    "job = execute(orign_qc, backend =device, initial_layout = [14,13,12,15], optimization_level =3, seed_transpiler = 0)\n",
    "job_monitor(job)"
   ]
  },
  {
   "cell_type": "code",
   "execution_count": 15,
   "id": "f9df9b8f",
   "metadata": {},
   "outputs": [
    {
     "name": "stdout",
     "output_type": "stream",
     "text": [
      "636ca40b949517f6b9c2d892\n"
     ]
    }
   ],
   "source": [
    "print(job.job_id())"
   ]
  },
  {
   "cell_type": "code",
   "execution_count": 17,
   "id": "4e4001a9",
   "metadata": {},
   "outputs": [],
   "source": [
    "result = job.result()"
   ]
  },
  {
   "cell_type": "code",
   "execution_count": 18,
   "id": "93694cae",
   "metadata": {},
   "outputs": [
    {
     "data": {
      "text/plain": [
       "{'0000': 16,\n",
       " '0001': 392,\n",
       " '0010': 167,\n",
       " '0011': 3175,\n",
       " '0100': 1,\n",
       " '0101': 25,\n",
       " '0110': 7,\n",
       " '0111': 144,\n",
       " '1001': 7,\n",
       " '1010': 2,\n",
       " '1011': 57,\n",
       " '1101': 1,\n",
       " '1111': 6}"
      ]
     },
     "execution_count": 18,
     "metadata": {},
     "output_type": "execute_result"
    }
   ],
   "source": [
    "result.get_counts()"
   ]
  },
  {
   "cell_type": "code",
   "execution_count": 19,
   "id": "b7278d3e",
   "metadata": {},
   "outputs": [
    {
     "data": {
      "text/plain": [
       "4000"
      ]
     },
     "execution_count": 19,
     "metadata": {},
     "output_type": "execute_result"
    }
   ],
   "source": [
    "total_counts(result.get_counts())"
   ]
  },
  {
   "cell_type": "code",
   "execution_count": 20,
   "id": "c2082288",
   "metadata": {},
   "outputs": [
    {
     "data": {
      "text/plain": [
       "0.79375"
      ]
     },
     "execution_count": 20,
     "metadata": {},
     "output_type": "execute_result"
    }
   ],
   "source": [
    "3175/4000"
   ]
  },
  {
   "cell_type": "code",
   "execution_count": 21,
   "id": "36513e71",
   "metadata": {},
   "outputs": [],
   "source": [
    "def norm_dict(dictionary):\n",
    "    total = total_counts(dictionary)\n",
    "    norm_dist = {}\n",
    "    for i in dictionary.keys():\n",
    "        norm_dist[i] = dictionary[i]/total\n",
    "    return norm_dist"
   ]
  },
  {
   "cell_type": "code",
   "execution_count": 22,
   "id": "e0d4a6b7",
   "metadata": {},
   "outputs": [
    {
     "data": {
      "text/plain": [
       "{'0000': 0.004,\n",
       " '0001': 0.098,\n",
       " '0010': 0.04175,\n",
       " '0011': 0.79375,\n",
       " '0100': 0.00025,\n",
       " '0101': 0.00625,\n",
       " '0110': 0.00175,\n",
       " '0111': 0.036,\n",
       " '1001': 0.00175,\n",
       " '1010': 0.0005,\n",
       " '1011': 0.01425,\n",
       " '1101': 0.00025,\n",
       " '1111': 0.0015}"
      ]
     },
     "execution_count": 22,
     "metadata": {},
     "output_type": "execute_result"
    }
   ],
   "source": [
    "norm_dict(result.get_counts())"
   ]
  },
  {
   "cell_type": "code",
   "execution_count": null,
   "id": "2b47c4d5",
   "metadata": {},
   "outputs": [],
   "source": []
  }
 ],
 "metadata": {
  "kernelspec": {
   "display_name": "Python 3 (ipykernel)",
   "language": "python",
   "name": "python3"
  },
  "language_info": {
   "codemirror_mode": {
    "name": "ipython",
    "version": 3
   },
   "file_extension": ".py",
   "mimetype": "text/x-python",
   "name": "python",
   "nbconvert_exporter": "python",
   "pygments_lexer": "ipython3",
   "version": "3.8.13"
  }
 },
 "nbformat": 4,
 "nbformat_minor": 5
}
