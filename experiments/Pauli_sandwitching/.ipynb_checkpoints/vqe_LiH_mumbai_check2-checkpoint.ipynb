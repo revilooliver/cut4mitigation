{
 "cells": [
  {
   "cell_type": "code",
   "execution_count": 1,
   "id": "4b4d55ee",
   "metadata": {},
   "outputs": [],
   "source": [
    "import os\n",
    "import sys\n",
    "module_path = os.path.abspath(os.path.join('../..'))\n",
    "if module_path not in sys.path:\n",
    "    sys.path.append(module_path)"
   ]
  },
  {
   "cell_type": "code",
   "execution_count": 2,
   "id": "050ec390",
   "metadata": {},
   "outputs": [],
   "source": [
    "# author: Ji Liu email: ji.liu@anl.gov\n",
    "\n",
    "import itertools, numpy\n",
    "import circuit_cutter\n",
    "import mlrecon_methods as ml\n",
    "import numpy as np\n",
    "\n",
    "import qiskit\n",
    "from qiskit import *\n",
    "from qiskit import QuantumCircuit, QuantumRegister, ClassicalRegister, Aer, execute, transpile\n",
    "\n",
    "from qiskit.transpiler import PassManager\n",
    "\n",
    "from qiskit.converters import circuit_to_dag\n",
    "from qiskit.visualization import dag_drawer, plot_histogram\n",
    "from qiskit.compiler import assemble\n",
    "\n",
    "from qiskit.tools.monitor import job_monitor, backend_monitor, backend_overview\n",
    "\n",
    "import qiskit.providers.aer.noise as noise\n",
    "from qiskit.providers.aer.noise import NoiseModel\n",
    "\n",
    "from utils.utils import filter_results, dict_to_list, H_distance, total_counts"
   ]
  },
  {
   "cell_type": "code",
   "execution_count": 3,
   "id": "0ab21beb",
   "metadata": {},
   "outputs": [
    {
     "data": {
      "text/plain": [
       "{'qiskit-terra': '0.22.2', 'qiskit-aer': '0.11.1', 'qiskit-ignis': '0.7.1', 'qiskit-ibmq-provider': '0.19.2', 'qiskit': '0.39.2', 'qiskit-nature': '0.3.0', 'qiskit-finance': None, 'qiskit-optimization': None, 'qiskit-machine-learning': None}"
      ]
     },
     "execution_count": 3,
     "metadata": {},
     "output_type": "execute_result"
    }
   ],
   "source": [
    "qiskit.__qiskit_version__"
   ]
  },
  {
   "cell_type": "code",
   "execution_count": 4,
   "id": "da4a5c76",
   "metadata": {},
   "outputs": [],
   "source": [
    "numpy.set_printoptions(linewidth = 200)\n",
    "\n",
    "qubits = 5\n",
    "\n",
    "simulation_backend = \"qasm_simulator\"\n",
    "\n",
    "seed = 0\n",
    "print_circuits = True"
   ]
  },
  {
   "cell_type": "code",
   "execution_count": 5,
   "id": "cc3edfd5",
   "metadata": {},
   "outputs": [
    {
     "data": {
      "text/plain": [
       "[<IBMQSimulator('ibmq_qasm_simulator') from IBMQ(hub='ibm-q-ornl', group='ornl', project='chm185')>,\n",
       " <IBMQBackend('ibmq_montreal') from IBMQ(hub='ibm-q-ornl', group='ornl', project='chm185')>,\n",
       " <IBMQBackend('ibmq_toronto') from IBMQ(hub='ibm-q-ornl', group='ornl', project='chm185')>,\n",
       " <IBMQBackend('ibmq_kolkata') from IBMQ(hub='ibm-q-ornl', group='ornl', project='chm185')>,\n",
       " <IBMQBackend('ibmq_mumbai') from IBMQ(hub='ibm-q-ornl', group='ornl', project='chm185')>,\n",
       " <IBMQBackend('ibmq_lima') from IBMQ(hub='ibm-q-ornl', group='ornl', project='chm185')>,\n",
       " <IBMQBackend('ibmq_belem') from IBMQ(hub='ibm-q-ornl', group='ornl', project='chm185')>,\n",
       " <IBMQBackend('ibmq_quito') from IBMQ(hub='ibm-q-ornl', group='ornl', project='chm185')>,\n",
       " <IBMQBackend('ibmq_guadalupe') from IBMQ(hub='ibm-q-ornl', group='ornl', project='chm185')>,\n",
       " <IBMQSimulator('simulator_statevector') from IBMQ(hub='ibm-q-ornl', group='ornl', project='chm185')>,\n",
       " <IBMQSimulator('simulator_mps') from IBMQ(hub='ibm-q-ornl', group='ornl', project='chm185')>,\n",
       " <IBMQSimulator('simulator_extended_stabilizer') from IBMQ(hub='ibm-q-ornl', group='ornl', project='chm185')>,\n",
       " <IBMQSimulator('simulator_stabilizer') from IBMQ(hub='ibm-q-ornl', group='ornl', project='chm185')>,\n",
       " <IBMQBackend('ibmq_jakarta') from IBMQ(hub='ibm-q-ornl', group='ornl', project='chm185')>,\n",
       " <IBMQBackend('ibmq_manila') from IBMQ(hub='ibm-q-ornl', group='ornl', project='chm185')>,\n",
       " <IBMQBackend('ibm_hanoi') from IBMQ(hub='ibm-q-ornl', group='ornl', project='chm185')>,\n",
       " <IBMQBackend('ibm_cairo') from IBMQ(hub='ibm-q-ornl', group='ornl', project='chm185')>,\n",
       " <IBMQBackend('ibm_auckland') from IBMQ(hub='ibm-q-ornl', group='ornl', project='chm185')>,\n",
       " <IBMQBackend('ibm_washington') from IBMQ(hub='ibm-q-ornl', group='ornl', project='chm185')>,\n",
       " <IBMQBackend('ibm_geneva') from IBMQ(hub='ibm-q-ornl', group='ornl', project='chm185')>]"
      ]
     },
     "execution_count": 5,
     "metadata": {},
     "output_type": "execute_result"
    }
   ],
   "source": [
    "IBMQ.load_account()\n",
    "provider = IBMQ.get_provider(hub='ibm-q-ornl', group='ornl', project='chm185')\n",
    "provider.backends()"
   ]
  },
  {
   "cell_type": "code",
   "execution_count": 6,
   "id": "97f1be7e",
   "metadata": {},
   "outputs": [
    {
     "data": {
      "text/plain": [
       "<IBMQBackend('ibmq_mumbai') from IBMQ(hub='ibm-q-ornl', group='ornl', project='chm185')>"
      ]
     },
     "execution_count": 6,
     "metadata": {},
     "output_type": "execute_result"
    }
   ],
   "source": [
    "device = provider.get_backend('ibmq_mumbai')\n",
    "device"
   ]
  },
  {
   "cell_type": "code",
   "execution_count": 7,
   "id": "7e5cc22a",
   "metadata": {},
   "outputs": [
    {
     "data": {
      "text/plain": [
       "8192"
      ]
     },
     "execution_count": 7,
     "metadata": {},
     "output_type": "execute_result"
    }
   ],
   "source": [
    "device.configuration().to_dict()['max_shots']"
   ]
  },
  {
   "cell_type": "code",
   "execution_count": 9,
   "id": "b6f2eb58",
   "metadata": {},
   "outputs": [],
   "source": [
    "noisy_simulator = provider.get_backend('ibmq_qasm_simulator')"
   ]
  },
  {
   "cell_type": "code",
   "execution_count": 10,
   "id": "61848cfb",
   "metadata": {},
   "outputs": [],
   "source": [
    "front_layer = QuantumCircuit.from_qasm_file(\"qasm/vqe_Lih_front.qasm\")"
   ]
  },
  {
   "cell_type": "code",
   "execution_count": 11,
   "id": "4101ca8c",
   "metadata": {},
   "outputs": [],
   "source": [
    "mid_layer = QuantumCircuit.from_qasm_file(\"qasm/vqe_Lih_mid.qasm\")"
   ]
  },
  {
   "cell_type": "code",
   "execution_count": 12,
   "id": "1721959d",
   "metadata": {},
   "outputs": [],
   "source": [
    "end_layer = QuantumCircuit.from_qasm_file(\"qasm/vqe_Lih_end.qasm\")"
   ]
  },
  {
   "cell_type": "code",
   "execution_count": 13,
   "id": "e6aa46cb",
   "metadata": {},
   "outputs": [
    {
     "name": "stderr",
     "output_type": "stream",
     "text": [
      "/var/folders/s4/3cvgkkn17hg628pzrzzjnhww0000gn/T/ipykernel_12082/743480212.py:1: DeprecationWarning: The QuantumCircuit.__add__() method is being deprecated.Use the compose() method which is more flexible w.r.t circuit register compatibility.\n",
      "  orign_circuit = front_layer + mid_layer + end_layer\n"
     ]
    }
   ],
   "source": [
    "orign_circuit = front_layer + mid_layer + end_layer"
   ]
  },
  {
   "cell_type": "code",
   "execution_count": 14,
   "id": "93020df1",
   "metadata": {},
   "outputs": [
    {
     "data": {
      "text/html": [
       "<pre style=\"word-wrap: normal;white-space: pre;background: #fff0;line-height: 1.1;font-family: &quot;Courier New&quot;,Courier,monospace\">           ┌───┐      ┌───────────────┐   ┌────────────────┐                 »\n",
       "q_0: ──────┤ X ├──────┤ Ry(-0.003534) ├─■─┤ Ry(-0.0036834) ├─────────────────»\n",
       "           ├───┤      ├───────────────┤ │ └────────────────┘┌───────────────┐»\n",
       "q_1: ──────┤ X ├──────┤ Ry(-0.015869) ├─■─────────■─────────┤ Ry(-0.015751) ├»\n",
       "     ┌─────┴───┴─────┐└───────────────┘           │         └───────────────┘»\n",
       "q_2: ┤ Ry(0.0038243) ├────────────────────────────■─────────────────■────────»\n",
       "     ├───────────────┤                                              │        »\n",
       "q_3: ┤ Ry(-0.019851) ├──────────────────────────────────────────────■────────»\n",
       "     └───────────────┘                                                       »\n",
       "q_4: ────────────────────────────────────────────────────────────────────────»\n",
       "                                                                             »\n",
       "q_5: ────────────────────────────────────────────────────────────────────────»\n",
       "                                                                             »\n",
       "q_6: ────────────────────────────────────────────────────────────────────────»\n",
       "                                                                             »\n",
       "q_7: ────────────────────────────────────────────────────────────────────────»\n",
       "                                                                             »\n",
       "«                      \n",
       "«q_0: ─────────────────\n",
       "«                      \n",
       "«q_1: ─────────────────\n",
       "«     ┌───────────────┐\n",
       "«q_2: ┤ Ry(0.0036205) ├\n",
       "«     └┬──────────────┤\n",
       "«q_3: ─┤ Ry(0.019873) ├\n",
       "«      └──────────────┘\n",
       "«q_4: ─────────────────\n",
       "«                      \n",
       "«q_5: ─────────────────\n",
       "«                      \n",
       "«q_6: ─────────────────\n",
       "«                      \n",
       "«q_7: ─────────────────\n",
       "«                      </pre>"
      ],
      "text/plain": [
       "           ┌───┐      ┌───────────────┐   ┌────────────────┐                 »\n",
       "q_0: ──────┤ X ├──────┤ Ry(-0.003534) ├─■─┤ Ry(-0.0036834) ├─────────────────»\n",
       "           ├───┤      ├───────────────┤ │ └────────────────┘┌───────────────┐»\n",
       "q_1: ──────┤ X ├──────┤ Ry(-0.015869) ├─■─────────■─────────┤ Ry(-0.015751) ├»\n",
       "     ┌─────┴───┴─────┐└───────────────┘           │         └───────────────┘»\n",
       "q_2: ┤ Ry(0.0038243) ├────────────────────────────■─────────────────■────────»\n",
       "     ├───────────────┤                                              │        »\n",
       "q_3: ┤ Ry(-0.019851) ├──────────────────────────────────────────────■────────»\n",
       "     └───────────────┘                                                       »\n",
       "q_4: ────────────────────────────────────────────────────────────────────────»\n",
       "                                                                             »\n",
       "q_5: ────────────────────────────────────────────────────────────────────────»\n",
       "                                                                             »\n",
       "q_6: ────────────────────────────────────────────────────────────────────────»\n",
       "                                                                             »\n",
       "q_7: ────────────────────────────────────────────────────────────────────────»\n",
       "                                                                             »\n",
       "«                      \n",
       "«q_0: ─────────────────\n",
       "«                      \n",
       "«q_1: ─────────────────\n",
       "«     ┌───────────────┐\n",
       "«q_2: ┤ Ry(0.0036205) ├\n",
       "«     └┬──────────────┤\n",
       "«q_3: ─┤ Ry(0.019873) ├\n",
       "«      └──────────────┘\n",
       "«q_4: ─────────────────\n",
       "«                      \n",
       "«q_5: ─────────────────\n",
       "«                      \n",
       "«q_6: ─────────────────\n",
       "«                      \n",
       "«q_7: ─────────────────\n",
       "«                      "
      ]
     },
     "execution_count": 14,
     "metadata": {},
     "output_type": "execute_result"
    }
   ],
   "source": [
    "orign_circuit.draw()"
   ]
  },
  {
   "cell_type": "code",
   "execution_count": 15,
   "id": "d4a1d3a6",
   "metadata": {},
   "outputs": [],
   "source": [
    "#checking circuit"
   ]
  },
  {
   "cell_type": "code",
   "execution_count": 16,
   "id": "6937b806",
   "metadata": {},
   "outputs": [],
   "source": [
    "def apply_checking_circuit(qc, ctrl_bits, ancilla_bits, side = None):\n",
    "    if len(ctrl_bits) != len(ancilla_bits):\n",
    "        print(\"Size mismatch\")\n",
    "        return None\n",
    "    if side == 'front':\n",
    "        for i in ancilla_bits:\n",
    "            qc.h(i)\n",
    "        for j,k in zip(ctrl_bits, ancilla_bits):\n",
    "            qc.cz(j, k)\n",
    "    elif side == 'end':\n",
    "        for j,k in zip(ctrl_bits, ancilla_bits):\n",
    "            qc.cz(j, k)\n",
    "        for i in ancilla_bits:\n",
    "            qc.h(i)\n",
    "    else:\n",
    "        print(\"Side undefined\")"
   ]
  },
  {
   "cell_type": "code",
   "execution_count": 17,
   "id": "f7f99e4b",
   "metadata": {},
   "outputs": [],
   "source": [
    "circuit = front_layer.copy()"
   ]
  },
  {
   "cell_type": "code",
   "execution_count": 18,
   "id": "4f530b86",
   "metadata": {},
   "outputs": [
    {
     "name": "stderr",
     "output_type": "stream",
     "text": [
      "/var/folders/s4/3cvgkkn17hg628pzrzzjnhww0000gn/T/ipykernel_12082/171792307.py:2: DeprecationWarning: The QuantumCircuit.__iadd__() method is being deprecated. Use the compose() (potentially with the inplace=True argument) and tensor() methods which are more flexible w.r.t circuit register compatibility.\n",
      "  circuit += mid_layer\n",
      "/var/folders/s4/3cvgkkn17hg628pzrzzjnhww0000gn/T/ipykernel_12082/171792307.py:4: DeprecationWarning: The QuantumCircuit.__iadd__() method is being deprecated. Use the compose() (potentially with the inplace=True argument) and tensor() methods which are more flexible w.r.t circuit register compatibility.\n",
      "  circuit += end_layer\n"
     ]
    }
   ],
   "source": [
    "apply_checking_circuit(circuit, [1], [5], side = 'front')\n",
    "circuit += mid_layer\n",
    "apply_checking_circuit(circuit, [1], [5], side = 'end')\n",
    "circuit += end_layer"
   ]
  },
  {
   "cell_type": "code",
   "execution_count": 19,
   "id": "3d751a26",
   "metadata": {},
   "outputs": [
    {
     "data": {
      "text/html": [
       "<pre style=\"word-wrap: normal;white-space: pre;background: #fff0;line-height: 1.1;font-family: &quot;Courier New&quot;,Courier,monospace\">           ┌───┐      ┌───────────────┐      ┌────────────────┐      »\n",
       "q_0: ──────┤ X ├──────┤ Ry(-0.003534) ├────■─┤ Ry(-0.0036834) ├──────»\n",
       "           ├───┤      ├───────────────┤    │ └────────────────┘      »\n",
       "q_1: ──────┤ X ├──────┤ Ry(-0.015869) ├─■──■─────────■─────────────■─»\n",
       "     ┌─────┴───┴─────┐└───────────────┘ │            │             │ »\n",
       "q_2: ┤ Ry(0.0038243) ├──────────────────┼────────────■──────────■──┼─»\n",
       "     ├───────────────┤                  │                       │  │ »\n",
       "q_3: ┤ Ry(-0.019851) ├──────────────────┼───────────────────────■──┼─»\n",
       "     └───────────────┘                  │                          │ »\n",
       "q_4: ───────────────────────────────────┼──────────────────────────┼─»\n",
       "           ┌───┐                        │                          │ »\n",
       "q_5: ──────┤ H ├────────────────────────■──────────────────────────■─»\n",
       "           └───┘                                                     »\n",
       "q_6: ────────────────────────────────────────────────────────────────»\n",
       "                                                                     »\n",
       "q_7: ────────────────────────────────────────────────────────────────»\n",
       "                                                                     »\n",
       "«                      \n",
       "«q_0: ─────────────────\n",
       "«     ┌───────────────┐\n",
       "«q_1: ┤ Ry(-0.015751) ├\n",
       "«     ├───────────────┤\n",
       "«q_2: ┤ Ry(0.0036205) ├\n",
       "«     └┬──────────────┤\n",
       "«q_3: ─┤ Ry(0.019873) ├\n",
       "«      └──────────────┘\n",
       "«q_4: ─────────────────\n",
       "«           ┌───┐      \n",
       "«q_5: ──────┤ H ├──────\n",
       "«           └───┘      \n",
       "«q_6: ─────────────────\n",
       "«                      \n",
       "«q_7: ─────────────────\n",
       "«                      </pre>"
      ],
      "text/plain": [
       "           ┌───┐      ┌───────────────┐      ┌────────────────┐      »\n",
       "q_0: ──────┤ X ├──────┤ Ry(-0.003534) ├────■─┤ Ry(-0.0036834) ├──────»\n",
       "           ├───┤      ├───────────────┤    │ └────────────────┘      »\n",
       "q_1: ──────┤ X ├──────┤ Ry(-0.015869) ├─■──■─────────■─────────────■─»\n",
       "     ┌─────┴───┴─────┐└───────────────┘ │            │             │ »\n",
       "q_2: ┤ Ry(0.0038243) ├──────────────────┼────────────■──────────■──┼─»\n",
       "     ├───────────────┤                  │                       │  │ »\n",
       "q_3: ┤ Ry(-0.019851) ├──────────────────┼───────────────────────■──┼─»\n",
       "     └───────────────┘                  │                          │ »\n",
       "q_4: ───────────────────────────────────┼──────────────────────────┼─»\n",
       "           ┌───┐                        │                          │ »\n",
       "q_5: ──────┤ H ├────────────────────────■──────────────────────────■─»\n",
       "           └───┘                                                     »\n",
       "q_6: ────────────────────────────────────────────────────────────────»\n",
       "                                                                     »\n",
       "q_7: ────────────────────────────────────────────────────────────────»\n",
       "                                                                     »\n",
       "«                      \n",
       "«q_0: ─────────────────\n",
       "«     ┌───────────────┐\n",
       "«q_1: ┤ Ry(-0.015751) ├\n",
       "«     ├───────────────┤\n",
       "«q_2: ┤ Ry(0.0036205) ├\n",
       "«     └┬──────────────┤\n",
       "«q_3: ─┤ Ry(0.019873) ├\n",
       "«      └──────────────┘\n",
       "«q_4: ─────────────────\n",
       "«           ┌───┐      \n",
       "«q_5: ──────┤ H ├──────\n",
       "«           └───┘      \n",
       "«q_6: ─────────────────\n",
       "«                      \n",
       "«q_7: ─────────────────\n",
       "«                      "
      ]
     },
     "execution_count": 19,
     "metadata": {},
     "output_type": "execute_result"
    }
   ],
   "source": [
    "circuit.draw()"
   ]
  },
  {
   "cell_type": "code",
   "execution_count": 20,
   "id": "7a0bb967",
   "metadata": {},
   "outputs": [],
   "source": [
    "trans_qc = transpile(circuit, basis_gates = ['sx', 'cx', 'reset', 'id', 'x', 'rz'])"
   ]
  },
  {
   "cell_type": "code",
   "execution_count": 21,
   "id": "c89ec38f",
   "metadata": {},
   "outputs": [
    {
     "data": {
      "image/png": "[encoded data removed]",
      "text/plain": [
       "<Figure size 1876.11x702.333 with 1 Axes>"
      ]
     },
     "execution_count": 21,
     "metadata": {},
     "output_type": "execute_result"
    }
   ],
   "source": [
    "trans_qc.draw(output = 'mpl')"
   ]
  },
  {
   "cell_type": "code",
   "execution_count": 22,
   "id": "95e1ee63",
   "metadata": {},
   "outputs": [
    {
     "name": "stdout",
     "output_type": "stream",
     "text": [
      "NoiseModel:\n",
      "  Basis gates: ['cx', 'id', 'reset', 'rz', 'sx', 'x']\n",
      "  Instructions with noise: ['measure']\n",
      "  Qubits with noise: [0, 1, 2, 3, 4, 5, 6, 7, 8, 9, 10, 11, 12, 13, 14, 15, 16, 17, 18, 19, 20, 21, 22, 23, 24, 25, 26]\n",
      "  Specific qubit errors: [('measure', (0,)), ('measure', (1,)), ('measure', (2,)), ('measure', (3,)), ('measure', (4,)), ('measure', (5,)), ('measure', (6,)), ('measure', (7,)), ('measure', (8,)), ('measure', (9,)), ('measure', (10,)), ('measure', (11,)), ('measure', (12,)), ('measure', (13,)), ('measure', (14,)), ('measure', (15,)), ('measure', (16,)), ('measure', (17,)), ('measure', (18,)), ('measure', (19,)), ('measure', (20,)), ('measure', (21,)), ('measure', (22,)), ('measure', (23,)), ('measure', (24,)), ('measure', (25,)), ('measure', (26,))]\n"
     ]
    }
   ],
   "source": [
    "from qiskit import IBMQ, Aer\n",
    "from qiskit.providers.aer.noise import NoiseModel\n",
    "noise_model = NoiseModel.from_backend(device, gate_error = False, thermal_relaxation= False)\n",
    "print(noise_model)"
   ]
  },
  {
   "cell_type": "code",
   "execution_count": 23,
   "id": "e6fa3737",
   "metadata": {},
   "outputs": [],
   "source": [
    "circuit = trans_qc"
   ]
  },
  {
   "cell_type": "code",
   "execution_count": 24,
   "id": "0b2c17cd",
   "metadata": {},
   "outputs": [],
   "source": [
    "# cuts = []\n",
    "# for i in range(0, 1):\n",
    "#     if i == 0 or i == qubits - 1:\n",
    "#         cut = [(circuit.qubits[i], 5),(circuit.qubits[i], 6)]\n",
    "#     else:\n",
    "#         cut = [(circuit.qubits[i], 5),(circuit.qubits[i], 4)]\n",
    "#     cuts += cut"
   ]
  },
  {
   "cell_type": "code",
   "execution_count": 25,
   "id": "4993ee93",
   "metadata": {},
   "outputs": [],
   "source": [
    "cuts = [(circuit.qubits[1], 4),(circuit.qubits[1], 12)]"
   ]
  },
  {
   "cell_type": "code",
   "execution_count": 26,
   "id": "7aa1870b",
   "metadata": {},
   "outputs": [
    {
     "name": "stdout",
     "output_type": "stream",
     "text": [
      "WARNING: some qubits are entirely unused\n",
      "unused qubits: [Qubit(QuantumRegister(8, 'q'), 4), Qubit(QuantumRegister(8, 'q'), 6), Qubit(QuantumRegister(8, 'q'), 7)]\n"
     ]
    }
   ],
   "source": [
    "fragments, wire_path_map = circuit_cutter.cut_circuit(circuit, cuts)"
   ]
  },
  {
   "cell_type": "code",
   "execution_count": 27,
   "id": "6872220e",
   "metadata": {},
   "outputs": [
    {
     "name": "stdout",
     "output_type": "stream",
     "text": [
      "{Qubit(QuantumRegister(8, 'q'), 0): ((0, Qubit(QuantumRegister(4, 'q'), 0)),), Qubit(QuantumRegister(8, 'q'), 1): ((1, Qubit(QuantumRegister(3, 'q'), 1)), (0, Qubit(QuantumRegister(4, 'q'), 2)), (1, Qubit(QuantumRegister(3, 'q'), 2))), Qubit(QuantumRegister(8, 'q'), 2): ((0, Qubit(QuantumRegister(4, 'q'), 1)),), Qubit(QuantumRegister(8, 'q'), 3): ((0, Qubit(QuantumRegister(4, 'q'), 3)),), Qubit(QuantumRegister(8, 'q'), 4): ((2, Qubit(QuantumRegister(3, 'q'), 0)),), Qubit(QuantumRegister(8, 'q'), 5): ((1, Qubit(QuantumRegister(3, 'q'), 0)),), Qubit(QuantumRegister(8, 'q'), 6): ((2, Qubit(QuantumRegister(3, 'q'), 1)),), Qubit(QuantumRegister(8, 'q'), 7): ((2, Qubit(QuantumRegister(3, 'q'), 2)),)}\n"
     ]
    }
   ],
   "source": [
    "print(wire_path_map)"
   ]
  },
  {
   "cell_type": "code",
   "execution_count": 28,
   "id": "dd8a5b10",
   "metadata": {},
   "outputs": [],
   "source": [
    "total_variants = ml.fragment_variants(wire_path_map)"
   ]
  },
  {
   "cell_type": "code",
   "execution_count": 29,
   "id": "d79b8e01",
   "metadata": {},
   "outputs": [
    {
     "data": {
      "text/plain": [
       "25"
      ]
     },
     "execution_count": 29,
     "metadata": {},
     "output_type": "execute_result"
    }
   ],
   "source": [
    "total_variants"
   ]
  },
  {
   "cell_type": "code",
   "execution_count": 30,
   "id": "45286087",
   "metadata": {},
   "outputs": [],
   "source": [
    "shots = device.configuration().to_dict()['max_shots'] * total_variants"
   ]
  },
  {
   "cell_type": "code",
   "execution_count": 31,
   "id": "8600221e",
   "metadata": {},
   "outputs": [
    {
     "name": "stdout",
     "output_type": "stream",
     "text": [
      "total circuit:\n",
      "global phase: 5π/4\n",
      "     ┌────┐┌──────────────┐┌────┐                                      »\n",
      "q_0: ┤ √X ├┤ Rz(0.003534) ├┤ √X ├───────────────────────────────────■──»\n",
      "     ├────┤├──────────────┤├────┤     ┌─────────┐┌────┐┌─────────┐┌─┴─┐»\n",
      "q_1: ┤ √X ├┤ Rz(0.015869) ├┤ √X ├──■──┤ Rz(π/2) ├┤ √X ├┤ Rz(π/2) ├┤ X ├»\n",
      "     ├────┤└┬────────────┬┘├────┤  │  └─────────┘└────┘└─────────┘└───┘»\n",
      "q_2: ┤ √X ├─┤ Rz(1.5746) ├─┤ √X ├──┼───────────────────────────────────»\n",
      "     ├────┤ ├────────────┤ ├────┤  │                                   »\n",
      "q_3: ┤ √X ├─┤ Rz(1.5509) ├─┤ √X ├──┼───────────────────────────────────»\n",
      "     └────┘ └────────────┘ └────┘  │                                   »\n",
      "q_4: ──────────────────────────────┼───────────────────────────────────»\n",
      "                                 ┌─┴─┐                                 »\n",
      "q_5: ────────────────────────────┤ X ├─────────────────────────────────»\n",
      "                                 └───┘                                 »\n",
      "q_6: ──────────────────────────────────────────────────────────────────»\n",
      "                                                                       »\n",
      "q_7: ──────────────────────────────────────────────────────────────────»\n",
      "                                                                       »\n",
      "«        ┌────┐  ┌────────────┐   ┌────┐  ┌────────┐                »\n",
      "«q_0: ───┤ √X ├──┤ Rz(3.1379) ├───┤ √X ├──┤ Rz(-π) ├────────────────»\n",
      "«     ┌──┴────┴─┐└───┬────┬───┘┌──┴────┴─┐└────────┘        ┌────┐  »\n",
      "«q_1: ┤ Rz(π/2) ├────┤ √X ├────┤ Rz(π/2) ├────■───────■─────┤ √X ├──»\n",
      "«     └─────────┘    └────┘    └─────────┘  ┌─┴─┐     │  ┌──┴────┴─┐»\n",
      "«q_2: ──────────────────────────────────────┤ X ├─────┼──┤ Rz(π/2) ├»\n",
      "«                                           └───┘     │  └─────────┘»\n",
      "«q_3: ────────────────────────────────────────────────┼─────────────»\n",
      "«                                                     │             »\n",
      "«q_4: ────────────────────────────────────────────────┼─────────────»\n",
      "«                                                   ┌─┴─┐           »\n",
      "«q_5: ──────────────────────────────────────────────┤ X ├───────────»\n",
      "«                                                   └───┘           »\n",
      "«q_6: ──────────────────────────────────────────────────────────────»\n",
      "«                                                                   »\n",
      "«q_7: ──────────────────────────────────────────────────────────────»\n",
      "«                                                                   »\n",
      "«                                                                             »\n",
      "«q_0: ────────────────────────────────────────────────────────────────────────»\n",
      "«     ┌────────────┐   ┌────┐  ┌────────┐                                     »\n",
      "«q_1: ┤ Rz(3.1258) ├───┤ √X ├──┤ Rz(-π) ├─────────────────────────────────────»\n",
      "«     └───┬────┬───┘┌──┴────┴─┐└────────┘┌────────┐    ┌────┐    ┌───────────┐»\n",
      "«q_2: ────┤ √X ├────┤ Rz(π/2) ├────■─────┤ Rz(-π) ├────┤ √X ├────┤ Rz(3.138) ├»\n",
      "«         └────┘    └─────────┘  ┌─┴─┐   └─┬────┬─┘┌───┴────┴───┐└───┬────┬──┘»\n",
      "«q_3: ───────────────────────────┤ X ├─────┤ √X ├──┤ Rz(1.5509) ├────┤ √X ├───»\n",
      "«                                └───┘     └────┘  └────────────┘    └────┘   »\n",
      "«q_4: ────────────────────────────────────────────────────────────────────────»\n",
      "«                                                                             »\n",
      "«q_5: ────────────────────────────────────────────────────────────────────────»\n",
      "«                                                                             »\n",
      "«q_6: ────────────────────────────────────────────────────────────────────────»\n",
      "«                                                                             »\n",
      "«q_7: ────────────────────────────────────────────────────────────────────────»\n",
      "«                                                                             »\n",
      "«           \n",
      "«q_0: ──────\n",
      "«           \n",
      "«q_1: ──────\n",
      "«     ┌────┐\n",
      "«q_2: ┤ √X ├\n",
      "«     └────┘\n",
      "«q_3: ──────\n",
      "«           \n",
      "«q_4: ──────\n",
      "«           \n",
      "«q_5: ──────\n",
      "«           \n",
      "«q_6: ──────\n",
      "«           \n",
      "«q_7: ──────\n",
      "«           \n",
      "cuts:\n",
      " (Qubit(QuantumRegister(8, 'q'), 1), 4)\n",
      " (Qubit(QuantumRegister(8, 'q'), 1), 12)\n",
      "\n",
      "fragment 0:\n",
      "        ┌────┐  ┌──────────────┐   ┌────┐          ┌────┐  ┌────────────┐»\n",
      "q_0: ───┤ √X ├──┤ Rz(0.003534) ├───┤ √X ├────■─────┤ √X ├──┤ Rz(3.1379) ├»\n",
      "        ├────┤  └┬────────────┬┘   ├────┤    │     └────┘  └────────────┘»\n",
      "q_1: ───┤ √X ├───┤ Rz(1.5746) ├────┤ √X ├────┼───────────────────────────»\n",
      "     ┌──┴────┴─┐ └───┬────┬───┘ ┌──┴────┴─┐┌─┴─┐┌─────────┐    ┌────┐    »\n",
      "q_2: ┤ Rz(π/2) ├─────┤ √X ├─────┤ Rz(π/2) ├┤ X ├┤ Rz(π/2) ├────┤ √X ├────»\n",
      "     └──┬────┬─┘ ┌───┴────┴───┐ └──┬────┬─┘└───┘└─────────┘    └────┘    »\n",
      "q_3: ───┤ √X ├───┤ Rz(1.5509) ├────┤ √X ├────────────────────────────────»\n",
      "        └────┘   └────────────┘    └────┘                                »\n",
      "«        ┌────┐  ┌────────┐                                           »\n",
      "«q_0: ───┤ √X ├──┤ Rz(-π) ├───────────────────────────────────────────»\n",
      "«        └────┘  └─┬───┬──┘┌─────────┐┌────┐┌─────────┐     ┌────────┐»\n",
      "«q_1: ─────────────┤ X ├───┤ Rz(π/2) ├┤ √X ├┤ Rz(π/2) ├──■──┤ Rz(-π) ├»\n",
      "«     ┌─────────┐  └─┬─┘   └─────────┘└────┘└─────────┘  │  └────────┘»\n",
      "«q_2: ┤ Rz(π/2) ├────■───────────────────────────────────┼────────────»\n",
      "«     └─────────┘                                      ┌─┴─┐  ┌────┐  »\n",
      "«q_3: ─────────────────────────────────────────────────┤ X ├──┤ √X ├──»\n",
      "«                                                      └───┘  └────┘  »\n",
      "«                                      \n",
      "«q_0: ─────────────────────────────────\n",
      "«         ┌────┐    ┌───────────┐┌────┐\n",
      "«q_1: ────┤ √X ├────┤ Rz(3.138) ├┤ √X ├\n",
      "«         └────┘    └───────────┘└────┘\n",
      "«q_2: ─────────────────────────────────\n",
      "«     ┌────────────┐    ┌────┐         \n",
      "«q_3: ┤ Rz(1.5509) ├────┤ √X ├─────────\n",
      "«     └────────────┘    └────┘         \n",
      "\n",
      "fragment 1:\n",
      "                                 ┌───┐┌───┐                                    \n",
      "q_0: ────────────────────────────┤ X ├┤ X ├────────────────────────────────────\n",
      "     ┌────┐┌──────────────┐┌────┐└─┬─┘└─┬─┘                                    \n",
      "q_1: ┤ √X ├┤ Rz(0.015869) ├┤ √X ├──■────┼──────────────────────────────────────\n",
      "     └────┘└──────────────┘└────┘       │  ┌────┐┌────────────┐┌────┐┌────────┐\n",
      "q_2: ───────────────────────────────────■──┤ √X ├┤ Rz(3.1258) ├┤ √X ├┤ Rz(-π) ├\n",
      "                                           └────┘└────────────┘└────┘└────────┘\n",
      "\n",
      "fragment 2:\n",
      "     \n",
      "q_0: \n",
      "     \n",
      "q_1: \n",
      "     \n",
      "q_2: \n",
      "     \n",
      "\n",
      "fragment_index, prep_cuts, meas_cuts:\n",
      "0 1 1\n",
      "1 1 1\n",
      "2 0 0\n",
      "\n",
      "total number of fragment variants: 25\n",
      "total number of shots: 204800\n",
      "\n"
     ]
    }
   ],
   "source": [
    "if print_circuits:\n",
    "    print(\"total circuit:\")\n",
    "    print(circuit)\n",
    "    print(\"cuts:\")\n",
    "    for cut in cuts:\n",
    "        print(\"\",cut)\n",
    "    print()\n",
    "    for idx, fragment in enumerate(fragments):\n",
    "        print(f\"fragment {idx}:\")\n",
    "        print(fragment)\n",
    "        print()\n",
    "    fragment_cuts = ml.fragment_cuts(wire_path_map)\n",
    "    print(\"fragment_index, prep_cuts, meas_cuts:\")\n",
    "    for frag_idx, frag_cuts in enumerate(fragment_cuts):\n",
    "        print(frag_idx, frag_cuts[\"prep\"], frag_cuts[\"meas\"])\n",
    "    print()\n",
    "    print(\"total number of fragment variants:\", total_variants)\n",
    "    print(\"total number of shots:\", ( shots // total_variants ) * total_variants)\n",
    "    print()"
   ]
  },
  {
   "cell_type": "code",
   "execution_count": 32,
   "id": "956041cd",
   "metadata": {},
   "outputs": [
    {
     "name": "stdout",
     "output_type": "stream",
     "text": [
      "[{'prep': 1, 'meas': 1}, {'prep': 1, 'meas': 1}, {'prep': 0, 'meas': 0}]\n"
     ]
    }
   ],
   "source": [
    "print(fragment_cuts)"
   ]
  },
  {
   "cell_type": "code",
   "execution_count": 33,
   "id": "398d7b33",
   "metadata": {},
   "outputs": [],
   "source": [
    "# list of all possible measurement outcomes (bitstrings)\n",
    "all_bits = [ \"\".join(bits) for bits in itertools.product([\"0\",\"1\"], repeat = qubits) ]"
   ]
  },
  {
   "cell_type": "code",
   "execution_count": 34,
   "id": "05e2a6c7",
   "metadata": {},
   "outputs": [
    {
     "name": "stdout",
     "output_type": "stream",
     "text": [
      "['00000', '00001', '00010', '00011', '00100', '00101', '00110', '00111', '01000', '01001', '01010', '01011', '01100', '01101', '01110', '01111', '10000', '10001', '10010', '10011', '10100', '10101', '10110', '10111', '11000', '11001', '11010', '11011', '11100', '11101', '11110', '11111']\n"
     ]
    }
   ],
   "source": [
    "print(all_bits)"
   ]
  },
  {
   "cell_type": "code",
   "execution_count": 35,
   "id": "991f5ee3",
   "metadata": {},
   "outputs": [
    {
     "name": "stderr",
     "output_type": "stream",
     "text": [
      "/var/folders/s4/3cvgkkn17hg628pzrzzjnhww0000gn/T/ipykernel_12082/3477497331.py:4: DeprecationWarning: The return type of saved statevectors has been changed from a `numpy.ndarray` to a `qiskit.quantum_info.Statevector` as of qiskit-aer 0.10. Accessing numpy array attributes is deprecated and will result in an error in a future release. To continue using saved result objects as arrays you can explicitly cast them using  `np.asarray(object)`.\n",
      "  for bits, amp in zip(all_bits, actual_state)\n"
     ]
    },
    {
     "name": "stdout",
     "output_type": "stream",
     "text": [
      "job_id:  974d683e-606d-401f-9df9-15079ae03cd4\n"
     ]
    }
   ],
   "source": [
    "# get the actual state / probability distribution for the full circuit\n",
    "actual_state = ml.get_statevector(circuit)\n",
    "actual_dist = { \"\".join(bits) : abs(amp)**2\n",
    "                for bits, amp in zip(all_bits, actual_state)\n",
    "                if amp != 0 }\n",
    "\n",
    "# get a simulated probability distribution for the full circuit\n",
    "circuit.measure_active()\n",
    "full_circuit_result = ml.run_circuits(circuit, shots, backend = simulation_backend)\n",
    "full_circuit_dist = {}\n",
    "for part in full_circuit_result:\n",
    "    for bits, counts in part.get_counts(circuit).items():\n",
    "        if bits not in full_circuit_dist:\n",
    "            full_circuit_dist[bits] = 0\n",
    "        full_circuit_dist[bits] += counts / shots"
   ]
  },
  {
   "cell_type": "code",
   "execution_count": 37,
   "id": "7e93e1dc",
   "metadata": {},
   "outputs": [
    {
     "data": {
      "text/plain": [
       "{Qubit(QuantumRegister(8, 'q'), 0): ((0, Qubit(QuantumRegister(4, 'q'), 0)),),\n",
       " Qubit(QuantumRegister(8, 'q'), 1): ((1, Qubit(QuantumRegister(3, 'q'), 1)),\n",
       "  (0, Qubit(QuantumRegister(4, 'q'), 2)),\n",
       "  (1, Qubit(QuantumRegister(3, 'q'), 2))),\n",
       " Qubit(QuantumRegister(8, 'q'), 2): ((0, Qubit(QuantumRegister(4, 'q'), 1)),),\n",
       " Qubit(QuantumRegister(8, 'q'), 3): ((0, Qubit(QuantumRegister(4, 'q'), 3)),),\n",
       " Qubit(QuantumRegister(8, 'q'), 4): ((2, Qubit(QuantumRegister(3, 'q'), 0)),),\n",
       " Qubit(QuantumRegister(8, 'q'), 5): ((1, Qubit(QuantumRegister(3, 'q'), 0)),),\n",
       " Qubit(QuantumRegister(8, 'q'), 6): ((2, Qubit(QuantumRegister(3, 'q'), 1)),),\n",
       " Qubit(QuantumRegister(8, 'q'), 7): ((2, Qubit(QuantumRegister(3, 'q'), 2)),)}"
      ]
     },
     "execution_count": 37,
     "metadata": {},
     "output_type": "execute_result"
    }
   ],
   "source": [
    "wire_path_map"
   ]
  },
  {
   "cell_type": "code",
   "execution_count": 38,
   "id": "6a5762e7",
   "metadata": {},
   "outputs": [],
   "source": [
    "orign_qc = QuantumCircuit.from_qasm_file(\"qasm/vqe_LiH.qasm\")\n",
    "orign_qc.measure_all()"
   ]
  },
  {
   "cell_type": "code",
   "execution_count": 39,
   "id": "168341f6",
   "metadata": {},
   "outputs": [],
   "source": [
    "orign_qc = transpile(orign_qc, basis_gates = ['sx', 'cx', 'reset', 'id', 'x', 'rz'])"
   ]
  },
  {
   "cell_type": "code",
   "execution_count": 40,
   "id": "c3eb407d",
   "metadata": {},
   "outputs": [
    {
     "data": {
      "text/html": [
       "<pre style=\"word-wrap: normal;white-space: pre;background: #fff0;line-height: 1.1;font-family: &quot;Courier New&quot;,Courier,monospace\">global phase: π/2\n",
       "        ┌────┐┌──────────────┐┌────┐                  ┌────┐  ┌────────────┐»\n",
       "   q_0: ┤ √X ├┤ Rz(0.003534) ├┤ √X ├────────────■─────┤ √X ├──┤ Rz(3.1379) ├»\n",
       "        ├────┤└┬────────────┬┘├────┤┌────────┐┌─┴─┐┌──┴────┴─┐└───┬────┬───┘»\n",
       "   q_1: ┤ √X ├─┤ Rz(1.5867) ├─┤ √X ├┤ Rz(-π) ├┤ X ├┤ Rz(π/2) ├────┤ √X ├────»\n",
       "        ├────┤ ├────────────┤ ├────┤└────────┘└───┘└─────────┘    └────┘    »\n",
       "   q_2: ┤ √X ├─┤ Rz(1.5746) ├─┤ √X ├────────────────────────────────────────»\n",
       "        ├────┤ ├────────────┤ ├────┤                                        »\n",
       "   q_3: ┤ √X ├─┤ Rz(1.5509) ├─┤ √X ├────────────────────────────────────────»\n",
       "        └────┘ └────────────┘ └────┘                                        »\n",
       "meas_0: ════════════════════════════════════════════════════════════════════»\n",
       "                                                                            »\n",
       "meas_1: ════════════════════════════════════════════════════════════════════»\n",
       "                                                                            »\n",
       "meas_2: ════════════════════════════════════════════════════════════════════»\n",
       "                                                                            »\n",
       "meas_3: ════════════════════════════════════════════════════════════════════»\n",
       "                                                                            »\n",
       "«           ┌────┐  ┌────────┐                                              »\n",
       "«   q_0: ───┤ √X ├──┤ Rz(-π) ├──────────────────────────────────────────────»\n",
       "«        ┌──┴────┴─┐└────────┘   ┌────┐  ┌────────────┐   ┌────┐  ┌────────┐»\n",
       "«   q_1: ┤ Rz(π/2) ├────■────────┤ √X ├──┤ Rz(3.1258) ├───┤ √X ├──┤ Rz(-π) ├»\n",
       "«        └─────────┘  ┌─┴─┐   ┌──┴────┴─┐└───┬────┬───┘┌──┴────┴─┐└────────┘»\n",
       "«   q_2: ─────────────┤ X ├───┤ Rz(π/2) ├────┤ √X ├────┤ Rz(π/2) ├────■─────»\n",
       "«                     └───┘   └─────────┘    └────┘    └─────────┘  ┌─┴─┐   »\n",
       "«   q_3: ───────────────────────────────────────────────────────────┤ X ├───»\n",
       "«                                                                   └───┘   »\n",
       "«meas_0: ═══════════════════════════════════════════════════════════════════»\n",
       "«                                                                           »\n",
       "«meas_1: ═══════════════════════════════════════════════════════════════════»\n",
       "«                                                                           »\n",
       "«meas_2: ═══════════════════════════════════════════════════════════════════»\n",
       "«                                                                           »\n",
       "«meas_3: ═══════════════════════════════════════════════════════════════════»\n",
       "«                                                                           »\n",
       "«                                                    ░ ┌─┐         \n",
       "«   q_0: ────────────────────────────────────────────░─┤M├─────────\n",
       "«                                                    ░ └╥┘┌─┐      \n",
       "«   q_1: ────────────────────────────────────────────░──╫─┤M├──────\n",
       "«        ┌────────┐    ┌────┐    ┌───────────┐┌────┐ ░  ║ └╥┘┌─┐   \n",
       "«   q_2: ┤ Rz(-π) ├────┤ √X ├────┤ Rz(3.138) ├┤ √X ├─░──╫──╫─┤M├───\n",
       "«        └─┬────┬─┘┌───┴────┴───┐└───┬────┬──┘└────┘ ░  ║  ║ └╥┘┌─┐\n",
       "«   q_3: ──┤ √X ├──┤ Rz(1.5509) ├────┤ √X ├──────────░──╫──╫──╫─┤M├\n",
       "«          └────┘  └────────────┘    └────┘          ░  ║  ║  ║ └╥┘\n",
       "«meas_0: ═══════════════════════════════════════════════╩══╬══╬══╬═\n",
       "«                                                          ║  ║  ║ \n",
       "«meas_1: ══════════════════════════════════════════════════╩══╬══╬═\n",
       "«                                                             ║  ║ \n",
       "«meas_2: ═════════════════════════════════════════════════════╩══╬═\n",
       "«                                                                ║ \n",
       "«meas_3: ════════════════════════════════════════════════════════╩═\n",
       "«                                                                  </pre>"
      ],
      "text/plain": [
       "global phase: π/2\n",
       "        ┌────┐┌──────────────┐┌────┐                  ┌────┐  ┌────────────┐»\n",
       "   q_0: ┤ √X ├┤ Rz(0.003534) ├┤ √X ├────────────■─────┤ √X ├──┤ Rz(3.1379) ├»\n",
       "        ├────┤└┬────────────┬┘├────┤┌────────┐┌─┴─┐┌──┴────┴─┐└───┬────┬───┘»\n",
       "   q_1: ┤ √X ├─┤ Rz(1.5867) ├─┤ √X ├┤ Rz(-π) ├┤ X ├┤ Rz(π/2) ├────┤ √X ├────»\n",
       "        ├────┤ ├────────────┤ ├────┤└────────┘└───┘└─────────┘    └────┘    »\n",
       "   q_2: ┤ √X ├─┤ Rz(1.5746) ├─┤ √X ├────────────────────────────────────────»\n",
       "        ├────┤ ├────────────┤ ├────┤                                        »\n",
       "   q_3: ┤ √X ├─┤ Rz(1.5509) ├─┤ √X ├────────────────────────────────────────»\n",
       "        └────┘ └────────────┘ └────┘                                        »\n",
       "meas_0: ════════════════════════════════════════════════════════════════════»\n",
       "                                                                            »\n",
       "meas_1: ════════════════════════════════════════════════════════════════════»\n",
       "                                                                            »\n",
       "meas_2: ════════════════════════════════════════════════════════════════════»\n",
       "                                                                            »\n",
       "meas_3: ════════════════════════════════════════════════════════════════════»\n",
       "                                                                            »\n",
       "«           ┌────┐  ┌────────┐                                              »\n",
       "«   q_0: ───┤ √X ├──┤ Rz(-π) ├──────────────────────────────────────────────»\n",
       "«        ┌──┴────┴─┐└────────┘   ┌────┐  ┌────────────┐   ┌────┐  ┌────────┐»\n",
       "«   q_1: ┤ Rz(π/2) ├────■────────┤ √X ├──┤ Rz(3.1258) ├───┤ √X ├──┤ Rz(-π) ├»\n",
       "«        └─────────┘  ┌─┴─┐   ┌──┴────┴─┐└───┬────┬───┘┌──┴────┴─┐└────────┘»\n",
       "«   q_2: ─────────────┤ X ├───┤ Rz(π/2) ├────┤ √X ├────┤ Rz(π/2) ├────■─────»\n",
       "«                     └───┘   └─────────┘    └────┘    └─────────┘  ┌─┴─┐   »\n",
       "«   q_3: ───────────────────────────────────────────────────────────┤ X ├───»\n",
       "«                                                                   └───┘   »\n",
       "«meas_0: ═══════════════════════════════════════════════════════════════════»\n",
       "«                                                                           »\n",
       "«meas_1: ═══════════════════════════════════════════════════════════════════»\n",
       "«                                                                           »\n",
       "«meas_2: ═══════════════════════════════════════════════════════════════════»\n",
       "«                                                                           »\n",
       "«meas_3: ═══════════════════════════════════════════════════════════════════»\n",
       "«                                                                           »\n",
       "«                                                    ░ ┌─┐         \n",
       "«   q_0: ────────────────────────────────────────────░─┤M├─────────\n",
       "«                                                    ░ └╥┘┌─┐      \n",
       "«   q_1: ────────────────────────────────────────────░──╫─┤M├──────\n",
       "«        ┌────────┐    ┌────┐    ┌───────────┐┌────┐ ░  ║ └╥┘┌─┐   \n",
       "«   q_2: ┤ Rz(-π) ├────┤ √X ├────┤ Rz(3.138) ├┤ √X ├─░──╫──╫─┤M├───\n",
       "«        └─┬────┬─┘┌───┴────┴───┐└───┬────┬──┘└────┘ ░  ║  ║ └╥┘┌─┐\n",
       "«   q_3: ──┤ √X ├──┤ Rz(1.5509) ├────┤ √X ├──────────░──╫──╫──╫─┤M├\n",
       "«          └────┘  └────────────┘    └────┘          ░  ║  ║  ║ └╥┘\n",
       "«meas_0: ═══════════════════════════════════════════════╩══╬══╬══╬═\n",
       "«                                                          ║  ║  ║ \n",
       "«meas_1: ══════════════════════════════════════════════════╩══╬══╬═\n",
       "«                                                             ║  ║ \n",
       "«meas_2: ═════════════════════════════════════════════════════╩══╬═\n",
       "«                                                                ║ \n",
       "«meas_3: ════════════════════════════════════════════════════════╩═\n",
       "«                                                                  "
      ]
     },
     "execution_count": 40,
     "metadata": {},
     "output_type": "execute_result"
    }
   ],
   "source": [
    "orign_qc.draw()"
   ]
  },
  {
   "cell_type": "code",
   "execution_count": 41,
   "id": "1d356082",
   "metadata": {},
   "outputs": [
    {
     "data": {
      "text/plain": [
       "3"
      ]
     },
     "execution_count": 41,
     "metadata": {},
     "output_type": "execute_result"
    }
   ],
   "source": [
    "len(fragments)"
   ]
  },
  {
   "cell_type": "code",
   "execution_count": 42,
   "id": "3854951e",
   "metadata": {},
   "outputs": [],
   "source": [
    "temp_frag_data = [0] * len(fragments)"
   ]
  },
  {
   "cell_type": "code",
   "execution_count": 43,
   "id": "b018e1fa",
   "metadata": {},
   "outputs": [
    {
     "data": {
      "text/html": [
       "<pre style=\"word-wrap: normal;white-space: pre;background: #fff0;line-height: 1.1;font-family: &quot;Courier New&quot;,Courier,monospace\">        ┌────┐  ┌──────────────┐   ┌────┐          ┌────┐  ┌────────────┐»\n",
       "q_0: ───┤ √X ├──┤ Rz(0.003534) ├───┤ √X ├────■─────┤ √X ├──┤ Rz(3.1379) ├»\n",
       "        ├────┤  └┬────────────┬┘   ├────┤    │     └────┘  └────────────┘»\n",
       "q_1: ───┤ √X ├───┤ Rz(1.5746) ├────┤ √X ├────┼───────────────────────────»\n",
       "     ┌──┴────┴─┐ └───┬────┬───┘ ┌──┴────┴─┐┌─┴─┐┌─────────┐    ┌────┐    »\n",
       "q_2: ┤ Rz(π/2) ├─────┤ √X ├─────┤ Rz(π/2) ├┤ X ├┤ Rz(π/2) ├────┤ √X ├────»\n",
       "     └──┬────┬─┘ ┌───┴────┴───┐ └──┬────┬─┘└───┘└─────────┘    └────┘    »\n",
       "q_3: ───┤ √X ├───┤ Rz(1.5509) ├────┤ √X ├────────────────────────────────»\n",
       "        └────┘   └────────────┘    └────┘                                »\n",
       "«        ┌────┐  ┌────────┐                                           »\n",
       "«q_0: ───┤ √X ├──┤ Rz(-π) ├───────────────────────────────────────────»\n",
       "«        └────┘  └─┬───┬──┘┌─────────┐┌────┐┌─────────┐     ┌────────┐»\n",
       "«q_1: ─────────────┤ X ├───┤ Rz(π/2) ├┤ √X ├┤ Rz(π/2) ├──■──┤ Rz(-π) ├»\n",
       "«     ┌─────────┐  └─┬─┘   └─────────┘└────┘└─────────┘  │  └────────┘»\n",
       "«q_2: ┤ Rz(π/2) ├────■───────────────────────────────────┼────────────»\n",
       "«     └─────────┘                                      ┌─┴─┐  ┌────┐  »\n",
       "«q_3: ─────────────────────────────────────────────────┤ X ├──┤ √X ├──»\n",
       "«                                                      └───┘  └────┘  »\n",
       "«                                      \n",
       "«q_0: ─────────────────────────────────\n",
       "«         ┌────┐    ┌───────────┐┌────┐\n",
       "«q_1: ────┤ √X ├────┤ Rz(3.138) ├┤ √X ├\n",
       "«         └────┘    └───────────┘└────┘\n",
       "«q_2: ─────────────────────────────────\n",
       "«     ┌────────────┐    ┌────┐         \n",
       "«q_3: ┤ Rz(1.5509) ├────┤ √X ├─────────\n",
       "«     └────────────┘    └────┘         </pre>"
      ],
      "text/plain": [
       "        ┌────┐  ┌──────────────┐   ┌────┐          ┌────┐  ┌────────────┐»\n",
       "q_0: ───┤ √X ├──┤ Rz(0.003534) ├───┤ √X ├────■─────┤ √X ├──┤ Rz(3.1379) ├»\n",
       "        ├────┤  └┬────────────┬┘   ├────┤    │     └────┘  └────────────┘»\n",
       "q_1: ───┤ √X ├───┤ Rz(1.5746) ├────┤ √X ├────┼───────────────────────────»\n",
       "     ┌──┴────┴─┐ └───┬────┬───┘ ┌──┴────┴─┐┌─┴─┐┌─────────┐    ┌────┐    »\n",
       "q_2: ┤ Rz(π/2) ├─────┤ √X ├─────┤ Rz(π/2) ├┤ X ├┤ Rz(π/2) ├────┤ √X ├────»\n",
       "     └──┬────┬─┘ ┌───┴────┴───┐ └──┬────┬─┘└───┘└─────────┘    └────┘    »\n",
       "q_3: ───┤ √X ├───┤ Rz(1.5509) ├────┤ √X ├────────────────────────────────»\n",
       "        └────┘   └────────────┘    └────┘                                »\n",
       "«        ┌────┐  ┌────────┐                                           »\n",
       "«q_0: ───┤ √X ├──┤ Rz(-π) ├───────────────────────────────────────────»\n",
       "«        └────┘  └─┬───┬──┘┌─────────┐┌────┐┌─────────┐     ┌────────┐»\n",
       "«q_1: ─────────────┤ X ├───┤ Rz(π/2) ├┤ √X ├┤ Rz(π/2) ├──■──┤ Rz(-π) ├»\n",
       "«     ┌─────────┐  └─┬─┘   └─────────┘└────┘└─────────┘  │  └────────┘»\n",
       "«q_2: ┤ Rz(π/2) ├────■───────────────────────────────────┼────────────»\n",
       "«     └─────────┘                                      ┌─┴─┐  ┌────┐  »\n",
       "«q_3: ─────────────────────────────────────────────────┤ X ├──┤ √X ├──»\n",
       "«                                                      └───┘  └────┘  »\n",
       "«                                      \n",
       "«q_0: ─────────────────────────────────\n",
       "«         ┌────┐    ┌───────────┐┌────┐\n",
       "«q_1: ────┤ √X ├────┤ Rz(3.138) ├┤ √X ├\n",
       "«         └────┘    └───────────┘└────┘\n",
       "«q_2: ─────────────────────────────────\n",
       "«     ┌────────────┐    ┌────┐         \n",
       "«q_3: ┤ Rz(1.5509) ├────┤ √X ├─────────\n",
       "«     └────────────┘    └────┘         "
      ]
     },
     "execution_count": 43,
     "metadata": {},
     "output_type": "execute_result"
    }
   ],
   "source": [
    "fragments[0].draw()"
   ]
  },
  {
   "cell_type": "code",
   "execution_count": 44,
   "id": "6ff5ae5d",
   "metadata": {},
   "outputs": [
    {
     "data": {
      "text/html": [
       "<pre style=\"word-wrap: normal;white-space: pre;background: #fff0;line-height: 1.1;font-family: &quot;Courier New&quot;,Courier,monospace\">                                 ┌───┐┌───┐                                    \n",
       "q_0: ────────────────────────────┤ X ├┤ X ├────────────────────────────────────\n",
       "     ┌────┐┌──────────────┐┌────┐└─┬─┘└─┬─┘                                    \n",
       "q_1: ┤ √X ├┤ Rz(0.015869) ├┤ √X ├──■────┼──────────────────────────────────────\n",
       "     └────┘└──────────────┘└────┘       │  ┌────┐┌────────────┐┌────┐┌────────┐\n",
       "q_2: ───────────────────────────────────■──┤ √X ├┤ Rz(3.1258) ├┤ √X ├┤ Rz(-π) ├\n",
       "                                           └────┘└────────────┘└────┘└────────┘</pre>"
      ],
      "text/plain": [
       "                                 ┌───┐┌───┐                                    \n",
       "q_0: ────────────────────────────┤ X ├┤ X ├────────────────────────────────────\n",
       "     ┌────┐┌──────────────┐┌────┐└─┬─┘└─┬─┘                                    \n",
       "q_1: ┤ √X ├┤ Rz(0.015869) ├┤ √X ├──■────┼──────────────────────────────────────\n",
       "     └────┘└──────────────┘└────┘       │  ┌────┐┌────────────┐┌────┐┌────────┐\n",
       "q_2: ───────────────────────────────────■──┤ √X ├┤ Rz(3.1258) ├┤ √X ├┤ Rz(-π) ├\n",
       "                                           └────┘└────────────┘└────┘└────────┘"
      ]
     },
     "execution_count": 44,
     "metadata": {},
     "output_type": "execute_result"
    }
   ],
   "source": [
    "fragments[1].draw()"
   ]
  },
  {
   "cell_type": "code",
   "execution_count": 130,
   "id": "199571c0",
   "metadata": {},
   "outputs": [],
   "source": [
    "import qiskit.ignis.verification as vf"
   ]
  },
  {
   "cell_type": "code",
   "execution_count": 45,
   "id": "95d3f139",
   "metadata": {},
   "outputs": [],
   "source": [
    "hardware_index = 0"
   ]
  },
  {
   "cell_type": "code",
   "execution_count": null,
   "id": "9c375f92",
   "metadata": {},
   "outputs": [
    {
     "name": "stdout",
     "output_type": "stream",
     "text": [
      "Job Status: job is queued (5)     "
     ]
    }
   ],
   "source": [
    "for i in range(0, len(fragments)):\n",
    "    if i == hardware_index:\n",
    "        temp_frag_data[i] = ml.collect_fragment_raw_data(fragments[i], i, wire_path_map,\n",
    "                                     shots = shots // total_variants,\n",
    "                                     tomography_backend = device, initial_layout = [15,13,14,12], opt_lvl = 3, extra_qc = [orign_qc])\n",
    "    else:\n",
    "        temp_frag_data[i] = ml.collect_fragment_raw_data(fragments[i], i, wire_path_map,\n",
    "                                     shots = shots // total_variants,\n",
    "                                     tomography_backend = simulation_backend)"
   ]
  },
  {
   "cell_type": "code",
   "execution_count": null,
   "id": "77ce4f90",
   "metadata": {},
   "outputs": [],
   "source": [
    "frag_targets = ml.identify_frag_targets(wire_path_map)"
   ]
  },
  {
   "cell_type": "code",
   "execution_count": null,
   "id": "dc46027a",
   "metadata": {},
   "outputs": [],
   "source": [
    "frag_data = []\n",
    "for i in range(0, len(fragments)):\n",
    "    extra_list = []\n",
    "    if i == hardware_index:\n",
    "        extra_list = [orign_qc]\n",
    "    frag_data.append(ml.organize_tomography_data(temp_frag_data[i][0],\n",
    "                                      frag_targets[i].get(\"prep\"),\n",
    "                                      frag_targets[i].get(\"meas\"),\n",
    "                                      prep_basis = \"SIC\", extra_qc = extra_list))"
   ]
  },
  {
   "cell_type": "code",
   "execution_count": null,
   "id": "76b00b81",
   "metadata": {},
   "outputs": [],
   "source": [
    "len(frag_data)"
   ]
  },
  {
   "cell_type": "code",
   "execution_count": null,
   "id": "029b42f7",
   "metadata": {},
   "outputs": [],
   "source": [
    "frag_data[1]"
   ]
  },
  {
   "cell_type": "code",
   "execution_count": null,
   "id": "6d6c25ac",
   "metadata": {},
   "outputs": [],
   "source": [
    "# frag_data = [ml.organize_tomography_data(temp_frag_data[0][0],\n",
    "#                                       frag_targets[0].get(\"prep\"),\n",
    "#                                       frag_targets[0].get(\"meas\"),\n",
    "#                                       prep_basis = \"SIC\", extra_qc = [orign_qc])]\n",
    "# for i in range(1, len(fragments)):\n",
    "#     frag_data.append(ml.organize_tomography_data(temp_frag_data[i][0],\n",
    "#                                       frag_targets[i].get(\"prep\"),\n",
    "#                                       frag_targets[i].get(\"meas\"),\n",
    "#                                       prep_basis = \"SIC\", extra_qc = []))"
   ]
  },
  {
   "cell_type": "code",
   "execution_count": null,
   "id": "f2ea4460",
   "metadata": {},
   "outputs": [],
   "source": [
    "for final_bits, fixed_bit_data in frag_data[0].items():\n",
    "    prep_meas_states, state_counts = zip(*fixed_bit_data.items())\n",
    "    prep_labels, meas_labels = zip(*prep_meas_states)\n",
    "    prep_qubit_num = len(prep_labels[0])\n",
    "    meas_qubit_num = len(meas_labels[0])\n",
    "    print(prep_qubit_num)"
   ]
  },
  {
   "cell_type": "code",
   "execution_count": null,
   "id": "99930b5d",
   "metadata": {},
   "outputs": [],
   "source": [
    "direct_models = ml.direct_fragment_model(frag_data)\n",
    "likely_models = ml.maximum_likelihood_model(direct_models)\n",
    "\n",
    "direct_recombined_dist = ml.recombine_fragment_models(direct_models, wire_path_map)\n",
    "likely_recombined_dist = ml.recombine_fragment_models(likely_models, wire_path_map)"
   ]
  },
  {
   "cell_type": "code",
   "execution_count": null,
   "id": "352352e2",
   "metadata": {},
   "outputs": [],
   "source": []
  },
  {
   "cell_type": "code",
   "execution_count": null,
   "id": "b689bf9b",
   "metadata": {},
   "outputs": [],
   "source": [
    "direct_recombined_dist"
   ]
  },
  {
   "cell_type": "code",
   "execution_count": null,
   "id": "13b192fc",
   "metadata": {},
   "outputs": [],
   "source": [
    "likely_recombined_dist"
   ]
  },
  {
   "cell_type": "code",
   "execution_count": null,
   "id": "5dbabd0b",
   "metadata": {},
   "outputs": [],
   "source": []
  },
  {
   "cell_type": "code",
   "execution_count": null,
   "id": "04be761c",
   "metadata": {},
   "outputs": [],
   "source": [
    "from utils.utils import filter_results"
   ]
  },
  {
   "cell_type": "code",
   "execution_count": null,
   "id": "9df8b215",
   "metadata": {},
   "outputs": [],
   "source": [
    "filter_direct_recombined = filter_results(direct_recombined_dist, [0,1,2,3])"
   ]
  },
  {
   "cell_type": "code",
   "execution_count": null,
   "id": "ef48375a",
   "metadata": {},
   "outputs": [],
   "source": [
    "filter_direct_recombined"
   ]
  },
  {
   "cell_type": "code",
   "execution_count": null,
   "id": "246437c1",
   "metadata": {},
   "outputs": [],
   "source": [
    "filter_likely_recombined = filter_results(likely_recombined_dist, [0,1,2,3])"
   ]
  },
  {
   "cell_type": "code",
   "execution_count": null,
   "id": "a8fe450d",
   "metadata": {},
   "outputs": [],
   "source": [
    "filter_likely_recombined"
   ]
  },
  {
   "cell_type": "code",
   "execution_count": null,
   "id": "5fab80f3",
   "metadata": {},
   "outputs": [],
   "source": [
    "def norm_dict(dictionary):\n",
    "    total = total_counts(dictionary)\n",
    "    norm_dist = {}\n",
    "    for i in dictionary.keys():\n",
    "        norm_dist[i] = dictionary[i]/total\n",
    "    return norm_dist"
   ]
  },
  {
   "cell_type": "code",
   "execution_count": null,
   "id": "f05e0129",
   "metadata": {},
   "outputs": [],
   "source": [
    "unmiti_dist = temp_frag_data[hardware_index][0][0].get_counts()[-1]\n",
    "unmiti_dist"
   ]
  },
  {
   "cell_type": "code",
   "execution_count": null,
   "id": "1e8284f8",
   "metadata": {},
   "outputs": [],
   "source": [
    "unmiti_norm_dist = norm_dict(unmiti_dist)"
   ]
  },
  {
   "cell_type": "code",
   "execution_count": null,
   "id": "a724f3dd",
   "metadata": {},
   "outputs": [],
   "source": [
    "norm_filter_dist = norm_dict(filter_likely_recombined)"
   ]
  },
  {
   "cell_type": "code",
   "execution_count": null,
   "id": "c2138c6d",
   "metadata": {},
   "outputs": [],
   "source": [
    "unmiti_norm_dist['0011']"
   ]
  },
  {
   "cell_type": "code",
   "execution_count": null,
   "id": "81d6bc37",
   "metadata": {},
   "outputs": [],
   "source": [
    "likely_recombined_dist['00000011']"
   ]
  },
  {
   "cell_type": "code",
   "execution_count": null,
   "id": "3287adab",
   "metadata": {},
   "outputs": [],
   "source": [
    "#normalized distribution after mitigation: 0.9189375->0.9286796265616319\n",
    "norm_filter_dist['0011']"
   ]
  },
  {
   "cell_type": "code",
   "execution_count": null,
   "id": "9b10b83e",
   "metadata": {},
   "outputs": [],
   "source": [
    "norm_filter_dist"
   ]
  },
  {
   "cell_type": "code",
   "execution_count": null,
   "id": "7e67de89",
   "metadata": {},
   "outputs": [],
   "source": [
    "total_counts(unmiti_dist)"
   ]
  },
  {
   "cell_type": "code",
   "execution_count": null,
   "id": "95574397",
   "metadata": {},
   "outputs": [],
   "source": [
    "unmiti_norm_dist = {}\n",
    "for i in unmiti_dist.keys():\n",
    "    unmiti_norm_dist[i] = unmiti_dist[i]/total_counts(unmiti_dist)"
   ]
  },
  {
   "cell_type": "code",
   "execution_count": null,
   "id": "abb7b782",
   "metadata": {},
   "outputs": [],
   "source": [
    "unmiti_norm_dist"
   ]
  },
  {
   "cell_type": "code",
   "execution_count": null,
   "id": "29dbbc7a",
   "metadata": {},
   "outputs": [],
   "source": []
  },
  {
   "cell_type": "code",
   "execution_count": null,
   "id": "885a8632",
   "metadata": {},
   "outputs": [],
   "source": []
  },
  {
   "cell_type": "code",
   "execution_count": null,
   "id": "9519a9a1",
   "metadata": {},
   "outputs": [],
   "source": []
  },
  {
   "cell_type": "code",
   "execution_count": null,
   "id": "0b70a6cd",
   "metadata": {},
   "outputs": [],
   "source": []
  },
  {
   "cell_type": "code",
   "execution_count": null,
   "id": "94ee70ae",
   "metadata": {},
   "outputs": [],
   "source": []
  },
  {
   "cell_type": "code",
   "execution_count": null,
   "id": "f13268e0",
   "metadata": {},
   "outputs": [],
   "source": []
  }
 ],
 "metadata": {
  "kernelspec": {
   "display_name": "Python 3 (ipykernel)",
   "language": "python",
   "name": "python3"
  },
  "language_info": {
   "codemirror_mode": {
    "name": "ipython",
    "version": 3
   },
   "file_extension": ".py",
   "mimetype": "text/x-python",
   "name": "python",
   "nbconvert_exporter": "python",
   "pygments_lexer": "ipython3",
   "version": "3.8.13"
  }
 },
 "nbformat": 4,
 "nbformat_minor": 5
}
