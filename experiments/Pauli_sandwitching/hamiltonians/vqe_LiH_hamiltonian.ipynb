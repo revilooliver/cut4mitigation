{
 "cells": [
  {
   "cell_type": "code",
   "execution_count": 1,
   "id": "d4a0d7a5",
   "metadata": {},
   "outputs": [],
   "source": [
    "import numpy as np\n",
    "#standard Qiskit libraries\n",
    "from qiskit import QuantumCircuit, transpile, Aer, IBMQ\n",
    "from qiskit.tools.jupyter import *\n",
    "from qiskit.visualization import *\n",
    "from qiskit.providers.aer import QasmSimulator\n",
    "from qiskit_nature.drivers.second_quantization import PySCFDriver\n",
    "from qiskit_nature.transformers.second_quantization.electronic import FreezeCoreTransformer"
   ]
  },
  {
   "cell_type": "code",
   "execution_count": 1,
   "id": "10e32f48",
   "metadata": {},
   "outputs": [
    {
     "ename": "NameError",
     "evalue": "name 'PySCFDriver' is not defined",
     "output_type": "error",
     "traceback": [
      "\u001b[0;31m---------------------------------------------------------------------------\u001b[0m",
      "\u001b[0;31mNameError\u001b[0m                                 Traceback (most recent call last)",
      "Cell \u001b[0;32mIn [1], line 3\u001b[0m\n\u001b[1;32m      1\u001b[0m molecule \u001b[38;5;241m=\u001b[39m \u001b[38;5;124m'\u001b[39m\u001b[38;5;124mLi 0.0 0.0 0.0; H 0.0 0.0 1.5474\u001b[39m\u001b[38;5;124m'\u001b[39m\n\u001b[1;32m      2\u001b[0m \u001b[38;5;66;03m# molecule = \"H 0.0 0.0 -0.3625; H 0.0 0.0 0.3625 \"\u001b[39;00m\n\u001b[0;32m----> 3\u001b[0m driver \u001b[38;5;241m=\u001b[39m \u001b[43mPySCFDriver\u001b[49m(atom\u001b[38;5;241m=\u001b[39mmolecule)\n",
      "\u001b[0;31mNameError\u001b[0m: name 'PySCFDriver' is not defined"
     ]
    }
   ],
   "source": [
    "molecule = 'Li 0.0 0.0 0.0; H 0.0 0.0 1.5474'\n",
    "# molecule = \"H 0.0 0.0 -0.3625; H 0.0 0.0 0.3625 \"\n",
    "driver = PySCFDriver(atom=molecule)"
   ]
  },
  {
   "cell_type": "code",
   "execution_count": 21,
   "id": "88a3f94a",
   "metadata": {},
   "outputs": [],
   "source": [
    "qmolecule = driver.run()"
   ]
  },
  {
   "cell_type": "code",
   "execution_count": 40,
   "id": "7ebf4fca",
   "metadata": {},
   "outputs": [],
   "source": [
    "fct = [FreezeCoreTransformer(freeze_core=False)]#(freeze_core=True, remove_orbitals=[3,4])]"
   ]
  },
  {
   "cell_type": "code",
   "execution_count": 41,
   "id": "ae114ec1",
   "metadata": {},
   "outputs": [],
   "source": [
    "from qiskit_nature.problems.second_quantization.electronic import ElectronicStructureProblem\n",
    "problem = ElectronicStructureProblem(driver, fct)\n",
    "second_q_ops = problem.second_q_ops()\n",
    "\n",
    "# Hamiltonian\n",
    "main_op = second_q_ops[0]\n",
    "from qiskit_nature.mappers.second_quantization import ParityMapper\n",
    "from qiskit_nature.converters.second_quantization.qubit_converter import QubitConverter\n",
    "\n",
    "converter = QubitConverter(mapper=ParityMapper(), two_qubit_reduction=True)\n",
    "\n",
    "# Mapping Fermions to Qubits\n",
    "#num_particles = (problem.molecule_data_transformed.num_alpha,\n",
    "             #problem.molecule_data_transformed.num_beta)\n",
    "num_particles = problem.num_particles\n",
    "qubit_op = converter.convert(main_op, num_particles = problem.num_particles)\n",
    "from qiskit_nature.circuit.library import HartreeFock\n",
    "\n",
    "\n",
    "num_spin_orbitals = problem.num_spin_orbitals\n",
    "init_state = HartreeFock(num_spin_orbitals, num_particles, converter)"
   ]
  },
  {
   "cell_type": "code",
   "execution_count": null,
   "id": "59591bf0",
   "metadata": {},
   "outputs": [],
   "source": []
  },
  {
   "cell_type": "code",
   "execution_count": 42,
   "id": "74e90519",
   "metadata": {},
   "outputs": [],
   "source": [
    "from qiskit.circuit.library import TwoLocal\n",
    "from qiskit_nature.circuit.library import UCCSD, PUCCD, SUCCD\n",
    "\n",
    "# Parameters for q-UCC antatze\n",
    "num_particles = problem.num_particles\n",
    "num_spin_orbitals = problem.num_spin_orbitals\n",
    "n = qubit_op.num_qubits\n",
    "qc = QuantumCircuit(qubit_op.num_qubits)\n",
    "from qiskit.circuit import Parameter, QuantumCircuit, QuantumRegister\n",
    "#the variational parameter\n",
    "p=1\n",
    "for i in range(n):\n",
    "    theta = Parameter(f\"ry_theta{p}\" )\n",
    "    qc.ry(theta, i)\n",
    "    p += 1\n",
    "qubit_label = 0\n",
    "# qc.ry(theta, range(n))\n",
    "#qc.rz(theta, range(n))\n",
    "for i in range(n-1):\n",
    "    qc.cz(i, i+1)\n",
    "for i in range(n):\n",
    "    theta = Parameter(f\"ry_theta{p}\" )\n",
    "    qc.ry(theta, i)\n",
    "    p += 1\n",
    "#qc.rz(theta, range(n))\n",
    "\n",
    "# Add the initial state\n",
    "ansatz = qc\n",
    "ansatz.compose(init_state, front=True, inplace=True)"
   ]
  },
  {
   "cell_type": "code",
   "execution_count": 43,
   "id": "55343839",
   "metadata": {},
   "outputs": [
    {
     "name": "stdout",
     "output_type": "stream",
     "text": [
      "Exact electronic energy -1.867120978341268\n",
      "=== GROUND STATE ENERGY ===\n",
      " \n",
      "* Electronic ground state energy (Hartree): -1.867120978341\n",
      "  - computed part:      -1.867120978341\n",
      "  - FreezeCoreTransformer extracted energy part: 0.0\n",
      "~ Nuclear repulsion energy (Hartree): 0.729899601269\n",
      "> Total ground state energy (Hartree): -1.137221377072\n",
      " \n",
      "=== MEASURED OBSERVABLES ===\n",
      " \n",
      "  0:  # Particles: 2.000 S: 0.000 S^2: 0.000 M: 0.000\n",
      " \n",
      "=== DIPOLE MOMENTS ===\n",
      " \n",
      "~ Nuclear dipole moment (a.u.): [0.0  0.0  0.0]\n",
      " \n",
      "  0: \n",
      "  * Electronic dipole moment (a.u.): [0.0  0.0  0.0]\n",
      "    - computed part:      [0.0  0.0  0.0]\n",
      "    - FreezeCoreTransformer extracted energy part: [0.0  0.0  0.0]\n",
      "  > Dipole moment (a.u.): [0.0  0.0  0.0]  Total: 0.0\n",
      "                 (debye): [0.0  0.0  0.0]  Total: 0.0\n",
      " \n"
     ]
    }
   ],
   "source": [
    "from qiskit_nature.algorithms.ground_state_solvers.minimum_eigensolver_factories import NumPyMinimumEigensolverFactory\n",
    "from qiskit_nature.algorithms.ground_state_solvers import GroundStateEigensolver\n",
    "import numpy as np \n",
    "\n",
    "def exact_diagonalizer(problem, converter):\n",
    "    solver = NumPyMinimumEigensolverFactory()\n",
    "    calc = GroundStateEigensolver(converter, solver)\n",
    "    result = calc.solve(problem)\n",
    "    return result\n",
    "\n",
    "result_exact = exact_diagonalizer(problem, converter)\n",
    "exact_energy = np.real(result_exact.eigenenergies[0])\n",
    "print(\"Exact electronic energy\", exact_energy)\n",
    "print(result_exact)"
   ]
  },
  {
   "cell_type": "code",
   "execution_count": 44,
   "id": "e498502a",
   "metadata": {},
   "outputs": [
    {
     "name": "stdout",
     "output_type": "stream",
     "text": [
      "{   'aux_operator_eigenvalues': None,\n",
      "    'cost_function_evals': 124,\n",
      "    'eigenstate': array([ 5.50373743e-05+2.57245038e-17j,  9.93981903e-01-5.70512798e-18j,\n",
      "       -1.09544394e-01+1.27862942e-17j, -4.60683152e-06-2.83571824e-18j]),\n",
      "    'eigenvalue': (-1.867120975956159+0j),\n",
      "    'optimal_circuit': None,\n",
      "    'optimal_parameters': {   Parameter(ry_theta4): 0.4368415392393307,\n",
      "                              Parameter(ry_theta2): 0.4857237209833987,\n",
      "                              Parameter(ry_theta1): 0.48529449177375367,\n",
      "                              Parameter(ry_theta3): -0.43649110091540416},\n",
      "    'optimal_point': array([ 0.48529449,  0.48572372, -0.4364911 ,  0.43684154]),\n",
      "    'optimal_value': -1.867120975956159,\n",
      "    'optimizer_evals': None,\n",
      "    'optimizer_result': None,\n",
      "    'optimizer_time': 0.580376148223877}\n"
     ]
    }
   ],
   "source": [
    "from qiskit import Aer\n",
    "backend = Aer.get_backend('statevector_simulator')\n",
    "from qiskit.algorithms.optimizers import COBYLA, L_BFGS_B, SPSA, SLSQP\n",
    "optimizer = COBYLA(maxiter=15000)\n",
    "from qiskit.algorithms import VQE\n",
    "from IPython.display import display, clear_output\n",
    "def callback(eval_count, parameters, mean, std):  \n",
    "    display(\"Evaluation: {}, Energy: {}, Std: {}\".format(eval_count, mean, std))\n",
    "    clear_output(wait=True)\n",
    "    counts.append(eval_count)\n",
    "    values.append(mean)\n",
    "    params.append(parameters)\n",
    "    deviation.append(std)\n",
    "\n",
    "counts = []\n",
    "values = []\n",
    "params = []\n",
    "deviation = []\n",
    "try:\n",
    "    initial_point = [0.01] * len(ansatz.ordered_parameters)\n",
    "except:\n",
    "    initial_point = [0.01] * ansatz.num_parameters\n",
    "\n",
    "algorithm = VQE(ansatz,\n",
    "                optimizer=optimizer,\n",
    "                quantum_instance=backend,\n",
    "                callback=callback,\n",
    "                initial_point=initial_point)\n",
    "\n",
    "result = algorithm.compute_minimum_eigenvalue(qubit_op)\n",
    "\n",
    "print(result)"
   ]
  },
  {
   "cell_type": "code",
   "execution_count": 25,
   "id": "1a372adf",
   "metadata": {},
   "outputs": [
    {
     "data": {
      "text/html": [
       "<pre style=\"word-wrap: normal;white-space: pre;background: #fff0;line-height: 1.1;font-family: &quot;Courier New&quot;,Courier,monospace\">           ┌───┐      ┌───────────────┐   ┌───────────────┐                 »\n",
       "q_0: ──────┤ X ├──────┤ Ry(ry_theta1) ├─■─┤ Ry(ry_theta5) ├─────────────────»\n",
       "           ├───┤      ├───────────────┤ │ └───────────────┘┌───────────────┐»\n",
       "q_1: ──────┤ X ├──────┤ Ry(ry_theta2) ├─■─────────■────────┤ Ry(ry_theta6) ├»\n",
       "     ┌─────┴───┴─────┐└───────────────┘           │        └───────────────┘»\n",
       "q_2: ┤ Ry(ry_theta3) ├────────────────────────────■────────────────■────────»\n",
       "     ├───────────────┤                                             │        »\n",
       "q_3: ┤ Ry(ry_theta4) ├─────────────────────────────────────────────■────────»\n",
       "     └───────────────┘                                                      »\n",
       "«                      \n",
       "«q_0: ─────────────────\n",
       "«                      \n",
       "«q_1: ─────────────────\n",
       "«     ┌───────────────┐\n",
       "«q_2: ┤ Ry(ry_theta7) ├\n",
       "«     ├───────────────┤\n",
       "«q_3: ┤ Ry(ry_theta8) ├\n",
       "«     └───────────────┘</pre>"
      ],
      "text/plain": [
       "           ┌───┐      ┌───────────────┐   ┌───────────────┐                 »\n",
       "q_0: ──────┤ X ├──────┤ Ry(ry_theta1) ├─■─┤ Ry(ry_theta5) ├─────────────────»\n",
       "           ├───┤      ├───────────────┤ │ └───────────────┘┌───────────────┐»\n",
       "q_1: ──────┤ X ├──────┤ Ry(ry_theta2) ├─■─────────■────────┤ Ry(ry_theta6) ├»\n",
       "     ┌─────┴───┴─────┐└───────────────┘           │        └───────────────┘»\n",
       "q_2: ┤ Ry(ry_theta3) ├────────────────────────────■────────────────■────────»\n",
       "     ├───────────────┤                                             │        »\n",
       "q_3: ┤ Ry(ry_theta4) ├─────────────────────────────────────────────■────────»\n",
       "     └───────────────┘                                                      »\n",
       "«                      \n",
       "«q_0: ─────────────────\n",
       "«                      \n",
       "«q_1: ─────────────────\n",
       "«     ┌───────────────┐\n",
       "«q_2: ┤ Ry(ry_theta7) ├\n",
       "«     ├───────────────┤\n",
       "«q_3: ┤ Ry(ry_theta8) ├\n",
       "«     └───────────────┘"
      ]
     },
     "execution_count": 25,
     "metadata": {},
     "output_type": "execute_result"
    }
   ],
   "source": [
    "ansatz.draw()"
   ]
  },
  {
   "cell_type": "code",
   "execution_count": 26,
   "id": "69ae5603",
   "metadata": {},
   "outputs": [],
   "source": [
    "parameter = result.optimal_parameters"
   ]
  },
  {
   "cell_type": "code",
   "execution_count": 27,
   "id": "ce49c51b",
   "metadata": {},
   "outputs": [],
   "source": [
    "op_list = qubit_op.primitive.group_commuting()"
   ]
  },
  {
   "cell_type": "code",
   "execution_count": 28,
   "id": "84695e49",
   "metadata": {},
   "outputs": [],
   "source": [
    "def MeasureCircuit(Sum_Op):\n",
    "    # Determine how many commute groups are in the SummedOp\n",
    "    num_terms = len(Sum_Op)\n",
    "\n",
    "    # Find the Paulis with least number of I in it(shoud be 0).\n",
    "    # The problem is here. In this case, not not all the subgroups have a term with no I in it. So we have to loop over all\n",
    "    # of the terms to construct a Pauli string.\n",
    "    Pauli = ''\n",
    "\n",
    "    for i in range(Sum_Op.num_qubits):\n",
    "        intermed = []\n",
    "        for j in range(num_terms):\n",
    "            intermed.append(Sum_Op[j].to_label()[i])\n",
    "        print(intermed)\n",
    "        if 'X' in intermed:\n",
    "            Pauli += 'X'\n",
    "        elif 'Y' in intermed:\n",
    "            Pauli += 'Y'\n",
    "        else:\n",
    "            Pauli += 'Z'\n",
    "\n",
    "    if len(Pauli) != Sum_Op.num_qubits:\n",
    "        raise Exception('The length does not equal, traverse has problem.')\n",
    "\n",
    "    Pauli_string = Pauli[::-1]  # This has reversed the order.\n",
    "    # Now Pauli_string is the target that we should use to construct the measurement circuit.\n",
    "\n",
    "    qc = QuantumCircuit(Sum_Op.num_qubits, Sum_Op.num_qubits)\n",
    "    qc.barrier()\n",
    "    print(Pauli_string)\n",
    "\n",
    "    for i in range(Sum_Op.num_qubits):\n",
    "        if Pauli_string[i] == 'X':\n",
    "            qc.u(np.pi / 2, 0, np.pi, i)\n",
    "        if Pauli_string[i] == 'Y':\n",
    "            qc.u(np.pi / 2, 0, np.pi / 2, i)\n",
    "        else:\n",
    "            None\n",
    "\n",
    "    qc.measure(range(Sum_Op.num_qubits), range(Sum_Op.num_qubits));\n",
    "\n",
    "    return qc\n"
   ]
  },
  {
   "cell_type": "code",
   "execution_count": 29,
   "id": "fb1b36ed",
   "metadata": {},
   "outputs": [],
   "source": [
    "LiH_list = []\n",
    "for commute_set in op_list:\n",
    "    temp_list = []\n",
    "    for i in range(0, len(commute_set.paulis)):\n",
    "        temp_list.append((commute_set.paulis[i].to_label(),commute_set.coeffs[i]))\n",
    "    LiH_list.append(temp_list)"
   ]
  },
  {
   "cell_type": "code",
   "execution_count": 30,
   "id": "cb8fc90c",
   "metadata": {},
   "outputs": [
    {
     "data": {
      "text/plain": [
       "[[('ZXZX', (-0.003139482375506528+0j)),\n",
       "  ('IXZX', (-0.003139482375506528+0j)),\n",
       "  ('ZXIX', (0.003139482375506528+0j)),\n",
       "  ('IXIX', (0.003139482375506528+0j)),\n",
       "  ('ZIZX', (-0.010681856282947617+0j)),\n",
       "  ('ZIIX', (0.010681856282947617+0j)),\n",
       "  ('ZXZI', (-0.010681856282947617+0j)),\n",
       "  ('IXZI', (-0.010681856282947617+0j)),\n",
       "  ('ZIZI', (-0.11384335176464518+0j)),\n",
       "  ('IIZX', (-0.002941141087330846+0j)),\n",
       "  ('IIIX', (0.002941141087330846+0j)),\n",
       "  ('ZXII', (0.0029411410873308465+0j)),\n",
       "  ('IXII', (0.0029411410873308465+0j)),\n",
       "  ('ZIII', (-0.365258690216037+0j)),\n",
       "  ('IIZI', (0.3652586902160371+0j)),\n",
       "  ('IIII', (-0.20316606150559116+0j))],\n",
       " [('XXZX', (0.008499158469817442+0j)),\n",
       "  ('YYZX', (-0.008499158469817442+0j)),\n",
       "  ('XXIX', (-0.008499158469817442+0j)),\n",
       "  ('YYIX', (0.008499158469817442+0j)),\n",
       "  ('ZZZX', (0.001697464962393525+0j)),\n",
       "  ('ZZIX', (-0.001697464962393525+0j)),\n",
       "  ('XXZI', (0.034389748140473936+0j)),\n",
       "  ('YYZI', (-0.034389748140473936+0j)),\n",
       "  ('ZZZI', (-0.06044012857315994+0j)),\n",
       "  ('XXII', (-0.0007427996394848554+0j)),\n",
       "  ('YYII', (0.0007427996394848554+0j)),\n",
       "  ('ZZII', (-0.21188984297008906+0j))],\n",
       " [('XZZX', (0.0022216108081533244+0j)),\n",
       "  ('XIZX', (-0.0022216108081533244+0j)),\n",
       "  ('XZIX', (-0.0022216108081533244+0j)),\n",
       "  ('XIIX', (0.0022216108081533244+0j)),\n",
       "  ('IZZX', (0.011925529284501862+0j)),\n",
       "  ('IZIX', (-0.011925529284501862+0j)),\n",
       "  ('XZZI', (0.010952773573807448+0j)),\n",
       "  ('XIZI', (-0.010952773573807448+0j)),\n",
       "  ('IZZI', (0.11395251883046531+0j)),\n",
       "  ('XZII', (-0.019389408583696786+0j)),\n",
       "  ('XIII', (0.019389408583696786+0j)),\n",
       "  ('IZII', (0.09275994933497447+0j))],\n",
       " [('ZXXX', (-0.008499158469817442+0j)),\n",
       "  ('IXXX', (-0.008499158469817442+0j)),\n",
       "  ('ZXYY', (0.008499158469817442+0j)),\n",
       "  ('IXYY', (0.008499158469817442+0j)),\n",
       "  ('ZIXX', (-0.034389748140473936+0j)),\n",
       "  ('ZIYY', (0.034389748140473936+0j)),\n",
       "  ('ZXZZ', (-0.001697464962393525+0j)),\n",
       "  ('IXZZ', (-0.001697464962393525+0j)),\n",
       "  ('ZIZZ', (0.06044012857315994+0j)),\n",
       "  ('IIXX', (-0.0007427996394848381+0j)),\n",
       "  ('IIYY', (0.0007427996394848381+0j)),\n",
       "  ('IIZZ', (-0.21188984297008906+0j))],\n",
       " [('XXXX', (0.030846096963269072+0j)),\n",
       "  ('YYXX', (-0.030846096963269072+0j)),\n",
       "  ('XXYY', (-0.030846096963269072+0j)),\n",
       "  ('YYYY', (0.030846096963269072+0j)),\n",
       "  ('ZZXX', (0.0027372506123262983+0j)),\n",
       "  ('ZZYY', (-0.0027372506123262983+0j)),\n",
       "  ('XXZZ', (0.0027372506123262983+0j)),\n",
       "  ('YYZZ', (-0.0027372506123262983+0j)),\n",
       "  ('ZZZZ', (0.08460131391823839+0j))],\n",
       " [('XZXX', (0.007859003265904368+0j)),\n",
       "  ('XIXX', (-0.007859003265904368+0j)),\n",
       "  ('XZYY', (-0.007859003265904368+0j)),\n",
       "  ('XIYY', (0.007859003265904368+0j)),\n",
       "  ('IZXX', (0.03239529731985693+0j)),\n",
       "  ('IZYY', (-0.03239529731985693+0j)),\n",
       "  ('XZZZ', (0.009002501243838555+0j)),\n",
       "  ('XIZZ', (-0.009002501243838555+0j)),\n",
       "  ('IZZZ', (-0.05628878167217714+0j))],\n",
       " [('ZXXZ', (0.0022216108081533244+0j)),\n",
       "  ('IXXZ', (0.0022216108081533244+0j)),\n",
       "  ('ZXXI', (0.0022216108081533244+0j)),\n",
       "  ('IXXI', (0.0022216108081533244+0j)),\n",
       "  ('ZIXZ', (0.010952773573807448+0j)),\n",
       "  ('ZIXI', (0.010952773573807448+0j)),\n",
       "  ('ZXIZ', (0.011925529284501862+0j)),\n",
       "  ('IXIZ', (0.011925529284501862+0j)),\n",
       "  ('ZIIZ', (0.11395251883046531+0j)),\n",
       "  ('IIXZ', (0.01938940858369678+0j)),\n",
       "  ('IIXI', (0.01938940858369678+0j)),\n",
       "  ('IIIZ', (-0.09275994933497451+0j))],\n",
       " [('XXXZ', (-0.007859003265904368+0j)),\n",
       "  ('YYXZ', (0.007859003265904368+0j)),\n",
       "  ('XXXI', (-0.007859003265904368+0j)),\n",
       "  ('YYXI', (0.007859003265904368+0j)),\n",
       "  ('ZZXZ', (-0.009002501243838555+0j)),\n",
       "  ('ZZXI', (-0.009002501243838555+0j)),\n",
       "  ('XXIZ', (-0.03239529731985693+0j)),\n",
       "  ('YYIZ', (0.03239529731985693+0j)),\n",
       "  ('ZZIZ', (0.05628878167217714+0j))],\n",
       " [('XZXZ', (-0.006587584190061259+0j)),\n",
       "  ('XIXZ', (0.006587584190061259+0j)),\n",
       "  ('XZXI', (-0.006587584190061259+0j)),\n",
       "  ('XIXI', (0.006587584190061259+0j)),\n",
       "  ('IZXZ', (-0.012779333033025236+0j)),\n",
       "  ('IZXI', (-0.012779333033025236+0j)),\n",
       "  ('XZIZ', (-0.012779333033025236+0j)),\n",
       "  ('XIIZ', (0.012779333033025236+0j)),\n",
       "  ('IZIZ', (-0.12274244052544168+0j))]]"
      ]
     },
     "execution_count": 30,
     "metadata": {},
     "output_type": "execute_result"
    }
   ],
   "source": [
    "LiH_list"
   ]
  },
  {
   "cell_type": "code",
   "execution_count": 31,
   "id": "93ab48fd",
   "metadata": {},
   "outputs": [
    {
     "data": {
      "text/plain": [
       "PauliList(['XZXZ', 'XIXZ', 'XZXI', 'XIXI', 'IZXZ', 'IZXI', 'XZIZ',\n",
       "           'XIIZ', 'IZIZ'])"
      ]
     },
     "execution_count": 31,
     "metadata": {},
     "output_type": "execute_result"
    }
   ],
   "source": [
    "op_list[-1].paulis"
   ]
  },
  {
   "cell_type": "code",
   "execution_count": 32,
   "id": "c9439845",
   "metadata": {},
   "outputs": [
    {
     "data": {
      "text/plain": [
       "array([-0.00658758+0.j,  0.00658758+0.j, -0.00658758+0.j,  0.00658758+0.j,\n",
       "       -0.01277933+0.j, -0.01277933+0.j, -0.01277933+0.j,  0.01277933+0.j,\n",
       "       -0.12274244+0.j])"
      ]
     },
     "execution_count": 32,
     "metadata": {},
     "output_type": "execute_result"
    }
   ],
   "source": [
    "op_list[-1].coeffs"
   ]
  },
  {
   "cell_type": "markdown",
   "id": "401ae819",
   "metadata": {},
   "source": [
    "based on the paulis we can generate measurment circuit to change the basis"
   ]
  },
  {
   "cell_type": "code",
   "execution_count": 33,
   "id": "13cc8c75",
   "metadata": {},
   "outputs": [
    {
     "name": "stdout",
     "output_type": "stream",
     "text": [
      "['X', 'X', 'X', 'X', 'I', 'I', 'X', 'X', 'I']\n",
      "['Z', 'I', 'Z', 'I', 'Z', 'Z', 'Z', 'I', 'Z']\n",
      "['X', 'X', 'X', 'X', 'X', 'X', 'I', 'I', 'I']\n",
      "['Z', 'Z', 'I', 'I', 'Z', 'I', 'Z', 'Z', 'Z']\n"
     ]
    }
   ],
   "source": [
    "# This is a script I wrote to better manipulate the measurement process\n",
    "from Measure import MeasureCircuit\n",
    "meas_qc = MeasureCircuit(op_list[-1].paulis)"
   ]
  },
  {
   "cell_type": "code",
   "execution_count": 34,
   "id": "ec6445c9",
   "metadata": {},
   "outputs": [
    {
     "data": {
      "text/html": [
       "<pre style=\"word-wrap: normal;white-space: pre;background: #fff0;line-height: 1.1;font-family: &quot;Courier New&quot;,Courier,monospace\">      ░               ┌─┐         \n",
       "q_0: ─░───────────────┤M├─────────\n",
       "      ░ ┌────────────┐└╥┘   ┌─┐   \n",
       "q_1: ─░─┤ U(π/2,0,π) ├─╫────┤M├───\n",
       "      ░ └────────────┘ ║ ┌─┐└╥┘   \n",
       "q_2: ─░────────────────╫─┤M├─╫────\n",
       "      ░ ┌────────────┐ ║ └╥┘ ║ ┌─┐\n",
       "q_3: ─░─┤ U(π/2,0,π) ├─╫──╫──╫─┤M├\n",
       "      ░ └────────────┘ ║  ║  ║ └╥┘\n",
       "c_0: ══════════════════╩══╬══╬══╬═\n",
       "                          ║  ║  ║ \n",
       "c_1: ═════════════════════╬══╩══╬═\n",
       "                          ║     ║ \n",
       "c_2: ═════════════════════╩═════╬═\n",
       "                                ║ \n",
       "c_3: ═══════════════════════════╩═\n",
       "                                  </pre>"
      ],
      "text/plain": [
       "      ░               ┌─┐         \n",
       "q_0: ─░───────────────┤M├─────────\n",
       "      ░ ┌────────────┐└╥┘   ┌─┐   \n",
       "q_1: ─░─┤ U(π/2,0,π) ├─╫────┤M├───\n",
       "      ░ └────────────┘ ║ ┌─┐└╥┘   \n",
       "q_2: ─░────────────────╫─┤M├─╫────\n",
       "      ░ ┌────────────┐ ║ └╥┘ ║ ┌─┐\n",
       "q_3: ─░─┤ U(π/2,0,π) ├─╫──╫──╫─┤M├\n",
       "      ░ └────────────┘ ║  ║  ║ └╥┘\n",
       "c_0: ══════════════════╩══╬══╬══╬═\n",
       "                          ║  ║  ║ \n",
       "c_1: ═════════════════════╬══╩══╬═\n",
       "                          ║     ║ \n",
       "c_2: ═════════════════════╩═════╬═\n",
       "                                ║ \n",
       "c_3: ═══════════════════════════╩═\n",
       "                                  "
      ]
     },
     "execution_count": 34,
     "metadata": {},
     "output_type": "execute_result"
    }
   ],
   "source": [
    "meas_qc.draw()"
   ]
  },
  {
   "cell_type": "code",
   "execution_count": 35,
   "id": "72e9c092",
   "metadata": {},
   "outputs": [
    {
     "data": {
      "text/plain": [
       "'ZXZX'"
      ]
     },
     "execution_count": 35,
     "metadata": {},
     "output_type": "execute_result"
    }
   ],
   "source": [
    "op_list[0].paulis[0].to_label()"
   ]
  },
  {
   "cell_type": "code",
   "execution_count": null,
   "id": "2305bcf4",
   "metadata": {},
   "outputs": [],
   "source": []
  },
  {
   "cell_type": "code",
   "execution_count": null,
   "id": "6714a4ee",
   "metadata": {},
   "outputs": [],
   "source": []
  },
  {
   "cell_type": "code",
   "execution_count": null,
   "id": "bb11fab1",
   "metadata": {},
   "outputs": [],
   "source": []
  }
 ],
 "metadata": {
  "kernelspec": {
   "display_name": "Python 3 (ipykernel)",
   "language": "python",
   "name": "python3"
  },
  "language_info": {
   "codemirror_mode": {
    "name": "ipython",
    "version": 3
   },
   "file_extension": ".py",
   "mimetype": "text/x-python",
   "name": "python",
   "nbconvert_exporter": "python",
   "pygments_lexer": "ipython3",
   "version": "3.8.13"
  }
 },
 "nbformat": 4,
 "nbformat_minor": 5
}
