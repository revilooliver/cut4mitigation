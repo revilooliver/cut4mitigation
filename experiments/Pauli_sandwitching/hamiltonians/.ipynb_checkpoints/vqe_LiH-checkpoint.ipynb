{
 "cells": [
  {
   "cell_type": "code",
   "execution_count": 13,
   "id": "d4a0d7a5",
   "metadata": {},
   "outputs": [],
   "source": [
    "from qiskit_nature.units import DistanceUnit\n",
    "from qiskit_nature.second_q.drivers import PySCFDriver\n",
    "\n",
    "driver = PySCFDriver(atom='Li .0 .0 .0; H .0 .0 1.6', unit=DistanceUnit.ANGSTROM, charge=0, spin=0, basis='sto3g')\n",
    "\n",
    "es_problem = driver.run()"
   ]
  },
  {
   "cell_type": "code",
   "execution_count": 14,
   "id": "4e34d42e",
   "metadata": {},
   "outputs": [],
   "source": [
    "from qiskit_nature.second_q.mappers import JordanWignerMapper, QubitConverter\n",
    "\n",
    "converter = QubitConverter(JordanWignerMapper())"
   ]
  },
  {
   "cell_type": "code",
   "execution_count": 15,
   "id": "d27e4384",
   "metadata": {},
   "outputs": [],
   "source": [
    "from qiskit.algorithms.minimum_eigensolvers import NumPyMinimumEigensolver\n",
    "\n",
    "numpy_solver = NumPyMinimumEigensolver()"
   ]
  },
  {
   "cell_type": "code",
   "execution_count": 16,
   "id": "11a437ad",
   "metadata": {},
   "outputs": [],
   "source": [
    "from qiskit.algorithms.optimizers import SLSQP\n",
    "from qiskit.primitives import Estimator\n",
    "from qiskit_nature.second_q.algorithms import VQEUCCFactory\n",
    "from qiskit_nature.second_q.circuit.library import UCCSD\n",
    "\n",
    "vqe_solver = VQEUCCFactory(Estimator(), UCCSD(), SLSQP())"
   ]
  },
  {
   "cell_type": "code",
   "execution_count": 17,
   "id": "4c35fff4",
   "metadata": {},
   "outputs": [],
   "source": [
    "from qiskit.algorithms.minimum_eigensolvers import VQE\n",
    "from qiskit.circuit.library import TwoLocal\n",
    "\n",
    "tl_circuit = TwoLocal(\n",
    "    rotation_blocks=[\"rx\"],\n",
    "    entanglement_blocks=\"cz\",\n",
    "    entanglement=\"full\",\n",
    "    reps=2,\n",
    "    parameter_prefix=\"y\",\n",
    ")\n",
    "\n",
    "he_solver = VQE(Estimator(), tl_circuit, SLSQP())"
   ]
  },
  {
   "cell_type": "code",
   "execution_count": null,
   "id": "64c88feb",
   "metadata": {},
   "outputs": [],
   "source": [
    "help(tl_circuit)"
   ]
  },
  {
   "cell_type": "code",
   "execution_count": 18,
   "id": "e908cbdd",
   "metadata": {},
   "outputs": [],
   "source": [
    "from qiskit_nature.second_q.algorithms import GroundStateEigensolver\n",
    "\n",
    "calc = GroundStateEigensolver(converter, vqe_solver)"
   ]
  },
  {
   "cell_type": "code",
   "execution_count": null,
   "id": "c0c6c760",
   "metadata": {},
   "outputs": [],
   "source": [
    "res = calc.solve(es_problem)\n",
    "print(res)"
   ]
  },
  {
   "cell_type": "code",
   "execution_count": null,
   "id": "dc460b0e",
   "metadata": {},
   "outputs": [],
   "source": [
    "calc = GroundStateEigensolver(converter, numpy_solver)\n",
    "res = calc.solve(es_problem)\n",
    "print(res)"
   ]
  },
  {
   "cell_type": "code",
   "execution_count": null,
   "id": "5228451b",
   "metadata": {},
   "outputs": [],
   "source": [
    "he_calc = GroundStateEigensolver(converter, he_solver)"
   ]
  },
  {
   "cell_type": "code",
   "execution_count": null,
   "id": "d1637cce",
   "metadata": {},
   "outputs": [],
   "source": [
    "he_res = he_calc.solve(es_problem)\n",
    "print(he_res)"
   ]
  },
  {
   "cell_type": "code",
   "execution_count": null,
   "id": "443e9f5d",
   "metadata": {},
   "outputs": [],
   "source": []
  }
 ],
 "metadata": {
  "kernelspec": {
   "display_name": "Python 3 (ipykernel)",
   "language": "python",
   "name": "python3"
  },
  "language_info": {
   "codemirror_mode": {
    "name": "ipython",
    "version": 3
   },
   "file_extension": ".py",
   "mimetype": "text/x-python",
   "name": "python",
   "nbconvert_exporter": "python",
   "pygments_lexer": "ipython3",
   "version": "3.8.13"
  }
 },
 "nbformat": 4,
 "nbformat_minor": 5
}
