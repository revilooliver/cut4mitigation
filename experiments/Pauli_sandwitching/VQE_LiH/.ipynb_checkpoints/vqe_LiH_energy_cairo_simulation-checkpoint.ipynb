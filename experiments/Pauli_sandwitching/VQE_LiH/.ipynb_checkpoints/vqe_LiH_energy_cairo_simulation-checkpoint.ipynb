{
 "cells": [
  {
   "cell_type": "code",
   "execution_count": 3,
   "id": "8b1d4699",
   "metadata": {},
   "outputs": [],
   "source": [
    "import os\n",
    "import sys\n",
    "module_path = os.path.abspath(os.path.join('../../../..'))\n",
    "if module_path not in sys.path:\n",
    "    sys.path.append(module_path)"
   ]
  },
  {
   "cell_type": "code",
   "execution_count": 5,
   "id": "8199f434",
   "metadata": {},
   "outputs": [
    {
     "ename": "ModuleNotFoundError",
     "evalue": "No module named 'meas_circuit'",
     "output_type": "error",
     "traceback": [
      "\u001b[0;31m---------------------------------------------------------------------------\u001b[0m",
      "\u001b[0;31mModuleNotFoundError\u001b[0m                       Traceback (most recent call last)",
      "Cell \u001b[0;32mIn [5], line 24\u001b[0m\n\u001b[1;32m     21\u001b[0m \u001b[38;5;28;01mfrom\u001b[39;00m \u001b[38;5;21;01mqiskit\u001b[39;00m\u001b[38;5;21;01m.\u001b[39;00m\u001b[38;5;21;01mproviders\u001b[39;00m\u001b[38;5;21;01m.\u001b[39;00m\u001b[38;5;21;01maer\u001b[39;00m\u001b[38;5;21;01m.\u001b[39;00m\u001b[38;5;21;01mnoise\u001b[39;00m \u001b[38;5;28;01mimport\u001b[39;00m NoiseModel\n\u001b[1;32m     23\u001b[0m \u001b[38;5;28;01mfrom\u001b[39;00m \u001b[38;5;21;01mutils\u001b[39;00m\u001b[38;5;21;01m.\u001b[39;00m\u001b[38;5;21;01mutils\u001b[39;00m \u001b[38;5;28;01mimport\u001b[39;00m filter_results, dict_to_list, H_distance, total_counts\n\u001b[0;32m---> 24\u001b[0m \u001b[38;5;28;01mfrom\u001b[39;00m \u001b[38;5;21;01mmeas_circuit\u001b[39;00m \u001b[38;5;28;01mimport\u001b[39;00m MeasureCircuit\n",
      "\u001b[0;31mModuleNotFoundError\u001b[0m: No module named 'meas_circuit'"
     ]
    }
   ],
   "source": [
    "# author: Ji Liu email: ji.liu@anl.gov\n",
    "\n",
    "import itertools, numpy\n",
    "# import circuit_cutter\n",
    "# import mlrecon_methods as ml\n",
    "import numpy as np\n",
    "\n",
    "import qiskit\n",
    "from qiskit import *\n",
    "from qiskit import QuantumCircuit, QuantumRegister, ClassicalRegister, Aer, execute, transpile\n",
    "\n",
    "from qiskit.transpiler import PassManager\n",
    "\n",
    "from qiskit.converters import circuit_to_dag\n",
    "from qiskit.visualization import dag_drawer, plot_histogram\n",
    "from qiskit.compiler import assemble\n",
    "\n",
    "from qiskit.tools.monitor import job_monitor, backend_monitor, backend_overview\n",
    "\n",
    "import qiskit.providers.aer.noise as noise\n",
    "from qiskit.providers.aer.noise import NoiseModel\n",
    "\n",
    "from utils.utils import filter_results, dict_to_list, H_distance, total_counts\n",
    "from meas_circuit import MeasureCircuit"
   ]
  },
  {
   "cell_type": "code",
   "execution_count": 10,
   "id": "72fed853",
   "metadata": {},
   "outputs": [
    {
     "name": "stderr",
     "output_type": "stream",
     "text": [
      "ibmqfactory.load_account:WARNING:2022-11-11 14:43:11,110: Credentials are already in use. The existing account in the session will be replaced.\n"
     ]
    },
    {
     "data": {
      "text/plain": [
       "[<IBMQSimulator('ibmq_qasm_simulator') from IBMQ(hub='ibm-q-ornl', group='ornl', project='chm185')>,\n",
       " <IBMQBackend('ibmq_montreal') from IBMQ(hub='ibm-q-ornl', group='ornl', project='chm185')>,\n",
       " <IBMQBackend('ibmq_toronto') from IBMQ(hub='ibm-q-ornl', group='ornl', project='chm185')>,\n",
       " <IBMQBackend('ibmq_kolkata') from IBMQ(hub='ibm-q-ornl', group='ornl', project='chm185')>,\n",
       " <IBMQBackend('ibmq_mumbai') from IBMQ(hub='ibm-q-ornl', group='ornl', project='chm185')>,\n",
       " <IBMQBackend('ibmq_lima') from IBMQ(hub='ibm-q-ornl', group='ornl', project='chm185')>,\n",
       " <IBMQBackend('ibmq_belem') from IBMQ(hub='ibm-q-ornl', group='ornl', project='chm185')>,\n",
       " <IBMQBackend('ibmq_quito') from IBMQ(hub='ibm-q-ornl', group='ornl', project='chm185')>,\n",
       " <IBMQBackend('ibmq_guadalupe') from IBMQ(hub='ibm-q-ornl', group='ornl', project='chm185')>,\n",
       " <IBMQSimulator('simulator_statevector') from IBMQ(hub='ibm-q-ornl', group='ornl', project='chm185')>,\n",
       " <IBMQSimulator('simulator_mps') from IBMQ(hub='ibm-q-ornl', group='ornl', project='chm185')>,\n",
       " <IBMQSimulator('simulator_extended_stabilizer') from IBMQ(hub='ibm-q-ornl', group='ornl', project='chm185')>,\n",
       " <IBMQSimulator('simulator_stabilizer') from IBMQ(hub='ibm-q-ornl', group='ornl', project='chm185')>,\n",
       " <IBMQBackend('ibmq_jakarta') from IBMQ(hub='ibm-q-ornl', group='ornl', project='chm185')>,\n",
       " <IBMQBackend('ibmq_manila') from IBMQ(hub='ibm-q-ornl', group='ornl', project='chm185')>,\n",
       " <IBMQBackend('ibm_hanoi') from IBMQ(hub='ibm-q-ornl', group='ornl', project='chm185')>,\n",
       " <IBMQBackend('ibm_cairo') from IBMQ(hub='ibm-q-ornl', group='ornl', project='chm185')>,\n",
       " <IBMQBackend('ibm_auckland') from IBMQ(hub='ibm-q-ornl', group='ornl', project='chm185')>,\n",
       " <IBMQBackend('ibm_washington') from IBMQ(hub='ibm-q-ornl', group='ornl', project='chm185')>,\n",
       " <IBMQBackend('ibm_geneva') from IBMQ(hub='ibm-q-ornl', group='ornl', project='chm185')>]"
      ]
     },
     "execution_count": 10,
     "metadata": {},
     "output_type": "execute_result"
    }
   ],
   "source": [
    "IBMQ.load_account()\n",
    "provider = IBMQ.get_provider(hub='ibm-q-ornl', group='ornl', project='chm185')\n",
    "provider.backends()"
   ]
  },
  {
   "cell_type": "code",
   "execution_count": 11,
   "id": "3b63a781",
   "metadata": {},
   "outputs": [
    {
     "data": {
      "text/plain": [
       "<IBMQBackend('ibm_cairo') from IBMQ(hub='ibm-q-ornl', group='ornl', project='chm185')>"
      ]
     },
     "execution_count": 11,
     "metadata": {},
     "output_type": "execute_result"
    }
   ],
   "source": [
    "device = provider.get_backend('ibm_cairo')\n",
    "device"
   ]
  },
  {
   "cell_type": "code",
   "execution_count": 12,
   "id": "b458ac33",
   "metadata": {},
   "outputs": [],
   "source": [
    "orign_qc = QuantumCircuit.from_qasm_file(\"qasm/vqe_LiH.qasm\")"
   ]
  },
  {
   "cell_type": "code",
   "execution_count": 13,
   "id": "58e19e4d",
   "metadata": {},
   "outputs": [
    {
     "data": {
      "text/html": [
       "<pre style=\"word-wrap: normal;white-space: pre;background: #fff0;line-height: 1.1;font-family: &quot;Courier New&quot;,Courier,monospace\">           ┌───┐      ┌───────────────┐   ┌────────────────┐                 »\n",
       "q_0: ──────┤ X ├──────┤ Ry(-0.003534) ├─■─┤ Ry(-0.0036834) ├─────────────────»\n",
       "           ├───┤      ├───────────────┤ │ └────────────────┘┌───────────────┐»\n",
       "q_1: ──────┤ X ├──────┤ Ry(-0.015869) ├─■─────────■─────────┤ Ry(-0.015751) ├»\n",
       "     ┌─────┴───┴─────┐└───────────────┘           │         └───────────────┘»\n",
       "q_2: ┤ Ry(0.0038243) ├────────────────────────────■─────────────────■────────»\n",
       "     ├───────────────┤                                              │        »\n",
       "q_3: ┤ Ry(-0.019851) ├──────────────────────────────────────────────■────────»\n",
       "     └───────────────┘                                                       »\n",
       "«                      \n",
       "«q_0: ─────────────────\n",
       "«                      \n",
       "«q_1: ─────────────────\n",
       "«     ┌───────────────┐\n",
       "«q_2: ┤ Ry(0.0036205) ├\n",
       "«     └┬──────────────┤\n",
       "«q_3: ─┤ Ry(0.019873) ├\n",
       "«      └──────────────┘</pre>"
      ],
      "text/plain": [
       "           ┌───┐      ┌───────────────┐   ┌────────────────┐                 »\n",
       "q_0: ──────┤ X ├──────┤ Ry(-0.003534) ├─■─┤ Ry(-0.0036834) ├─────────────────»\n",
       "           ├───┤      ├───────────────┤ │ └────────────────┘┌───────────────┐»\n",
       "q_1: ──────┤ X ├──────┤ Ry(-0.015869) ├─■─────────■─────────┤ Ry(-0.015751) ├»\n",
       "     ┌─────┴───┴─────┐└───────────────┘           │         └───────────────┘»\n",
       "q_2: ┤ Ry(0.0038243) ├────────────────────────────■─────────────────■────────»\n",
       "     ├───────────────┤                                              │        »\n",
       "q_3: ┤ Ry(-0.019851) ├──────────────────────────────────────────────■────────»\n",
       "     └───────────────┘                                                       »\n",
       "«                      \n",
       "«q_0: ─────────────────\n",
       "«                      \n",
       "«q_1: ─────────────────\n",
       "«     ┌───────────────┐\n",
       "«q_2: ┤ Ry(0.0036205) ├\n",
       "«     └┬──────────────┤\n",
       "«q_3: ─┤ Ry(0.019873) ├\n",
       "«      └──────────────┘"
      ]
     },
     "execution_count": 13,
     "metadata": {},
     "output_type": "execute_result"
    }
   ],
   "source": [
    "orign_qc.draw()"
   ]
  },
  {
   "cell_type": "code",
   "execution_count": 14,
   "id": "44c3b2a5",
   "metadata": {},
   "outputs": [
    {
     "name": "stdout",
     "output_type": "stream",
     "text": [
      "XZXZ\n",
      "XZXX\n",
      "XZZX\n",
      "XXXZ\n",
      "XXXX\n",
      "XXZX\n",
      "ZXXZ\n",
      "ZXXX\n",
      "ZXZX\n"
     ]
    }
   ],
   "source": [
    "meas_qcs = []\n",
    "for i in range(0, len(LiH_list)):\n",
    "    temp_qc = MeasureCircuit(LiH_list[i], 4)\n",
    "    meas_qcs.append(temp_qc)"
   ]
  },
  {
   "cell_type": "code",
   "execution_count": 15,
   "id": "d93e09f6",
   "metadata": {},
   "outputs": [
    {
     "data": {
      "text/html": [
       "<pre style=\"word-wrap: normal;white-space: pre;background: #fff0;line-height: 1.1;font-family: &quot;Courier New&quot;,Courier,monospace\">     ┌────────────┐\n",
       "q_0: ┤ U(π/2,0,π) ├\n",
       "     └────────────┘\n",
       "q_1: ──────────────\n",
       "     ┌────────────┐\n",
       "q_2: ┤ U(π/2,0,π) ├\n",
       "     └────────────┘\n",
       "q_3: ──────────────\n",
       "                   </pre>"
      ],
      "text/plain": [
       "     ┌────────────┐\n",
       "q_0: ┤ U(π/2,0,π) ├\n",
       "     └────────────┘\n",
       "q_1: ──────────────\n",
       "     ┌────────────┐\n",
       "q_2: ┤ U(π/2,0,π) ├\n",
       "     └────────────┘\n",
       "q_3: ──────────────\n",
       "                   "
      ]
     },
     "execution_count": 15,
     "metadata": {},
     "output_type": "execute_result"
    }
   ],
   "source": [
    "meas_qcs[0].draw()"
   ]
  },
  {
   "cell_type": "code",
   "execution_count": 16,
   "id": "8af02098",
   "metadata": {},
   "outputs": [
    {
     "name": "stderr",
     "output_type": "stream",
     "text": [
      "/var/folders/s4/3cvgkkn17hg628pzrzzjnhww0000gn/T/ipykernel_29992/856425490.py:3: DeprecationWarning: The QuantumCircuit.__add__() method is being deprecated.Use the compose() method which is more flexible w.r.t circuit register compatibility.\n",
      "  temp_qc = orign_qc + qc\n"
     ]
    }
   ],
   "source": [
    "qc_list = []\n",
    "for qc in meas_qcs:\n",
    "    temp_qc = orign_qc + qc\n",
    "    temp_qc.measure_all()\n",
    "    qc_list.append(temp_qc)"
   ]
  },
  {
   "cell_type": "code",
   "execution_count": 17,
   "id": "afd19728",
   "metadata": {},
   "outputs": [
    {
     "data": {
      "text/html": [
       "<pre style=\"word-wrap: normal;white-space: pre;background: #fff0;line-height: 1.1;font-family: &quot;Courier New&quot;,Courier,monospace\">              ┌───┐      ┌───────────────┐   ┌────────────────┐»\n",
       "   q_0: ──────┤ X ├──────┤ Ry(-0.003534) ├─■─┤ Ry(-0.0036834) ├»\n",
       "              ├───┤      ├───────────────┤ │ └────────────────┘»\n",
       "   q_1: ──────┤ X ├──────┤ Ry(-0.015869) ├─■─────────■─────────»\n",
       "        ┌─────┴───┴─────┐└───────────────┘           │         »\n",
       "   q_2: ┤ Ry(0.0038243) ├────────────────────────────■─────────»\n",
       "        ├───────────────┤                                      »\n",
       "   q_3: ┤ Ry(-0.019851) ├──────────────────────────────────────»\n",
       "        └───────────────┘                                      »\n",
       "meas_0: ═══════════════════════════════════════════════════════»\n",
       "                                                               »\n",
       "meas_1: ═══════════════════════════════════════════════════════»\n",
       "                                                               »\n",
       "meas_2: ═══════════════════════════════════════════════════════»\n",
       "                                                               »\n",
       "meas_3: ═══════════════════════════════════════════════════════»\n",
       "                                                               »\n",
       "«          ┌────────────┐                                 ░ ┌─┐         \n",
       "«   q_0: ──┤ U(π/2,0,π) ├─────────────────────────────────░─┤M├─────────\n",
       "«        ┌─┴────────────┴┐                                ░ └╥┘┌─┐      \n",
       "«   q_1: ┤ Ry(-0.015751) ├────────────────────────────────░──╫─┤M├──────\n",
       "«        └───────────────┘┌───────────────┐┌────────────┐ ░  ║ └╥┘┌─┐   \n",
       "«   q_2: ────────■────────┤ Ry(0.0036205) ├┤ U(π/2,0,π) ├─░──╫──╫─┤M├───\n",
       "«                │        └┬──────────────┤└────────────┘ ░  ║  ║ └╥┘┌─┐\n",
       "«   q_3: ────────■─────────┤ Ry(0.019873) ├───────────────░──╫──╫──╫─┤M├\n",
       "«                          └──────────────┘               ░  ║  ║  ║ └╥┘\n",
       "«meas_0: ════════════════════════════════════════════════════╩══╬══╬══╬═\n",
       "«                                                               ║  ║  ║ \n",
       "«meas_1: ═══════════════════════════════════════════════════════╩══╬══╬═\n",
       "«                                                                  ║  ║ \n",
       "«meas_2: ══════════════════════════════════════════════════════════╩══╬═\n",
       "«                                                                     ║ \n",
       "«meas_3: ═════════════════════════════════════════════════════════════╩═\n",
       "«                                                                       </pre>"
      ],
      "text/plain": [
       "              ┌───┐      ┌───────────────┐   ┌────────────────┐»\n",
       "   q_0: ──────┤ X ├──────┤ Ry(-0.003534) ├─■─┤ Ry(-0.0036834) ├»\n",
       "              ├───┤      ├───────────────┤ │ └────────────────┘»\n",
       "   q_1: ──────┤ X ├──────┤ Ry(-0.015869) ├─■─────────■─────────»\n",
       "        ┌─────┴───┴─────┐└───────────────┘           │         »\n",
       "   q_2: ┤ Ry(0.0038243) ├────────────────────────────■─────────»\n",
       "        ├───────────────┤                                      »\n",
       "   q_3: ┤ Ry(-0.019851) ├──────────────────────────────────────»\n",
       "        └───────────────┘                                      »\n",
       "meas_0: ═══════════════════════════════════════════════════════»\n",
       "                                                               »\n",
       "meas_1: ═══════════════════════════════════════════════════════»\n",
       "                                                               »\n",
       "meas_2: ═══════════════════════════════════════════════════════»\n",
       "                                                               »\n",
       "meas_3: ═══════════════════════════════════════════════════════»\n",
       "                                                               »\n",
       "«          ┌────────────┐                                 ░ ┌─┐         \n",
       "«   q_0: ──┤ U(π/2,0,π) ├─────────────────────────────────░─┤M├─────────\n",
       "«        ┌─┴────────────┴┐                                ░ └╥┘┌─┐      \n",
       "«   q_1: ┤ Ry(-0.015751) ├────────────────────────────────░──╫─┤M├──────\n",
       "«        └───────────────┘┌───────────────┐┌────────────┐ ░  ║ └╥┘┌─┐   \n",
       "«   q_2: ────────■────────┤ Ry(0.0036205) ├┤ U(π/2,0,π) ├─░──╫──╫─┤M├───\n",
       "«                │        └┬──────────────┤└────────────┘ ░  ║  ║ └╥┘┌─┐\n",
       "«   q_3: ────────■─────────┤ Ry(0.019873) ├───────────────░──╫──╫──╫─┤M├\n",
       "«                          └──────────────┘               ░  ║  ║  ║ └╥┘\n",
       "«meas_0: ════════════════════════════════════════════════════╩══╬══╬══╬═\n",
       "«                                                               ║  ║  ║ \n",
       "«meas_1: ═══════════════════════════════════════════════════════╩══╬══╬═\n",
       "«                                                                  ║  ║ \n",
       "«meas_2: ══════════════════════════════════════════════════════════╩══╬═\n",
       "«                                                                     ║ \n",
       "«meas_3: ═════════════════════════════════════════════════════════════╩═\n",
       "«                                                                       "
      ]
     },
     "execution_count": 17,
     "metadata": {},
     "output_type": "execute_result"
    }
   ],
   "source": [
    "qc_list[0].draw()"
   ]
  },
  {
   "cell_type": "code",
   "execution_count": 18,
   "id": "d54645c8",
   "metadata": {},
   "outputs": [
    {
     "data": {
      "text/plain": [
       "9"
      ]
     },
     "execution_count": 18,
     "metadata": {},
     "output_type": "execute_result"
    }
   ],
   "source": [
    "len(qc_list)"
   ]
  },
  {
   "cell_type": "code",
   "execution_count": 19,
   "id": "9b72007d",
   "metadata": {},
   "outputs": [],
   "source": [
    "simulator = provider.get_backend('ibmq_qasm_simulator')"
   ]
  },
  {
   "cell_type": "code",
   "execution_count": 20,
   "id": "6536eab6",
   "metadata": {},
   "outputs": [
    {
     "data": {
      "text/plain": [
       "100000"
      ]
     },
     "execution_count": 20,
     "metadata": {},
     "output_type": "execute_result"
    }
   ],
   "source": [
    "max_shots = simulator.configuration().to_dict()['max_shots']\n",
    "max_shots"
   ]
  },
  {
   "cell_type": "code",
   "execution_count": 21,
   "id": "486f92a0",
   "metadata": {},
   "outputs": [
    {
     "name": "stdout",
     "output_type": "stream",
     "text": [
      "636eb441095607d93a3ce303\n"
     ]
    }
   ],
   "source": [
    "job_sim = execute(qc_list, backend = simulator, optimization_level =3, shots = max_shots, seed_transpiler = 0)\n",
    "print(job_sim.job_id())"
   ]
  },
  {
   "cell_type": "code",
   "execution_count": 22,
   "id": "d31eadf6",
   "metadata": {},
   "outputs": [
    {
     "name": "stdout",
     "output_type": "stream",
     "text": [
      "Job Status: job has successfully run\n"
     ]
    }
   ],
   "source": [
    "job_monitor(job_sim)"
   ]
  },
  {
   "cell_type": "code",
   "execution_count": 23,
   "id": "4e4001a9",
   "metadata": {},
   "outputs": [],
   "source": [
    "result = job_sim.result()"
   ]
  },
  {
   "cell_type": "code",
   "execution_count": 24,
   "id": "93694cae",
   "metadata": {},
   "outputs": [
    {
     "data": {
      "text/plain": [
       "[{'0010': 24841, '0011': 24804, '0110': 25041, '0111': 25314},\n",
       " {'0010': 12422,\n",
       "  '0011': 12589,\n",
       "  '0110': 12576,\n",
       "  '0111': 12616,\n",
       "  '1010': 12429,\n",
       "  '1011': 12446,\n",
       "  '1110': 12476,\n",
       "  '1111': 12446},\n",
       " {'0010': 25047, '0011': 25016, '1010': 25193, '1011': 24744},\n",
       " {'0000': 12591,\n",
       "  '0001': 12451,\n",
       "  '0010': 12379,\n",
       "  '0011': 12623,\n",
       "  '0100': 12426,\n",
       "  '0101': 12425,\n",
       "  '0110': 12589,\n",
       "  '0111': 12516},\n",
       " {'0000': 6327,\n",
       "  '0001': 6353,\n",
       "  '0010': 6252,\n",
       "  '0011': 6298,\n",
       "  '0100': 6233,\n",
       "  '0101': 6265,\n",
       "  '0110': 6344,\n",
       "  '0111': 6353,\n",
       "  '1000': 6280,\n",
       "  '1001': 6252,\n",
       "  '1010': 6146,\n",
       "  '1011': 6116,\n",
       "  '1100': 6206,\n",
       "  '1101': 6192,\n",
       "  '1110': 6158,\n",
       "  '1111': 6225},\n",
       " {'0000': 12378,\n",
       "  '0001': 12485,\n",
       "  '0010': 12487,\n",
       "  '0011': 12537,\n",
       "  '1000': 12780,\n",
       "  '1001': 12377,\n",
       "  '1010': 12408,\n",
       "  '1011': 12548},\n",
       " {'0001': 25063, '0011': 24844, '0101': 25053, '0111': 25040},\n",
       " {'0001': 12500,\n",
       "  '0011': 12405,\n",
       "  '0101': 12448,\n",
       "  '0111': 12654,\n",
       "  '1001': 12316,\n",
       "  '1011': 12632,\n",
       "  '1101': 12497,\n",
       "  '1111': 12548},\n",
       " {'0001': 25055, '0011': 25069, '1001': 25074, '1011': 24802}]"
      ]
     },
     "execution_count": 24,
     "metadata": {},
     "output_type": "execute_result"
    }
   ],
   "source": [
    "result.get_counts()"
   ]
  },
  {
   "cell_type": "code",
   "execution_count": 32,
   "id": "6af52ed3",
   "metadata": {},
   "outputs": [
    {
     "data": {
      "image/png": "[encoded data removed]",
      "text/plain": [
       "<Figure size 700x500 with 1 Axes>"
      ]
     },
     "execution_count": 32,
     "metadata": {},
     "output_type": "execute_result"
    }
   ],
   "source": [
    "plot_histogram(result.get_counts()[0])"
   ]
  },
  {
   "cell_type": "code",
   "execution_count": null,
   "id": "2b47c4d5",
   "metadata": {},
   "outputs": [],
   "source": []
  },
  {
   "cell_type": "code",
   "execution_count": null,
   "id": "d714b2df",
   "metadata": {},
   "outputs": [],
   "source": []
  }
 ],
 "metadata": {
  "kernelspec": {
   "display_name": "Python 3 (ipykernel)",
   "language": "python",
   "name": "python3"
  },
  "language_info": {
   "codemirror_mode": {
    "name": "ipython",
    "version": 3
   },
   "file_extension": ".py",
   "mimetype": "text/x-python",
   "name": "python",
   "nbconvert_exporter": "python",
   "pygments_lexer": "ipython3",
   "version": "3.8.13"
  }
 },
 "nbformat": 4,
 "nbformat_minor": 5
}
