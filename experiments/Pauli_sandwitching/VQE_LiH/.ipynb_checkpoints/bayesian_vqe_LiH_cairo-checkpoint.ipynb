{
 "cells": [
  {
   "cell_type": "code",
   "execution_count": 3,
   "id": "ef0a4ff4",
   "metadata": {},
   "outputs": [],
   "source": [
    "import os\n",
    "import sys\n",
    "module_path = os.path.abspath(os.path.join('../../..'))\n",
    "if module_path not in sys.path:\n",
    "    sys.path.append(module_path)"
   ]
  },
  {
   "cell_type": "code",
   "execution_count": 4,
   "id": "a2980e10",
   "metadata": {},
   "outputs": [],
   "source": [
    "# author: Ji Liu email: ji.liu@anl.gov\n",
    "\n",
    "import itertools, numpy, qiskit\n",
    "import circuit_cutter\n",
    "import mlrecon_methods as ml\n",
    "\n",
    "import numpy as np\n",
    "import qiskit\n",
    "from qiskit import *\n",
    "from qiskit import QuantumCircuit, QuantumRegister, ClassicalRegister, Aer, execute, transpile\n",
    "\n",
    "from qiskit.transpiler import PassManager\n",
    "\n",
    "from qiskit.converters import circuit_to_dag\n",
    "from qiskit.visualization import dag_drawer, plot_histogram\n",
    "from qiskit.compiler import assemble\n",
    "\n",
    "from qiskit.tools.monitor import job_monitor, backend_monitor, backend_overview\n",
    "\n",
    "import qiskit.providers.aer.noise as noise\n",
    "from qiskit.providers.aer.noise import NoiseModel\n",
    "\n",
    "from utils.utils import filter_results, dict_to_list, H_distance, H_distance_dict, total_counts"
   ]
  },
  {
   "cell_type": "code",
   "execution_count": 5,
   "id": "b17fe1f7",
   "metadata": {},
   "outputs": [
    {
     "ename": "NameError",
     "evalue": "name 'json' is not defined",
     "output_type": "error",
     "traceback": [
      "\u001b[0;31m---------------------------------------------------------------------------\u001b[0m",
      "\u001b[0;31mNameError\u001b[0m                                 Traceback (most recent call last)",
      "Cell \u001b[0;32mIn [5], line 2\u001b[0m\n\u001b[1;32m      1\u001b[0m \u001b[38;5;28;01mwith\u001b[39;00m \u001b[38;5;28mopen\u001b[39m(\u001b[38;5;124m'\u001b[39m\u001b[38;5;124mLiH_cairo_check0.json\u001b[39m\u001b[38;5;124m'\u001b[39m) \u001b[38;5;28;01mas\u001b[39;00m f:\n\u001b[0;32m----> 2\u001b[0m     miti_q0_list \u001b[38;5;241m=\u001b[39m \u001b[43mjson\u001b[49m\u001b[38;5;241m.\u001b[39mload(f)\n\u001b[1;32m      3\u001b[0m \u001b[38;5;28;01mwith\u001b[39;00m \u001b[38;5;28mopen\u001b[39m(\u001b[38;5;124m'\u001b[39m\u001b[38;5;124mLiH_cairo_check1.json\u001b[39m\u001b[38;5;124m'\u001b[39m) \u001b[38;5;28;01mas\u001b[39;00m f:\n\u001b[1;32m      4\u001b[0m     miti_q1_list \u001b[38;5;241m=\u001b[39m json\u001b[38;5;241m.\u001b[39mload(f)\n",
      "\u001b[0;31mNameError\u001b[0m: name 'json' is not defined"
     ]
    }
   ],
   "source": [
    "with open('LiH_cairo_check0.json') as f:\n",
    "    miti_q0_list = json.load(f)\n",
    "with open('LiH_cairo_check1.json') as f:\n",
    "    miti_q1_list = json.load(f)"
   ]
  },
  {
   "cell_type": "markdown",
   "id": "761b2a59",
   "metadata": {},
   "source": [
    "Untimigated distribution"
   ]
  },
  {
   "cell_type": "code",
   "execution_count": 15,
   "id": "2bb5bc04",
   "metadata": {},
   "outputs": [],
   "source": [
    "qubits = 4\n",
    "# list of all possible measurement outcomes (bitstrings)\n",
    "all_bits = [ \"\".join(bits) for bits in itertools.product([\"0\",\"1\"], repeat = qubits) ]"
   ]
  },
  {
   "cell_type": "code",
   "execution_count": 21,
   "id": "6fc912b2",
   "metadata": {},
   "outputs": [],
   "source": [
    "miti_dist_list = [miti_q0_dist, miti_q1_dist, miti_q2_dist, miti_q3_dist]"
   ]
  },
  {
   "cell_type": "code",
   "execution_count": 22,
   "id": "89c010b4",
   "metadata": {},
   "outputs": [],
   "source": [
    "def load_probs(miti_dist_list, bit_str):\n",
    "    output_list = []\n",
    "    for dist in miti_dist_list:\n",
    "        try:\n",
    "            miti_count = dist[bit_str]\n",
    "        except:\n",
    "            miti_count = 0\n",
    "        output_list.append(miti_count)\n",
    "    return output_list"
   ]
  },
  {
   "cell_type": "code",
   "execution_count": 23,
   "id": "519a5995",
   "metadata": {},
   "outputs": [
    {
     "data": {
      "text/plain": [
       "[0.8425964325038109,\n",
       " 0.8397746801003163,\n",
       " 0.8235766028461019,\n",
       " 0.7977662009881582]"
      ]
     },
     "execution_count": 23,
     "metadata": {},
     "output_type": "execute_result"
    }
   ],
   "source": [
    "load_probs(miti_dist_list, '0011')"
   ]
  },
  {
   "cell_type": "code",
   "execution_count": 24,
   "id": "01f724a3",
   "metadata": {},
   "outputs": [
    {
     "data": {
      "text/plain": [
       "[0, 0.06943653810218806, 0.047948326295917, 0.04865090464353378]"
      ]
     },
     "execution_count": 24,
     "metadata": {},
     "output_type": "execute_result"
    }
   ],
   "source": [
    "#q0 bitflip\n",
    "load_probs(miti_dist_list, '0010')"
   ]
  },
  {
   "cell_type": "code",
   "execution_count": 25,
   "id": "4c27e6ba",
   "metadata": {},
   "outputs": [
    {
     "data": {
      "text/plain": [
       "[0.10418584090328883, 0, 0.10267574370030542, 0.09899975999745114]"
      ]
     },
     "execution_count": 25,
     "metadata": {},
     "output_type": "execute_result"
    }
   ],
   "source": [
    "#q1 bitflip\n",
    "load_probs(miti_dist_list, '0001')"
   ]
  },
  {
   "cell_type": "code",
   "execution_count": 26,
   "id": "f231f561",
   "metadata": {},
   "outputs": [
    {
     "data": {
      "text/plain": [
       "[0.028958071633290065, 0.05472615679023005, 0, 0.04132670907691229]"
      ]
     },
     "execution_count": 26,
     "metadata": {},
     "output_type": "execute_result"
    }
   ],
   "source": [
    "#q2 bitflip\n",
    "load_probs(miti_dist_list, '0111')"
   ]
  },
  {
   "cell_type": "code",
   "execution_count": 28,
   "id": "925b7b46",
   "metadata": {},
   "outputs": [
    {
     "data": {
      "text/plain": [
       "[0.018578689495904518, 0.018241153974532284, 0.01799074021659385, 0]"
      ]
     },
     "execution_count": 28,
     "metadata": {},
     "output_type": "execute_result"
    }
   ],
   "source": [
    "#q3 bitflip\n",
    "load_probs(miti_dist_list, '1011')"
   ]
  },
  {
   "cell_type": "code",
   "execution_count": 29,
   "id": "e7d28c71",
   "metadata": {},
   "outputs": [],
   "source": [
    "def combine_distribution(unmiti_dist, miti_dist_list):\n",
    "    #given the mitigated distribution and the unmitigated distribution, return the combined distribution\n",
    "    comb_dist = {}\n",
    "    for bit_str in unmiti_dist.keys():\n",
    "        probs_list = load_probs(miti_dist_list, bit_str)\n",
    "        higher_count = 0\n",
    "        lower_count = 0\n",
    "\n",
    "        actual_count = unmiti_dist[bit_str]\n",
    "    #     except:\n",
    "    #         actual_count = 0\n",
    "        for prob in probs_list:\n",
    "            if prob > actual_count:\n",
    "                higher_count += 1\n",
    "            else:\n",
    "                lower_count += 1\n",
    "        miti_count = 0\n",
    "        print(bit_str, \"#higher\", higher_count, \"#lower\", lower_count)\n",
    "        if higher_count >= lower_count:\n",
    "            miti_count = max(probs_list)\n",
    "        else:\n",
    "            miti_count = min(probs_list)\n",
    "        comb_dist[bit_str] = miti_count\n",
    "    return comb_dist\n",
    "    "
   ]
  },
  {
   "cell_type": "code",
   "execution_count": 30,
   "id": "4cee2597",
   "metadata": {},
   "outputs": [],
   "source": [
    "def avg_distribution(unmiti_dist, miti_dist_list):\n",
    "    #given the mitigated distribution and the unmitigated distribution, return the combined distribution\n",
    "    comb_dist = {}\n",
    "    for bit_str in unmiti_dist.keys():\n",
    "        probs_list = load_probs(miti_dist_list, bit_str)\n",
    "\n",
    "        actual_count = sum(probs_list)/len(probs_list)\n",
    "        comb_dist[bit_str] = actual_count\n",
    "    return comb_dist"
   ]
  },
  {
   "cell_type": "code",
   "execution_count": 31,
   "id": "5e4128c0",
   "metadata": {},
   "outputs": [],
   "source": [
    "def bit_weight(dist, index):\n",
    "    #bitwise distribution\n",
    "    weight_0 = 0\n",
    "    weight_1 = 0\n",
    "    for key in dist.keys():\n",
    "        if key[len(key) - 1 - index] == '0':\n",
    "            weight_0 += dist[key]\n",
    "        elif key[len(key) - 1 - index] == '1':\n",
    "            weight_1 += dist[key]\n",
    "        else:\n",
    "            print(\"Incorrect key value\")\n",
    "    return weight_0, weight_1"
   ]
  },
  {
   "cell_type": "code",
   "execution_count": 32,
   "id": "771a1630",
   "metadata": {},
   "outputs": [
    {
     "name": "stdout",
     "output_type": "stream",
     "text": [
      "0xxxx 0 1xxxx 1.0000000000000002\n",
      "x0xxx 0.10961777219165636 x1xxx 0.8903822278083438\n",
      "xx0xx 0.9676127297347674 xx1xx 0.03238727026523267\n",
      "xxx0x 0.9788419183771675 xxx1x 0.02115808162283272\n"
     ]
    }
   ],
   "source": [
    "for i in range(0,4):\n",
    "    # sum(xxxx0), sum(xxxx1)\n",
    "    text0, text1 = list('xxxxx'),list('xxxxx')\n",
    "    text0[i], text1[i] = '0', '1'\n",
    "    w0, w1 = bit_weight(miti_q0_dist, i)\n",
    "    print(\"\".join(text0), w0, \"\".join(text1), w1)"
   ]
  },
  {
   "cell_type": "code",
   "execution_count": 33,
   "id": "0a690612",
   "metadata": {},
   "outputs": [
    {
     "name": "stdout",
     "output_type": "stream",
     "text": [
      "0xxxx 0.08559521772679139 1xxxx 0.9144047822732086\n",
      "x0xxx 0 x1xxx 1.0\n",
      "xx0xx 0.9287410167206872 xx1xx 0.07125898327931281\n",
      "xxx0x 0.9784383426755436 xxx1x 0.021561657324456425\n"
     ]
    }
   ],
   "source": [
    "for i in range(0,4):\n",
    "    # sum(xxxx0), sum(xxxx1)\n",
    "    text0, text1 = list('xxxxx'),list('xxxxx')\n",
    "    text0[i], text1[i] = '0', '1'\n",
    "    w0, w1 = bit_weight(miti_q1_dist, i)\n",
    "    print(\"\".join(text0), w0, \"\".join(text1), w1)"
   ]
  },
  {
   "cell_type": "code",
   "execution_count": 34,
   "id": "9f496044",
   "metadata": {},
   "outputs": [
    {
     "name": "stdout",
     "output_type": "stream",
     "text": [
      "0xxxx 0.05368921950425604 1xxxx 0.9463107804957439\n",
      "x0xxx 0.10937321755062034 x1xxx 0.8906267824493795\n",
      "xx0xx 1.0 xx1xx 0\n",
      "xxx0x 0.9786777913551234 xxx1x 0.02132220864487655\n"
     ]
    }
   ],
   "source": [
    "for i in range(0,4):\n",
    "    # sum(xxxx0), sum(xxxx1)\n",
    "    text0, text1 = list('xxxxx'),list('xxxxx')\n",
    "    text0[i], text1[i] = '0', '1'\n",
    "    w0, w1 = bit_weight(miti_q2_dist, i)\n",
    "    print(\"\".join(text0), w0, \"\".join(text1), w1)"
   ]
  },
  {
   "cell_type": "code",
   "execution_count": 35,
   "id": "e27c03fb",
   "metadata": {},
   "outputs": [
    {
     "name": "stdout",
     "output_type": "stream",
     "text": [
      "0xxxx 0.05678039327752038 1xxxx 0.9432196067224796\n",
      "x0xxx 0.1098427041760848 x1xxx 0.8901572958239152\n",
      "xx0xx 0.950871880992887 xx1xx 0.049128119007113044\n",
      "xxx0x 1.0 xxx1x 0\n"
     ]
    }
   ],
   "source": [
    "for i in range(0,4):\n",
    "    # sum(xxxx0), sum(xxxx1)\n",
    "    text0, text1 = list('xxxxx'),list('xxxxx')\n",
    "    text0[i], text1[i] = '0', '1'\n",
    "    w0, w1 = bit_weight(miti_q3_dist, i)\n",
    "    print(\"\".join(text0), w0, \"\".join(text1), w1)"
   ]
  },
  {
   "cell_type": "code",
   "execution_count": 36,
   "id": "5f7326c1",
   "metadata": {},
   "outputs": [],
   "source": [
    "def update_dist(unmiti_dist, miti_dist, index):\n",
    "    Ppost = {}\n",
    "    w0, w1 = bit_weight(miti_dist, index)\n",
    "    u_w0, u_w1 = bit_weight(unmiti_dist, index)\n",
    "    if w0 == 0:\n",
    "        w0 = 0.0000000000001\n",
    "        w1 = 0.9999999999999\n",
    "    if w1 == 0:\n",
    "        w1 = 0.0000000000001\n",
    "        w0 = 0.9999999999999\n",
    "    if u_w0 == 0:\n",
    "        u_w0 = 0.0000000000001\n",
    "        u_w1 = 0.9999999999999\n",
    "    if u_w1 == 0:\n",
    "        u_w1 = 0.0000000000001\n",
    "        u_w0 = 0.9999999999999\n",
    "        \n",
    "    for key in unmiti_dist.keys():\n",
    "        if key[len(key) - 1 - index] == '0':\n",
    "            Ppost[key] = unmiti_dist[key] / u_w0 * (w0)# / w1)\n",
    "            #print(w0, w1, w0/w1, Ppost[key])\n",
    "        elif key[len(key) - 1 - index] == '1':\n",
    "            Ppost[key] = unmiti_dist[key] / u_w1 * (w1)# / w0)\n",
    "            #print(w0, w1, w1/w0, Ppost[key])\n",
    "        else:\n",
    "            print(\"Incorrect key value\")\n",
    "    return Ppost"
   ]
  },
  {
   "cell_type": "code",
   "execution_count": 37,
   "id": "ff225b8e",
   "metadata": {},
   "outputs": [],
   "source": [
    "def combine_dist(orign_dist, dist_list):\n",
    "    output_dist = {}\n",
    "    for key in orign_dist:\n",
    "        value = orign_dist[key]\n",
    "        for dist in dist_list:\n",
    "            value += dist[key]\n",
    "        output_dist[key] = value\n",
    "    return output_dist  "
   ]
  },
  {
   "cell_type": "code",
   "execution_count": 38,
   "id": "76cb28f2",
   "metadata": {},
   "outputs": [],
   "source": [
    "def bayesian_reconstruct(unmiti_dist, miti_dist_list, threshold = 0.0001):\n",
    "    temp_dist = unmiti_dist.copy()\n",
    "    h_dist = 1\n",
    "    while h_dist > threshold:\n",
    "        temp_dist_start = temp_dist.copy()\n",
    "        ppost = [0] * len(miti_dist_list)\n",
    "        for i in range(0, len(miti_dist_list)):\n",
    "            ppost[i] = update_dist(temp_dist, miti_dist_list[i][0], miti_dist_list[i][1])\n",
    "        temp_dist = combine_dist(temp_dist, ppost)\n",
    "        temp_dist = norm_dict(temp_dist)\n",
    "        h_dist = H_distance_dict(temp_dist, temp_dist_start)\n",
    "        print(\"H-dist:\", h_dist)\n",
    "    return temp_dist"
   ]
  },
  {
   "cell_type": "code",
   "execution_count": 39,
   "id": "cf29e1ab",
   "metadata": {},
   "outputs": [],
   "source": [
    "def norm_dict(dictionary):\n",
    "    total = total_counts(dictionary)\n",
    "    norm_dist = {}\n",
    "    for i in dictionary.keys():\n",
    "        norm_dist[i] = dictionary[i]/total\n",
    "    return norm_dist"
   ]
  },
  {
   "cell_type": "code",
   "execution_count": 40,
   "id": "aabcc429",
   "metadata": {},
   "outputs": [],
   "source": [
    "miti_dist_index = [[miti_q0_dist,0], [miti_q1_dist,1], [miti_q2_dist,2], [miti_q3_dist,3]]"
   ]
  },
  {
   "cell_type": "code",
   "execution_count": 41,
   "id": "c4fb21e1",
   "metadata": {},
   "outputs": [
    {
     "name": "stdout",
     "output_type": "stream",
     "text": [
      "H-dist: 0.03689137423089023\n",
      "H-dist: 0.03249625336595384\n",
      "H-dist: 0.028778705862650054\n",
      "H-dist: 0.025579871408387286\n",
      "H-dist: 0.022793328682295028\n",
      "H-dist: 0.020344566666015525\n",
      "H-dist: 0.01817922812471784\n",
      "H-dist: 0.01625614243679541\n",
      "H-dist: 0.014543051095788946\n",
      "H-dist: 0.013013906003965903\n",
      "H-dist: 0.011647121077071406\n",
      "H-dist: 0.010424418972352457\n",
      "H-dist: 0.009330056920731942\n",
      "H-dist: 0.008350297080657232\n",
      "H-dist: 0.007473035810895267\n",
      "H-dist: 0.006687536835104297\n",
      "H-dist: 0.005984232804477641\n",
      "H-dist: 0.005354572382276927\n",
      "H-dist: 0.004790898143928378\n",
      "H-dist: 0.004286345860258166\n",
      "H-dist: 0.0038347591149023156\n",
      "H-dist: 0.0034306153607184227\n",
      "H-dist: 0.003068960879684027\n",
      "H-dist: 0.0027453529623085306\n",
      "H-dist: 0.0024558081524552883\n",
      "H-dist: 0.002196755732057491\n",
      "H-dist: 0.001964995824411899\n",
      "H-dist: 0.0017576616230848224\n",
      "H-dist: 0.0015721853362013465\n",
      "H-dist: 0.001406267491572793\n",
      "H-dist: 0.0012578492879512387\n",
      "H-dist: 0.0011250877083125535\n",
      "H-dist: 0.0010063331362876002\n",
      "H-dist: 0.0009001092388282861\n",
      "H-dist: 0.0008050948980653389\n",
      "H-dist: 0.0007201079936767737\n",
      "H-dist: 0.0006440908542205629\n",
      "H-dist: 0.0005760972119121418\n",
      "H-dist: 0.0005152805102941098\n",
      "H-dist: 0.0004608834281702651\n",
      "H-dist: 0.0004122284960740264\n",
      "H-dist: 0.0003687096934331245\n",
      "H-dist: 0.00032978492550944183\n",
      "H-dist: 0.0002949692891752833\n",
      "H-dist: 0.0002638290456835465\n",
      "H-dist: 0.00023597622685286092\n",
      "H-dist: 0.00021106380857655675\n",
      "H-dist: 0.00018878139233418855\n",
      "H-dist: 0.00016885134149380982\n",
      "H-dist: 0.00015102532469807366\n",
      "H-dist: 0.0001350812235808927\n",
      "H-dist: 0.00012082036651426608\n",
      "H-dist: 0.00010806505408393075\n",
      "H-dist: 9.665634558136037e-05\n"
     ]
    }
   ],
   "source": [
    "post_dist = bayesian_reconstruct(unmiti_dist, miti_dist_index)"
   ]
  },
  {
   "cell_type": "code",
   "execution_count": 43,
   "id": "fbeb8454",
   "metadata": {},
   "outputs": [
    {
     "data": {
      "text/plain": [
       "0.999998658850266"
      ]
     },
     "execution_count": 43,
     "metadata": {},
     "output_type": "execute_result"
    }
   ],
   "source": [
    "#the success probability after bayesian reconstruction\n",
    "post_dist['0011']"
   ]
  },
  {
   "cell_type": "code",
   "execution_count": 44,
   "id": "1371a826",
   "metadata": {},
   "outputs": [
    {
     "name": "stdout",
     "output_type": "stream",
     "text": [
      "0th bit 3.059010142279954e-07, 0.9999996940989856\n",
      "1th bit 6.613067134145905e-07, 0.9999993386932865\n",
      "2th bit 0.9999997347023543, 2.6529764547787996e-07\n",
      "3th bit 0.9999998913556198, 1.086443799891525e-07\n",
      "4th bit 3.059010142279954e-07, 0.9999996940989856\n"
     ]
    }
   ],
   "source": [
    "for i in range(0,5):\n",
    "    w0, w1 = bit_weight(post_dist, i)\n",
    "    print(\"{}th bit {}, {}\".format(i, w0, w1))"
   ]
  },
  {
   "cell_type": "code",
   "execution_count": 46,
   "id": "137a4a5e",
   "metadata": {},
   "outputs": [
    {
     "name": "stdout",
     "output_type": "stream",
     "text": [
      "0th bit 0, 1.0000000000000002\n",
      "1th bit 0, 1.0\n",
      "2th bit 1.0, 0\n",
      "3th bit 1.0, 0\n"
     ]
    }
   ],
   "source": [
    "for i in range(0,4):\n",
    "    temp_dist = miti_dist_index[i]\n",
    "    w0, w1 = bit_weight(temp_dist[0], temp_dist[1])\n",
    "    print(\"{}th bit {}, {}\".format(i, w0, w1))"
   ]
  },
  {
   "cell_type": "code",
   "execution_count": 47,
   "id": "b711ba12",
   "metadata": {},
   "outputs": [
    {
     "data": {
      "image/png": "[encoded data removed]",
      "text/plain": [
       "<Figure size 700x500 with 1 Axes>"
      ]
     },
     "execution_count": 47,
     "metadata": {},
     "output_type": "execute_result"
    }
   ],
   "source": [
    "plot_histogram(post_dist)"
   ]
  },
  {
   "cell_type": "code",
   "execution_count": null,
   "id": "f68b8a63",
   "metadata": {},
   "outputs": [],
   "source": []
  }
 ],
 "metadata": {
  "kernelspec": {
   "display_name": "Python 3 (ipykernel)",
   "language": "python",
   "name": "python3"
  },
  "language_info": {
   "codemirror_mode": {
    "name": "ipython",
    "version": 3
   },
   "file_extension": ".py",
   "mimetype": "text/x-python",
   "name": "python",
   "nbconvert_exporter": "python",
   "pygments_lexer": "ipython3",
   "version": "3.8.13"
  }
 },
 "nbformat": 4,
 "nbformat_minor": 5
}
