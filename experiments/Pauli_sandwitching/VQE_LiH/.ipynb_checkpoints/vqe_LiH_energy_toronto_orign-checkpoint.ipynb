{
 "cells": [
  {
   "cell_type": "code",
   "execution_count": 1,
   "id": "8b1d4699",
   "metadata": {},
   "outputs": [],
   "source": [
    "import os\n",
    "import sys\n",
    "module_path = os.path.abspath(os.path.join('../../../..'))\n",
    "if module_path not in sys.path:\n",
    "    sys.path.append(module_path)"
   ]
  },
  {
   "cell_type": "code",
   "execution_count": 2,
   "id": "8199f434",
   "metadata": {},
   "outputs": [],
   "source": [
    "# author: Ji Liu email: ji.liu@anl.gov\n",
    "\n",
    "import itertools, numpy\n",
    "# import circuit_cutter\n",
    "# import mlrecon_methods as ml\n",
    "import numpy as np\n",
    "\n",
    "import qiskit\n",
    "from qiskit import *\n",
    "from qiskit import QuantumCircuit, QuantumRegister, ClassicalRegister, Aer, execute, transpile\n",
    "\n",
    "from qiskit.transpiler import PassManager\n",
    "\n",
    "from qiskit.converters import circuit_to_dag\n",
    "from qiskit.visualization import dag_drawer, plot_histogram\n",
    "from qiskit.compiler import assemble\n",
    "\n",
    "from qiskit.tools.monitor import job_monitor, backend_monitor, backend_overview\n",
    "\n",
    "import qiskit.providers.aer.noise as noise\n",
    "from qiskit.providers.aer.noise import NoiseModel\n",
    "\n",
    "from utils.utils import filter_results, dict_to_list, H_distance, total_counts\n",
    "from vqe_utils import read_from_file, MeasureCircuit, find_commute_groups, evaluation\n",
    "import mthree"
   ]
  },
  {
   "cell_type": "code",
   "execution_count": 3,
   "id": "72fed853",
   "metadata": {},
   "outputs": [
    {
     "data": {
      "text/plain": [
       "[<IBMQSimulator('ibmq_qasm_simulator') from IBMQ(hub='ibm-q-ornl', group='ornl', project='chm185')>,\n",
       " <IBMQBackend('ibmq_montreal') from IBMQ(hub='ibm-q-ornl', group='ornl', project='chm185')>,\n",
       " <IBMQBackend('ibmq_toronto') from IBMQ(hub='ibm-q-ornl', group='ornl', project='chm185')>,\n",
       " <IBMQBackend('ibmq_kolkata') from IBMQ(hub='ibm-q-ornl', group='ornl', project='chm185')>,\n",
       " <IBMQBackend('ibmq_mumbai') from IBMQ(hub='ibm-q-ornl', group='ornl', project='chm185')>,\n",
       " <IBMQBackend('ibmq_lima') from IBMQ(hub='ibm-q-ornl', group='ornl', project='chm185')>,\n",
       " <IBMQBackend('ibmq_belem') from IBMQ(hub='ibm-q-ornl', group='ornl', project='chm185')>,\n",
       " <IBMQBackend('ibmq_quito') from IBMQ(hub='ibm-q-ornl', group='ornl', project='chm185')>,\n",
       " <IBMQBackend('ibmq_guadalupe') from IBMQ(hub='ibm-q-ornl', group='ornl', project='chm185')>,\n",
       " <IBMQSimulator('simulator_statevector') from IBMQ(hub='ibm-q-ornl', group='ornl', project='chm185')>,\n",
       " <IBMQSimulator('simulator_mps') from IBMQ(hub='ibm-q-ornl', group='ornl', project='chm185')>,\n",
       " <IBMQSimulator('simulator_extended_stabilizer') from IBMQ(hub='ibm-q-ornl', group='ornl', project='chm185')>,\n",
       " <IBMQSimulator('simulator_stabilizer') from IBMQ(hub='ibm-q-ornl', group='ornl', project='chm185')>,\n",
       " <IBMQBackend('ibmq_jakarta') from IBMQ(hub='ibm-q-ornl', group='ornl', project='chm185')>,\n",
       " <IBMQBackend('ibmq_manila') from IBMQ(hub='ibm-q-ornl', group='ornl', project='chm185')>,\n",
       " <IBMQBackend('ibm_hanoi') from IBMQ(hub='ibm-q-ornl', group='ornl', project='chm185')>,\n",
       " <IBMQBackend('ibm_cairo') from IBMQ(hub='ibm-q-ornl', group='ornl', project='chm185')>,\n",
       " <IBMQBackend('ibm_auckland') from IBMQ(hub='ibm-q-ornl', group='ornl', project='chm185')>,\n",
       " <IBMQBackend('ibm_washington') from IBMQ(hub='ibm-q-ornl', group='ornl', project='chm185')>,\n",
       " <IBMQBackend('ibm_geneva') from IBMQ(hub='ibm-q-ornl', group='ornl', project='chm185')>]"
      ]
     },
     "execution_count": 3,
     "metadata": {},
     "output_type": "execute_result"
    }
   ],
   "source": [
    "IBMQ.load_account()\n",
    "provider = IBMQ.get_provider(hub='ibm-q-ornl', group='ornl', project='chm185')\n",
    "provider.backends()"
   ]
  },
  {
   "cell_type": "code",
   "execution_count": 4,
   "id": "3b63a781",
   "metadata": {},
   "outputs": [
    {
     "data": {
      "text/plain": [
       "<IBMQBackend('ibm_cairo') from IBMQ(hub='ibm-q-ornl', group='ornl', project='chm185')>"
      ]
     },
     "execution_count": 4,
     "metadata": {},
     "output_type": "execute_result"
    }
   ],
   "source": [
    "device = provider.get_backend('ibm_cairo')\n",
    "device"
   ]
  },
  {
   "cell_type": "code",
   "execution_count": 5,
   "id": "b458ac33",
   "metadata": {},
   "outputs": [],
   "source": [
    "orign_qc = QuantumCircuit.from_qasm_file(\"qasm/vqe_LiH.qasm\")"
   ]
  },
  {
   "cell_type": "code",
   "execution_count": 6,
   "id": "58e19e4d",
   "metadata": {},
   "outputs": [
    {
     "data": {
      "text/html": [
       "<pre style=\"word-wrap: normal;white-space: pre;background: #fff0;line-height: 1.1;font-family: &quot;Courier New&quot;,Courier,monospace\">           ┌───┐      ┌───────────────┐   ┌────────────────┐                 »\n",
       "q_0: ──────┤ X ├──────┤ Ry(-0.003534) ├─■─┤ Ry(-0.0036834) ├─────────────────»\n",
       "           ├───┤      ├───────────────┤ │ └────────────────┘┌───────────────┐»\n",
       "q_1: ──────┤ X ├──────┤ Ry(-0.015869) ├─■─────────■─────────┤ Ry(-0.015751) ├»\n",
       "     ┌─────┴───┴─────┐└───────────────┘           │         └───────────────┘»\n",
       "q_2: ┤ Ry(0.0038243) ├────────────────────────────■─────────────────■────────»\n",
       "     ├───────────────┤                                              │        »\n",
       "q_3: ┤ Ry(-0.019851) ├──────────────────────────────────────────────■────────»\n",
       "     └───────────────┘                                                       »\n",
       "«                      \n",
       "«q_0: ─────────────────\n",
       "«                      \n",
       "«q_1: ─────────────────\n",
       "«     ┌───────────────┐\n",
       "«q_2: ┤ Ry(0.0036205) ├\n",
       "«     └┬──────────────┤\n",
       "«q_3: ─┤ Ry(0.019873) ├\n",
       "«      └──────────────┘</pre>"
      ],
      "text/plain": [
       "           ┌───┐      ┌───────────────┐   ┌────────────────┐                 »\n",
       "q_0: ──────┤ X ├──────┤ Ry(-0.003534) ├─■─┤ Ry(-0.0036834) ├─────────────────»\n",
       "           ├───┤      ├───────────────┤ │ └────────────────┘┌───────────────┐»\n",
       "q_1: ──────┤ X ├──────┤ Ry(-0.015869) ├─■─────────■─────────┤ Ry(-0.015751) ├»\n",
       "     ┌─────┴───┴─────┐└───────────────┘           │         └───────────────┘»\n",
       "q_2: ┤ Ry(0.0038243) ├────────────────────────────■─────────────────■────────»\n",
       "     ├───────────────┤                                              │        »\n",
       "q_3: ┤ Ry(-0.019851) ├──────────────────────────────────────────────■────────»\n",
       "     └───────────────┘                                                       »\n",
       "«                      \n",
       "«q_0: ─────────────────\n",
       "«                      \n",
       "«q_1: ─────────────────\n",
       "«     ┌───────────────┐\n",
       "«q_2: ┤ Ry(0.0036205) ├\n",
       "«     └┬──────────────┤\n",
       "«q_3: ─┤ Ry(0.019873) ├\n",
       "«      └──────────────┘"
      ]
     },
     "execution_count": 6,
     "metadata": {},
     "output_type": "execute_result"
    }
   ],
   "source": [
    "orign_qc.draw()"
   ]
  },
  {
   "cell_type": "code",
   "execution_count": 7,
   "id": "759e6ad7",
   "metadata": {},
   "outputs": [],
   "source": [
    "pauli_list = read_from_file('LiH_hamiltonian.txt')"
   ]
  },
  {
   "cell_type": "code",
   "execution_count": 8,
   "id": "83837cac",
   "metadata": {},
   "outputs": [],
   "source": [
    "pauli_commute = find_commute_groups(pauli_list)"
   ]
  },
  {
   "cell_type": "code",
   "execution_count": 9,
   "id": "a650e807",
   "metadata": {},
   "outputs": [
    {
     "data": {
      "text/plain": [
       "[[('YYYY', (0.030846096963273145+0j)),\n",
       "  ('IIYY', (0.0007427996394965804+0j)),\n",
       "  ('YYII', (0.0007427996394965839+0j)),\n",
       "  ('IIII', (-0.20316606150559144+0j))],\n",
       " [('ZZYY', (-0.002737250612332958+0j)),\n",
       "  ('IZYY', (-0.032395297319862765+0j)),\n",
       "  ('ZIYY', (0.034389748140479+0j)),\n",
       "  ('ZZII', (-0.21188984297009175+0j)),\n",
       "  ('IZII', (0.09275994933497334+0j)),\n",
       "  ('ZIII', (-0.3652586902160353+0j))],\n",
       " [('YYZZ', (-0.002737250612332958+0j)),\n",
       "  ('YYIZ', (0.032395297319862765+0j)),\n",
       "  ('YYZI', (-0.034389748140479+0j)),\n",
       "  ('IIZZ', (-0.21188984297009167+0j)),\n",
       "  ('IIIZ', (-0.09275994933497325+0j)),\n",
       "  ('IIZI', (0.3652586902160354+0j))],\n",
       " [('XZYY', (-0.007859003265897889+0j)),\n",
       "  ('XIYY', (0.007859003265897889+0j)),\n",
       "  ('XZII', (-0.019389408583701813+0j)),\n",
       "  ('XIII', (0.019389408583701813+0j))],\n",
       " [('YYXZ', (0.007859003265897889+0j)),\n",
       "  ('YYXI', (0.007859003265897889+0j)),\n",
       "  ('IIXZ', (0.019389408583701813+0j)),\n",
       "  ('IIXI', (0.019389408583701813+0j))],\n",
       " [('YYZX', (-0.0084991584698088+0j)),\n",
       "  ('YYIX', (0.0084991584698088+0j)),\n",
       "  ('IIZX', (-0.0029411410873031608+0j)),\n",
       "  ('IIIX', (0.0029411410873031608+0j))],\n",
       " [('ZXYY', (0.0084991584698088+0j)),\n",
       "  ('IXYY', (0.0084991584698088+0j)),\n",
       "  ('ZXII', (0.0029411410873031595+0j)),\n",
       "  ('IXII', (0.0029411410873031595+0j))],\n",
       " [('YYXX', (-0.030846096963273145+0j)), ('IIXX', (-0.0007427996394965804+0j))],\n",
       " [('XXYY', (-0.030846096963273145+0j)), ('XXII', (-0.0007427996394965839+0j))],\n",
       " [('ZZZX', (0.001697464962388317+0j)),\n",
       "  ('ZZIX', (-0.001697464962388317+0j)),\n",
       "  ('ZIZX', (-0.010681856282934544+0j)),\n",
       "  ('IZZX', (0.011925529284486225+0j)),\n",
       "  ('ZZZI', (-0.0604401285731534+0j)),\n",
       "  ('ZIIX', (0.010681856282934544+0j)),\n",
       "  ('IZIX', (-0.011925529284486225+0j)),\n",
       "  ('ZIZI', (-0.11384335176465012+0j)),\n",
       "  ('IZZI', (0.11395251883047103+0j))],\n",
       " [('ZXZZ', (-0.001697464962388317+0j)),\n",
       "  ('IXZZ', (-0.001697464962388317+0j)),\n",
       "  ('ZXZI', (-0.010681856282934544+0j)),\n",
       "  ('ZXIZ', (0.011925529284486225+0j)),\n",
       "  ('ZIZZ', (0.0604401285731534+0j)),\n",
       "  ('IXZI', (-0.010681856282934544+0j)),\n",
       "  ('IXIZ', (0.011925529284486225+0j)),\n",
       "  ('ZIIZ', (0.11395251883047103+0j))],\n",
       " [('XZZX', (0.0022216108081456157+0j)),\n",
       "  ('XIZX', (-0.0022216108081456157+0j)),\n",
       "  ('XZIX', (-0.0022216108081456157+0j)),\n",
       "  ('XZZI', (0.010952773573798862+0j)),\n",
       "  ('XIIX', (0.0022216108081456157+0j)),\n",
       "  ('XIZI', (-0.010952773573798862+0j))],\n",
       " [('ZXXZ', (0.0022216108081456157+0j)),\n",
       "  ('IXXZ', (0.0022216108081456157+0j)),\n",
       "  ('ZXXI', (0.0022216108081456157+0j)),\n",
       "  ('ZIXZ', (0.010952773573798862+0j)),\n",
       "  ('IXXI', (0.0022216108081456157+0j)),\n",
       "  ('ZIXI', (0.010952773573798862+0j))],\n",
       " [('ZZXX', (0.002737250612332958+0j)),\n",
       "  ('ZZXI', (-0.009002501243838577+0j)),\n",
       "  ('IZXX', (0.032395297319862765+0j)),\n",
       "  ('ZIXX', (-0.034389748140479+0j)),\n",
       "  ('IZXI', (-0.012779333033016732+0j))],\n",
       " [('XXZZ', (0.002737250612332958+0j)),\n",
       "  ('XIZZ', (-0.009002501243838577+0j)),\n",
       "  ('XXIZ', (-0.032395297319862765+0j)),\n",
       "  ('XXZI', (0.034389748140479+0j)),\n",
       "  ('XIIZ', (0.012779333033016732+0j))],\n",
       " [('ZXZX', (-0.0031394823754996126+0j)),\n",
       "  ('IXZX', (-0.0031394823754996126+0j)),\n",
       "  ('ZXIX', (0.0031394823754996126+0j)),\n",
       "  ('IXIX', (0.0031394823754996126+0j))],\n",
       " [('XZXZ', (-0.0065875841900563965+0j)),\n",
       "  ('XIXZ', (0.0065875841900563965+0j)),\n",
       "  ('XZXI', (-0.0065875841900563965+0j)),\n",
       "  ('IZXZ', (-0.012779333033016732+0j)),\n",
       "  ('XZIZ', (-0.012779333033016732+0j)),\n",
       "  ('XIXI', (0.0065875841900563965+0j)),\n",
       "  ('IZIZ', (-0.1227424405254494+0j))],\n",
       " [('XZXX', (0.007859003265897889+0j)), ('XIXX', (-0.007859003265897889+0j))],\n",
       " [('XXXZ', (-0.007859003265897889+0j)), ('XXXI', (-0.007859003265897889+0j))],\n",
       " [('XXZX', (0.0084991584698088+0j)), ('XXIX', (-0.0084991584698088+0j))],\n",
       " [('ZXXX', (-0.0084991584698088+0j)), ('IXXX', (-0.0084991584698088+0j))],\n",
       " [('XZZZ', (0.009002501243838577+0j)), ('IZZZ', (-0.05628878167217024+0j))],\n",
       " [('ZZXZ', (-0.009002501243838577+0j)), ('ZZIZ', (0.05628878167217024+0j))],\n",
       " [('XXXX', (0.030846096963273145+0j))],\n",
       " [('ZZZZ', (0.08460131391824108+0j))]]"
      ]
     },
     "execution_count": 9,
     "metadata": {},
     "output_type": "execute_result"
    }
   ],
   "source": [
    "pauli_commute"
   ]
  },
  {
   "cell_type": "code",
   "execution_count": 10,
   "id": "83e37431",
   "metadata": {},
   "outputs": [
    {
     "data": {
      "text/plain": [
       "25"
      ]
     },
     "execution_count": 10,
     "metadata": {},
     "output_type": "execute_result"
    }
   ],
   "source": [
    "len(pauli_commute)"
   ]
  },
  {
   "cell_type": "code",
   "execution_count": 11,
   "id": "81511572",
   "metadata": {},
   "outputs": [
    {
     "data": {
      "text/plain": [
       "[[('YYYY', (0.030846096963273145+0j)),\n",
       "  ('IIYY', (0.0007427996394965804+0j)),\n",
       "  ('YYII', (0.0007427996394965839+0j)),\n",
       "  ('IIII', (-0.20316606150559144+0j))],\n",
       " [('ZZYY', (-0.002737250612332958+0j)),\n",
       "  ('IZYY', (-0.032395297319862765+0j)),\n",
       "  ('ZIYY', (0.034389748140479+0j)),\n",
       "  ('ZZII', (-0.21188984297009175+0j)),\n",
       "  ('IZII', (0.09275994933497334+0j)),\n",
       "  ('ZIII', (-0.3652586902160353+0j))],\n",
       " [('YYZZ', (-0.002737250612332958+0j)),\n",
       "  ('YYIZ', (0.032395297319862765+0j)),\n",
       "  ('YYZI', (-0.034389748140479+0j)),\n",
       "  ('IIZZ', (-0.21188984297009167+0j)),\n",
       "  ('IIIZ', (-0.09275994933497325+0j)),\n",
       "  ('IIZI', (0.3652586902160354+0j))],\n",
       " [('XZYY', (-0.007859003265897889+0j)),\n",
       "  ('XIYY', (0.007859003265897889+0j)),\n",
       "  ('XZII', (-0.019389408583701813+0j)),\n",
       "  ('XIII', (0.019389408583701813+0j))],\n",
       " [('YYXZ', (0.007859003265897889+0j)),\n",
       "  ('YYXI', (0.007859003265897889+0j)),\n",
       "  ('IIXZ', (0.019389408583701813+0j)),\n",
       "  ('IIXI', (0.019389408583701813+0j))],\n",
       " [('YYZX', (-0.0084991584698088+0j)),\n",
       "  ('YYIX', (0.0084991584698088+0j)),\n",
       "  ('IIZX', (-0.0029411410873031608+0j)),\n",
       "  ('IIIX', (0.0029411410873031608+0j))],\n",
       " [('ZXYY', (0.0084991584698088+0j)),\n",
       "  ('IXYY', (0.0084991584698088+0j)),\n",
       "  ('ZXII', (0.0029411410873031595+0j)),\n",
       "  ('IXII', (0.0029411410873031595+0j))],\n",
       " [('YYXX', (-0.030846096963273145+0j)), ('IIXX', (-0.0007427996394965804+0j))],\n",
       " [('XXYY', (-0.030846096963273145+0j)), ('XXII', (-0.0007427996394965839+0j))],\n",
       " [('ZZZX', (0.001697464962388317+0j)),\n",
       "  ('ZZIX', (-0.001697464962388317+0j)),\n",
       "  ('ZIZX', (-0.010681856282934544+0j)),\n",
       "  ('IZZX', (0.011925529284486225+0j)),\n",
       "  ('ZZZI', (-0.0604401285731534+0j)),\n",
       "  ('ZIIX', (0.010681856282934544+0j)),\n",
       "  ('IZIX', (-0.011925529284486225+0j)),\n",
       "  ('ZIZI', (-0.11384335176465012+0j)),\n",
       "  ('IZZI', (0.11395251883047103+0j))],\n",
       " [('ZXZZ', (-0.001697464962388317+0j)),\n",
       "  ('IXZZ', (-0.001697464962388317+0j)),\n",
       "  ('ZXZI', (-0.010681856282934544+0j)),\n",
       "  ('ZXIZ', (0.011925529284486225+0j)),\n",
       "  ('ZIZZ', (0.0604401285731534+0j)),\n",
       "  ('IXZI', (-0.010681856282934544+0j)),\n",
       "  ('IXIZ', (0.011925529284486225+0j)),\n",
       "  ('ZIIZ', (0.11395251883047103+0j))],\n",
       " [('XZZX', (0.0022216108081456157+0j)),\n",
       "  ('XIZX', (-0.0022216108081456157+0j)),\n",
       "  ('XZIX', (-0.0022216108081456157+0j)),\n",
       "  ('XZZI', (0.010952773573798862+0j)),\n",
       "  ('XIIX', (0.0022216108081456157+0j)),\n",
       "  ('XIZI', (-0.010952773573798862+0j))],\n",
       " [('ZXXZ', (0.0022216108081456157+0j)),\n",
       "  ('IXXZ', (0.0022216108081456157+0j)),\n",
       "  ('ZXXI', (0.0022216108081456157+0j)),\n",
       "  ('ZIXZ', (0.010952773573798862+0j)),\n",
       "  ('IXXI', (0.0022216108081456157+0j)),\n",
       "  ('ZIXI', (0.010952773573798862+0j))],\n",
       " [('ZZXX', (0.002737250612332958+0j)),\n",
       "  ('ZZXI', (-0.009002501243838577+0j)),\n",
       "  ('IZXX', (0.032395297319862765+0j)),\n",
       "  ('ZIXX', (-0.034389748140479+0j)),\n",
       "  ('IZXI', (-0.012779333033016732+0j))],\n",
       " [('XXZZ', (0.002737250612332958+0j)),\n",
       "  ('XIZZ', (-0.009002501243838577+0j)),\n",
       "  ('XXIZ', (-0.032395297319862765+0j)),\n",
       "  ('XXZI', (0.034389748140479+0j)),\n",
       "  ('XIIZ', (0.012779333033016732+0j))],\n",
       " [('ZXZX', (-0.0031394823754996126+0j)),\n",
       "  ('IXZX', (-0.0031394823754996126+0j)),\n",
       "  ('ZXIX', (0.0031394823754996126+0j)),\n",
       "  ('IXIX', (0.0031394823754996126+0j))],\n",
       " [('XZXZ', (-0.0065875841900563965+0j)),\n",
       "  ('XIXZ', (0.0065875841900563965+0j)),\n",
       "  ('XZXI', (-0.0065875841900563965+0j)),\n",
       "  ('IZXZ', (-0.012779333033016732+0j)),\n",
       "  ('XZIZ', (-0.012779333033016732+0j)),\n",
       "  ('XIXI', (0.0065875841900563965+0j)),\n",
       "  ('IZIZ', (-0.1227424405254494+0j))],\n",
       " [('XZXX', (0.007859003265897889+0j)), ('XIXX', (-0.007859003265897889+0j))],\n",
       " [('XXXZ', (-0.007859003265897889+0j)), ('XXXI', (-0.007859003265897889+0j))],\n",
       " [('XXZX', (0.0084991584698088+0j)), ('XXIX', (-0.0084991584698088+0j))],\n",
       " [('ZXXX', (-0.0084991584698088+0j)), ('IXXX', (-0.0084991584698088+0j))],\n",
       " [('XZZZ', (0.009002501243838577+0j)), ('IZZZ', (-0.05628878167217024+0j))],\n",
       " [('ZZXZ', (-0.009002501243838577+0j)), ('ZZIZ', (0.05628878167217024+0j))],\n",
       " [('XXXX', (0.030846096963273145+0j))],\n",
       " [('ZZZZ', (0.08460131391824108+0j))]]"
      ]
     },
     "execution_count": 11,
     "metadata": {},
     "output_type": "execute_result"
    }
   ],
   "source": [
    "pauli_commute"
   ]
  },
  {
   "cell_type": "code",
   "execution_count": 12,
   "id": "44c3b2a5",
   "metadata": {},
   "outputs": [
    {
     "name": "stdout",
     "output_type": "stream",
     "text": [
      "YYYY\n",
      "YYZZ\n",
      "ZZYY\n",
      "YYZX\n",
      "ZXYY\n",
      "XZYY\n",
      "YYXZ\n",
      "XXYY\n",
      "YYXX\n",
      "XZZZ\n",
      "ZZXZ\n",
      "XZZX\n",
      "ZXXZ\n",
      "XXZZ\n",
      "ZZXX\n",
      "XZXZ\n",
      "ZXZX\n",
      "XXZX\n",
      "ZXXX\n",
      "XZXX\n",
      "XXXZ\n",
      "ZZZX\n",
      "ZXZZ\n",
      "XXXX\n",
      "ZZZZ\n"
     ]
    }
   ],
   "source": [
    "#generate individual measurment circuits that changes the basis\n",
    "meas_qcs = []\n",
    "for i in range(0, len(pauli_commute)):\n",
    "    temp_qc = MeasureCircuit(pauli_commute[i], 4, 4)\n",
    "    meas_qcs.append(temp_qc)"
   ]
  },
  {
   "cell_type": "code",
   "execution_count": 13,
   "id": "6bd66787",
   "metadata": {},
   "outputs": [
    {
     "data": {
      "text/plain": [
       "25"
      ]
     },
     "execution_count": 13,
     "metadata": {},
     "output_type": "execute_result"
    }
   ],
   "source": [
    "len(meas_qcs)"
   ]
  },
  {
   "cell_type": "code",
   "execution_count": 14,
   "id": "8af02098",
   "metadata": {},
   "outputs": [
    {
     "name": "stderr",
     "output_type": "stream",
     "text": [
      "/var/folders/s4/3cvgkkn17hg628pzrzzjnhww0000gn/T/ipykernel_68290/856425490.py:3: DeprecationWarning: The QuantumCircuit.__add__() method is being deprecated.Use the compose() method which is more flexible w.r.t circuit register compatibility.\n",
      "  temp_qc = orign_qc + qc\n"
     ]
    }
   ],
   "source": [
    "qc_list = []\n",
    "for qc in meas_qcs:\n",
    "    temp_qc = orign_qc + qc\n",
    "    temp_qc.measure_all()\n",
    "    qc_list.append(temp_qc)"
   ]
  },
  {
   "cell_type": "code",
   "execution_count": 15,
   "id": "afd19728",
   "metadata": {},
   "outputs": [
    {
     "data": {
      "text/html": [
       "<pre style=\"word-wrap: normal;white-space: pre;background: #fff0;line-height: 1.1;font-family: &quot;Courier New&quot;,Courier,monospace\">              ┌───┐      ┌───────────────┐   ┌────────────────┐»\n",
       "   q_0: ──────┤ X ├──────┤ Ry(-0.003534) ├─■─┤ Ry(-0.0036834) ├»\n",
       "              ├───┤      ├───────────────┤ │ └────────────────┘»\n",
       "   q_1: ──────┤ X ├──────┤ Ry(-0.015869) ├─■─────────■─────────»\n",
       "        ┌─────┴───┴─────┐└───────────────┘           │         »\n",
       "   q_2: ┤ Ry(0.0038243) ├────────────────────────────■─────────»\n",
       "        ├───────────────┤                                      »\n",
       "   q_3: ┤ Ry(-0.019851) ├──────────────────────────────────────»\n",
       "        └───────────────┘                                      »\n",
       "meas_0: ═══════════════════════════════════════════════════════»\n",
       "                                                               »\n",
       "meas_1: ═══════════════════════════════════════════════════════»\n",
       "                                                               »\n",
       "meas_2: ═══════════════════════════════════════════════════════»\n",
       "                                                               »\n",
       "meas_3: ═══════════════════════════════════════════════════════»\n",
       "                                                               »\n",
       "«                                           ░ ┌─┐         \n",
       "«   q_0: ───────────────────────────────────░─┤M├─────────\n",
       "«        ┌───────────────┐                  ░ └╥┘┌─┐      \n",
       "«   q_1: ┤ Ry(-0.015751) ├──────────────────░──╫─┤M├──────\n",
       "«        └───────────────┘┌───────────────┐ ░  ║ └╥┘┌─┐   \n",
       "«   q_2: ────────■────────┤ Ry(0.0036205) ├─░──╫──╫─┤M├───\n",
       "«                │        └┬──────────────┤ ░  ║  ║ └╥┘┌─┐\n",
       "«   q_3: ────────■─────────┤ Ry(0.019873) ├─░──╫──╫──╫─┤M├\n",
       "«                          └──────────────┘ ░  ║  ║  ║ └╥┘\n",
       "«meas_0: ══════════════════════════════════════╩══╬══╬══╬═\n",
       "«                                                 ║  ║  ║ \n",
       "«meas_1: ═════════════════════════════════════════╩══╬══╬═\n",
       "«                                                    ║  ║ \n",
       "«meas_2: ════════════════════════════════════════════╩══╬═\n",
       "«                                                       ║ \n",
       "«meas_3: ═══════════════════════════════════════════════╩═\n",
       "«                                                         </pre>"
      ],
      "text/plain": [
       "              ┌───┐      ┌───────────────┐   ┌────────────────┐»\n",
       "   q_0: ──────┤ X ├──────┤ Ry(-0.003534) ├─■─┤ Ry(-0.0036834) ├»\n",
       "              ├───┤      ├───────────────┤ │ └────────────────┘»\n",
       "   q_1: ──────┤ X ├──────┤ Ry(-0.015869) ├─■─────────■─────────»\n",
       "        ┌─────┴───┴─────┐└───────────────┘           │         »\n",
       "   q_2: ┤ Ry(0.0038243) ├────────────────────────────■─────────»\n",
       "        ├───────────────┤                                      »\n",
       "   q_3: ┤ Ry(-0.019851) ├──────────────────────────────────────»\n",
       "        └───────────────┘                                      »\n",
       "meas_0: ═══════════════════════════════════════════════════════»\n",
       "                                                               »\n",
       "meas_1: ═══════════════════════════════════════════════════════»\n",
       "                                                               »\n",
       "meas_2: ═══════════════════════════════════════════════════════»\n",
       "                                                               »\n",
       "meas_3: ═══════════════════════════════════════════════════════»\n",
       "                                                               »\n",
       "«                                           ░ ┌─┐         \n",
       "«   q_0: ───────────────────────────────────░─┤M├─────────\n",
       "«        ┌───────────────┐                  ░ └╥┘┌─┐      \n",
       "«   q_1: ┤ Ry(-0.015751) ├──────────────────░──╫─┤M├──────\n",
       "«        └───────────────┘┌───────────────┐ ░  ║ └╥┘┌─┐   \n",
       "«   q_2: ────────■────────┤ Ry(0.0036205) ├─░──╫──╫─┤M├───\n",
       "«                │        └┬──────────────┤ ░  ║  ║ └╥┘┌─┐\n",
       "«   q_3: ────────■─────────┤ Ry(0.019873) ├─░──╫──╫──╫─┤M├\n",
       "«                          └──────────────┘ ░  ║  ║  ║ └╥┘\n",
       "«meas_0: ══════════════════════════════════════╩══╬══╬══╬═\n",
       "«                                                 ║  ║  ║ \n",
       "«meas_1: ═════════════════════════════════════════╩══╬══╬═\n",
       "«                                                    ║  ║ \n",
       "«meas_2: ════════════════════════════════════════════╩══╬═\n",
       "«                                                       ║ \n",
       "«meas_3: ═══════════════════════════════════════════════╩═\n",
       "«                                                         "
      ]
     },
     "execution_count": 15,
     "metadata": {},
     "output_type": "execute_result"
    }
   ],
   "source": [
    "qc_list[-1].draw()"
   ]
  },
  {
   "cell_type": "code",
   "execution_count": 16,
   "id": "d54645c8",
   "metadata": {},
   "outputs": [
    {
     "data": {
      "text/plain": [
       "25"
      ]
     },
     "execution_count": 16,
     "metadata": {},
     "output_type": "execute_result"
    }
   ],
   "source": [
    "num_qcs = len(qc_list)\n",
    "num_qcs"
   ]
  },
  {
   "cell_type": "code",
   "execution_count": 17,
   "id": "6536eab6",
   "metadata": {},
   "outputs": [
    {
     "data": {
      "text/plain": [
       "100000"
      ]
     },
     "execution_count": 17,
     "metadata": {},
     "output_type": "execute_result"
    }
   ],
   "source": [
    "max_shots = device.configuration().to_dict()['max_shots']\n",
    "max_shots"
   ]
  },
  {
   "cell_type": "code",
   "execution_count": 18,
   "id": "486f92a0",
   "metadata": {},
   "outputs": [
    {
     "name": "stdout",
     "output_type": "stream",
     "text": [
      "63770f098502e40272e89db6\n"
     ]
    }
   ],
   "source": [
    "#11/17 map to qubits 23, 24, 25, 26\n",
    "job_sim = execute(qc_list, backend = device, initial_layout = [23,24,25,26], optimization_level = 3, shots = max_shots, seed_transpiler = 0)\n",
    "print(job_sim.job_id())"
   ]
  },
  {
   "cell_type": "code",
   "execution_count": null,
   "id": "d31eadf6",
   "metadata": {},
   "outputs": [
    {
     "name": "stdout",
     "output_type": "stream",
     "text": [
      "Job Status: job is queued (122)   "
     ]
    }
   ],
   "source": [
    "job_monitor(job_sim)"
   ]
  },
  {
   "cell_type": "code",
   "execution_count": null,
   "id": "4e4001a9",
   "metadata": {},
   "outputs": [],
   "source": [
    "result = job_sim.result()"
   ]
  },
  {
   "cell_type": "code",
   "execution_count": null,
   "id": "93694cae",
   "metadata": {},
   "outputs": [],
   "source": [
    "result.get_counts()"
   ]
  },
  {
   "cell_type": "code",
   "execution_count": null,
   "id": "6af52ed3",
   "metadata": {},
   "outputs": [],
   "source": [
    "plot_histogram(result.get_counts()[-1])"
   ]
  },
  {
   "cell_type": "code",
   "execution_count": null,
   "id": "273aec68",
   "metadata": {},
   "outputs": [],
   "source": [
    "len(result.get_counts())"
   ]
  },
  {
   "cell_type": "code",
   "execution_count": null,
   "id": "34157065",
   "metadata": {},
   "outputs": [],
   "source": [
    "len(pauli_commute)"
   ]
  },
  {
   "cell_type": "code",
   "execution_count": null,
   "id": "2b47c4d5",
   "metadata": {},
   "outputs": [],
   "source": [
    "evaluation(result.get_counts()[-1], shots = max_shots, Pauli = 'zzzz')"
   ]
  },
  {
   "cell_type": "code",
   "execution_count": null,
   "id": "d714b2df",
   "metadata": {},
   "outputs": [],
   "source": [
    "final_expect_val = 0\n",
    "for i in range(0, len(pauli_commute)):\n",
    "    group = pauli_commute[i]\n",
    "    for Pauli_tuple in group:\n",
    "        coeff = Pauli_tuple[1]\n",
    "        final_expect_val += coeff * evaluation(result.get_counts()[i], shots = max_shots, Pauli = Pauli_tuple[0])  "
   ]
  },
  {
   "cell_type": "code",
   "execution_count": null,
   "id": "1caa0ef4",
   "metadata": {},
   "outputs": [],
   "source": [
    "final_expect_val"
   ]
  },
  {
   "cell_type": "code",
   "execution_count": null,
   "id": "2038ae4f",
   "metadata": {},
   "outputs": [],
   "source": []
  },
  {
   "cell_type": "code",
   "execution_count": null,
   "id": "c677d8ac",
   "metadata": {},
   "outputs": [],
   "source": []
  }
 ],
 "metadata": {
  "kernelspec": {
   "display_name": "Python 3 (ipykernel)",
   "language": "python",
   "name": "python3"
  },
  "language_info": {
   "codemirror_mode": {
    "name": "ipython",
    "version": 3
   },
   "file_extension": ".py",
   "mimetype": "text/x-python",
   "name": "python",
   "nbconvert_exporter": "python",
   "pygments_lexer": "ipython3",
   "version": "3.8.13"
  }
 },
 "nbformat": 4,
 "nbformat_minor": 5
}
