{
 "cells": [
  {
   "cell_type": "code",
   "execution_count": 1,
   "id": "050ec390",
   "metadata": {},
   "outputs": [],
   "source": [
    "#!/usr/bin/env python3\n",
    "\n",
    "# author: Michael A. Perlin (github.com/perlinm)\n",
    "\n",
    "import itertools, numpy, qiskit\n",
    "import circuit_cutter\n",
    "import mlrecon_methods as ml\n",
    "\n",
    "import numpy as np\n",
    "import qiskit\n",
    "from qiskit import *\n",
    "from qiskit import QuantumCircuit, QuantumRegister, ClassicalRegister, Aer, execute, transpile\n",
    "\n",
    "from qiskit.transpiler import PassManager\n",
    "\n",
    "from qiskit.converters import circuit_to_dag\n",
    "from qiskit.visualization import dag_drawer, plot_histogram\n",
    "from qiskit.compiler import assemble\n",
    "from qiskit.tools.monitor import job_monitor\n",
    "\n",
    "# The pulse simulator\n",
    "from qiskit.providers.aer import PulseSimulator\n",
    "\n",
    "from qiskit.tools.monitor import job_monitor, backend_monitor, backend_overview\n",
    "\n",
    "import qiskit.providers.aer.noise as noise\n",
    "from qiskit.providers.aer.noise import NoiseModel"
   ]
  },
  {
   "cell_type": "code",
   "execution_count": 2,
   "id": "da4a5c76",
   "metadata": {},
   "outputs": [],
   "source": [
    "numpy.set_printoptions(linewidth = 200)\n",
    "\n",
    "shots = 8192 * 24\n",
    "\n",
    "qubits = 6\n",
    "\n",
    "# # should be \"GHZ\", \"cascade\", \"dense\", or \"clustered\"\n",
    "# circuit_type = \"GHZ\"\n",
    "# layers = 1 # number of gate layers\n",
    "\n",
    "# qubits = 6 # number of qubits\n",
    "# frag_num = 2 # number of fragments\n",
    "\n",
    "simulation_backend = \"qasm_simulator\"\n",
    "\n",
    "seed = 0\n",
    "print_circuits = True"
   ]
  },
  {
   "cell_type": "code",
   "execution_count": 3,
   "id": "cc3edfd5",
   "metadata": {},
   "outputs": [
    {
     "name": "stderr",
     "output_type": "stream",
     "text": [
      "/Users/revilooliver/Documents/quantum_computing/anaconda/anaconda3/envs/quantum/lib/python3.7/site-packages/qiskit/providers/ibmq/ibmqfactory.py:192: UserWarning: Timestamps in IBMQ backend properties, jobs, and job results are all now in local time instead of UTC.\n",
      "  warnings.warn('Timestamps in IBMQ backend properties, jobs, and job results '\n"
     ]
    },
    {
     "data": {
      "text/plain": [
       "[<IBMQSimulator('ibmq_qasm_simulator') from IBMQ(hub='ibm-q-ornl', group='ornl', project='chm185')>,\n",
       " <IBMQBackend('ibmq_montreal') from IBMQ(hub='ibm-q-ornl', group='ornl', project='chm185')>,\n",
       " <IBMQBackend('ibmq_toronto') from IBMQ(hub='ibm-q-ornl', group='ornl', project='chm185')>,\n",
       " <IBMQBackend('ibmq_kolkata') from IBMQ(hub='ibm-q-ornl', group='ornl', project='chm185')>,\n",
       " <IBMQBackend('ibmq_mumbai') from IBMQ(hub='ibm-q-ornl', group='ornl', project='chm185')>,\n",
       " <IBMQBackend('ibmq_lima') from IBMQ(hub='ibm-q-ornl', group='ornl', project='chm185')>,\n",
       " <IBMQBackend('ibmq_belem') from IBMQ(hub='ibm-q-ornl', group='ornl', project='chm185')>,\n",
       " <IBMQBackend('ibmq_quito') from IBMQ(hub='ibm-q-ornl', group='ornl', project='chm185')>,\n",
       " <IBMQBackend('ibmq_guadalupe') from IBMQ(hub='ibm-q-ornl', group='ornl', project='chm185')>,\n",
       " <IBMQSimulator('simulator_statevector') from IBMQ(hub='ibm-q-ornl', group='ornl', project='chm185')>,\n",
       " <IBMQSimulator('simulator_mps') from IBMQ(hub='ibm-q-ornl', group='ornl', project='chm185')>,\n",
       " <IBMQSimulator('simulator_extended_stabilizer') from IBMQ(hub='ibm-q-ornl', group='ornl', project='chm185')>,\n",
       " <IBMQSimulator('simulator_stabilizer') from IBMQ(hub='ibm-q-ornl', group='ornl', project='chm185')>,\n",
       " <IBMQBackend('ibmq_jakarta') from IBMQ(hub='ibm-q-ornl', group='ornl', project='chm185')>,\n",
       " <IBMQBackend('ibmq_manila') from IBMQ(hub='ibm-q-ornl', group='ornl', project='chm185')>,\n",
       " <IBMQBackend('ibm_hanoi') from IBMQ(hub='ibm-q-ornl', group='ornl', project='chm185')>,\n",
       " <IBMQBackend('ibm_cairo') from IBMQ(hub='ibm-q-ornl', group='ornl', project='chm185')>,\n",
       " <IBMQBackend('ibm_auckland') from IBMQ(hub='ibm-q-ornl', group='ornl', project='chm185')>,\n",
       " <IBMQBackend('ibm_washington') from IBMQ(hub='ibm-q-ornl', group='ornl', project='chm185')>,\n",
       " <IBMQBackend('ibm_geneva') from IBMQ(hub='ibm-q-ornl', group='ornl', project='chm185')>]"
      ]
     },
     "execution_count": 3,
     "metadata": {},
     "output_type": "execute_result"
    }
   ],
   "source": [
    "IBMQ.load_account()\n",
    "provider = IBMQ.get_provider(hub='ibm-q-ornl', group='ornl', project='chm185')\n",
    "provider.backends()"
   ]
  },
  {
   "cell_type": "code",
   "execution_count": 4,
   "id": "97f1be7e",
   "metadata": {},
   "outputs": [
    {
     "data": {
      "text/plain": [
       "<IBMQBackend('ibmq_manila') from IBMQ(hub='ibm-q-ornl', group='ornl', project='chm185')>"
      ]
     },
     "execution_count": 4,
     "metadata": {},
     "output_type": "execute_result"
    }
   ],
   "source": [
    "device = provider.get_backend('ibmq_manila')\n",
    "device"
   ]
  },
  {
   "cell_type": "code",
   "execution_count": 5,
   "id": "b6f2eb58",
   "metadata": {},
   "outputs": [],
   "source": [
    "noisy_simulator = provider.get_backend('ibmq_qasm_simulator')"
   ]
  },
  {
   "cell_type": "code",
   "execution_count": 6,
   "id": "e6aa46cb",
   "metadata": {},
   "outputs": [],
   "source": [
    "circuit = QuantumCircuit.from_qasm_file(\"qaoa5q_pauli.qasm\")"
   ]
  },
  {
   "cell_type": "code",
   "execution_count": 7,
   "id": "95e1ee63",
   "metadata": {},
   "outputs": [
    {
     "name": "stdout",
     "output_type": "stream",
     "text": [
      "NoiseModel:\n",
      "  Basis gates: ['cx', 'id', 'sx', 'u3', 'x']\n",
      "  Instructions with noise: ['x', 'cx', 'reset', 'id', 'measure', 'sx']\n",
      "  Qubits with noise: [0, 1, 2, 3, 4]\n",
      "  Specific qubit errors: [('id', [0]), ('id', [1]), ('id', [2]), ('id', [3]), ('id', [4]), ('sx', [0]), ('sx', [1]), ('sx', [2]), ('sx', [3]), ('sx', [4]), ('x', [0]), ('x', [1]), ('x', [2]), ('x', [3]), ('x', [4]), ('cx', [4, 3]), ('cx', [3, 4]), ('cx', [2, 3]), ('cx', [3, 2]), ('cx', [1, 2]), ('cx', [2, 1]), ('cx', [0, 1]), ('cx', [1, 0]), ('reset', [0]), ('reset', [1]), ('reset', [2]), ('reset', [3]), ('reset', [4]), ('measure', [0]), ('measure', [1]), ('measure', [2]), ('measure', [3]), ('measure', [4])]\n"
     ]
    }
   ],
   "source": [
    "from qiskit import IBMQ, Aer\n",
    "from qiskit.providers.aer.noise import NoiseModel\n",
    "noise_model = NoiseModel.from_backend(device)\n",
    "print(noise_model)"
   ]
  },
  {
   "cell_type": "code",
   "execution_count": 8,
   "id": "d498b921",
   "metadata": {},
   "outputs": [
    {
     "name": "stdout",
     "output_type": "stream",
     "text": [
      "Help on IBMQSimulator in module qiskit.providers.ibmq.ibmqbackend object:\n",
      "\n",
      "class IBMQSimulator(IBMQBackend)\n",
      " |  IBMQSimulator(configuration: Union[qiskit.providers.models.backendconfiguration.QasmBackendConfiguration, qiskit.providers.models.backendconfiguration.PulseBackendConfiguration], provider: 'accountprovider.AccountProvider', credentials: qiskit.providers.ibmq.credentials.credentials.Credentials, api_client: qiskit.providers.ibmq.api.clients.account.AccountClient) -> None\n",
      " |  \n",
      " |  Backend class interfacing with an IBM Quantum Experience simulator.\n",
      " |  \n",
      " |  Method resolution order:\n",
      " |      IBMQSimulator\n",
      " |      IBMQBackend\n",
      " |      qiskit.providers.basebackend.BaseBackend\n",
      " |      abc.ABC\n",
      " |      builtins.object\n",
      " |  \n",
      " |  Methods defined here:\n",
      " |  \n",
      " |  properties(self, refresh: bool = False, datetime: Union[datetime.datetime, NoneType] = None) -> None\n",
      " |      Return ``None``, simulators do not have backend properties.\n",
      " |  \n",
      " |  run(self, qobj: Union[qiskit.qobj.qasm_qobj.QasmQobj, qiskit.qobj.pulse_qobj.PulseQobj], job_name: Union[str, NoneType] = None, job_share_level: Union[str, NoneType] = None, job_tags: Union[List[str], NoneType] = None, validate_qobj: bool = False, backend_options: Union[Dict, NoneType] = None, noise_model: Any = None) -> qiskit.providers.ibmq.job.ibmqjob.IBMQJob\n",
      " |      Run a Qobj asynchronously.\n",
      " |      \n",
      " |      Args:\n",
      " |          qobj: The Qobj to be executed.\n",
      " |          backend_options: Backend options.\n",
      " |          noise_model: Noise model.\n",
      " |          job_name: Custom name to be assigned to the job. This job\n",
      " |              name can subsequently be used as a filter in the\n",
      " |              :meth:`jobs` method. Job names do not need to be unique.\n",
      " |          job_share_level: Allows sharing a job at the hub, group, project and\n",
      " |              global level (see :meth:`IBMQBackend.run()<IBMQBackend.run>` for more details).\n",
      " |          job_tags: Tags to be assigned to the jobs. The tags can subsequently be used\n",
      " |              as a filter in the :meth:`IBMQBackend.jobs()<IBMQBackend.jobs>` method.\n",
      " |          validate_qobj: If ``True``, run JSON schema validation against the\n",
      " |              submitted payload\n",
      " |      \n",
      " |      Returns:\n",
      " |          The job to be executed, an instance derived from ``BaseJob``.\n",
      " |  \n",
      " |  ----------------------------------------------------------------------\n",
      " |  Data and other attributes defined here:\n",
      " |  \n",
      " |  __abstractmethods__ = frozenset()\n",
      " |  \n",
      " |  ----------------------------------------------------------------------\n",
      " |  Methods inherited from IBMQBackend:\n",
      " |  \n",
      " |  __init__(self, configuration: Union[qiskit.providers.models.backendconfiguration.QasmBackendConfiguration, qiskit.providers.models.backendconfiguration.PulseBackendConfiguration], provider: 'accountprovider.AccountProvider', credentials: qiskit.providers.ibmq.credentials.credentials.Credentials, api_client: qiskit.providers.ibmq.api.clients.account.AccountClient) -> None\n",
      " |      IBMQBackend constructor.\n",
      " |      \n",
      " |      Args:\n",
      " |          configuration: Backend configuration.\n",
      " |          provider: IBM Quantum Experience account provider\n",
      " |          credentials: IBM Quantum Experience credentials.\n",
      " |          api_client: IBM Quantum Experience client used to communicate with the server.\n",
      " |  \n",
      " |  __repr__(self) -> str\n",
      " |      Official string representation of a Backend.\n",
      " |      \n",
      " |      Note that, by Qiskit convention, it is consciously *not* a fully valid\n",
      " |      Python expression. Subclasses should provide 'a string of the form\n",
      " |      <...some useful description...>'. [0]\n",
      " |      \n",
      " |      [0] https://docs.python.org/3/reference/datamodel.html#object.__repr__\n",
      " |  \n",
      " |  active_jobs(self, limit: int = 10) -> List[qiskit.providers.ibmq.job.ibmqjob.IBMQJob]\n",
      " |      Return the unfinished jobs submitted to this backend.\n",
      " |      \n",
      " |      Return the jobs submitted to this backend, with this provider, that are\n",
      " |      currently in an unfinished job status state. The unfinished\n",
      " |      :class:`JobStatus<qiskit.providers.jobstatus.JobStatus>` states\n",
      " |      include: ``INITIALIZING``, ``VALIDATING``, ``QUEUED``, and ``RUNNING``.\n",
      " |      \n",
      " |      Args:\n",
      " |          limit: Number of jobs to retrieve.\n",
      " |      \n",
      " |      Returns:\n",
      " |          A list of the unfinished jobs for this backend on this provider.\n",
      " |  \n",
      " |  defaults(self, refresh: bool = False) -> Union[qiskit.providers.models.pulsedefaults.PulseDefaults, NoneType]\n",
      " |      Return the pulse defaults for the backend.\n",
      " |      \n",
      " |      Args:\n",
      " |          refresh: If ``True``, re-query the server for the backend pulse defaults.\n",
      " |              Otherwise, return a cached version.\n",
      " |      \n",
      " |      Returns:\n",
      " |          The backend pulse defaults or ``None`` if the backend does not support pulse.\n",
      " |  \n",
      " |  job_limit(self) -> qiskit.providers.ibmq.backendjoblimit.BackendJobLimit\n",
      " |      Return the job limit for the backend.\n",
      " |      \n",
      " |      The job limit information includes the current number of active jobs\n",
      " |      you have on the backend and the maximum number of active jobs you can have\n",
      " |      on it.\n",
      " |      \n",
      " |      Note:\n",
      " |          Job limit information for a backend is provider specific.\n",
      " |          For example, if you have access to the same backend via\n",
      " |          different providers, the job limit information might be\n",
      " |          different for each provider.\n",
      " |      \n",
      " |      If the method call was successful, you can inspect the job limit for\n",
      " |      the backend by accessing the ``maximum_jobs`` and ``active_jobs`` attributes\n",
      " |      of the :class:`BackendJobLimit<BackendJobLimit>` instance returned. For example::\n",
      " |      \n",
      " |          backend_job_limit = backend.job_limit()\n",
      " |          maximum_jobs = backend_job_limit.maximum_jobs\n",
      " |          active_jobs = backend_job_limit.active_jobs\n",
      " |      \n",
      " |      If ``maximum_jobs`` is equal to ``None``, then there is\n",
      " |      no limit to the maximum number of active jobs you could\n",
      " |      have on the backend.\n",
      " |      \n",
      " |      Returns:\n",
      " |          The job limit for the backend, with this provider.\n",
      " |      \n",
      " |      Raises:\n",
      " |          IBMQBackendApiProtocolError: If an unexpected value is received from the server.\n",
      " |  \n",
      " |  jobs(self, limit: int = 10, skip: int = 0, status: Union[qiskit.providers.jobstatus.JobStatus, str, List[Union[qiskit.providers.jobstatus.JobStatus, str]], NoneType] = None, job_name: Union[str, NoneType] = None, start_datetime: Union[datetime.datetime, NoneType] = None, end_datetime: Union[datetime.datetime, NoneType] = None, job_tags: Union[List[str], NoneType] = None, job_tags_operator: Union[str, NoneType] = 'OR', descending: bool = True, db_filter: Union[Dict[str, Any], NoneType] = None) -> List[qiskit.providers.ibmq.job.ibmqjob.IBMQJob]\n",
      " |      Return the jobs submitted to this backend, subject to optional filtering.\n",
      " |      \n",
      " |      Retrieve jobs submitted to this backend that match the given filters\n",
      " |      and paginate the results if desired. Note that the server has a limit for the\n",
      " |      number of jobs returned in a single call. As a result, this function might involve\n",
      " |      making several calls to the server. See also the `skip` parameter for more control\n",
      " |      over pagination.\n",
      " |      \n",
      " |      Args:\n",
      " |          limit: Number of jobs to retrieve.\n",
      " |          skip: Starting index for the job retrieval.\n",
      " |          status: Only get jobs with this status or one of the statuses.\n",
      " |              For example, you can specify `status=JobStatus.RUNNING` or `status=\"RUNNING\"`\n",
      " |              or `status=[\"RUNNING\", \"ERROR\"]`\n",
      " |          job_name: Filter by job name. The `job_name` is matched partially\n",
      " |              and `regular expressions\n",
      " |              <https://developer.mozilla.org/en-US/docs/Web/JavaScript/Guide/Regular_Expressions>`_\n",
      " |              can be used.\n",
      " |          start_datetime: Filter by the given start date, in local time. This is used to\n",
      " |              find jobs whose creation dates are after (greater than or equal to) this\n",
      " |              local date/time.\n",
      " |          end_datetime: Filter by the given end date, in local time. This is used to\n",
      " |              find jobs whose creation dates are before (less than or equal to) this\n",
      " |              local date/time.\n",
      " |          job_tags: Filter by tags assigned to jobs.\n",
      " |          job_tags_operator: Logical operator to use when filtering by job tags. Valid\n",
      " |              values are \"AND\" and \"OR\":\n",
      " |      \n",
      " |                  * If \"AND\" is specified, then a job must have all of the tags\n",
      " |                    specified in ``job_tags`` to be included.\n",
      " |                  * If \"OR\" is specified, then a job only needs to have any\n",
      " |                    of the tags specified in ``job_tags`` to be included.\n",
      " |          descending: If ``True``, return the jobs in descending order of the job\n",
      " |              creation date (newest first). If ``False``, return in ascending order.\n",
      " |          db_filter: A `loopback-based filter\n",
      " |              <https://loopback.io/doc/en/lb2/Querying-data.html>`_.\n",
      " |              This is an interface to a database ``where`` filter. Some\n",
      " |              examples of its usage are:\n",
      " |      \n",
      " |              Filter last five jobs with errors::\n",
      " |      \n",
      " |                 job_list = backend.jobs(limit=5, status=JobStatus.ERROR)\n",
      " |      \n",
      " |              Filter last five jobs with hub name ``ibm-q``::\n",
      " |      \n",
      " |                filter = {'hubInfo.hub.name': 'ibm-q'}\n",
      " |                job_list = backend.jobs(limit=5, db_filter=filter)\n",
      " |      \n",
      " |      Returns:\n",
      " |          A list of jobs that match the criteria.\n",
      " |      \n",
      " |      Raises:\n",
      " |          IBMQBackendValueError: If a keyword value is not recognized.\n",
      " |  \n",
      " |  remaining_jobs_count(self) -> Union[int, NoneType]\n",
      " |      Return the number of remaining jobs that could be submitted to the backend.\n",
      " |      \n",
      " |      Note:\n",
      " |          The number of remaining jobs for a backend is provider\n",
      " |          specific. For example, if you have access to the same backend\n",
      " |          via different providers, the number of remaining jobs might\n",
      " |          be different for each. See :class:`BackendJobLimit<BackendJobLimit>`\n",
      " |          for the job limit information of a backend.\n",
      " |      \n",
      " |      If ``None`` is returned, there are no limits to the maximum\n",
      " |      number of active jobs you could have on the backend.\n",
      " |      \n",
      " |      Returns:\n",
      " |          The remaining number of jobs a user could submit to the backend, with\n",
      " |          this provider, before the maximum limit on active jobs is reached.\n",
      " |      \n",
      " |      Raises:\n",
      " |          IBMQBackendApiProtocolError: If an unexpected value is received from the server.\n",
      " |  \n",
      " |  reservations(self, start_datetime: Union[datetime.datetime, NoneType] = None, end_datetime: Union[datetime.datetime, NoneType] = None) -> List[qiskit.providers.ibmq.backendreservation.BackendReservation]\n",
      " |      Return backend reservations.\n",
      " |      \n",
      " |      If start_datetime and/or end_datetime is specified, reservations with\n",
      " |      time slots that overlap with the specified time window will be returned.\n",
      " |      \n",
      " |      Some of the reservation information, such as scheduling mode, is only\n",
      " |      available if you are the owner of the reservation.\n",
      " |      \n",
      " |      Args:\n",
      " |          start_datetime: Filter by the given start date/time, in local timezone.\n",
      " |          end_datetime: Filter by the given end date/time, in local timezone.\n",
      " |      \n",
      " |      Returns:\n",
      " |          A list of reservations that match the criteria.\n",
      " |  \n",
      " |  retrieve_job(self, job_id: str) -> qiskit.providers.ibmq.job.ibmqjob.IBMQJob\n",
      " |      Return a single job submitted to this backend.\n",
      " |      \n",
      " |      Args:\n",
      " |          job_id: The ID of the job to retrieve.\n",
      " |      \n",
      " |      Returns:\n",
      " |          The job with the given ID.\n",
      " |      \n",
      " |      Raises:\n",
      " |          IBMQBackendError: If job retrieval failed.\n",
      " |  \n",
      " |  status(self) -> qiskit.providers.models.backendstatus.BackendStatus\n",
      " |      Return the backend status.\n",
      " |      \n",
      " |      Returns:\n",
      " |          The status of the backend.\n",
      " |      \n",
      " |      Raises:\n",
      " |          IBMQBackendApiProtocolError: If the status for the backend cannot be formatted properly.\n",
      " |  \n",
      " |  ----------------------------------------------------------------------\n",
      " |  Methods inherited from qiskit.providers.basebackend.BaseBackend:\n",
      " |  \n",
      " |  __str__(self)\n",
      " |      Return str(self).\n",
      " |  \n",
      " |  configuration(self)\n",
      " |      Return the backend configuration.\n",
      " |      \n",
      " |      Returns:\n",
      " |          BackendConfiguration: the configuration for the backend.\n",
      " |  \n",
      " |  name(self)\n",
      " |      Return the backend name.\n",
      " |      \n",
      " |      Returns:\n",
      " |          str: the name of the backend.\n",
      " |  \n",
      " |  provider(self)\n",
      " |      Return the backend Provider.\n",
      " |      \n",
      " |      Returns:\n",
      " |          BaseProvider: the Provider responsible for the backend.\n",
      " |  \n",
      " |  version(self)\n",
      " |      Return the backend version.\n",
      " |      \n",
      " |      Returns:\n",
      " |          str: the X.X.X version of the backend.\n",
      " |  \n",
      " |  ----------------------------------------------------------------------\n",
      " |  Data descriptors inherited from qiskit.providers.basebackend.BaseBackend:\n",
      " |  \n",
      " |  __dict__\n",
      " |      dictionary for instance variables (if defined)\n",
      " |  \n",
      " |  __weakref__\n",
      " |      list of weak references to the object (if defined)\n",
      "\n"
     ]
    }
   ],
   "source": [
    "help(noisy_simulator)"
   ]
  },
  {
   "cell_type": "code",
   "execution_count": 9,
   "id": "a1bc88dd",
   "metadata": {},
   "outputs": [],
   "source": [
    "##########################################################################################\n",
    "# build and cut a circuit\n",
    "##########################################################################################\n",
    "\n",
    "#circuit, cuts = ml.build_circuit_with_cuts(circuit_type, layers, qubits, frag_num, seed)"
   ]
  },
  {
   "cell_type": "code",
   "execution_count": 10,
   "id": "50dd27e9",
   "metadata": {},
   "outputs": [
    {
     "data": {
      "image/png": "[encoded data removed]",
      "text/plain": [
       "<Figure size 989.597x385.28 with 1 Axes>"
      ]
     },
     "execution_count": 10,
     "metadata": {},
     "output_type": "execute_result"
    },
    {
     "data": {
      "image/png": "[encoded data removed]",
      "text/plain": [
       "<Figure size 989.597x385.28 with 1 Axes>"
      ]
     },
     "metadata": {},
     "output_type": "display_data"
    }
   ],
   "source": [
    "circuit.draw(output = 'mpl')"
   ]
  },
  {
   "cell_type": "code",
   "execution_count": 20,
   "id": "a0528db4",
   "metadata": {},
   "outputs": [
    {
     "data": {
      "text/plain": [
       "<qiskit.circuit.instructionset.InstructionSet at 0x7ff08a4d6990>"
      ]
     },
     "execution_count": 20,
     "metadata": {},
     "output_type": "execute_result"
    }
   ],
   "source": [
    "circuit.cz(0,3)"
   ]
  },
  {
   "cell_type": "code",
   "execution_count": 21,
   "id": "698a44f1",
   "metadata": {},
   "outputs": [
    {
     "data": {
      "text/html": [
       "<pre style=\"word-wrap: normal;white-space: pre;background: #fff0;line-height: 1.1;font-family: &quot;Courier New&quot;,Courier,monospace\">     ┌───┐                                  ┌────────────┐               »\n",
       "q_0: ┤ H ├────■──────────────■──────────────┤ RX(7.1054) ├───────────────»\n",
       "     ├───┤    │              │zz(-0.76459)  └────────────┘ ┌────────────┐»\n",
       "q_1: ┤ H ├────┼──────────────■──────────────■──────────────┤ RX(7.1054) ├»\n",
       "     ├───┤    │                             │zz(-0.76459)  └────────────┘»\n",
       "q_2: ┤ H ├────┼─────────────────────────────■──────────────■─────────────»\n",
       "     ├───┤    │zz(-0.76459)                                │zz(-0.76459) »\n",
       "q_3: ┤ H ├─■──■────────────────────────────────────────────■─────────────»\n",
       "     ├───┤ │                                                             »\n",
       "q_4: ┤ H ├─┼─────────────────────────────────────────────────────────────»\n",
       "     ├───┤ │                                                             »\n",
       "q_5: ┤ H ├─■─────────────────────────────────────────────────────────────»\n",
       "     └───┘                                                               »\n",
       "«                                                      \n",
       "«q_0: ───────────────────────────────────────────────■─\n",
       "«                                                    │ \n",
       "«q_1: ───────────────────────────────────────────────┼─\n",
       "«      ┌────────────┐                                │ \n",
       "«q_2: ─┤ RX(7.1054) ├────────────────────────────────┼─\n",
       "«      └────────────┘                 ┌────────────┐ │ \n",
       "«q_3: ─■────────────────────────────■─┤ RX(7.1054) ├─■─\n",
       "«      │zz(-0.76459) ┌────────────┐ │ └────────────┘   \n",
       "«q_4: ─■─────────────┤ RX(7.1054) ├─┼──────────────────\n",
       "«                    └────────────┘ │     ┌───┐        \n",
       "«q_5: ──────────────────────────────■─────┤ H ├────────\n",
       "«                                         └───┘        </pre>"
      ],
      "text/plain": [
       "     ┌───┐                                  ┌────────────┐               »\n",
       "q_0: ┤ H ├────■──────────────■──────────────┤ RX(7.1054) ├───────────────»\n",
       "     ├───┤    │              │zz(-0.76459)  └────────────┘ ┌────────────┐»\n",
       "q_1: ┤ H ├────┼──────────────■──────────────■──────────────┤ RX(7.1054) ├»\n",
       "     ├───┤    │                             │zz(-0.76459)  └────────────┘»\n",
       "q_2: ┤ H ├────┼─────────────────────────────■──────────────■─────────────»\n",
       "     ├───┤    │zz(-0.76459)                                │zz(-0.76459) »\n",
       "q_3: ┤ H ├─■──■────────────────────────────────────────────■─────────────»\n",
       "     ├───┤ │                                                             »\n",
       "q_4: ┤ H ├─┼─────────────────────────────────────────────────────────────»\n",
       "     ├───┤ │                                                             »\n",
       "q_5: ┤ H ├─■─────────────────────────────────────────────────────────────»\n",
       "     └───┘                                                               »\n",
       "«                                                      \n",
       "«q_0: ───────────────────────────────────────────────■─\n",
       "«                                                    │ \n",
       "«q_1: ───────────────────────────────────────────────┼─\n",
       "«      ┌────────────┐                                │ \n",
       "«q_2: ─┤ RX(7.1054) ├────────────────────────────────┼─\n",
       "«      └────────────┘                 ┌────────────┐ │ \n",
       "«q_3: ─■────────────────────────────■─┤ RX(7.1054) ├─■─\n",
       "«      │zz(-0.76459) ┌────────────┐ │ └────────────┘   \n",
       "«q_4: ─■─────────────┤ RX(7.1054) ├─┼──────────────────\n",
       "«                    └────────────┘ │     ┌───┐        \n",
       "«q_5: ──────────────────────────────■─────┤ H ├────────\n",
       "«                                         └───┘        "
      ]
     },
     "execution_count": 21,
     "metadata": {},
     "output_type": "execute_result"
    }
   ],
   "source": [
    "circuit.draw()"
   ]
  },
  {
   "cell_type": "code",
   "execution_count": 22,
   "id": "98a302a0",
   "metadata": {},
   "outputs": [
    {
     "data": {
      "text/plain": [
       "OrderedDict([('h', 7), ('rzz', 5), ('rx', 5), ('cz', 3)])"
      ]
     },
     "execution_count": 22,
     "metadata": {},
     "output_type": "execute_result"
    }
   ],
   "source": [
    "circuit.count_ops()"
   ]
  },
  {
   "cell_type": "code",
   "execution_count": 23,
   "id": "d5c57033",
   "metadata": {},
   "outputs": [
    {
     "data": {
      "text/plain": [
       "Qubit(QuantumRegister(6, 'q'), 3)"
      ]
     },
     "execution_count": 23,
     "metadata": {},
     "output_type": "execute_result"
    }
   ],
   "source": [
    "circuit.qubits[3]"
   ]
  },
  {
   "cell_type": "code",
   "execution_count": 24,
   "id": "f893040d",
   "metadata": {},
   "outputs": [],
   "source": [
    "cuts = [ (circuit.qubits[3], 1), (circuit.qubits[3], 2), (circuit.qubits[3], 5), (circuit.qubits[3], 6)]"
   ]
  },
  {
   "cell_type": "code",
   "execution_count": 25,
   "id": "4b4ef070",
   "metadata": {},
   "outputs": [
    {
     "name": "stdout",
     "output_type": "stream",
     "text": [
      "[(Qubit(QuantumRegister(6, 'q'), 3), 1), (Qubit(QuantumRegister(6, 'q'), 3), 2), (Qubit(QuantumRegister(6, 'q'), 3), 5), (Qubit(QuantumRegister(6, 'q'), 3), 6)]\n"
     ]
    }
   ],
   "source": [
    "print(cuts)"
   ]
  },
  {
   "cell_type": "code",
   "execution_count": 26,
   "id": "7aa1870b",
   "metadata": {},
   "outputs": [],
   "source": [
    "fragments, wire_path_map = circuit_cutter.cut_circuit(circuit, cuts)"
   ]
  },
  {
   "cell_type": "code",
   "execution_count": 27,
   "id": "6872220e",
   "metadata": {},
   "outputs": [
    {
     "name": "stdout",
     "output_type": "stream",
     "text": [
      "{Qubit(QuantumRegister(6, 'q'), 0): ((0, Qubit(QuantumRegister(6, 'q'), 1)),), Qubit(QuantumRegister(6, 'q'), 1): ((0, Qubit(QuantumRegister(6, 'q'), 2)),), Qubit(QuantumRegister(6, 'q'), 2): ((0, Qubit(QuantumRegister(6, 'q'), 4)),), Qubit(QuantumRegister(6, 'q'), 3): ((1, Qubit(QuantumRegister(1, 'q'), 0)), (2, Qubit(QuantumRegister(3, 'q'), 1)), (0, Qubit(QuantumRegister(6, 'q'), 5)), (2, Qubit(QuantumRegister(3, 'q'), 2)), (0, Qubit(QuantumRegister(6, 'q'), 3))), Qubit(QuantumRegister(6, 'q'), 4): ((0, Qubit(QuantumRegister(6, 'q'), 0)),), Qubit(QuantumRegister(6, 'q'), 5): ((2, Qubit(QuantumRegister(3, 'q'), 0)),)}\n"
     ]
    }
   ],
   "source": [
    "print(wire_path_map)"
   ]
  },
  {
   "cell_type": "code",
   "execution_count": 28,
   "id": "dd8a5b10",
   "metadata": {},
   "outputs": [],
   "source": [
    "total_variants = ml.fragment_variants(wire_path_map)"
   ]
  },
  {
   "cell_type": "code",
   "execution_count": 29,
   "id": "8600221e",
   "metadata": {},
   "outputs": [
    {
     "name": "stdout",
     "output_type": "stream",
     "text": [
      "total circuit:\n",
      "     ┌───┐                                  ┌────────────┐               »\n",
      "q_0: ┤ H ├────■──────────────■──────────────┤ RX(7.1054) ├───────────────»\n",
      "     ├───┤    │              │zz(-0.76459)  └────────────┘ ┌────────────┐»\n",
      "q_1: ┤ H ├────┼──────────────■──────────────■──────────────┤ RX(7.1054) ├»\n",
      "     ├───┤    │                             │zz(-0.76459)  └────────────┘»\n",
      "q_2: ┤ H ├────┼─────────────────────────────■──────────────■─────────────»\n",
      "     ├───┤    │zz(-0.76459)                                │zz(-0.76459) »\n",
      "q_3: ┤ H ├─■──■────────────────────────────────────────────■─────────────»\n",
      "     ├───┤ │                                                             »\n",
      "q_4: ┤ H ├─┼─────────────────────────────────────────────────────────────»\n",
      "     ├───┤ │                                                             »\n",
      "q_5: ┤ H ├─■─────────────────────────────────────────────────────────────»\n",
      "     └───┘                                                               »\n",
      "«                                                      \n",
      "«q_0: ───────────────────────────────────────────────■─\n",
      "«                                                    │ \n",
      "«q_1: ───────────────────────────────────────────────┼─\n",
      "«      ┌────────────┐                                │ \n",
      "«q_2: ─┤ RX(7.1054) ├────────────────────────────────┼─\n",
      "«      └────────────┘                 ┌────────────┐ │ \n",
      "«q_3: ─■────────────────────────────■─┤ RX(7.1054) ├─■─\n",
      "«      │zz(-0.76459) ┌────────────┐ │ └────────────┘   \n",
      "«q_4: ─■─────────────┤ RX(7.1054) ├─┼──────────────────\n",
      "«                    └────────────┘ │     ┌───┐        \n",
      "«q_5: ──────────────────────────────■─────┤ H ├────────\n",
      "«                                         └───┘        \n",
      "cuts:\n",
      " (Qubit(QuantumRegister(6, 'q'), 3), 1)\n",
      " (Qubit(QuantumRegister(6, 'q'), 3), 2)\n",
      " (Qubit(QuantumRegister(6, 'q'), 3), 5)\n",
      " (Qubit(QuantumRegister(6, 'q'), 3), 6)\n",
      "\n",
      "fragment 0:\n",
      "         ┌───┐                                                                 »\n",
      "q_0: ────┤ H ├─────────────────────────────────────────────────────────────────»\n",
      "         ├───┤                                    ┌────────────┐               »\n",
      "q_1: ────┤ H ├──────■──────────────■──────────────┤ RX(7.1054) ├───────■───────»\n",
      "         ├───┤      │              │zz(-0.76459)  └────────────┘       │       »\n",
      "q_2: ────┤ H ├──────┼──────────────■──────────────■────────────────────┼───────»\n",
      "     ┌───┴───┴────┐ │                             │                    │       »\n",
      "q_3: ┤ RX(7.1054) ├─┼─────────────────────────────┼────────────────────■───────»\n",
      "     └───┬───┬────┘ │                             │zz(-0.76459)                »\n",
      "q_4: ────┤ H ├──────┼─────────────────────────────■──────────────■─────────────»\n",
      "         └───┘      │zz(-0.76459)                                │zz(-0.76459) »\n",
      "q_5: ───────────────■────────────────────────────────────────────■─────────────»\n",
      "                                                                               »\n",
      "«                                  ┌────────────┐\n",
      "«q_0: ───────────────■─────────────┤ RX(7.1054) ├\n",
      "«                    │             └────────────┘\n",
      "«q_1: ───────────────┼───────────────────────────\n",
      "«     ┌────────────┐ │                           \n",
      "«q_2: ┤ RX(7.1054) ├─┼───────────────────────────\n",
      "«     └────────────┘ │                           \n",
      "«q_3: ───────────────┼───────────────────────────\n",
      "«     ┌────────────┐ │                           \n",
      "«q_4: ┤ RX(7.1054) ├─┼───────────────────────────\n",
      "«     └────────────┘ │zz(-0.76459)               \n",
      "«q_5: ───────────────■───────────────────────────\n",
      "«                                                \n",
      "\n",
      "fragment 1:\n",
      "     ┌───┐\n",
      "q_0: ┤ H ├\n",
      "     └───┘\n",
      "\n",
      "fragment 2:\n",
      "     ┌───┐      ┌───┐\n",
      "q_0: ┤ H ├─■──■─┤ H ├\n",
      "     └───┘ │  │ └───┘\n",
      "q_1: ──────■──┼──────\n",
      "              │      \n",
      "q_2: ─────────■──────\n",
      "                     \n",
      "\n",
      "fragment_index, prep_cuts, meas_cuts:\n",
      "0 2 1\n",
      "1 0 1\n",
      "2 2 2\n",
      "\n",
      "total number of fragment variants: 195\n",
      "total number of shots: 196560\n",
      "\n"
     ]
    }
   ],
   "source": [
    "if print_circuits:\n",
    "    print(\"total circuit:\")\n",
    "    print(circuit)\n",
    "    print(\"cuts:\")\n",
    "    for cut in cuts:\n",
    "        print(\"\",cut)\n",
    "    print()\n",
    "    for idx, fragment in enumerate(fragments):\n",
    "        print(f\"fragment {idx}:\")\n",
    "        print(fragment)\n",
    "        print()\n",
    "    fragment_cuts = ml.fragment_cuts(wire_path_map)\n",
    "    print(\"fragment_index, prep_cuts, meas_cuts:\")\n",
    "    for frag_idx, frag_cuts in enumerate(fragment_cuts):\n",
    "        print(frag_idx, frag_cuts[\"prep\"], frag_cuts[\"meas\"])\n",
    "    print()\n",
    "    print(\"total number of fragment variants:\", total_variants)\n",
    "    print(\"total number of shots:\", ( shots // total_variants ) * total_variants)\n",
    "    print()"
   ]
  },
  {
   "cell_type": "code",
   "execution_count": 19,
   "id": "956041cd",
   "metadata": {},
   "outputs": [
    {
     "name": "stdout",
     "output_type": "stream",
     "text": [
      "[{'prep': 1, 'meas': 1}, {'prep': 1, 'meas': 1}]\n"
     ]
    }
   ],
   "source": [
    "print(fragment_cuts)"
   ]
  },
  {
   "cell_type": "code",
   "execution_count": 20,
   "id": "398d7b33",
   "metadata": {},
   "outputs": [],
   "source": [
    "# list of all possible measurement outcomes (bitstrings)\n",
    "all_bits = [ \"\".join(bits) for bits in itertools.product([\"0\",\"1\"], repeat = qubits) ]"
   ]
  },
  {
   "cell_type": "code",
   "execution_count": 21,
   "id": "05e2a6c7",
   "metadata": {},
   "outputs": [
    {
     "name": "stdout",
     "output_type": "stream",
     "text": [
      "['000000', '000001', '000010', '000011', '000100', '000101', '000110', '000111', '001000', '001001', '001010', '001011', '001100', '001101', '001110', '001111', '010000', '010001', '010010', '010011', '010100', '010101', '010110', '010111', '011000', '011001', '011010', '011011', '011100', '011101', '011110', '011111', '100000', '100001', '100010', '100011', '100100', '100101', '100110', '100111', '101000', '101001', '101010', '101011', '101100', '101101', '101110', '101111', '110000', '110001', '110010', '110011', '110100', '110101', '110110', '110111', '111000', '111001', '111010', '111011', '111100', '111101', '111110', '111111']\n"
     ]
    }
   ],
   "source": [
    "print(all_bits)"
   ]
  },
  {
   "cell_type": "code",
   "execution_count": 22,
   "id": "991f5ee3",
   "metadata": {},
   "outputs": [],
   "source": [
    "# get the actual state / probability distribution for the full circuit\n",
    "actual_state = ml.get_statevector(circuit)\n",
    "actual_dist = { \"\".join(bits) : abs(amp)**2\n",
    "                for bits, amp in zip(all_bits, actual_state)\n",
    "                if amp != 0 }\n",
    "\n",
    "# get a simulated probability distribution for the full circuit\n",
    "circuit.measure_all()\n",
    "full_circuit_result = ml.run_circuits(circuit, shots, backend = simulation_backend)\n",
    "full_circuit_dist = {}\n",
    "for part in full_circuit_result:\n",
    "    for bits, counts in part.get_counts(circuit).items():\n",
    "        if bits not in full_circuit_dist:\n",
    "            full_circuit_dist[bits] = 0\n",
    "        full_circuit_dist[bits] += counts / shots"
   ]
  },
  {
   "cell_type": "code",
   "execution_count": 23,
   "id": "fa3f14dd",
   "metadata": {},
   "outputs": [
    {
     "data": {
      "text/html": [
       "<pre style=\"word-wrap: normal;white-space: pre;background: #fff0;line-height: 1.1;font-family: &quot;Courier New&quot;,Courier,monospace\">        ┌───┐                                  ┌────────────┐               »\n",
       "   q_0: ┤ H ├────■──────────────■──────────────┤ RX(7.1054) ├───────────────»\n",
       "        ├───┤    │              │zz(-0.76459)  └────────────┘ ┌────────────┐»\n",
       "   q_1: ┤ H ├────┼──────────────■──────────────■──────────────┤ RX(7.1054) ├»\n",
       "        ├───┤    │                             │zz(-0.76459)  └────────────┘»\n",
       "   q_2: ┤ H ├────┼─────────────────────────────■──────────────■─────────────»\n",
       "        ├───┤    │zz(-0.76459)                                │zz(-0.76459) »\n",
       "   q_3: ┤ H ├─■──■────────────────────────────────────────────■─────────────»\n",
       "        ├───┤ │                                                             »\n",
       "   q_4: ┤ H ├─┼─────────────────────────────────────────────────────────────»\n",
       "        ├───┤ │                                                             »\n",
       "   q_5: ┤ H ├─■─────────────────────────────────────────────────────────────»\n",
       "        └───┘                                                               »\n",
       "meas: 6/════════════════════════════════════════════════════════════════════»\n",
       "                                                                            »\n",
       "«                                                       ░ ┌─┐               \n",
       "«   q_0: ───────────────────────────────────────────────░─┤M├───────────────\n",
       "«                                                       ░ └╥┘┌─┐            \n",
       "«   q_1: ───────────────────────────────────────────────░──╫─┤M├────────────\n",
       "«         ┌────────────┐                                ░  ║ └╥┘┌─┐         \n",
       "«   q_2: ─┤ RX(7.1054) ├────────────────────────────────░──╫──╫─┤M├─────────\n",
       "«         └────────────┘                 ┌────────────┐ ░  ║  ║ └╥┘┌─┐      \n",
       "«   q_3: ─■────────────────────────────■─┤ RX(7.1054) ├─░──╫──╫──╫─┤M├──────\n",
       "«         │zz(-0.76459) ┌────────────┐ │ └────────────┘ ░  ║  ║  ║ └╥┘┌─┐   \n",
       "«   q_4: ─■─────────────┤ RX(7.1054) ├─┼────────────────░──╫──╫──╫──╫─┤M├───\n",
       "«                       └────────────┘ │     ┌───┐      ░  ║  ║  ║  ║ └╥┘┌─┐\n",
       "«   q_5: ──────────────────────────────■─────┤ H ├──────░──╫──╫──╫──╫──╫─┤M├\n",
       "«                                            └───┘      ░  ║  ║  ║  ║  ║ └╥┘\n",
       "«meas: 6/══════════════════════════════════════════════════╩══╩══╩══╩══╩══╩═\n",
       "«                                                          0  1  2  3  4  5 </pre>"
      ],
      "text/plain": [
       "        ┌───┐                                  ┌────────────┐               »\n",
       "   q_0: ┤ H ├────■──────────────■──────────────┤ RX(7.1054) ├───────────────»\n",
       "        ├───┤    │              │zz(-0.76459)  └────────────┘ ┌────────────┐»\n",
       "   q_1: ┤ H ├────┼──────────────■──────────────■──────────────┤ RX(7.1054) ├»\n",
       "        ├───┤    │                             │zz(-0.76459)  └────────────┘»\n",
       "   q_2: ┤ H ├────┼─────────────────────────────■──────────────■─────────────»\n",
       "        ├───┤    │zz(-0.76459)                                │zz(-0.76459) »\n",
       "   q_3: ┤ H ├─■──■────────────────────────────────────────────■─────────────»\n",
       "        ├───┤ │                                                             »\n",
       "   q_4: ┤ H ├─┼─────────────────────────────────────────────────────────────»\n",
       "        ├───┤ │                                                             »\n",
       "   q_5: ┤ H ├─■─────────────────────────────────────────────────────────────»\n",
       "        └───┘                                                               »\n",
       "meas: 6/════════════════════════════════════════════════════════════════════»\n",
       "                                                                            »\n",
       "«                                                       ░ ┌─┐               \n",
       "«   q_0: ───────────────────────────────────────────────░─┤M├───────────────\n",
       "«                                                       ░ └╥┘┌─┐            \n",
       "«   q_1: ───────────────────────────────────────────────░──╫─┤M├────────────\n",
       "«         ┌────────────┐                                ░  ║ └╥┘┌─┐         \n",
       "«   q_2: ─┤ RX(7.1054) ├────────────────────────────────░──╫──╫─┤M├─────────\n",
       "«         └────────────┘                 ┌────────────┐ ░  ║  ║ └╥┘┌─┐      \n",
       "«   q_3: ─■────────────────────────────■─┤ RX(7.1054) ├─░──╫──╫──╫─┤M├──────\n",
       "«         │zz(-0.76459) ┌────────────┐ │ └────────────┘ ░  ║  ║  ║ └╥┘┌─┐   \n",
       "«   q_4: ─■─────────────┤ RX(7.1054) ├─┼────────────────░──╫──╫──╫──╫─┤M├───\n",
       "«                       └────────────┘ │     ┌───┐      ░  ║  ║  ║  ║ └╥┘┌─┐\n",
       "«   q_5: ──────────────────────────────■─────┤ H ├──────░──╫──╫──╫──╫──╫─┤M├\n",
       "«                                            └───┘      ░  ║  ║  ║  ║  ║ └╥┘\n",
       "«meas: 6/══════════════════════════════════════════════════╩══╩══╩══╩══╩══╩═\n",
       "«                                                          0  1  2  3  4  5 "
      ]
     },
     "execution_count": 23,
     "metadata": {},
     "output_type": "execute_result"
    }
   ],
   "source": [
    "circuit.draw()"
   ]
  },
  {
   "cell_type": "code",
   "execution_count": 24,
   "id": "7e93e1dc",
   "metadata": {},
   "outputs": [
    {
     "data": {
      "text/plain": [
       "{Qubit(QuantumRegister(6, 'q'), 0): ((0, Qubit(QuantumRegister(5, 'q'), 0)),),\n",
       " Qubit(QuantumRegister(6, 'q'), 1): ((0, Qubit(QuantumRegister(5, 'q'), 1)),),\n",
       " Qubit(QuantumRegister(6, 'q'), 2): ((0, Qubit(QuantumRegister(5, 'q'), 3)),),\n",
       " Qubit(QuantumRegister(6, 'q'), 3): ((1, Qubit(QuantumRegister(3, 'q'), 1)),\n",
       "  (0, Qubit(QuantumRegister(5, 'q'), 4)),\n",
       "  (1, Qubit(QuantumRegister(3, 'q'), 2))),\n",
       " Qubit(QuantumRegister(6, 'q'), 4): ((0, Qubit(QuantumRegister(5, 'q'), 2)),),\n",
       " Qubit(QuantumRegister(6, 'q'), 5): ((1, Qubit(QuantumRegister(3, 'q'), 0)),)}"
      ]
     },
     "execution_count": 24,
     "metadata": {},
     "output_type": "execute_result"
    }
   ],
   "source": [
    "wire_path_map"
   ]
  },
  {
   "cell_type": "code",
   "execution_count": 25,
   "id": "6a5762e7",
   "metadata": {},
   "outputs": [],
   "source": [
    "orign_qc = QuantumCircuit.from_qasm_file(\"QAOA5q.qasm\")"
   ]
  },
  {
   "cell_type": "code",
   "execution_count": 26,
   "id": "c3eb407d",
   "metadata": {},
   "outputs": [
    {
     "data": {
      "text/html": [
       "<pre style=\"word-wrap: normal;white-space: pre;background: #fff0;line-height: 1.1;font-family: &quot;Courier New&quot;,Courier,monospace\">        ┌───┐                               ┌────────────┐               »\n",
       "   q_0: ┤ H ├─■──────────────■──────────────┤ RX(7.1054) ├───────────────»\n",
       "        ├───┤ │              │zz(-0.76459)  └────────────┘ ┌────────────┐»\n",
       "   q_1: ┤ H ├─┼──────────────■──────────────■──────────────┤ RX(7.1054) ├»\n",
       "        ├───┤ │                             │zz(-0.76459)  └────────────┘»\n",
       "   q_2: ┤ H ├─┼─────────────────────────────■──────────────■─────────────»\n",
       "        ├───┤ │zz(-0.76459)                                │zz(-0.76459) »\n",
       "   q_3: ┤ H ├─■────────────────────────────────────────────■─────────────»\n",
       "        ├───┤                                                            »\n",
       "   q_4: ┤ H ├────────────────────────────────────────────────────────────»\n",
       "        └───┘                                                            »\n",
       "meas: 5/═════════════════════════════════════════════════════════════════»\n",
       "                                                                         »\n",
       "«                                      ░ ┌─┐            \n",
       "«   q_0: ──────────────────────────────░─┤M├────────────\n",
       "«                                      ░ └╥┘┌─┐         \n",
       "«   q_1: ──────────────────────────────░──╫─┤M├─────────\n",
       "«         ┌────────────┐               ░  ║ └╥┘┌─┐      \n",
       "«   q_2: ─┤ RX(7.1054) ├───────────────░──╫──╫─┤M├──────\n",
       "«         └────────────┘┌────────────┐ ░  ║  ║ └╥┘┌─┐   \n",
       "«   q_3: ─■─────────────┤ RX(7.1054) ├─░──╫──╫──╫─┤M├───\n",
       "«         │zz(-0.76459) ├────────────┤ ░  ║  ║  ║ └╥┘┌─┐\n",
       "«   q_4: ─■─────────────┤ RX(7.1054) ├─░──╫──╫──╫──╫─┤M├\n",
       "«                       └────────────┘ ░  ║  ║  ║  ║ └╥┘\n",
       "«meas: 5/═════════════════════════════════╩══╩══╩══╩══╩═\n",
       "«                                         0  1  2  3  4 </pre>"
      ],
      "text/plain": [
       "        ┌───┐                               ┌────────────┐               »\n",
       "   q_0: ┤ H ├─■──────────────■──────────────┤ RX(7.1054) ├───────────────»\n",
       "        ├───┤ │              │zz(-0.76459)  └────────────┘ ┌────────────┐»\n",
       "   q_1: ┤ H ├─┼──────────────■──────────────■──────────────┤ RX(7.1054) ├»\n",
       "        ├───┤ │                             │zz(-0.76459)  └────────────┘»\n",
       "   q_2: ┤ H ├─┼─────────────────────────────■──────────────■─────────────»\n",
       "        ├───┤ │zz(-0.76459)                                │zz(-0.76459) »\n",
       "   q_3: ┤ H ├─■────────────────────────────────────────────■─────────────»\n",
       "        ├───┤                                                            »\n",
       "   q_4: ┤ H ├────────────────────────────────────────────────────────────»\n",
       "        └───┘                                                            »\n",
       "meas: 5/═════════════════════════════════════════════════════════════════»\n",
       "                                                                         »\n",
       "«                                      ░ ┌─┐            \n",
       "«   q_0: ──────────────────────────────░─┤M├────────────\n",
       "«                                      ░ └╥┘┌─┐         \n",
       "«   q_1: ──────────────────────────────░──╫─┤M├─────────\n",
       "«         ┌────────────┐               ░  ║ └╥┘┌─┐      \n",
       "«   q_2: ─┤ RX(7.1054) ├───────────────░──╫──╫─┤M├──────\n",
       "«         └────────────┘┌────────────┐ ░  ║  ║ └╥┘┌─┐   \n",
       "«   q_3: ─■─────────────┤ RX(7.1054) ├─░──╫──╫──╫─┤M├───\n",
       "«         │zz(-0.76459) ├────────────┤ ░  ║  ║  ║ └╥┘┌─┐\n",
       "«   q_4: ─■─────────────┤ RX(7.1054) ├─░──╫──╫──╫──╫─┤M├\n",
       "«                       └────────────┘ ░  ║  ║  ║  ║ └╥┘\n",
       "«meas: 5/═════════════════════════════════╩══╩══╩══╩══╩═\n",
       "«                                         0  1  2  3  4 "
      ]
     },
     "execution_count": 26,
     "metadata": {},
     "output_type": "execute_result"
    }
   ],
   "source": [
    "orign_qc.draw()"
   ]
  },
  {
   "cell_type": "code",
   "execution_count": 28,
   "id": "d362ad42",
   "metadata": {},
   "outputs": [
    {
     "name": "stdout",
     "output_type": "stream",
     "text": [
      "Job Status: job has successfully run\n"
     ]
    }
   ],
   "source": [
    "##########################################################################################\n",
    "# simulate fragments and recombine results to reconstruct the outputs of the full circuit\n",
    "##########################################################################################\n",
    "\n",
    "# simulate fragments, build fragment models, and recombine fragment models\n",
    "frag_data0 = ml.collect_fragment_raw_data(fragments[0], 0, wire_path_map,\n",
    "                                     shots = shots // total_variants,\n",
    "                                     tomography_backend = simulation_backend, opt_lvl = 3, extra_qc = None, noise_model = noise_model)"
   ]
  },
  {
   "cell_type": "code",
   "execution_count": 29,
   "id": "6bbeed13",
   "metadata": {},
   "outputs": [
    {
     "name": "stdout",
     "output_type": "stream",
     "text": [
      "[[Result(backend_name='qasm_simulator', backend_version='0.7.2', qobj_id='ce84cb0a-cf7b-4827-981d-c20720b1a2d2', job_id='096fef03-4dea-4d26-a30d-ff3fe5c14486', success=True, results=[ExperimentResult(shots=8192, success=True, meas_level=MeasLevel.CLASSIFIED, data=ExperimentResultData(counts={'0x0': 36, '0x1': 123, '0x11': 4, '0x12': 4, '0x13': 8, '0x14': 2, '0x15': 1, '0x16': 4, '0x17': 13, '0x19': 5, '0x1a': 3, '0x1b': 3, '0x1c': 1, '0x1d': 23, '0x1e': 12, '0x1f': 4, '0x2': 284, '0x3': 317, '0x4': 93, '0x5': 285, '0x6': 752, '0x7': 870, '0x8': 111, '0x9': 894, '0xa': 373, '0xb': 158, '0xc': 241, '0xd': 2294, '0xe': 863, '0xf': 411}), header=QobjExperimentHeader(clbit_labels=[['c1', 0], ['c1', 1], ['c1', 2], ['c1', 3], ['c1', 4]], creg_sizes=[['c1', 5]], global_phase=0.0, memory_slots=5, n_qubits=5, name=\"(('S0', 'S0', 'S0', 'S0', 'S0'), ('Z', 'Z', 'Z', 'Z', 'Z'))\", qreg_sizes=[['q', 5]], qubit_labels=[['q', 0], ['q', 1], ['q', 2], ['q', 3], ['q', 4]]), status=DONE, seed_simulator=3323927411, time_taken=0.051386748, metadata={'fusion': {'applied': False, 'enabled': True, 'method': 'unitary', 'threshold': 7}, 'measure_sampling': True, 'method': 'density_matrix', 'parallel_shots': 1, 'parallel_state_update': 8}), ExperimentResult(shots=8192, success=True, meas_level=MeasLevel.CLASSIFIED, data=ExperimentResultData(counts={'0x0': 20, '0x1': 57, '0x10': 17, '0x11': 61, '0x12': 150, '0x13': 183, '0x14': 55, '0x15': 123, '0x16': 400, '0x17': 446, '0x18': 50, '0x19': 455, '0x1a': 191, '0x1b': 68, '0x1c': 100, '0x1d': 1091, '0x1e': 444, '0x1f': 188, '0x2': 149, '0x3': 164, '0x4': 38, '0x5': 158, '0x6': 413, '0x7': 457, '0x8': 46, '0x9': 451, '0xa': 190, '0xb': 92, '0xc': 128, '0xd': 1177, '0xe': 443, '0xf': 187}), header=QobjExperimentHeader(clbit_labels=[['c1', 0], ['c1', 1], ['c1', 2], ['c1', 3], ['c1', 4]], creg_sizes=[['c1', 5]], global_phase=0.0, memory_slots=5, n_qubits=5, name=\"(('S0', 'S0', 'S0', 'S0', 'S0'), ('Z', 'Z', 'Z', 'Z', 'X'))\", qreg_sizes=[['q', 5]], qubit_labels=[['q', 0], ['q', 1], ['q', 2], ['q', 3], ['q', 4]]), status=DONE, seed_simulator=326159775, time_taken=0.041806981, metadata={'fusion': {'applied': False, 'enabled': True, 'method': 'unitary', 'threshold': 7}, 'measure_sampling': True, 'method': 'density_matrix', 'parallel_shots': 1, 'parallel_state_update': 8}), ExperimentResult(shots=8192, success=True, meas_level=MeasLevel.CLASSIFIED, data=ExperimentResultData(counts={'0x0': 22, '0x1': 62, '0x10': 14, '0x11': 45, '0x12': 147, '0x13': 174, '0x14': 49, '0x15': 136, '0x16': 349, '0x17': 420, '0x18': 63, '0x19': 441, '0x1a': 179, '0x1b': 76, '0x1c': 113, '0x1d': 1133, '0x1e': 425, '0x1f': 175, '0x2': 154, '0x3': 202, '0x4': 42, '0x5': 143, '0x6': 374, '0x7': 459, '0x8': 54, '0x9': 459, '0xa': 174, '0xb': 78, '0xc': 133, '0xd': 1208, '0xe': 483, '0xf': 206}), header=QobjExperimentHeader(clbit_labels=[['c1', 0], ['c1', 1], ['c1', 2], ['c1', 3], ['c1', 4]], creg_sizes=[['c1', 5]], global_phase=0.0, memory_slots=5, n_qubits=5, name=\"(('S0', 'S0', 'S0', 'S0', 'S0'), ('Z', 'Z', 'Z', 'Z', 'Y'))\", qreg_sizes=[['q', 5]], qubit_labels=[['q', 0], ['q', 1], ['q', 2], ['q', 3], ['q', 4]]), status=DONE, seed_simulator=1295099493, time_taken=0.038211385, metadata={'fusion': {'applied': False, 'enabled': True, 'method': 'unitary', 'threshold': 7}, 'measure_sampling': True, 'method': 'density_matrix', 'parallel_shots': 1, 'parallel_state_update': 8}), ExperimentResult(shots=8192, success=True, meas_level=MeasLevel.CLASSIFIED, data=ExperimentResultData(counts={'0x0': 15, '0x1': 61, '0x10': 337, '0x11': 556, '0x12': 1655, '0x13': 121, '0x14': 104, '0x15': 198, '0x16': 598, '0x17': 56, '0x18': 601, '0x19': 461, '0x1a': 131, '0x1b': 64, '0x1c': 181, '0x1d': 166, '0x1e': 40, '0x1f': 26, '0x2': 178, '0x3': 128, '0x4': 43, '0x5': 111, '0x6': 266, '0x7': 289, '0x8': 61, '0x9': 326, '0xa': 105, '0xb': 51, '0xc': 76, '0xd': 740, '0xe': 312, '0xf': 135}), header=QobjExperimentHeader(clbit_labels=[['c1', 0], ['c1', 1], ['c1', 2], ['c1', 3], ['c1', 4]], creg_sizes=[['c1', 5]], global_phase=0.0, memory_slots=5, n_qubits=5, name=\"(('S0', 'S0', 'S0', 'S0', 'S1'), ('Z', 'Z', 'Z', 'Z', 'Z'))\", qreg_sizes=[['q', 5]], qubit_labels=[['q', 0], ['q', 1], ['q', 2], ['q', 3], ['q', 4]]), status=DONE, seed_simulator=891639777, time_taken=0.039974717, metadata={'fusion': {'applied': False, 'enabled': True, 'method': 'unitary', 'threshold': 7}, 'measure_sampling': True, 'method': 'density_matrix', 'parallel_shots': 1, 'parallel_state_update': 8}), ExperimentResult(shots=8192, success=True, meas_level=MeasLevel.CLASSIFIED, data=ExperimentResultData(counts={'0x0': 184, '0x1': 445, '0x10': 128, '0x11': 238, '0x12': 851, '0x13': 31, '0x14': 63, '0x15': 53, '0x16': 103, '0x17': 116, '0x18': 254, '0x19': 71, '0x1a': 29, '0x1b': 51, '0x1c': 63, '0x1d': 433, '0x1e': 108, '0x1f': 34, '0x2': 995, '0x3': 200, '0x4': 76, '0x5': 234, '0x6': 738, '0x7': 244, '0x8': 410, '0x9': 709, '0xa': 231, '0xb': 50, '0xc': 244, '0xd': 479, '0xe': 238, '0xf': 89}), header=QobjExperimentHeader(clbit_labels=[['c1', 0], ['c1', 1], ['c1', 2], ['c1', 3], ['c1', 4]], creg_sizes=[['c1', 5]], global_phase=0.0, memory_slots=5, n_qubits=5, name=\"(('S0', 'S0', 'S0', 'S0', 'S1'), ('Z', 'Z', 'Z', 'Z', 'X'))\", qreg_sizes=[['q', 5]], qubit_labels=[['q', 0], ['q', 1], ['q', 2], ['q', 3], ['q', 4]]), status=DONE, seed_simulator=2927574414, time_taken=0.039004803000000005, metadata={'fusion': {'applied': False, 'enabled': True, 'method': 'unitary', 'threshold': 7}, 'measure_sampling': True, 'method': 'density_matrix', 'parallel_shots': 1, 'parallel_state_update': 8}), ExperimentResult(shots=8192, success=True, meas_level=MeasLevel.CLASSIFIED, data=ExperimentResultData(counts={'0x0': 199, '0x1': 299, '0x10': 174, '0x11': 349, '0x12': 1259, '0x13': 161, '0x14': 43, '0x15': 119, '0x16': 513, '0x17': 96, '0x18': 362, '0x19': 289, '0x1a': 146, '0x1b': 68, '0x1c': 81, '0x1d': 120, '0x1e': 113, '0x1f': 80, '0x2': 564, '0x3': 94, '0x4': 111, '0x5': 220, '0x6': 316, '0x7': 247, '0x8': 251, '0x9': 493, '0xa': 104, '0xb': 31, '0xc': 192, '0xd': 809, '0xe': 222, '0xf': 67}), header=QobjExperimentHeader(clbit_labels=[['c1', 0], ['c1', 1], ['c1', 2], ['c1', 3], ['c1', 4]], creg_sizes=[['c1', 5]], global_phase=0.0, memory_slots=5, n_qubits=5, name=\"(('S0', 'S0', 'S0', 'S0', 'S1'), ('Z', 'Z', 'Z', 'Z', 'Y'))\", qreg_sizes=[['q', 5]], qubit_labels=[['q', 0], ['q', 1], ['q', 2], ['q', 3], ['q', 4]]), status=DONE, seed_simulator=3656169796, time_taken=0.037750326, metadata={'fusion': {'applied': False, 'enabled': True, 'method': 'unitary', 'threshold': 7}, 'measure_sampling': True, 'method': 'density_matrix', 'parallel_shots': 1, 'parallel_state_update': 8}), ExperimentResult(shots=8192, success=True, meas_level=MeasLevel.CLASSIFIED, data=ExperimentResultData(counts={'0x0': 25, '0x1': 61, '0x10': 339, '0x11': 605, '0x12': 1654, '0x13': 139, '0x14': 109, '0x15': 219, '0x16': 553, '0x17': 47, '0x18': 586, '0x19': 464, '0x1a': 143, '0x1b': 43, '0x1c': 189, '0x1d': 148, '0x1e': 46, '0x1f': 19, '0x2': 172, '0x3': 107, '0x4': 26, '0x5': 94, '0x6': 284, '0x7': 286, '0x8': 55, '0x9': 332, '0xa': 129, '0xb': 46, '0xc': 80, '0xd': 760, '0xe': 306, '0xf': 126}), header=QobjExperimentHeader(clbit_labels=[['c1', 0], ['c1', 1], ['c1', 2], ['c1', 3], ['c1', 4]], creg_sizes=[['c1', 5]], global_phase=0.0, memory_slots=5, n_qubits=5, name=\"(('S0', 'S0', 'S0', 'S0', 'S2'), ('Z', 'Z', 'Z', 'Z', 'Z'))\", qreg_sizes=[['q', 5]], qubit_labels=[['q', 0], ['q', 1], ['q', 2], ['q', 3], ['q', 4]]), status=DONE, seed_simulator=1164440343, time_taken=0.039617288, metadata={'fusion': {'applied': False, 'enabled': True, 'method': 'unitary', 'threshold': 7}, 'measure_sampling': True, 'method': 'density_matrix', 'parallel_shots': 1, 'parallel_state_update': 8}), ExperimentResult(shots=8192, success=True, meas_level=MeasLevel.CLASSIFIED, data=ExperimentResultData(counts={'0x0': 165, '0x1': 255, '0x10': 170, '0x11': 412, '0x12': 1250, '0x13': 192, '0x14': 43, '0x15': 141, '0x16': 678, '0x17': 153, '0x18': 438, '0x19': 379, '0x1a': 197, '0x1b': 79, '0x1c': 122, '0x1d': 180, '0x1e': 147, '0x1f': 94, '0x2': 589, '0x3': 61, '0x4': 76, '0x5': 158, '0x6': 185, '0x7': 153, '0x8': 233, '0x9': 416, '0xa': 44, '0xb': 22, '0xc': 154, '0xd': 735, '0xe': 208, '0xf': 63}), header=QobjExperimentHeader(clbit_labels=[['c1', 0], ['c1', 1], ['c1', 2], ['c1', 3], ['c1', 4]], creg_sizes=[['c1', 5]], global_phase=0.0, memory_slots=5, n_qubits=5, name=\"(('S0', 'S0', 'S0', 'S0', 'S2'), ('Z', 'Z', 'Z', 'Z', 'X'))\", qreg_sizes=[['q', 5]], qubit_labels=[['q', 0], ['q', 1], ['q', 2], ['q', 3], ['q', 4]]), status=DONE, seed_simulator=604611969, time_taken=0.049538427, metadata={'fusion': {'applied': False, 'enabled': True, 'method': 'unitary', 'threshold': 7}, 'measure_sampling': True, 'method': 'density_matrix', 'parallel_shots': 1, 'parallel_state_update': 8}), ExperimentResult(shots=8192, success=True, meas_level=MeasLevel.CLASSIFIED, data=ExperimentResultData(counts={'0x0': 156, '0x1': 317, '0x10': 183, '0x11': 364, '0x12': 757, '0x13': 177, '0x14': 83, '0x15': 265, '0x16': 582, '0x17': 231, '0x18': 344, '0x19': 749, '0x1a': 185, '0x1b': 36, '0x1c': 214, '0x1d': 642, '0x1e': 250, '0x1f': 94, '0x2': 1067, '0x3': 64, '0x4': 62, '0x5': 48, '0x6': 202, '0x7': 92, '0x8': 308, '0x9': 77, '0xa': 73, '0xb': 77, '0xc': 57, '0xd': 295, '0xe': 77, '0xf': 64}), header=QobjExperimentHeader(clbit_labels=[['c1', 0], ['c1', 1], ['c1', 2], ['c1', 3], ['c1', 4]], creg_sizes=[['c1', 5]], global_phase=0.0, memory_slots=5, n_qubits=5, name=\"(('S0', 'S0', 'S0', 'S0', 'S2'), ('Z', 'Z', 'Z', 'Z', 'Y'))\", qreg_sizes=[['q', 5]], qubit_labels=[['q', 0], ['q', 1], ['q', 2], ['q', 3], ['q', 4]]), status=DONE, seed_simulator=2981682783, time_taken=0.046523564, metadata={'fusion': {'applied': False, 'enabled': True, 'method': 'unitary', 'threshold': 7}, 'measure_sampling': True, 'method': 'density_matrix', 'parallel_shots': 1, 'parallel_state_update': 8}), ExperimentResult(shots=8192, success=True, meas_level=MeasLevel.CLASSIFIED, data=ExperimentResultData(counts={'0x0': 25, '0x1': 74, '0x10': 333, '0x11': 600, '0x12': 1662, '0x13': 131, '0x14': 117, '0x15': 194, '0x16': 549, '0x17': 48, '0x18': 639, '0x19': 471, '0x1a': 120, '0x1b': 43, '0x1c': 177, '0x1d': 158, '0x1e': 34, '0x1f': 15, '0x2': 169, '0x3': 120, '0x4': 40, '0x5': 112, '0x6': 271, '0x7': 284, '0x8': 52, '0x9': 297, '0xa': 125, '0xb': 48, '0xc': 82, '0xd': 772, '0xe': 300, '0xf': 130}), header=QobjExperimentHeader(clbit_labels=[['c1', 0], ['c1', 1], ['c1', 2], ['c1', 3], ['c1', 4]], creg_sizes=[['c1', 5]], global_phase=0.0, memory_slots=5, n_qubits=5, name=\"(('S0', 'S0', 'S0', 'S0', 'S3'), ('Z', 'Z', 'Z', 'Z', 'Z'))\", qreg_sizes=[['q', 5]], qubit_labels=[['q', 0], ['q', 1], ['q', 2], ['q', 3], ['q', 4]]), status=DONE, seed_simulator=1266112728, time_taken=0.0614361, metadata={'fusion': {'applied': False, 'enabled': True, 'method': 'unitary', 'threshold': 7}, 'measure_sampling': True, 'method': 'density_matrix', 'parallel_shots': 1, 'parallel_state_update': 8}), ExperimentResult(shots=8192, success=True, meas_level=MeasLevel.CLASSIFIED, data=ExperimentResultData(counts={'0x0': 157, '0x1': 387, '0x10': 167, '0x11': 341, '0x12': 611, '0x13': 151, '0x14': 100, '0x15': 227, '0x16': 473, '0x17': 229, '0x18': 322, '0x19': 644, '0x1a': 149, '0x1b': 24, '0x1c': 219, '0x1d': 730, '0x1e': 242, '0x1f': 70, '0x2': 1161, '0x3': 113, '0x4': 49, '0x5': 78, '0x6': 392, '0x7': 69, '0x8': 345, '0x9': 121, '0xa': 110, '0xb': 69, '0xc': 71, '0xd': 202, '0xe': 93, '0xf': 76}), header=QobjExperimentHeader(clbit_labels=[['c1', 0], ['c1', 1], ['c1', 2], ['c1', 3], ['c1', 4]], creg_sizes=[['c1', 5]], global_phase=0.0, memory_slots=5, n_qubits=5, name=\"(('S0', 'S0', 'S0', 'S0', 'S3'), ('Z', 'Z', 'Z', 'Z', 'X'))\", qreg_sizes=[['q', 5]], qubit_labels=[['q', 0], ['q', 1], ['q', 2], ['q', 3], ['q', 4]]), status=DONE, seed_simulator=381711875, time_taken=0.045582398, metadata={'fusion': {'applied': False, 'enabled': True, 'method': 'unitary', 'threshold': 7}, 'measure_sampling': True, 'method': 'density_matrix', 'parallel_shots': 1, 'parallel_state_update': 8}), ExperimentResult(shots=8192, success=True, meas_level=MeasLevel.CLASSIFIED, data=ExperimentResultData(counts={'0x0': 198, '0x1': 456, '0x10': 144, '0x11': 199, '0x12': 639, '0x13': 18, '0x14': 79, '0x15': 95, '0x16': 79, '0x17': 142, '0x18': 245, '0x19': 196, '0x1a': 26, '0x1b': 36, '0x1c': 85, '0x1d': 614, '0x1e': 126, '0x1f': 46, '0x2': 1164, '0x3': 239, '0x4': 59, '0x5': 244, '0x6': 723, '0x7': 186, '0x8': 433, '0x9': 573, '0xa': 221, '0xb': 69, '0xc': 194, '0xd': 373, '0xe': 191, '0xf': 100}), header=QobjExperimentHeader(clbit_labels=[['c1', 0], ['c1', 1], ['c1', 2], ['c1', 3], ['c1', 4]], creg_sizes=[['c1', 5]], global_phase=0.0, memory_slots=5, n_qubits=5, name=\"(('S0', 'S0', 'S0', 'S0', 'S3'), ('Z', 'Z', 'Z', 'Z', 'Y'))\", qreg_sizes=[['q', 5]], qubit_labels=[['q', 0], ['q', 1], ['q', 2], ['q', 3], ['q', 4]]), status=DONE, seed_simulator=705780921, time_taken=0.043550332000000004, metadata={'fusion': {'applied': False, 'enabled': True, 'method': 'unitary', 'threshold': 7}, 'measure_sampling': True, 'method': 'density_matrix', 'parallel_shots': 1, 'parallel_state_update': 8})], date=2022-09-16T14:23:32.330515, status=COMPLETED, status=QobjHeader(backend_name='qasm_simulator', backend_version='0.7.2'), metadata={'max_memory_mb': 16384, 'omp_enabled': True, 'parallel_experiments': 1, 'time_taken': 0.562177264}, time_taken=0.5681488513946533)]]\n"
     ]
    }
   ],
   "source": [
    "print(frag_data0)"
   ]
  },
  {
   "cell_type": "code",
   "execution_count": 30,
   "id": "ce843694",
   "metadata": {},
   "outputs": [
    {
     "name": "stdout",
     "output_type": "stream",
     "text": [
      "Job Status: job has successfully run\n"
     ]
    }
   ],
   "source": [
    "frag_data1 = ml.collect_fragment_raw_data(fragments[1], 1, wire_path_map,\n",
    "                                     shots = shots // total_variants,\n",
    "                                     tomography_backend = simulation_backend)"
   ]
  },
  {
   "cell_type": "code",
   "execution_count": 31,
   "id": "77ce4f90",
   "metadata": {},
   "outputs": [],
   "source": [
    "frag_targets = ml.identify_frag_targets(wire_path_map)"
   ]
  },
  {
   "cell_type": "code",
   "execution_count": 32,
   "id": "3cdf3511",
   "metadata": {},
   "outputs": [],
   "source": [
    "frag_data = [ ml.organize_tomography_data(frag_data0[0],\n",
    "                                      frag_targets[0].get(\"prep\"),\n",
    "                                      frag_targets[0].get(\"meas\"),\n",
    "                                      prep_basis = \"SIC\"),\n",
    "             ml.organize_tomography_data(frag_data1[0],\n",
    "                                      frag_targets[1].get(\"prep\"),\n",
    "                                      frag_targets[1].get(\"meas\"),\n",
    "                                      prep_basis = \"SIC\")]"
   ]
  },
  {
   "cell_type": "code",
   "execution_count": 33,
   "id": "8e4ada58",
   "metadata": {},
   "outputs": [
    {
     "data": {
      "text/plain": [
       "[{'0000': {(('S0',), ('Zp',)): 36,\n",
       "   (('S0',), ('Xp',)): 20,\n",
       "   (('S0',), ('Xm',)): 17,\n",
       "   (('S0',), ('Yp',)): 22,\n",
       "   (('S0',), ('Ym',)): 14,\n",
       "   (('S1',), ('Zp',)): 15,\n",
       "   (('S1',), ('Zm',)): 337,\n",
       "   (('S1',), ('Xp',)): 184,\n",
       "   (('S1',), ('Xm',)): 128,\n",
       "   (('S1',), ('Yp',)): 199,\n",
       "   (('S1',), ('Ym',)): 174,\n",
       "   (('S2',), ('Zp',)): 25,\n",
       "   (('S2',), ('Zm',)): 339,\n",
       "   (('S2',), ('Xp',)): 165,\n",
       "   (('S2',), ('Xm',)): 170,\n",
       "   (('S2',), ('Yp',)): 156,\n",
       "   (('S2',), ('Ym',)): 183,\n",
       "   (('S3',), ('Zp',)): 25,\n",
       "   (('S3',), ('Zm',)): 333,\n",
       "   (('S3',), ('Xp',)): 157,\n",
       "   (('S3',), ('Xm',)): 167,\n",
       "   (('S3',), ('Yp',)): 198,\n",
       "   (('S3',), ('Ym',)): 144,\n",
       "   (('S0',), ('Zm',)): 0},\n",
       "  '0001': {(('S0',), ('Zp',)): 123,\n",
       "   (('S0',), ('Zm',)): 4,\n",
       "   (('S0',), ('Xp',)): 57,\n",
       "   (('S0',), ('Xm',)): 61,\n",
       "   (('S0',), ('Yp',)): 62,\n",
       "   (('S0',), ('Ym',)): 45,\n",
       "   (('S1',), ('Zp',)): 61,\n",
       "   (('S1',), ('Zm',)): 556,\n",
       "   (('S1',), ('Xp',)): 445,\n",
       "   (('S1',), ('Xm',)): 238,\n",
       "   (('S1',), ('Yp',)): 299,\n",
       "   (('S1',), ('Ym',)): 349,\n",
       "   (('S2',), ('Zp',)): 61,\n",
       "   (('S2',), ('Zm',)): 605,\n",
       "   (('S2',), ('Xp',)): 255,\n",
       "   (('S2',), ('Xm',)): 412,\n",
       "   (('S2',), ('Yp',)): 317,\n",
       "   (('S2',), ('Ym',)): 364,\n",
       "   (('S3',), ('Zp',)): 74,\n",
       "   (('S3',), ('Zm',)): 600,\n",
       "   (('S3',), ('Xp',)): 387,\n",
       "   (('S3',), ('Xm',)): 341,\n",
       "   (('S3',), ('Yp',)): 456,\n",
       "   (('S3',), ('Ym',)): 199},\n",
       "  '0010': {(('S0',), ('Zm',)): 4,\n",
       "   (('S0',), ('Zp',)): 284,\n",
       "   (('S0',), ('Xm',)): 150,\n",
       "   (('S0',), ('Xp',)): 149,\n",
       "   (('S0',), ('Ym',)): 147,\n",
       "   (('S0',), ('Yp',)): 154,\n",
       "   (('S1',), ('Zm',)): 1655,\n",
       "   (('S1',), ('Zp',)): 178,\n",
       "   (('S1',), ('Xm',)): 851,\n",
       "   (('S1',), ('Xp',)): 995,\n",
       "   (('S1',), ('Ym',)): 1259,\n",
       "   (('S1',), ('Yp',)): 564,\n",
       "   (('S2',), ('Zm',)): 1654,\n",
       "   (('S2',), ('Zp',)): 172,\n",
       "   (('S2',), ('Xm',)): 1250,\n",
       "   (('S2',), ('Xp',)): 589,\n",
       "   (('S2',), ('Ym',)): 757,\n",
       "   (('S2',), ('Yp',)): 1067,\n",
       "   (('S3',), ('Zm',)): 1662,\n",
       "   (('S3',), ('Zp',)): 169,\n",
       "   (('S3',), ('Xm',)): 611,\n",
       "   (('S3',), ('Xp',)): 1161,\n",
       "   (('S3',), ('Ym',)): 639,\n",
       "   (('S3',), ('Yp',)): 1164},\n",
       "  '0011': {(('S0',), ('Zm',)): 8,\n",
       "   (('S0',), ('Zp',)): 317,\n",
       "   (('S0',), ('Xm',)): 183,\n",
       "   (('S0',), ('Xp',)): 164,\n",
       "   (('S0',), ('Ym',)): 174,\n",
       "   (('S0',), ('Yp',)): 202,\n",
       "   (('S1',), ('Zm',)): 121,\n",
       "   (('S1',), ('Zp',)): 128,\n",
       "   (('S1',), ('Xm',)): 31,\n",
       "   (('S1',), ('Xp',)): 200,\n",
       "   (('S1',), ('Ym',)): 161,\n",
       "   (('S1',), ('Yp',)): 94,\n",
       "   (('S2',), ('Zm',)): 139,\n",
       "   (('S2',), ('Zp',)): 107,\n",
       "   (('S2',), ('Xm',)): 192,\n",
       "   (('S2',), ('Xp',)): 61,\n",
       "   (('S2',), ('Ym',)): 177,\n",
       "   (('S2',), ('Yp',)): 64,\n",
       "   (('S3',), ('Zm',)): 131,\n",
       "   (('S3',), ('Zp',)): 120,\n",
       "   (('S3',), ('Xm',)): 151,\n",
       "   (('S3',), ('Xp',)): 113,\n",
       "   (('S3',), ('Ym',)): 18,\n",
       "   (('S3',), ('Yp',)): 239},\n",
       "  '0100': {(('S0',), ('Zm',)): 2,\n",
       "   (('S0',), ('Zp',)): 93,\n",
       "   (('S0',), ('Xm',)): 55,\n",
       "   (('S0',), ('Xp',)): 38,\n",
       "   (('S0',), ('Ym',)): 49,\n",
       "   (('S0',), ('Yp',)): 42,\n",
       "   (('S1',), ('Zm',)): 104,\n",
       "   (('S1',), ('Zp',)): 43,\n",
       "   (('S1',), ('Xm',)): 63,\n",
       "   (('S1',), ('Xp',)): 76,\n",
       "   (('S1',), ('Ym',)): 43,\n",
       "   (('S1',), ('Yp',)): 111,\n",
       "   (('S2',), ('Zm',)): 109,\n",
       "   (('S2',), ('Zp',)): 26,\n",
       "   (('S2',), ('Xm',)): 43,\n",
       "   (('S2',), ('Xp',)): 76,\n",
       "   (('S2',), ('Ym',)): 83,\n",
       "   (('S2',), ('Yp',)): 62,\n",
       "   (('S3',), ('Zm',)): 117,\n",
       "   (('S3',), ('Zp',)): 40,\n",
       "   (('S3',), ('Xm',)): 100,\n",
       "   (('S3',), ('Xp',)): 49,\n",
       "   (('S3',), ('Ym',)): 79,\n",
       "   (('S3',), ('Yp',)): 59},\n",
       "  '0101': {(('S0',), ('Zm',)): 1,\n",
       "   (('S0',), ('Zp',)): 285,\n",
       "   (('S0',), ('Xm',)): 123,\n",
       "   (('S0',), ('Xp',)): 158,\n",
       "   (('S0',), ('Ym',)): 136,\n",
       "   (('S0',), ('Yp',)): 143,\n",
       "   (('S1',), ('Zm',)): 198,\n",
       "   (('S1',), ('Zp',)): 111,\n",
       "   (('S1',), ('Xm',)): 53,\n",
       "   (('S1',), ('Xp',)): 234,\n",
       "   (('S1',), ('Ym',)): 119,\n",
       "   (('S1',), ('Yp',)): 220,\n",
       "   (('S2',), ('Zm',)): 219,\n",
       "   (('S2',), ('Zp',)): 94,\n",
       "   (('S2',), ('Xm',)): 141,\n",
       "   (('S2',), ('Xp',)): 158,\n",
       "   (('S2',), ('Ym',)): 265,\n",
       "   (('S2',), ('Yp',)): 48,\n",
       "   (('S3',), ('Zm',)): 194,\n",
       "   (('S3',), ('Zp',)): 112,\n",
       "   (('S3',), ('Xm',)): 227,\n",
       "   (('S3',), ('Xp',)): 78,\n",
       "   (('S3',), ('Ym',)): 95,\n",
       "   (('S3',), ('Yp',)): 244},\n",
       "  '0110': {(('S0',), ('Zm',)): 4,\n",
       "   (('S0',), ('Zp',)): 752,\n",
       "   (('S0',), ('Xm',)): 400,\n",
       "   (('S0',), ('Xp',)): 413,\n",
       "   (('S0',), ('Ym',)): 349,\n",
       "   (('S0',), ('Yp',)): 374,\n",
       "   (('S1',), ('Zm',)): 598,\n",
       "   (('S1',), ('Zp',)): 266,\n",
       "   (('S1',), ('Xm',)): 103,\n",
       "   (('S1',), ('Xp',)): 738,\n",
       "   (('S1',), ('Ym',)): 513,\n",
       "   (('S1',), ('Yp',)): 316,\n",
       "   (('S2',), ('Zm',)): 553,\n",
       "   (('S2',), ('Zp',)): 284,\n",
       "   (('S2',), ('Xm',)): 678,\n",
       "   (('S2',), ('Xp',)): 185,\n",
       "   (('S2',), ('Ym',)): 582,\n",
       "   (('S2',), ('Yp',)): 202,\n",
       "   (('S3',), ('Zm',)): 549,\n",
       "   (('S3',), ('Zp',)): 271,\n",
       "   (('S3',), ('Xm',)): 473,\n",
       "   (('S3',), ('Xp',)): 392,\n",
       "   (('S3',), ('Ym',)): 79,\n",
       "   (('S3',), ('Yp',)): 723},\n",
       "  '0111': {(('S0',), ('Zm',)): 13,\n",
       "   (('S0',), ('Zp',)): 870,\n",
       "   (('S0',), ('Xm',)): 446,\n",
       "   (('S0',), ('Xp',)): 457,\n",
       "   (('S0',), ('Ym',)): 420,\n",
       "   (('S0',), ('Yp',)): 459,\n",
       "   (('S1',), ('Zm',)): 56,\n",
       "   (('S1',), ('Zp',)): 289,\n",
       "   (('S1',), ('Xm',)): 116,\n",
       "   (('S1',), ('Xp',)): 244,\n",
       "   (('S1',), ('Ym',)): 96,\n",
       "   (('S1',), ('Yp',)): 247,\n",
       "   (('S2',), ('Zm',)): 47,\n",
       "   (('S2',), ('Zp',)): 286,\n",
       "   (('S2',), ('Xm',)): 153,\n",
       "   (('S2',), ('Xp',)): 153,\n",
       "   (('S2',), ('Ym',)): 231,\n",
       "   (('S2',), ('Yp',)): 92,\n",
       "   (('S3',), ('Zm',)): 48,\n",
       "   (('S3',), ('Zp',)): 284,\n",
       "   (('S3',), ('Xm',)): 229,\n",
       "   (('S3',), ('Xp',)): 69,\n",
       "   (('S3',), ('Ym',)): 142,\n",
       "   (('S3',), ('Yp',)): 186},\n",
       "  '1001': {(('S0',), ('Zm',)): 5,\n",
       "   (('S0',), ('Zp',)): 894,\n",
       "   (('S0',), ('Xm',)): 455,\n",
       "   (('S0',), ('Xp',)): 451,\n",
       "   (('S0',), ('Ym',)): 441,\n",
       "   (('S0',), ('Yp',)): 459,\n",
       "   (('S1',), ('Zm',)): 461,\n",
       "   (('S1',), ('Zp',)): 326,\n",
       "   (('S1',), ('Xm',)): 71,\n",
       "   (('S1',), ('Xp',)): 709,\n",
       "   (('S1',), ('Ym',)): 289,\n",
       "   (('S1',), ('Yp',)): 493,\n",
       "   (('S2',), ('Zm',)): 464,\n",
       "   (('S2',), ('Zp',)): 332,\n",
       "   (('S2',), ('Xm',)): 379,\n",
       "   (('S2',), ('Xp',)): 416,\n",
       "   (('S2',), ('Ym',)): 749,\n",
       "   (('S2',), ('Yp',)): 77,\n",
       "   (('S3',), ('Zm',)): 471,\n",
       "   (('S3',), ('Zp',)): 297,\n",
       "   (('S3',), ('Xm',)): 644,\n",
       "   (('S3',), ('Xp',)): 121,\n",
       "   (('S3',), ('Ym',)): 196,\n",
       "   (('S3',), ('Yp',)): 573},\n",
       "  '1010': {(('S0',), ('Zm',)): 3,\n",
       "   (('S0',), ('Zp',)): 373,\n",
       "   (('S0',), ('Xm',)): 191,\n",
       "   (('S0',), ('Xp',)): 190,\n",
       "   (('S0',), ('Ym',)): 179,\n",
       "   (('S0',), ('Yp',)): 174,\n",
       "   (('S1',), ('Zm',)): 131,\n",
       "   (('S1',), ('Zp',)): 105,\n",
       "   (('S1',), ('Xm',)): 29,\n",
       "   (('S1',), ('Xp',)): 231,\n",
       "   (('S1',), ('Ym',)): 146,\n",
       "   (('S1',), ('Yp',)): 104,\n",
       "   (('S2',), ('Zm',)): 143,\n",
       "   (('S2',), ('Zp',)): 129,\n",
       "   (('S2',), ('Xm',)): 197,\n",
       "   (('S2',), ('Xp',)): 44,\n",
       "   (('S2',), ('Ym',)): 185,\n",
       "   (('S2',), ('Yp',)): 73,\n",
       "   (('S3',), ('Zm',)): 120,\n",
       "   (('S3',), ('Zp',)): 125,\n",
       "   (('S3',), ('Xm',)): 149,\n",
       "   (('S3',), ('Xp',)): 110,\n",
       "   (('S3',), ('Ym',)): 26,\n",
       "   (('S3',), ('Yp',)): 221},\n",
       "  '1011': {(('S0',), ('Zm',)): 3,\n",
       "   (('S0',), ('Zp',)): 158,\n",
       "   (('S0',), ('Xm',)): 68,\n",
       "   (('S0',), ('Xp',)): 92,\n",
       "   (('S0',), ('Ym',)): 76,\n",
       "   (('S0',), ('Yp',)): 78,\n",
       "   (('S1',), ('Zm',)): 64,\n",
       "   (('S1',), ('Zp',)): 51,\n",
       "   (('S1',), ('Xm',)): 51,\n",
       "   (('S1',), ('Xp',)): 50,\n",
       "   (('S1',), ('Ym',)): 68,\n",
       "   (('S1',), ('Yp',)): 31,\n",
       "   (('S2',), ('Zm',)): 43,\n",
       "   (('S2',), ('Zp',)): 46,\n",
       "   (('S2',), ('Xm',)): 79,\n",
       "   (('S2',), ('Xp',)): 22,\n",
       "   (('S2',), ('Ym',)): 36,\n",
       "   (('S2',), ('Yp',)): 77,\n",
       "   (('S3',), ('Zm',)): 43,\n",
       "   (('S3',), ('Zp',)): 48,\n",
       "   (('S3',), ('Xm',)): 24,\n",
       "   (('S3',), ('Xp',)): 69,\n",
       "   (('S3',), ('Ym',)): 36,\n",
       "   (('S3',), ('Yp',)): 69},\n",
       "  '1100': {(('S0',), ('Zm',)): 1,\n",
       "   (('S0',), ('Zp',)): 241,\n",
       "   (('S0',), ('Xm',)): 100,\n",
       "   (('S0',), ('Xp',)): 128,\n",
       "   (('S0',), ('Ym',)): 113,\n",
       "   (('S0',), ('Yp',)): 133,\n",
       "   (('S1',), ('Zm',)): 181,\n",
       "   (('S1',), ('Zp',)): 76,\n",
       "   (('S1',), ('Xm',)): 63,\n",
       "   (('S1',), ('Xp',)): 244,\n",
       "   (('S1',), ('Ym',)): 81,\n",
       "   (('S1',), ('Yp',)): 192,\n",
       "   (('S2',), ('Zm',)): 189,\n",
       "   (('S2',), ('Zp',)): 80,\n",
       "   (('S2',), ('Xm',)): 122,\n",
       "   (('S2',), ('Xp',)): 154,\n",
       "   (('S2',), ('Ym',)): 214,\n",
       "   (('S2',), ('Yp',)): 57,\n",
       "   (('S3',), ('Zm',)): 177,\n",
       "   (('S3',), ('Zp',)): 82,\n",
       "   (('S3',), ('Xm',)): 219,\n",
       "   (('S3',), ('Xp',)): 71,\n",
       "   (('S3',), ('Ym',)): 85,\n",
       "   (('S3',), ('Yp',)): 194},\n",
       "  '1101': {(('S0',), ('Zm',)): 23,\n",
       "   (('S0',), ('Zp',)): 2294,\n",
       "   (('S0',), ('Xm',)): 1091,\n",
       "   (('S0',), ('Xp',)): 1177,\n",
       "   (('S0',), ('Ym',)): 1133,\n",
       "   (('S0',), ('Yp',)): 1208,\n",
       "   (('S1',), ('Zm',)): 166,\n",
       "   (('S1',), ('Zp',)): 740,\n",
       "   (('S1',), ('Xm',)): 433,\n",
       "   (('S1',), ('Xp',)): 479,\n",
       "   (('S1',), ('Ym',)): 120,\n",
       "   (('S1',), ('Yp',)): 809,\n",
       "   (('S2',), ('Zm',)): 148,\n",
       "   (('S2',), ('Zp',)): 760,\n",
       "   (('S2',), ('Xm',)): 180,\n",
       "   (('S2',), ('Xp',)): 735,\n",
       "   (('S2',), ('Ym',)): 642,\n",
       "   (('S2',), ('Yp',)): 295,\n",
       "   (('S3',), ('Zm',)): 158,\n",
       "   (('S3',), ('Zp',)): 772,\n",
       "   (('S3',), ('Xm',)): 730,\n",
       "   (('S3',), ('Xp',)): 202,\n",
       "   (('S3',), ('Ym',)): 614,\n",
       "   (('S3',), ('Yp',)): 373},\n",
       "  '1110': {(('S0',), ('Zm',)): 12,\n",
       "   (('S0',), ('Zp',)): 863,\n",
       "   (('S0',), ('Xm',)): 444,\n",
       "   (('S0',), ('Xp',)): 443,\n",
       "   (('S0',), ('Ym',)): 425,\n",
       "   (('S0',), ('Yp',)): 483,\n",
       "   (('S1',), ('Zm',)): 40,\n",
       "   (('S1',), ('Zp',)): 312,\n",
       "   (('S1',), ('Xm',)): 108,\n",
       "   (('S1',), ('Xp',)): 238,\n",
       "   (('S1',), ('Ym',)): 113,\n",
       "   (('S1',), ('Yp',)): 222,\n",
       "   (('S2',), ('Zm',)): 46,\n",
       "   (('S2',), ('Zp',)): 306,\n",
       "   (('S2',), ('Xm',)): 147,\n",
       "   (('S2',), ('Xp',)): 208,\n",
       "   (('S2',), ('Ym',)): 250,\n",
       "   (('S2',), ('Yp',)): 77,\n",
       "   (('S3',), ('Zm',)): 34,\n",
       "   (('S3',), ('Zp',)): 300,\n",
       "   (('S3',), ('Xm',)): 242,\n",
       "   (('S3',), ('Xp',)): 93,\n",
       "   (('S3',), ('Ym',)): 126,\n",
       "   (('S3',), ('Yp',)): 191},\n",
       "  '1111': {(('S0',), ('Zm',)): 4,\n",
       "   (('S0',), ('Zp',)): 411,\n",
       "   (('S0',), ('Xm',)): 188,\n",
       "   (('S0',), ('Xp',)): 187,\n",
       "   (('S0',), ('Ym',)): 175,\n",
       "   (('S0',), ('Yp',)): 206,\n",
       "   (('S1',), ('Zm',)): 26,\n",
       "   (('S1',), ('Zp',)): 135,\n",
       "   (('S1',), ('Xm',)): 34,\n",
       "   (('S1',), ('Xp',)): 89,\n",
       "   (('S1',), ('Ym',)): 80,\n",
       "   (('S1',), ('Yp',)): 67,\n",
       "   (('S2',), ('Zm',)): 19,\n",
       "   (('S2',), ('Zp',)): 126,\n",
       "   (('S2',), ('Xm',)): 94,\n",
       "   (('S2',), ('Xp',)): 63,\n",
       "   (('S2',), ('Ym',)): 94,\n",
       "   (('S2',), ('Yp',)): 64,\n",
       "   (('S3',), ('Zm',)): 15,\n",
       "   (('S3',), ('Zp',)): 130,\n",
       "   (('S3',), ('Xm',)): 70,\n",
       "   (('S3',), ('Xp',)): 76,\n",
       "   (('S3',), ('Ym',)): 46,\n",
       "   (('S3',), ('Yp',)): 100},\n",
       "  '1000': {(('S0',), ('Zp',)): 111,\n",
       "   (('S0',), ('Xm',)): 50,\n",
       "   (('S0',), ('Xp',)): 46,\n",
       "   (('S0',), ('Ym',)): 63,\n",
       "   (('S0',), ('Yp',)): 54,\n",
       "   (('S1',), ('Zm',)): 601,\n",
       "   (('S1',), ('Zp',)): 61,\n",
       "   (('S1',), ('Xm',)): 254,\n",
       "   (('S1',), ('Xp',)): 410,\n",
       "   (('S1',), ('Ym',)): 362,\n",
       "   (('S1',), ('Yp',)): 251,\n",
       "   (('S2',), ('Zm',)): 586,\n",
       "   (('S2',), ('Zp',)): 55,\n",
       "   (('S2',), ('Xm',)): 438,\n",
       "   (('S2',), ('Xp',)): 233,\n",
       "   (('S2',), ('Ym',)): 344,\n",
       "   (('S2',), ('Yp',)): 308,\n",
       "   (('S3',), ('Zm',)): 639,\n",
       "   (('S3',), ('Zp',)): 52,\n",
       "   (('S3',), ('Xm',)): 322,\n",
       "   (('S3',), ('Xp',)): 345,\n",
       "   (('S3',), ('Ym',)): 245,\n",
       "   (('S3',), ('Yp',)): 433,\n",
       "   (('S0',), ('Zm',)): 0}},\n",
       " {'00': {(('S0',), ('Zp',)): 3375,\n",
       "   (('S0',), ('Xp',)): 1708,\n",
       "   (('S0',), ('Xm',)): 1732,\n",
       "   (('S0',), ('Yp',)): 1720,\n",
       "   (('S0',), ('Ym',)): 1732,\n",
       "   (('S1',), ('Zp',)): 1139,\n",
       "   (('S1',), ('Zm',)): 456,\n",
       "   (('S1',), ('Xp',)): 854,\n",
       "   (('S1',), ('Xm',)): 818,\n",
       "   (('S1',), ('Yp',)): 90,\n",
       "   (('S1',), ('Ym',)): 1482,\n",
       "   (('S2',), ('Zp',)): 1165,\n",
       "   (('S2',), ('Zm',)): 455,\n",
       "   (('S2',), ('Xp',)): 142,\n",
       "   (('S2',), ('Xm',)): 1382,\n",
       "   (('S2',), ('Yp',)): 1112,\n",
       "   (('S2',), ('Ym',)): 467,\n",
       "   (('S3',), ('Zp',)): 1155,\n",
       "   (('S3',), ('Zm',)): 438,\n",
       "   (('S3',), ('Xp',)): 1417,\n",
       "   (('S3',), ('Xm',)): 200,\n",
       "   (('S3',), ('Yp',)): 1125,\n",
       "   (('S3',), ('Ym',)): 444,\n",
       "   (('S0',), ('Zm',)): 0},\n",
       "  '01': {(('S0',), ('Zm',)): 3486,\n",
       "   (('S0',), ('Xp',)): 1670,\n",
       "   (('S0',), ('Xm',)): 1726,\n",
       "   (('S0',), ('Yp',)): 1685,\n",
       "   (('S0',), ('Ym',)): 1744,\n",
       "   (('S1',), ('Zp',)): 408,\n",
       "   (('S1',), ('Zm',)): 1163,\n",
       "   (('S1',), ('Xp',)): 821,\n",
       "   (('S1',), ('Xm',)): 750,\n",
       "   (('S1',), ('Yp',)): 1582,\n",
       "   (('S1',), ('Ym',)): 90,\n",
       "   (('S2',), ('Zp',)): 447,\n",
       "   (('S2',), ('Zm',)): 1175,\n",
       "   (('S2',), ('Xp',)): 181,\n",
       "   (('S2',), ('Xm',)): 1489,\n",
       "   (('S2',), ('Yp',)): 455,\n",
       "   (('S2',), ('Ym',)): 1130,\n",
       "   (('S3',), ('Zp',)): 454,\n",
       "   (('S3',), ('Zm',)): 1130,\n",
       "   (('S3',), ('Xp',)): 1408,\n",
       "   (('S3',), ('Xm',)): 163,\n",
       "   (('S3',), ('Yp',)): 429,\n",
       "   (('S3',), ('Ym',)): 1143,\n",
       "   (('S0',), ('Zp',)): 0},\n",
       "  '10': {(('S0',), ('Zp',)): 675,\n",
       "   (('S0',), ('Xp',)): 330,\n",
       "   (('S0',), ('Xm',)): 336,\n",
       "   (('S0',), ('Yp',)): 313,\n",
       "   (('S0',), ('Ym',)): 354,\n",
       "   (('S1',), ('Zp',)): 200,\n",
       "   (('S1',), ('Zm',)): 2332,\n",
       "   (('S1',), ('Xp',)): 1271,\n",
       "   (('S1',), ('Xm',)): 1235,\n",
       "   (('S1',), ('Yp',)): 1945,\n",
       "   (('S1',), ('Ym',)): 540,\n",
       "   (('S2',), ('Zp',)): 223,\n",
       "   (('S2',), ('Zm',)): 2239,\n",
       "   (('S2',), ('Xp',)): 1861,\n",
       "   (('S2',), ('Xm',)): 659,\n",
       "   (('S2',), ('Yp',)): 898,\n",
       "   (('S2',), ('Ym',)): 1601,\n",
       "   (('S3',), ('Zp',)): 201,\n",
       "   (('S3',), ('Zm',)): 2313,\n",
       "   (('S3',), ('Xp',)): 663,\n",
       "   (('S3',), ('Xm',)): 1853,\n",
       "   (('S3',), ('Yp',)): 893,\n",
       "   (('S3',), ('Ym',)): 1649,\n",
       "   (('S0',), ('Zm',)): 0},\n",
       "  '11': {(('S0',), ('Zm',)): 656,\n",
       "   (('S0',), ('Xp',)): 336,\n",
       "   (('S0',), ('Xm',)): 354,\n",
       "   (('S0',), ('Yp',)): 332,\n",
       "   (('S0',), ('Ym',)): 312,\n",
       "   (('S1',), ('Zp',)): 2286,\n",
       "   (('S1',), ('Zm',)): 208,\n",
       "   (('S1',), ('Xp',)): 1230,\n",
       "   (('S1',), ('Xm',)): 1213,\n",
       "   (('S1',), ('Yp',)): 567,\n",
       "   (('S1',), ('Ym',)): 1896,\n",
       "   (('S2',), ('Zp',)): 2263,\n",
       "   (('S2',), ('Zm',)): 225,\n",
       "   (('S2',), ('Xp',)): 1845,\n",
       "   (('S2',), ('Xm',)): 633,\n",
       "   (('S2',), ('Yp',)): 1609,\n",
       "   (('S2',), ('Ym',)): 920,\n",
       "   (('S3',), ('Zp',)): 2286,\n",
       "   (('S3',), ('Zm',)): 215,\n",
       "   (('S3',), ('Xp',)): 596,\n",
       "   (('S3',), ('Xm',)): 1892,\n",
       "   (('S3',), ('Yp',)): 1591,\n",
       "   (('S3',), ('Ym',)): 918,\n",
       "   (('S0',), ('Zp',)): 0}}]"
      ]
     },
     "execution_count": 33,
     "metadata": {},
     "output_type": "execute_result"
    }
   ],
   "source": [
    "frag_data"
   ]
  },
  {
   "cell_type": "code",
   "execution_count": 34,
   "id": "99930b5d",
   "metadata": {},
   "outputs": [],
   "source": [
    "direct_models = ml.direct_fragment_model(frag_data)\n",
    "likely_models = ml.maximum_likelihood_model(direct_models)\n",
    "\n",
    "direct_recombined_dist = ml.recombine_fragment_models(direct_models, wire_path_map)\n",
    "likely_recombined_dist = ml.recombine_fragment_models(likely_models, wire_path_map)"
   ]
  },
  {
   "cell_type": "code",
   "execution_count": 35,
   "id": "b689bf9b",
   "metadata": {},
   "outputs": [
    {
     "data": {
      "text/plain": [
       "{'000000': 0.006954956015030401,\n",
       " '100000': 0.00042539017548521896,\n",
       " '001000': 0.025489928469809613,\n",
       " '101000': -0.0001350775979350406,\n",
       " '000001': 0.009739326724841705,\n",
       " '100001': 0.003131908288051551,\n",
       " '001001': 0.05222340379803184,\n",
       " '101001': 0.0002800782766060648,\n",
       " '000010': 0.00524105875902932,\n",
       " '100010': 0.004837951529954598,\n",
       " '001010': 0.1637920598106692,\n",
       " '101010': 0.0034520943097942508,\n",
       " '000011': 0.01549342347470805,\n",
       " '100011': 0.0002361784381979323,\n",
       " '001011': 0.015941446227290466,\n",
       " '101011': 0.00198662956785062,\n",
       " '010000': 0.008753960959414362,\n",
       " '110000': 0.000569201236817799,\n",
       " '011000': 0.0067160184354467375,\n",
       " '111000': -0.00024977668513193177,\n",
       " '010001': 0.021834674670293413,\n",
       " '110001': 0.0008663991791050099,\n",
       " '011001': 0.014214454343183558,\n",
       " '111001': 0.00014874704063206796,\n",
       " '010010': 0.03636423568348018,\n",
       " '110010': 0.0022602055282104267,\n",
       " '011010': 0.061407236892160835,\n",
       " '111010': 0.0008691109983927164,\n",
       " '010011': 0.050141151633417695,\n",
       " '110011': 0.0003480738910001949,\n",
       " '011011': 0.006653212197459751,\n",
       " '111011': -0.00034199736321688227,\n",
       " '000101': 0.06564595139105385,\n",
       " '100101': -0.00015199072909447638,\n",
       " '001101': 0.03145091490534765,\n",
       " '101101': 0.0024157187034052293,\n",
       " '000110': 0.017995026447917006,\n",
       " '100110': 3.329210394368414e-05,\n",
       " '001110': 0.01670439065694262,\n",
       " '101110': -8.60009440014982e-05,\n",
       " '000111': 0.006145003770663805,\n",
       " '100111': -2.3813693936238703e-05,\n",
       " '001111': 0.008015458469119155,\n",
       " '101111': -8.066769244720167e-05,\n",
       " '010100': 0.019560437926231463,\n",
       " '110100': 0.00024706375925003394,\n",
       " '011100': 0.012406653783264655,\n",
       " '111100': 0.0002556284010514899,\n",
       " '010101': 0.14814835594090342,\n",
       " '110101': 0.0003711910164771355,\n",
       " '011101': 0.00493463048619518,\n",
       " '111101': -0.0007826392295455728,\n",
       " '010110': 0.04998825578064908,\n",
       " '110110': 0.0006606933407027105,\n",
       " '011110': 0.005564425298869444,\n",
       " '111110': 0.0013588763927400284,\n",
       " '010111': 0.019645979572522395,\n",
       " '110111': -0.00038001933791371713,\n",
       " '011111': 0.006514953097312252,\n",
       " '111111': -0.0005150821321634506,\n",
       " '000100': 0.008570000669524562,\n",
       " '100100': 0.0017037708598003343,\n",
       " '001100': 0.053837704554157526,\n",
       " '101100': 0.00020017152297593317}"
      ]
     },
     "execution_count": 35,
     "metadata": {},
     "output_type": "execute_result"
    }
   ],
   "source": [
    "direct_recombined_dist"
   ]
  },
  {
   "cell_type": "code",
   "execution_count": 38,
   "id": "04be761c",
   "metadata": {},
   "outputs": [],
   "source": [
    "from utils.utils import filter_results"
   ]
  },
  {
   "cell_type": "code",
   "execution_count": 40,
   "id": "9df8b215",
   "metadata": {},
   "outputs": [],
   "source": [
    "filter_direct_recombined = filter_results(direct_recombined_dist, [0])"
   ]
  },
  {
   "cell_type": "code",
   "execution_count": 79,
   "id": "dda63bc4",
   "metadata": {},
   "outputs": [
    {
     "data": {
      "image/png": "[encoded data removed]",
      "text/plain": [
       "<Figure size 504x360 with 1 Axes>"
      ]
     },
     "execution_count": 79,
     "metadata": {},
     "output_type": "execute_result"
    },
    {
     "data": {
      "image/png": "[encoded data removed]",
      "text/plain": [
       "<Figure size 504x360 with 1 Axes>"
      ]
     },
     "metadata": {
      "needs_background": "light"
     },
     "output_type": "display_data"
    }
   ],
   "source": [
    "plot_histogram(filter_direct_recombined)"
   ]
  },
  {
   "cell_type": "code",
   "execution_count": 80,
   "id": "a88aa830",
   "metadata": {},
   "outputs": [
    {
     "data": {
      "image/png": "[encoded data removed]",
      "text/plain": [
       "<Figure size 504x360 with 1 Axes>"
      ]
     },
     "execution_count": 80,
     "metadata": {},
     "output_type": "execute_result"
    },
    {
     "data": {
      "image/png": "[encoded data removed]",
      "text/plain": [
       "<Figure size 504x360 with 1 Axes>"
      ]
     },
     "metadata": {
      "needs_background": "light"
     },
     "output_type": "display_data"
    }
   ],
   "source": [
    "plot_histogram(new_dict)"
   ]
  },
  {
   "cell_type": "code",
   "execution_count": 41,
   "id": "95574397",
   "metadata": {},
   "outputs": [
    {
     "data": {
      "text/plain": [
       "{'00000': 0.006935902636841608,\n",
       " '01000': 0.025420097798545697,\n",
       " '00001': 0.009712645452524296,\n",
       " '01001': 0.05208033570950337,\n",
       " '00010': 0.005226700670433265,\n",
       " '01010': 0.16334334495853356,\n",
       " '00011': 0.01545097862584563,\n",
       " '01011': 0.015897774002306086,\n",
       " '10000': 0.008729979135740827,\n",
       " '11000': 0.006697619636245573,\n",
       " '10001': 0.02177485771196567,\n",
       " '11001': 0.014175513281045606,\n",
       " '10010': 0.036264614415778926,\n",
       " '11010': 0.06123900932817529,\n",
       " '10011': 0.05000378795738171,\n",
       " '11011': 0.006634985458441627,\n",
       " '00101': 0.06546611170037661,\n",
       " '01101': 0.03136475387502911,\n",
       " '00110': 0.017945728358369276,\n",
       " '01110': 0.01665862831539621,\n",
       " '00111': 0.00612816928881216,\n",
       " '01111': 0.007993499802344175,\n",
       " '10100': 0.019506851329775428,\n",
       " '11100': 0.012372665262549484,\n",
       " '10101': 0.1477424976367402,\n",
       " '11101': 0.004921111870021011,\n",
       " '10110': 0.049851310968873346,\n",
       " '11110': 0.005549181334796411,\n",
       " '10111': 0.019592158631329435,\n",
       " '11111': 0.006497105124589337,\n",
       " '00100': 0.008546522812370356,\n",
       " '01100': 0.053690214024602764}"
      ]
     },
     "execution_count": 41,
     "metadata": {},
     "output_type": "execute_result"
    }
   ],
   "source": [
    "filter_direct_recombined"
   ]
  },
  {
   "cell_type": "code",
   "execution_count": 42,
   "id": "abb7b782",
   "metadata": {},
   "outputs": [],
   "source": [
    "filter_actual = filter_results(actual_dist, [0])"
   ]
  },
  {
   "cell_type": "code",
   "execution_count": 45,
   "id": "c2138c6d",
   "metadata": {},
   "outputs": [],
   "source": [
    "orign_qc_nomeas = QuantumCircuit.from_qasm_file(\"QAOA5q_nomeas.qasm\")"
   ]
  },
  {
   "cell_type": "code",
   "execution_count": 46,
   "id": "1137a62f",
   "metadata": {},
   "outputs": [],
   "source": [
    "# list of all possible measurement outcomes (bitstrings)\n",
    "all_bits_5q = [ \"\".join(bits) for bits in itertools.product([\"0\",\"1\"], repeat = 5) ]"
   ]
  },
  {
   "cell_type": "code",
   "execution_count": 47,
   "id": "09d38aa4",
   "metadata": {},
   "outputs": [],
   "source": [
    "actual_state = ml.get_statevector(orign_qc_nomeas)\n",
    "actual_dist = { \"\".join(bits) : abs(amp)**2\n",
    "                for bits, amp in zip(all_bits_5q, actual_state)\n",
    "                if amp != 0 }"
   ]
  },
  {
   "cell_type": "code",
   "execution_count": 48,
   "id": "ce360090",
   "metadata": {},
   "outputs": [
    {
     "data": {
      "text/plain": [
       "{'00000': 0.007053859412640273,\n",
       " '00001': 0.004726524422385898,\n",
       " '00010': 0.0024357597072877293,\n",
       " '00011': 0.01475918924081102,\n",
       " '00100': 0.004726524422385894,\n",
       " '00101': 0.06704352845719859,\n",
       " '00110': 0.01475918924081102,\n",
       " '00111': 0.003256936160782965,\n",
       " '01000': 0.016240348372834442,\n",
       " '01001': 0.05790699263044283,\n",
       " '01010': 0.17917017205066388,\n",
       " '01011': 0.014115777803086907,\n",
       " '01100': 0.05790699263044283,\n",
       " '01101': 0.0343952296516695,\n",
       " '01110': 0.014115777803086907,\n",
       " '01111': 0.007387197993469807,\n",
       " '10000': 0.007387197993469802,\n",
       " '10001': 0.014115777803086914,\n",
       " '10010': 0.03439522965166949,\n",
       " '10011': 0.0579069926304428,\n",
       " '10100': 0.014115777803086914,\n",
       " '10101': 0.17917017205066388,\n",
       " '10110': 0.0579069926304428,\n",
       " '10111': 0.01624034837283445,\n",
       " '11000': 0.003256936160782963,\n",
       " '11001': 0.014759189240811006,\n",
       " '11010': 0.06704352845719859,\n",
       " '11011': 0.004726524422385903,\n",
       " '11100': 0.014759189240811016,\n",
       " '11101': 0.0024357597072877375,\n",
       " '11110': 0.004726524422385909,\n",
       " '11111': 0.007053859412640266}"
      ]
     },
     "execution_count": 48,
     "metadata": {},
     "output_type": "execute_result"
    }
   ],
   "source": [
    "actual_dist"
   ]
  },
  {
   "cell_type": "code",
   "execution_count": 54,
   "id": "225a80c7",
   "metadata": {},
   "outputs": [
    {
     "name": "stdout",
     "output_type": "stream",
     "text": [
      "Job Status: job has successfully run\n"
     ]
    }
   ],
   "source": [
    "#unopt\n",
    "\n",
    "shots = 8192\n",
    "job = execute(orign_qc, backend=noisy_simulator, noise_model = noise_model,shots=shots)\n",
    "job_monitor(job)\n",
    "res = job.result()"
   ]
  },
  {
   "cell_type": "code",
   "execution_count": 56,
   "id": "e7ad86ea",
   "metadata": {},
   "outputs": [],
   "source": [
    "res_dict = res.get_counts()"
   ]
  },
  {
   "cell_type": "code",
   "execution_count": 57,
   "id": "dc523528",
   "metadata": {},
   "outputs": [],
   "source": [
    "new_dict = {}\n",
    "for i in res_dict.keys():\n",
    "    new_dict[i] = res_dict[i]/8192"
   ]
  },
  {
   "cell_type": "code",
   "execution_count": 83,
   "id": "53a46f05",
   "metadata": {},
   "outputs": [
    {
     "name": "stdout",
     "output_type": "stream",
     "text": [
      "Job Status: job has successfully run\n"
     ]
    }
   ],
   "source": [
    "\n",
    "#unopt\n",
    "\n",
    "shots = 8192\n",
    "job2 = execute(circuit, backend=noisy_simulator, noise_model = noise_model,shots=shots)\n",
    "job_monitor(job2)\n",
    "res2 = job2.result()"
   ]
  },
  {
   "cell_type": "code",
   "execution_count": 85,
   "id": "ca36df64",
   "metadata": {},
   "outputs": [],
   "source": [
    "res_dict2 = res2.get_counts()"
   ]
  },
  {
   "cell_type": "code",
   "execution_count": 86,
   "id": "9a3d30e2",
   "metadata": {},
   "outputs": [],
   "source": [
    "new_dict2 = {}\n",
    "for i in res_dict2.keys():\n",
    "    new_dict2[i] = res_dict2[i]/8192"
   ]
  },
  {
   "cell_type": "code",
   "execution_count": 87,
   "id": "976bad66",
   "metadata": {},
   "outputs": [
    {
     "data": {
      "text/plain": [
       "{'000000': 0.0091552734375,\n",
       " '000001': 0.0140380859375,\n",
       " '010000': 0.008544921875,\n",
       " '010001': 0.0250244140625,\n",
       " '010010': 0.0369873046875,\n",
       " '010011': 0.0517578125,\n",
       " '010100': 0.0194091796875,\n",
       " '010101': 0.1551513671875,\n",
       " '010110': 0.0465087890625,\n",
       " '010111': 0.019775390625,\n",
       " '011000': 0.0067138671875,\n",
       " '011001': 0.0126953125,\n",
       " '011010': 0.0606689453125,\n",
       " '011011': 0.0072021484375,\n",
       " '011100': 0.0152587890625,\n",
       " '011101': 0.0064697265625,\n",
       " '011110': 0.0064697265625,\n",
       " '011111': 0.0045166015625,\n",
       " '000010': 0.013916015625,\n",
       " '000011': 0.01611328125,\n",
       " '000100': 0.011962890625,\n",
       " '000101': 0.0650634765625,\n",
       " '000110': 0.0152587890625,\n",
       " '000111': 0.0062255859375,\n",
       " '001000': 0.0224609375,\n",
       " '001001': 0.0545654296875,\n",
       " '001010': 0.1630859375,\n",
       " '001011': 0.01806640625,\n",
       " '001100': 0.0487060546875,\n",
       " '001101': 0.0291748046875,\n",
       " '001110': 0.0194091796875,\n",
       " '001111': 0.0096435546875}"
      ]
     },
     "execution_count": 87,
     "metadata": {},
     "output_type": "execute_result"
    }
   ],
   "source": [
    "new_dict2"
   ]
  },
  {
   "cell_type": "code",
   "execution_count": 90,
   "id": "0ad85bc0",
   "metadata": {},
   "outputs": [],
   "source": [
    "orign_dict2 = filter_results(new_dict2, [0])"
   ]
  },
  {
   "cell_type": "code",
   "execution_count": 91,
   "id": "c6c52c07",
   "metadata": {},
   "outputs": [
    {
     "data": {
      "text/plain": [
       "{'00000': 0.0091552734375,\n",
       " '00001': 0.0140380859375,\n",
       " '10000': 0.008544921875,\n",
       " '10001': 0.0250244140625,\n",
       " '10010': 0.0369873046875,\n",
       " '10011': 0.0517578125,\n",
       " '10100': 0.0194091796875,\n",
       " '10101': 0.1551513671875,\n",
       " '10110': 0.0465087890625,\n",
       " '10111': 0.019775390625,\n",
       " '11000': 0.0067138671875,\n",
       " '11001': 0.0126953125,\n",
       " '11010': 0.0606689453125,\n",
       " '11011': 0.0072021484375,\n",
       " '11100': 0.0152587890625,\n",
       " '11101': 0.0064697265625,\n",
       " '11110': 0.0064697265625,\n",
       " '11111': 0.0045166015625,\n",
       " '00010': 0.013916015625,\n",
       " '00011': 0.01611328125,\n",
       " '00100': 0.011962890625,\n",
       " '00101': 0.0650634765625,\n",
       " '00110': 0.0152587890625,\n",
       " '00111': 0.0062255859375,\n",
       " '01000': 0.0224609375,\n",
       " '01001': 0.0545654296875,\n",
       " '01010': 0.1630859375,\n",
       " '01011': 0.01806640625,\n",
       " '01100': 0.0487060546875,\n",
       " '01101': 0.0291748046875,\n",
       " '01110': 0.0194091796875,\n",
       " '01111': 0.0096435546875}"
      ]
     },
     "execution_count": 91,
     "metadata": {},
     "output_type": "execute_result"
    }
   ],
   "source": [
    "orign_dict2"
   ]
  },
  {
   "cell_type": "code",
   "execution_count": 64,
   "id": "5288abfd",
   "metadata": {},
   "outputs": [],
   "source": [
    "def dict_to_list(dictionary, size):\n",
    "    ret_list = []\n",
    "    total = total_counts(dictionary)\n",
    "    format_str = '{0:0' + str(size) + 'b}'\n",
    "    for i in range(0, 2 ** size):\n",
    "        binary = format_str.format(i)\n",
    "        try:\n",
    "            ret_list.append(dictionary[binary]/total)\n",
    "        except:\n",
    "            ret_list.append(0.0)\n",
    "    return ret_list\n",
    "\n",
    "def H_distance(p, q):\n",
    "    # distance between p an d\n",
    "    # p and q are np array probability distributions\n",
    "    n = len(p)\n",
    "    sum = 0.0\n",
    "    for i in range(n):\n",
    "        sum += (np.sqrt(p[i]) - np.sqrt(q[i]))**2\n",
    "    result = (1.0 / np.sqrt(2.0)) * np.sqrt(sum)\n",
    "    return result"
   ]
  },
  {
   "cell_type": "code",
   "execution_count": 67,
   "id": "7e3e3916",
   "metadata": {},
   "outputs": [],
   "source": [
    "def total_counts(dictionary):\n",
    "    total = 0\n",
    "    for value in dictionary.values():\n",
    "        total += value\n",
    "    return total"
   ]
  },
  {
   "cell_type": "code",
   "execution_count": 72,
   "id": "d06c8e4c",
   "metadata": {},
   "outputs": [],
   "source": [
    "ideal = dict_to_list(actual_dist, 5)"
   ]
  },
  {
   "cell_type": "code",
   "execution_count": 70,
   "id": "ff0dc97b",
   "metadata": {},
   "outputs": [],
   "source": [
    "pauli = dict_to_list(filter_direct_recombined, 5)"
   ]
  },
  {
   "cell_type": "code",
   "execution_count": 71,
   "id": "df104688",
   "metadata": {},
   "outputs": [],
   "source": [
    "orign = dict_to_list(new_dict, 5)"
   ]
  },
  {
   "cell_type": "code",
   "execution_count": 92,
   "id": "1065a73a",
   "metadata": {},
   "outputs": [],
   "source": [
    "orign2 = dict_to_list(orign_dict2, 5)"
   ]
  },
  {
   "cell_type": "code",
   "execution_count": 76,
   "id": "ffbfbbd5",
   "metadata": {},
   "outputs": [
    {
     "data": {
      "text/plain": [
       "0.0"
      ]
     },
     "execution_count": 76,
     "metadata": {},
     "output_type": "execute_result"
    }
   ],
   "source": [
    "H_distance(ideal,ideal)"
   ]
  },
  {
   "cell_type": "code",
   "execution_count": 93,
   "id": "e81fa5b0",
   "metadata": {},
   "outputs": [
    {
     "data": {
      "text/plain": [
       "0.09552368927275055"
      ]
     },
     "execution_count": 93,
     "metadata": {},
     "output_type": "execute_result"
    }
   ],
   "source": [
    "H_distance(orign2, ideal)"
   ]
  },
  {
   "cell_type": "code",
   "execution_count": 77,
   "id": "be882ced",
   "metadata": {},
   "outputs": [
    {
     "data": {
      "text/plain": [
       "0.08704751935405523"
      ]
     },
     "execution_count": 77,
     "metadata": {},
     "output_type": "execute_result"
    }
   ],
   "source": [
    "H_distance(orign, ideal)"
   ]
  },
  {
   "cell_type": "code",
   "execution_count": 78,
   "id": "c18c5625",
   "metadata": {},
   "outputs": [
    {
     "data": {
      "text/plain": [
       "0.06896081133377463"
      ]
     },
     "execution_count": 78,
     "metadata": {},
     "output_type": "execute_result"
    }
   ],
   "source": [
    "H_distance(pauli, ideal)"
   ]
  },
  {
   "cell_type": "code",
   "execution_count": 62,
   "id": "ae26acad",
   "metadata": {},
   "outputs": [],
   "source": [
    "def naive_fix(dist):\n",
    "    norm = sum( value for value in dist.values() if value >= 0 )\n",
    "    return { bits : value / norm for bits, value in dist.items() if value >= 0 }\n",
    "\n",
    "direct_recombined_dist = naive_fix(filter_direct_recombined)\n",
    "\n",
    "def fidelity(dist):\n",
    "    fidelity = sum( numpy.sqrt(actual_dist[bits] * dist[bits], dtype = complex)\n",
    "                    for bits in all_bits\n",
    "                    if actual_dist.get(bits) and dist.get(bits) )**2\n",
    "    return fidelity.real if fidelity.imag == 0 else fidelity"
   ]
  },
  {
   "cell_type": "code",
   "execution_count": 63,
   "id": "08c1b5d3",
   "metadata": {},
   "outputs": [
    {
     "name": "stdout",
     "output_type": "stream",
     "text": [
      "'direct' distribution fidelity: 0\n",
      "'likely' distribution fidelity: 0\n",
      "full circuit fidelity: 0\n"
     ]
    }
   ],
   "source": [
    "direct_fidelity = fidelity(filter_direct_recombined)\n",
    "likely_fidelity = fidelity(likely_recombined_dist)\n",
    "full_circuit_fidelity = fidelity(full_circuit_dist)\n",
    "print(\"'direct' distribution fidelity:\", direct_fidelity)\n",
    "print(\"'likely' distribution fidelity:\", likely_fidelity)\n",
    "print(\"full circuit fidelity:\", full_circuit_fidelity)"
   ]
  },
  {
   "cell_type": "code",
   "execution_count": 37,
   "id": "2655b1f3",
   "metadata": {},
   "outputs": [
    {
     "name": "stdout",
     "output_type": "stream",
     "text": [
      "'direct' distribution fidelity: 0.9641783427074918\n",
      "'likely' distribution fidelity: 0.9542470241232749\n",
      "full circuit fidelity: 0.9999706627626875\n"
     ]
    }
   ],
   "source": [
    "# if qubits <= 5:\n",
    "#     print()\n",
    "#     print(\"actual probability distribution:\")\n",
    "#     for bits in all_bits:\n",
    "#         try: print(bits, actual_dist[bits])\n",
    "#         except: None\n",
    "\n",
    "#     print()\n",
    "#     print(\"'direct' recombined probability distribution:\")\n",
    "#     for bits in all_bits:\n",
    "#         try: print(bits, direct_recombined_dist[bits])\n",
    "#         except: None\n",
    "\n",
    "#     print()\n",
    "#     print(\"'likely' recombined probability distribution:\")\n",
    "#     for bits in all_bits:\n",
    "#         try: print(bits, likely_recombined_dist[bits])\n",
    "#         except: None\n",
    "\n",
    "#     print()\n",
    "#     print(\"full circuit probability distribution:\")\n",
    "#     for bits in all_bits:\n",
    "#         try: print(bits, full_circuit_dist[bits])\n",
    "#         except: None\n",
    "\n",
    "# print()\n",
    "\n",
    "def naive_fix(dist):\n",
    "    norm = sum( value for value in dist.values() if value >= 0 )\n",
    "    return { bits : value / norm for bits, value in dist.items() if value >= 0 }\n",
    "\n",
    "direct_recombined_dist = naive_fix(direct_recombined_dist)\n",
    "\n",
    "def fidelity(dist):\n",
    "    fidelity = sum( numpy.sqrt(actual_dist[bits] * dist[bits], dtype = complex)\n",
    "                    for bits in all_bits\n",
    "                    if actual_dist.get(bits) and dist.get(bits) )**2\n",
    "    return fidelity.real if fidelity.imag == 0 else fidelity\n",
    "\n",
    "direct_fidelity = fidelity(direct_recombined_dist)\n",
    "likely_fidelity = fidelity(likely_recombined_dist)\n",
    "full_circuit_fidelity = fidelity(full_circuit_dist)\n",
    "print(\"'direct' distribution fidelity:\", direct_fidelity)\n",
    "print(\"'likely' distribution fidelity:\", likely_fidelity)\n",
    "print(\"full circuit fidelity:\", full_circuit_fidelity)\n",
    "\n",
    "\n"
   ]
  },
  {
   "cell_type": "code",
   "execution_count": null,
   "id": "573a14c1",
   "metadata": {},
   "outputs": [],
   "source": []
  },
  {
   "cell_type": "code",
   "execution_count": null,
   "id": "db65d8c4",
   "metadata": {},
   "outputs": [],
   "source": []
  },
  {
   "cell_type": "code",
   "execution_count": null,
   "id": "29dbbc7a",
   "metadata": {},
   "outputs": [],
   "source": []
  },
  {
   "cell_type": "code",
   "execution_count": null,
   "id": "885a8632",
   "metadata": {},
   "outputs": [],
   "source": []
  }
 ],
 "metadata": {
  "kernelspec": {
   "display_name": "Python 3 (ipykernel)",
   "language": "python",
   "name": "python3"
  },
  "language_info": {
   "codemirror_mode": {
    "name": "ipython",
    "version": 3
   },
   "file_extension": ".py",
   "mimetype": "text/x-python",
   "name": "python",
   "nbconvert_exporter": "python",
   "pygments_lexer": "ipython3",
   "version": "3.7.11"
  }
 },
 "nbformat": 4,
 "nbformat_minor": 5
}
